{
  "nbformat": 4,
  "nbformat_minor": 0,
  "metadata": {
    "colab": {
      "provenance": [],
      "authorship_tag": "ABX9TyNf6vVulQUevi1fmb+i4KeY",
      "include_colab_link": true
    },
    "kernelspec": {
      "name": "python3",
      "display_name": "Python 3"
    },
    "language_info": {
      "name": "python"
    }
  },
  "cells": [
    {
      "cell_type": "markdown",
      "metadata": {
        "id": "view-in-github",
        "colab_type": "text"
      },
      "source": [
        "<a href=\"https://colab.research.google.com/github/jayendra-edu/jayendra-edu/blob/main/EDA_Assignment_Questions.ipynb\" target=\"_parent\"><img src=\"https://colab.research.google.com/assets/colab-badge.svg\" alt=\"Open In Colab\"/></a>"
      ]
    },
    {
      "cell_type": "markdown",
      "source": [
        "EDA - 1"
      ],
      "metadata": {
        "id": "207-o6hCsVaY"
      }
    },
    {
      "cell_type": "markdown",
      "source": [
        "The dataset provided focuses on used bikes, capturing various attributes to analyze the second-hand bike\n",
        "market. This dataset helps understand factors influencing resale prices, usage patterns, and market trends for\n",
        "used bikes.\n",
        "\n",
        "Bike Details Dataset\n",
        "\n",
        "\n",
        " =name: Brand and model name of the bike (Categorical, e.g., \"Royal Enfield Classic 350\", \"Honda Dio\")Z\n",
        " selling_price: Listed selling price in INR (Numeric, e.g., 175000, 45000)Z\n",
        " year: Manufacturing year of the bike (Numeric, e.g., 2019, 2015)Z\n",
        " seller_type: Seller category, either \"Individual\" or \"Dealer\" (Categorical)Z\n",
        " owner: Ownership history, e.g., \"1st owner\", \"2nd owner\" (Categorical)Z\n",
        " km_driven: Total kilometers driven (Numeric, in km, e.g., 12000, 23000)Z\n",
        " ex_showroom_price: Original showroom price in INR (Numeric, e.g., 148114.0, 89643.0, etc,.).\n",
        "Source:\n",
        "\n",
        "The dataset is available on Kaggle, simulating data commonly observed in real-world online bike resale\n",
        "platforms.\n",
        "\n",
        "\n",
        "Description:\n",
        "\n",
        "The dataset comprises 1061 records of used bike listings. These records include details about the bike's brand\n",
        "and model, selling price, kilometers driven, ownership history, and other attributes. It is particularly useful for\n",
        "resale value prediction, market analysis, and understanding buyer preferences.\n",
        "\n",
        "\n",
        "The dataset consists of 7 features, combining both numeric and categorical data, offering a comprehensive"
      ],
      "metadata": {
        "id": "RtqGd9K5YSGh"
      }
    },
    {
      "cell_type": "markdown",
      "source": [
        "1. What is the range of selling prices in the dataset ?"
      ],
      "metadata": {
        "id": "NwPluWDKYadA"
      }
    },
    {
      "cell_type": "markdown",
      "source": [
        "\n",
        "Answer: The range of selling prices can be calculated as:\n",
        "Maximum Selling Price: (e.g., 175000 INR)\n",
        "Minimum Selling Price: (e.g., 45000 INR)\n",
        "Range: Maximum Selling Price - Minimum Selling Price = 175000 - 45000 = 130000 INR."
      ],
      "metadata": {
        "id": "s0wLZaPJbVu4"
      }
    },
    {
      "cell_type": "markdown",
      "source": [
        "2. What is the median selling price for bikes in the dataset?"
      ],
      "metadata": {
        "id": "BBxKfET3bg63"
      }
    },
    {
      "cell_type": "markdown",
      "source": [
        "The median selling price can be calculated using the dataset. For example, if the sorted list of selling prices is [45000, 50000, ..., 175000], the median would be the middle value. (You would need to compute this using the dataset)."
      ],
      "metadata": {
        "id": "C6lY2BArbhAP"
      }
    },
    {
      "cell_type": "markdown",
      "source": [
        "3. What is the most common seller type?"
      ],
      "metadata": {
        "id": "iRiUbSgYbhDR"
      }
    },
    {
      "cell_type": "markdown",
      "source": [
        "Answer: The most common seller type can be determined by counting occurrences of each type (Individual vs. Dealer). For example, if \"Individual\" appears 700 times and \"Dealer\" appears 361 times, then the most common seller type is Individual."
      ],
      "metadata": {
        "id": "vruz8VTjbhHQ"
      }
    },
    {
      "cell_type": "markdown",
      "source": [
        "4. How many bikes have driven more than 50,000 kilometers?\n"
      ],
      "metadata": {
        "id": "ZP0vTwNSbhOH"
      }
    },
    {
      "cell_type": "markdown",
      "source": [
        "Answer: Count the number of records where km_driven > 50000. For example, if there are 300 such records, then 300 bikes have driven more than 50,000 kilometers."
      ],
      "metadata": {
        "id": "zaFWZ9FLbhRr"
      }
    },
    {
      "cell_type": "markdown",
      "source": [
        "5. What is the average km_driven value for each ownership type?"
      ],
      "metadata": {
        "id": "ofBUjOYzbhVS"
      }
    },
    {
      "cell_type": "markdown",
      "source": [
        "Answer: Calculate the average km_driven for each ownership type (e.g., 1st owner, 2nd owner). For example:\n",
        "1st Owner: 20000 km\n",
        "2nd Owner: 30000 km\n",
        "Average km_driven values would be:\n",
        "1st Owner: 20000 km\n",
        "2nd Owner: 30000 km"
      ],
      "metadata": {
        "id": "YUMTwgXiczOG"
      }
    },
    {
      "cell_type": "markdown",
      "source": [
        "6. What proportion of bikes are from the year 2015 or older?"
      ],
      "metadata": {
        "id": "Tkr5F1pHc6Gv"
      }
    },
    {
      "cell_type": "markdown",
      "source": [
        "Answer: Calculate the proportion by counting the number of bikes manufactured in 2015 or earlier and dividing by the total number of bikes. For example, if 400 bikes are from 2015 or older:\n",
        "Proportion = 400 / 1061 = 0.377 or 37.7%."
      ],
      "metadata": {
        "id": "A2ilSrBJdBfn"
      }
    },
    {
      "cell_type": "markdown",
      "source": [
        "7. What is the trend of missing values across the dataset?"
      ],
      "metadata": {
        "id": "Ar1swoNldLju"
      }
    },
    {
      "cell_type": "markdown",
      "source": [
        "Answer: Analyze the dataset for missing values in each column. For example:\n",
        "name: 0 missing\n",
        "selling_price: 0 missing\n",
        "year: 5 missing\n",
        "seller_type: 0 missing\n",
        "owner: 0 missing\n",
        "km_driven: 2 missing\n",
        "ex_showroom_price: 0 missing\n",
        "Trend: Most columns have no missing values, with a few exceptions."
      ],
      "metadata": {
        "id": "xM6waIJFdRn3"
      }
    },
    {
      "cell_type": "markdown",
      "source": [
        "8. What is the highest ex_showroom_price recorded, and for which bike?"
      ],
      "metadata": {
        "id": "YTZyLdo6dUBW"
      }
    },
    {
      "cell_type": "markdown",
      "source": [
        "Answer: Identify the maximum value in the ex_showroom_price column. For example, if the highest value is 148114.0 for the bike \"Royal Enfield Classic 350\", then:\n",
        "Highest ex_showroom_price: 148114.0 INR for Royal Enfield Classic 350."
      ],
      "metadata": {
        "id": "FPb_hUdhdedH"
      }
    },
    {
      "cell_type": "markdown",
      "source": [
        "9. What is the total number of bikes listed by each seller type?"
      ],
      "metadata": {
        "id": "6Vys3bNadgO1"
      }
    },
    {
      "cell_type": "markdown",
      "source": [
        "Answer: Count the number of bikes for each seller type. For example:\n",
        "Individual: 700\n",
        "Dealer: 361\n",
        "Total:\n",
        "Individual: 700 bikes\n",
        "Dealer: 361 bikes"
      ],
      "metadata": {
        "id": "EASIGaLzdoFm"
      }
    },
    {
      "cell_type": "markdown",
      "source": [
        "10. What is the relationship between selling_price and km_driven for first-owner bikes?"
      ],
      "metadata": {
        "id": "lGrW9oEWdrvX"
      }
    },
    {
      "cell_type": "markdown",
      "source": [
        "Answer: Analyze the correlation between selling_price and km_driven for bikes where owner is \"1st owner\". For example, you might find a negative correlation indicating that as km_driven increases, selling_price tends to decrease."
      ],
      "metadata": {
        "id": "9EXWvPbJd05F"
      }
    },
    {
      "cell_type": "markdown",
      "source": [
        "11. Identify and remove outliers in the km_driven column using the IQR method."
      ],
      "metadata": {
        "id": "SU26rlE0eC5G"
      }
    },
    {
      "cell_type": "markdown",
      "source": [
        "Answer: Calculate the IQR (Interquartile Range) for km_driven and identify outliers. For example:\n",
        "Q1 = 12000, Q3 = 50000, IQR = Q3 - Q1 = 38000.\n",
        "Outliers are values below Q1 - 1.5IQR or above Q3 + 1.5IQR."
      ],
      "metadata": {
        "id": "fTjcIKP5eLi1"
      }
    },
    {
      "cell_type": "markdown",
      "source": [
        "12. Perform a bivariate analysis to visualize the relationship between year and selling_price."
      ],
      "metadata": {
        "id": "tw1fRzXveRdd"
      }
    },
    {
      "cell_type": "markdown",
      "source": [
        "Answer: Create a scatter plot or line graph to visualize how selling_price changes with year. For example, you might observe"
      ],
      "metadata": {
        "id": "kIWij5i7eWzN"
      }
    },
    {
      "cell_type": "markdown",
      "source": [
        "13. What is the average depreciation in selling price based on the bike's age (current year - manufacturing year)?"
      ],
      "metadata": {
        "id": "us5Qw0a7eucG"
      }
    },
    {
      "cell_type": "markdown",
      "source": [
        "Answer:\n",
        "To calculate average depreciation, first determine the age of each bike: [ \\text{Age} = \\text{Current Year} - \\text{Manufacturing Year} ]\n",
        "Then, calculate the average selling price for each age group and find the depreciation per year. For example:\n",
        "If the average selling price for 1-year-old bikes is 150000 INR and for 5-year-old bikes is 80000 INR, the average depreciation could be calculated as: [ \\text{Average Depreciation} = \\frac{(150000 - 80000)}{5} = 10000 \\text{ INR per year} ]"
      ],
      "metadata": {
        "id": "Boiol70uewcG"
      }
    },
    {
      "cell_type": "markdown",
      "source": [
        "14. Which bike names are priced significantly above the average price for their manufacturing year?"
      ],
      "metadata": {
        "id": "TAAIUq1ye3M4"
      }
    },
    {
      "cell_type": "markdown",
      "source": [
        "Answer:\n",
        "Calculate the average selling price for each manufacturing year. Then, identify bikes whose selling price is significantly above this average (e.g., more than 20% above the average). For example:\n",
        "If the average price for 2019 bikes is 120000 INR, then bikes priced above 144000 INR (20% above) would be considered significantly above average.\n",
        "Example bikes:\n",
        "\"Royal Enfield Classic 350\" - 175000 INR\n",
        "\"Honda CB Shine\" - 150000 INR"
      ],
      "metadata": {
        "id": "OF7pSeY-e5N-"
      }
    },
    {
      "cell_type": "markdown",
      "source": [
        "15. Develop a Correlation Matrix for Numeric Columns and Visualize it Using a Heatmap"
      ],
      "metadata": {
        "id": "doyRzPDvfSZl"
      }
    },
    {
      "cell_type": "markdown",
      "source": [
        "Steps to Create a Correlation Matrix and Heatmap:\n",
        "\n",
        "Identify Numeric Columns:\n",
        "\n",
        "From the dataset, identify the numeric columns that you want to include in the correlation matrix. In the context of the used bike dataset, these typically include:\n",
        "selling_price\n",
        "km_driven\n",
        "ex_showroom_price\n",
        "Calculate the Correlation Matrix:\n",
        "\n",
        "Use statistical methods to compute the correlation coefficients between the numeric columns. The correlation coefficient values range from -1 to 1:\n",
        "1 indicates a perfect positive correlation.\n",
        "-1 indicates a perfect negative correlation.\n",
        "0 indicates no correlation.\n",
        "Visualize the Correlation Matrix:\n",
        "\n",
        "Create a heatmap to visualize the correlation matrix. The heatmap will use color gradients to represent the strength and direction of the correlations:\n",
        "Positive correlations will be shown in one color (e.g., shades of blue).\n",
        "Negative correlations will be shown in another color (e.g., shades of red).\n",
        "The intensity of the color will indicate the strength of the correlation.\n",
        "Interpret the Heatmap:\n",
        "\n",
        "Analyze the heatmap to identify strong correlations:\n",
        "For example, if selling_price has a strong positive correlation with ex_showroom_price, it suggests that as the showroom price increases, the selling price also tends to increase.\n",
        "Conversely, if km_driven shows a strong negative correlation with selling_price, it indicates that higher kilometers driven may lead to lower selling prices.\n",
        "Example Insights from the Correlation Matrix\n",
        "Strong Positive Correlation:\n",
        "selling_price and ex_showroom_price (indicating that higher original prices lead to higher resale values).\n",
        "Strong Negative Correlation:\n",
        "km_driven and selling_price (indicating that as the kilometers driven increases, the selling price tends to decrease)."
      ],
      "metadata": {
        "id": "EFaACpcufYod"
      }
    },
    {
      "cell_type": "markdown",
      "source": [
        "EDA -  2 The dataset provided focuses on used car sales, capturing various attributes to analyze the second-hand car\n",
        "market. This dataset provides insights into factors affecting resale value, trends in the used car industry, and\n",
        "consumer behavior.\n",
        "\n",
        " Car Sales\n",
        "\n",
        "Source:\n",
        "\n",
        "The dataset is available on Kaggle, representing data commonly seen in online car resale platforms.\n",
        "\n",
        "\n",
        "Description:\n",
        "\n",
        "The dataset contains details about used cars listed for sale, such as brand, model, selling price, kilometers\n",
        "driven, fuel type, and transmission type. This information is valuable for predictive modeling, market analysis,and understanding customer preferences."
      ],
      "metadata": {
        "id": "0KXxY1RogK6u"
      }
    },
    {
      "cell_type": "markdown",
      "source": [
        "Car_id: A unique identifier for each car in the dataset, helping to track individual car entries\u0014\n",
        "\u000f Date: The date when the car sale transaction took place, formatted as YYYY-MM-DD\u0014\n",
        "\u000f Customer Name: The name of the customer who purchased the car, represented as a string\u0014\n",
        "\u000f Gender: The gender of the customer, categorized as \"Male\" or \"Female.\u0013\n",
        "\u000f Annual Income: The customer's annual income in US dollars, represented as a numeric value\u0014\n",
        "\u000f Dealer_Name: The name of the dealership selling the car, represented as a string\u0014\n",
        "\u000f Company: The manufacturer or brand name of the car, such as \"Toyota,\" \"Ford,\" etc\u0014\n",
        "\u000f Model: The specific model name of the car, such as \"Corolla,\" \"Civic,\" etc\u0014\n",
        "\u000f Engine: The engine type of the car, such as \"V6,\" \"I4,\" etc\u0014\n",
        "\u000f Transmission: The type of transmission in the car, either \"Manual\" or \"Automatic.\u0013\n",
        "\u000f Color: The color of the car, represented as a string (e.g., \"Red,\" \"Blue\")\u0014\n",
        "\u000f Price ($): The selling price of the car in US dollars\u0014\n",
        "\u000f Dealer_No: A unique identifier for each car dealer in the dataset\u0014\n",
        "\u000f Body Style: The body style of the car, such as \"Sedan,\" \"SUV,\" etc\u0014\n",
        "\u000f Phone: The phone number of the customer who purchased the car\u0014\n",
        "\u000f Dealer_Region: The geographical region of the car dealer, such as \"North,\" \"South,\" etc."
      ],
      "metadata": {
        "id": "pcK4mfvbgSJ0"
      }
    },
    {
      "cell_type": "markdown",
      "source": [
        "1. What is the average selling price of cars for each dealer, and how does it compare across different dealers?\n",
        "\n"
      ],
      "metadata": {
        "id": "785Dh1Hugrt8"
      }
    },
    {
      "cell_type": "markdown",
      "source": [
        "Answer: Calculate the average selling price for each dealer. For example:\n",
        "Dealer A: $20,000\n",
        "Dealer B: $25,000\n",
        "Dealer C: $22,500\n",
        "This shows how prices vary among dealers."
      ],
      "metadata": {
        "id": "4qRKHU73gzWs"
      }
    },
    {
      "cell_type": "markdown",
      "source": [
        "2. Which car brand (Company) has the highest variation in prices, and what does this tell us about the pricing trends?"
      ],
      "metadata": {
        "id": "CfXt6d0Rg2jM"
      }
    },
    {
      "cell_type": "markdown",
      "source": [
        "Answer: Identify the brand with the highest standard deviation in prices. For example:\n",
        "Brand X: High variation indicates a wide range of models and features, appealing to different customer segments."
      ],
      "metadata": {
        "id": "UjF1w7uTg-nM"
      }
    },
    {
      "cell_type": "markdown",
      "source": [
        "3. What is the distribution of car prices for each transmission type, and how do the interquartile ranges compare?"
      ],
      "metadata": {
        "id": "zvMvYQlyhC5E"
      }
    },
    {
      "cell_type": "markdown",
      "source": [
        "Answer: Create box plots for car prices based on transmission type (Manual vs. Automatic). For example:\n",
        "Manual: Prices range from $15,000 to $30,000\n",
        "Automatic: Prices range from $18,000 to $35,000\n",
        "Compare the interquartile ranges to see which transmission type has more price variability."
      ],
      "metadata": {
        "id": "PKRFEsfChFhD"
      }
    },
    {
      "cell_type": "markdown",
      "source": [
        "4 What is the distribution of car prices across different regions?"
      ],
      "metadata": {
        "id": "X1ITUCBshPMN"
      }
    },
    {
      "cell_type": "markdown",
      "source": [
        "Answer: Use a bar chart to show average prices by region. For example:\n",
        "North: $22,000\n",
        "South: $24,000\n",
        "East: $20,000\n",
        "West: $26,000\n",
        "This helps identify regional pricing trends."
      ],
      "metadata": {
        "id": "dRZMCWyChXUg"
      }
    },
    {
      "cell_type": "markdown",
      "source": [
        "5. What is the distribution of cars based on body styles?"
      ],
      "metadata": {
        "id": "bYsw2eG6hfIE"
      }
    },
    {
      "cell_type": "markdown",
      "source": [
        "Answer: Create a pie chart or bar graph showing the number of cars for each body style (e.g., Sedan, SUV, Hatchback). For example:\n",
        "Sedan: 40%\n",
        "SUV: 35%\n",
        "Hatchback: 25%\n",
        "This indicates the popularity of different body styles."
      ],
      "metadata": {
        "id": "vEx3NAuzhgxb"
      }
    },
    {
      "cell_type": "markdown",
      "source": [
        "6. How does the average selling price of cars vary by customer gender and annual income?"
      ],
      "metadata": {
        "id": "BS6w1ly3hpGr"
      }
    },
    {
      "cell_type": "markdown",
      "source": [
        "Answer: Analyze average prices across income brackets. For example:\n",
        "Low Income: $15,000\n",
        "Middle Income: $22,000\n",
        "High Income: $30,000\n",
        "Higher income brackets generally lead to higher car prices.\n"
      ],
      "metadata": {
        "id": "DswZ4Rdzhwzl"
      }
    },
    {
      "cell_type": "markdown",
      "source": [
        "7. What are the top 5 car models with the highest number of sales, and how does their price distribution look?"
      ],
      "metadata": {
        "id": "ibz1eNWphyD8"
      }
    },
    {
      "cell_type": "markdown",
      "source": [
        "Answer: Identify the top-selling models and their average prices. For example:\n",
        "Model A: 300 sales, Average Price $20,000\n",
        "Model B: 250 sales, Average Price $22,000\n",
        "Model C: 200 sales, Average Price $18,000\n",
        "This indicates popular models and their pricing."
      ],
      "metadata": {
        "id": "Urn4wwW9h5D7"
      }
    },
    {
      "cell_type": "markdown",
      "source": [
        "8. How does car price vary with engine size across different car colors, and which colors have the highest price variation?"
      ],
      "metadata": {
        "id": "HiWTv6Keh6dc"
      }
    },
    {
      "cell_type": "markdown",
      "source": [
        "Answer: Create a scatter plot to show price vs. engine size, colored by car color. For example:\n",
        "Red cars may have a higher average price than blue cars.\n",
        "Identify colors with the most price variation."
      ],
      "metadata": {
        "id": "6hTUL9RPiAMl"
      }
    },
    {
      "cell_type": "markdown",
      "source": [
        "9. Is there any seasonal trend in car sales based on the date of sale?"
      ],
      "metadata": {
        "id": "2XNA-n-MiBhc"
      }
    },
    {
      "cell_type": "markdown",
      "source": [
        "Answer: Analyze sales data by month or quarter. For example:\n",
        "Sales peak in June and December, indicating seasonal buying trends."
      ],
      "metadata": {
        "id": "3aTSpX7IiJ-c"
      }
    },
    {
      "cell_type": "markdown",
      "source": [
        "10. How does the car price distribution change when considering different combinations of body style and transmission type"
      ],
      "metadata": {
        "id": "g3l8BtEmiiw8"
      }
    },
    {
      "cell_type": "markdown",
      "source": [
        "To analyze how car price distribution changes based on different combinations of body style and transmission type, we can follow these key points:\n",
        "\n",
        "Data Segmentation:\n",
        "\n",
        "Body Styles: Common categories include Sedan, SUV, Hatchback, etc.\n",
        "Transmission Types: Typically categorized as Manual and Automatic.\n",
        "Price Distribution Analysis:\n",
        "\n",
        "For each combination of body style and transmission type, calculate the average price and visualize the distribution using box plots or violin plots. This will help in understanding the spread and central tendency of prices.\n",
        "Example Findings:\n",
        "\n",
        "Sedan - Manual:\n",
        "Average Price: $18,000\n",
        "Price Range: $15,000 - $22,000\n",
        "Distribution: Relatively narrow, indicating consistent pricing.\n",
        "Sedan - Automatic:\n",
        "Average Price: $20,000\n",
        "Price Range: $17,000 - $25,000\n",
        "Distribution: Slightly wider than Manual, indicating a premium for automatic transmission.\n",
        "SUV - Manual:\n",
        "Average Price: $25,000\n",
        "Price Range: $22,000 - $30,000\n",
        "Distribution: Higher average price, reflecting the popularity and demand for SUVs.\n",
        "SUV - Automatic:\n",
        "Average Price: $28,000\n",
        "Price Range: $24,000 - $35,000\n",
        "Distribution: The highest average price among combinations, indicating that consumers are willing to pay more for the convenience of automatic transmission in SUVs.\n",
        "Visual Representation:\n",
        "\n",
        "Create visualizations (e.g., box plots) to show the price distributions for each combination. This will highlight:\n",
        "The median price for each category.\n",
        "The interquartile range (IQR) to show variability.\n",
        "Any potential outliers in the data.\n",
        "Conclusion:\n",
        "\n",
        "The analysis reveals that:\n",
        "SUVs generally command higher prices compared to Sedans, regardless of transmission type.\n",
        "Automatic transmissions tend to have higher average prices than Manual transmissions across all body styles.\n",
        "Understanding these trends can help dealerships and manufacturers tailor their offerings and pricing strategies to meet consumer preferences."
      ],
      "metadata": {
        "id": "uMnBEt1Qitsr"
      }
    },
    {
      "cell_type": "markdown",
      "source": [
        "14. How does the car price distribution change when considering different combinations of body style and transmission type?"
      ],
      "metadata": {
        "id": "W2yjTRhQi59T"
      }
    },
    {
      "cell_type": "markdown",
      "source": [
        "Answer:\n",
        "Create a grouped analysis or a box plot to visualize car prices based on combinations of body style (e.g., Sedan, SUV, Hatchback) and transmission type (Manual, Automatic).\n",
        "For example:\n",
        "Sedan - Manual: Average Price $18,000\n",
        "Sedan - Automatic: Average Price $20,000\n",
        "SUV - Manual: Average Price $25,000\n",
        "SUV - Automatic: Average Price $28,000\n",
        "This analysis shows how different combinations affect pricing, indicating that SUVs with automatic transmission tend to be priced higher."
      ],
      "metadata": {
        "id": "5lK1LpI8i7H9"
      }
    },
    {
      "cell_type": "markdown",
      "source": [
        "15. What is the correlation between car price, engine size, and annual income of customers, and how do these features interact?\n"
      ],
      "metadata": {
        "id": "Wu95ffbFjAQT"
      }
    },
    {
      "cell_type": "markdown",
      "source": [
        "Answer:\n",
        "Calculate the correlation coefficients between car price, engine size, and annual income. For example:\n",
        "Car Price and Engine Size: Strong positive correlation (e.g., 0.75), indicating that larger engines generally lead to higher prices.\n",
        "Car Price and Annual Income: Moderate positive correlation (e.g., 0.60), suggesting that higher income customers tend to buy more expensive cars.\n",
        "Use scatter plots to visualize these relationships, showing how these features interact. For instance, larger engine sizes may be more common in higher-priced cars."
      ],
      "metadata": {
        "id": "rwGgjZ_rjKYT"
      }
    },
    {
      "cell_type": "markdown",
      "source": [
        "16. How does the average car price vary across different car models and engine types?"
      ],
      "metadata": {
        "id": "ZuYG6w7TjPGj"
      }
    },
    {
      "cell_type": "markdown",
      "source": [
        "Answer:\n",
        "Calculate the average price for each car model and categorize them by engine type. For example:\n",
        "Model A (1.0L): Average Price $18,000\n",
        "Model A (1.5L): Average Price $22,000\n",
        "Model B (2.0L): Average Price $30,000\n",
        "Model C (1.5L): Average Price $25,000\n",
        "This analysis shows that cars with larger engine types generally have higher average prices, and it highlights which models are more expensive based on their engine specifications."
      ],
      "metadata": {
        "id": "aMd18yP3jWI8"
      }
    },
    {
      "cell_type": "markdown",
      "source": [
        "EDA- 3"
      ],
      "metadata": {
        "id": "zrgFdosHjfgU"
      }
    },
    {
      "cell_type": "markdown",
      "source": [
        "Amazon Sales Data\n",
        "\n",
        "\n",
        "Description:\n",
        "\n",
        "This dataset contains information on 1K+ Amazon products, including their ratings, reviews, and other details.\n",
        "\n",
        "\n",
        "\n",
        "Features:\n",
        "\n",
        "product_id: Unique identifier for each product\n",
        "\n",
        "product_name: Name of the product\n",
        "\n",
        "category: Category of the product\n",
        "\n",
        "discounted_price: Discounted price of the product\n",
        "\n",
        "actual_price: Actual price of the product\n",
        "\n",
        "discount_percentage: Percentage of discount for the product\n",
        "\n",
        "rating: Rating of the product (1-5)\n",
        "\n",
        "rating_count: Number of people who voted for the Amazon rating\n",
        "\n",
        "about_product: Description about the product\n",
        "\n",
        "user_id: ID of the user who wrote the review\n",
        "\n",
        "user_name: Name of the user who wrote the review\n",
        "\n",
        "review_id: ID of the user review\n",
        "\n",
        "review_title: Short review\n",
        "\n",
        "review_content: Long review\n",
        "\n",
        "img_link: Image link of the product\n",
        "\n",
        "product_link: Official website link of the product"
      ],
      "metadata": {
        "id": "eHnw4BgujfcV"
      }
    },
    {
      "cell_type": "markdown",
      "source": [
        "1. What is the average rating for each product category?\n",
        "\n"
      ],
      "metadata": {
        "id": "4gZ-WWAJmioT"
      }
    },
    {
      "cell_type": "markdown",
      "source": [
        "Answer:\n",
        "Calculate the average rating for each category. For example:\n",
        "Computers & Accessories: Average Rating 4.2\n",
        "Electronics: Average Rating 4.0\n",
        "Accessories: Average Rating 4.3\n",
        "This shows how different categories are rated on average.\n"
      ],
      "metadata": {
        "id": "tpx4UW_Mmnsi"
      }
    },
    {
      "cell_type": "markdown",
      "source": [
        "2. What are the top rating_count products by category?\n",
        "\n"
      ],
      "metadata": {
        "id": "Gt4AjsBwmsRC"
      }
    },
    {
      "cell_type": "markdown",
      "source": [
        "Answer:\n",
        "Identify products with the highest rating counts within each category. For example:\n",
        "Computers & Accessories:\n",
        "Product A: 24,269 ratings\n",
        "Product B: 15,000 ratings\n",
        "Electronics:\n",
        "Product C: 30,000 ratings\n",
        "Product D: 20,000 ratings\n",
        "This indicates which products are most frequently rated.\n"
      ],
      "metadata": {
        "id": "l5j7ips2m1Ny"
      }
    },
    {
      "cell_type": "markdown",
      "source": [
        "3. What is the distribution of discounted prices vs. actual prices?\n",
        "\n",
        "Answer:\n",
        "Create a visual representation (e.g., a bar chart) comparing discounted prices to actual prices. For example:\n",
        "Discounted Price: ₹399\n",
        "Actual Price: ₹1,099\n",
        "This helps visualize how much products are discounted compared to their original prices."
      ],
      "metadata": {
        "id": "1C2GSDrhm7Xz"
      }
    },
    {
      "cell_type": "markdown",
      "source": [
        "4. How does the average discount percentage vary across categories?"
      ],
      "metadata": {
        "id": "b-SLHC6im9_q"
      }
    },
    {
      "cell_type": "markdown",
      "source": [
        "Answer:\n",
        "Calculate the average discount percentage for each category. For example:\n",
        "Computers & Accessories: Average Discount 64%\n",
        "Electronics: Average Discount 50%\n",
        "Accessories: Average Discount 43%\n",
        "This shows which categories offer the highest discounts."
      ],
      "metadata": {
        "id": "GR4BM16AnLS7"
      }
    },
    {
      "cell_type": "markdown",
      "source": [
        "5. What are the most popular product names?\n",
        "\n"
      ],
      "metadata": {
        "id": "CYnUngJknbvr"
      }
    },
    {
      "cell_type": "markdown",
      "source": [
        "Answer:\n",
        "Identify the product names with the highest sales or ratings. For example:\n",
        "Product A: \"Wayona Nylon Braided USB Cable\"\n",
        "Product B: \"Ambrane Unbreakable Charging Cable\"\n",
        "This indicates which products are most favored by customers.\n"
      ],
      "metadata": {
        "id": "AdgIN0tunf1q"
      }
    },
    {
      "cell_type": "markdown",
      "source": [
        "6. What are the most popular product keywords?"
      ],
      "metadata": {
        "id": "QF87yh44nkfJ"
      }
    },
    {
      "cell_type": "markdown",
      "source": [
        "Answer:\n",
        "Analyze the keywords in product names and descriptions to find the most common ones. For example:\n",
        "\"Charging Cable\"\n",
        "\"Fast Charging\"\n",
        "\"USB Type-C\"\n",
        "This helps understand what features customers are looking for."
      ],
      "metadata": {
        "id": "29jpIxAbnnrx"
      }
    },
    {
      "cell_type": "markdown",
      "source": [
        "7. What are the most popular product reviews?"
      ],
      "metadata": {
        "id": "viBy2-IwnrmR"
      }
    },
    {
      "cell_type": "markdown",
      "source": [
        "Answer:\n",
        "Identify the reviews with the highest ratings or most helpful votes. For example:\n",
        "\"Excellent product, highly recommend!\"\n",
        "\"Value for money, works as expected.\"\n",
        "This indicates customer satisfaction and product performance."
      ],
      "metadata": {
        "id": "RAZuYo3knxMp"
      }
    },
    {
      "cell_type": "markdown",
      "source": [
        "8. What is the correlation between discounted_price and rating?"
      ],
      "metadata": {
        "id": "ksDWnTgPn45b"
      }
    },
    {
      "cell_type": "markdown",
      "source": [
        "Answer:\n",
        "Calculate the correlation coefficient between discounted_price and rating. For example:\n",
        "If the correlation is -0.5, it suggests that as the discounted price increases, the rating tends to decrease, indicating a potential inverse relationship."
      ],
      "metadata": {
        "id": "sm8doedfn-cj"
      }
    },
    {
      "cell_type": "markdown",
      "source": [
        "9. What are the Top 5 categories based on the highest ratings?"
      ],
      "metadata": {
        "id": "tUnxGoa1oQur"
      }
    },
    {
      "cell_type": "markdown",
      "source": [
        "Identify the top categories with the highest average ratings. For example:\n",
        "Category A: Average Rating 4.5\n",
        "Category B: Average Rating 4.4\n",
        "Category C: Average Rating 4.3\n",
        "Category D: Average Rating 4.2\n",
        "Category E: Average Rating 4.1\n",
        "This shows which categories are most highly rated."
      ],
      "metadata": {
        "id": "6oeqr8b-oGk0"
      }
    },
    {
      "cell_type": "markdown",
      "source": [
        "10. Identify any potential areas for improvement or optimization based on the data analysis."
      ],
      "metadata": {
        "id": "T4NS-f0_oZXJ"
      }
    },
    {
      "cell_type": "markdown",
      "source": [
        "Answer:\n",
        "Improvement Areas:\n",
        "Product Quality: If certain products have low ratings, investigate quality issues and improve them.\n",
        "Pricing Strategy: If discounts are not leading to higher sales, consider adjusting pricing strategies.\n",
        "Customer Feedback: Analyze popular reviews to identify common customer concerns and address them.\n",
        "Marketing Focus: Use popular keywords to enhance product descriptions and marketing efforts.\n",
        "Category Expansion: If certain categories show high ratings and demand, consider expanding the product range in those areas.\n"
      ],
      "metadata": {
        "id": "3x064bDmocYZ"
      }
    },
    {
      "cell_type": "markdown",
      "source": [
        "EDA -4\n"
      ],
      "metadata": {
        "id": "97dGJRDUo0Tw"
      }
    },
    {
      "cell_type": "markdown",
      "source": [
        "Description of the Dataset:\n",
        "\n",
        "The dataset titled \"Spotify Data: Popular Hip-hop Artists and Tracks\" provides a curated collection of\n",
        "approximately 500 entries showcasing the vibrant realm of hip-hop music. These entries meticulously compile\n",
        "the most celebrated hip-hop tracks and artists, reflecting their significant influence on the genre's landscape.\n",
        "Each entry not only highlights the popularity and musical composition of the tracks but also underscores the\n",
        "creative prowess of the artists and their profound impact on global listeners.\n",
        "\n",
        "\n",
        "Application in Data Science:\n",
        "\n",
        "This dataset serves as a valuable resource for various data science explorations. Analysts can delve into trend\n",
        "analysis to discern the popularity dynamics of hit hip-hop tracks over recent years. Additionally, the dataset\n",
        "enables network analysis to uncover collaborative patterns among top artists, shedding light on the genre's\n",
        "evolving collaborative landscape. Furthermore, it facilitates the development of predictive models aimed at\n",
        "forecasting track popularity based on diverse features, offering insights for artists, producers, and marketers.\n",
        "Column Descriptors:\n",
        "\n",
        "\n",
        "Artist: The name of the artist, providing direct attribution to the creative mind behind the track.\n",
        "\n",
        "Track Name: The title of the track, encapsulating its identity and essence.\n",
        "\n",
        "Popularity: A numeric score reflecting the track's reception and appeal among Spotify listeners.\n",
        "\n",
        "Duration (ms): The track's length in milliseconds, detailing the temporal extent of the musical experience.\n",
        "\n",
        "Track ID: A unique identifier within Spotify's ecosystem, enabling direct access to the track for further exploration .\n"
      ],
      "metadata": {
        "id": "1sKVVZXko3jZ"
      }
    },
    {
      "cell_type": "markdown",
      "source": [
        "1. Read the dataframe, check for null values if present, then do the needful;check for duplicate rows, if present, then do the needful"
      ],
      "metadata": {
        "id": "nOeDljZNqXRQ"
      }
    },
    {
      "cell_type": "markdown",
      "source": [
        "Answer:\n",
        "Load the DataFrame and check for null values using methods like isnull() and sum(). If null values are found, handle them by either filling them with appropriate values (e.g., mean, median) or dropping the rows/columns.\n",
        "Check for duplicate rows using duplicated() and remove them if present to ensure data integrity."
      ],
      "metadata": {
        "id": "5dyzzXNgqhbg"
      }
    },
    {
      "cell_type": "markdown",
      "source": [
        "2. What is the distribution of popularity among the tracks in the dataset? Visualize it using a histogram.\n",
        "\n"
      ],
      "metadata": {
        "id": "V885hrpJqlI5"
      }
    },
    {
      "cell_type": "markdown",
      "source": [
        "Answer:\n",
        "Create a histogram to visualize the distribution of the popularity scores. You might find that most tracks have a popularity score between 50 and 80, indicating a concentration of popular tracks in that range."
      ],
      "metadata": {
        "id": "aUcYPWQ3qrwY"
      }
    },
    {
      "cell_type": "markdown",
      "source": [
        "3. Is there any relationship between the popularity and the duration of tracks? Explore this using a scatter plot.\n",
        "\n"
      ],
      "metadata": {
        "id": "njJWLY1zqvxw"
      }
    },
    {
      "cell_type": "markdown",
      "source": [
        "Answer:\n",
        "Create a scatter plot with duration on the x-axis and popularity on the y-axis. You may observe a trend where tracks of certain durations (e.g., 3 to 4 minutes) tend to have higher popularity scores, while very short or very long tracks may be less popular."
      ],
      "metadata": {
        "id": "6w0qhGoxq1Jo"
      }
    },
    {
      "cell_type": "markdown",
      "source": [
        "4. Which artist has the highest number of tracks in the dataset? Display the count of tracks for each artist using a count plot"
      ],
      "metadata": {
        "id": "q22P2wRbq5jv"
      }
    },
    {
      "cell_type": "markdown",
      "source": [
        "Answer:\n",
        "Count the number of tracks for each artist. For example, if Artist A has 50 tracks, Artist B has 40 tracks, and Artist C has 30 tracks, then Artist A is the most prolific in this dataset. A count plot can visually represent this data."
      ],
      "metadata": {
        "id": "Ex3SUuldrBE_"
      }
    },
    {
      "cell_type": "markdown",
      "source": [
        "5. What are the top 5 least popular tracks in the dataset? Provide the artist name and track name for each."
      ],
      "metadata": {
        "id": "2Q685_s3rCXL"
      }
    },
    {
      "cell_type": "markdown",
      "source": [
        "Answer:\n",
        "Identify the tracks with the lowest popularity scores. For example:\n",
        "Track 1: \"Track Name 1\" by Artist A (Popularity: 10)\n",
        "Track 2: \"Track Name 2\" by Artist B (Popularity: 12)\n",
        "Track 3: \"Track Name 3\" by Artist C (Popularity: 15)\n",
        "Track 4: \"Track Name 4\" by Artist D (Popularity: 18)\n",
        "Track 5: \"Track Name 5\" by Artist E (Popularit"
      ],
      "metadata": {
        "id": "ws8wEaVErJCJ"
      }
    },
    {
      "cell_type": "markdown",
      "source": [
        "6. Among the top 5 most popular artists, which artist has the highest popularity on average? Calculate and display the average popularity for each artist.\n",
        "\n"
      ],
      "metadata": {
        "id": "sob3iNayrMmx"
      }
    },
    {
      "cell_type": "markdown",
      "source": [
        "Answer:\n",
        "Calculate the average popularity for the top 5 artists based on the number of tracks. For example:\n",
        "Artist A: Average Popularity 75\n",
        "Artist B: Average Popularity 80\n",
        "Artist C: Average Popularity 70\n",
        "Artist D: Average Popularity 85\n",
        "Artist E: Average Popularity 90\n",
        "Artist E has the highest average popularity.\n"
      ],
      "metadata": {
        "id": "XlYuy6KlrRFg"
      }
    },
    {
      "cell_type": "markdown",
      "source": [
        "7. For the top 5 most popular artists, what are their most popular tracks? List the track name for each artis"
      ],
      "metadata": {
        "id": "-7edOCXhrUko"
      }
    },
    {
      "cell_type": "markdown",
      "source": [
        "Answer:\n",
        "Identify the most popular track for each of the top 5 artists. For example:\n",
        "Artist A: \"Most Popular Track 1\" (Popularity: 95)\n",
        "Artist B: \"Most Popular Track 2\" (Popularity: 90)\n",
        "Artist C: \"Most Popular Track 3\" (Popularity: 85)\n",
        "Artist D: \"Most Popular Track 4\" (Popularity: 88)\n",
        "Artist E: \"Most Popular Track 5\" (Popularity: 100)"
      ],
      "metadata": {
        "id": "d6HQ_omlrcww"
      }
    },
    {
      "cell_type": "markdown",
      "source": [
        "8. Visualize relationships between multiple numerical variables simultaneously using a pair plot."
      ],
      "metadata": {
        "id": "Ei9JDvuKrmcg"
      }
    },
    {
      "cell_type": "markdown",
      "source": [
        "Answer:\n",
        "Create a pair plot to visualize relationships between variables such as popularity, duration, and track_id. This will help identify any correlations or patterns among these features.\n"
      ],
      "metadata": {
        "id": "8EnUd2-irr8C"
      }
    },
    {
      "cell_type": "markdown",
      "source": [
        "9. Does the duration of tracks vary significantly across different artists? Explore this visually using a box plot or violin plot"
      ],
      "metadata": {
        "id": "vpnklWC_r0Bn"
      }
    },
    {
      "cell_type": "markdown",
      "source": [
        "Answer:\n",
        "Use a box plot or violin plot to show the distribution of track durations for each artist. For example, you may find that some artists have longer average track durations compared to others, indicating different styles or genres."
      ],
      "metadata": {
        "id": "pgoDr_w3r5Kp"
      }
    },
    {
      "cell_type": "markdown",
      "source": [
        "10. How does the distribution of track popularity vary for different artists? Visualize this using a swarm plot or a violin plot"
      ],
      "metadata": {
        "id": "CHhDM4gIr8rQ"
      }
    },
    {
      "cell_type": "markdown",
      "source": [
        "Answer:\n",
        "Use a swarm plot or violin plot to visualize the distribution of"
      ],
      "metadata": {
        "id": "yMbVCz_IsEWQ"
      }
    },
    {
      "cell_type": "code",
      "source": [],
      "metadata": {
        "id": "KnEHXfGprkyo"
      },
      "execution_count": null,
      "outputs": []
    }
  ]
}