{
  "nbformat": 4,
  "nbformat_minor": 0,
  "metadata": {
    "colab": {
      "provenance": [],
      "authorship_tag": "ABX9TyO1u4cB1I6fDCGzU8JG5Wrr",
      "include_colab_link": true
    },
    "kernelspec": {
      "name": "python3",
      "display_name": "Python 3"
    },
    "language_info": {
      "name": "python"
    }
  },
  "cells": [
    {
      "cell_type": "markdown",
      "metadata": {
        "id": "view-in-github",
        "colab_type": "text"
      },
      "source": [
        "<a href=\"https://colab.research.google.com/github/jayendra-edu/jayendra-edu/blob/main/Decision_tree.ipynb\" target=\"_parent\"><img src=\"https://colab.research.google.com/assets/colab-badge.svg\" alt=\"Open In Colab\"/></a>"
      ]
    },
    {
      "cell_type": "markdown",
      "source": [],
      "metadata": {
        "id": "HU7YogLLhBca"
      }
    },
    {
      "cell_type": "markdown",
      "source": [
        "1.What is a Decision Tree, and how does it work"
      ],
      "metadata": {
        "id": "8ajkZXMnhBeF"
      }
    },
    {
      "cell_type": "markdown",
      "source": [
        "A Decision Tree is a popular machine learning algorithm used for both classification and regression tasks. It is a tree-like model that makes decisions based on a series of questions or conditions about the input features. The structure of a Decision Tree consists of nodes, branches, and leaves:\n",
        "\n",
        "Nodes: Each internal node represents a feature (or attribute) of the dataset. It is where a decision is made based on the value of that feature.\n",
        "\n",
        "Branches: The branches represent the outcome of the decision made at the node. They lead to other nodes or to the final output.\n",
        "\n",
        "Leaves: The leaf nodes represent the final output or decision (class label in classification tasks or a continuous value in regression tasks).\n",
        "\n",
        "How Decision Trees Work:\n",
        "Splitting: The process begins at the root node, where the algorithm evaluates the features of the dataset to determine the best way to split the data. The goal is to create subsets of the data that are as homogeneous as possible with respect to the target variable. Various criteria can be used for splitting, such as:\n",
        "\n",
        "Gini Impurity: Measures the impurity of a dataset. Lower values indicate a more homogeneous dataset.\n",
        "Entropy: Measures the amount of disorder or uncertainty in the dataset. The goal is to minimize entropy after the split.\n",
        "Mean Squared Error (MSE): Used in regression tasks to minimize the variance of the target variable in the resulting subsets.\n",
        "Recursive Partitioning: The splitting process is applied recursively to each subset of the data, creating new nodes and branches until a stopping criterion is met. This could be a maximum depth of the tree, a minimum number of samples required to split a node, or when further splits do not significantly improve the model.\n",
        "\n",
        "Pruning: After the tree is built, it may be too complex and overfit the training data. Pruning is a technique used to remove sections of the tree that provide little power in predicting the target variable, thereby improving the model's generalization to unseen data.\n",
        "\n",
        "Prediction: To make predictions with a Decision Tree, you start at the root node and follow the branches based on the feature values of the input data until you reach a leaf node. The value or class label at the leaf node is the predicted output.\n",
        "\n",
        "Advantages of Decision Trees:\n",
        "Interpretability: Decision Trees are easy to understand and visualize, making them interpretable for non-experts.\n",
        "No Need for Feature Scaling: They do not require normalization or standardization of features.\n",
        "Handles Both Numerical and Categorical Data: Decision Trees can work with different types of data.\n",
        "Disadvantages of Decision Trees:\n",
        "Overfitting: They can easily overfit the training data, especially if the tree is deep.\n",
        "Instability: Small changes in the data can lead to different splits and a different tree structure.\n",
        "Bias towards Dominant Classes: In imbalanced datasets, Decision Trees can be biased towards the majority class."
      ],
      "metadata": {
        "id": "nDydl6DyhBiB"
      }
    },
    {
      "cell_type": "markdown",
      "source": [
        "2. What are impurity measures in Decision Trees"
      ],
      "metadata": {
        "id": "SRLItDbohBjm"
      }
    },
    {
      "cell_type": "markdown",
      "source": [
        "In decision trees, impurity measures are metrics used to evaluate how well a particular split (or decision) separates the data into different classes. The goal of a decision tree is to create branches that lead to pure nodes, where each node contains instances of a single class. Impurity measures help in selecting the best feature and threshold for splitting the data at each node. Here are some common impurity measures used in decision trees:\n",
        "\n",
        "Gini Impurity:\n",
        "\n",
        "The Gini impurity measures the likelihood of a randomly chosen element being misclassified if it was randomly labeled according to the distribution of labels in the subset.\n",
        "It is calculated as: [ Gini(D) = 1 - \\sum_{i=1}^{C} p_i^2 ] where ( p_i ) is the proportion of instances belonging to class ( i ) in dataset ( D ), and ( C ) is the number of classes.\n",
        "A Gini impurity of 0 indicates a pure node.\n",
        "Entropy:\n",
        "\n",
        "Entropy is derived from information theory and measures the amount of disorder or uncertainty in the dataset.\n",
        "It is calculated as: [ Entropy(D) = -\\sum_{i=1}^{C} p_i \\log_2(p_i) ] where ( p_i ) is the proportion of instances belonging to class ( i ).\n",
        "Like Gini impurity, an entropy of 0 indicates a pure node.\n",
        "Classification Error:\n",
        "\n",
        "This measure is simpler and is defined as the proportion of misclassified instances in the dataset.\n",
        "It is calculated as: [ Error(D) = 1 - \\max(p_i) ] where ( \\max(p_i) ) is the maximum proportion of instances belonging to any single class.\n",
        "While easy to compute, it is less commonly used compared to Gini impurity and entropy.\n",
        "Mean Squared Error (MSE):\n",
        "\n",
        "For regression trees, the impurity measure can be the mean squared error, which quantifies the average of the squares of the errors (the difference between predicted and actual values).\n",
        "It is calculated as: [ MSE(D) = \\frac{1}{N} \\sum_{j=1}^{N} (y_j - \\bar{y})^2 ] where ( y_j ) is the actual value, ( \\bar{y} ) is the mean of the target values in the dataset, and ( N ) is the number of instances.\n",
        "Choosing an Impurity Measure\n",
        "The choice of impurity measure can affect the structure of the decision tree and its performance. Gini impurity and entropy often yield similar results, but they can lead to different splits in some cases. The choice may depend on the specific characteristics of the dataset and the goals of the analysis"
      ],
      "metadata": {
        "id": "LOQ6naJ-hBnv"
      }
    },
    {
      "cell_type": "markdown",
      "source": [
        "3. What is the mathematical formula for Gini Impurity"
      ],
      "metadata": {
        "id": "ni5irfxXhBpT"
      }
    },
    {
      "cell_type": "markdown",
      "source": [
        "The Gini impurity is a measure used to evaluate the impurity or purity of a dataset in the context of classification tasks, particularly in decision trees. The mathematical formula for Gini impurity is given by:\n",
        "\n",
        "[ Gini(D) = 1 - \\sum_{i=1}^{C} p_i^2 ]\n",
        "\n",
        "Where:\n",
        "\n",
        "( D ) is the dataset for which we are calculating the Gini impurity.\n",
        "( C ) is the number of classes in the dataset.\n",
        "( p_i ) is the proportion of instances in class ( i ) relative to the total number of instances in the dataset.\n",
        "Steps to Calculate Gini Impurity:\n",
        "Calculate the Proportions: For each class ( i ), calculate the proportion ( p_i ) of instances belonging to that class: [ p_i = \\frac{n_i}{N} ] where ( n_i ) is the number of instances in class ( i ) and ( N ) is the total number of instances in the dataset.\n",
        "\n",
        "Square the Proportions: Compute ( p_i^2 ) for each class.\n",
        "\n",
        "Sum the Squared Proportions: Sum all the squared proportions: [ \\sum_{i=1}^{C} p_i^2 ]\n",
        "\n",
        "Calculate Gini Impurity: Finally, apply the Gini formula: [ Gini(D) = 1 - \\sum_{i=1}^{C} p_i^2 ]\n",
        "\n",
        "Interpretation:\n",
        "A Gini impurity of 0 indicates that all instances belong to a single class (pure node).\n",
        "A Gini impurity closer to 1 indicates a higher level of impurity, meaning the instances are more evenly distributed among the classes.\n",
        "This measure is widely used in decision tree algorithms, such as the CART (Classification and Regression Trees) algorithm, to determine the best splits at each node.\n",
        "\n",
        "\n",
        "\n",
        "\n"
      ],
      "metadata": {
        "id": "ASUnMlCOhBt_"
      }
    },
    {
      "cell_type": "markdown",
      "source": [
        "4.  What is the mathematical formula for Entropy"
      ],
      "metadata": {
        "id": "MXPy8q7EhBvi"
      }
    },
    {
      "cell_type": "markdown",
      "source": [
        "Entropy is a measure from information theory that quantifies the amount of uncertainty or disorder in a dataset. In the context of decision trees, it is used to evaluate the impurity of a dataset for classification tasks. The mathematical formula for entropy is given by:\n",
        "\n",
        "[ Entropy(D) = -\\sum_{i=1}^{C} p_i \\log_2(p_i) ]\n",
        "\n",
        "Where:\n",
        "\n",
        "( D ) is the dataset for which we are calculating the entropy.\n",
        "( C ) is the number of classes in the dataset.\n",
        "( p_i ) is the proportion of instances belonging to class ( i ) in the dataset.\n",
        "Steps to Calculate Entropy:\n",
        "Calculate the Proportions: For each class ( i ), calculate the proportion ( p_i ) of instances belonging to that class: [ p_i = \\frac{n_i}{N} ] where ( n_i ) is the number of instances in class ( i ) and ( N ) is the total number of instances in the dataset.\n",
        "\n",
        "Compute the Logarithm: For each class, compute ( \\log_2(p_i) ). Note that if ( p_i = 0 ), the term ( p_i \\log_2(p_i) ) is defined to be 0, as the limit of ( x \\log_2(x) ) as ( x ) approaches 0 is 0.\n",
        "\n",
        "Sum the Products: Multiply each ( p_i ) by its corresponding ( \\log_2(p_i) ) and sum these values: [ -\\sum_{i=1}^{C} p_i \\log_2(p_i) ]\n",
        "\n",
        "Calculate Entropy: The result from the previous step gives you the entropy of the dataset.\n",
        "\n",
        "Interpretation:\n",
        "An entropy of 0 indicates that all instances belong to a single class (pure node).\n",
        "Higher entropy values indicate greater disorder or uncertainty, with a maximum entropy occurring when the classes are evenly distributed.\n",
        "Entropy is commonly used in decision tree algorithms, such as the ID3 (Iterative Dichotomiser 3) algorithm, to determine the best splits at each node based on the reduction of uncertainty"
      ],
      "metadata": {
        "id": "nF7OPaU7hBz6"
      }
    },
    {
      "cell_type": "markdown",
      "source": [
        "5.  What is Information Gain, and how is it used in Decision Trees"
      ],
      "metadata": {
        "id": "1lSQZqKmhB1f"
      }
    },
    {
      "cell_type": "markdown",
      "source": [
        "Information Gain is a key concept in decision tree algorithms, particularly in the context of classification tasks. It measures the effectiveness of an attribute (or feature) in reducing uncertainty about the target variable (class label) when splitting the data. In simpler terms, it quantifies how much knowing the value of a feature improves our ability to predict the target variable.\n",
        "\n",
        "Definition of Information Gain\n",
        "Information Gain is calculated as the difference between the entropy of the original dataset and the weighted average of the entropies of the subsets created by splitting the dataset based on a particular feature. The formula for Information Gain ( IG ) when splitting a dataset ( D ) on an attribute ( A ) is given by:\n",
        "\n",
        "[ IG(D, A) = Entropy(D) - \\sum_{v \\in Values(A)} \\frac{|D_v|}{|D|} Entropy(D_v) ]\n",
        "\n",
        "Where:\n",
        "\n",
        "( IG(D, A) ) is the information gain from splitting dataset ( D ) on attribute ( A ).\n",
        "( Entropy(D) ) is the entropy of the original dataset.\n",
        "( Values(A) ) is the set of all possible values of attribute ( A ).\n",
        "( D_v ) is the subset of ( D ) for which attribute ( A ) has value ( v ).\n",
        "( |D_v| ) is the number of instances in subset ( D_v ).\n",
        "( |D| ) is the total number of instances in the dataset ( D ).\n",
        "Steps to Calculate Information Gain\n",
        "Calculate the Entropy of the Original Dataset: Compute the entropy of the dataset ( D ) using the entropy formula.\n",
        "\n",
        "Split the Dataset: For each value ( v ) of the attribute ( A ), create a subset ( D_v ) of the dataset.\n",
        "\n",
        "Calculate the Entropy of Each Subset: Compute the entropy for each subset ( D_v ).\n",
        "\n",
        "Compute the Weighted Average of the Entropies: Calculate the weighted average of the entropies of the subsets, where the weights are the proportions of instances in each subset relative to the original dataset.\n",
        "\n",
        "Calculate Information Gain: Subtract the weighted average entropy from the original entropy to get the information gain.\n",
        "\n",
        "Usage in Decision Trees\n",
        "Selecting the Best Attribute: In decision tree algorithms like ID3, the attribute with the highest information gain is chosen for the split at each node. This means that the algorithm prefers features that provide the most information about the target variable, effectively reducing uncertainty.\n",
        "\n",
        "Building the Tree: The process of calculating information gain is repeated recursively for each subset created by the split, allowing the tree to grow until a stopping criterion is met (e.g., all instances in a node belong to the same class, or a maximum tree depth is reached).\n",
        "\n",
        "Conclusion\n",
        "Information Gain is a fundamental concept in decision tree learning, guiding the construction of the tree by selecting the most informative features for splitting the data. By maximizing information gain at each step, decision trees aim to create a model that accurately classifies instances based on their features.\n",
        "\n",
        "\n",
        "\n",
        "\n",
        "\n"
      ],
      "metadata": {
        "id": "GALe8jPXhB6S"
      }
    },
    {
      "cell_type": "markdown",
      "source": [
        "6.What is the difference between Gini Impurity and Entropy"
      ],
      "metadata": {
        "id": "XoQVGkOehB76"
      }
    },
    {
      "cell_type": "markdown",
      "source": [
        "Gini impurity and entropy are both measures used to evaluate the impurity or purity of a dataset in the context of classification tasks, particularly in decision trees. While they serve a similar purpose, there are key differences between the two. Here’s a comparison of Gini impurity and entropy:\n",
        "\n",
        "1. Definition and Formula\n",
        "Gini Impurity:\n",
        "\n",
        "Gini impurity measures the probability of a randomly chosen element being misclassified if it was randomly labeled according to the distribution of labels in the dataset.\n",
        "The formula is: [ Gini(D) = 1 - \\sum_{i=1}^{C} p_i^2 ] where ( p_i ) is the proportion of instances belonging to class ( i ) in dataset ( D ), and ( C ) is the number of classes.\n",
        "Entropy:\n",
        "\n",
        "Entropy measures the amount of uncertainty or disorder in the dataset. It quantifies the expected amount of information needed to classify an instance.\n",
        "The formula is: [ Entropy(D) = -\\sum_{i=1}^{C} p_i \\log_2(p_i) ] where ( p_i ) is the proportion of instances belonging to class ( i ).\n",
        "2. Range of Values\n",
        "Gini Impurity:\n",
        "\n",
        "Gini impurity ranges from 0 to 0.5 for binary classification (0 to 1 for multi-class). A Gini impurity of 0 indicates a pure node (all instances belong to a single class).\n",
        "Entropy:\n",
        "\n",
        "Entropy ranges from 0 to ( \\log_2(C) ) for ( C ) classes. Like Gini impurity, an entropy of 0 indicates a pure node.\n",
        "3. Sensitivity to Class Distribution\n",
        "Gini Impurity:\n",
        "\n",
        "Gini impurity is more sensitive to the distribution of classes. It tends to favor larger classes and is less sensitive to the presence of smaller classes.\n",
        "Entropy:\n",
        "\n",
        "Entropy is more sensitive to the distribution of classes, especially when the classes are imbalanced. It can give more weight to smaller classes, which may lead to different splits compared to Gini impurity.\n",
        "4. Computational Complexity\n",
        "Gini Impurity:\n",
        "\n",
        "Gini impurity is generally faster to compute because it does not involve logarithmic calculations. It only requires squaring the proportions of classes.\n",
        "Entropy:\n",
        "\n",
        "Entropy involves logarithmic calculations, which can make it slightly more computationally intensive than Gini impurity.\n",
        "5. Usage in Decision Trees\n",
        "Gini Impurity:\n",
        "\n",
        "Gini impurity is used in the CART (Classification and Regression Trees) algorithm. It is often preferred in practice due to its computational efficiency and tendency to create balanced trees.\n",
        "Entropy:\n",
        "\n",
        "Entropy is used in algorithms like ID3 and C4.5. It is often preferred when the goal is to maximize information gain.\n",
        "Conclusion\n",
        "Both Gini impurity and entropy are effective measures for evaluating the quality of splits in decision trees. The choice between them may depend on the specific characteristics of the dataset, the algorithm being used, and the desired properties of the resulting decision tree. In many cases, they yield similar results, but there can be differences in the structure of the tree and the splits chosen based on the measure used.\n"
      ],
      "metadata": {
        "id": "O7BY8frXhCA1"
      }
    },
    {
      "cell_type": "markdown",
      "source": [
        "7. What is the mathematical explanation behind Decision Trees"
      ],
      "metadata": {
        "id": "Py1U3gdVhCCd"
      }
    },
    {
      "cell_type": "markdown",
      "source": [
        "Decision Trees are a popular machine learning algorithm used for classification and regression tasks. They are based on a tree-like model of decisions and their possible consequences. The mathematical explanation behind Decision Trees involves several key concepts, including entropy, information gain, Gini impurity, and the recursive partitioning of the feature space. Here’s a breakdown of these concepts:\n",
        "\n",
        "1. Structure of Decision Trees\n",
        "A Decision Tree consists of:\n",
        "\n",
        "Nodes: Represent features or attributes.\n",
        "Edges: Represent the decision rules.\n",
        "Leaves: Represent the outcome or class labels.\n",
        "2. Splitting Criteria\n",
        "To build a Decision Tree, we need to determine how to split the data at each node. The most common criteria for splitting are:\n",
        "\n",
        "a. Entropy and Information Gain\n",
        "Entropy: A measure of the impurity or disorder in a dataset. For a dataset ( S ) with ( C ) classes, the entropy ( H(S) ) is defined as: [ H(S) = -\\sum_{i=1}^{C} p_i \\log_2(p_i) ] where ( p_i ) is the proportion of instances in class ( i ).\n",
        "\n",
        "Information Gain: The reduction in entropy after a dataset is split on an attribute ( A ). It is calculated as: [ IG(S, A) = H(S) - \\sum_{v \\in Values(A)} \\frac{|S_v|}{|S|} H(S_v) ] where ( S_v ) is the subset of ( S ) for which attribute ( A ) has value ( v ).\n",
        "\n",
        "b. Gini Impurity\n",
        "Another criterion for splitting is Gini impurity, which measures the impurity of a dataset. For a dataset ( S ): [ Gini(S) = 1 - \\sum_{i=1}^{C} p_i^2 ] where ( p_i ) is the proportion of instances in class ( i ). The Gini impurity is used in the CART (Classification and Regression Trees) algorithm.\n",
        "\n",
        "3. Recursive Partitioning\n",
        "The process of building a Decision Tree involves recursively splitting the dataset into subsets based on the chosen attribute that maximizes information gain or minimizes Gini impurity. This process continues until:\n",
        "\n",
        "A stopping criterion is met (e.g., maximum depth, minimum samples per leaf).\n",
        "All instances in a node belong to the same class (pure node).\n",
        "No further information gain can be achieved.\n",
        "4. Pruning\n",
        "To avoid overfitting, Decision Trees can be pruned. Pruning involves removing nodes that provide little predictive power. This can be done using techniques like cost complexity pruning, where a penalty is applied for the number of leaves in the tree.\n",
        "\n",
        "5. Mathematical Representation\n",
        "The Decision Tree can be represented mathematically as a function ( f(x) ) that maps input features ( x ) to output classes ( y ): [ f(x) = \\text{class}(x) \\text{ if } x \\text{ reaches leaf node} ]\n",
        "\n",
        "Conclusion\n",
        "In summary, Decision Trees use concepts from information theory (entropy, information gain) and probability (Gini impurity) to make decisions based on the features of the data. The recursive nature of the algorithm allows it to create a model that can classify or predict outcomes based on the learned decision rules.\n",
        "\n"
      ],
      "metadata": {
        "id": "t-mvUd6phCHA"
      }
    },
    {
      "cell_type": "markdown",
      "source": [
        "8. What is Pre-Pruning in Decision Trees"
      ],
      "metadata": {
        "id": "pZd3MTrThCIs"
      }
    },
    {
      "cell_type": "markdown",
      "source": [
        "Pre-pruning, also known as early stopping, is a technique used in the construction of Decision Trees to prevent overfitting by halting the growth of the tree before it reaches its full depth. The idea is to stop the tree from splitting further when certain conditions are met, thereby simplifying the model and improving its generalization to unseen data.\n",
        "\n",
        "Key Concepts of Pre-Pruning\n",
        "Overfitting: This occurs when a model learns the noise in the training data rather than the underlying pattern. A very deep Decision Tree can perfectly classify the training data but may perform poorly on new, unseen data.\n",
        "\n",
        "Stopping Criteria: Pre-pruning involves setting specific criteria that determine when to stop splitting a node. Common criteria include:\n",
        "\n",
        "Maximum Depth: Limit the maximum depth of the tree. If a node reaches this depth, it will not be split further.\n",
        "Minimum Samples per Leaf: Specify a minimum number of samples that must be present in a leaf node. If a node has fewer samples than this threshold, it will not be split.\n",
        "Minimum Information Gain: Set a threshold for the minimum information gain required to make a split. If the gain from splitting a node is below this threshold, the node will not be split.\n",
        "Minimum Gini Impurity Reduction: Similar to information gain, this criterion requires a minimum reduction in Gini impurity for a split to be considered.\n",
        "Benefits of Pre-Pruning:\n",
        "\n",
        "Reduced Complexity: By stopping the growth of the tree early, pre-pruning helps create a simpler model that is easier to interpret.\n",
        "Improved Generalization: A less complex tree is less likely to overfit the training data, which can lead to better performance on unseen data.\n",
        "Faster Training: Pre-pruning can reduce the computational cost of training the model since fewer splits and nodes need to be evaluated.\n",
        "Trade-offs: While pre-pruning can help prevent overfitting, it can also lead to underfitting if the stopping criteria are too strict. This means that the model may not capture the underlying patterns in the data effectively. Therefore, it is essential to choose the stopping criteria carefully based on the specific dataset and problem.\n",
        "\n",
        "Example of Pre-Pruning\n",
        "Suppose you are building a Decision Tree to classify whether an email is spam or not. You might decide to implement pre-pruning by setting the following criteria:\n",
        "\n",
        "Maximum depth of the tree: 5\n",
        "Minimum samples per leaf: 10\n",
        "Minimum information gain: 0.01\n",
        "As you build the tree, if you reach a node that has a depth of 5, or if a potential split would result in a leaf with fewer than 10 samples, or if the information gain from the split is less than 0.01, you would stop splitting that node and make it a leaf.\n",
        "\n",
        "Conclusion\n",
        "Pre-pruning is a valuable technique in Decision Tree learning that helps to control the complexity of the model and improve its generalization capabilities. By setting appropriate stopping criteria, you can create a more robust model that performs well on both training and unseen data"
      ],
      "metadata": {
        "id": "DMSGnk4nhCNA"
      }
    },
    {
      "cell_type": "markdown",
      "source": [
        "9. What is Post-Pruning in Decision Trees"
      ],
      "metadata": {
        "id": "yMSmScqZhCOi"
      }
    },
    {
      "cell_type": "markdown",
      "source": [
        "Post-pruning is a technique used in the construction of Decision Trees to reduce the complexity of the model after it has been fully grown. Unlike pre-pruning, which stops the growth of the tree during its construction, post-pruning involves removing nodes from a fully grown tree to improve its generalization performance and reduce overfitting.\n",
        "\n",
        "Key Concepts of Post-Pruning\n",
        "Overfitting: Similar to pre-pruning, post-pruning addresses the issue of overfitting, where a Decision Tree becomes too complex and captures noise in the training data rather than the underlying patterns.\n",
        "\n",
        "Full Tree Growth: In post-pruning, the Decision Tree is first allowed to grow to its maximum depth, creating a tree that perfectly classifies the training data (or nearly so). This tree may have many branches and leaves, which can lead to overfitting.\n",
        "\n",
        "Pruning Process: After the tree is fully grown, the pruning process begins. This involves evaluating the performance of the tree and deciding which nodes (or branches) can be removed without significantly affecting the model's accuracy. The steps typically include:\n",
        "\n",
        "Validation Set: A separate validation dataset is used to evaluate the performance of the tree. This helps in assessing how well the tree generalizes to unseen data.\n",
        "Node Evaluation: Each node is evaluated to determine whether removing it (and replacing it with its most common class label) would improve or maintain the accuracy of the tree on the validation set.\n",
        "Cost Complexity Pruning: A common method for post-pruning is cost complexity pruning, which involves balancing the tree's complexity (number of leaves) against its accuracy. A penalty is applied for the number of leaves, and nodes are pruned based on a cost-complexity parameter.\n",
        "Benefits of Post-Pruning:\n",
        "\n",
        "Improved Generalization: By removing unnecessary nodes, post-pruning helps to create a simpler model that is less likely to overfit the training data, leading to better performance on unseen data.\n",
        "Flexibility: Since the tree is fully grown before pruning, the model has the opportunity to capture complex patterns in the data, which can then be simplified afterward.\n",
        "Trade-offs: While post-pruning can effectively reduce overfitting, it may also lead to the loss of some useful information if important nodes are pruned away. Therefore, careful evaluation is necessary to ensure that the pruning process does not degrade the model's performance.\n",
        "\n",
        "Example of Post-Pruning\n",
        "Consider a Decision Tree that has been fully grown to classify whether a customer will buy a product based on various features (age, income, etc.). After the tree is constructed, you might:\n",
        "\n",
        "Use a validation dataset to evaluate the accuracy of the tree.\n",
        "Identify nodes that, when pruned, do not significantly decrease the accuracy on the validation set.\n",
        "Replace those nodes with their most common class label, effectively simplifying the tree.\n",
        "Conclusion\n",
        "Post-pruning is a valuable technique for refining Decision Trees after they have been fully constructed. By removing unnecessary complexity, post-pruning helps improve the model's generalization capabilities and reduces the risk of overfitting. It allows for a more robust model that can perform well on both training and unseen data, making it an essential step in the Decision Tree learning process.\n",
        "\n"
      ],
      "metadata": {
        "id": "7y1DTTkRhCTV"
      }
    },
    {
      "cell_type": "markdown",
      "source": [
        "10. What is the difference between Pre-Pruning and Post-Pruning"
      ],
      "metadata": {
        "id": "KU9YzvsUhCVG"
      }
    },
    {
      "cell_type": "markdown",
      "source": [
        "Pre-pruning and post-pruning are two techniques used in the construction of Decision Trees to prevent overfitting and improve the model's generalization capabilities. However, they differ in their approach and timing in the tree-building process. Here are the key differences between the two:\n",
        "\n",
        "1. Timing of Pruning\n",
        "Pre-Pruning:\n",
        "\n",
        "Occurs during the construction of the Decision Tree.\n",
        "The growth of the tree is halted based on certain criteria before it reaches its full depth.\n",
        "Decisions to stop splitting nodes are made as the tree is being built.\n",
        "Post-Pruning:\n",
        "\n",
        "Occurs after the Decision Tree has been fully grown.\n",
        "The tree is allowed to grow to its maximum depth, capturing all possible patterns in the training data.\n",
        "Nodes are evaluated and removed after the tree is complete, based on their contribution to the model's performance.\n",
        "2. Methodology\n",
        "Pre-Pruning:\n",
        "\n",
        "Involves setting specific stopping criteria, such as:\n",
        "Maximum depth of the tree.\n",
        "Minimum number of samples required to split a node.\n",
        "Minimum information gain or Gini impurity reduction required for a split.\n",
        "The goal is to prevent the tree from becoming too complex from the outset.\n",
        "Post-Pruning:\n",
        "\n",
        "Involves evaluating the fully grown tree and determining which nodes can be removed without significantly affecting accuracy.\n",
        "Common methods include:\n",
        "Cost complexity pruning, which balances tree complexity against accuracy.\n",
        "Validation set evaluation to assess the impact of pruning on model performance.\n",
        "The goal is to simplify the tree after it has captured all relevant patterns.\n",
        "3. Impact on Model Complexity\n",
        "Pre-Pruning:\n",
        "\n",
        "May lead to a simpler model from the beginning, but it risks underfitting if the stopping criteria are too strict.\n",
        "The model may not capture all relevant patterns in the data.\n",
        "Post-Pruning:\n",
        "\n",
        "Allows for a more complex model initially, which can capture intricate patterns in the training data.\n",
        "The pruning process can effectively reduce complexity while retaining important information, leading to better generalization.\n",
        "4. Computational Efficiency\n",
        "Pre-Pruning:\n",
        "\n",
        "Can be more computationally efficient since it stops the growth of the tree early, reducing the number of nodes and splits evaluated.\n",
        "Post-Pruning:\n",
        "\n",
        "May require more computational resources since the tree is fully grown before pruning, necessitating additional evaluations to determine which nodes to remove.\n",
        "Summary\n",
        "| Feature | Pre-Pruning | Post-Pruning | |------------------------|--------------------------------------|--------------------------------------| | Timing | During tree construction | After tree is fully grown | | Methodology | Stops growth based on criteria | Evaluates and removes nodes | | Impact on Complexity | May lead to underfitting | Can capture complex patterns initially | | Computational Efficiency | More efficient due to early stopping | May require more resources |\n",
        "\n",
        "In summary, pre-pruning and post-pruning are complementary techniques aimed at improving the performance of Decision Trees, each with its own advantages and trade-offs. The choice between them depends on the specific dataset, problem, and desired balance between model complexity and generalization.\n",
        "\n",
        "\n",
        "\n",
        "\n"
      ],
      "metadata": {
        "id": "s0iHRTHChCZ7"
      }
    },
    {
      "cell_type": "markdown",
      "source": [
        "11. What is a Decision Tree Regressor"
      ],
      "metadata": {
        "id": "uMlpEywchCbt"
      }
    },
    {
      "cell_type": "markdown",
      "source": [
        "A Decision Tree Regressor is a type of machine learning model that uses a tree-like structure to make predictions for continuous target variables. Unlike a Decision Tree Classifier, which is used for classification tasks (where the output is a discrete label), a Decision Tree Regressor is specifically designed to predict numerical values.\n",
        "\n",
        "Key Features of Decision Tree Regressors\n",
        "Structure:\n",
        "\n",
        "The model consists of nodes, branches, and leaves, similar to a classification tree.\n",
        "Each internal node represents a decision based on the value of a feature, each branch represents the outcome of that decision, and each leaf node represents a predicted value (the output).\n",
        "Splitting Criteria:\n",
        "\n",
        "Decision Tree Regressors use different criteria for splitting nodes compared to classifiers. Common criteria include:\n",
        "Mean Squared Error (MSE): The average of the squared differences between the predicted values and the actual values. The goal is to minimize MSE when making splits.\n",
        "Mean Absolute Error (MAE): The average of the absolute differences between predicted values and actual values. This can also be used as a splitting criterion.\n",
        "Prediction:\n",
        "\n",
        "When making predictions, the input features are passed down the tree, following the decision rules until a leaf node is reached. The value associated with that leaf node is the predicted output for the input features.\n",
        "Handling Non-linearity:\n",
        "\n",
        "Decision Tree Regressors can capture non-linear relationships between features and the target variable without requiring any transformation of the input data.\n",
        "Interpretability:\n",
        "\n",
        "Decision Trees are easy to interpret and visualize. The decision-making process can be understood by following the path from the root to the leaf node.\n",
        "Advantages of Decision Tree Regressors\n",
        "Simplicity: They are easy to understand and interpret, making them suitable for exploratory data analysis.\n",
        "Non-linearity: They can model complex relationships without requiring linear assumptions.\n",
        "Feature Importance: Decision Trees can provide insights into the importance of different features in making predictions.\n",
        "Disadvantages of Decision Tree Regressors\n",
        "Overfitting: Decision Trees can easily overfit the training data, especially if they are allowed to grow too deep. This can lead to poor generalization on unseen data.\n",
        "Instability: Small changes in the data can lead to different tree structures, making them sensitive to noise.\n",
        "Bias: Decision Trees can be biased towards features with more levels (categories) if not properly managed.\n",
        "Regularization Techniques\n",
        "To mitigate overfitting, several techniques can be applied to Decision Tree Regressors:\n",
        "\n",
        "Pre-Pruning: Stopping the growth of the tree based on certain criteria (e.g., maximum depth, minimum samples per leaf).\n",
        "Post-Pruning: Allowing the tree to grow fully and then removing nodes that do not contribute significantly to the model's performance.\n",
        "Ensemble Methods: Techniques like Random Forests and Gradient Boosting can be used to combine multiple Decision Trees, improving robustness and accuracy.\n",
        "Conclusion\n",
        "A Decision Tree Regressor is a powerful and interpretable model for predicting continuous outcomes. While it has advantages in terms of simplicity and flexibility, care must be taken to manage overfitting and ensure that the model generalizes well to new data. By using regularization techniques and ensemble methods, the performance of Decision Tree Regressors can be significantly enhanced.\n"
      ],
      "metadata": {
        "id": "Xjpjv2jRhCgh"
      }
    },
    {
      "cell_type": "markdown",
      "source": [
        "12. What are the advantages and disadvantages of Decision Trees"
      ],
      "metadata": {
        "id": "YlJET8p0hCiN"
      }
    },
    {
      "cell_type": "markdown",
      "source": [
        "Decision Trees are a widely used machine learning algorithm for both classification and regression tasks. They have several advantages and disadvantages that can influence their effectiveness in different scenarios. Here’s a detailed overview:\n",
        "\n",
        "Advantages of Decision Trees\n",
        "Interpretability:\n",
        "\n",
        "Decision Trees are easy to understand and interpret. The tree structure allows users to visualize the decision-making process, making it straightforward to explain predictions to non-technical stakeholders.\n",
        "Non-linearity:\n",
        "\n",
        "They can capture non-linear relationships between features and the target variable without requiring any transformation of the input data. This makes them versatile for various types of datasets.\n",
        "No Need for Feature Scaling:\n",
        "\n",
        "Decision Trees do not require normalization or standardization of features, as they are invariant to the scale of the input data.\n",
        "Handling of Mixed Data Types:\n",
        "\n",
        "They can handle both numerical and categorical data, making them suitable for a wide range of applications.\n",
        "Feature Importance:\n",
        "\n",
        "Decision Trees can provide insights into the importance of different features in making predictions, which can be useful for feature selection and understanding the underlying data.\n",
        "Robustness to Outliers:\n",
        "\n",
        "Decision Trees are relatively robust to outliers, as they make splits based on thresholds rather than fitting a global model.\n",
        "Minimal Data Preparation:\n",
        "\n",
        "They require less data preprocessing compared to other algorithms, such as linear regression or neural networks.\n",
        "Disadvantages of Decision Trees\n",
        "Overfitting:\n",
        "\n",
        "Decision Trees can easily overfit the training data, especially if they are allowed to grow too deep. This can lead to poor generalization on unseen data.\n",
        "Instability:\n",
        "\n",
        "Small changes in the data can lead to different tree structures, making Decision Trees sensitive to noise. This can result in high variance in predictions.\n",
        "Bias Towards Features with More Levels:\n",
        "\n",
        "Decision Trees can be biased towards features with more categories (levels) if not properly managed, which can affect the model's performance.\n",
        "Limited Expressiveness:\n",
        "\n",
        "While they can capture non-linear relationships, Decision Trees may struggle with very complex patterns compared to ensemble methods like Random Forests or Gradient Boosting.\n",
        "Greedy Algorithm:\n",
        "\n",
        "The splitting process is greedy, meaning it makes the best decision at each node without considering the global structure of the tree. This can lead to suboptimal trees.\n",
        "Difficulty in Modeling Interactions:\n",
        "\n",
        "Decision Trees may not effectively capture interactions between features unless explicitly modeled through additional splits.\n",
        "Conclusion\n",
        "Decision Trees are a powerful and interpretable tool for both classification and regression tasks, with several advantages that make them appealing for many applications. However, their susceptibility to overfitting, instability, and potential biases necessitate careful consideration and often the use of regularization techniques or ensemble methods to enhance their performance. Understanding these advantages and disadvantages is crucial for selecting the right model for a given problem.\n",
        "\n",
        "\n"
      ],
      "metadata": {
        "id": "IwyJaMdfhCuH"
      }
    },
    {
      "cell_type": "markdown",
      "source": [
        "13.  How does a Decision Tree handle missing values"
      ],
      "metadata": {
        "id": "NtGcm5PBhD2z"
      }
    },
    {
      "cell_type": "markdown",
      "source": [
        "Decision trees can handle missing values in several ways, depending on the implementation and the specific algorithm used. Here are some common strategies:\n",
        "\n",
        "Surrogate Splits: Some decision tree algorithms use surrogate splits, which are alternative splits that can be used when the primary split feature has a missing value. The algorithm identifies the best alternative feature that can be used to make a decision when the primary feature is not available.\n",
        "\n",
        "Imputation: Before building the decision tree, missing values can be imputed using various techniques, such as mean, median, mode, or more sophisticated methods like k-nearest neighbors (KNN) or regression imputation. This way, the dataset is complete before training the model.\n",
        "\n",
        "Separate Branch for Missing Values: Some implementations allow for a separate branch in the tree specifically for instances with missing values. This means that when a decision point reaches a feature with a missing value, it can follow a designated path that handles those cases.\n",
        "\n",
        "Weighted Splits: In some cases, the algorithm can assign weights to instances with missing values, allowing them to contribute to the decision-making process without being excluded entirely.\n",
        "\n",
        "Ignoring Missing Values: Some decision tree algorithms can simply ignore instances with missing values during the split calculations. This means that the algorithm will only consider the available data for making splits.\n",
        "\n",
        "Probabilistic Approaches: Some advanced methods may use probabilistic approaches to estimate the likelihood of different outcomes based on the available data, allowing the decision tree to make informed decisions even with missing values.\n",
        "\n",
        "The choice of method often depends on the specific implementation of the decision tree algorithm and the nature of the dataset. It's important to consider the implications of each approach on the model's performance and interpretability.\n",
        "\n",
        "\n",
        "\n",
        "\n"
      ],
      "metadata": {
        "id": "xjbDMtY5hD4l"
      }
    },
    {
      "cell_type": "markdown",
      "source": [
        "14. How does a Decision Tree handle categorical features"
      ],
      "metadata": {
        "id": "NNvxjazjhD80"
      }
    },
    {
      "cell_type": "markdown",
      "source": [
        "Decision trees can handle categorical features effectively, and they do so in several ways. Here’s how they typically manage categorical data:\n",
        "\n",
        "Direct Splitting: Decision trees can directly use categorical features to create splits. For a categorical feature with multiple categories, the algorithm evaluates all possible splits based on the categories. For example, if a feature has three categories (A, B, C), the decision tree can create splits like:\n",
        "\n",
        "Split 1: If the feature is A, go left; otherwise, go right.\n",
        "Split 2: If the feature is B, go left; otherwise, go right.\n",
        "Split 3: If the feature is C, go left; otherwise, go right.\n",
        "Binary Encoding: In some cases, categorical features can be transformed into binary features using techniques like one-hot encoding. This involves creating a new binary feature for each category. For example, a categorical feature with three categories (A, B, C) would be transformed into three binary features:\n",
        "\n",
        "Is_A (1 if A, 0 otherwise)\n",
        "Is_B (1 if B, 0 otherwise)\n",
        "Is_C (1 if C, 0 otherwise)\n",
        "This allows the decision tree to treat each category as a separate feature.\n",
        "\n",
        "Ordinal Encoding: If the categorical feature has a natural order (ordinal), it can be encoded as integers. For example, a feature like \"Size\" with categories \"Small,\" \"Medium,\" and \"Large\" could be encoded as 1, 2, and 3, respectively. However, care must be taken with this approach, as it may imply a relationship that does not exist.\n",
        "\n",
        "Group Splitting: Some decision tree algorithms can group categories together based on their performance in predicting the target variable. This can help reduce the number of splits and improve the model's interpretability.\n",
        "\n",
        "Handling High Cardinality: For categorical features with a large number of categories (high cardinality), decision trees can still handle them, but it may lead to overfitting. Techniques like grouping infrequent categories into an \"Other\" category or using regularization methods can help mitigate this issue.\n",
        "\n",
        "Gini Impurity and Information Gain: When evaluating splits based on categorical features, decision trees use metrics like Gini impurity or information gain to determine the best split. These metrics assess how well a particular split separates the classes in the target variable.\n",
        "\n",
        "Overall, decision trees are quite flexible in handling categorical features, making them a popular choice for datasets with mixed data types. However, the choice of encoding and handling methods can significantly impact the model's performance and interpretability.\n"
      ],
      "metadata": {
        "id": "c_UzY6_ZhD-o"
      }
    },
    {
      "cell_type": "markdown",
      "source": [
        "15.  What are some real-world applications of Decision Trees?"
      ],
      "metadata": {
        "id": "wENJ-UWfhEC1"
      }
    },
    {
      "cell_type": "markdown",
      "source": [
        "Decision trees are widely used in various fields due to their simplicity, interpretability, and effectiveness. Here are some real-world applications across different domains:\n",
        "\n",
        "1. Healthcare\n",
        "Disease Diagnosis: Decision trees can analyze patient symptoms and medical history to assist in diagnosing diseases. For example, they can help predict conditions like diabetes or heart disease based on various health indicators.\n",
        "Treatment Recommendations: They can suggest treatment plans based on patient characteristics and previous treatment outcomes, helping healthcare providers make informed decisions.\n",
        "2. Finance\n",
        "Credit Scoring: Financial institutions use decision trees to evaluate the creditworthiness of loan applicants by analyzing factors such as income, credit history, and existing debts.\n",
        "Fraud Detection: Decision trees can identify patterns indicative of fraudulent transactions by analyzing transaction data and customer behavior, helping to mitigate financial losses.\n",
        "3. Marketing\n",
        "Customer Segmentation: Businesses can use decision trees to segment customers based on purchasing behavior, demographics, and preferences, allowing for targeted marketing strategies.\n",
        "Churn Prediction: They can help predict customer churn by analyzing factors that contribute to customers leaving a service or product, enabling proactive retention strategies.\n",
        "4. Manufacturing\n",
        "Quality Control: Decision trees can identify factors that lead to defects in products, helping manufacturers improve quality control processes and reduce waste.\n",
        "Predictive Maintenance: They can predict equipment failures by analyzing operational data, enabling proactive maintenance and reducing downtime.\n",
        "5. Retail\n",
        "Inventory Management: Retailers can use decision trees to optimize inventory levels by predicting demand for products based on historical sales data and seasonal trends.\n",
        "Recommendation Systems: They can help build recommendation systems that suggest products to customers based on their past purchases and preferences.\n",
        "6. Telecommunications\n",
        "Customer Retention: Decision trees can analyze customer data to identify at-risk customers and develop strategies to retain them, improving customer loyalty.\n",
        "Network Optimization: They can be used to optimize network performance by analyzing usage patterns and identifying areas for improvement.\n",
        "7. Insurance\n",
        "Risk Assessment: Insurance companies use decision trees to evaluate the risk associated with insuring individuals or properties, helping to set premiums accordingly.\n",
        "Claims Processing: They can assist in automating claims processing by determining the likelihood of fraud or the validity of claims based on historical data.\n",
        "8. Environmental Science\n",
        "Ecological Modeling: Decision trees can model ecological data, helping to predict species distribution based on environmental factors.\n",
        "Pollution Prediction: They can help predict pollution levels based on various factors such as industrial activity, weather conditions, and geographical data.\n",
        "9. Education\n",
        "Student Performance Prediction: Decision trees can analyze student data to predict academic performance and identify students who may need additional support.\n",
        "Curriculum Development: They can help design curricula by analyzing the effectiveness of different teaching methods and materials.\n",
        "10. Human Resources\n",
        "Employee Attrition Prediction: Decision trees can be used to predict which employees are likely to leave the organization based on factors like job satisfaction, performance metrics, and demographic information.\n",
        "Recruitment: They can assist in evaluating job candidates by analyzing their qualifications and past experiences to determine the best fit for a position.\n",
        "These applications illustrate the versatility and effectiveness of decision trees in solving complex problems across various industries. Their ability to provide clear and interpretable results makes them a popular choice for many decision-making processes.\n",
        "\n"
      ],
      "metadata": {
        "id": "lNTEPe4PhEEr"
      }
    },
    {
      "cell_type": "markdown",
      "source": [
        "Practical"
      ],
      "metadata": {
        "id": "kiUP7ROshEJm"
      }
    },
    {
      "cell_type": "markdown",
      "source": [
        "16. Write a Python program to train a Decision Tree Classifier on the Iris dataset and print the model accuracy"
      ],
      "metadata": {
        "id": "9bnw6EBwhELd"
      }
    },
    {
      "cell_type": "markdown",
      "source": [
        "Certainly! Below is a Python program that trains a Decision Tree Classifier on the Iris dataset and prints the model's accuracy. The Iris dataset is a well-known dataset in machine learning that contains measurements of iris flowers from three different species.\n",
        "\n",
        "You can run this code in a Python environment where you have the necessary libraries installed, such as scikit-learn and pandas. If you don't have these libraries installed, you can install them using pip:"
      ],
      "metadata": {
        "id": "32bV6CZChEQJ"
      }
    },
    {
      "cell_type": "code",
      "source": [
        "pip install scikit-learn pandas"
      ],
      "metadata": {
        "colab": {
          "base_uri": "https://localhost:8080/"
        },
        "id": "yIbLmjpcl_0O",
        "outputId": "1eefc3ac-6dff-43ad-9436-09b00c915726"
      },
      "execution_count": 1,
      "outputs": [
        {
          "output_type": "stream",
          "name": "stdout",
          "text": [
            "Requirement already satisfied: scikit-learn in /usr/local/lib/python3.11/dist-packages (1.6.1)\n",
            "Requirement already satisfied: pandas in /usr/local/lib/python3.11/dist-packages (2.2.2)\n",
            "Requirement already satisfied: numpy>=1.19.5 in /usr/local/lib/python3.11/dist-packages (from scikit-learn) (1.26.4)\n",
            "Requirement already satisfied: scipy>=1.6.0 in /usr/local/lib/python3.11/dist-packages (from scikit-learn) (1.13.1)\n",
            "Requirement already satisfied: joblib>=1.2.0 in /usr/local/lib/python3.11/dist-packages (from scikit-learn) (1.4.2)\n",
            "Requirement already satisfied: threadpoolctl>=3.1.0 in /usr/local/lib/python3.11/dist-packages (from scikit-learn) (3.5.0)\n",
            "Requirement already satisfied: python-dateutil>=2.8.2 in /usr/local/lib/python3.11/dist-packages (from pandas) (2.8.2)\n",
            "Requirement already satisfied: pytz>=2020.1 in /usr/local/lib/python3.11/dist-packages (from pandas) (2025.1)\n",
            "Requirement already satisfied: tzdata>=2022.7 in /usr/local/lib/python3.11/dist-packages (from pandas) (2025.1)\n",
            "Requirement already satisfied: six>=1.5 in /usr/local/lib/python3.11/dist-packages (from python-dateutil>=2.8.2->pandas) (1.17.0)\n"
          ]
        }
      ]
    },
    {
      "cell_type": "code",
      "source": [
        "# Import necessary libraries\n",
        "from sklearn.datasets import load_iris\n",
        "from sklearn.model_selection import train_test_split\n",
        "from sklearn.tree import DecisionTreeClassifier\n",
        "from sklearn.metrics import accuracy_score\n",
        "\n",
        "# Load the Iris dataset\n",
        "iris = load_iris()\n",
        "X = iris.data  # Features\n",
        "y = iris.target  # Target labels\n",
        "\n",
        "# Split the dataset into training and testing sets\n",
        "X_train, X_test, y_train, y_test = train_test_split(X, y, test_size=0.2, random_state=42)\n",
        "\n",
        "# Create a Decision Tree Classifier\n",
        "clf = DecisionTreeClassifier(random_state=42)\n",
        "\n",
        "# Train the classifier\n",
        "clf.fit(X_train, y_train)\n",
        "\n",
        "# Make predictions on the test set\n",
        "y_pred = clf.predict(X_test)\n",
        "\n",
        "# Calculate the accuracy\n",
        "accuracy = accuracy_score(y_test, y_pred)\n",
        "\n",
        "# Print the accuracy\n",
        "print(f'Model Accuracy: {accuracy * 100:.2f}%')"
      ],
      "metadata": {
        "colab": {
          "base_uri": "https://localhost:8080/"
        },
        "id": "VwyUUHzNl_3Q",
        "outputId": "87327f8a-e801-4df4-ceef-0d5f2a0025c0"
      },
      "execution_count": 2,
      "outputs": [
        {
          "output_type": "stream",
          "name": "stdout",
          "text": [
            "Model Accuracy: 100.00%\n"
          ]
        }
      ]
    },
    {
      "cell_type": "markdown",
      "source": [
        "17.  Write a Python program to train a Decision Tree Classifier using Gini Impurity as the criterion and print the features importance."
      ],
      "metadata": {
        "id": "ZNxockc-hER9"
      }
    },
    {
      "cell_type": "markdown",
      "source": [
        "Certainly! Below is a Python program that trains a Decision Tree Classifier using Gini impurity as the criterion and prints the feature importances. We'll use the Iris dataset for this example.\n",
        "\n",
        "Make sure you have the necessary libraries installed (scikit-learn and pandas). If you haven't installed them yet, you can do so using pip:"
      ],
      "metadata": {
        "id": "uvddOSsvhEW5"
      }
    },
    {
      "cell_type": "code",
      "source": [
        "pip install scikit-learn pandas\n"
      ],
      "metadata": {
        "colab": {
          "base_uri": "https://localhost:8080/"
        },
        "id": "VRLEJmojmime",
        "outputId": "b04941f1-5aaf-40a8-a24d-13c84971ce34"
      },
      "execution_count": 3,
      "outputs": [
        {
          "output_type": "stream",
          "name": "stdout",
          "text": [
            "Requirement already satisfied: scikit-learn in /usr/local/lib/python3.11/dist-packages (1.6.1)\n",
            "Requirement already satisfied: pandas in /usr/local/lib/python3.11/dist-packages (2.2.2)\n",
            "Requirement already satisfied: numpy>=1.19.5 in /usr/local/lib/python3.11/dist-packages (from scikit-learn) (1.26.4)\n",
            "Requirement already satisfied: scipy>=1.6.0 in /usr/local/lib/python3.11/dist-packages (from scikit-learn) (1.13.1)\n",
            "Requirement already satisfied: joblib>=1.2.0 in /usr/local/lib/python3.11/dist-packages (from scikit-learn) (1.4.2)\n",
            "Requirement already satisfied: threadpoolctl>=3.1.0 in /usr/local/lib/python3.11/dist-packages (from scikit-learn) (3.5.0)\n",
            "Requirement already satisfied: python-dateutil>=2.8.2 in /usr/local/lib/python3.11/dist-packages (from pandas) (2.8.2)\n",
            "Requirement already satisfied: pytz>=2020.1 in /usr/local/lib/python3.11/dist-packages (from pandas) (2025.1)\n",
            "Requirement already satisfied: tzdata>=2022.7 in /usr/local/lib/python3.11/dist-packages (from pandas) (2025.1)\n",
            "Requirement already satisfied: six>=1.5 in /usr/local/lib/python3.11/dist-packages (from python-dateutil>=2.8.2->pandas) (1.17.0)\n"
          ]
        }
      ]
    },
    {
      "cell_type": "code",
      "source": [
        "# Import necessary libraries\n",
        "from sklearn.datasets import load_iris\n",
        "from sklearn.model_selection import train_test_split\n",
        "from sklearn.tree import DecisionTreeClassifier\n",
        "import pandas as pd\n",
        "\n",
        "# Load the Iris dataset\n",
        "iris = load_iris()\n",
        "X = iris.data  # Features\n",
        "y = iris.target  # Target labels\n",
        "\n",
        "# Split the dataset into training and testing sets\n",
        "X_train, X_test, y_train, y_test = train_test_split(X, y, test_size=0.2, random_state=42)\n",
        "\n",
        "# Create a Decision Tree Classifier using Gini impurity\n",
        "clf = DecisionTreeClassifier(criterion='gini', random_state=42)\n",
        "\n",
        "# Train the classifier\n",
        "clf.fit(X_train, y_train)\n",
        "\n",
        "# Get feature importances\n",
        "feature_importances = clf.feature_importances_\n",
        "\n",
        "# Create a DataFrame to display feature importances\n",
        "feature_names = iris.feature_names\n",
        "importance_df = pd.DataFrame({\n",
        "    'Feature': feature_names,\n",
        "    'Importance': feature_importances\n",
        "})\n",
        "\n",
        "# Sort the DataFrame by importance\n",
        "importance_df = importance_df.sort_values(by='Importance', ascending=False)\n",
        "\n",
        "# Print the feature importances\n",
        "print(\"Feature Importances:\")\n",
        "print(importance_df)\n"
      ],
      "metadata": {
        "colab": {
          "base_uri": "https://localhost:8080/"
        },
        "id": "X0Uq5TWfmipc",
        "outputId": "1f97b5db-c044-478d-ae5f-c53808676440"
      },
      "execution_count": 4,
      "outputs": [
        {
          "output_type": "stream",
          "name": "stdout",
          "text": [
            "Feature Importances:\n",
            "             Feature  Importance\n",
            "2  petal length (cm)    0.906143\n",
            "3   petal width (cm)    0.077186\n",
            "1   sepal width (cm)    0.016670\n",
            "0  sepal length (cm)    0.000000\n"
          ]
        }
      ]
    },
    {
      "cell_type": "markdown",
      "source": [
        "18. Write a Python program to train a Decision Tree Classifier using Entropy as the splitting criterion and print the\n",
        "model accuracy"
      ],
      "metadata": {
        "id": "aQ9YRg5ChEY1"
      }
    },
    {
      "cell_type": "markdown",
      "source": [
        "Certainly! Below is a Python program that trains a Decision Tree Classifier using entropy as the splitting criterion and prints the model's accuracy. We'll use the Iris dataset for this example.\n",
        "\n",
        "Make sure you have the necessary libraries installed (scikit-learn and pandas). If you haven't installed them yet, you can do so using pip:\n",
        "\n"
      ],
      "metadata": {
        "id": "OMj01XX5hEi-"
      }
    },
    {
      "cell_type": "code",
      "source": [
        "pip install scikit-learn pandas"
      ],
      "metadata": {
        "colab": {
          "base_uri": "https://localhost:8080/"
        },
        "id": "Y6fJUs96m0z_",
        "outputId": "f08c51d1-86fd-4774-ebf8-b917328732ab"
      },
      "execution_count": 5,
      "outputs": [
        {
          "output_type": "stream",
          "name": "stdout",
          "text": [
            "Requirement already satisfied: scikit-learn in /usr/local/lib/python3.11/dist-packages (1.6.1)\n",
            "Requirement already satisfied: pandas in /usr/local/lib/python3.11/dist-packages (2.2.2)\n",
            "Requirement already satisfied: numpy>=1.19.5 in /usr/local/lib/python3.11/dist-packages (from scikit-learn) (1.26.4)\n",
            "Requirement already satisfied: scipy>=1.6.0 in /usr/local/lib/python3.11/dist-packages (from scikit-learn) (1.13.1)\n",
            "Requirement already satisfied: joblib>=1.2.0 in /usr/local/lib/python3.11/dist-packages (from scikit-learn) (1.4.2)\n",
            "Requirement already satisfied: threadpoolctl>=3.1.0 in /usr/local/lib/python3.11/dist-packages (from scikit-learn) (3.5.0)\n",
            "Requirement already satisfied: python-dateutil>=2.8.2 in /usr/local/lib/python3.11/dist-packages (from pandas) (2.8.2)\n",
            "Requirement already satisfied: pytz>=2020.1 in /usr/local/lib/python3.11/dist-packages (from pandas) (2025.1)\n",
            "Requirement already satisfied: tzdata>=2022.7 in /usr/local/lib/python3.11/dist-packages (from pandas) (2025.1)\n",
            "Requirement already satisfied: six>=1.5 in /usr/local/lib/python3.11/dist-packages (from python-dateutil>=2.8.2->pandas) (1.17.0)\n"
          ]
        }
      ]
    },
    {
      "cell_type": "code",
      "source": [
        "# Import necessary libraries\n",
        "from sklearn.datasets import load_iris\n",
        "from sklearn.model_selection import train_test_split\n",
        "from sklearn.tree import DecisionTreeClassifier\n",
        "from sklearn.metrics import accuracy_score\n",
        "\n",
        "# Load the Iris dataset\n",
        "iris = load_iris()\n",
        "X = iris.data  # Features\n",
        "y = iris.target  # Target labels\n",
        "\n",
        "# Split the dataset into training and testing sets\n",
        "X_train, X_test, y_train, y_test = train_test_split(X, y, test_size=0.2, random_state=42)\n",
        "\n",
        "# Create a Decision Tree Classifier using Entropy as the criterion\n",
        "clf = DecisionTreeClassifier(criterion='entropy', random_state=42)\n",
        "\n",
        "# Train the classifier\n",
        "clf.fit(X_train, y_train)\n",
        "\n",
        "# Make predictions on the test set\n",
        "y_pred = clf.predict(X_test)\n",
        "\n",
        "# Calculate the accuracy\n",
        "accuracy = accuracy_score(y_test, y_pred)\n",
        "\n",
        "# Print the accuracy\n",
        "print(f'Model Accuracy: {accuracy * 100:.2f}%')"
      ],
      "metadata": {
        "colab": {
          "base_uri": "https://localhost:8080/"
        },
        "id": "LU4qxk_am03e",
        "outputId": "4c556f45-6a46-4dfa-d70c-1cae6ffd2a9d"
      },
      "execution_count": 6,
      "outputs": [
        {
          "output_type": "stream",
          "name": "stdout",
          "text": [
            "Model Accuracy: 100.00%\n"
          ]
        }
      ]
    },
    {
      "cell_type": "markdown",
      "source": [
        "Explanation of the Code:\n",
        "Import Libraries: The necessary libraries are imported, including load_iris to load the dataset, train_test_split to split the data, DecisionTreeClassifier to create the model, and accuracy_score to evaluate the model's performance.\n",
        "\n",
        "Load the Dataset: The Iris dataset is loaded, and the features (X) and target labels (y) are extracted.\n",
        "\n",
        "Split the Dataset: The dataset is split into training and testing sets, with 80% of the data used for training and 20% for testing.\n",
        "\n",
        "Create the Model: A Decision Tree Classifier is created using entropy as the splitting criterion.\n",
        "\n",
        "Train the Model: The classifier is trained on the training data.\n",
        "\n",
        "Make Predictions: The trained model is used to make predictions on the test set.\n",
        "\n",
        "Calculate Accuracy: The accuracy of the model is calculated by comparing the predicted labels with the actual labels from the test set.\n",
        "\n",
        "Print Accuracy: Finally, the accuracy is printed as a percentage.\n",
        "\n",
        "Running the Code\n",
        "You can copy and paste this code into a Python script or a Jupyter notebook and run it to see the model's accuracy on the Iris dataset. The accuracy may vary slightly each time you run it due to the random splitting of the dataset.\n",
        "\n",
        "\n",
        "\n",
        "\n"
      ],
      "metadata": {
        "id": "UEgYQ2AXhEk3"
      }
    },
    {
      "cell_type": "markdown",
      "source": [
        "19.  Write a Python program to train a Decision Tree Regressor on a housing dataset and evaluate using Mean\n",
        "Squared Error (MSE)*"
      ],
      "metadata": {
        "id": "TgKvn7KkhEpq"
      }
    },
    {
      "cell_type": "markdown",
      "source": [
        "Certainly! Below is a Python program that trains a Decision Tree Regressor on a housing dataset and evaluates the model using Mean Squared Error (MSE). For this example, we'll use the California housing dataset, which is available in scikit-learn.\n",
        "\n",
        "Make sure you have the necessary libraries installed (scikit-learn and pandas). If you haven't installed them yet, you can do so using pip:"
      ],
      "metadata": {
        "id": "l4T1uadxhEu9"
      }
    },
    {
      "cell_type": "code",
      "source": [
        "pip install scikit-learn pandas\n"
      ],
      "metadata": {
        "colab": {
          "base_uri": "https://localhost:8080/"
        },
        "id": "7S2YNapHnROD",
        "outputId": "349fef72-47ac-47e4-c078-47cda654c490"
      },
      "execution_count": 7,
      "outputs": [
        {
          "output_type": "stream",
          "name": "stdout",
          "text": [
            "Requirement already satisfied: scikit-learn in /usr/local/lib/python3.11/dist-packages (1.6.1)\n",
            "Requirement already satisfied: pandas in /usr/local/lib/python3.11/dist-packages (2.2.2)\n",
            "Requirement already satisfied: numpy>=1.19.5 in /usr/local/lib/python3.11/dist-packages (from scikit-learn) (1.26.4)\n",
            "Requirement already satisfied: scipy>=1.6.0 in /usr/local/lib/python3.11/dist-packages (from scikit-learn) (1.13.1)\n",
            "Requirement already satisfied: joblib>=1.2.0 in /usr/local/lib/python3.11/dist-packages (from scikit-learn) (1.4.2)\n",
            "Requirement already satisfied: threadpoolctl>=3.1.0 in /usr/local/lib/python3.11/dist-packages (from scikit-learn) (3.5.0)\n",
            "Requirement already satisfied: python-dateutil>=2.8.2 in /usr/local/lib/python3.11/dist-packages (from pandas) (2.8.2)\n",
            "Requirement already satisfied: pytz>=2020.1 in /usr/local/lib/python3.11/dist-packages (from pandas) (2025.1)\n",
            "Requirement already satisfied: tzdata>=2022.7 in /usr/local/lib/python3.11/dist-packages (from pandas) (2025.1)\n",
            "Requirement already satisfied: six>=1.5 in /usr/local/lib/python3.11/dist-packages (from python-dateutil>=2.8.2->pandas) (1.17.0)\n"
          ]
        }
      ]
    },
    {
      "cell_type": "code",
      "source": [
        "# Import necessary libraries\n",
        "from sklearn.datasets import fetch_california_housing\n",
        "from sklearn.model_selection import train_test_split\n",
        "from sklearn.tree import DecisionTreeRegressor\n",
        "from sklearn.metrics import mean_squared_error\n",
        "import numpy as np\n",
        "\n",
        "# Load the California housing dataset\n",
        "housing = fetch_california_housing()\n",
        "X = housing.data  # Features\n",
        "y = housing.target  # Target variable (house prices)\n",
        "\n",
        "# Split the dataset into training and testing sets\n",
        "X_train, X_test, y_train, y_test = train_test_split(X, y, test_size=0.2, random_state=42)\n",
        "\n",
        "# Create a Decision Tree Regressor\n",
        "regressor = DecisionTreeRegressor(random_state=42)\n",
        "\n",
        "# Train the regressor\n",
        "regressor.fit(X_train, y_train)\n",
        "\n",
        "# Make predictions on the test set\n",
        "y_pred = regressor.predict(X_test)\n",
        "\n",
        "# Calculate Mean Squared Error (MSE)\n",
        "mse = mean_squared_error(y_test, y_pred)\n",
        "\n",
        "# Print the Mean Squared Error\n",
        "print(f'Mean Squared Error: {mse:.2f}')"
      ],
      "metadata": {
        "colab": {
          "base_uri": "https://localhost:8080/"
        },
        "id": "sZE--iIznTMf",
        "outputId": "192a51b1-49ca-4449-f65d-8af011e2f9df"
      },
      "execution_count": 8,
      "outputs": [
        {
          "output_type": "stream",
          "name": "stdout",
          "text": [
            "Mean Squared Error: 0.50\n"
          ]
        }
      ]
    },
    {
      "cell_type": "markdown",
      "source": [
        "20 '***Write*** a Python program to train a Decision Tree Classifier and visualize the tree using graphviz*"
      ],
      "metadata": {
        "id": "ImqzW6AdhExG"
      }
    },
    {
      "cell_type": "markdown",
      "source": [
        "To visualize a Decision Tree Classifier using Graphviz in Python, you'll need to install a few libraries, including graphviz and pydotplus. You can install these libraries using pip:"
      ],
      "metadata": {
        "id": "Iq7is6nIhE1t"
      }
    },
    {
      "cell_type": "code",
      "source": [
        "pip install graphviz pydotplus"
      ],
      "metadata": {
        "colab": {
          "base_uri": "https://localhost:8080/"
        },
        "id": "6xecS3VDnmEL",
        "outputId": "446d6a98-09c1-42b9-fa49-ca75e7ba5a28"
      },
      "execution_count": 9,
      "outputs": [
        {
          "output_type": "stream",
          "name": "stdout",
          "text": [
            "Requirement already satisfied: graphviz in /usr/local/lib/python3.11/dist-packages (0.20.3)\n",
            "Requirement already satisfied: pydotplus in /usr/local/lib/python3.11/dist-packages (2.0.2)\n",
            "Requirement already satisfied: pyparsing>=2.0.1 in /usr/local/lib/python3.11/dist-packages (from pydotplus) (3.2.1)\n"
          ]
        }
      ]
    },
    {
      "cell_type": "markdown",
      "source": [
        "Additionally, you may need to install Graphviz software on your system. You can download it from Graphviz's official website.\n",
        "\n",
        "Below is a Python program that trains a Decision Tree Classifier on the Iris dataset and visualizes the tree using Graphviz:"
      ],
      "metadata": {
        "id": "53RpoHjqhE3v"
      }
    },
    {
      "cell_type": "code",
      "source": [
        "# Import necessary libraries\n",
        "from sklearn.datasets import load_iris\n",
        "from sklearn.model_selection import train_test_split\n",
        "from sklearn.tree import DecisionTreeClassifier, export_graphviz\n",
        "import graphviz\n",
        "\n",
        "# Load the Iris dataset\n",
        "iris = load_iris()\n",
        "X = iris.data  # Features\n",
        "y = iris.target  # Target labels\n",
        "\n",
        "# Split the dataset into training and testing sets\n",
        "X_train, X_test, y_train, y_test = train_test_split(X, y, test_size=0.2, random_state=42)\n",
        "\n",
        "# Create a Decision Tree Classifier\n",
        "clf = DecisionTreeClassifier(random_state=42)\n",
        "\n",
        "# Train the classifier\n",
        "clf.fit(X_train, y_train)\n",
        "\n",
        "# Visualize the tree\n",
        "dot_data = export_graphviz(clf, out_file=None,\n",
        "                           feature_names=iris.feature_names,\n",
        "                           class_names=iris.target_names,\n",
        "                           filled=True, rounded=True,\n",
        "                           special_characters=True)\n",
        "\n",
        "# Create a Graphviz source object\n",
        "graph = graphviz.Source(dot_data)\n",
        "graph.render(\"iris_decision_tree\")  # Save the tree as a PDF file\n",
        "graph.view()  # Open the PDF file"
      ],
      "metadata": {
        "colab": {
          "base_uri": "https://localhost:8080/",
          "height": 35
        },
        "id": "TUudw_9JnmPw",
        "outputId": "87133df4-70ee-4e0b-d79e-8957abe6ca5f"
      },
      "execution_count": 10,
      "outputs": [
        {
          "output_type": "execute_result",
          "data": {
            "text/plain": [
              "'iris_decision_tree.pdf'"
            ],
            "application/vnd.google.colaboratory.intrinsic+json": {
              "type": "string"
            }
          },
          "metadata": {},
          "execution_count": 10
        }
      ]
    },
    {
      "cell_type": "markdown",
      "source": [
        "21.  Write a Python program to train a Decision Tree Classifier with a maximum depth of 3 and compare its\n",
        "accuracy with a fully grown tree*"
      ],
      "metadata": {
        "id": "MPePEsufhE8J"
      }
    },
    {
      "cell_type": "markdown",
      "source": [
        "Certainly! Below is a Python program that trains two Decision Tree Classifiers on the Iris dataset: one with a maximum depth of 3 and another that is fully grown (without any depth restriction). The program then compares their accuracies.\n",
        "\n",
        "Make sure you have the necessary libraries installed (scikit-learn and pandas). If you haven't installed them yet, you can do so using pip:\n",
        "\n"
      ],
      "metadata": {
        "id": "vni8yVGFhE-V"
      }
    },
    {
      "cell_type": "code",
      "source": [
        "pip install scikit-learn pandas"
      ],
      "metadata": {
        "colab": {
          "base_uri": "https://localhost:8080/"
        },
        "id": "9-BOKiIBoEfA",
        "outputId": "186e51a2-5f25-431e-febf-ad167c936735"
      },
      "execution_count": 11,
      "outputs": [
        {
          "output_type": "stream",
          "name": "stdout",
          "text": [
            "Requirement already satisfied: scikit-learn in /usr/local/lib/python3.11/dist-packages (1.6.1)\n",
            "Requirement already satisfied: pandas in /usr/local/lib/python3.11/dist-packages (2.2.2)\n",
            "Requirement already satisfied: numpy>=1.19.5 in /usr/local/lib/python3.11/dist-packages (from scikit-learn) (1.26.4)\n",
            "Requirement already satisfied: scipy>=1.6.0 in /usr/local/lib/python3.11/dist-packages (from scikit-learn) (1.13.1)\n",
            "Requirement already satisfied: joblib>=1.2.0 in /usr/local/lib/python3.11/dist-packages (from scikit-learn) (1.4.2)\n",
            "Requirement already satisfied: threadpoolctl>=3.1.0 in /usr/local/lib/python3.11/dist-packages (from scikit-learn) (3.5.0)\n",
            "Requirement already satisfied: python-dateutil>=2.8.2 in /usr/local/lib/python3.11/dist-packages (from pandas) (2.8.2)\n",
            "Requirement already satisfied: pytz>=2020.1 in /usr/local/lib/python3.11/dist-packages (from pandas) (2025.1)\n",
            "Requirement already satisfied: tzdata>=2022.7 in /usr/local/lib/python3.11/dist-packages (from pandas) (2025.1)\n",
            "Requirement already satisfied: six>=1.5 in /usr/local/lib/python3.11/dist-packages (from python-dateutil>=2.8.2->pandas) (1.17.0)\n"
          ]
        }
      ]
    },
    {
      "cell_type": "code",
      "source": [
        "# Import necessary libraries\n",
        "from sklearn.datasets import load_iris\n",
        "from sklearn.model_selection import train_test_split\n",
        "from sklearn.tree import DecisionTreeClassifier\n",
        "from sklearn.metrics import accuracy_score\n",
        "\n",
        "# Load the Iris dataset\n",
        "iris = load_iris()\n",
        "X = iris.data  # Features\n",
        "y = iris.target  # Target labels\n",
        "\n",
        "# Split the dataset into training and testing sets\n",
        "X_train, X_test, y_train, y_test = train_test_split(X, y, test_size=0.2, random_state=42)\n",
        "\n",
        "# Create a Decision Tree Classifier with a maximum depth of 3\n",
        "clf_depth_3 = DecisionTreeClassifier(max_depth=3, random_state=42)\n",
        "\n",
        "# Train the classifier with max depth of 3\n",
        "clf_depth_3.fit(X_train, y_train)\n",
        "\n",
        "# Make predictions on the test set\n",
        "y_pred_depth_3 = clf_depth_3.predict(X_test)\n",
        "\n",
        "# Calculate the accuracy for the max depth of 3\n",
        "accuracy_depth_3 = accuracy_score(y_test, y_pred_depth_3)\n",
        "\n",
        "# Create a fully grown Decision Tree Classifier\n",
        "clf_full = DecisionTreeClassifier(random_state=42)\n",
        "\n",
        "# Train the fully grown classifier\n",
        "clf_full.fit(X_train, y_train)\n",
        "\n",
        "# Make predictions on the test set\n",
        "y_pred_full = clf_full.predict(X_test)\n",
        "\n",
        "# Calculate the accuracy for the fully grown tree\n",
        "accuracy_full = accuracy_score(y_test, y_pred_full)\n",
        "\n",
        "# Print the accuracies\n",
        "print(f'Accuracy of Decision Tree with max depth of 3: {accuracy_depth_3 * 100:.2f}%')\n",
        "print(f'Accuracy of Fully Grown Decision Tree: {accuracy_full * 100:.2f}%')"
      ],
      "metadata": {
        "colab": {
          "base_uri": "https://localhost:8080/"
        },
        "id": "gKLSfSGQoEpA",
        "outputId": "ec8731ba-3ac8-4d59-f7b4-6b49679ce453"
      },
      "execution_count": 12,
      "outputs": [
        {
          "output_type": "stream",
          "name": "stdout",
          "text": [
            "Accuracy of Decision Tree with max depth of 3: 100.00%\n",
            "Accuracy of Fully Grown Decision Tree: 100.00%\n"
          ]
        }
      ]
    },
    {
      "cell_type": "markdown",
      "source": [
        "22. Write a Python program to train a Decision Tree Classifier using min_samples_split=5 and compare its\n",
        "accuracy with a default tree*"
      ],
      "metadata": {
        "id": "m14OZ3UKhFCf"
      }
    },
    {
      "cell_type": "markdown",
      "source": [
        "Certainly! Below is a Python program that trains two Decision Tree Classifiers on the Iris dataset: one with a minimum samples split of 5 and another using the default settings. The program then compares their accuracies.\n",
        "\n"
      ],
      "metadata": {
        "id": "d4gve-ZthFEj"
      }
    },
    {
      "cell_type": "code",
      "source": [
        "pip install scikit-learn pandas"
      ],
      "metadata": {
        "colab": {
          "base_uri": "https://localhost:8080/"
        },
        "id": "CpUYTi4poaQA",
        "outputId": "ebd706b1-80c3-47c7-a7f7-e539897c266c"
      },
      "execution_count": 13,
      "outputs": [
        {
          "output_type": "stream",
          "name": "stdout",
          "text": [
            "Requirement already satisfied: scikit-learn in /usr/local/lib/python3.11/dist-packages (1.6.1)\n",
            "Requirement already satisfied: pandas in /usr/local/lib/python3.11/dist-packages (2.2.2)\n",
            "Requirement already satisfied: numpy>=1.19.5 in /usr/local/lib/python3.11/dist-packages (from scikit-learn) (1.26.4)\n",
            "Requirement already satisfied: scipy>=1.6.0 in /usr/local/lib/python3.11/dist-packages (from scikit-learn) (1.13.1)\n",
            "Requirement already satisfied: joblib>=1.2.0 in /usr/local/lib/python3.11/dist-packages (from scikit-learn) (1.4.2)\n",
            "Requirement already satisfied: threadpoolctl>=3.1.0 in /usr/local/lib/python3.11/dist-packages (from scikit-learn) (3.5.0)\n",
            "Requirement already satisfied: python-dateutil>=2.8.2 in /usr/local/lib/python3.11/dist-packages (from pandas) (2.8.2)\n",
            "Requirement already satisfied: pytz>=2020.1 in /usr/local/lib/python3.11/dist-packages (from pandas) (2025.1)\n",
            "Requirement already satisfied: tzdata>=2022.7 in /usr/local/lib/python3.11/dist-packages (from pandas) (2025.1)\n",
            "Requirement already satisfied: six>=1.5 in /usr/local/lib/python3.11/dist-packages (from python-dateutil>=2.8.2->pandas) (1.17.0)\n"
          ]
        }
      ]
    },
    {
      "cell_type": "code",
      "source": [
        "# Import necessary libraries\n",
        "from sklearn.datasets import load_iris\n",
        "from sklearn.model_selection import train_test_split\n",
        "from sklearn.tree import DecisionTreeClassifier\n",
        "from sklearn.metrics import accuracy_score\n",
        "\n",
        "# Load the Iris dataset\n",
        "iris = load_iris()\n",
        "X = iris.data  # Features\n",
        "y = iris.target  # Target labels\n",
        "\n",
        "# Split the dataset into training and testing sets\n",
        "X_train, X_test, y_train, y_test = train_test_split(X, y, test_size=0.2, random_state=42)\n",
        "\n",
        "# Create a Decision Tree Classifier with min_samples_split=5\n",
        "clf_min_samples_split = DecisionTreeClassifier(min_samples_split=5, random_state=42)\n",
        "\n",
        "# Train the classifier with min_samples_split=5\n",
        "clf_min_samples_split.fit(X_train, y_train)\n",
        "\n",
        "# Make predictions on the test set\n",
        "y_pred_min_samples_split = clf_min_samples_split.predict(X_test)\n",
        "\n",
        "# Calculate the accuracy for the min_samples_split=5\n",
        "accuracy_min_samples_split = accuracy_score(y_test, y_pred_min_samples_split)\n",
        "\n",
        "# Create a default Decision Tree Classifier\n",
        "clf_default = DecisionTreeClassifier(random_state=42)\n",
        "\n",
        "# Train the default classifier\n",
        "clf_default.fit(X_train, y_train)\n",
        "\n",
        "# Make predictions on the test set\n",
        "y_pred_default = clf_default.predict(X_test)\n",
        "\n",
        "# Calculate the accuracy for the default tree\n",
        "accuracy_default = accuracy_score(y_test, y_pred_default)\n",
        "\n",
        "# Print the accuracies\n",
        "print(f'Accuracy of Decision Tree with min_samples_split=5: {accuracy_min_samples_split * 100:.2f}%')\n",
        "print(f'Accuracy of Default Decision Tree: {accuracy_default * 100:.2f}%')"
      ],
      "metadata": {
        "colab": {
          "base_uri": "https://localhost:8080/"
        },
        "id": "gEXZW2U0oaTg",
        "outputId": "1981b0fe-2040-4bea-8684-5610f39e0fa3"
      },
      "execution_count": 14,
      "outputs": [
        {
          "output_type": "stream",
          "name": "stdout",
          "text": [
            "Accuracy of Decision Tree with min_samples_split=5: 100.00%\n",
            "Accuracy of Default Decision Tree: 100.00%\n"
          ]
        }
      ]
    },
    {
      "cell_type": "markdown",
      "source": [
        "23. Write a Python program to apply feature scaling before training a Decision Tree Classifier and compare its\n",
        "accuracy with unscaled data*"
      ],
      "metadata": {
        "id": "YQFQdyP7hFJA"
      }
    },
    {
      "cell_type": "markdown",
      "source": [
        "Feature scaling is often important in machine learning, especially for algorithms that rely on distance metrics. However, decision trees are generally not sensitive to the scale of the features because they make splits based on the order of the data rather than the actual values. Nevertheless, for educational purposes, we can still demonstrate how to apply feature scaling and compare the accuracy of a Decision Tree Classifier trained on scaled versus unscaled data.\n",
        "\n",
        "In this example, we'll use the Iris dataset and apply Min-Max scaling to the features before training the model. We'll then compare the accuracy of the model trained on the scaled data with the model trained on the unscaled data.\n",
        "\n"
      ],
      "metadata": {
        "id": "HGa48b2KhFLM"
      }
    },
    {
      "cell_type": "code",
      "source": [
        "pip install scikit-learn pandas"
      ],
      "metadata": {
        "colab": {
          "base_uri": "https://localhost:8080/"
        },
        "id": "1tE02oqwosaI",
        "outputId": "03e0f3f3-6f5c-4797-ec3f-8d99a53c99e3"
      },
      "execution_count": 15,
      "outputs": [
        {
          "output_type": "stream",
          "name": "stdout",
          "text": [
            "Requirement already satisfied: scikit-learn in /usr/local/lib/python3.11/dist-packages (1.6.1)\n",
            "Requirement already satisfied: pandas in /usr/local/lib/python3.11/dist-packages (2.2.2)\n",
            "Requirement already satisfied: numpy>=1.19.5 in /usr/local/lib/python3.11/dist-packages (from scikit-learn) (1.26.4)\n",
            "Requirement already satisfied: scipy>=1.6.0 in /usr/local/lib/python3.11/dist-packages (from scikit-learn) (1.13.1)\n",
            "Requirement already satisfied: joblib>=1.2.0 in /usr/local/lib/python3.11/dist-packages (from scikit-learn) (1.4.2)\n",
            "Requirement already satisfied: threadpoolctl>=3.1.0 in /usr/local/lib/python3.11/dist-packages (from scikit-learn) (3.5.0)\n",
            "Requirement already satisfied: python-dateutil>=2.8.2 in /usr/local/lib/python3.11/dist-packages (from pandas) (2.8.2)\n",
            "Requirement already satisfied: pytz>=2020.1 in /usr/local/lib/python3.11/dist-packages (from pandas) (2025.1)\n",
            "Requirement already satisfied: tzdata>=2022.7 in /usr/local/lib/python3.11/dist-packages (from pandas) (2025.1)\n",
            "Requirement already satisfied: six>=1.5 in /usr/local/lib/python3.11/dist-packages (from python-dateutil>=2.8.2->pandas) (1.17.0)\n"
          ]
        }
      ]
    },
    {
      "cell_type": "code",
      "source": [
        "# Import necessary libraries\n",
        "from sklearn.datasets import load_iris\n",
        "from sklearn.model_selection import train_test_split\n",
        "from sklearn.tree import DecisionTreeClassifier\n",
        "from sklearn.metrics import accuracy_score\n",
        "from sklearn.preprocessing import MinMaxScaler\n",
        "\n",
        "# Load the Iris dataset\n",
        "iris = load_iris()\n",
        "X = iris.data  # Features\n",
        "y = iris.target  # Target labels\n",
        "\n",
        "# Split the dataset into training and testing sets\n",
        "X_train, X_test, y_train, y_test = train_test_split(X, y, test_size=0.2, random_state=42)\n",
        "\n",
        "# Create a Decision Tree Classifier for unscaled data\n",
        "clf_unscaled = DecisionTreeClassifier(random_state=42)\n",
        "\n",
        "# Train the classifier on unscaled data\n",
        "clf_unscaled.fit(X_train, y_train)\n",
        "\n",
        "# Make predictions on the test set\n",
        "y_pred_unscaled = clf_unscaled.predict(X_test)\n",
        "\n",
        "# Calculate the accuracy for unscaled data\n",
        "accuracy_unscaled = accuracy_score(y_test, y_pred_unscaled)\n",
        "\n",
        "# Apply Min-Max scaling to the features\n",
        "scaler = MinMaxScaler()\n",
        "X_train_scaled = scaler.fit_transform(X_train)\n",
        "X_test_scaled = scaler.transform(X_test)\n",
        "\n",
        "# Create a Decision Tree Classifier for scaled data\n",
        "clf_scaled = DecisionTreeClassifier(random_state=42)\n",
        "\n",
        "# Train the classifier on scaled data\n",
        "clf_scaled.fit(X_train_scaled, y_train)\n",
        "\n",
        "# Make predictions on the test set\n",
        "y_pred_scaled = clf_scaled.predict(X_test_scaled)\n",
        "\n",
        "# Calculate the accuracy for scaled data\n",
        "accuracy_scaled = accuracy_score(y_test, y_pred_scaled)\n",
        "\n",
        "# Print the accuracies\n",
        "print(f'Accuracy of Decision Tree on Unscaled Data: {accuracy_unscaled * 100:.2f}%')\n",
        "print(f'Accuracy of Decision Tree on Scaled Data: {accuracy_scaled * 100:.2f}%')"
      ],
      "metadata": {
        "colab": {
          "base_uri": "https://localhost:8080/"
        },
        "id": "R16v7HevoslH",
        "outputId": "7c6eae04-e7ed-4325-e40c-4948aafd6d0d"
      },
      "execution_count": 16,
      "outputs": [
        {
          "output_type": "stream",
          "name": "stdout",
          "text": [
            "Accuracy of Decision Tree on Unscaled Data: 100.00%\n",
            "Accuracy of Decision Tree on Scaled Data: 100.00%\n"
          ]
        }
      ]
    },
    {
      "cell_type": "markdown",
      "source": [
        "24.  Write a Python program to train a Decision Tree Classifier using One-vs-Rest (OvR) strategy for multiclass\n",
        "classification*"
      ],
      "metadata": {
        "id": "fcvas9d0hFQN"
      }
    },
    {
      "cell_type": "markdown",
      "source": [
        "To train a Decision Tree Classifier using the One-vs-Rest (OvR) strategy for multiclass classification, you can use the OneVsRestClassifier from scikit-learn. This strategy involves training one classifier per class, where each classifier is trained to distinguish between one class and all other classes.\n",
        "\n",
        "Below is a Python program that demonstrates how to implement this using the Iris dataset:\n",
        "\n",
        "Make sure you have the necessary libraries installed (scikit-learn and pandas). If you haven't installed them yet, you can do so using pip:"
      ],
      "metadata": {
        "id": "0V5aNZ2fhFSR"
      }
    },
    {
      "cell_type": "code",
      "source": [
        "pip install scikit-learn pandas"
      ],
      "metadata": {
        "colab": {
          "base_uri": "https://localhost:8080/"
        },
        "id": "PeASSVpNo97Q",
        "outputId": "e5a54180-ccff-4b9f-8129-21812dd69f6b"
      },
      "execution_count": 17,
      "outputs": [
        {
          "output_type": "stream",
          "name": "stdout",
          "text": [
            "Requirement already satisfied: scikit-learn in /usr/local/lib/python3.11/dist-packages (1.6.1)\n",
            "Requirement already satisfied: pandas in /usr/local/lib/python3.11/dist-packages (2.2.2)\n",
            "Requirement already satisfied: numpy>=1.19.5 in /usr/local/lib/python3.11/dist-packages (from scikit-learn) (1.26.4)\n",
            "Requirement already satisfied: scipy>=1.6.0 in /usr/local/lib/python3.11/dist-packages (from scikit-learn) (1.13.1)\n",
            "Requirement already satisfied: joblib>=1.2.0 in /usr/local/lib/python3.11/dist-packages (from scikit-learn) (1.4.2)\n",
            "Requirement already satisfied: threadpoolctl>=3.1.0 in /usr/local/lib/python3.11/dist-packages (from scikit-learn) (3.5.0)\n",
            "Requirement already satisfied: python-dateutil>=2.8.2 in /usr/local/lib/python3.11/dist-packages (from pandas) (2.8.2)\n",
            "Requirement already satisfied: pytz>=2020.1 in /usr/local/lib/python3.11/dist-packages (from pandas) (2025.1)\n",
            "Requirement already satisfied: tzdata>=2022.7 in /usr/local/lib/python3.11/dist-packages (from pandas) (2025.1)\n",
            "Requirement already satisfied: six>=1.5 in /usr/local/lib/python3.11/dist-packages (from python-dateutil>=2.8.2->pandas) (1.17.0)\n"
          ]
        }
      ]
    },
    {
      "cell_type": "code",
      "source": [
        "# Import necessary libraries\n",
        "from sklearn.datasets import load_iris\n",
        "from sklearn.model_selection import train_test_split\n",
        "from sklearn.tree import DecisionTreeClassifier\n",
        "from sklearn.multiclass import OneVsRestClassifier\n",
        "from sklearn.metrics import accuracy_score\n",
        "\n",
        "# Load the Iris dataset\n",
        "iris = load_iris()\n",
        "X = iris.data  # Features\n",
        "y = iris.target  # Target labels\n",
        "\n",
        "# Split the dataset into training and testing sets\n",
        "X_train, X_test, y_train, y_test = train_test_split(X, y, test_size=0.2, random_state=42)\n",
        "\n",
        "# Create a Decision Tree Classifier\n",
        "dt_classifier = DecisionTreeClassifier(random_state=42)\n",
        "\n",
        "# Create a One-vs-Rest Classifier\n",
        "ovr_classifier = OneVsRestClassifier(dt_classifier)\n",
        "\n",
        "# Train the One-vs-Rest Classifier\n",
        "ovr_classifier.fit(X_train, y_train)\n",
        "\n",
        "# Make predictions on the test set\n",
        "y_pred = ovr_classifier.predict(X_test)\n",
        "\n",
        "# Calculate the accuracy\n",
        "accuracy = accuracy_score(y_test, y_pred)\n",
        "\n",
        "# Print the accuracy\n",
        "print(f'Accuracy of Decision Tree Classifier using One-vs-Rest strategy: {accuracy * 100:.2f}%')"
      ],
      "metadata": {
        "colab": {
          "base_uri": "https://localhost:8080/"
        },
        "id": "6O9Glg2ypBtX",
        "outputId": "a5eaf5e1-c1ea-499e-c03f-23014c481463"
      },
      "execution_count": 18,
      "outputs": [
        {
          "output_type": "stream",
          "name": "stdout",
          "text": [
            "Accuracy of Decision Tree Classifier using One-vs-Rest strategy: 100.00%\n"
          ]
        }
      ]
    },
    {
      "cell_type": "markdown",
      "source": [
        "25.  Write a Python program to train a Decision Tree Classifier and display the feature importance scores*"
      ],
      "metadata": {
        "id": "jeXFkx2JhFWz"
      }
    },
    {
      "cell_type": "code",
      "source": [
        "pip install scikit-learn pandas"
      ],
      "metadata": {
        "colab": {
          "base_uri": "https://localhost:8080/"
        },
        "id": "CGFjH3mSpT6J",
        "outputId": "5310fcaa-79be-4356-b5c0-fc170d1d5c94"
      },
      "execution_count": 19,
      "outputs": [
        {
          "output_type": "stream",
          "name": "stdout",
          "text": [
            "Requirement already satisfied: scikit-learn in /usr/local/lib/python3.11/dist-packages (1.6.1)\n",
            "Requirement already satisfied: pandas in /usr/local/lib/python3.11/dist-packages (2.2.2)\n",
            "Requirement already satisfied: numpy>=1.19.5 in /usr/local/lib/python3.11/dist-packages (from scikit-learn) (1.26.4)\n",
            "Requirement already satisfied: scipy>=1.6.0 in /usr/local/lib/python3.11/dist-packages (from scikit-learn) (1.13.1)\n",
            "Requirement already satisfied: joblib>=1.2.0 in /usr/local/lib/python3.11/dist-packages (from scikit-learn) (1.4.2)\n",
            "Requirement already satisfied: threadpoolctl>=3.1.0 in /usr/local/lib/python3.11/dist-packages (from scikit-learn) (3.5.0)\n",
            "Requirement already satisfied: python-dateutil>=2.8.2 in /usr/local/lib/python3.11/dist-packages (from pandas) (2.8.2)\n",
            "Requirement already satisfied: pytz>=2020.1 in /usr/local/lib/python3.11/dist-packages (from pandas) (2025.1)\n",
            "Requirement already satisfied: tzdata>=2022.7 in /usr/local/lib/python3.11/dist-packages (from pandas) (2025.1)\n",
            "Requirement already satisfied: six>=1.5 in /usr/local/lib/python3.11/dist-packages (from python-dateutil>=2.8.2->pandas) (1.17.0)\n"
          ]
        }
      ]
    },
    {
      "cell_type": "code",
      "source": [
        "# Import necessary libraries\n",
        "from sklearn.datasets import load_iris\n",
        "from sklearn.model_selection import train_test_split\n",
        "from sklearn.tree import DecisionTreeClassifier\n",
        "import pandas as pd\n",
        "\n",
        "# Load the Iris dataset\n",
        "iris = load_iris()\n",
        "X = iris.data  # Features\n",
        "y = iris.target  # Target labels\n",
        "\n",
        "# Split the dataset into training and testing sets\n",
        "X_train, X_test, y_train, y_test = train_test_split(X, y, test_size=0.2, random_state=42)\n",
        "\n",
        "# Create a Decision Tree Classifier\n",
        "clf = DecisionTreeClassifier(random_state=42)\n",
        "\n",
        "# Train the classifier\n",
        "clf.fit(X_train, y_train)\n",
        "\n",
        "# Get feature importance scores\n",
        "feature_importances = clf.feature_importances_\n",
        "\n",
        "# Create a DataFrame to display feature importances\n",
        "feature_names = iris.feature_names\n",
        "importance_df = pd.DataFrame({\n",
        "    'Feature': feature_names,\n",
        "    'Importance': feature_importances\n",
        "})\n",
        "\n",
        "# Sort the DataFrame by importance\n",
        "importance_df = importance_df.sort_values(by='Importance', ascending=False)\n",
        "\n",
        "# Print the feature importances\n",
        "print(\"Feature Importance Scores:\")\n",
        "print(importance_df)"
      ],
      "metadata": {
        "colab": {
          "base_uri": "https://localhost:8080/"
        },
        "id": "rVhjEGVjpUEZ",
        "outputId": "25d98ea7-11b2-40bc-d613-553e2d1daa7a"
      },
      "execution_count": 20,
      "outputs": [
        {
          "output_type": "stream",
          "name": "stdout",
          "text": [
            "Feature Importance Scores:\n",
            "             Feature  Importance\n",
            "2  petal length (cm)    0.906143\n",
            "3   petal width (cm)    0.077186\n",
            "1   sepal width (cm)    0.016670\n",
            "0  sepal length (cm)    0.000000\n"
          ]
        }
      ]
    },
    {
      "cell_type": "markdown",
      "source": [
        "Certainly! Below is a Python program that trains a Decision Tree Classifier on the Iris dataset and displays the feature importance scores. Feature importance scores indicate how much each feature contributes to the model's predictions.\n",
        "\n",
        "Make sure you have the necessary libraries installed (scikit-learn and pandas). If you haven't installed them yet, you can do so using pip:\n",
        "\n"
      ],
      "metadata": {
        "id": "YUMD0viVhFZS"
      }
    },
    {
      "cell_type": "markdown",
      "source": [
        "26.  Write a Python program to train a Decision Tree Regressor with max_depth=5 and compare its performance\n",
        "with an unrestricted tree"
      ],
      "metadata": {
        "id": "pu4i4BxDhFcV"
      }
    },
    {
      "cell_type": "markdown",
      "source": [
        "Certainly! Below is a Python program that trains two Decision Tree Regressors on the California housing dataset: one with a maximum depth of 5 and another that is fully grown (without any depth restriction). The program then compares their performance using Mean Squared Error (MSE) as the evaluation metric.\n",
        "\n",
        "Make sure you have the necessary libraries installed (scikit-learn and pandas). If you haven't installed them yet, you can do so using pip:"
      ],
      "metadata": {
        "id": "gZvQdGAYhFej"
      }
    },
    {
      "cell_type": "code",
      "source": [
        "pip install scikit-learn pandas"
      ],
      "metadata": {
        "colab": {
          "base_uri": "https://localhost:8080/"
        },
        "id": "buh3pcgtpmiY",
        "outputId": "40946bd8-e115-4cb0-daae-255235ac4f2d"
      },
      "execution_count": 21,
      "outputs": [
        {
          "output_type": "stream",
          "name": "stdout",
          "text": [
            "Requirement already satisfied: scikit-learn in /usr/local/lib/python3.11/dist-packages (1.6.1)\n",
            "Requirement already satisfied: pandas in /usr/local/lib/python3.11/dist-packages (2.2.2)\n",
            "Requirement already satisfied: numpy>=1.19.5 in /usr/local/lib/python3.11/dist-packages (from scikit-learn) (1.26.4)\n",
            "Requirement already satisfied: scipy>=1.6.0 in /usr/local/lib/python3.11/dist-packages (from scikit-learn) (1.13.1)\n",
            "Requirement already satisfied: joblib>=1.2.0 in /usr/local/lib/python3.11/dist-packages (from scikit-learn) (1.4.2)\n",
            "Requirement already satisfied: threadpoolctl>=3.1.0 in /usr/local/lib/python3.11/dist-packages (from scikit-learn) (3.5.0)\n",
            "Requirement already satisfied: python-dateutil>=2.8.2 in /usr/local/lib/python3.11/dist-packages (from pandas) (2.8.2)\n",
            "Requirement already satisfied: pytz>=2020.1 in /usr/local/lib/python3.11/dist-packages (from pandas) (2025.1)\n",
            "Requirement already satisfied: tzdata>=2022.7 in /usr/local/lib/python3.11/dist-packages (from pandas) (2025.1)\n",
            "Requirement already satisfied: six>=1.5 in /usr/local/lib/python3.11/dist-packages (from python-dateutil>=2.8.2->pandas) (1.17.0)\n"
          ]
        }
      ]
    },
    {
      "cell_type": "code",
      "source": [
        "# Import necessary libraries\n",
        "from sklearn.datasets import fetch_california_housing\n",
        "from sklearn.model_selection import train_test_split\n",
        "from sklearn.tree import DecisionTreeRegressor\n",
        "from sklearn.metrics import mean_squared_error\n",
        "\n",
        "# Load the California housing dataset\n",
        "housing = fetch_california_housing()\n",
        "X = housing.data  # Features\n",
        "y = housing.target  # Target variable (house prices)\n",
        "\n",
        "# Split the dataset into training and testing sets\n",
        "X_train, X_test, y_train, y_test = train_test_split(X, y, test_size=0.2, random_state=42)\n",
        "\n",
        "# Create a Decision Tree Regressor with max_depth=5\n",
        "regressor_depth_5 = DecisionTreeRegressor(max_depth=5, random_state=42)\n",
        "\n",
        "# Train the regressor with max_depth=5\n",
        "regressor_depth_5.fit(X_train, y_train)\n",
        "\n",
        "# Make predictions on the test set\n",
        "y_pred_depth_5 = regressor_depth_5.predict(X_test)\n",
        "\n",
        "# Calculate Mean Squared Error (MSE) for max_depth=5\n",
        "mse_depth_5 = mean_squared_error(y_test, y_pred_depth_5)\n",
        "\n",
        "# Create a fully grown Decision Tree Regressor\n",
        "regressor_full = DecisionTreeRegressor(random_state=42)\n",
        "\n",
        "# Train the fully grown regressor\n",
        "regressor_full.fit(X_train, y_train)\n",
        "\n",
        "# Make predictions on the test set\n",
        "y_pred_full = regressor_full.predict(X_test)\n",
        "\n",
        "# Calculate Mean Squared Error (MSE) for the fully grown tree\n",
        "mse_full = mean_squared_error(y_test, y_pred_full)\n",
        "\n",
        "# Print the Mean Squared Errors\n",
        "print(f'Mean Squared Error of Decision Tree with max_depth=5: {mse_depth_5:.2f}')\n",
        "print(f'Mean Squared Error of Fully Grown Decision Tree: {mse_full:.2f}')"
      ],
      "metadata": {
        "colab": {
          "base_uri": "https://localhost:8080/"
        },
        "id": "j0Vviqbvpmoz",
        "outputId": "baebb0e9-ca7a-4d9e-dfcf-57385bfb29c9"
      },
      "execution_count": 22,
      "outputs": [
        {
          "output_type": "stream",
          "name": "stdout",
          "text": [
            "Mean Squared Error of Decision Tree with max_depth=5: 0.52\n",
            "Mean Squared Error of Fully Grown Decision Tree: 0.50\n"
          ]
        }
      ]
    },
    {
      "cell_type": "markdown",
      "source": [
        "27.  Write a Python program to train a Decision Tree Classifier, apply Cost Complexity Pruning (CCP), and\n",
        "visualize its effect on accuracy*"
      ],
      "metadata": {
        "id": "GwRog3CrhFif"
      }
    },
    {
      "cell_type": "markdown",
      "source": [
        "Cost Complexity Pruning (CCP) is a technique used to prune a decision tree by removing nodes that have little importance, which can help prevent overfitting. In scikit-learn, you can use the ccp_alpha parameter in the DecisionTreeClassifier to apply this pruning.\n",
        "\n",
        "Below is a Python program that trains a Decision Tree Classifier on the Iris dataset, applies Cost Complexity Pruning, and visualizes the effect on accuracy. We will evaluate the model's accuracy for different values of ccp_alpha.\n",
        "\n",
        "Make sure you have the necessary libraries installed (scikit-learn, pandas, and matplotlib). If you haven't installed them yet, you can do so using pip:"
      ],
      "metadata": {
        "id": "BIA9g8jihFk3"
      }
    },
    {
      "cell_type": "code",
      "source": [
        "pip install scikit-learn pandas matplotlib"
      ],
      "metadata": {
        "colab": {
          "base_uri": "https://localhost:8080/"
        },
        "id": "tie9APM3p7rA",
        "outputId": "6cc62131-9988-4a97-c05b-7dbc37d3f522"
      },
      "execution_count": 23,
      "outputs": [
        {
          "output_type": "stream",
          "name": "stdout",
          "text": [
            "Requirement already satisfied: scikit-learn in /usr/local/lib/python3.11/dist-packages (1.6.1)\n",
            "Requirement already satisfied: pandas in /usr/local/lib/python3.11/dist-packages (2.2.2)\n",
            "Requirement already satisfied: matplotlib in /usr/local/lib/python3.11/dist-packages (3.10.0)\n",
            "Requirement already satisfied: numpy>=1.19.5 in /usr/local/lib/python3.11/dist-packages (from scikit-learn) (1.26.4)\n",
            "Requirement already satisfied: scipy>=1.6.0 in /usr/local/lib/python3.11/dist-packages (from scikit-learn) (1.13.1)\n",
            "Requirement already satisfied: joblib>=1.2.0 in /usr/local/lib/python3.11/dist-packages (from scikit-learn) (1.4.2)\n",
            "Requirement already satisfied: threadpoolctl>=3.1.0 in /usr/local/lib/python3.11/dist-packages (from scikit-learn) (3.5.0)\n",
            "Requirement already satisfied: python-dateutil>=2.8.2 in /usr/local/lib/python3.11/dist-packages (from pandas) (2.8.2)\n",
            "Requirement already satisfied: pytz>=2020.1 in /usr/local/lib/python3.11/dist-packages (from pandas) (2025.1)\n",
            "Requirement already satisfied: tzdata>=2022.7 in /usr/local/lib/python3.11/dist-packages (from pandas) (2025.1)\n",
            "Requirement already satisfied: contourpy>=1.0.1 in /usr/local/lib/python3.11/dist-packages (from matplotlib) (1.3.1)\n",
            "Requirement already satisfied: cycler>=0.10 in /usr/local/lib/python3.11/dist-packages (from matplotlib) (0.12.1)\n",
            "Requirement already satisfied: fonttools>=4.22.0 in /usr/local/lib/python3.11/dist-packages (from matplotlib) (4.56.0)\n",
            "Requirement already satisfied: kiwisolver>=1.3.1 in /usr/local/lib/python3.11/dist-packages (from matplotlib) (1.4.8)\n",
            "Requirement already satisfied: packaging>=20.0 in /usr/local/lib/python3.11/dist-packages (from matplotlib) (24.2)\n",
            "Requirement already satisfied: pillow>=8 in /usr/local/lib/python3.11/dist-packages (from matplotlib) (11.1.0)\n",
            "Requirement already satisfied: pyparsing>=2.3.1 in /usr/local/lib/python3.11/dist-packages (from matplotlib) (3.2.1)\n",
            "Requirement already satisfied: six>=1.5 in /usr/local/lib/python3.11/dist-packages (from python-dateutil>=2.8.2->pandas) (1.17.0)\n"
          ]
        }
      ]
    },
    {
      "cell_type": "code",
      "source": [
        "# Import necessary libraries\n",
        "import numpy as np\n",
        "import pandas as pd\n",
        "import matplotlib.pyplot as plt\n",
        "from sklearn.datasets import load_iris\n",
        "from sklearn.model_selection import train_test_split\n",
        "from sklearn.tree import DecisionTreeClassifier\n",
        "from sklearn.metrics import accuracy_score\n",
        "\n",
        "# Load the Iris dataset\n",
        "iris = load_iris()\n",
        "X = iris.data  # Features\n",
        "y = iris.target  # Target labels\n",
        "\n",
        "# Split the dataset into training and testing sets\n",
        "X_train, X_test, y_train, y_test = train_test_split(X, y, test_size=0.2, random_state=42)\n",
        "\n",
        "# Create a Decision Tree Classifier\n",
        "clf = DecisionTreeClassifier(random_state=42)\n",
        "\n",
        "# Train the classifier\n",
        "clf.fit(X_train, y_train)\n",
        "\n",
        "# Get the effective alphas and the corresponding decision trees\n",
        "path = clf.cost_complexity_pruning_path(X_train, y_train)\n",
        "ccp_alphas, impurities = path.ccp_alphas, path.impurities\n",
        "\n",
        "# Create a list to store the accuracy for each alpha\n",
        "accuracies = []\n",
        "\n",
        "# Evaluate the model for each alpha\n",
        "for alpha in ccp_alphas:\n",
        "    clf_pruned = DecisionTreeClassifier(random_state=42, ccp_alpha=alpha)\n",
        "    clf_pruned.fit(X_train, y_train)\n",
        "    y_pred = clf_pruned.predict(X_test)\n",
        "    accuracy = accuracy_score(y_test, y_pred)\n",
        "    accuracies.append(accuracy)\n",
        "\n",
        "# Plot the accuracy vs. ccp_alpha\n",
        "plt.figure(figsize=(10, 6))\n",
        "plt.plot(ccp_alphas, accuracies, marker='o', linestyle='-')\n",
        "plt.title('Effect of Cost Complexity Pruning on Accuracy')\n",
        "plt.xlabel('ccp_alpha')\n",
        "plt.ylabel('Accuracy')\n",
        "plt.xticks(np.arange(0, max(ccp_alphas) + 0.01, 0.01))\n",
        "plt.grid()\n",
        "plt.show()\n",
        "\n",
        "# Print the best alpha and corresponding accuracy\n",
        "best_alpha = ccp_alphas[np.argmax(accuracies)]\n",
        "best_accuracy = max(accuracies)\n",
        "print(f'Best ccp_alpha: {best_alpha:.4f}, Best Accuracy: {best_accuracy:.2f}')"
      ],
      "metadata": {
        "colab": {
          "base_uri": "https://localhost:8080/",
          "height": 581
        },
        "id": "Ufmwwa0Cp7uh",
        "outputId": "8a013238-e30e-4489-b14b-6f21800fce65"
      },
      "execution_count": 24,
      "outputs": [
        {
          "output_type": "display_data",
          "data": {
            "text/plain": [
              "<Figure size 1000x600 with 1 Axes>"
            ],
            "image/png": "[encoded data removed]"
          },
          "metadata": {}
        },
        {
          "output_type": "stream",
          "name": "stdout",
          "text": [
            "Best ccp_alpha: 0.0000, Best Accuracy: 1.00\n"
          ]
        }
      ]
    },
    {
      "cell_type": "markdown",
      "source": [
        "28.  Write a Python program to train a Decision Tree Classifier and evaluate its performance using Precision,\n",
        "Recall, and F1-Score*\n"
      ],
      "metadata": {
        "id": "bjVgts9ShFov"
      }
    },
    {
      "cell_type": "markdown",
      "source": [
        "Certainly! Below is a Python program that trains a Decision Tree Classifier on the Iris dataset and evaluates its performance using Precision, Recall, and F1-Score. These metrics are particularly useful for understanding the performance of a classification model, especially in cases where the class distribution is imbalanced.\n",
        "\n",
        "Make sure you have the necessary libraries installed (scikit-learn and pandas). If you haven't installed them yet, you can do so using pip:"
      ],
      "metadata": {
        "id": "3pbzb3FMhFrE"
      }
    },
    {
      "cell_type": "code",
      "source": [
        "pip install scikit-learn pandas"
      ],
      "metadata": {
        "colab": {
          "base_uri": "https://localhost:8080/"
        },
        "id": "kQHmoTQvqQS4",
        "outputId": "3115eccd-192a-4f63-904d-54820b2930ee"
      },
      "execution_count": 25,
      "outputs": [
        {
          "output_type": "stream",
          "name": "stdout",
          "text": [
            "Requirement already satisfied: scikit-learn in /usr/local/lib/python3.11/dist-packages (1.6.1)\n",
            "Requirement already satisfied: pandas in /usr/local/lib/python3.11/dist-packages (2.2.2)\n",
            "Requirement already satisfied: numpy>=1.19.5 in /usr/local/lib/python3.11/dist-packages (from scikit-learn) (1.26.4)\n",
            "Requirement already satisfied: scipy>=1.6.0 in /usr/local/lib/python3.11/dist-packages (from scikit-learn) (1.13.1)\n",
            "Requirement already satisfied: joblib>=1.2.0 in /usr/local/lib/python3.11/dist-packages (from scikit-learn) (1.4.2)\n",
            "Requirement already satisfied: threadpoolctl>=3.1.0 in /usr/local/lib/python3.11/dist-packages (from scikit-learn) (3.5.0)\n",
            "Requirement already satisfied: python-dateutil>=2.8.2 in /usr/local/lib/python3.11/dist-packages (from pandas) (2.8.2)\n",
            "Requirement already satisfied: pytz>=2020.1 in /usr/local/lib/python3.11/dist-packages (from pandas) (2025.1)\n",
            "Requirement already satisfied: tzdata>=2022.7 in /usr/local/lib/python3.11/dist-packages (from pandas) (2025.1)\n",
            "Requirement already satisfied: six>=1.5 in /usr/local/lib/python3.11/dist-packages (from python-dateutil>=2.8.2->pandas) (1.17.0)\n"
          ]
        }
      ]
    },
    {
      "cell_type": "code",
      "source": [
        "# Import necessary libraries\n",
        "from sklearn.datasets import load_iris\n",
        "from sklearn.model_selection import train_test_split\n",
        "from sklearn.tree import DecisionTreeClassifier\n",
        "from sklearn.metrics import precision_score, recall_score, f1_score, classification_report\n",
        "\n",
        "# Load the Iris dataset\n",
        "iris = load_iris()\n",
        "X = iris.data  # Features\n",
        "y = iris.target  # Target labels\n",
        "\n",
        "# Split the dataset into training and testing sets\n",
        "X_train, X_test, y_train, y_test = train_test_split(X, y, test_size=0.2, random_state=42)\n",
        "\n",
        "# Create a Decision Tree Classifier\n",
        "clf = DecisionTreeClassifier(random_state=42)\n",
        "\n",
        "# Train the classifier\n",
        "clf.fit(X_train, y_train)\n",
        "\n",
        "# Make predictions on the test set\n",
        "y_pred = clf.predict(X_test)\n",
        "\n",
        "# Calculate Precision, Recall, and F1-Score\n",
        "precision = precision_score(y_test, y_pred, average='weighted')\n",
        "recall = recall_score(y_test, y_pred, average='weighted')\n",
        "f1 = f1_score(y_test, y_pred, average='weighted')\n",
        "\n",
        "# Print the results\n",
        "print(f'Precision: {precision:.2f}')\n",
        "print(f'Recall: {recall:.2f}')\n",
        "print(f'F1-Score: {f1:.2f}')\n",
        "\n",
        "# Print a detailed classification report\n",
        "print(\"\\nClassification Report:\")\n",
        "print(classification_report(y_test, y_pred, target_names=iris.target_names))"
      ],
      "metadata": {
        "colab": {
          "base_uri": "https://localhost:8080/"
        },
        "id": "ef-AdIkCqQW1",
        "outputId": "9b384385-6a9e-4dbb-832a-cf0e04eab1b9"
      },
      "execution_count": 26,
      "outputs": [
        {
          "output_type": "stream",
          "name": "stdout",
          "text": [
            "Precision: 1.00\n",
            "Recall: 1.00\n",
            "F1-Score: 1.00\n",
            "\n",
            "Classification Report:\n",
            "              precision    recall  f1-score   support\n",
            "\n",
            "      setosa       1.00      1.00      1.00        10\n",
            "  versicolor       1.00      1.00      1.00         9\n",
            "   virginica       1.00      1.00      1.00        11\n",
            "\n",
            "    accuracy                           1.00        30\n",
            "   macro avg       1.00      1.00      1.00        30\n",
            "weighted avg       1.00      1.00      1.00        30\n",
            "\n"
          ]
        }
      ]
    },
    {
      "cell_type": "markdown",
      "source": [
        "29 Write a Python program to train a Decision Tree Classifier and visualize the confusion matrix using seaborn*"
      ],
      "metadata": {
        "id": "BdD10OIMhFvt"
      }
    },
    {
      "cell_type": "markdown",
      "source": [
        "Certainly! Below is a Python program that trains a Decision Tree Classifier on the Iris dataset and visualizes the confusion matrix using the seaborn library. The confusion matrix provides a summary of the prediction results on a classification problem, showing the counts of true positive, true negative, false positive, and false negative predictions."
      ],
      "metadata": {
        "id": "-VAeGvQChF1w"
      }
    },
    {
      "cell_type": "code",
      "source": [
        "pip install scikit-learn pandas seaborn matplotlib"
      ],
      "metadata": {
        "colab": {
          "base_uri": "https://localhost:8080/"
        },
        "id": "u0THW6DoqjE3",
        "outputId": "cf525064-ff39-45a9-cf7f-9d9d45f1746f"
      },
      "execution_count": 27,
      "outputs": [
        {
          "output_type": "stream",
          "name": "stdout",
          "text": [
            "Requirement already satisfied: scikit-learn in /usr/local/lib/python3.11/dist-packages (1.6.1)\n",
            "Requirement already satisfied: pandas in /usr/local/lib/python3.11/dist-packages (2.2.2)\n",
            "Requirement already satisfied: seaborn in /usr/local/lib/python3.11/dist-packages (0.13.2)\n",
            "Requirement already satisfied: matplotlib in /usr/local/lib/python3.11/dist-packages (3.10.0)\n",
            "Requirement already satisfied: numpy>=1.19.5 in /usr/local/lib/python3.11/dist-packages (from scikit-learn) (1.26.4)\n",
            "Requirement already satisfied: scipy>=1.6.0 in /usr/local/lib/python3.11/dist-packages (from scikit-learn) (1.13.1)\n",
            "Requirement already satisfied: joblib>=1.2.0 in /usr/local/lib/python3.11/dist-packages (from scikit-learn) (1.4.2)\n",
            "Requirement already satisfied: threadpoolctl>=3.1.0 in /usr/local/lib/python3.11/dist-packages (from scikit-learn) (3.5.0)\n",
            "Requirement already satisfied: python-dateutil>=2.8.2 in /usr/local/lib/python3.11/dist-packages (from pandas) (2.8.2)\n",
            "Requirement already satisfied: pytz>=2020.1 in /usr/local/lib/python3.11/dist-packages (from pandas) (2025.1)\n",
            "Requirement already satisfied: tzdata>=2022.7 in /usr/local/lib/python3.11/dist-packages (from pandas) (2025.1)\n",
            "Requirement already satisfied: contourpy>=1.0.1 in /usr/local/lib/python3.11/dist-packages (from matplotlib) (1.3.1)\n",
            "Requirement already satisfied: cycler>=0.10 in /usr/local/lib/python3.11/dist-packages (from matplotlib) (0.12.1)\n",
            "Requirement already satisfied: fonttools>=4.22.0 in /usr/local/lib/python3.11/dist-packages (from matplotlib) (4.56.0)\n",
            "Requirement already satisfied: kiwisolver>=1.3.1 in /usr/local/lib/python3.11/dist-packages (from matplotlib) (1.4.8)\n",
            "Requirement already satisfied: packaging>=20.0 in /usr/local/lib/python3.11/dist-packages (from matplotlib) (24.2)\n",
            "Requirement already satisfied: pillow>=8 in /usr/local/lib/python3.11/dist-packages (from matplotlib) (11.1.0)\n",
            "Requirement already satisfied: pyparsing>=2.3.1 in /usr/local/lib/python3.11/dist-packages (from matplotlib) (3.2.1)\n",
            "Requirement already satisfied: six>=1.5 in /usr/local/lib/python3.11/dist-packages (from python-dateutil>=2.8.2->pandas) (1.17.0)\n"
          ]
        }
      ]
    },
    {
      "cell_type": "code",
      "source": [
        "# Import necessary libraries\n",
        "import numpy as np\n",
        "import pandas as pd\n",
        "import seaborn as sns\n",
        "import matplotlib.pyplot as plt\n",
        "from sklearn.datasets import load_iris\n",
        "from sklearn.model_selection import train_test_split\n",
        "from sklearn.tree import DecisionTreeClassifier\n",
        "from sklearn.metrics import confusion_matrix\n",
        "\n",
        "# Load the Iris dataset\n",
        "iris = load_iris()\n",
        "X = iris.data  # Features\n",
        "y = iris.target  # Target labels\n",
        "\n",
        "# Split the dataset into training and testing sets\n",
        "X_train, X_test, y_train, y_test = train_test_split(X, y, test_size=0.2, random_state=42)\n",
        "\n",
        "# Create a Decision Tree Classifier\n",
        "clf = DecisionTreeClassifier(random_state=42)\n",
        "\n",
        "# Train the classifier\n",
        "clf.fit(X_train, y_train)\n",
        "\n",
        "# Make predictions on the test set\n",
        "y_pred = clf.predict(X_test)\n",
        "\n",
        "# Compute the confusion matrix\n",
        "cm = confusion_matrix(y_test, y_pred)\n",
        "\n",
        "# Create a DataFrame for better visualization\n",
        "cm_df = pd.DataFrame(cm, index=iris.target_names, columns=iris.target_names)\n",
        "\n",
        "# Visualize the confusion matrix using seaborn\n",
        "plt.figure(figsize=(8, 6))\n",
        "sns.heatmap(cm_df, annot=True, fmt='d', cmap='Blues', cbar=False, square=True)\n",
        "plt.title('Confusion Matrix')\n",
        "plt.xlabel('Predicted Label')\n",
        "plt.ylabel('True Label')\n",
        "plt.show()"
      ],
      "metadata": {
        "colab": {
          "base_uri": "https://localhost:8080/",
          "height": 564
        },
        "id": "jRLWz6W3qiIp",
        "outputId": "501ac4df-04d0-4095-a33e-545a61adf771"
      },
      "execution_count": 28,
      "outputs": [
        {
          "output_type": "display_data",
          "data": {
            "text/plain": [
              "<Figure size 800x600 with 1 Axes>"
            ],
            "image/png": "[encoded data removed]"
          },
          "metadata": {}
        }
      ]
    },
    {
      "cell_type": "markdown",
      "source": [
        "30. Write a Python program to train a Decision Tree Classifier and use GridSearchCV to find the optimal values\n",
        "for max_depth and min_samples_split."
      ],
      "metadata": {
        "id": "pcEAnuHrhF4T"
      }
    },
    {
      "cell_type": "markdown",
      "source": [
        "Certainly! Below is a Python program that trains a Decision Tree Classifier on the Iris dataset and uses GridSearchCV to find the optimal values for max_depth and min_samples_split. This process involves performing an exhaustive search over specified parameter values for the classifier.\n",
        "\n",
        "Make sure you have the necessary libraries installed (scikit-learn and pandas). If you haven't installed them yet, you can do so using pip:"
      ],
      "metadata": {
        "id": "ufyFrXPkhF_Y"
      }
    },
    {
      "cell_type": "code",
      "source": [
        "pip install scikit-learn pandas"
      ],
      "metadata": {
        "colab": {
          "base_uri": "https://localhost:8080/"
        },
        "id": "eRpwWQL2rGgi",
        "outputId": "84c345ed-1500-4d3d-a17b-e203f1d92ef4"
      },
      "execution_count": 29,
      "outputs": [
        {
          "output_type": "stream",
          "name": "stdout",
          "text": [
            "Requirement already satisfied: scikit-learn in /usr/local/lib/python3.11/dist-packages (1.6.1)\n",
            "Requirement already satisfied: pandas in /usr/local/lib/python3.11/dist-packages (2.2.2)\n",
            "Requirement already satisfied: numpy>=1.19.5 in /usr/local/lib/python3.11/dist-packages (from scikit-learn) (1.26.4)\n",
            "Requirement already satisfied: scipy>=1.6.0 in /usr/local/lib/python3.11/dist-packages (from scikit-learn) (1.13.1)\n",
            "Requirement already satisfied: joblib>=1.2.0 in /usr/local/lib/python3.11/dist-packages (from scikit-learn) (1.4.2)\n",
            "Requirement already satisfied: threadpoolctl>=3.1.0 in /usr/local/lib/python3.11/dist-packages (from scikit-learn) (3.5.0)\n",
            "Requirement already satisfied: python-dateutil>=2.8.2 in /usr/local/lib/python3.11/dist-packages (from pandas) (2.8.2)\n",
            "Requirement already satisfied: pytz>=2020.1 in /usr/local/lib/python3.11/dist-packages (from pandas) (2025.1)\n",
            "Requirement already satisfied: tzdata>=2022.7 in /usr/local/lib/python3.11/dist-packages (from pandas) (2025.1)\n",
            "Requirement already satisfied: six>=1.5 in /usr/local/lib/python3.11/dist-packages (from python-dateutil>=2.8.2->pandas) (1.17.0)\n"
          ]
        }
      ]
    },
    {
      "cell_type": "code",
      "source": [
        "# Import necessary libraries\n",
        "from sklearn.datasets import load_iris\n",
        "from sklearn.model_selection import train_test_split, GridSearchCV\n",
        "from sklearn.tree import DecisionTreeClassifier\n",
        "from sklearn.metrics import accuracy_score\n",
        "\n",
        "# Load the Iris dataset\n",
        "iris = load_iris()\n",
        "X = iris.data  # Features\n",
        "y = iris.target  # Target labels\n",
        "\n",
        "# Split the dataset into training and testing sets\n",
        "X_train, X_test, y_train, y_test = train_test_split(X, y, test_size=0.2, random_state=42)\n",
        "\n",
        "# Create a Decision Tree Classifier\n",
        "clf = DecisionTreeClassifier(random_state=42)\n",
        "\n",
        "# Define the parameter grid for max_depth and min_samples_split\n",
        "param_grid = {\n",
        "    'max_depth': [None, 1, 2, 3, 4, 5, 6, 7, 8, 9, 10],\n",
        "    'min_samples_split': [2, 3, 4, 5, 6, 7, 8, 9, 10]\n",
        "}\n",
        "\n",
        "# Create a GridSearchCV object\n",
        "grid_search = GridSearchCV(estimator=clf, param_grid=param_grid, cv=5, scoring='accuracy')\n",
        "\n",
        "# Fit the GridSearchCV object to the training data\n",
        "grid_search.fit(X_train, y_train)\n",
        "\n",
        "# Get the best parameters and the best score\n",
        "best_params = grid_search.best_params_\n",
        "best_score = grid_search.best_score_\n",
        "\n",
        "# Make predictions using the best estimator\n",
        "best_clf = grid_search.best_estimator_\n",
        "y_pred = best_clf.predict(X_test)\n",
        "\n",
        "# Calculate accuracy on the test set\n",
        "test_accuracy = accuracy_score(y_test, y_pred)\n",
        "\n",
        "# Print the results\n",
        "print(f'Best Parameters: {best_params}')\n",
        "print(f'Best Cross-Validation Score: {best_score:.2f}')\n",
        "print(f'Test Set Accuracy: {test_accuracy:.2f}')"
      ],
      "metadata": {
        "colab": {
          "base_uri": "https://localhost:8080/"
        },
        "id": "5RBGZk8arGl4",
        "outputId": "48deb97c-521c-4b9f-97ef-16aaf30ab8e1"
      },
      "execution_count": 30,
      "outputs": [
        {
          "output_type": "stream",
          "name": "stdout",
          "text": [
            "Best Parameters: {'max_depth': None, 'min_samples_split': 2}\n",
            "Best Cross-Validation Score: 0.94\n",
            "Test Set Accuracy: 1.00\n"
          ]
        }
      ]
    },
    {
      "cell_type": "markdown",
      "source": [],
      "metadata": {
        "id": "hBv3VbNshGBy"
      }
    },
    {
      "cell_type": "markdown",
      "source": [],
      "metadata": {
        "id": "15o3_XqghGFl"
      }
    },
    {
      "cell_type": "markdown",
      "source": [],
      "metadata": {
        "id": "0ldCDt03hGJv"
      }
    },
    {
      "cell_type": "code",
      "source": [],
      "metadata": {
        "id": "x347dEtWrnP6"
      },
      "execution_count": null,
      "outputs": []
    },
    {
      "cell_type": "markdown",
      "source": [],
      "metadata": {
        "id": "PfPaYLa2hGMO"
      }
    },
    {
      "cell_type": "markdown",
      "source": [],
      "metadata": {
        "id": "E6ZhyW7RhGQ2"
      }
    },
    {
      "cell_type": "markdown",
      "source": [],
      "metadata": {
        "id": "7KvDyfOehGXY"
      }
    },
    {
      "cell_type": "markdown",
      "source": [],
      "metadata": {
        "id": "Gnzqjb3vhGaA"
      }
    },
    {
      "cell_type": "markdown",
      "source": [],
      "metadata": {
        "id": "jaLlSFd0hGeW"
      }
    },
    {
      "cell_type": "markdown",
      "source": [],
      "metadata": {
        "id": "v6hxQDeThGg4"
      }
    },
    {
      "cell_type": "markdown",
      "source": [],
      "metadata": {
        "id": "LJumWDLhhGkv"
      }
    }
  ]
}