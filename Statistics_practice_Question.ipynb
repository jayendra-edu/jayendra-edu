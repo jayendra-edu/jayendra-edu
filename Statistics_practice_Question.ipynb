{
  "nbformat": 4,
  "nbformat_minor": 0,
  "metadata": {
    "colab": {
      "provenance": [],
      "authorship_tag": "ABX9TyMH3xWxboCYMvPGpdQwibn/",
      "include_colab_link": true
    },
    "kernelspec": {
      "name": "python3",
      "display_name": "Python 3"
    },
    "language_info": {
      "name": "python"
    }
  },
  "cells": [
    {
      "cell_type": "markdown",
      "metadata": {
        "id": "view-in-github",
        "colab_type": "text"
      },
      "source": [
        "<a href=\"https://colab.research.google.com/github/jayendra-edu/jayendra-edu/blob/main/Statistics_practice_Question.ipynb\" target=\"_parent\"><img src=\"https://colab.research.google.com/assets/colab-badge.svg\" alt=\"Open In Colab\"/></a>"
      ]
    },
    {
      "cell_type": "markdown",
      "source": [
        "Q1  Generate a list of 100 integers containing values between 90 to 130 and store it in the variable int_list. After generating the list, find the following:\n",
        "\n",
        "(i) Write a Python function to calculate the mean of a given list of numbers.\n",
        "\n",
        "Create a function to find the median of a list of numbers.\n",
        "\n",
        "(ii) Develop a program to compute the mode of a list of integers.\n",
        "\n",
        "(iii) Implement a function to calculate the weighted mean of a list of values and their corresponding weights.\n",
        "\n",
        "(iv) Write a Python function to find the geometric mean of a list of positive numbers.\n",
        "\n",
        "(v) Create a program to calculate the harmonic mean of a list of values.\n",
        "\n",
        "(vi) Build a function to determine the midrange of a list of numbers (average of the minimum and maximum).\n",
        "\n",
        "(vii) Implement a Python program to find the trimmed mean of a list, excluding a certain percentage of outliers."
      ],
      "metadata": {
        "id": "Tlun8gN1aOwS"
      }
    },
    {
      "cell_type": "code",
      "execution_count": 4,
      "metadata": {
        "colab": {
          "base_uri": "https://localhost:8080/"
        },
        "id": "u6JKsBYbaNW0",
        "outputId": "054de414-ebeb-48db-ab2e-c057fe0659a0"
      },
      "outputs": [
        {
          "output_type": "stream",
          "name": "stdout",
          "text": [
            "Generated List: [126, 120, 109, 102, 116, 118, 91, 124, 119, 98, 106, 122, 110, 107, 116, 99, 111, 109, 130, 124, 99, 97, 112, 101, 102, 90, 94, 106, 130, 120, 105, 124, 100, 111, 119, 114, 106, 99, 125, 107, 113, 114, 97, 90, 102, 101, 90, 99, 107, 112, 128, 92, 98, 94, 117, 113, 95, 94, 117, 91, 96, 120, 109, 101, 107, 103, 120, 130, 101, 124, 116, 113, 101, 120, 127, 128, 109, 111, 125, 96, 108, 111, 126, 119, 95, 110, 91, 119, 118, 120, 108, 100, 104, 128, 97, 122, 123, 93, 99, 103]\n",
            "Mean: 109.33\n",
            "Median: 109.0\n",
            "Mode: [120]\n",
            "Weighted Mean: 109.33\n",
            "Geometric Mean: 0.0\n",
            "Harmonic Mean: 108.14692418984033\n",
            "Midrange: 110.0\n",
            "Trimmed Mean (10%): 109.2375\n"
          ]
        }
      ],
      "source": [
        "import random\n",
        "from collections import Counter\n",
        "import numpy as np\n",
        "\n",
        "# Generate a list of 100 integers between 90 and 130\n",
        "int_list = [random.randint(90, 130) for _ in range(100)]\n",
        "\n",
        "# (i) Function to calculate the mean of a list\n",
        "def calculate_mean(numbers):\n",
        "    return sum(numbers) / len(numbers)\n",
        "\n",
        "# Function to find the median of a list\n",
        "def calculate_median(numbers):\n",
        "    sorted_numbers = sorted(numbers)\n",
        "    n = len(sorted_numbers)\n",
        "    mid = n // 2\n",
        "    if n % 2 == 0:\n",
        "        return (sorted_numbers[mid - 1] + sorted_numbers[mid]) / 2\n",
        "    else:\n",
        "        return sorted_numbers[mid]\n",
        "\n",
        "# (ii) Function to compute the mode of a list of integers\n",
        "def calculate_mode(numbers):\n",
        "    frequency = Counter(numbers)\n",
        "    mode_data = frequency.most_common()\n",
        "    max_freq = mode_data[0][1]\n",
        "    modes = [num for num, freq in mode_data if freq == max_freq]\n",
        "    return modes\n",
        "\n",
        "# (iii) Function to calculate the weighted mean\n",
        "def calculate_weighted_mean(values, weights):\n",
        "    return sum(v * w for v, w in zip(values, weights)) / sum(weights)\n",
        "\n",
        "# (iv) Function to find the geometric mean of a list of positive numbers\n",
        "def calculate_geometric_mean(numbers):\n",
        "    product = np.prod(numbers)\n",
        "    return product ** (1 / len(numbers))\n",
        "\n",
        "# (v) Function to calculate the harmonic mean of a list of values\n",
        "def calculate_harmonic_mean(numbers):\n",
        "    return len(numbers) / sum(1 / x for x in numbers)\n",
        "\n",
        "# (vi) Function to determine the midrange of a list of numbers\n",
        "def calculate_midrange(numbers):\n",
        "    return (min(numbers) + max(numbers)) / 2\n",
        "\n",
        "# (vii) Function to find the trimmed mean\n",
        "def calculate_trimmed_mean(numbers, trim_percent):\n",
        "    n = len(numbers)\n",
        "    k = int(n * trim_percent / 100)\n",
        "    trimmed_numbers = sorted(numbers)[k:n-k]\n",
        "    return calculate_mean(trimmed_numbers)\n",
        "# Testing the functions\n",
        "if __name__ == \"__main__\":\n",
        "    print(\"Generated List:\", int_list)\n",
        "    print(\"Mean:\", calculate_mean(int_list))\n",
        "    print(\"Median:\", calculate_median(int_list))\n",
        "    print(\"Mode:\", calculate_mode(int_list))\n",
        "\n",
        "    # Example weights for the weighted mean\n",
        "    weights = [1] * len(int_list)  # Equal weights\n",
        "    print(\"Weighted Mean:\", calculate_weighted_mean(int_list, weights))\n",
        "\n",
        "    # Ensure all numbers are positive for geometric mean\n",
        "    print(\"Geometric Mean:\", calculate_geometric_mean(int_list))\n",
        "    print(\"Harmonic Mean:\", calculate_harmonic_mean(int_list))\n",
        "    print(\"Midrange:\", calculate_midrange(int_list))\n",
        "\n",
        "    # Trimmed mean with 10% trimming\n",
        "    print(\"Trimmed Mean (10%):\", calculate_trimmed_mean(int_list, 10))\n"
      ]
    },
    {
      "cell_type": "markdown",
      "source": [
        "\n",
        "Explanation:\n",
        "List Generation: A list of 100 integers between 90 and 130 is generated using random.randint.\n",
        "Mean Calculation: The mean is calculated using a simple sum and length.\n",
        "Median Calculation: The list is sorted, and the median is calculated based on whether the count of numbers is odd or even.\n",
        "Mode Calculation: The mode is determined using the Counter class from the collections module.\n",
        "Weighted Mean: The weighted mean is calculated by multiplying each value by its weight and dividing by the sum of the weights.\n",
        "Geometric Mean: The geometric mean is computed using the product of the numbers.\n",
        "Harmonic Mean: The harmonic mean is calculated using the reciprocal of the values.\n",
        "Midrange Calculation: The midrange is the average of the minimum and maximum values.\n",
        "Trimmed Mean: The trimmed mean excludes a specified percentage of the lowest and highest values.\n",
        "You can run this code in a Python environment to see the results of each statistical measure."
      ],
      "metadata": {
        "id": "QApjYvHCazlR"
      }
    },
    {
      "cell_type": "markdown",
      "source": [
        "Q2. Generate a list of 500 integers containing values between 200 to 300 and store it in the variable int_list2. After generating the list, find the following:\n",
        "(i) Compare the given list of visualization for the given data:\n",
        "\n",
        "\n",
        "Verify\n",
        "\n",
        "Open In Editor\n",
        "Edit\n",
        "Copy code\n",
        "1. Frequency & Gaussian distribution\n",
        "\n",
        "2. Frequency smoothened KDE plot\n",
        "\n",
        "3. Gaussian distribution & smoothened KDE plot\n",
        "(ii) Write a Python function to calculate the range of a given list of numbers.\n",
        "\n",
        "(iii) Create a program to find the variance and standard deviation of a list of numbers.\n",
        "\n",
        "(iv) Implement a function to compute the interquartile range (IQR) of a list of values.\n",
        "\n",
        "(v) Build a program to calculate the coefficient of variation for a dataset.\n",
        "\n",
        "(vi) Write a Python function to find the mean absolute deviation (MAD) of a list of numbers.\n",
        "\n",
        "(vii) Create a program to calculate the quartile deviation of a list of values.\n",
        "\n",
        "(viii) Implement a function to find the range-based coefficient of dispersion for a dataset."
      ],
      "metadata": {
        "id": "FRBPXm7zbG9Y"
      }
    },
    {
      "cell_type": "code",
      "source": [
        "import random\n",
        "import numpy as np\n",
        "import matplotlib.pyplot as plt\n",
        "import seaborn as sns\n",
        "from scipy import stats\n",
        "\n",
        "# Generate a list of 500 integers between 200 and 300\n",
        "int_list2 = [random.randint(200, 300) for _ in range(500)]\n",
        "\n",
        "# (i) Visualization\n",
        "def visualize_data(data):\n",
        "    plt.figure(figsize=(14, 6))\n",
        "\n",
        "    # 1. Frequency & Gaussian distribution\n",
        "    plt.subplot(1, 3, 1)\n",
        "    sns.histplot(data, bins=30, kde=True, stat=\"density\", color='blue', label='Histogram')\n",
        "    plt.title('Frequency & Gaussian Distribution')\n",
        "    plt.xlabel('Value')\n",
        "    plt.ylabel('Density')\n",
        "    plt.legend()\n",
        "\n",
        "    # 2. Frequency smoothened KDE plot\n",
        "    plt.subplot(1, 3, 2)\n",
        "    sns.kdeplot(data, color='red', fill=True)\n",
        "    plt.title('Smoothened KDE Plot')\n",
        "    plt.xlabel('Value')\n",
        "    plt.ylabel('Density')\n",
        "\n",
        "    # 3. Gaussian distribution & smoothened KDE plot\n",
        "    plt.subplot(1, 3, 3)\n",
        "    sns.histplot(data, bins=30, kde=True, stat=\"density\", color='blue', label='Histogram')\n",
        "    x = np.linspace(min(data), max(data), 100)\n",
        "    plt.plot(x, stats.norm.pdf(x, np.mean(data), np.std(data)), color='green', label='Gaussian Distribution')\n",
        "    plt.title('Gaussian Distribution & Smoothened KDE Plot')\n",
        "    plt.xlabel('Value')\n",
        "    plt.ylabel('Density')\n",
        "    plt.legend()\n",
        "\n",
        "    plt.tight_layout()\n",
        "    plt.show()\n",
        "\n",
        "visualize_data(int_list2)\n",
        "\n",
        "# (ii) Function to calculate the range of a given list of numbers\n",
        "def calculate_range(numbers):\n",
        "    return max(numbers) - min(numbers)\n",
        "\n",
        "# (iii) Program to find the variance and standard deviation\n",
        "def calculate_variance_and_std(numbers):\n",
        "    mean = np.mean(numbers)\n",
        "    variance = np.var(numbers)\n",
        "    std_dev = np.std(numbers)\n",
        "    return variance, std_dev\n",
        "\n",
        "# (iv) Function to compute the interquartile range (IQR)\n",
        "def calculate_iqr(numbers):\n",
        "    q75, q25 = np.percentile(numbers, [75 ,25])\n",
        "    return q75 - q25\n",
        "\n",
        "# (v) Program to calculate the coefficient of variation\n",
        "def calculate_coefficient_of_variation(numbers):\n",
        "    mean = np.mean(numbers)\n",
        "    std_dev = np.std(numbers)\n",
        "    return (std_dev / mean) * 100\n",
        "\n",
        "# (vi) Function to find the mean absolute deviation (MAD)\n",
        "def calculate_mad(numbers):\n",
        "    mean = np.mean(numbers)\n",
        "    return np.mean(np.abs(numbers - mean))\n",
        "\n",
        "# (vii) Program to calculate the quartile deviation\n",
        "def calculate_quartile_deviation(numbers):\n",
        "    q75, q25 = np.percentile(numbers, [75 ,25])\n",
        "    return (q75 - q25) / 2\n",
        "\n",
        "# (viii) Function to find the range-based coefficient of dispersion\n",
        "def calculate_range_based_coefficient_of_dispersion(numbers):\n",
        "    return calculate_range(numbers) / np.mean(numbers)\n",
        "\n",
        "# Testing the functions\n",
        "if __name__ == \"__main__\":\n",
        "    print(\"Generated List:\", int_list2)\n",
        "    print(\"Range:\", calculate_range(int_list2))\n",
        "    variance, std_dev = calculate_variance_and_std(int_list2)\n",
        "    print(\"Variance:\", variance)\n",
        "    print(\"Standard Deviation:\", std_dev)\n",
        "    print(\"Interquartile Range (IQR):\", calculate_iqr(int_list2))\n",
        "    print(\"Coefficient of Variation (%):\", calculate_coefficient_of_variation(int_list2))\n",
        "    print(\"Mean Absolute Deviation (MAD):\", calculate_mad(int_list2))\n",
        "    print(\"Quartile Deviation:\", calculate_quartile_deviation(int_list2))\n",
        "    print(\"Range-based Coefficient of Dispersion:\", calculate_range_based_coefficient_of_dispersion(int_list2))"
      ],
      "metadata": {
        "colab": {
          "base_uri": "https://localhost:8080/",
          "height": 604
        },
        "id": "Fugpv-k8aXjS",
        "outputId": "39a534b6-2d76-4a99-bf21-456bcebcc364"
      },
      "execution_count": 3,
      "outputs": [
        {
          "output_type": "display_data",
          "data": {
            "text/plain": [
              "<Figure size 1400x600 with 3 Axes>"
            ],
            "image/png": "[encoded data removed]"
          },
          "metadata": {}
        },
        {
          "output_type": "stream",
          "name": "stdout",
          "text": [
            "Generated List: [277, 258, 260, 228, 219, 230, 272, 293, 286, 251, 252, 260, 224, 280, 282, 236, 243, 230, 212, 226, 219, 292, 292, 248, 288, 210, 203, 245, 254, 207, 265, 257, 242, 285, 212, 212, 286, 269, 231, 231, 287, 213, 240, 251, 219, 279, 217, 220, 300, 246, 202, 270, 209, 238, 229, 292, 297, 229, 273, 217, 228, 221, 248, 220, 226, 263, 264, 254, 244, 260, 291, 277, 239, 258, 220, 256, 251, 254, 283, 281, 273, 208, 276, 239, 285, 281, 268, 213, 200, 260, 299, 252, 271, 267, 212, 267, 286, 207, 283, 291, 228, 296, 282, 208, 254, 249, 265, 233, 221, 203, 266, 296, 253, 296, 221, 250, 272, 210, 262, 242, 274, 255, 240, 202, 228, 254, 280, 223, 202, 216, 220, 299, 229, 253, 283, 235, 244, 262, 233, 275, 295, 259, 242, 295, 298, 221, 241, 242, 266, 257, 267, 207, 288, 230, 271, 222, 259, 236, 260, 208, 227, 236, 286, 252, 257, 294, 292, 294, 273, 273, 266, 214, 296, 224, 212, 238, 282, 256, 205, 274, 251, 256, 232, 260, 225, 272, 282, 217, 284, 266, 254, 258, 273, 229, 236, 268, 224, 296, 278, 299, 258, 214, 208, 259, 265, 272, 267, 298, 233, 244, 272, 259, 291, 213, 221, 228, 250, 218, 224, 221, 298, 298, 201, 257, 232, 279, 274, 219, 281, 273, 294, 246, 292, 226, 300, 226, 288, 246, 228, 239, 208, 270, 242, 244, 272, 299, 292, 248, 274, 241, 283, 259, 234, 240, 216, 230, 253, 243, 256, 201, 272, 252, 257, 263, 300, 277, 287, 249, 278, 233, 297, 261, 226, 218, 223, 218, 255, 228, 285, 254, 294, 299, 290, 204, 283, 297, 288, 248, 215, 240, 249, 283, 265, 248, 233, 212, 218, 298, 239, 230, 206, 224, 214, 204, 221, 217, 293, 270, 232, 250, 205, 293, 223, 255, 248, 215, 213, 292, 251, 246, 261, 208, 264, 215, 259, 292, 270, 274, 204, 256, 215, 209, 215, 275, 257, 285, 296, 256, 292, 204, 242, 206, 249, 204, 262, 239, 246, 292, 226, 297, 216, 220, 250, 299, 251, 264, 208, 271, 217, 300, 295, 214, 200, 206, 206, 294, 233, 245, 277, 218, 227, 252, 248, 224, 272, 293, 251, 294, 239, 297, 238, 232, 299, 210, 210, 224, 216, 248, 266, 229, 210, 247, 255, 247, 212, 227, 201, 237, 209, 211, 213, 221, 233, 267, 226, 204, 223, 282, 200, 273, 246, 226, 240, 297, 279, 204, 246, 289, 244, 231, 209, 211, 235, 240, 219, 284, 271, 242, 262, 240, 250, 274, 294, 262, 228, 243, 223, 247, 207, 299, 291, 271, 284, 296, 217, 289, 214, 241, 295, 260, 210, 280, 213, 240, 273, 291, 203, 293, 234, 268, 274, 294, 269, 222, 243, 214, 263, 240, 264, 265, 295, 266, 215, 230, 225, 223, 295, 218, 239, 256, 216, 285, 241, 287, 251, 297, 222, 239, 230, 215, 259, 220, 283, 237, 220, 224, 223, 288, 283, 290]\n",
            "Range: 100\n",
            "Variance: 850.427116\n",
            "Standard Deviation: 29.1620835332457\n",
            "Interquartile Range (IQR): 50.0\n",
            "Coefficient of Variation (%): 11.659143751147719\n",
            "Mean Absolute Deviation (MAD): 25.16444\n",
            "Quartile Deviation: 25.0\n",
            "Range-based Coefficient of Dispersion: 0.39980489521113693\n"
          ]
        }
      ]
    },
    {
      "cell_type": "markdown",
      "source": [
        "Explanation:\n",
        "List Generation: A list of 500 integers between 200 and 300 is generated using random.randint.\n",
        "Visualization: Three plots are created:\n",
        "A histogram with a Gaussian distribution overlay.\n",
        "A smoothened Kernel Density Estimate (KDE) plot.\n",
        "A comparison of the Gaussian distribution and the smoothened KDE plot.\n",
        "Range Calculation: A function to calculate the range of the list.\n",
        "Variance and Standard Deviation: A function to compute both metrics.\n",
        "Interquartile Range (IQR): A function to calculate the I"
      ],
      "metadata": {
        "id": "DSYp8B7-b6xy"
      }
    },
    {
      "cell_type": "markdown",
      "source": [
        "\n",
        "\n",
        "(3) Write a Python class representing a discrete random variable with methods to calculate its expected value and variance.\n",
        "\n"
      ],
      "metadata": {
        "id": "I0hxLO0jcQ-p"
      }
    },
    {
      "cell_type": "code",
      "source": [
        "class DiscreteRandomVariable:\n",
        "    def __init__(self, values, probabilities):\n",
        "        \"\"\"\n",
        "        Initialize the DiscreteRandomVariable with values and their corresponding probabilities.\n",
        "\n",
        "        :param values: A list of possible values of the random variable.\n",
        "        :param probabilities: A list of probabilities corresponding to each value.\n",
        "        \"\"\"\n",
        "        if len(values) != len(probabilities):\n",
        "            raise ValueError(\"The length of values and probabilities must be the same.\")\n",
        "        if not all(0 <= p <= 1 for p in probabilities):\n",
        "            raise ValueError(\"Probabilities must be between 0 and 1.\")\n",
        "        if not np.isclose(sum(probabilities), 1):\n",
        "            raise ValueError(\"The sum of probabilities must be equal to 1.\")\n",
        "\n",
        "        self.values = values\n",
        "        self.probabilities = probabilities\n",
        "\n",
        "    def expected_value(self):\n",
        "        \"\"\"\n",
        "        Calculate the expected value (mean) of the discrete random variable.\n",
        "\n",
        "        :return: The expected value.\n",
        "        \"\"\"\n",
        "        return sum(value * prob for value, prob in zip(self.values, self.probabilities))\n",
        "\n",
        "    def variance(self):\n",
        "        \"\"\"\n",
        "        Calculate the variance of the discrete random variable.\n",
        "\n",
        "        :return: The variance.\n",
        "        \"\"\"\n",
        "        mean = self.expected_value()\n",
        "        return sum(prob * (value - mean) ** 2 for value, prob in zip(self.values, self.probabilities))\n",
        "\n",
        "# Example usage\n",
        "if __name__ == \"__main__\":\n",
        "    # Define values and their corresponding probabilities\n",
        "    values = [1, 2, 3, 4, 5]\n",
        "    probabilities = [0.1, 0.2, 0.3, 0.2, 0.2]  # Must sum to 1\n",
        "\n",
        "    # Create an instance of DiscreteRandomVariable\n",
        "    random_variable = DiscreteRandomVariable(values, probabilities)\n",
        "\n",
        "    # Calculate expected value and variance\n",
        "    expected_value = random_variable.expected_value()\n",
        "    variance = random_variable.variance()\n",
        "\n",
        "    print(f\"Expected Value: {expected_value}\")\n",
        "    print(f\"Variance: {variance}\")"
      ],
      "metadata": {
        "colab": {
          "base_uri": "https://localhost:8080/"
        },
        "id": "NEOHYaz1cXep",
        "outputId": "66659b76-5a1e-440c-9091-358761cd3cec"
      },
      "execution_count": 5,
      "outputs": [
        {
          "output_type": "stream",
          "name": "stdout",
          "text": [
            "Expected Value: 3.2\n",
            "Variance: 1.56\n"
          ]
        }
      ]
    },
    {
      "cell_type": "markdown",
      "source": [
        "Explanation:\n",
        "Initialization: The constructor (__init__) takes two lists: values (possible outcomes) and probabilities (the likelihood of each outcome). It checks that the lengths of these lists match, that all probabilities are between 0 and 1, and that they sum to 1.\n",
        "\n",
        "Expected Value: The expected_value method computes the mean of the random variable using the formula: [ E(X) = \\sum (x_i \\cdot P(x_i)) ] where (x_i) is a value and (P(x_i)) is its probability.\n",
        "\n",
        "Variance: The variance method calculates the variance using the formula: [ Var(X) = \\sum (P(x_i) \\cdot (x_i - E(X))^2) ] where (E(X)) is the expected value calculated earlier."
      ],
      "metadata": {
        "id": "rmE9o8cfcw-p"
      }
    },
    {
      "cell_type": "markdown",
      "source": [
        "Q(4)Implement a program to simulate the rolling of a fair six-sided die and calculate the expected value and variance of the outcomes.\n"
      ],
      "metadata": {
        "id": "6j14SfLmc7fB"
      }
    },
    {
      "cell_type": "code",
      "source": [
        "import numpy as np\n",
        "\n",
        "class FairDie:\n",
        "    def __init__(self, sides=6):\n",
        "        \"\"\"\n",
        "        Initialize the FairDie with the number of sides.\n",
        "\n",
        "        :param sides: Number of sides of the die (default is 6 for a standard die).\n",
        "        \"\"\"\n",
        "        self.sides = sides\n",
        "        self.values = np.arange(1, sides + 1)  # Possible outcomes: 1, 2, ..., sides\n",
        "        self.probabilities = np.full(sides, 1/sides)  # Equal probability for each outcome\n",
        "\n",
        "    def expected_value(self):\n",
        "        \"\"\"\n",
        "        Calculate the expected value (mean) of the outcomes when rolling the die.\n",
        "\n",
        "        :return: The expected value.\n",
        "        \"\"\"\n",
        "        return np.sum(self.values * self.probabilities)\n",
        "\n",
        "    def variance(self):\n",
        "        \"\"\"\n",
        "        Calculate the variance of the outcomes when rolling the die.\n",
        "\n",
        "        :return: The variance.\n",
        "        \"\"\"\n",
        "        mean = self.expected_value()\n",
        "        return np.sum(self.probabilities * (self.values - mean) ** 2)\n",
        "\n",
        "# Example usage\n",
        "if __name__ == \"__main__\":\n",
        "    die = FairDie()\n",
        "\n",
        "    expected_value = die.expected_value()\n",
        "    variance = die.variance()\n",
        "\n",
        "    print(f\"Expected Value of rolling a fair six-sided die: {expected_value}\")\n",
        "    print(f\"Variance of rolling a fair six-sided die: {variance}\")"
      ],
      "metadata": {
        "colab": {
          "base_uri": "https://localhost:8080/"
        },
        "id": "xMDtg7tIdHAn",
        "outputId": "84291efa-6508-45b6-d37f-6a2e1387a4cb"
      },
      "execution_count": 7,
      "outputs": [
        {
          "output_type": "stream",
          "name": "stdout",
          "text": [
            "Expected Value of rolling a fair six-sided die: 3.5\n",
            "Variance of rolling a fair six-sided die: 2.9166666666666665\n"
          ]
        }
      ]
    },
    {
      "cell_type": "markdown",
      "source": [
        "Explanation:\n",
        "Class Definition: The FairDie class is defined to represent a fair six-sided die. It initializes with the number of sides (default is 6).\n",
        "Values and Probabilities: The possible outcomes are stored in self.values, which is an array from 1 to the number of sides. The probabilities are equally distributed among all outcomes, so each outcome has a probability of ( \\frac{1}{6} ).\n",
        "Expected Value Calculation: The expected_value method calculates the expected value using the formula: [ E(X) = \\sum (x_i \\cdot P(x_i)) ] where (x_i) are the outcomes and (P(x_i)) are their probabilities.\n",
        "Variance Calculation: The variance method calculates the variance using the formula: [ Var(X) = \\sum (P(x_i) \\cdot (x_i - E(X))^2) ]"
      ],
      "metadata": {
        "id": "_ci1kAR5dXAZ"
      }
    },
    {
      "cell_type": "markdown",
      "source": [
        "Q(5) Create a Python function to generate random samples from a given probability distribution (e.g., binomial, Poisson) and calculate their mean and variance.\n",
        "\n"
      ],
      "metadata": {
        "id": "YkSF9zFXdw-Q"
      }
    },
    {
      "cell_type": "code",
      "source": [
        "import numpy as np\n",
        "\n",
        "def generate_random_samples(distribution, params, sample_size):\n",
        "    \"\"\"\n",
        "    Generate random samples from a given probability distribution and calculate their mean and variance.\n",
        "\n",
        "    :param distribution: The type of distribution ('binomial' or 'poisson').\n",
        "    :param params: A dictionary of parameters for the distribution.\n",
        "                   For binomial: {'n': number of trials, 'p': probability of success}\n",
        "                   For poisson: {'lambda': average rate of occurrence}\n",
        "    :param sample_size: The number of random samples to generate.\n",
        "    :return: A tuple containing the generated samples, their mean, and variance.\n",
        "    \"\"\"\n",
        "    if distribution == 'binomial':\n",
        "        n = params['n']\n",
        "        p = params['p']\n",
        "        samples = np.random.binomial(n, p, sample_size)\n",
        "    elif distribution == 'poisson':\n",
        "        lam = params['lambda']\n",
        "        samples = np.random.poisson(lam, sample_size)\n",
        "    else:\n",
        "        raise ValueError(\"Unsupported distribution type. Use 'binomial' or 'poisson'.\")\n",
        "\n",
        "    mean = np.mean(samples)\n",
        "    variance = np.var(samples)\n",
        "\n",
        "    return samples, mean, variance\n",
        "\n",
        "# Example usage\n",
        "if __name__ == \"__main__\":\n",
        "    # Generate samples from a binomial distribution\n",
        "    binomial_params = {'n': 10, 'p': 0.5}\n",
        "    binomial_samples, binomial_mean, binomial_variance = generate_random_samples('binomial', binomial_params, 1000)\n",
        "    print(\"Binomial Distribution:\")\n",
        "    print(f\"Samples: {binomial_samples[:10]}\")  # Print first 10 samples\n",
        "    print(f\"Mean: {binomial_mean}\")\n",
        "    print(f\"Variance: {binomial_variance}\\n\")\n",
        "\n",
        "    # Generate samples from a Poisson distribution\n",
        "    poisson_params = {'lambda': 5}\n",
        "    poisson_samples, poisson_mean, poisson_variance = generate_random_samples('poisson', poisson_params, 1000)\n",
        "    print(\"Poisson Distribution:\")\n",
        "    print(f\"Samples: {poisson_samples[:10]}\")  # Print first 10 samples\n",
        "    print(f\"Mean: {poisson_mean}\")\n",
        "    print(f\"Variance: {poisson_variance}\")"
      ],
      "metadata": {
        "colab": {
          "base_uri": "https://localhost:8080/"
        },
        "id": "EPfw8pnidzrv",
        "outputId": "df959af4-9098-438a-b417-89d7c8ea88f4"
      },
      "execution_count": 8,
      "outputs": [
        {
          "output_type": "stream",
          "name": "stdout",
          "text": [
            "Binomial Distribution:\n",
            "Samples: [8 5 5 6 5 6 6 5 7 4]\n",
            "Mean: 5.023\n",
            "Variance: 2.376471\n",
            "\n",
            "Poisson Distribution:\n",
            "Samples: [ 5  4  4 10  5  4  6  5  6  4]\n",
            "Mean: 5.085\n",
            "Variance: 4.707775\n"
          ]
        }
      ]
    },
    {
      "cell_type": "markdown",
      "source": [
        "Function Definition: The generate_random_samples function takes three parameters:\n",
        "\n",
        "distribution: A string indicating the type of distribution ('binomial' or 'poisson').\n",
        "params: A dictionary containing the parameters for the chosen distribution.\n",
        "sample_size: The number of random samples to generate.\n",
        "Random Sample Generation:\n",
        "\n",
        "For a binomial distribution, it uses np.random.binomial(n, p, sample_size) where n is the number of trials and p is the probability of success.\n",
        "For a Poisson distribution, it uses np.random.poisson(lam, sample_size) where lam is the average rate of occurrence.\n",
        "Mean and Variance Calculation: It calculates the mean and variance of the generated samples using np.mean() and np.var().\n",
        "\n",
        "Example Usage: The example in the __main__ block demonstrates how to generate random samples from both a binomial and a Poisson distribution, printing the first 10 samples, along with their mean and variance."
      ],
      "metadata": {
        "id": "TkpsB2jrd8rS"
      }
    },
    {
      "cell_type": "markdown",
      "source": [
        "Q(6)Write a Python script to generate random numbers from a Gaussian (normal) distribution and compute the mean, variance, and standard deviation of the samples."
      ],
      "metadata": {
        "id": "PC8CNR1NeWGS"
      }
    },
    {
      "cell_type": "code",
      "source": [
        "import numpy as np\n",
        "\n",
        "def generate_gaussian_samples(mean, std_dev, sample_size):\n",
        "    \"\"\"\n",
        "    Generate random samples from a Gaussian (normal) distribution and compute their statistics.\n",
        "\n",
        "    :param mean: The mean (average) of the Gaussian distribution.\n",
        "    :param std_dev: The standard deviation of the Gaussian distribution.\n",
        "    :param sample_size: The number of random samples to generate.\n",
        "    :return: A tuple containing the generated samples, their mean, variance, and standard deviation.\n",
        "    \"\"\"\n",
        "    # Generate random samples from a normal distribution\n",
        "    samples = np.random.normal(mean, std_dev, sample_size)\n",
        "\n",
        "    # Calculate statistics\n",
        "    calculated_mean = np.mean(samples)\n",
        "    variance = np.var(samples)\n",
        "    standard_deviation = np.std(samples)\n",
        "\n",
        "    return samples, calculated_mean, variance, standard_deviation\n",
        "\n",
        "# Example usage\n",
        "if __name__ == \"__main__\":\n",
        "    # Parameters for the Gaussian distribution\n",
        "    mean = 0  # Mean of the distribution\n",
        "    std_dev = 1  # Standard deviation of the distribution\n",
        "    sample_size = 1000  # Number of samples to generate\n",
        "\n",
        "    # Generate samples and compute statistics\n",
        "    samples, calculated_mean, variance, standard_deviation = generate_gaussian_samples(mean, std_dev, sample_size)\n",
        "\n",
        "    # Print results\n",
        "    print(f\"Generated Samples (first 10): {samples[:10]}\")\n",
        "    print(f\"Mean of Samples: {calculated_mean}\")\n",
        "    print(f\"Variance of Samples: {variance}\")\n",
        "    print(f\"Standard Deviation of Samples: {standard_deviation}\")"
      ],
      "metadata": {
        "colab": {
          "base_uri": "https://localhost:8080/"
        },
        "id": "JWzniSLFeZtj",
        "outputId": "7a35945c-136d-4e8d-f8de-ea27515e594c"
      },
      "execution_count": 9,
      "outputs": [
        {
          "output_type": "stream",
          "name": "stdout",
          "text": [
            "Generated Samples (first 10): [-1.35873982  0.31847714  0.0178739  -1.22284271  0.09136478  0.15735925\n",
            " -0.00405103  0.26428838 -0.22855482 -0.24453147]\n",
            "Mean of Samples: -0.024163240882565946\n",
            "Variance of Samples: 0.9337864674063842\n",
            "Standard Deviation of Samples: 0.9663262737845765\n"
          ]
        }
      ]
    },
    {
      "cell_type": "markdown",
      "source": [
        "Function Definition: The generate_gaussian_samples function takes three parameters:\n",
        "\n",
        "mean: The mean of the Gaussian distribution.\n",
        "std_dev: The standard deviation of the Gaussian distribution.\n",
        "sample_size: The number of random samples to generate.\n",
        "Random Sample Generation: It uses np.random.normal(mean, std_dev, sample_size) to generate random samples from a normal distribution.\n",
        "\n",
        "Statistics Calculation:\n",
        "\n",
        "The mean of the samples is calculated using np.mean(samples).\n",
        "The variance is calculated using np.var(samples).\n",
        "The standard deviation is calculated using np.std(samples).\n",
        "Example Usage: The script sets parameters for the Gaussian distribution (mean = 0, standard deviation = 1) and generates 1000 samples. It then computes and prints the first 10 samples, along with their mean, variance, and standard deviation."
      ],
      "metadata": {
        "id": "bHqAlYcPemS6"
      }
    },
    {
      "cell_type": "markdown",
      "source": [
        "Q (7) Use seaborn library to load tips dataset. Find the following from the dataset for the columns total_bill\n",
        "and tip`:\n",
        "\n",
        "  \n",
        "\n",
        "  (i) Write a Python function that calculates their skewness.\n",
        "\n",
        "\n",
        "  (ii) Create a program that determines whether the columns exhibit positive skewness, negative skewness, or is\n",
        "approximately symmetric.\n",
        "\n",
        "\n",
        "  (iii) Write a function that calculates the covariance between two columns.\n",
        "\n",
        "\n",
        "  (iv) Implement a Python program that calculates the Pearson correlation coefficient between two columns.\n",
        "\n",
        "\n",
        "  (v) Write a script to visualize the correlation between two specific columns in a Pandas DataFrame using scatter plots"
      ],
      "metadata": {
        "id": "pgXf3WdCes8C"
      }
    },
    {
      "cell_type": "code",
      "source": [
        "import seaborn as sns\n",
        "import pandas as pd\n",
        "import matplotlib.pyplot as plt\n",
        "from scipy.stats import skew, pearsonr\n",
        "\n",
        "# Load the tips dataset\n",
        "tips = sns.load_dataset('tips')\n",
        "\n",
        "def calculate_skewness(column):\n",
        "    \"\"\"\n",
        "    Calculate the skewness of a given column.\n",
        "\n",
        "    :param column: A Pandas Series representing the column.\n",
        "    :return: Skewness of the column.\n",
        "    \"\"\"\n",
        "    return skew(column)\n",
        "\n",
        "def determine_skewness_type(skewness):\n",
        "    \"\"\"\n",
        "    Determine the type of skewness based on the skewness value.\n",
        "\n",
        "    :param skewness: Skewness value.\n",
        "    :return: A string indicating the type of skewness.\n",
        "    \"\"\"\n",
        "    if skewness > 0:\n",
        "        return \"Positive Skewness\"\n",
        "    elif skewness < 0:\n",
        "        return \"Negative Skewness\"\n",
        "    else:\n",
        "        return \"Approximately Symmetric\"\n",
        "\n",
        "def calculate_covariance(column1, column2):\n",
        "    \"\"\"\n",
        "    Calculate the covariance between two columns.\n",
        "\n",
        "    :param column1: First Pandas Series.\n",
        "    :param column2: Second Pandas Series.\n",
        "    :return: Covariance between the two columns.\n",
        "    \"\"\"\n",
        "    return column1.cov(column2)\n",
        "\n",
        "def calculate_pearson_correlation(column1, column2):\n",
        "    \"\"\"\n",
        "    Calculate the Pearson correlation coefficient between two columns.\n",
        "\n",
        "    :param column1: First Pandas Series.\n",
        "    :param column2: Second Pandas Series.\n",
        "    :return: Pearson correlation coefficient and p-value.\n",
        "    \"\"\"\n",
        "    return pearsonr(column1, column2)\n",
        "\n",
        "def visualize_correlation(column1, column2):\n",
        "    \"\"\"\n",
        "    Visualize the correlation between two columns using a scatter plot.\n",
        "\n",
        "    :param column1: First Pandas Series.\n",
        "    :param column2: Second Pandas Series.\n",
        "    \"\"\"\n",
        "    plt.figure(figsize=(8, 6))\n",
        "    plt.scatter(column1, column2, alpha=0.6)\n",
        "    plt.title('Scatter Plot of Total Bill vs Tip')\n",
        "    plt.xlabel('Total Bill')\n",
        "    plt.ylabel('Tip')\n",
        "    plt.grid()\n",
        "    plt.show()\n",
        "\n",
        "# Main Program\n",
        "if __name__ == \"__main__\":\n",
        "    # (i) Calculate skewness for total_bill and tip\n",
        "    total_bill_skewness = calculate_skewness(tips['total_bill'])\n",
        "    tip_skewness = calculate_skewness(tips['tip'])\n",
        "\n",
        "    print(f\"Skewness of total_bill: {total_bill_skewness}\")\n",
        "    print(f\"Skewness of tip: {tip_skewness}\")\n",
        "\n",
        "    # (ii) Determine skewness type\n",
        "    print(f\"Total Bill exhibits: {determine_skewness_type(total_bill_skewness)}\")\n",
        "    print(f\"Tip exhibits: {determine_skewness_type(tip_skewness)}\")\n",
        "\n",
        "    # (iii) Calculate covariance between total_bill and tip\n",
        "    covariance = calculate_covariance(tips['total_bill'], tips['tip'])\n",
        "    print(f\"Covariance between total_bill and tip: {covariance}\")\n",
        "\n",
        "    # (iv) Calculate Pearson correlation coefficient between total_bill and tip\n",
        "    pearson_corr, p_value = calculate_pearson_correlation(tips['total_bill'], tips['tip'])\n",
        "    print(f\"Pearson correlation coefficient between total_bill and tip: {pearson_corr}\")\n",
        "    print(f\"P-value: {p_value}\")\n",
        "\n",
        "    # (v) Visualize the correlation using scatter plot\n",
        "    visualize_correlation(tips['total_bill'], tips['tip'])"
      ],
      "metadata": {
        "id": "t7P8chayew06"
      },
      "execution_count": null,
      "outputs": []
    },
    {
      "cell_type": "markdown",
      "source": [
        "Loading the Dataset: We load the tips dataset using sns.load_dataset('tips').\n",
        "\n",
        "Calculate Skewness:\n",
        "\n",
        "The calculate_skewness function computes the skewness of a given column using scipy.stats.skew.\n",
        "Determine Skewness Type:\n",
        "\n",
        "The determine_skewness_type function checks the skewness value and returns whether it is positive, negative, or approximately symmetric.\n",
        "Calculate Covariance:\n",
        "\n",
        "The calculate_covariance function computes the covariance between two columns using the Pandas .cov() method.\n",
        "Calculate Pearson Correlation Coefficient:\n",
        "\n",
        "The calculate_pearson_correlation function uses scipy.stats.pearsonr to calculate the Pearson correlation coefficient and the p-value.\n",
        "Visualize Correlation:\n",
        "\n",
        "The visualize_correlation function creates a scatter plot to visualize the relationship between two columns.\n",
        "Main Program:\n",
        "\n",
        "In the main section, we call the functions to calculate skewness, determine skewness type, calculate covariance, calculate Pearson correlation coefficient, and visualize the correlation."
      ],
      "metadata": {
        "id": "g1z8XFtSgSSR"
      }
    },
    {
      "cell_type": "markdown",
      "source": [
        "Q(8)  Write a Python function to calculate the probability density function (PDF) of a continuous random variable for a given normal distribution."
      ],
      "metadata": {
        "id": "IFEx5poEgnSP"
      }
    },
    {
      "cell_type": "code",
      "source": [
        "import numpy as np\n",
        "\n",
        "def normal_pdf(x, mean=0, std_dev=1):\n",
        "    \"\"\"\n",
        "    Calculate the Probability Density Function (PDF) of a normal distribution.\n",
        "\n",
        "    :param x: The value for which to calculate the PDF.\n",
        "    :param mean: The mean (µ) of the normal distribution.\n",
        "    :param std_dev: The standard deviation (σ) of the normal distribution.\n",
        "    :return: The value of the PDF at x.\n",
        "    \"\"\"\n",
        "    coefficient = 1 / (std_dev * np.sqrt(2 * np.pi))\n",
        "    exponent = np.exp(-((x - mean) ** 2) / (2 * std_dev ** 2))\n",
        "    pdf_value = coefficient * exponent\n",
        "    return pdf_value\n",
        "\n",
        "# Example usage\n",
        "if __name__ == \"__main__\":\n",
        "    mean = 0   # Mean of the distribution\n",
        "    std_dev = 1  # Standard deviation of the distribution\n",
        "    x_values = np.linspace(-5, 5, 100)  # Generate 100 values from -5 to 5\n",
        "\n",
        "    # Calculate PDF for each x value\n",
        "    pdf_values = [normal_pdf(x, mean, std_dev) for x in x_values]\n",
        "\n",
        "    # Print results\n",
        "    for x, pdf in zip(x_values, pdf_values):\n",
        "        print(f\"PDF({x:.2f}) = {pdf:.4f}\")"
      ],
      "metadata": {
        "colab": {
          "base_uri": "https://localhost:8080/"
        },
        "id": "ex72c45Agn2p",
        "outputId": "98744a33-e25b-4e02-b575-2cb9e7803437"
      },
      "execution_count": 10,
      "outputs": [
        {
          "output_type": "stream",
          "name": "stdout",
          "text": [
            "PDF(-5.00) = 0.0000\n",
            "PDF(-4.90) = 0.0000\n",
            "PDF(-4.80) = 0.0000\n",
            "PDF(-4.70) = 0.0000\n",
            "PDF(-4.60) = 0.0000\n",
            "PDF(-4.49) = 0.0000\n",
            "PDF(-4.39) = 0.0000\n",
            "PDF(-4.29) = 0.0000\n",
            "PDF(-4.19) = 0.0001\n",
            "PDF(-4.09) = 0.0001\n",
            "PDF(-3.99) = 0.0001\n",
            "PDF(-3.89) = 0.0002\n",
            "PDF(-3.79) = 0.0003\n",
            "PDF(-3.69) = 0.0004\n",
            "PDF(-3.59) = 0.0006\n",
            "PDF(-3.48) = 0.0009\n",
            "PDF(-3.38) = 0.0013\n",
            "PDF(-3.28) = 0.0018\n",
            "PDF(-3.18) = 0.0025\n",
            "PDF(-3.08) = 0.0035\n",
            "PDF(-2.98) = 0.0047\n",
            "PDF(-2.88) = 0.0063\n",
            "PDF(-2.78) = 0.0084\n",
            "PDF(-2.68) = 0.0111\n",
            "PDF(-2.58) = 0.0145\n",
            "PDF(-2.47) = 0.0187\n",
            "PDF(-2.37) = 0.0238\n",
            "PDF(-2.27) = 0.0301\n",
            "PDF(-2.17) = 0.0377\n",
            "PDF(-2.07) = 0.0468\n",
            "PDF(-1.97) = 0.0573\n",
            "PDF(-1.87) = 0.0696\n",
            "PDF(-1.77) = 0.0836\n",
            "PDF(-1.67) = 0.0995\n",
            "PDF(-1.57) = 0.1171\n",
            "PDF(-1.46) = 0.1365\n",
            "PDF(-1.36) = 0.1574\n",
            "PDF(-1.26) = 0.1798\n",
            "PDF(-1.16) = 0.2032\n",
            "PDF(-1.06) = 0.2273\n",
            "PDF(-0.96) = 0.2517\n",
            "PDF(-0.86) = 0.2760\n",
            "PDF(-0.76) = 0.2994\n",
            "PDF(-0.66) = 0.3216\n",
            "PDF(-0.56) = 0.3419\n",
            "PDF(-0.45) = 0.3598\n",
            "PDF(-0.35) = 0.3748\n",
            "PDF(-0.25) = 0.3864\n",
            "PDF(-0.15) = 0.3944\n",
            "PDF(-0.05) = 0.3984\n",
            "PDF(0.05) = 0.3984\n",
            "PDF(0.15) = 0.3944\n",
            "PDF(0.25) = 0.3864\n",
            "PDF(0.35) = 0.3748\n",
            "PDF(0.45) = 0.3598\n",
            "PDF(0.56) = 0.3419\n",
            "PDF(0.66) = 0.3216\n",
            "PDF(0.76) = 0.2994\n",
            "PDF(0.86) = 0.2760\n",
            "PDF(0.96) = 0.2517\n",
            "PDF(1.06) = 0.2273\n",
            "PDF(1.16) = 0.2032\n",
            "PDF(1.26) = 0.1798\n",
            "PDF(1.36) = 0.1574\n",
            "PDF(1.46) = 0.1365\n",
            "PDF(1.57) = 0.1171\n",
            "PDF(1.67) = 0.0995\n",
            "PDF(1.77) = 0.0836\n",
            "PDF(1.87) = 0.0696\n",
            "PDF(1.97) = 0.0573\n",
            "PDF(2.07) = 0.0468\n",
            "PDF(2.17) = 0.0377\n",
            "PDF(2.27) = 0.0301\n",
            "PDF(2.37) = 0.0238\n",
            "PDF(2.47) = 0.0187\n",
            "PDF(2.58) = 0.0145\n",
            "PDF(2.68) = 0.0111\n",
            "PDF(2.78) = 0.0084\n",
            "PDF(2.88) = 0.0063\n",
            "PDF(2.98) = 0.0047\n",
            "PDF(3.08) = 0.0035\n",
            "PDF(3.18) = 0.0025\n",
            "PDF(3.28) = 0.0018\n",
            "PDF(3.38) = 0.0013\n",
            "PDF(3.48) = 0.0009\n",
            "PDF(3.59) = 0.0006\n",
            "PDF(3.69) = 0.0004\n",
            "PDF(3.79) = 0.0003\n",
            "PDF(3.89) = 0.0002\n",
            "PDF(3.99) = 0.0001\n",
            "PDF(4.09) = 0.0001\n",
            "PDF(4.19) = 0.0001\n",
            "PDF(4.29) = 0.0000\n",
            "PDF(4.39) = 0.0000\n",
            "PDF(4.49) = 0.0000\n",
            "PDF(4.60) = 0.0000\n",
            "PDF(4.70) = 0.0000\n",
            "PDF(4.80) = 0.0000\n",
            "PDF(4.90) = 0.0000\n",
            "PDF(5.00) = 0.0000\n"
          ]
        }
      ]
    },
    {
      "cell_type": "markdown",
      "source": [
        "Explanation:\n",
        "Function Definition: The normal_pdf function takes three parameters:\n",
        "\n",
        "x: The value for which you want to calculate the PDF.\n",
        "mean: The mean of the normal distribution (default is 0).\n",
        "std_dev: The standard deviation of the normal distribution (default is 1).\n",
        "PDF Calculation:\n",
        "\n",
        "The coefficient is calculated as ( \\frac{1}{\\sigma \\sqrt{2\\pi}} ).\n",
        "The exponent is calculated using the formula ( e^{-\\frac{(x - \\mu)^2}{2\\sigma^2}} ).\n",
        "The final PDF value is the product of the coefficient and the exponent.\n",
        "Example Usage:\n",
        "\n",
        "In the __main__ block, we set the mean and standard deviation for the normal distribution.\n",
        "We generate 100 values from -5 to 5 using np.linspace().\n",
        "We calculate the PDF for each x value and print the results."
      ],
      "metadata": {
        "id": "8AWpTSLtg3aQ"
      }
    },
    {
      "cell_type": "markdown",
      "source": [
        "Q(9) Create a program to calculate the cumulative distribution function (CDF) of exponential distribution.\n"
      ],
      "metadata": {
        "id": "WUiJiLgJhOSo"
      }
    },
    {
      "cell_type": "markdown",
      "source": [
        "Exponential Distribution CDF\n",
        "The CDF of an exponential distribution is given by the formula:\n",
        "\n",
        "[ CDF(x) = 1 - e^{-\\lambda x} ]\n",
        "\n",
        "Where:\n",
        "\n",
        "(\\lambda) is the rate parameter (the average number of events in a given time period).\n",
        "(x) is the value for which you want to calculate the CDF."
      ],
      "metadata": {
        "id": "rz0fi5ObhXCQ"
      }
    },
    {
      "cell_type": "code",
      "source": [
        "import numpy as np\n",
        "\n",
        "def exponential_cdf(x, rate):\n",
        "    \"\"\"\n",
        "    Calculate the Cumulative Distribution Function (CDF) of an exponential distribution.\n",
        "\n",
        "    :param x: The value for which to calculate the CDF.\n",
        "    :param rate: The rate parameter (λ) of the exponential distribution.\n",
        "    :return: The value of the CDF at x.\n",
        "    \"\"\"\n",
        "    if x < 0:\n",
        "        return 0\n",
        "    return 1 - np.exp(-rate * x)\n",
        "\n",
        "# Example usage\n",
        "if __name__ == \"__main__\":\n",
        "    rate = 0.5  # Example rate parameter\n",
        "    x_values = np.linspace(0, 10, 100)  # Generate 100 values from 0 to 10\n",
        "\n",
        "    # Calculate CDF for each x value\n",
        "    cdf_values = [exponential_cdf(x, rate) for x in x_values]\n",
        "\n",
        "    # Print results\n",
        "    for x, cdf in zip(x_values, cdf_values):\n",
        "        print(f\"CDF({x:.2f}) = {cdf:.4f}\")"
      ],
      "metadata": {
        "colab": {
          "base_uri": "https://localhost:8080/"
        },
        "id": "9uH_Vv5Hhb5f",
        "outputId": "80d60907-386b-4821-f5f0-53f55f324e8b"
      },
      "execution_count": 11,
      "outputs": [
        {
          "output_type": "stream",
          "name": "stdout",
          "text": [
            "CDF(0.00) = 0.0000\n",
            "CDF(0.10) = 0.0493\n",
            "CDF(0.20) = 0.0961\n",
            "CDF(0.30) = 0.1406\n",
            "CDF(0.40) = 0.1829\n",
            "CDF(0.51) = 0.2232\n",
            "CDF(0.61) = 0.2614\n",
            "CDF(0.71) = 0.2978\n",
            "CDF(0.81) = 0.3324\n",
            "CDF(0.91) = 0.3653\n",
            "CDF(1.01) = 0.3965\n",
            "CDF(1.11) = 0.4262\n",
            "CDF(1.21) = 0.4545\n",
            "CDF(1.31) = 0.4814\n",
            "CDF(1.41) = 0.5069\n",
            "CDF(1.52) = 0.5312\n",
            "CDF(1.62) = 0.5543\n",
            "CDF(1.72) = 0.5762\n",
            "CDF(1.82) = 0.5971\n",
            "CDF(1.92) = 0.6170\n",
            "CDF(2.02) = 0.6358\n",
            "CDF(2.12) = 0.6538\n",
            "CDF(2.22) = 0.6708\n",
            "CDF(2.32) = 0.6870\n",
            "CDF(2.42) = 0.7024\n",
            "CDF(2.53) = 0.7171\n",
            "CDF(2.63) = 0.7310\n",
            "CDF(2.73) = 0.7443\n",
            "CDF(2.83) = 0.7569\n",
            "CDF(2.93) = 0.7688\n",
            "CDF(3.03) = 0.7802\n",
            "CDF(3.13) = 0.7910\n",
            "CDF(3.23) = 0.8013\n",
            "CDF(3.33) = 0.8111\n",
            "CDF(3.43) = 0.8204\n",
            "CDF(3.54) = 0.8293\n",
            "CDF(3.64) = 0.8377\n",
            "CDF(3.74) = 0.8457\n",
            "CDF(3.84) = 0.8533\n",
            "CDF(3.94) = 0.8605\n",
            "CDF(4.04) = 0.8674\n",
            "CDF(4.14) = 0.8739\n",
            "CDF(4.24) = 0.8801\n",
            "CDF(4.34) = 0.8860\n",
            "CDF(4.44) = 0.8916\n",
            "CDF(4.55) = 0.8970\n",
            "CDF(4.65) = 0.9020\n",
            "CDF(4.75) = 0.9069\n",
            "CDF(4.85) = 0.9115\n",
            "CDF(4.95) = 0.9158\n",
            "CDF(5.05) = 0.9200\n",
            "CDF(5.15) = 0.9239\n",
            "CDF(5.25) = 0.9277\n",
            "CDF(5.35) = 0.9312\n",
            "CDF(5.45) = 0.9346\n",
            "CDF(5.56) = 0.9378\n",
            "CDF(5.66) = 0.9409\n",
            "CDF(5.76) = 0.9438\n",
            "CDF(5.86) = 0.9466\n",
            "CDF(5.96) = 0.9492\n",
            "CDF(6.06) = 0.9517\n",
            "CDF(6.16) = 0.9541\n",
            "CDF(6.26) = 0.9563\n",
            "CDF(6.36) = 0.9585\n",
            "CDF(6.46) = 0.9605\n",
            "CDF(6.57) = 0.9625\n",
            "CDF(6.67) = 0.9643\n",
            "CDF(6.77) = 0.9661\n",
            "CDF(6.87) = 0.9678\n",
            "CDF(6.97) = 0.9693\n",
            "CDF(7.07) = 0.9709\n",
            "CDF(7.17) = 0.9723\n",
            "CDF(7.27) = 0.9737\n",
            "CDF(7.37) = 0.9749\n",
            "CDF(7.47) = 0.9762\n",
            "CDF(7.58) = 0.9774\n",
            "CDF(7.68) = 0.9785\n",
            "CDF(7.78) = 0.9795\n",
            "CDF(7.88) = 0.9805\n",
            "CDF(7.98) = 0.9815\n",
            "CDF(8.08) = 0.9824\n",
            "CDF(8.18) = 0.9833\n",
            "CDF(8.28) = 0.9841\n",
            "CDF(8.38) = 0.9849\n",
            "CDF(8.48) = 0.9856\n",
            "CDF(8.59) = 0.9863\n",
            "CDF(8.69) = 0.9870\n",
            "CDF(8.79) = 0.9876\n",
            "CDF(8.89) = 0.9883\n",
            "CDF(8.99) = 0.9888\n",
            "CDF(9.09) = 0.9894\n",
            "CDF(9.19) = 0.9899\n",
            "CDF(9.29) = 0.9904\n",
            "CDF(9.39) = 0.9909\n",
            "CDF(9.49) = 0.9913\n",
            "CDF(9.60) = 0.9918\n",
            "CDF(9.70) = 0.9922\n",
            "CDF(9.80) = 0.9925\n",
            "CDF(9.90) = 0.9929\n",
            "CDF(10.00) = 0.9933\n"
          ]
        }
      ]
    },
    {
      "cell_type": "markdown",
      "source": [
        "Explanation:\n",
        "Function Definition: The exponential_cdf function takes two parameters:\n",
        "\n",
        "x: The value for which you want to calculate the CDF.\n",
        "rate: The rate parameter of the exponential distribution.\n",
        "CDF Calculation:\n",
        "\n",
        "If (x) is less than 0, the CDF is 0.\n",
        "Otherwise, it calculates the CDF using the formula (1 - e^{-\\lambda x}).\n",
        "Example Usage:\n",
        "\n",
        "In the __main__ block, we set the rate parameter and generate 100 values from 0 to 10.\n",
        "We calculate the CDF for each x value and print the results."
      ],
      "metadata": {
        "id": "-XiTrp0Hhn4A"
      }
    },
    {
      "cell_type": "markdown",
      "source": [
        "Q(10)the Probability Mass Function (PMF) of a Poisson distribution, you can follow these concepts:"
      ],
      "metadata": {
        "id": "1qU-OsIRiFS4"
      }
    },
    {
      "cell_type": "markdown",
      "source": [
        "The PMF of a Poisson distribution is given by the formula:\n",
        "\n",
        "[ PMF(k) = \\frac{e^{-\\lambda} \\lambda^k}{k!} ]\n",
        "\n",
        "Where:\n",
        "\n",
        "(k) is the number of events (a non-negative integer).\n",
        "(\\lambda) is the average number of events in the interval.q"
      ],
      "metadata": {
        "id": "2URiOpbRiOCf"
      }
    },
    {
      "cell_type": "markdown",
      "source": [
        "Q(11) A company wants to test if a new website layout leads to a higher conversion rate (percentage of visitors who make a purchase). They collect data from the old and new layouts to compare."
      ],
      "metadata": {
        "id": "cVITcpd8aijY"
      }
    },
    {
      "cell_type": "code",
      "source": [
        "import numpy as np\n",
        "\n",
        "# 50 purchases out of 1000 visitors\n",
        "\n",
        "old_layout = np.array([1] * 50 + [0] * 950)\n",
        "\n",
        "# 70 purchases out of 1000 visitors\n",
        "\n",
        "new_layout = np.array([1] * 70 + [0] * 930)\n"
      ],
      "metadata": {
        "id": "pWby69AzajRw"
      },
      "execution_count": 1,
      "outputs": []
    },
    {
      "cell_type": "markdown",
      "source": [
        "Apply z-test to find which layout is successful"
      ],
      "metadata": {
        "id": "1rQSa1ECa4Ay"
      }
    },
    {
      "cell_type": "markdown",
      "source": [
        "To determine whether the new website layout leads to a higher conversion rate compared to the old layout, we can perform a two-proportion z-test. This statistical test compares the proportions of successes (purchases) in two independent groups (old and new layouts) to see if there is a significant difference between them.\n",
        "\n",
        "Steps to Perform the Z-Test\n",
        "Define the null and alternative hypotheses:\n",
        "\n",
        "Null Hypothesis ((H_0)): The conversion rates for both layouts are equal ((p_{old} = p_{new})).\n",
        "Alternative Hypothesis ((H_1): The conversion rate for the new layout is greater than that of the old layout ((p_{new} > p_{old})).\n",
        "Calculate the test statistic:\n",
        "\n",
        "Use the formula for the z-test for proportions.\n",
        "Calculate the p-value:\n",
        "\n",
        "Use the z-score to find the p-value.\n",
        "Make a decision:\n",
        "\n",
        "Compare the p-value to a significance level (commonly (\\alpha = 0.05))."
      ],
      "metadata": {
        "id": "RLuHQL5Ia8kz"
      }
    },
    {
      "cell_type": "markdown",
      "source": [
        " Q(12) A tutoring service claims that its program improves students' exam scores. A sample of students who participated in the program was taken, and their scores before and after the program were recorded."
      ],
      "metadata": {
        "id": "QcAmYY4-bNTh"
      }
    },
    {
      "cell_type": "markdown",
      "source": [
        "Use the below code to generate samples of respective arrays of marks:\n",
        "\n"
      ],
      "metadata": {
        "id": "zZjKMJCEbWY5"
      }
    },
    {
      "cell_type": "markdown",
      "source": [
        "To determine if the tutoring service's program significantly improves students' exam scores, we can perform a paired z-test. However, since we have paired samples (scores before and after the program), it's more appropriate to use a paired t-test rather than a z-test. The z-test is typically used for large sample sizes or when the population standard deviation is known.\n",
        "\n",
        "Here’s how you can perform a paired t-test using Python. We will use the scipy.stats library for this purpose.\n",
        "\n",
        "First, let's calculate the differences between the scores before and after the program, and then perform the t-test."
      ],
      "metadata": {
        "id": "-Oil1eKfbg3x"
      }
    },
    {
      "cell_type": "code",
      "source": [
        "import numpy as np\n",
        "from scipy import stats\n",
        "\n",
        "# Given data\n",
        "before_program = np.array([75, 80, 85, 70, 90, 78, 92, 88, 82, 87])\n",
        "after_program = np.array([80, 85, 90, 80, 92, 80, 95, 90, 85, 88])\n",
        "\n",
        "# Calculate the differences\n",
        "differences = after_program - before_program\n",
        "\n",
        "# Perform the paired t-test\n",
        "t_statistic, p_value = stats.ttest_rel(after_program, before_program)\n",
        "\n",
        "# Output the results\n",
        "print(f\"T-statistic: {t_statistic}\")\n",
        "print(f\"P-value: {p_value}\")\n",
        "\n",
        "# Assuming a significance level of 0.05\n",
        "alpha = 0.05\n",
        "if p_value < alpha:\n",
        "    print(\"Reject the null hypothesis: The tutoring program does improve scores.\")\n",
        "else:\n",
        "    print(\"Fail to reject the null hypothesis: The tutoring program does not improve scores.\")"
      ],
      "metadata": {
        "colab": {
          "base_uri": "https://localhost:8080/"
        },
        "id": "ZbGsZycVbhnC",
        "outputId": "2b4d1230-4004-4662-a4e1-9b24f5a4d9b6"
      },
      "execution_count": 2,
      "outputs": [
        {
          "output_type": "stream",
          "name": "stdout",
          "text": [
            "T-statistic: 4.593190894944668\n",
            "P-value: 0.0013030932910086035\n",
            "Reject the null hypothesis: The tutoring program does improve scores.\n"
          ]
        }
      ]
    },
    {
      "cell_type": "markdown",
      "source": [
        "Differences Calculation: We calculate the differences between the scores after and before the program.\n",
        "\n",
        "Paired t-test: We use scipy.stats.ttest_rel to perform the paired t-test. This function returns the t-statistic and the p-value.\n",
        "\n",
        "Hypothesis Testing:\n",
        "\n",
        "Null Hypothesis (H0): The tutoring program does not improve scores (mean difference = 0).\n",
        "Alternative Hypothesis (H1): The tutoring program improves scores (mean difference > 0).\n",
        "We compare the p-value to a significance level (commonly set at 0.05). If the p-value is less than 0.05, we reject the null hypothesis."
      ],
      "metadata": {
        "id": "tLIXiJv-br3R"
      }
    },
    {
      "cell_type": "markdown",
      "source": [
        "Q(13) A pharmaceutical company wants to determine if a new drug is effective in reducing blood pressure. They conduct a study and record blood pressure measurements before and after administering the drug."
      ],
      "metadata": {
        "id": "px1Oko9TcHiZ"
      }
    },
    {
      "cell_type": "markdown",
      "source": [
        "Use the below code to generate samples of respective arrays of blood pressure"
      ],
      "metadata": {
        "id": "DkW5ZxVvce8B"
      }
    },
    {
      "cell_type": "code",
      "source": [
        "before_drug = np.array([145, 150, 140, 135, 155, 160, 152, 148, 130, 138])\n",
        "\n",
        "after_drug = np.array([130, 140, 132, 128, 145, 148, 138, 136, 125, 130])\n"
      ],
      "metadata": {
        "id": "p81qyVDacfkN"
      },
      "execution_count": 3,
      "outputs": []
    },
    {
      "cell_type": "markdown",
      "source": [
        "Implement z-test to find if the drug really works or not."
      ],
      "metadata": {
        "id": "Fx90wW7kcrdI"
      }
    },
    {
      "cell_type": "markdown",
      "source": [
        "To determine if the new drug is effective in reducing blood pressure, we can perform a statistical test. However, similar to the previous scenario, since we have paired samples (blood pressure measurements before and after administering the drug), a paired t-test is more appropriate than a z-test.\n",
        "\n",
        "However, if you want to proceed with a z-test, you would typically need a large sample size and knowledge of the population standard deviation. For this example, we will proceed with a paired t-test, which is suitable for small sample sizes and paired data.\n",
        "\n",
        "Here's how to perform the paired t-test using Python:"
      ],
      "metadata": {
        "id": "X6uei5hHc1op"
      }
    },
    {
      "cell_type": "code",
      "source": [
        "import numpy as np\n",
        "from scipy import stats\n",
        "\n",
        "# Given data\n",
        "before_drug = np.array([145, 150, 140, 135, 155, 160, 152, 148, 130, 138])\n",
        "after_drug = np.array([130, 140, 132, 128, 145, 148, 138, 136, 125, 130])\n",
        "\n",
        "# Calculate the differences\n",
        "differences = after_drug - before_drug\n",
        "\n",
        "# Perform the paired t-test\n",
        "t_statistic, p_value = stats.ttest_rel(after_drug, before_drug)\n",
        "\n",
        "# Output the results\n",
        "print(f\"T-statistic: {t_statistic}\")\n",
        "print(f\"P-value: {p_value}\")\n",
        "\n",
        "# Assuming a significance level of 0.05\n",
        "alpha = 0.05\n",
        "if p_value < alpha:\n",
        "    print(\"Reject the null hypothesis: The drug is effective in reducing blood pressure.\")\n",
        "else:\n",
        "    print(\"Fail to reject the null hypothesis: The drug is not effective in reducing blood pressure.\")"
      ],
      "metadata": {
        "colab": {
          "base_uri": "https://localhost:8080/"
        },
        "id": "_aAOPp1ec5Nn",
        "outputId": "7d0d88d8-5105-4262-ccb8-29785982a176"
      },
      "execution_count": 5,
      "outputs": [
        {
          "output_type": "stream",
          "name": "stdout",
          "text": [
            "T-statistic: -10.04987562112089\n",
            "P-value: 3.433031432681152e-06\n",
            "Reject the null hypothesis: The drug is effective in reducing blood pressure.\n"
          ]
        }
      ]
    },
    {
      "cell_type": "markdown",
      "source": [
        "Explanation:\n",
        "Differences Calculation: We calculate the differences between the blood pressure measurements after and before the drug.\n",
        "\n",
        "Paired t-test: We use scipy.stats.ttest_rel to perform the paired t-test. This function returns the t-statistic and the p-value.\n",
        "\n",
        "Hypothesis Testing:\n",
        "\n",
        "Null Hypothesis (H0): The drug does not reduce blood pressure (mean difference = 0).\n",
        "Alternative Hypothesis (H1): The drug reduces blood pressure (mean difference < 0).\n",
        "We compare the p-value to a significance level (commonly set at 0.05). If the p-value is less than 0.05, we reject the null hypothesis."
      ],
      "metadata": {
        "id": "SRfpWkJwdEmZ"
      }
    },
    {
      "cell_type": "markdown",
      "source": [
        "Q (14) A customer service department claims that their average response time is less than 5 minutes. A sample of recent customer interactions was taken, and the response times were recorded."
      ],
      "metadata": {
        "id": "mxneMrjmdf34"
      }
    },
    {
      "cell_type": "code",
      "source": [
        "response_times = np.array([4.3, 3.8, 5.1, 4.9, 4.7, 4.2, 5.2, 4.5, 4.6, 4.4])\n"
      ],
      "metadata": {
        "id": "hFyWyP3mdgjt"
      },
      "execution_count": 6,
      "outputs": []
    },
    {
      "cell_type": "markdown",
      "source": [
        "Implement z-test to find the claims made by customer service department are true or false"
      ],
      "metadata": {
        "id": "NRS7RlSfdvlx"
      }
    },
    {
      "cell_type": "markdown",
      "source": [
        "To determine whether the customer service department's claim that their average response time is less than 5 minutes is statistically supported, we can perform a one-sample z-test. This test will compare the sample mean of the response times to the claimed population mean (5 minutes)."
      ],
      "metadata": {
        "id": "lMvCSQyld_Up"
      }
    },
    {
      "cell_type": "markdown",
      "source": [
        "Steps to Perform the Z-Test:\n",
        "Calculate the sample mean and sample standard deviation.\n",
        "Calculate the z-statistic.\n",
        "Determine the p-value corresponding to the z-statistic.\n",
        "Compare the p-value to a significance level (typically 0.05) to accept or reject the null hypothesis.\n",
        "Hypotheses:\n",
        "Null Hypothesis (H0): The average response time is equal to or greater than 5 minutes (μ ≥ 5).\n",
        "Alternative Hypothesis (H1): The average response time is less than 5 minutes (μ < 5).\n",
        "Implementation in Python:\n",
        "Here’s how you can implement this using Python:"
      ],
      "metadata": {
        "id": "6fWAwKPEeF2R"
      }
    },
    {
      "cell_type": "code",
      "source": [
        "import numpy as np\n",
        "from scipy import stats\n",
        "\n",
        "# Given data\n",
        "response_times = np.array([4.3, 3.8, 5.1, 4.9, 4.7, 4.2, 5.2, 4.5, 4.6, 4.4])\n",
        "\n",
        "# Parameters for the z-test\n",
        "population_mean = 5\n",
        "n = len(response_times)\n",
        "sample_mean = np.mean(response_times)\n",
        "sample_std = np.std(response_times, ddof=1)  # Sample standard deviation\n",
        "\n",
        "# Calculate the z-statistic\n",
        "z_statistic = (sample_mean - population_mean) / (sample_std / np.sqrt(n))\n",
        "\n",
        "# Calculate the p-value for the one-tailed test\n",
        "p_value = stats.norm.cdf(z_statistic)\n",
        "\n",
        "# Output the results\n",
        "print(f\"Sample Mean: {sample_mean}\")\n",
        "print(f\"Sample Standard Deviation: {sample_std}\")\n",
        "print(f\"Z-statistic: {z_statistic}\")\n",
        "print(f\"P-value: {p_value}\")\n",
        "\n",
        "# Assuming a significance level of 0.05\n",
        "alpha = 0.05\n",
        "if p_value < alpha:\n",
        "    print(\"Reject the null hypothesis: The average response time is less than 5 minutes.\")\n",
        "else:\n",
        "    print(\"Fail to reject the null hypothesis: The average response time is not less than 5 minutes.\")"
      ],
      "metadata": {
        "colab": {
          "base_uri": "https://localhost:8080/"
        },
        "id": "pFhTjv5ReP3_",
        "outputId": "ba91c0c4-72e9-47ad-b8fb-9031f2bf098e"
      },
      "execution_count": 8,
      "outputs": [
        {
          "output_type": "stream",
          "name": "stdout",
          "text": [
            "Sample Mean: 4.57\n",
            "Sample Standard Deviation: 0.4270050741306634\n",
            "Z-statistic: -3.184457226042963\n",
            "P-value: 0.0007251287113068958\n",
            "Reject the null hypothesis: The average response time is less than 5 minutes.\n"
          ]
        }
      ]
    },
    {
      "cell_type": "markdown",
      "source": [
        "Explanation:\n",
        "Sample Mean and Standard Deviation: We calculate the sample mean and sample standard deviation of the response times.\n",
        "\n",
        "Z-Statistic Calculation: The z-statistic is calculated using the formula: [ z = \\frac{\\bar{x} - \\mu}{\\sigma / \\sqrt{n}} ] where (\\bar{x}) is the sample mean, (\\mu) is the population mean (5 minutes), (\\sigma) is the sample standard deviation, and (n) is the sample size.\n",
        "\n",
        "P-Value Calculation: We use stats.norm.cdf(z_statistic) to find the p-value for a one-tailed test.\n",
        "\n",
        "Hypothesis Testing: We compare the p-value to a significance level of 0.05 to decide whether to reject or fail to reject the null hypothesis."
      ],
      "metadata": {
        "id": "DqJm4y63eZrI"
      }
    },
    {
      "cell_type": "markdown",
      "source": [
        "Q(15) A company is testing two different website layouts to see which one leads to higher click-through rates. Write a Python function to perform an A/B test analysis, including calculating the t-statistic, degrees of freedom, and p-value."
      ],
      "metadata": {
        "id": "_y8204x2ecW5"
      }
    },
    {
      "cell_type": "code",
      "source": [
        "layout_a_clicks = [28, 32, 33, 29, 31, 34, 30, 35, 36, 37]\n",
        "\n",
        "layout_b_clicks = [40, 41, 38, 42, 39, 44, 43, 41, 45, 47]"
      ],
      "metadata": {
        "id": "vAqFmB9GeuPI"
      },
      "execution_count": 9,
      "outputs": []
    },
    {
      "cell_type": "markdown",
      "source": [
        "To perform an A/B test analysis comparing two different website layouts based on click-through rates, we can calculate the t-statistic, degrees of freedom, and p-value using the independent two-sample t-test.\n",
        "\n",
        "Steps to Perform the A/B Test:\n",
        "Calculate the means and standard deviations for both layouts.\n",
        "Calculate the t-statistic.\n",
        "Calculate the degrees of freedom.\n",
        "Calculate the p-value based on the t-statistic and degrees of freedom.\n",
        "Implementation in Python:\n",
        "Here’s how you can implement this in Python:\n",
        "\n"
      ],
      "metadata": {
        "id": "O256BnQAe8TC"
      }
    },
    {
      "cell_type": "code",
      "source": [
        "import numpy as np\n",
        "from scipy import stats\n",
        "\n",
        "def ab_test_analysis(layout_a_clicks, layout_b_clicks):\n",
        "    # Convert lists to numpy arrays\n",
        "    layout_a = np.array(layout_a_clicks)\n",
        "    layout_b = np.array(layout_b_clicks)\n",
        "\n",
        "    # Calculate means and standard deviations\n",
        "    mean_a = np.mean(layout_a)\n",
        "    mean_b = np.mean(layout_b)\n",
        "    std_a = np.std(layout_a, ddof=1)  # Sample standard deviation\n",
        "    std_b = np.std(layout_b, ddof=1)  # Sample standard deviation\n",
        "    n_a = len(layout_a)\n",
        "    n_b = len(layout_b)\n",
        "\n",
        "    # Calculate the t-statistic\n",
        "    t_statistic = (mean_a - mean_b) / np.sqrt((std_a**2 / n_a) + (std_b**2 / n_b))\n",
        "\n",
        "    # Calculate degrees of freedom\n",
        "    df = n_a + n_b - 2\n",
        "\n",
        "    # Calculate the p-value for the two-tailed test\n",
        "    p_value = stats.t.sf(np.abs(t_statistic), df) * 2  # Two-tailed test\n",
        "\n",
        "    # Print results\n",
        "    print(f\"Mean Clicks Layout A: {mean_a}\")\n",
        "    print(f\"Mean Clicks Layout B: {mean_b}\")\n",
        "    print(f\"Standard Deviation Layout A: {std_a}\")\n",
        "    print(f\"Standard Deviation Layout B: {std_b}\")\n",
        "    print(f\"T-statistic: {t_statistic}\")\n",
        "    print(f\"Degrees of Freedom: {df}\")\n",
        "    print(f\"P-value: {p_value}\")\n",
        "\n",
        "    # Interpret the p-value\n",
        "    alpha = 0.05  # significance level\n",
        "    if p_value < alpha:\n",
        "        print(\"Reject the null hypothesis: There is a significant difference between the click-through rates.\")\n",
        "    else:\n",
        "        print(\"Fail to reject the null hypothesis: There is no significant difference between the click-through rates.\")\n",
        "\n",
        "# Given data\n",
        "layout_a_clicks = [28, 32, 33, 29, 31, 34, 30, 35, 36, 37]\n",
        "layout_b_clicks = [40, 41, 38, 42, 39, 44, 43, 41, 45, 47]\n",
        "\n",
        "# Perform A/B test analysis\n",
        "ab_test_analysis(layout_a_clicks, layout_b_clicks)\n"
      ],
      "metadata": {
        "colab": {
          "base_uri": "https://localhost:8080/"
        },
        "id": "uNROYfO4e9BZ",
        "outputId": "6adbb535-19ad-4da6-abaa-3c8d5308965c"
      },
      "execution_count": 10,
      "outputs": [
        {
          "output_type": "stream",
          "name": "stdout",
          "text": [
            "Mean Clicks Layout A: 32.5\n",
            "Mean Clicks Layout B: 42.0\n",
            "Standard Deviation Layout A: 3.0276503540974917\n",
            "Standard Deviation Layout B: 2.788866755113585\n",
            "T-statistic: -7.298102156175071\n",
            "Degrees of Freedom: 18\n",
            "P-value: 8.833437608301987e-07\n",
            "Reject the null hypothesis: There is a significant difference between the click-through rates.\n"
          ]
        }
      ]
    },
    {
      "cell_type": "markdown",
      "source": [
        "Explanation:\n",
        "Mean and Standard Deviation Calculation: We calculate the mean and sample standard deviation for both layouts.\n",
        "\n",
        "T-Statistic Calculation: The t-statistic is calculated using the formula: [ t = \\frac{\\bar{x}_a - \\bar{x}_b}{\\sqrt{\\frac{s_a^2}{n_a} + \\frac{s_b^2}{n_b}}} ] where (\\bar{x}_a) and (\\bar{x}_b) are the means of layouts A and B, (s_a) and (s_b) are the sample standard deviations, and (n_a) and (n_b) are the sample sizes.\n",
        "\n",
        "Degrees of Freedom: The degrees of freedom for the independent two-sample t-test is calculated as: [ df = n_a + n_b - 2 ]\n",
        "\n",
        "P-Value Calculation: The p-value is calculated using the cumulative distribution function (CDF) of the t-distribution. Since this is a two-tailed test, we multiply the one-tailed p-value by 2.\n",
        "\n",
        "Hypothesis Testing: We compare the p-value to a significance level (commonly set at 0.05) to determine whether to reject or fail to reject the null hypothesis."
      ],
      "metadata": {
        "id": "FY5Uryp7fIxZ"
      }
    },
    {
      "cell_type": "markdown",
      "source": [
        "Q(16) A pharmaceutical company wants to determine if a new drug is more effective than an existing drug in\n",
        "reducing cholesterol levels. Create a program to analyze the clinical trial data and calculate the tstatistic and p-value for the treatment effect."
      ],
      "metadata": {
        "id": "quAo597MfLMp"
      }
    },
    {
      "cell_type": "markdown",
      "source": [
        "Use the following data of cholestrol level:"
      ],
      "metadata": {
        "id": "UuQj-PL3f0F6"
      }
    },
    {
      "cell_type": "code",
      "source": [
        "existing_drug_levels = [180, 182, 175, 185, 178, 176, 172, 184, 179, 183]\n",
        "\n",
        "new_drug_levels = [170, 172, 165, 168, 175, 173, 170, 178, 172, 176]"
      ],
      "metadata": {
        "id": "mu75uKSYfJmQ"
      },
      "execution_count": 11,
      "outputs": []
    },
    {
      "cell_type": "markdown",
      "source": [
        "To analyze the clinical trial data and determine if the new drug is more effective than the existing drug in reducing cholesterol levels, we can use a two-sample t-test. This test compares the means of two independent samples to see if there is a statistically significant difference between them.\n",
        "\n",
        "We'll calculate the t-statistic and the p-value using Python. Below is a complete program that performs these calculations using the scipy.stats library."
      ],
      "metadata": {
        "id": "A9ZzMPtVf-Rp"
      }
    },
    {
      "cell_type": "code",
      "source": [
        "import numpy as np\n",
        "from scipy import stats\n",
        "\n",
        "# Cholesterol levels for existing and new drugs\n",
        "existing_drug_levels = [180, 182, 175, 185, 178, 176, 172, 184, 179, 183]\n",
        "new_drug_levels = [170, 172, 165, 168, 175, 173, 170, 178, 172, 176]\n",
        "\n",
        "# Calculate means and standard deviations\n",
        "mean_existing = np.mean(existing_drug_levels)\n",
        "mean_new = np.mean(new_drug_levels)\n",
        "\n",
        "std_existing = np.std(existing_drug_levels, ddof=1)  # Sample standard deviation\n",
        "std_new = np.std(new_drug_levels, ddof=1)  # Sample standard deviation\n",
        "\n",
        "n_existing = len(existing_drug_levels)\n",
        "n_new = len(new_drug_levels)\n",
        "\n",
        "# Calculate the t-statistic\n",
        "pooled_std = np.sqrt(((n_existing - 1) * std_existing**2 + (n_new - 1) * std_new**2) / (n_existing + n_new - 2))\n",
        "t_statistic = (mean_new - mean_existing) / (pooled_std * np.sqrt(1/n_existing + 1/n_new))\n",
        "\n",
        "# Calculate the degrees of freedom\n",
        "degrees_of_freedom = n_existing + n_new - 2\n",
        "\n",
        "# Calculate the p-value for a one-tailed test (since we want to see if the new drug is more effective)\n",
        "p_value = stats.t.sf(t_statistic, degrees_of_freedom)  # sf is the survival function (1 - cdf)\n",
        "\n",
        "# Output the results\n",
        "print(f\"Mean cholesterol level (existing drug): {mean_existing:.2f}\")\n",
        "print(f\"Mean cholesterol level (new drug): {mean_new:.2f}\")\n",
        "print(f\"T-statistic: {t_statistic:.4f}\")\n",
        "print(f\"P-value: {p_value:.4f}\")\n",
        "\n",
        "# Interpretation\n",
        "if p_value < 0.05:  # Assuming a significance level of 0.05\n",
        "    print(\"The new drug is significantly more effective than the existing drug in reducing cholesterol levels.\")\n",
        "else:\n",
        "    print(\"There is no significant difference in effectiveness between the new drug and the existing drug.\")"
      ],
      "metadata": {
        "colab": {
          "base_uri": "https://localhost:8080/"
        },
        "id": "RL88eSZdgApY",
        "outputId": "e6df0214-86bd-4ee5-f176-2e27d8a08995"
      },
      "execution_count": 13,
      "outputs": [
        {
          "output_type": "stream",
          "name": "stdout",
          "text": [
            "Mean cholesterol level (existing drug): 179.40\n",
            "Mean cholesterol level (new drug): 171.90\n",
            "T-statistic: -4.1405\n",
            "P-value: 0.9997\n",
            "There is no significant difference in effectiveness between the new drug and the existing drug.\n"
          ]
        }
      ]
    },
    {
      "cell_type": "markdown",
      "source": [
        "Explanation of the Code:\n",
        "Data Input: Cholesterol levels for both the existing and new drugs are provided as lists.\n",
        "Calculations:\n",
        "We calculate the means and standard deviations for both groups.\n",
        "We compute the pooled standard deviation, which is used to calculate the t-statistic.\n",
        "The t-statistic is calculated using the formula for two-sample t-tests.\n",
        "The degrees of freedom are calculated as the sum of the sample sizes minus 2.\n",
        "P-value Calculation: We use the survival function (sf) from the scipy.stats library to compute the p-value for a one-tailed test.\n",
        "Output: The program prints the mean cholesterol levels, the t-statistic, the p-value, and an interpretation of the results based on a significance level of 0.05.\n",
        "You can run this code in a Python environment with the numpy and scipy libraries installed to analyze the clinical trial data."
      ],
      "metadata": {
        "id": "KxnWMj73gInx"
      }
    },
    {
      "cell_type": "code",
      "source": [],
      "metadata": {
        "id": "Pi68yE3Qf7_1"
      },
      "execution_count": null,
      "outputs": []
    },
    {
      "cell_type": "markdown",
      "source": [
        "A school district introduces an educational intervention program to improve math scores. Write a Python function to analyze pre- and post-intervention test scores, calculating the t-statistic and p-value to determine if the intervention had a significant impact.\n",
        "\n",
        "Use the following data of test score:\n",
        "\n",
        "\n",
        "\n",
        "\n",
        "pre_intervention_scores = [80, 85, 90, 75, 88, 82, 92, 78, 85, 87]\n",
        "\n",
        "post_intervention_scores = [90, 92, 88, 92, 95, 91, 96, 93, 89, 93]"
      ],
      "metadata": {
        "id": "1M_ere_vgWp5"
      }
    },
    {
      "cell_type": "markdown",
      "source": [
        "To analyze the impact of an educational intervention program on math scores, we can use a paired t-test. This test is appropriate because we are comparing the same group of students' scores before and after the intervention.\n",
        "\n",
        "Below is a Python function that calculates the t-statistic and p-value for the pre- and post-intervention test scores:"
      ],
      "metadata": {
        "id": "KrflZr3Kgft_"
      }
    },
    {
      "cell_type": "code",
      "source": [
        "import numpy as np\n",
        "from scipy import stats\n",
        "\n",
        "def analyze_intervention(pre_scores, post_scores):\n",
        "    # Ensure the lengths of both score lists are the same\n",
        "    if len(pre_scores) != len(post_scores):\n",
        "        raise ValueError(\"Pre-intervention and post-intervention scores must have the same number of observations.\")\n",
        "\n",
        "    # Calculate the differences between post and pre scores\n",
        "    differences = np.array(post_scores) - np.array(pre_scores)\n",
        "\n",
        "    # Calculate the mean and standard deviation of the differences\n",
        "    mean_diff = np.mean(differences)\n",
        "    std_diff = np.std(differences, ddof=1)  # Sample standard deviation\n",
        "    n = len(differences)\n",
        "\n",
        "    # Calculate the t-statistic\n",
        "    t_statistic = mean_diff / (std_diff / np.sqrt(n))\n",
        "\n",
        "    # Calculate the degrees of freedom\n",
        "    degrees_of_freedom = n - 1\n",
        "\n",
        "    # Calculate the p-value for a two-tailed test\n",
        "    p_value = stats.t.sf(np.abs(t_statistic), degrees_of_freedom) * 2  # Two-tailed test\n",
        "\n",
        "    # Output the results\n",
        "    print(f\"Mean difference in scores: {mean_diff:.2f}\")\n",
        "    print(f\"T-statistic: {t_statistic:.4f}\")\n",
        "    print(f\"P-value: {p_value:.4f}\")\n",
        "\n",
        "    # Interpretation\n",
        "    if p_value < 0.05:  # Assuming a significance level of 0.05\n",
        "        print(\"The intervention had a significant impact on improving math scores.\")\n",
        "    else:\n",
        "        print(\"There is no significant impact of the intervention on math scores.\")\n",
        "\n",
        "# Test data\n",
        "pre_intervention_scores = [80, 85, 90, 75, 88, 82, 92, 78, 85, 87]\n",
        "post_intervention_scores = [90, 92, 88, 92, 95, 91, 96, 93, 89, 93]\n",
        "\n",
        "# Call the function with the test data\n",
        "analyze_intervention(pre_intervention_scores, post_intervention_scores)"
      ],
      "metadata": {
        "colab": {
          "base_uri": "https://localhost:8080/"
        },
        "id": "QMydYbjJgggY",
        "outputId": "2a0e9673-babb-422d-db42-f440a8da6fd4"
      },
      "execution_count": 14,
      "outputs": [
        {
          "output_type": "stream",
          "name": "stdout",
          "text": [
            "Mean difference in scores: 7.70\n",
            "T-statistic: 4.4284\n",
            "P-value: 0.0017\n",
            "The intervention had a significant impact on improving math scores.\n"
          ]
        }
      ]
    },
    {
      "cell_type": "markdown",
      "source": [
        "Explanation of the Code:\n",
        "Function Definition: The function analyze_intervention takes two lists as input: pre_scores and post_scores.\n",
        "Input Validation: It checks if both lists have the same length; if not, it raises a ValueError.\n",
        "Calculating Differences: It computes the differences between post-intervention scores and pre-intervention scores.\n",
        "Statistics Calculation:\n",
        "It calculates the mean and standard deviation of the differences.\n",
        "The t-statistic is calculated using the mean difference and the standard deviation of the differences.\n",
        "Degrees of freedom are calculated as the number of pairs minus one.\n",
        "P-value Calculation: The p-value is computed for a two-tailed test using the survival function from the scipy.stats library.\n",
        "Output: The function prints the mean difference, t-statistic, p-value, and an interpretation of the results based on a significance level of 0.05."
      ],
      "metadata": {
        "id": "R48B0xUXgpT5"
      }
    },
    {
      "cell_type": "markdown",
      "source": [
        "Q(18) An HR department wants to investigate if there's a gender-based salary gap within the company. Develop a program to analyze salary data, calculate the t-statistic, and determine if there's a statistically significant difference between the average salaries of male and female employees.\n",
        "\n",
        "Use the below code to generate synthetic data:"
      ],
      "metadata": {
        "id": "iew7hm8og6C4"
      }
    },
    {
      "cell_type": "code",
      "source": [
        "# Generate synthetic salary data for male and female employees\n",
        "\n",
        "np.random.seed(0)  # For reproducibility\n",
        "\n",
        "male_salaries = np.random.normal(loc=50000, scale=10000, size=20)\n",
        "\n",
        "female_salaries = np.random.normal(loc=55000, scale=9000, size=20)"
      ],
      "metadata": {
        "id": "BAKRKYmQg_92"
      },
      "execution_count": 15,
      "outputs": []
    },
    {
      "cell_type": "markdown",
      "source": [
        "Q(19) A manufacturer produces two different versions of a product and wants to compare their quality scores. Create a Python function to analyze quality assessment data, calculate the t-statistic, and decide whether there's a significant difference in quality between the two versions.\n",
        "\n",
        "Use the following data:"
      ],
      "metadata": {
        "id": "MkgloxgehQjR"
      }
    },
    {
      "cell_type": "code",
      "source": [
        "version1_scores = [85, 88, 82, 89, 87, 84, 90, 88, 85, 86, 91, 83, 87, 84, 89, 86, 84, 88, 85, 86, 89, 90, 87, 88, 85]\n",
        "\n",
        "version2_scores = [80, 78, 83, 81, 79, 82, 76, 80, 78, 81, 77, 82, 80, 79, 82, 79, 80, 81, 79, 82, 79, 78, 80, 81, 82]"
      ],
      "metadata": {
        "id": "TED9diCNhUBX"
      },
      "execution_count": 16,
      "outputs": []
    },
    {
      "cell_type": "markdown",
      "source": [
        "To analyze the quality assessment data for two different versions of a product, we can use an independent two-sample t-test. This test will help us determine if there is a statistically significant difference in the average quality scores between the two versions.\n",
        "\n",
        "Below is a Python function that calculates the t-statistic and p-value for the given quality scores of the two versions:\n",
        "\n"
      ],
      "metadata": {
        "id": "b1ZZVoiShcvR"
      }
    },
    {
      "cell_type": "code",
      "source": [
        "import numpy as np\n",
        "from scipy import stats\n",
        "\n",
        "def analyze_quality_scores(version1_scores, version2_scores):\n",
        "    # Calculate means and standard deviations\n",
        "    mean_version1 = np.mean(version1_scores)\n",
        "    mean_version2 = np.mean(version2_scores)\n",
        "\n",
        "    std_version1 = np.std(version1_scores, ddof=1)  # Sample standard deviation\n",
        "    std_version2 = np.std(version2_scores, ddof=1)  # Sample standard deviation\n",
        "\n",
        "    n_version1 = len(version1_scores)\n",
        "    n_version2 = len(version2_scores)\n",
        "\n",
        "    # Calculate the t-statistic\n",
        "    pooled_std = np.sqrt(((n_version1 - 1) * std_version1**2 + (n_version2 - 1) * std_version2**2) / (n_version1 + n_version2 - 2))\n",
        "    t_statistic = (mean_version1 - mean_version2) / (pooled_std * np.sqrt(1/n_version1 + 1/n_version2))\n",
        "\n",
        "    # Calculate the degrees of freedom\n",
        "    degrees_of_freedom = n_version1 + n_version2 - 2\n",
        "\n",
        "    # Calculate the p-value for a two-tailed test\n",
        "    p_value = stats.t.sf(np.abs(t_statistic), degrees_of_freedom) * 2  # Two-tailed test\n",
        "\n",
        "    # Output the results\n",
        "    print(f\"Mean quality score (Version 1): {mean_version1:.2f}\")\n",
        "    print(f\"Mean quality score (Version 2): {mean_version2:.2f}\")\n",
        "    print(f\"T-statistic: {t_statistic:.4f}\")\n",
        "    print(f\"P-value: {p_value:.4f}\")\n",
        "\n",
        "    # Interpretation\n",
        "    if p_value < 0.05:  # Assuming a significance level of 0.05\n",
        "        print(\"There is a significant difference in quality scores between the two versions.\")\n",
        "    else:\n",
        "        print(\"There is no significant difference in quality scores between the two versions.\")\n",
        "\n",
        "# Test data\n",
        "version1_scores = [85, 88, 82, 89, 87, 84, 90, 88, 85, 86, 91, 83, 87, 84, 89, 86, 84, 88, 85, 86, 89, 90, 87, 88, 85]\n",
        "version2_scores = [80, 78, 83, 81, 79, 82, 76, 80, 78, 81, 77, 82, 80, 79, 82, 79, 80, 81, 79, 82, 79, 78, 80, 81, 82]\n",
        "\n",
        "# Call the function with the test data\n",
        "analyze_quality_scores(version1_scores, version2_scores)\n"
      ],
      "metadata": {
        "colab": {
          "base_uri": "https://localhost:8080/"
        },
        "id": "EKBgPLeYhh6e",
        "outputId": "d4d9699b-8fa1-44ac-b018-59c65951faa5"
      },
      "execution_count": 17,
      "outputs": [
        {
          "output_type": "stream",
          "name": "stdout",
          "text": [
            "Mean quality score (Version 1): 86.64\n",
            "Mean quality score (Version 2): 79.96\n",
            "T-statistic: 11.3258\n",
            "P-value: 0.0000\n",
            "There is a significant difference in quality scores between the two versions.\n"
          ]
        }
      ]
    },
    {
      "cell_type": "markdown",
      "source": [
        "Explanation of the Code:\n",
        "Function Definition: The function analyze_quality_scores takes two lists of quality scores as input.\n",
        "Calculating Statistics:\n",
        "It calculates the means and standard deviations for both versions.\n",
        "The pooled standard deviation is calculated, which is used in the t-statistic formula.\n",
        "The t-statistic is computed to compare the means of the two groups.\n",
        "Degrees of freedom are calculated as the total number of observations minus 2.\n",
        "P-value Calculation: The p-value for a two-tailed test is computed using the survival function from the scipy.stats library.\n",
        "Output: The function prints the mean quality scores, the t-statistic, the p-value, and an interpretation of the results based on a significance level of 0.05."
      ],
      "metadata": {
        "id": "Ch9W_iGkhrOZ"
      }
    },
    {
      "cell_type": "markdown",
      "source": [
        "Q(21) A restaurant chain collects customer satisfaction scores for two different branches. Write a program to\n",
        "analyze the scores, calculate the t-statistic, and determine if there's a statistically significant difference in\n",
        "customer satisfaction between the branches.\n",
        "\n",
        "\n",
        "Use the below data of scores:\n",
        "\n",
        "  ```python\n",
        "\n",
        "branch_a_scores = [4, 5, 3, 4, 5, 4, 5, 3, 4, 4, 5, 4, 4, 3, 4, 5, 5, 4, 3, 4, 5, 4, 3, 5, 4, 4, 5, 3, 4, 5, 4]\n",
        "\n",
        "branch_b_scores = [3, 4, 2, 3, 4, 3, 4, 2, 3, 3, 4, 3, 3, 2, 3, 4, 4, 3, 2, 3, 4, 3, 2, 4, 3, 3, 4, 2, 3, 4, 3]"
      ],
      "metadata": {
        "id": "kHp7rBzjhybA"
      }
    },
    {
      "cell_type": "markdown",
      "source": [
        "Use the below data of scores:"
      ],
      "metadata": {
        "id": "SiSc_9L0iGRx"
      }
    },
    {
      "cell_type": "code",
      "source": [
        "branch_a_scores = [4, 5, 3, 4, 5, 4, 5, 3, 4, 4, 5, 4, 4, 3, 4, 5, 5, 4, 3, 4, 5, 4, 3, 5, 4, 4, 5, 3, 4, 5, 4]\n",
        "\n",
        "branch_b_scores = [3, 4, 2, 3, 4, 3, 4, 2, 3, 3, 4, 3, 3, 2, 3, 4, 4, 3, 2, 3, 4, 3, 2, 4, 3, 3, 4, 2, 3, 4, 3]"
      ],
      "metadata": {
        "id": "TfrkbKtqiIgS"
      },
      "execution_count": 18,
      "outputs": []
    },
    {
      "cell_type": "markdown",
      "source": [
        "Q(21)A political analyst wants to determine if there is a significant association between age groups and voter preferences (Candidate A or Candidate B). They collect data from a sample of 500 voters and classify them into different age groups and candidate preferences. Perform a Chi-Square test to determine if there is a significant association between age groups and voter preferences.\n",
        "\n",
        "Use the below code to generate data:"
      ],
      "metadata": {
        "id": "JVnrBNJbiYdB"
      }
    },
    {
      "cell_type": "code",
      "source": [
        "np.random.seed(0)\n",
        "\n",
        "age_groups = np.random.choice(['18-30', '31-50', '51+'], size=500)\n",
        "\n",
        "voter_preferences = np.random.choice(['Candidate A', 'Candidate B'], size=30)\n"
      ],
      "metadata": {
        "id": "NBT77mTujQUA"
      },
      "execution_count": 25,
      "outputs": []
    },
    {
      "cell_type": "markdown",
      "source": [
        "Complete Example with Corrections\n",
        "Here’s the complete code to generate the data, create a contingency table, and perform the Chi-Square test, ensuring that all parts are corrected:"
      ],
      "metadata": {
        "id": "XxeL8svYkUSb"
      }
    },
    {
      "cell_type": "code",
      "source": [
        "import numpy as np\n",
        "import pandas as pd\n",
        "from scipy.stats import chi2_contingency\n",
        "\n",
        "# Set seed for reproducibility\n",
        "np.random.seed(0)\n",
        "\n",
        "# Generate age groups and voter preferences\n",
        "age_groups = np.random.choice(['18-30', '31-50', '51+'], size=500)  # Corrected line\n",
        "voter_preferences = np.random.choice(['Candidate A', 'Candidate B'], size=500)\n",
        "\n",
        "# Create a DataFrame\n",
        "data = pd.DataFrame({'Age Group': age_groups, 'Voter Preference': voter_preferences})\n",
        "\n",
        "# Display the first few rows of the data\n",
        "print(data.head())\n",
        "\n",
        "# Create a contingency table\n",
        "contingency_table = pd.crosstab(data['Age Group'], data['Voter Preference'])\n",
        "print(contingency_table)\n",
        "\n",
        "# Perform the Chi-Square test\n",
        "chi2, p, dof, expected = chi2_contingency(contingency_table)\n",
        "\n",
        "# Print the results\n",
        "print(f\"Chi-Squared Statistic: {chi2}\")\n",
        "print(f\"P-Value: {p}\")\n",
        "print(f\"Degrees of Freedom: {dof}\")\n",
        "print(\"Expected Frequencies:\\n\", expected)\n",
        "\n",
        "# Interpret the result\n",
        "alpha = 0.05\n",
        "if p < alpha:\n",
        "    print(\"Reject the null hypothesis: There is a significant association between age groups and voter preferences.\")\n",
        "else:\n",
        "    print(\"Fail to reject the null hypothesis: There is no significant association between age groups and voter preferences.\")\n"
      ],
      "metadata": {
        "colab": {
          "base_uri": "https://localhost:8080/"
        },
        "id": "Eu-EKhZ6kU5h",
        "outputId": "972d9ec2-3b89-4089-e877-d0a52494769c"
      },
      "execution_count": 26,
      "outputs": [
        {
          "output_type": "stream",
          "name": "stdout",
          "text": [
            "  Age Group Voter Preference\n",
            "0     18-30      Candidate B\n",
            "1     31-50      Candidate A\n",
            "2     18-30      Candidate B\n",
            "3     31-50      Candidate B\n",
            "4     31-50      Candidate A\n",
            "Voter Preference  Candidate A  Candidate B\n",
            "Age Group                                 \n",
            "18-30                      95           87\n",
            "31-50                      87           82\n",
            "51+                        84           65\n",
            "Chi-Squared Statistic: 0.8779923945254768\n",
            "P-Value: 0.6446832311860852\n",
            "Degrees of Freedom: 2\n",
            "Expected Frequencies:\n",
            " [[96.824 85.176]\n",
            " [89.908 79.092]\n",
            " [79.268 69.732]]\n",
            "Fail to reject the null hypothesis: There is no significant association between age groups and voter preferences.\n"
          ]
        }
      ]
    },
    {
      "cell_type": "markdown",
      "source": [
        "Key Changes\n",
        "The age groups are now defined correctly as strings and separated by commas.\n",
        "The size of the sample is set to 500 as per your original request."
      ],
      "metadata": {
        "id": "pTvia0R7kl4w"
      }
    },
    {
      "cell_type": "markdown",
      "source": [
        "22. A company conducted a customer satisfaction survey to determine if there is a significant relationship\n",
        "between product satisfaction levels (Satisfied, Neutral, Dissatisfied) and the region where customers are\n",
        "located (East, West, North, South). The survey data is summarized in a contingency table. Conduct a ChiSquare test to determine if there is a significant relationship between product satisfaction levels and\n",
        "customer regions.\n",
        "\n",
        "\n",
        "Sample data:\n",
        "\n",
        "```python\n",
        "\n",
        "#Sample data: Product satisfaction levels (rows) vs. Customer regions (columns)\n",
        "\n",
        "data = np.array([[50, 30, 40, 20], [30, 40, 30, 50], [20, 30, 40, 30]])"
      ],
      "metadata": {
        "id": "KZ8U1yASksc4"
      }
    },
    {
      "cell_type": "code",
      "source": [
        "#Sample data: Product satisfaction levels (rows) vs. Customer regions (columns)\n",
        "\n",
        "data = np.array([[50, 30, 40, 20], [30, 40, 30, 50], [20, 30, 40, 30]])"
      ],
      "metadata": {
        "id": "uU1rRI_3ktGc"
      },
      "execution_count": 27,
      "outputs": []
    },
    {
      "cell_type": "markdown",
      "source": [
        "To conduct a Chi-Square test to determine if there is a significant relationship between product satisfaction levels and customer regions using the provided sample data, you can follow these steps:\n",
        "\n",
        "Prepare the data: Create a contingency table from the provided data.\n",
        "Perform the Chi-Square test: Use the chi2_contingency function from the scipy.stats module.\n",
        "Interpret the results: Check the p-value to see if there is a significant relationship.\n",
        "Here’s how you can implement this in Python:\n",
        "\n",
        "Step-by-Step Implementation"
      ],
      "metadata": {
        "id": "rOvsec9AlA4h"
      }
    },
    {
      "cell_type": "code",
      "source": [
        "import numpy as np\n",
        "import pandas as pd\n",
        "from scipy.stats import chi2_contingency\n",
        "\n",
        "# Sample data: Product satisfaction levels (rows) vs. Customer regions (columns)\n",
        "data = np.array([[50, 30, 40, 20],  # Satisfied\n",
        "                 [30, 40, 30, 50],  # Neutral\n",
        "                 [20, 30, 40, 30]])  # Dissatisfied\n",
        "\n",
        "# Create a contingency table from the data\n",
        "contingency_table = pd.DataFrame(data,\n",
        "                                  index=['Satisfied', 'Neutral', 'Dissatisfied'],\n",
        "                                  columns=['East', 'West', 'North', 'South'])\n",
        "\n",
        "print(\"Contingency Table:\")\n",
        "print(contingency_table)\n",
        "\n",
        "# Perform the Chi-Square test\n",
        "chi2, p, dof, expected = chi2_contingency(contingency_table)\n",
        "\n",
        "# Print the results\n",
        "print(f\"\\nChi-Squared Statistic: {chi2}\")\n",
        "print(f\"P-Value: {p}\")\n",
        "print(f\"Degrees of Freedom: {dof}\")\n",
        "print(\"Expected Frequencies:\\n\", expected)\n",
        "\n",
        "# Interpret the result\n",
        "alpha = 0.05\n",
        "if p < alpha:\n",
        "    print(\"Reject the null hypothesis: There is a significant relationship between product satisfaction levels and customer regions.\")\n",
        "else:\n",
        "    print(\"Fail to reject the null hypothesis: There is no significant relationship between product satisfaction levels and customer regions.\")"
      ],
      "metadata": {
        "colab": {
          "base_uri": "https://localhost:8080/"
        },
        "id": "Ju5n9djOk6Od",
        "outputId": "ae7eb5a0-5e5a-486e-869d-12be50bd7780"
      },
      "execution_count": 28,
      "outputs": [
        {
          "output_type": "stream",
          "name": "stdout",
          "text": [
            "Contingency Table:\n",
            "              East  West  North  South\n",
            "Satisfied       50    30     40     20\n",
            "Neutral         30    40     30     50\n",
            "Dissatisfied    20    30     40     30\n",
            "\n",
            "Chi-Squared Statistic: 27.777056277056275\n",
            "P-Value: 0.00010349448486004387\n",
            "Degrees of Freedom: 6\n",
            "Expected Frequencies:\n",
            " [[34.14634146 34.14634146 37.56097561 34.14634146]\n",
            " [36.58536585 36.58536585 40.24390244 36.58536585]\n",
            " [29.26829268 29.26829268 32.19512195 29.26829268]]\n",
            "Reject the null hypothesis: There is a significant relationship between product satisfaction levels and customer regions.\n"
          ]
        }
      ]
    },
    {
      "cell_type": "markdown",
      "source": [
        "Explanation of the Code\n",
        "Data Preparation: We create a NumPy array to represent the contingency table where rows correspond to product satisfaction levels and columns correspond to customer regions.\n",
        "Contingency Table: A DataFrame is created for better visualization of the data.\n",
        "Chi-Square Test: The chi2_contingency function is used to perform the test, which returns the Chi-Squared statistic, p-value, degrees of freedom, and expected frequencies.\n",
        "Interpretation: We check the p-value against a significance level (α = 0.05) to determine if we can reject the null hypothesis, which states that there is no association between the two categorical variables.\n"
      ],
      "metadata": {
        "id": "6xVXs4fZl8bw"
      }
    },
    {
      "cell_type": "markdown",
      "source": [
        "Q(23)A company implemented an employee training program to improve job performance (Effective, Neutral, Ineffective). After the training, they collected data from a sample of employees and classified them based on their job performance before and after the training. Perform a Chi-Square test to determine if there is a significant difference between job performance levels before and after the training."
      ],
      "metadata": {
        "id": "g9RT3GkmmbpO"
      }
    },
    {
      "cell_type": "code",
      "source": [
        "# Sample data: Job performance levels before (rows) and after (columns) training\n",
        "\n",
        "data = np.array([[50, 30, 20], [30, 40, 30], [20, 30, 40]])"
      ],
      "metadata": {
        "id": "aicXb0swmg6u"
      },
      "execution_count": 29,
      "outputs": []
    },
    {
      "cell_type": "markdown",
      "source": [
        "To perform a Chi-Square test to determine if there is a significant difference between job performance levels before and after the training using the provided sample data, you can follow these steps:\n",
        "\n",
        "Prepare the data: Create a contingency table from the provided data.\n",
        "Perform the Chi-Square test: Use the chi2_contingency function from the scipy.stats module.\n",
        "Interpret the results: Check the p-value to see if there is a significant difference.\n",
        "Here’s how you can implement this in Python:"
      ],
      "metadata": {
        "id": "v1V5iXrQm0jo"
      }
    },
    {
      "cell_type": "markdown",
      "source": [
        "import numpy as np\n",
        "import pandas as pd\n",
        "from scipy.stats import chi2_contingency\n",
        "\n",
        "# Sample data: Job performance levels before (rows) and after (columns) training\n",
        "data = np.array([[50, 30, 20],  # Effective\n",
        "                 [30, 40, 30],  # Neutral\n",
        "                 [20, 30, 40]])  # Ineffective\n",
        "\n",
        "# Create a contingency table from the data\n",
        "contingency_table = pd.DataFrame(data,\n",
        "                                  index=['Effective', 'Neutral', 'Ineffective'],\n",
        "                                  columns=['Effective After', 'Neutral After', 'Ineffective After'])\n",
        "\n",
        "print(\"Contingency Table:\")\n",
        "print(contingency_table)\n",
        "\n",
        "# Perform the Chi-Square test\n",
        "chi2, p, dof, expected = chi2_contingency(contingency_table)\n",
        "\n",
        "# Print the results\n",
        "print(f\"\\nChi-Squared Statistic: {chi2}\")\n",
        "print(f\"P-Value: {p}\")\n",
        "print(f\"Degrees of Freedom: {dof}\")\n",
        "print(\"Expected Frequencies:\\n\", expected)\n",
        "\n",
        "# Interpret the result\n",
        "alpha = 0.05\n",
        "if p < alpha:\n",
        "    print(\"Reject the null hypothesis: There is a significant difference between job performance levels before and after training.\")\n",
        "else:\n",
        "    print(\"Fail to reject the null hypothesis: There is no significant difference between job performance levels before and after training.\")"
      ],
      "metadata": {
        "id": "MZaUL-BWm9rw"
      }
    },
    {
      "cell_type": "markdown",
      "source": [
        "Explanation of the Code\n",
        "Data Preparation: We create a NumPy array to represent the contingency table where rows correspond to job performance levels before the training and columns correspond to job performance levels after the training.\n",
        "Contingency Table: A DataFrame is created for better visualization of the data, showing how many employees fell into each category before and after training.\n",
        "Chi-Square Test: The chi2_contingency function is used to perform the test, which returns the Chi-Squared statistic, p-value, degrees of freedom, and expected frequencies.\n",
        "Interpretation: We check the p-value against a significance level (α = 0.05) to determine if we can reject the null hypothesis, which states that there is no difference in job performance levels before and after the training."
      ],
      "metadata": {
        "id": "BtxhL-GSnKt5"
      }
    },
    {
      "cell_type": "markdown",
      "source": [
        "Q(24)A company produces three different versions of a product: Standard, Premium, and Deluxe. The company wants to determine if there is a significant difference in customer satisfaction scores among the three product versions. They conducted a survey and collected customer satisfaction scores for each version from a random sample of customers. Perform an ANOVA test to determine if there is a significant difference in customer satisfaction scores.\n",
        "Use the following data:"
      ],
      "metadata": {
        "id": "zoYMdg9dndYw"
      }
    },
    {
      "cell_type": "code",
      "source": [
        "# Sample data: Customer satisfaction scores for each product version\n",
        "\n",
        "standard_scores = [80, 85, 90, 78, 88, 82, 92, 78, 85, 87]\n",
        "\n",
        "premium_scores = [90, 92, 88, 92, 95, 91, 96, 93, 89, 93]\n",
        "\n",
        "deluxe_scores = [95, 98, 92, 97, 96, 94, 98, 97, 92, 99]"
      ],
      "metadata": {
        "id": "UADSDIuGnm41"
      },
      "execution_count": 30,
      "outputs": []
    },
    {
      "cell_type": "markdown",
      "source": [
        "To determine if there is a significant difference in customer satisfaction scores among the three product versions (Standard, Premium, and Deluxe), you can perform an ANOVA (Analysis of Variance) test. Here’s how you can implement this in Python using the provided data.\n",
        "\n",
        "Step-by-Step Implementation\n",
        "Prepare the data: Organize the customer satisfaction scores for each product version.\n",
        "Perform the ANOVA test: Use the f_oneway function from the scipy.stats module.\n",
        "Interpret the results: Check the p-value to see if there is a significant difference.\n",
        "Here’s how you can implement this in Python:|"
      ],
      "metadata": {
        "id": "0j15cpMbnwXQ"
      }
    },
    {
      "cell_type": "code",
      "source": [
        "import numpy as np\n",
        "from scipy.stats import f_oneway\n",
        "\n",
        "# Sample data: Customer satisfaction scores for each product version\n",
        "standard_scores = [80, 85, 90, 78, 88, 82, 92, 78, 85, 87]\n",
        "premium_scores = [90, 92, 88, 92, 95, 91, 96, 93, 89, 93]\n",
        "deluxe_scores = [95, 98, 92, 97, 96, 94, 98, 97, 92, 99]\n",
        "\n",
        "# Perform the ANOVA test\n",
        "f_statistic, p_value = f_oneway(standard_scores, premium_scores, deluxe_scores)\n",
        "\n",
        "# Print the results\n",
        "print(f\"F-Statistic: {f_statistic}\")\n",
        "print(f\"P-Value: {p_value}\")\n",
        "\n",
        "# Interpret the result\n",
        "alpha = 0.05\n",
        "if p_value < alpha:\n",
        "    print(\"Reject the null hypothesis: There is a significant difference in customer satisfaction scores among the product versions.\")\n",
        "else:\n",
        "    print(\"Fail to reject the null hypothesis: There is no significant difference in customer satisfaction scores among the product versions.\")"
      ],
      "metadata": {
        "colab": {
          "base_uri": "https://localhost:8080/"
        },
        "id": "10vVhAoHnxRr",
        "outputId": "3a002bab-43e5-4798-e493-85af8a128650"
      },
      "execution_count": 31,
      "outputs": [
        {
          "output_type": "stream",
          "name": "stdout",
          "text": [
            "F-Statistic: 27.03556231003039\n",
            "P-Value: 3.5786328857349003e-07\n",
            "Reject the null hypothesis: There is a significant difference in customer satisfaction scores among the product versions.\n"
          ]
        }
      ]
    },
    {
      "cell_type": "markdown",
      "source": [
        "Explanation of the Code\n",
        "Data Preparation: The customer satisfaction scores for each product version are stored in separate lists.\n",
        "ANOVA Test: The f_oneway function is used to perform a one-way ANOVA test, which compares the means of the three groups. It returns the F-statistic and the p-value.\n",
        "Interpretation: We check the p-value against a significance level (α = 0.05) to determine if we can reject the null hypothesis, which states that there is no difference in customer satisfaction scores among the product versions."
      ],
      "metadata": {
        "id": "0mZMo7WAn6y_"
      }
    },
    {
      "cell_type": "code",
      "source": [],
      "metadata": {
        "id": "B0T1BEM7n7kE"
      },
      "execution_count": null,
      "outputs": []
    }
  ]
}