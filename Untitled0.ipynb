{
  "nbformat": 4,
  "nbformat_minor": 0,
  "metadata": {
    "colab": {
      "provenance": [],
      "authorship_tag": "ABX9TyNaFiWpz3IiNflwtQF2BygQ",
      "include_colab_link": true
    },
    "kernelspec": {
      "name": "python3",
      "display_name": "Python 3"
    },
    "language_info": {
      "name": "python"
    }
  },
  "cells": [
    {
      "cell_type": "markdown",
      "metadata": {
        "id": "view-in-github",
        "colab_type": "text"
      },
      "source": [
        "<a href=\"https://colab.research.google.com/github/jayendra-edu/jayendra-edu/blob/main/Untitled0.ipynb\" target=\"_parent\"><img src=\"https://colab.research.google.com/assets/colab-badge.svg\" alt=\"Open In Colab\"/></a>"
      ]
    },
    {
      "cell_type": "markdown",
      "source": [
        "Name -  Jayendra\n",
        "course = Data science with generative ai\n",
        "Date  = sun, 29 sept\n",
        "```\n",
        "# This is formatted as code\n",
        "```\n",
        "\n"
      ],
      "metadata": {
        "id": "u2WCGR1xlYtM"
      }
    },
    {
      "cell_type": "markdown",
      "source": [
        "Q`. Explain the purpose and advantages of Numpy in scientic computong and data analysis. How does it enhance python's for numerical operations."
      ],
      "metadata": {
        "id": "cAkjZeEXl4rt"
      }
    },
    {
      "cell_type": "markdown",
      "source": [
        "Efficient Numerical Computation: At its core, NumPy provides ndarrays, which are multi-dimensional arrays optimized for storing and processing numerical data. Unlike Python lists, which can hold objects of different types, NumPy arrays enforce a single data type, leading to significant performance gains.\n",
        "Vectorization: NumPy excels at \"vectorized\" operations. This means you can apply mathematical functions to entire arrays without writing explicit loops, making your code concise and fast.\n",
        "Broadcasting: NumPy's broadcasting rules simplify operations between arrays of different shapes (under certain conditions) without manual resizing.\n",
        "Foundation for Scientific Libraries: NumPy serves as the cornerstone for libraries like pandas (data manipulation), SciPy (scientific computing), Matplotlib (plotting), and many others."
      ],
      "metadata": {
        "id": "E12AYzhimWSE"
      }
    },
    {
      "cell_type": "code",
      "source": [
        "from google.colab import drive\n",
        "drive.mount('/content/drive')"
      ],
      "metadata": {
        "id": "fWkBkB648kEo"
      },
      "execution_count": null,
      "outputs": []
    },
    {
      "cell_type": "code",
      "source": [],
      "metadata": {
        "id": "stSNvvQU7v1z"
      },
      "execution_count": null,
      "outputs": []
    },
    {
      "cell_type": "markdown",
      "source": [
        "Q2. Compare and contrast np.mean() and np.average() in numpy.. when would you use one over the other?"
      ],
      "metadata": {
        "id": "k30wExJrmf6t"
      }
    },
    {
      "cell_type": "markdown",
      "source": [
        "np.mean(): Calculates the arithmetic mean (average) of array elements.\n",
        "np.average(): Offers more flexibility by allowing weighted averages. If no weights are provided, it behaves like np.mean().\n",
        "\n"
      ],
      "metadata": {
        "id": "pSv2WOhymy78"
      }
    },
    {
      "cell_type": "code",
      "source": [
        "import numpy as np\n",
        "\n",
        "data = np.array([1, 2, 3, 4, 5])\n",
        "mean = np.mean(data)\n",
        "weighted_avg = np.average(data, weights=[1, 2, 1, 1, 2])  # Gives more importance to elements at index 1 and 4"
      ],
      "metadata": {
        "id": "GJpgXzh0rEIk"
      },
      "execution_count": null,
      "outputs": []
    },
    {
      "cell_type": "markdown",
      "source": [
        "Q3. Describe the methods for reversing a numpy array along different axes. provides examples for 1D and 2D arrays."
      ],
      "metadata": {
        "id": "ihUmHUTTrWWi"
      }
    },
    {
      "cell_type": "markdown",
      "source": [
        "You can reverse NumPy arrays along different axes using slicing and np.flip():"
      ],
      "metadata": {
        "id": "Bofr9gjosIW6"
      }
    },
    {
      "cell_type": "code",
      "source": [
        "import numpy as np\n",
        "\n",
        "arr_1d = np.array([1, 2, 3, 4])\n",
        "arr_2d = np.array([[1, 2, 3],\n",
        "                   [4, 5, 6]])\n",
        "\n",
        "reversed_1d = arr_1d[::-1]\n",
        "reversed_2d_rows = arr_2d[::-1, :]  # Reverse rows\n",
        "reversed_2d_cols = arr_2d[:, ::-1]  # Reverse columns\n",
        "fully_reversed = np.flip(arr_2d)     # Reverse both rows and columns"
      ],
      "metadata": {
        "id": "E8cY2X-EsMkq"
      },
      "execution_count": null,
      "outputs": []
    },
    {
      "cell_type": "markdown",
      "source": [
        "Q4. How can you determine the data type of elements in a numpy array? Discuss the importance of data types in memory managemen and performance."
      ],
      "metadata": {
        "id": "X54clpfNsdxZ"
      }
    },
    {
      "cell_type": "markdown",
      "source": [],
      "metadata": {
        "id": "R_nFodFctPQS"
      }
    },
    {
      "cell_type": "markdown",
      "source": [
        "dtype Attribute: Use the dtype attribute to check the data type of array elements (e.g., arr.dtype). Common data types include int32, float64, bool, etc.\n",
        "Memory Management: Choosing the right data type helps optimize memory usage. For instance, storing small integers in int8 instead of int32 reduces memory consumption.\n",
        "Performance: Operations on arrays with appropriate data types are generally faster.\n"
      ],
      "metadata": {
        "id": "mH-Vo7sOtRGx"
      }
    },
    {
      "cell_type": "markdown",
      "source": [
        "Q5. Define ndarys in numpy and explain their key features. how do they differ from standard lists?\n"
      ],
      "metadata": {
        "id": "pBK_Iu4ktZJT"
      }
    },
    {
      "cell_type": "markdown",
      "source": [
        "(feature)\n",
        "memory\n",
        "performance\n",
        "mutability\n",
        "\n",
        "ndarray\n",
        "Homogeneous (all elements of the same type)\n",
        "Contiguous block for efficiency\n",
        "Optimized for numerical operations\n",
        "Elements can be modified\n",
        "\n",
        " python list\n",
        " Heterogeneous (can mix types)\n",
        " \tScattered memory locations\n",
        "  Slower for numerical tasks\n",
        "  Elements can be modified"
      ],
      "metadata": {
        "id": "QzBN2P8MuBwn"
      }
    },
    {
      "cell_type": "markdown",
      "source": [
        "Q6. Analyze the performance benefits of numpy arrays over python lists for large-scale numerical operartions."
      ],
      "metadata": {
        "id": "0O16sT-PvyS5"
      }
    },
    {
      "cell_type": "markdown",
      "source": [
        "Contiguous Memory: NumPy's contiguous memory layout allows for faster access and manipulation of data compared to Python lists.\n",
        "Vectorization: Eliminates the overhead of Python loops, leading to substantial speedups for repetitive calculations.\n",
        "Hardware Optimization: NumPy leverages optimized libraries (like BLAS and LAPACK) written in lower-level languages (C/Fortran) to take advantage of your computer's hardware."
      ],
      "metadata": {
        "id": "fs5YglyJw0Jn"
      }
    },
    {
      "cell_type": "markdown",
      "source": [
        "Q7. Compare vstack() and hstack() functions in numpy. provide examples demonstratuing their usage and output."
      ],
      "metadata": {
        "id": "5GKGBFFOxEfo"
      }
    },
    {
      "cell_type": "markdown",
      "source": [
        "vstack() (vertical stack): Stacks arrays vertically (rows on top of each other). Arrays must have the same number of columns.\n",
        "hstack() (horizontal stack): Stacks arrays horizontally (side by side). Arrays must have the same number of rows.\n",
        "python\n",
        "\n"
      ],
      "metadata": {
        "id": "d59l1kLmxzgv"
      }
    },
    {
      "cell_type": "code",
      "source": [
        "import numpy as np\n",
        "\n",
        "arr1 = np.array([1, 2, 3])\n",
        "arr2 = np.array([4, 5, 6])\n",
        "\n",
        "vertical_stack = np.vstack((arr1, arr2))\n",
        "horizontal"
      ],
      "metadata": {
        "id": "xNr6E1R1x2LY"
      },
      "execution_count": null,
      "outputs": []
    },
    {
      "cell_type": "markdown",
      "source": [
        "Q8. Explain the differnces between flipir() and flipiud () methods in numpy,including their effects on various array dimensions."
      ],
      "metadata": {
        "id": "8nOqgDZRx3FX"
      }
    },
    {
      "cell_type": "markdown",
      "source": [
        "fliplr(array): Flips an array horizontally (left to right) along the vertical axis (axis=1 by default).\n",
        "Imagine looking at the array in a mirror.\n",
        "flipud(array): Flips an array vertically (upside down) along the horizontal axis (axis=0 by default).\n"
      ],
      "metadata": {
        "id": "u22xKAzpyzoP"
      }
    },
    {
      "cell_type": "code",
      "source": [
        "import numpy as np\n",
        "\n",
        "arr = np.array([[1, 2, 3],\n",
        "                [4, 5, 6]])\n",
        "\n",
        "flipped_lr = np.fliplr(arr)\n",
        "flipped_ud = np.flipud(arr)\n",
        "\n",
        "print(\"Original:\")\n",
        "print(arr)\n",
        "print(\"\\nFlipped Left-Right:\")\n",
        "print(flipped_lr)\n",
        "print(\"\\nFlipped Up-Down:\")\n",
        "print(flipped_ud)"
      ],
      "metadata": {
        "id": "p4NCm4LRzcMh"
      },
      "execution_count": null,
      "outputs": []
    },
    {
      "cell_type": "markdown",
      "source": [
        "Q9. Discuss the functionality of the array_split() method in Numpy. How does it handle uneven splits?"
      ],
      "metadata": {
        "id": "hlCASZ0ozArn"
      }
    },
    {
      "cell_type": "markdown",
      "source": [
        "Purpose: Divides an array into multiple sub-arrays.\n",
        "\n",
        "Flexibility: array_split() is more flexible than split() because it handles uneven splits gracefully.\n",
        "\n",
        "Syntax: np.array_split(array, indices_or_sections, axis=0)\n",
        "\n",
        "array: The input array to split.\n",
        "indices_or_sections:\n",
        "If an integer (N), the array is divided into N equal-sized sub-arrays (as evenly as possible).\n",
        "If a list of indices, the array is split at the specified indices.\n",
        "axis: The axis along which to split the array (default is 0)."
      ],
      "metadata": {
        "id": "0yKY_-bnzkOZ"
      }
    },
    {
      "cell_type": "code",
      "source": [
        "import numpy as np\n",
        "\n",
        "arr = np.array([1, 2, 3, 4, 5, 6, 7])\n",
        "\n",
        "# Split into 3 equal-sized sub-arrays\n",
        "split_arrays = np.array_split(arr, 3)\n",
        "print(split_arrays)\n",
        "\n",
        "# Split at specific indices\n",
        "split_arrays_at_indices = np.array_split(arr, [2, 5])\n",
        "print(split_arrays_at_indices)"
      ],
      "metadata": {
        "id": "ojDO_Auezk9L"
      },
      "execution_count": null,
      "outputs": []
    },
    {
      "cell_type": "markdown",
      "source": [
        "Q10 Explain the concepts of vectorisation and broaadcasting in numpy. how they contribute to efficient array operations?"
      ],
      "metadata": {
        "id": "-UrlA3PAznz3"
      }
    },
    {
      "cell_type": "markdown",
      "source": [
        "Vectorization\n",
        "\n",
        "Concept: Performing operations on entire arrays (or large chunks of data) instead of looping through individual elements.\n",
        "Benefits:\n",
        "Speed: NumPy's underlying C implementation makes vectorized operations significantly faster than Python loops, especially for large datasets.\n",
        "Conciseness: Vectorized code is often more readable and easier to understand.\n",
        "Example:"
      ],
      "metadata": {
        "id": "PaBRVGBn0IXG"
      }
    },
    {
      "cell_type": "code",
      "source": [
        "import numpy as np\n",
        "\n",
        "# Without vectorization (slow)\n",
        "data = [1, 2, 3, 4, 5]\n",
        "result = []\n",
        "for x in data:\n",
        "    result.append(x * 2)\n",
        "\n",
        "# With vectorization (fast)\n",
        "data_np = np.array(data)\n",
        "result_np = data_np * 2"
      ],
      "metadata": {
        "id": "VtNeQjZA0JDD"
      },
      "execution_count": null,
      "outputs": []
    },
    {
      "cell_type": "markdown",
      "source": [
        "Broadcasting\n",
        "\n",
        "Concept: NumPy's mechanism for performing operations on arrays of different shapes, as long as their dimensions are compatible. Broadcasting effectively \"stretches\" the smaller array to match the shape of the larger one.\n",
        "Rules:\n",
        "If the arrays don't have the same number of dimensions, prepend the shape of the smaller array with ones until both shapes have the same length.\n",
        "The dimensions are compatible if they are equal or one of them is 1.\n",
        "Example:"
      ],
      "metadata": {
        "id": "mbayVjoN0MuR"
      }
    },
    {
      "cell_type": "code",
      "source": [
        "import numpy as np\n",
        "\n",
        "arr1 = np.array([[1, 2, 3],\n",
        "                 [4, 5, 6]])\n",
        "\n",
        "arr2 = np.array([10, 20, 30])\n",
        "\n",
        "result = arr1 + arr2  # Broadcasting happens here\n",
        "print(result)"
      ],
      "metadata": {
        "id": "IG5SxwQv0SMH"
      },
      "execution_count": null,
      "outputs": []
    },
    {
      "cell_type": "code",
      "source": [
        "[[11 22 33]\n",
        " [14 25 36\n"
      ],
      "metadata": {
        "colab": {
          "base_uri": "https://localhost:8080/",
          "height": 106
        },
        "id": "5DdbF7ml0WOv",
        "outputId": "20ad7629-5022-4af7-a415-3ce5a1d61a92"
      },
      "execution_count": null,
      "outputs": [
        {
          "output_type": "error",
          "ename": "SyntaxError",
          "evalue": "invalid syntax. Perhaps you forgot a comma? (<ipython-input-6-f72e37d20758>, line 1)",
          "traceback": [
            "\u001b[0;36m  File \u001b[0;32m\"<ipython-input-6-f72e37d20758>\"\u001b[0;36m, line \u001b[0;32m1\u001b[0m\n\u001b[0;31m    [[11 22 33]\u001b[0m\n\u001b[0m      ^\u001b[0m\n\u001b[0;31mSyntaxError\u001b[0m\u001b[0;31m:\u001b[0m invalid syntax. Perhaps you forgot a comma?\n"
          ]
        }
      ]
    },
    {
      "cell_type": "code",
      "source": [
        "    practical Questions\n"
      ],
      "metadata": {
        "colab": {
          "base_uri": "https://localhost:8080/",
          "height": 106
        },
        "id": "GJeJU3W10fPn",
        "outputId": "d17d79b4-0052-4b76-b527-f6a49814d067"
      },
      "execution_count": null,
      "outputs": [
        {
          "output_type": "error",
          "ename": "SyntaxError",
          "evalue": "invalid syntax (<ipython-input-7-46c2a059603a>, line 1)",
          "traceback": [
            "\u001b[0;36m  File \u001b[0;32m\"<ipython-input-7-46c2a059603a>\"\u001b[0;36m, line \u001b[0;32m1\u001b[0m\n\u001b[0;31m    practical Questions\u001b[0m\n\u001b[0m              ^\u001b[0m\n\u001b[0;31mSyntaxError\u001b[0m\u001b[0;31m:\u001b[0m invalid syntax\n"
          ]
        }
      ]
    },
    {
      "cell_type": "code",
      "source": [
        "# 1. Create a 3x3 NumPy array with random integers between 1 and 100. Then, interchange its rows and columns."
      ],
      "metadata": {
        "id": "LD3qNWzY2I9M"
      },
      "execution_count": null,
      "outputs": []
    },
    {
      "cell_type": "code",
      "source": [
        "array_1 = np.random.randint(1, 101, size=(3, 3))\n",
        "print(\"Original array:\")\n",
        "print(array_1)\n",
        "print(\"Transposed array:\")\n",
        "print(array_1.T)\n"
      ],
      "metadata": {
        "colab": {
          "base_uri": "https://localhost:8080/"
        },
        "collapsed": true,
        "id": "VgX7Dnqj0kqZ",
        "outputId": "af535a28-cf78-446c-92ff-b08eea7de5b1"
      },
      "execution_count": null,
      "outputs": [
        {
          "output_type": "stream",
          "name": "stdout",
          "text": [
            "Original array:\n",
            "[[ 8  9 95]\n",
            " [ 9 56 98]\n",
            " [93 12 74]]\n",
            "Transposed array:\n",
            "[[ 8  9 93]\n",
            " [ 9 56 12]\n",
            " [95 98 74]]\n"
          ]
        }
      ]
    },
    {
      "cell_type": "code",
      "source": [
        "# 2. Generate a 1D NumPy array with 10 elements. Reshape it into a 2x5 array, then into a 5x2 array.\n",
        "\n"
      ],
      "metadata": {
        "id": "X8u41b3A2Q6V"
      },
      "execution_count": null,
      "outputs": []
    },
    {
      "cell_type": "code",
      "source": [
        "array_2 = np.arange(10)\n",
        "print(\"\\nOriginal 1D array:\")\n",
        "print(array_2)\n",
        "print(\"Reshaped to 2x5:\")\n",
        "print(array_2.reshape(2, 5))\n",
        "print(\"Reshaped to 5x2:\")\n",
        "print(array_2.reshape(5, 2))\n"
      ],
      "metadata": {
        "id": "1tMLFIg22poe"
      },
      "execution_count": null,
      "outputs": []
    },
    {
      "cell_type": "code",
      "source": [
        "# 3. Create a 4x4 NumPy array with random float values. Add a border of zeros around it, resulting in a 6x6 array."
      ],
      "metadata": {
        "id": "9E3piwIK2x-S"
      },
      "execution_count": null,
      "outputs": []
    },
    {
      "cell_type": "code",
      "source": [
        "array_3 = np.random.rand(4, 4)\n",
        "print(\"\\nOriginal 4x4 array:\")\n",
        "print(array_3)\n",
        "array_3_padded = np.zeros((6, 6))\n",
        "array_3_padded[1:-1, 1:-1] = array_3\n",
        "print(\"Padded 6x6 array:\")\n",
        "print(array_3_padded)\n"
      ],
      "metadata": {
        "id": "pbALq7BL3AWf"
      },
      "execution_count": null,
      "outputs": []
    },
    {
      "cell_type": "code",
      "source": [
        " 4. Using NumPy, create an array of integers from 10 to 60 with a step of 5."
      ],
      "metadata": {
        "id": "0eQ4I50y3K_c"
      },
      "execution_count": null,
      "outputs": []
    },
    {
      "cell_type": "code",
      "source": [
        "array_4 = np.arange(10, 61, 5)\n",
        "print(\"\\nArray from 10 to 60 with step 5:\")\n",
        "print(array_4)\n"
      ],
      "metadata": {
        "id": "4tsM_u2-3UX2"
      },
      "execution_count": null,
      "outputs": []
    },
    {
      "cell_type": "code",
      "source": [
        " 5. Create a NumPy array of strings ['python', 'numpy', 'pandas']. Apply different case transformations (uppercase, lowercase, title case, etc.) to each element."
      ],
      "metadata": {
        "id": "EOKp2vwQ3ZtZ"
      },
      "execution_count": null,
      "outputs": []
    },
    {
      "cell_type": "code",
      "source": [
        "array_5 = np.array(['python', 'numpy', 'pandas'])\n",
        "print(\"\\nOriginal array:\")\n",
        "print(array_5)\n",
        "print(\"Uppercase:\")\n",
        "print(np.char.upper(array_5))\n",
        "print(\"Lowercase:\")\n",
        "print(np.char.lower(array_5))\n",
        "print(\"Title case:\")\n",
        "print(np.char.title(array_5))\n"
      ],
      "metadata": {
        "id": "_qiygeg536-c"
      },
      "execution_count": null,
      "outputs": []
    },
    {
      "cell_type": "code",
      "source": [
        "# 6. Generate a NumPy array of words. Insert a space between each character of every word in the array."
      ],
      "metadata": {
        "id": "70w0KNfn38BN"
      },
      "execution_count": null,
      "outputs": []
    },
    {
      "cell_type": "code",
      "source": [
        "array_6 = np.array(['This', 'is', 'a', 'NumPy', 'array'])\n",
        "print(\"\\nOriginal array:\")\n",
        "print(array_6)\n",
        "array_6_spaced = np.array([' '.join(list(word)) for word in array_6])\n",
        "print(\"Array with spaces:\")\n",
        "print(array_6_spaced)\n"
      ],
      "metadata": {
        "id": "KN6FgZf04GK0"
      },
      "execution_count": null,
      "outputs": []
    },
    {
      "cell_type": "code",
      "source": [
        "# 7. Create two 2D NumPy arrays and perform element-wise addition, subtraction, multiplication, and division."
      ],
      "metadata": {
        "id": "OeyDOLmB4L4T"
      },
      "execution_count": null,
      "outputs": []
    },
    {
      "cell_type": "code",
      "source": [
        "array_7a = np.random.randint(1, 10, size=(2, 2))\n",
        "array_7b = np.random.randint(1, 10, size=(2, 2))\n",
        "print(\"\\nArray 7a:\")\n",
        "print(array_7a)\n",
        "print(\"Array 7b:\")\n",
        "print(array_7b)\n",
        "print(\"Addition:\")\n",
        "print(array_7a + array_7b)\n",
        "print(\"Subtraction:\")\n",
        "print(array_7a - array_7b)\n",
        "print(\"Multiplication:\")\n",
        "print(array_7a * array_7b)\n",
        "print(\"Division:\")\n",
        "print(array_7a / array_7b)"
      ],
      "metadata": {
        "id": "En1OihxW4TbO"
      },
      "execution_count": null,
      "outputs": []
    },
    {
      "cell_type": "code",
      "source": [
        "# 8. Use NumPy to create a 5x5 identity matrix, then extract its diagonal elements."
      ],
      "metadata": {
        "id": "04Yf5bz_4VQ4"
      },
      "execution_count": null,
      "outputs": []
    },
    {
      "cell_type": "code",
      "source": [
        "identity_matrix = np.eye(5)\n",
        "print(\"\\n5x5 identity matrix:\")\n",
        "print(identity_matrix)\n",
        "print(\"Diagonal elements:\")\n",
        "print(np.diag(identity_matrix))"
      ],
      "metadata": {
        "id": "AfqgCd624dU4"
      },
      "execution_count": null,
      "outputs": []
    },
    {
      "cell_type": "code",
      "source": [
        "# 9. Generate a NumPy array of 100 random integers between 0 and 1000. Find and display all prime numbers in this array."
      ],
      "metadata": {
        "id": "R1aD4Qlt4kK8"
      },
      "execution_count": null,
      "outputs": []
    },
    {
      "cell_type": "code",
      "source": [
        "def is_prime(n):\n",
        "    if n <= 1:\n",
        "        return False\n",
        "    for i in range(2, int(n**0.5) + 1):\n",
        "        if n % i == 0:\n",
        "            return False\n",
        "    return True\n",
        "\n",
        "array_9 = np.random.randint(0, 1001, size=100)\n",
        "print(\"\\nRandom array:\")"
      ],
      "metadata": {
        "id": "Cw49a7_m4uqo"
      },
      "execution_count": null,
      "outputs": []
    },
    {
      "cell_type": "code",
      "source": [
        "# Q10create a numpy array representing daily temperatures for a mouth . Calculate and display the weekly averages.\n",
        "\n",
        "\n",
        "\n"
      ],
      "metadata": {
        "id": "K3BzR_IC50pC"
      },
      "execution_count": null,
      "outputs": []
    },
    {
      "cell_type": "code",
      "source": [
        "import numpy as np\n",
        "\n",
        "# Generate random daily temperatures for a month (30 days)\n",
        "daily_temperatures = np.random.uniform(10, 25, 30)\n",
        "print(\"Daily Temperatures:\")\n",
        "print(daily_temperatures)"
      ],
      "metadata": {
        "id": "VymYTTdn6No7"
      },
      "execution_count": null,
      "outputs": []
    },
    {
      "cell_type": "code",
      "source": [],
      "metadata": {
        "id": "hcnBkps46W2m"
      },
      "execution_count": null,
      "outputs": []
    }
  ]
}