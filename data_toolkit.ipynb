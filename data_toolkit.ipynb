{
  "nbformat": 4,
  "nbformat_minor": 0,
  "metadata": {
    "colab": {
      "provenance": [],
      "authorship_tag": "ABX9TyNpTuBcnC/W+2sKLAS/L2Ws",
      "include_colab_link": true
    },
    "kernelspec": {
      "name": "python3",
      "display_name": "Python 3"
    },
    "language_info": {
      "name": "python"
    }
  },
  "cells": [
    {
      "cell_type": "markdown",
      "metadata": {
        "id": "view-in-github",
        "colab_type": "text"
      },
      "source": [
        "<a href=\"https://colab.research.google.com/github/jayendra-edu/jayendra-edu/blob/main/data_toolkit.ipynb\" target=\"_parent\"><img src=\"https://colab.research.google.com/assets/colab-badge.svg\" alt=\"Open In Colab\"/></a>"
      ]
    },
    {
      "cell_type": "markdown",
      "source": [
        "1,. Demonstrate three different methods for creating identical 2D arrays in Numpy. Provide the code for each method and the final output after each method"
      ],
      "metadata": {
        "id": "wPPUTf1dC1m5"
      }
    },
    {
      "cell_type": "markdown",
      "source": [
        "Here are three different methods for creating identical 2D arrays in NumPy:\n",
        "\n",
        "Method 1: Using numpy.array and a list comprehension\n",
        "\n",
        "We can create a 2D array by passing a list of lists to the numpy.array function. Here's the code:\n",
        "\n",
        "python"
      ],
      "metadata": {
        "id": "A18JUs5zC4hh"
      }
    },
    {
      "cell_type": "code",
      "source": [
        "import numpy as np\n",
        "\n",
        "# Create a 2D array using a list comprehension\n",
        "array_2d = np.array([[i + j*5 for i in range(5)] for j in range(5)])\n",
        "\n",
        "print(\"Method 1:\")\n",
        "print(array_2d)"
      ],
      "metadata": {
        "colab": {
          "base_uri": "https://localhost:8080/"
        },
        "id": "ndJ1RqA3C6MR",
        "outputId": "b51c3629-0b29-4882-82ed-7bebdea47319"
      },
      "execution_count": 1,
      "outputs": [
        {
          "output_type": "stream",
          "name": "stdout",
          "text": [
            "Method 1:\n",
            "[[ 0  1  2  3  4]\n",
            " [ 5  6  7  8  9]\n",
            " [10 11 12 13 14]\n",
            " [15 16 17 18 19]\n",
            " [20 21 22 23 24]]\n"
          ]
        }
      ]
    },
    {
      "cell_type": "markdown",
      "source": [
        "Method 2: Using numpy.arange and numpy.reshape\n",
        "\n",
        "We can create a 1D array using numpy.arange and then reshape it into a 2D array using numpy.reshape. Here's the code:\n",
        "\n",
        "\n"
      ],
      "metadata": {
        "id": "Qtqns-s6DEIC"
      }
    },
    {
      "cell_type": "code",
      "source": [
        "import numpy as np\n",
        "\n",
        "# Create a 1D array using arange\n",
        "array_1d = np.arange(25)\n",
        "\n",
        "# Reshape the 1D array into a 2D array\n",
        "array_2d = array_1d.reshape(5, 5)\n",
        "\n",
        "print(\"\\nMethod 2:\")\n",
        "print(array_2d)"
      ],
      "metadata": {
        "colab": {
          "base_uri": "https://localhost:8080/"
        },
        "id": "j0smQb2pDG6n",
        "outputId": "e818d161-80d1-4138-b79c-3546c033dc4d"
      },
      "execution_count": 2,
      "outputs": [
        {
          "output_type": "stream",
          "name": "stdout",
          "text": [
            "\n",
            "Method 2:\n",
            "[[ 0  1  2  3  4]\n",
            " [ 5  6  7  8  9]\n",
            " [10 11 12 13 14]\n",
            " [15 16 17 18 19]\n",
            " [20 21 22 23 24]]\n"
          ]
        }
      ]
    },
    {
      "cell_type": "markdown",
      "source": [
        "Method 3: Using numpy.zeros and a loop\n",
        "\n",
        "We can create a 2D array filled with zeros using numpy.zeros and then fill in the values using a loop. Here's the code:\n",
        "\n",
        "python"
      ],
      "metadata": {
        "id": "QEsyEXrPDQKT"
      }
    },
    {
      "cell_type": "code",
      "source": [
        "import numpy as np\n",
        "\n",
        "# Create a 2D array filled with zeros\n",
        "array_2d = np.zeros((5, 5))\n",
        "\n",
        "# Fill in the values using a loop\n",
        "for i in range(5):\n",
        "    for j in range(5):\n",
        "        array_2d[i, j] = i + j*5\n",
        "\n",
        "print(\"\\nMethod 3:\")\n",
        "print(array_2d)"
      ],
      "metadata": {
        "colab": {
          "base_uri": "https://localhost:8080/"
        },
        "id": "HOwwODxoDR6i",
        "outputId": "1a558a5a-9498-4f72-863b-b85cf5ec0eca"
      },
      "execution_count": 3,
      "outputs": [
        {
          "output_type": "stream",
          "name": "stdout",
          "text": [
            "\n",
            "Method 3:\n",
            "[[ 0.  5. 10. 15. 20.]\n",
            " [ 1.  6. 11. 16. 21.]\n",
            " [ 2.  7. 12. 17. 22.]\n",
            " [ 3.  8. 13. 18. 23.]\n",
            " [ 4.  9. 14. 19. 24.]]\n"
          ]
        }
      ]
    },
    {
      "cell_type": "markdown",
      "source": [
        "Using the Numpy function, generate an array of 100 evenly spaced numbers between 1 and 10 and Reshape that 1D array into a 2D array.\n"
      ],
      "metadata": {
        "id": "dgY8JVXTDfes"
      }
    },
    {
      "cell_type": "markdown",
      "source": [
        "To generate an array of 100 evenly spaced numbers between 1 and 10 using NumPy, we can use the linspace function. Then, we can reshape the 1D array into a 2D array using the reshape function."
      ],
      "metadata": {
        "id": "CrKEWCslDhz6"
      }
    },
    {
      "cell_type": "code",
      "source": [
        "import numpy as np\n",
        "\n",
        "# Generate an array of 100 evenly spaced numbers between 1 and 10\n",
        "array_1d = np.linspace(1, 10, 100)\n",
        "\n",
        "print(\"1D Array:\")\n",
        "print(array_1d)\n",
        "\n",
        "# Reshape the 1D array into a 2D array with 10 rows and 10 columns\n",
        "array_2d = array_1d.reshape(10, 10)\n",
        "\n",
        "print(\"\\n2D Array:\")\n",
        "print(array_2d)"
      ],
      "metadata": {
        "colab": {
          "base_uri": "https://localhost:8080/"
        },
        "id": "lB2e95NRDlVi",
        "outputId": "be163076-ebdb-4ce0-ca11-82ba87e68230"
      },
      "execution_count": 4,
      "outputs": [
        {
          "output_type": "stream",
          "name": "stdout",
          "text": [
            "1D Array:\n",
            "[ 1.          1.09090909  1.18181818  1.27272727  1.36363636  1.45454545\n",
            "  1.54545455  1.63636364  1.72727273  1.81818182  1.90909091  2.\n",
            "  2.09090909  2.18181818  2.27272727  2.36363636  2.45454545  2.54545455\n",
            "  2.63636364  2.72727273  2.81818182  2.90909091  3.          3.09090909\n",
            "  3.18181818  3.27272727  3.36363636  3.45454545  3.54545455  3.63636364\n",
            "  3.72727273  3.81818182  3.90909091  4.          4.09090909  4.18181818\n",
            "  4.27272727  4.36363636  4.45454545  4.54545455  4.63636364  4.72727273\n",
            "  4.81818182  4.90909091  5.          5.09090909  5.18181818  5.27272727\n",
            "  5.36363636  5.45454545  5.54545455  5.63636364  5.72727273  5.81818182\n",
            "  5.90909091  6.          6.09090909  6.18181818  6.27272727  6.36363636\n",
            "  6.45454545  6.54545455  6.63636364  6.72727273  6.81818182  6.90909091\n",
            "  7.          7.09090909  7.18181818  7.27272727  7.36363636  7.45454545\n",
            "  7.54545455  7.63636364  7.72727273  7.81818182  7.90909091  8.\n",
            "  8.09090909  8.18181818  8.27272727  8.36363636  8.45454545  8.54545455\n",
            "  8.63636364  8.72727273  8.81818182  8.90909091  9.          9.09090909\n",
            "  9.18181818  9.27272727  9.36363636  9.45454545  9.54545455  9.63636364\n",
            "  9.72727273  9.81818182  9.90909091 10.        ]\n",
            "\n",
            "2D Array:\n",
            "[[ 1.          1.09090909  1.18181818  1.27272727  1.36363636  1.45454545\n",
            "   1.54545455  1.63636364  1.72727273  1.81818182]\n",
            " [ 1.90909091  2.          2.09090909  2.18181818  2.27272727  2.36363636\n",
            "   2.45454545  2.54545455  2.63636364  2.72727273]\n",
            " [ 2.81818182  2.90909091  3.          3.09090909  3.18181818  3.27272727\n",
            "   3.36363636  3.45454545  3.54545455  3.63636364]\n",
            " [ 3.72727273  3.81818182  3.90909091  4.          4.09090909  4.18181818\n",
            "   4.27272727  4.36363636  4.45454545  4.54545455]\n",
            " [ 4.63636364  4.72727273  4.81818182  4.90909091  5.          5.09090909\n",
            "   5.18181818  5.27272727  5.36363636  5.45454545]\n",
            " [ 5.54545455  5.63636364  5.72727273  5.81818182  5.90909091  6.\n",
            "   6.09090909  6.18181818  6.27272727  6.36363636]\n",
            " [ 6.45454545  6.54545455  6.63636364  6.72727273  6.81818182  6.90909091\n",
            "   7.          7.09090909  7.18181818  7.27272727]\n",
            " [ 7.36363636  7.45454545  7.54545455  7.63636364  7.72727273  7.81818182\n",
            "   7.90909091  8.          8.09090909  8.18181818]\n",
            " [ 8.27272727  8.36363636  8.45454545  8.54545455  8.63636364  8.72727273\n",
            "   8.81818182  8.90909091  9.          9.09090909]\n",
            " [ 9.18181818  9.27272727  9.36363636  9.45454545  9.54545455  9.63636364\n",
            "   9.72727273  9.81818182  9.90909091 10.        ]]\n"
          ]
        }
      ]
    },
    {
      "cell_type": "code",
      "source": [],
      "metadata": {
        "id": "K17HRieDDpBG"
      },
      "execution_count": null,
      "outputs": []
    },
    {
      "cell_type": "markdown",
      "source": [
        "Explain the following terms\n",
        "\n",
        "(a) The difference in mp.asarray and np.asanarray\n",
        "(b) The difference between Deep copy and shallow copy"
      ],
      "metadata": {
        "id": "ctBIp8H2EXb6"
      }
    },
    {
      "cell_type": "markdown",
      "source": [
        "a) The difference between mp.asarray and np.asarray\n",
        "\n",
        "mp.asarray and np.asarray are both functions used to convert input data into an array. The main difference lies in the module they belong to:\n",
        "\n",
        "mp.asarray is a function from the multiprocessing module (imported as mp), which is used for parallel processing in Python.\n",
        "np.asarray is a function from the numpy module (imported as np), which is a library for efficient numerical computation.\n",
        "Both functions convert input data into an array, but they have different purposes:\n",
        "\n",
        "mp.asarray is used to convert data into an array that can be shared between multiple processes in parallel processing. It's essential for parallel computing, as it allows data to be accessed and modified by multiple processes simultaneously.\n",
        "np.asarray is used to convert data into a NumPy array, which is a fundamental data structure in NumPy. It's commonly used to convert lists, tuples, or other data structures into a NumPy array for efficient numerical computations.\n",
        "In summary, mp.asarray is used for parallel processing, while np.asarray is used for numerical computations in NumPy.\n",
        "\n",
        "(b) The difference between Deep copy and Shallow copy\n",
        "\n",
        "In Python, when you create a copy of an object, you can either create a shallow copy or a deep copy. The main difference lies in how the copying process handles nested objects:\n",
        "\n",
        "Shallow copy: A shallow copy of an object creates a new object and inserts references to the original elements. This means that both the original and copied objects share the same nested objects. If you modify a nested object in the copied object, it will also affect the original object.\n",
        "Deep copy: A deep copy of an object creates a new object and recursively adds copies of the child objects found in the original object. This means that the copied object has its own independent copies of the nested objects. If you modify a nested object in the copied object, it will not affect the original object."
      ],
      "metadata": {
        "id": "hr0EeAttEbWr"
      }
    },
    {
      "cell_type": "code",
      "source": [
        "import copy\n",
        "\n",
        "original_list = [[1, 2], [3, 4]]\n",
        "\n",
        "# Shallow copy\n",
        "shallow_copy = copy.copy(original_list)\n",
        "shallow_copy[0][0] = 10\n",
        "print(original_list)  # Output: [[10, 2], [3, 4]]\n",
        "\n",
        "# Deep copy\n",
        "deep_copy = copy.deepcopy(original_list)\n",
        "deep_copy[0][0] = 10\n",
        "print(original_list)  # Output: [[1, 2], [3, 4]]"
      ],
      "metadata": {
        "colab": {
          "base_uri": "https://localhost:8080/"
        },
        "id": "-XuEZaGaEuG8",
        "outputId": "21ceb258-dd46-4d73-ea75-70ef4aa5b462"
      },
      "execution_count": 5,
      "outputs": [
        {
          "output_type": "stream",
          "name": "stdout",
          "text": [
            "[[10, 2], [3, 4]]\n",
            "[[10, 2], [3, 4]]\n"
          ]
        }
      ]
    },
    {
      "cell_type": "markdown",
      "source": [
        "Generate a 3*3 array with random floating- point numbers between 5 and 20. Then, round each number in the array to 2 decimal places.\n",
        "\n"
      ],
      "metadata": {
        "id": "SiH4U-gdFhXh"
      }
    },
    {
      "cell_type": "markdown",
      "source": [
        "Here is a 3x3 array with random floating-point numbers between 5 and 20, and then rounded to 2 decimal places:\n",
        "\n"
      ],
      "metadata": {
        "id": "7ZkWFA2_FjxK"
      }
    },
    {
      "cell_type": "code",
      "source": [
        "import numpy as np\n",
        "\n",
        "# Generate a 3x3 array with random floating-point numbers between 5 and 20\n",
        "array = np.random.uniform(5, 20, size=(3, 3))\n",
        "print(\"Original array:\")\n",
        "print(array)\n",
        "\n",
        "# Round each number in the array to 2 decimal places\n",
        "rounded_array = np.round(array, decimals=2)\n",
        "print(\"\\nRounded array:\")\n",
        "print(rounded_array)"
      ],
      "metadata": {
        "colab": {
          "base_uri": "https://localhost:8080/"
        },
        "id": "xb9t9dPDF6Aa",
        "outputId": "e302173a-1b44-49aa-df08-c57e68cc0383"
      },
      "execution_count": 6,
      "outputs": [
        {
          "output_type": "stream",
          "name": "stdout",
          "text": [
            "Original array:\n",
            "[[13.31726375  9.64244015 19.33905011]\n",
            " [ 8.00065462 19.05950056 11.4151797 ]\n",
            " [ 7.93091675 16.20643375 15.68440604]]\n",
            "\n",
            "Rounded array:\n",
            "[[13.32  9.64 19.34]\n",
            " [ 8.   19.06 11.42]\n",
            " [ 7.93 16.21 15.68]]\n"
          ]
        }
      ]
    },
    {
      "cell_type": "markdown",
      "source": [
        "Create a numpy array with random integers between 1 and 10 of shape (5,6). After creating the array perform the following operations. a) Extract all even integers from array\n",
        "\n",
        "b) Extract all odd integers from array\n",
        "\n"
      ],
      "metadata": {
        "id": "nhe8uSZMGonI"
      }
    },
    {
      "cell_type": "code",
      "source": [
        "import numpy as np\n",
        "\n",
        "# Create a numpy array with random integers between 1 and 10 of shape (5,6)\n",
        "array = np.random.randint(1, 11, (5, 6))\n",
        "print(\"Original Array:\")\n",
        "print(array)"
      ],
      "metadata": {
        "colab": {
          "base_uri": "https://localhost:8080/"
        },
        "id": "DJxpW30vGwGw",
        "outputId": "207288cb-2aa1-45c6-c339-d145d6239629"
      },
      "execution_count": 7,
      "outputs": [
        {
          "output_type": "stream",
          "name": "stdout",
          "text": [
            "Original Array:\n",
            "[[ 4  5  3  2  8  9]\n",
            " [ 9  3  6  7  2 10]\n",
            " [ 7  8 10  8 10  2]\n",
            " [ 2  4 10  9  8  4]\n",
            " [ 7  2  6  1  4  4]]\n"
          ]
        }
      ]
    },
    {
      "cell_type": "markdown",
      "source": [
        "a) Extract all even integers from array\n",
        "\n",
        "\n"
      ],
      "metadata": {
        "id": "NaHtA6yiHtFS"
      }
    },
    {
      "cell_type": "code",
      "source": [
        "# Extract all even integers from array\n",
        "even_integers = array[array % 2 == 0]\n",
        "print(\"\\nEven Integers:\")\n",
        "print(even_integers)\n"
      ],
      "metadata": {
        "colab": {
          "base_uri": "https://localhost:8080/"
        },
        "id": "Ykc-_jZZHvwq",
        "outputId": "df0b999a-78bd-438e-8f95-5b1a247a5f31"
      },
      "execution_count": 9,
      "outputs": [
        {
          "output_type": "stream",
          "name": "stdout",
          "text": [
            "\n",
            "Even Integers:\n",
            "[ 4  2  8  6  2 10  8 10  8 10  2  2  4 10  8  4  2  6  4  4]\n"
          ]
        }
      ]
    },
    {
      "cell_type": "markdown",
      "source": [
        "b) Extract all odd integers from array"
      ],
      "metadata": {
        "id": "pCJ9KYvpH9f1"
      }
    },
    {
      "cell_type": "code",
      "source": [
        "# Extract all odd integers from array\n",
        "odd_integers = array[array % 2 != 0]\n",
        "print(\"\\nOdd Integers:\")\n",
        "print(odd_integers)"
      ],
      "metadata": {
        "colab": {
          "base_uri": "https://localhost:8080/"
        },
        "id": "qXbZaX7WH-t5",
        "outputId": "fb59f2d3-498c-4bfb-cd43-99f8a4665b82"
      },
      "execution_count": 10,
      "outputs": [
        {
          "output_type": "stream",
          "name": "stdout",
          "text": [
            "\n",
            "Odd Integers:\n",
            "[5 3 9 9 3 7 7 9 7 1]\n"
          ]
        }
      ]
    },
    {
      "cell_type": "code",
      "source": [],
      "metadata": {
        "id": "4i1cfo5JIEQ1"
      },
      "execution_count": null,
      "outputs": []
    },
    {
      "cell_type": "markdown",
      "source": [
        "Create a 3D Numpy array of shape (3,3,3) containing random integers between 1 and 10. perform the following operations.\n",
        "\n",
        "\n"
      ],
      "metadata": {
        "id": "YX5xDxy7Ifm5"
      }
    },
    {
      "cell_type": "code",
      "source": [
        "import numpy as np\n",
        "\n",
        "# Create a 3D numpy array of shape (3,3,3) containing random integers between 1 and 10\n",
        "array = np.random.randint(1, 11, (3, 3, 3))\n",
        "print(\"Original Array:\")\n",
        "print(array)"
      ],
      "metadata": {
        "colab": {
          "base_uri": "https://localhost:8080/"
        },
        "id": "trljscGDIhCw",
        "outputId": "ed968467-f754-468a-ad89-2ea12c56606c"
      },
      "execution_count": 11,
      "outputs": [
        {
          "output_type": "stream",
          "name": "stdout",
          "text": [
            "Original Array:\n",
            "[[[ 1  5  3]\n",
            "  [ 8  8  5]\n",
            "  [ 9  3  1]]\n",
            "\n",
            " [[10  6  7]\n",
            "  [ 5  8  8]\n",
            "  [ 9  5  4]]\n",
            "\n",
            " [[ 9  3  2]\n",
            "  [10  2  7]\n",
            "  [10  5 10]]]\n"
          ]
        }
      ]
    },
    {
      "cell_type": "markdown",
      "source": [
        "\n",
        "\n",
        "Clean and transform the 'phone' column in the sample dataset to remove non-numeric characters and convert it to a numeric data type. Also display the table attributes and data types of each column\n",
        "\n"
      ],
      "metadata": {
        "id": "N3NuTWrdJXop"
      }
    },
    {
      "cell_type": "code",
      "source": [
        "import pandas as pd\n",
        "\n",
        "# Create a sample dataset\n",
        "data = {\n",
        "    'name': ['John', 'Anna', 'Peter', 'Linda'],\n",
        "    'phone': ['(123) 456-7890', '123-456-7890', '123 456 7890', '(123)456-7890']\n",
        "}\n",
        "\n",
        "df = pd.DataFrame(data)\n",
        "\n",
        "print(\"Original DataFrame:\")\n",
        "print(df)\n",
        "\n",
        "# Display the table attributes and data types of each column\n",
        "print(\"\\nTable Attributes and Data Types:\")\n",
        "print(df.info())\n",
        "\n",
        "# Clean and transform the 'phone' column\n",
        "df['phone'] = df['phone'].str.replace(r'\\D+', '', regex=True).astype(int)\n",
        "\n",
        "print(\"\\nCleaned and Transformed DataFrame:\")\n",
        "print(df)\n",
        "\n",
        "# Display the updated table attributes and data types of each column\n",
        "print(\"\\nUpdated Table Attributes and Data Types:\")\n",
        "print(df.info())"
      ],
      "metadata": {
        "colab": {
          "base_uri": "https://localhost:8080/"
        },
        "id": "KOXcU13pIkYa",
        "outputId": "f2c25d18-8ba7-4c32-ce23-cc0daf9b1f5a"
      },
      "execution_count": 12,
      "outputs": [
        {
          "output_type": "stream",
          "name": "stdout",
          "text": [
            "Original DataFrame:\n",
            "    name           phone\n",
            "0   John  (123) 456-7890\n",
            "1   Anna    123-456-7890\n",
            "2  Peter    123 456 7890\n",
            "3  Linda   (123)456-7890\n",
            "\n",
            "Table Attributes and Data Types:\n",
            "<class 'pandas.core.frame.DataFrame'>\n",
            "RangeIndex: 4 entries, 0 to 3\n",
            "Data columns (total 2 columns):\n",
            " #   Column  Non-Null Count  Dtype \n",
            "---  ------  --------------  ----- \n",
            " 0   name    4 non-null      object\n",
            " 1   phone   4 non-null      object\n",
            "dtypes: object(2)\n",
            "memory usage: 192.0+ bytes\n",
            "None\n",
            "\n",
            "Cleaned and Transformed DataFrame:\n",
            "    name       phone\n",
            "0   John  1234567890\n",
            "1   Anna  1234567890\n",
            "2  Peter  1234567890\n",
            "3  Linda  1234567890\n",
            "\n",
            "Updated Table Attributes and Data Types:\n",
            "<class 'pandas.core.frame.DataFrame'>\n",
            "RangeIndex: 4 entries, 0 to 3\n",
            "Data columns (total 2 columns):\n",
            " #   Column  Non-Null Count  Dtype \n",
            "---  ------  --------------  ----- \n",
            " 0   name    4 non-null      object\n",
            " 1   phone   4 non-null      int64 \n",
            "dtypes: int64(1), object(1)\n",
            "memory usage: 192.0+ bytes\n",
            "None\n"
          ]
        }
      ]
    },
    {
      "cell_type": "markdown",
      "source": [
        "Create two different Series,each of length 50, with the following criteria: (a) The first Series should contain random numbers ranging from 10 to 50. (b) The second Series should contain random numbers ranging from 100 to 1000 (c) Create a Dataframe by joining these series by column, and, change the names of the columns to 'col1', 'col2' etc.\n",
        "\n"
      ],
      "metadata": {
        "id": "Va3JjrZTMDoM"
      }
    },
    {
      "cell_type": "code",
      "source": [
        "import pandas as pd\n",
        "import numpy as np\n",
        "\n",
        "# Create a Series of random integers between 10 and 50, of length 50\n",
        "series1 = pd.Series(np.random.randint(10, 51, 50))\n",
        "\n",
        "# Create a Series of random integers between 100 and 1000, of length 50\n",
        "series2 = pd.Series(np.random.randint(100, 1001, 50))\n",
        "\n",
        "# Create a DataFrame by joining the two Series by column\n",
        "df = pd.DataFrame({'col1': series1, 'col2': series2})\n",
        "\n",
        "print(df)"
      ],
      "metadata": {
        "colab": {
          "base_uri": "https://localhost:8080/"
        },
        "id": "V3MQ3UeKMEXK",
        "outputId": "04eaa030-f2bb-41d3-bc2c-02be860bac94"
      },
      "execution_count": 13,
      "outputs": [
        {
          "output_type": "stream",
          "name": "stdout",
          "text": [
            "    col1  col2\n",
            "0     23   931\n",
            "1     29   256\n",
            "2     27   234\n",
            "3     26   486\n",
            "4     50   141\n",
            "5     17   645\n",
            "6     41   708\n",
            "7     50   140\n",
            "8     30   802\n",
            "9     23   517\n",
            "10    21   930\n",
            "11    23   406\n",
            "12    20   850\n",
            "13    24   826\n",
            "14    42   563\n",
            "15    48   393\n",
            "16    12   403\n",
            "17    46   368\n",
            "18    39   829\n",
            "19    40   351\n",
            "20    16   251\n",
            "21    45   822\n",
            "22    46   964\n",
            "23    50   851\n",
            "24    21   315\n",
            "25    48   530\n",
            "26    39   761\n",
            "27    24   454\n",
            "28    13   933\n",
            "29    34   468\n",
            "30    36   162\n",
            "31    31   525\n",
            "32    39   933\n",
            "33    13   950\n",
            "34    15   933\n",
            "35    15   381\n",
            "36    48   656\n",
            "37    34   253\n",
            "38    38   880\n",
            "39    16   476\n",
            "40    22   760\n",
            "41    29   343\n",
            "42    46   717\n",
            "43    14   317\n",
            "44    49   718\n",
            "45    26   496\n",
            "46    10   322\n",
            "47    16   760\n",
            "48    44   288\n",
            "49    32   844\n"
          ]
        }
      ]
    },
    {
      "cell_type": "code",
      "source": [],
      "metadata": {
        "id": "YciO16dnMH0A"
      },
      "execution_count": null,
      "outputs": []
    },
    {
      "cell_type": "markdown",
      "source": [
        "Perform the following operations using people data set: a) Delete the 'Email', 'phone' and Date of birth' columns from the dataset b) Delete the rows containing any missing values. c) print the final output also.\n",
        "\n"
      ],
      "metadata": {
        "id": "nlNKInNJM3in"
      }
    },
    {
      "cell_type": "markdown",
      "source": [
        "a) Delete the 'Email', 'Phone', and 'Date of Birth' columns from the dataset"
      ],
      "metadata": {
        "id": "-6ZOvQp4NTZK"
      }
    },
    {
      "cell_type": "markdown",
      "source": [
        "import pandas as pd\n",
        "\n",
        "# Load the people dataset\n",
        "people_data = pd.read_csv('people.csv')\n",
        "\n",
        "# Delete the 'Email', 'Phone', and 'Date of Birth' columns\n",
        "people_data.drop(['Email', 'Phone', 'Date of Birth'], axis=1, inplace=True)\n",
        "\n",
        "print(\"Dataset after deleting columns:\")\n",
        "print(people_data.head())"
      ],
      "metadata": {
        "id": "_tLyB6w-Nzfj"
      }
    },
    {
      "cell_type": "markdown",
      "source": [
        "# Delete the rows containing any missing values\n",
        "people_data.dropna(inplace=True)\n",
        "\n",
        "print(\"\\nDataset after deleting rows with missing values:\")\n",
        "print(people_data.head())"
      ],
      "metadata": {
        "id": "W_A36k5VOEcZ"
      }
    },
    {
      "cell_type": "markdown",
      "source": [
        "c) Print the final output\n",
        "\n",
        "The final output will be the modified people dataset after deleting the specified columns and rows with missing values."
      ],
      "metadata": {
        "id": "3hOVNu-JOaiS"
      }
    },
    {
      "cell_type": "markdown",
      "source": [
        "import pandas as pd\n",
        "\n",
        "# Load the people dataset\n",
        "people_data = pd.read_csv('people.csv')\n",
        "\n",
        "# Delete the 'Email', 'Phone', and 'Date of Birth' columns\n",
        "people_data.drop(['Email', 'Phone', 'Date of Birth'], axis=1, inplace=True)\n",
        "\n",
        "print(\"Dataset after deleting columns:\")\n",
        "print(people_data.head())\n",
        "\n",
        "# Delete the rows containing any missing values\n",
        "people_data.dropna(inplace=True)\n",
        "\n",
        "print(\"\\nDataset after deleting rows with missing values:\")\n",
        "print(people_data.head())\n",
        "\n",
        "print(\"\\nFinal Output:\")\n",
        "print(people_data)"
      ],
      "metadata": {
        "id": "d2fYFi4jOc6J"
      }
    },
    {
      "cell_type": "markdown",
      "source": [
        "Create a 7*5 Dataframe in pandas using a series generated from 35 random integers between 1 to 6?\n",
        "\n"
      ],
      "metadata": {
        "id": "N4PTNBUgO9Yh"
      }
    },
    {
      "cell_type": "code",
      "source": [
        "import pandas as pd\n",
        "import numpy as np\n",
        "\n",
        "# Create a series of 35 random integers between 1 and 6\n",
        "random_series = pd.Series(np.random.randint(1, 7, 35))\n",
        "\n",
        "# Reshape the series into a 7x5 DataFrame\n",
        "df = random_series.values.reshape(7, 5)\n",
        "\n",
        "# Create a DataFrame from the reshaped array\n",
        "df = pd.DataFrame(df)\n",
        "\n",
        "print(df)\n",
        "\n"
      ],
      "metadata": {
        "colab": {
          "base_uri": "https://localhost:8080/"
        },
        "id": "LAPlYZeaO-Li",
        "outputId": "16a94d2d-873d-4ab0-b636-5628fc556c4c"
      },
      "execution_count": 22,
      "outputs": [
        {
          "output_type": "stream",
          "name": "stdout",
          "text": [
            "   0  1  2  3  4\n",
            "0  2  2  2  6  1\n",
            "1  2  1  6  5  3\n",
            "2  5  4  2  1  1\n",
            "3  1  6  4  2  6\n",
            "4  3  2  3  4  3\n",
            "5  6  6  3  4  2\n",
            "6  5  4  6  2  2\n"
          ]
        }
      ]
    },
    {
      "cell_type": "code",
      "source": [],
      "metadata": {
        "id": "Rh8YIlLOPNPJ"
      },
      "execution_count": null,
      "outputs": []
    },
    {
      "cell_type": "markdown",
      "source": [
        "11 create a two different series, each of length 50, with the following criteria a) The first series should contain random ranging from 10 to 50. b) the second series contain random numbers ranging from 10 to 1000 c) Create a dataframe by joining these series by column, and, change the names of the columns to 'col1', 'col2' etc.\n",
        "\n",
        "\n",
        "\n"
      ],
      "metadata": {
        "id": "aVDb_ZxvRR8r"
      }
    },
    {
      "cell_type": "markdown",
      "source": [
        "Step 1: Import necessary libraries\n",
        "\n",
        "\n"
      ],
      "metadata": {
        "id": "e-7BmTvQRd4D"
      }
    },
    {
      "cell_type": "code",
      "source": [
        "import pandas as pd\n",
        "import numpy as np"
      ],
      "metadata": {
        "id": "o6O8fbzzRUWL"
      },
      "execution_count": 23,
      "outputs": []
    },
    {
      "cell_type": "markdown",
      "source": [
        "Step 2: Create random series"
      ],
      "metadata": {
        "id": "llqyy08jRoLy"
      }
    },
    {
      "cell_type": "code",
      "source": [
        "\n",
        "# Create a series with random numbers ranging from 10 to 50\n",
        "series1 = pd.Series(np.random.randint(10, 51, 50))\n",
        "\n",
        "# Create a series with random numbers ranging from 10 to 1000\n",
        "series2 = pd.Series(np.random.randint(10, 1001, 50))"
      ],
      "metadata": {
        "id": "rNF_nqPGRuLL"
      },
      "execution_count": 24,
      "outputs": []
    },
    {
      "cell_type": "markdown",
      "source": [
        "Step 3: Create a DataFrame by joining the series"
      ],
      "metadata": {
        "id": "__3obk9hR2np"
      }
    },
    {
      "cell_type": "code",
      "source": [
        "# Create a DataFrame by joining the series by column\n",
        "df = pd.DataFrame({'col1': series1, 'col2': series2})\n"
      ],
      "metadata": {
        "id": "TiY8WiILRy1v"
      },
      "execution_count": 25,
      "outputs": []
    },
    {
      "cell_type": "markdown",
      "source": [
        "Perform the following operations using people data set: (a) Delete the 'Email', 'phone', and 'Date of birth' columns from the dataset. (b) Delete the rows containing any missing values. (c) print the final output also."
      ],
      "metadata": {
        "id": "ggfEM7vLS3u1"
      }
    },
    {
      "cell_type": "markdown",
      "source": [
        "(a) Delete the 'Email', 'phone', and 'Date of birth' columns from the dataset.\n",
        "\n",
        "We can use the drop method to remove the unwanted columns. Let's assume our dataset is stored in a Pandas DataFrame called df."
      ],
      "metadata": {
        "id": "OsECMfpzS_Z8"
      }
    },
    {
      "cell_type": "code",
      "source": [
        "df = df.drop(['Email', 'phone', 'Date of birth'], axis=1)"
      ],
      "metadata": {
        "colab": {
          "base_uri": "https://localhost:8080/",
          "height": 287
        },
        "id": "0LN8y5b8TEEf",
        "outputId": "c31d3986-1c2e-400c-b161-6b27c6890b64"
      },
      "execution_count": 27,
      "outputs": [
        {
          "output_type": "error",
          "ename": "KeyError",
          "evalue": "\"['Email', 'phone', 'Date of birth'] not found in axis\"",
          "traceback": [
            "\u001b[0;31m---------------------------------------------------------------------------\u001b[0m",
            "\u001b[0;31mKeyError\u001b[0m                                  Traceback (most recent call last)",
            "\u001b[0;32m<ipython-input-27-7bd8d0648e13>\u001b[0m in \u001b[0;36m<cell line: 1>\u001b[0;34m()\u001b[0m\n\u001b[0;32m----> 1\u001b[0;31m \u001b[0mdf\u001b[0m \u001b[0;34m=\u001b[0m \u001b[0mdf\u001b[0m\u001b[0;34m.\u001b[0m\u001b[0mdrop\u001b[0m\u001b[0;34m(\u001b[0m\u001b[0;34m[\u001b[0m\u001b[0;34m'Email'\u001b[0m\u001b[0;34m,\u001b[0m \u001b[0;34m'phone'\u001b[0m\u001b[0;34m,\u001b[0m \u001b[0;34m'Date of birth'\u001b[0m\u001b[0;34m]\u001b[0m\u001b[0;34m,\u001b[0m \u001b[0maxis\u001b[0m\u001b[0;34m=\u001b[0m\u001b[0;36m1\u001b[0m\u001b[0;34m)\u001b[0m\u001b[0;34m\u001b[0m\u001b[0;34m\u001b[0m\u001b[0m\n\u001b[0m",
            "\u001b[0;32m/usr/local/lib/python3.10/dist-packages/pandas/core/frame.py\u001b[0m in \u001b[0;36mdrop\u001b[0;34m(self, labels, axis, index, columns, level, inplace, errors)\u001b[0m\n\u001b[1;32m   5342\u001b[0m                 \u001b[0mweight\u001b[0m  \u001b[0;36m1.0\u001b[0m     \u001b[0;36m0.8\u001b[0m\u001b[0;34m\u001b[0m\u001b[0;34m\u001b[0m\u001b[0m\n\u001b[1;32m   5343\u001b[0m         \"\"\"\n\u001b[0;32m-> 5344\u001b[0;31m         return super().drop(\n\u001b[0m\u001b[1;32m   5345\u001b[0m             \u001b[0mlabels\u001b[0m\u001b[0;34m=\u001b[0m\u001b[0mlabels\u001b[0m\u001b[0;34m,\u001b[0m\u001b[0;34m\u001b[0m\u001b[0;34m\u001b[0m\u001b[0m\n\u001b[1;32m   5346\u001b[0m             \u001b[0maxis\u001b[0m\u001b[0;34m=\u001b[0m\u001b[0maxis\u001b[0m\u001b[0;34m,\u001b[0m\u001b[0;34m\u001b[0m\u001b[0;34m\u001b[0m\u001b[0m\n",
            "\u001b[0;32m/usr/local/lib/python3.10/dist-packages/pandas/core/generic.py\u001b[0m in \u001b[0;36mdrop\u001b[0;34m(self, labels, axis, index, columns, level, inplace, errors)\u001b[0m\n\u001b[1;32m   4709\u001b[0m         \u001b[0;32mfor\u001b[0m \u001b[0maxis\u001b[0m\u001b[0;34m,\u001b[0m \u001b[0mlabels\u001b[0m \u001b[0;32min\u001b[0m \u001b[0maxes\u001b[0m\u001b[0;34m.\u001b[0m\u001b[0mitems\u001b[0m\u001b[0;34m(\u001b[0m\u001b[0;34m)\u001b[0m\u001b[0;34m:\u001b[0m\u001b[0;34m\u001b[0m\u001b[0;34m\u001b[0m\u001b[0m\n\u001b[1;32m   4710\u001b[0m             \u001b[0;32mif\u001b[0m \u001b[0mlabels\u001b[0m \u001b[0;32mis\u001b[0m \u001b[0;32mnot\u001b[0m \u001b[0;32mNone\u001b[0m\u001b[0;34m:\u001b[0m\u001b[0;34m\u001b[0m\u001b[0;34m\u001b[0m\u001b[0m\n\u001b[0;32m-> 4711\u001b[0;31m                 \u001b[0mobj\u001b[0m \u001b[0;34m=\u001b[0m \u001b[0mobj\u001b[0m\u001b[0;34m.\u001b[0m\u001b[0m_drop_axis\u001b[0m\u001b[0;34m(\u001b[0m\u001b[0mlabels\u001b[0m\u001b[0;34m,\u001b[0m \u001b[0maxis\u001b[0m\u001b[0;34m,\u001b[0m \u001b[0mlevel\u001b[0m\u001b[0;34m=\u001b[0m\u001b[0mlevel\u001b[0m\u001b[0;34m,\u001b[0m \u001b[0merrors\u001b[0m\u001b[0;34m=\u001b[0m\u001b[0merrors\u001b[0m\u001b[0;34m)\u001b[0m\u001b[0;34m\u001b[0m\u001b[0;34m\u001b[0m\u001b[0m\n\u001b[0m\u001b[1;32m   4712\u001b[0m \u001b[0;34m\u001b[0m\u001b[0m\n\u001b[1;32m   4713\u001b[0m         \u001b[0;32mif\u001b[0m \u001b[0minplace\u001b[0m\u001b[0;34m:\u001b[0m\u001b[0;34m\u001b[0m\u001b[0;34m\u001b[0m\u001b[0m\n",
            "\u001b[0;32m/usr/local/lib/python3.10/dist-packages/pandas/core/generic.py\u001b[0m in \u001b[0;36m_drop_axis\u001b[0;34m(self, labels, axis, level, errors, only_slice)\u001b[0m\n\u001b[1;32m   4751\u001b[0m                 \u001b[0mnew_axis\u001b[0m \u001b[0;34m=\u001b[0m \u001b[0maxis\u001b[0m\u001b[0;34m.\u001b[0m\u001b[0mdrop\u001b[0m\u001b[0;34m(\u001b[0m\u001b[0mlabels\u001b[0m\u001b[0;34m,\u001b[0m \u001b[0mlevel\u001b[0m\u001b[0;34m=\u001b[0m\u001b[0mlevel\u001b[0m\u001b[0;34m,\u001b[0m \u001b[0merrors\u001b[0m\u001b[0;34m=\u001b[0m\u001b[0merrors\u001b[0m\u001b[0;34m)\u001b[0m\u001b[0;34m\u001b[0m\u001b[0;34m\u001b[0m\u001b[0m\n\u001b[1;32m   4752\u001b[0m             \u001b[0;32melse\u001b[0m\u001b[0;34m:\u001b[0m\u001b[0;34m\u001b[0m\u001b[0;34m\u001b[0m\u001b[0m\n\u001b[0;32m-> 4753\u001b[0;31m                 \u001b[0mnew_axis\u001b[0m \u001b[0;34m=\u001b[0m \u001b[0maxis\u001b[0m\u001b[0;34m.\u001b[0m\u001b[0mdrop\u001b[0m\u001b[0;34m(\u001b[0m\u001b[0mlabels\u001b[0m\u001b[0;34m,\u001b[0m \u001b[0merrors\u001b[0m\u001b[0;34m=\u001b[0m\u001b[0merrors\u001b[0m\u001b[0;34m)\u001b[0m\u001b[0;34m\u001b[0m\u001b[0;34m\u001b[0m\u001b[0m\n\u001b[0m\u001b[1;32m   4754\u001b[0m             \u001b[0mindexer\u001b[0m \u001b[0;34m=\u001b[0m \u001b[0maxis\u001b[0m\u001b[0;34m.\u001b[0m\u001b[0mget_indexer\u001b[0m\u001b[0;34m(\u001b[0m\u001b[0mnew_axis\u001b[0m\u001b[0;34m)\u001b[0m\u001b[0;34m\u001b[0m\u001b[0;34m\u001b[0m\u001b[0m\n\u001b[1;32m   4755\u001b[0m \u001b[0;34m\u001b[0m\u001b[0m\n",
            "\u001b[0;32m/usr/local/lib/python3.10/dist-packages/pandas/core/indexes/base.py\u001b[0m in \u001b[0;36mdrop\u001b[0;34m(self, labels, errors)\u001b[0m\n\u001b[1;32m   6998\u001b[0m         \u001b[0;32mif\u001b[0m \u001b[0mmask\u001b[0m\u001b[0;34m.\u001b[0m\u001b[0many\u001b[0m\u001b[0;34m(\u001b[0m\u001b[0;34m)\u001b[0m\u001b[0;34m:\u001b[0m\u001b[0;34m\u001b[0m\u001b[0;34m\u001b[0m\u001b[0m\n\u001b[1;32m   6999\u001b[0m             \u001b[0;32mif\u001b[0m \u001b[0merrors\u001b[0m \u001b[0;34m!=\u001b[0m \u001b[0;34m\"ignore\"\u001b[0m\u001b[0;34m:\u001b[0m\u001b[0;34m\u001b[0m\u001b[0;34m\u001b[0m\u001b[0m\n\u001b[0;32m-> 7000\u001b[0;31m                 \u001b[0;32mraise\u001b[0m \u001b[0mKeyError\u001b[0m\u001b[0;34m(\u001b[0m\u001b[0;34mf\"{labels[mask].tolist()} not found in axis\"\u001b[0m\u001b[0;34m)\u001b[0m\u001b[0;34m\u001b[0m\u001b[0;34m\u001b[0m\u001b[0m\n\u001b[0m\u001b[1;32m   7001\u001b[0m             \u001b[0mindexer\u001b[0m \u001b[0;34m=\u001b[0m \u001b[0mindexer\u001b[0m\u001b[0;34m[\u001b[0m\u001b[0;34m~\u001b[0m\u001b[0mmask\u001b[0m\u001b[0;34m]\u001b[0m\u001b[0;34m\u001b[0m\u001b[0;34m\u001b[0m\u001b[0m\n\u001b[1;32m   7002\u001b[0m         \u001b[0;32mreturn\u001b[0m \u001b[0mself\u001b[0m\u001b[0;34m.\u001b[0m\u001b[0mdelete\u001b[0m\u001b[0;34m(\u001b[0m\u001b[0mindexer\u001b[0m\u001b[0;34m)\u001b[0m\u001b[0;34m\u001b[0m\u001b[0;34m\u001b[0m\u001b[0m\n",
            "\u001b[0;31mKeyError\u001b[0m: \"['Email', 'phone', 'Date of birth'] not found in axis\""
          ]
        }
      ]
    },
    {
      "cell_type": "markdown",
      "source": [
        "(b) Delete the rows containing any missing values.\n",
        "\n",
        "To remove rows with missing values, we can use the dropna method:"
      ],
      "metadata": {
        "id": "5l8MW4YiTaEK"
      }
    },
    {
      "cell_type": "code",
      "source": [
        "df = df.dropna()"
      ],
      "metadata": {
        "id": "bwqkHdQgTa9Y"
      },
      "execution_count": 28,
      "outputs": []
    },
    {
      "cell_type": "markdown",
      "source": [
        "c) Print the final output.\n",
        "\n",
        "Finally, we can print the resulting DataFrame using the print function:"
      ],
      "metadata": {
        "id": "ZyDSbqJTTly5"
      }
    },
    {
      "cell_type": "code",
      "source": [
        "print(df)"
      ],
      "metadata": {
        "colab": {
          "base_uri": "https://localhost:8080/"
        },
        "id": "JP3lIh4fToiI",
        "outputId": "2e8225c2-d58d-4957-eb0f-377bc9930a0d"
      },
      "execution_count": 29,
      "outputs": [
        {
          "output_type": "stream",
          "name": "stdout",
          "text": [
            "    col1  col2\n",
            "0     20   102\n",
            "1     32   941\n",
            "2     27   267\n",
            "3     36   855\n",
            "4     27   446\n",
            "5     33   768\n",
            "6     39   508\n",
            "7     24   957\n",
            "8     25   869\n",
            "9     44   431\n",
            "10    14   922\n",
            "11    15   872\n",
            "12    18   514\n",
            "13    27   164\n",
            "14    41   520\n",
            "15    38   211\n",
            "16    22   927\n",
            "17    15   811\n",
            "18    44   973\n",
            "19    14   557\n",
            "20    12   978\n",
            "21    22   637\n",
            "22    10   935\n",
            "23    29   223\n",
            "24    15   808\n",
            "25    31    95\n",
            "26    17   456\n",
            "27    33   148\n",
            "28    18   918\n",
            "29    21   970\n",
            "30    10   579\n",
            "31    44   256\n",
            "32    14   337\n",
            "33    30    79\n",
            "34    29   373\n",
            "35    27   924\n",
            "36    40   870\n",
            "37    50   981\n",
            "38    30   767\n",
            "39    33   130\n",
            "40    13   241\n",
            "41    29   872\n",
            "42    12   813\n",
            "43    29   190\n",
            "44    45   973\n",
            "45    27   750\n",
            "46    31   382\n",
            "47    39   630\n",
            "48    38   854\n",
            "49    45   858\n"
          ]
        }
      ]
    },
    {
      "cell_type": "code",
      "source": [
        "import pandas as pd\n",
        "\n",
        "# assume df is our people dataset\n",
        "\n",
        "# (a) drop unwanted columns\n",
        "df = df.drop(['Email', 'phone', 'Date of birth'], axis=1)\n",
        "\n",
        "# (b) drop rows with missing values\n",
        "df = df.dropna()\n",
        "\n",
        "# (c) print the final output\n",
        "print(df)"
      ],
      "metadata": {
        "colab": {
          "base_uri": "https://localhost:8080/",
          "height": 356
        },
        "id": "Jw8BCGLYTr1z",
        "outputId": "2cd01ebc-d028-4f32-f149-d5457d7857ff"
      },
      "execution_count": 30,
      "outputs": [
        {
          "output_type": "error",
          "ename": "KeyError",
          "evalue": "\"['Email', 'phone', 'Date of birth'] not found in axis\"",
          "traceback": [
            "\u001b[0;31m---------------------------------------------------------------------------\u001b[0m",
            "\u001b[0;31mKeyError\u001b[0m                                  Traceback (most recent call last)",
            "\u001b[0;32m<ipython-input-30-17f1bda7d79f>\u001b[0m in \u001b[0;36m<cell line: 6>\u001b[0;34m()\u001b[0m\n\u001b[1;32m      4\u001b[0m \u001b[0;34m\u001b[0m\u001b[0m\n\u001b[1;32m      5\u001b[0m \u001b[0;31m# (a) drop unwanted columns\u001b[0m\u001b[0;34m\u001b[0m\u001b[0;34m\u001b[0m\u001b[0m\n\u001b[0;32m----> 6\u001b[0;31m \u001b[0mdf\u001b[0m \u001b[0;34m=\u001b[0m \u001b[0mdf\u001b[0m\u001b[0;34m.\u001b[0m\u001b[0mdrop\u001b[0m\u001b[0;34m(\u001b[0m\u001b[0;34m[\u001b[0m\u001b[0;34m'Email'\u001b[0m\u001b[0;34m,\u001b[0m \u001b[0;34m'phone'\u001b[0m\u001b[0;34m,\u001b[0m \u001b[0;34m'Date of birth'\u001b[0m\u001b[0;34m]\u001b[0m\u001b[0;34m,\u001b[0m \u001b[0maxis\u001b[0m\u001b[0;34m=\u001b[0m\u001b[0;36m1\u001b[0m\u001b[0;34m)\u001b[0m\u001b[0;34m\u001b[0m\u001b[0;34m\u001b[0m\u001b[0m\n\u001b[0m\u001b[1;32m      7\u001b[0m \u001b[0;34m\u001b[0m\u001b[0m\n\u001b[1;32m      8\u001b[0m \u001b[0;31m# (b) drop rows with missing values\u001b[0m\u001b[0;34m\u001b[0m\u001b[0;34m\u001b[0m\u001b[0m\n",
            "\u001b[0;32m/usr/local/lib/python3.10/dist-packages/pandas/core/frame.py\u001b[0m in \u001b[0;36mdrop\u001b[0;34m(self, labels, axis, index, columns, level, inplace, errors)\u001b[0m\n\u001b[1;32m   5342\u001b[0m                 \u001b[0mweight\u001b[0m  \u001b[0;36m1.0\u001b[0m     \u001b[0;36m0.8\u001b[0m\u001b[0;34m\u001b[0m\u001b[0;34m\u001b[0m\u001b[0m\n\u001b[1;32m   5343\u001b[0m         \"\"\"\n\u001b[0;32m-> 5344\u001b[0;31m         return super().drop(\n\u001b[0m\u001b[1;32m   5345\u001b[0m             \u001b[0mlabels\u001b[0m\u001b[0;34m=\u001b[0m\u001b[0mlabels\u001b[0m\u001b[0;34m,\u001b[0m\u001b[0;34m\u001b[0m\u001b[0;34m\u001b[0m\u001b[0m\n\u001b[1;32m   5346\u001b[0m             \u001b[0maxis\u001b[0m\u001b[0;34m=\u001b[0m\u001b[0maxis\u001b[0m\u001b[0;34m,\u001b[0m\u001b[0;34m\u001b[0m\u001b[0;34m\u001b[0m\u001b[0m\n",
            "\u001b[0;32m/usr/local/lib/python3.10/dist-packages/pandas/core/generic.py\u001b[0m in \u001b[0;36mdrop\u001b[0;34m(self, labels, axis, index, columns, level, inplace, errors)\u001b[0m\n\u001b[1;32m   4709\u001b[0m         \u001b[0;32mfor\u001b[0m \u001b[0maxis\u001b[0m\u001b[0;34m,\u001b[0m \u001b[0mlabels\u001b[0m \u001b[0;32min\u001b[0m \u001b[0maxes\u001b[0m\u001b[0;34m.\u001b[0m\u001b[0mitems\u001b[0m\u001b[0;34m(\u001b[0m\u001b[0;34m)\u001b[0m\u001b[0;34m:\u001b[0m\u001b[0;34m\u001b[0m\u001b[0;34m\u001b[0m\u001b[0m\n\u001b[1;32m   4710\u001b[0m             \u001b[0;32mif\u001b[0m \u001b[0mlabels\u001b[0m \u001b[0;32mis\u001b[0m \u001b[0;32mnot\u001b[0m \u001b[0;32mNone\u001b[0m\u001b[0;34m:\u001b[0m\u001b[0;34m\u001b[0m\u001b[0;34m\u001b[0m\u001b[0m\n\u001b[0;32m-> 4711\u001b[0;31m                 \u001b[0mobj\u001b[0m \u001b[0;34m=\u001b[0m \u001b[0mobj\u001b[0m\u001b[0;34m.\u001b[0m\u001b[0m_drop_axis\u001b[0m\u001b[0;34m(\u001b[0m\u001b[0mlabels\u001b[0m\u001b[0;34m,\u001b[0m \u001b[0maxis\u001b[0m\u001b[0;34m,\u001b[0m \u001b[0mlevel\u001b[0m\u001b[0;34m=\u001b[0m\u001b[0mlevel\u001b[0m\u001b[0;34m,\u001b[0m \u001b[0merrors\u001b[0m\u001b[0;34m=\u001b[0m\u001b[0merrors\u001b[0m\u001b[0;34m)\u001b[0m\u001b[0;34m\u001b[0m\u001b[0;34m\u001b[0m\u001b[0m\n\u001b[0m\u001b[1;32m   4712\u001b[0m \u001b[0;34m\u001b[0m\u001b[0m\n\u001b[1;32m   4713\u001b[0m         \u001b[0;32mif\u001b[0m \u001b[0minplace\u001b[0m\u001b[0;34m:\u001b[0m\u001b[0;34m\u001b[0m\u001b[0;34m\u001b[0m\u001b[0m\n",
            "\u001b[0;32m/usr/local/lib/python3.10/dist-packages/pandas/core/generic.py\u001b[0m in \u001b[0;36m_drop_axis\u001b[0;34m(self, labels, axis, level, errors, only_slice)\u001b[0m\n\u001b[1;32m   4751\u001b[0m                 \u001b[0mnew_axis\u001b[0m \u001b[0;34m=\u001b[0m \u001b[0maxis\u001b[0m\u001b[0;34m.\u001b[0m\u001b[0mdrop\u001b[0m\u001b[0;34m(\u001b[0m\u001b[0mlabels\u001b[0m\u001b[0;34m,\u001b[0m \u001b[0mlevel\u001b[0m\u001b[0;34m=\u001b[0m\u001b[0mlevel\u001b[0m\u001b[0;34m,\u001b[0m \u001b[0merrors\u001b[0m\u001b[0;34m=\u001b[0m\u001b[0merrors\u001b[0m\u001b[0;34m)\u001b[0m\u001b[0;34m\u001b[0m\u001b[0;34m\u001b[0m\u001b[0m\n\u001b[1;32m   4752\u001b[0m             \u001b[0;32melse\u001b[0m\u001b[0;34m:\u001b[0m\u001b[0;34m\u001b[0m\u001b[0;34m\u001b[0m\u001b[0m\n\u001b[0;32m-> 4753\u001b[0;31m                 \u001b[0mnew_axis\u001b[0m \u001b[0;34m=\u001b[0m \u001b[0maxis\u001b[0m\u001b[0;34m.\u001b[0m\u001b[0mdrop\u001b[0m\u001b[0;34m(\u001b[0m\u001b[0mlabels\u001b[0m\u001b[0;34m,\u001b[0m \u001b[0merrors\u001b[0m\u001b[0;34m=\u001b[0m\u001b[0merrors\u001b[0m\u001b[0;34m)\u001b[0m\u001b[0;34m\u001b[0m\u001b[0;34m\u001b[0m\u001b[0m\n\u001b[0m\u001b[1;32m   4754\u001b[0m             \u001b[0mindexer\u001b[0m \u001b[0;34m=\u001b[0m \u001b[0maxis\u001b[0m\u001b[0;34m.\u001b[0m\u001b[0mget_indexer\u001b[0m\u001b[0;34m(\u001b[0m\u001b[0mnew_axis\u001b[0m\u001b[0;34m)\u001b[0m\u001b[0;34m\u001b[0m\u001b[0;34m\u001b[0m\u001b[0m\n\u001b[1;32m   4755\u001b[0m \u001b[0;34m\u001b[0m\u001b[0m\n",
            "\u001b[0;32m/usr/local/lib/python3.10/dist-packages/pandas/core/indexes/base.py\u001b[0m in \u001b[0;36mdrop\u001b[0;34m(self, labels, errors)\u001b[0m\n\u001b[1;32m   6998\u001b[0m         \u001b[0;32mif\u001b[0m \u001b[0mmask\u001b[0m\u001b[0;34m.\u001b[0m\u001b[0many\u001b[0m\u001b[0;34m(\u001b[0m\u001b[0;34m)\u001b[0m\u001b[0;34m:\u001b[0m\u001b[0;34m\u001b[0m\u001b[0;34m\u001b[0m\u001b[0m\n\u001b[1;32m   6999\u001b[0m             \u001b[0;32mif\u001b[0m \u001b[0merrors\u001b[0m \u001b[0;34m!=\u001b[0m \u001b[0;34m\"ignore\"\u001b[0m\u001b[0;34m:\u001b[0m\u001b[0;34m\u001b[0m\u001b[0;34m\u001b[0m\u001b[0m\n\u001b[0;32m-> 7000\u001b[0;31m                 \u001b[0;32mraise\u001b[0m \u001b[0mKeyError\u001b[0m\u001b[0;34m(\u001b[0m\u001b[0;34mf\"{labels[mask].tolist()} not found in axis\"\u001b[0m\u001b[0;34m)\u001b[0m\u001b[0;34m\u001b[0m\u001b[0;34m\u001b[0m\u001b[0m\n\u001b[0m\u001b[1;32m   7001\u001b[0m             \u001b[0mindexer\u001b[0m \u001b[0;34m=\u001b[0m \u001b[0mindexer\u001b[0m\u001b[0;34m[\u001b[0m\u001b[0;34m~\u001b[0m\u001b[0mmask\u001b[0m\u001b[0;34m]\u001b[0m\u001b[0;34m\u001b[0m\u001b[0;34m\u001b[0m\u001b[0m\n\u001b[1;32m   7002\u001b[0m         \u001b[0;32mreturn\u001b[0m \u001b[0mself\u001b[0m\u001b[0;34m.\u001b[0m\u001b[0mdelete\u001b[0m\u001b[0;34m(\u001b[0m\u001b[0mindexer\u001b[0m\u001b[0;34m)\u001b[0m\u001b[0;34m\u001b[0m\u001b[0;34m\u001b[0m\u001b[0m\n",
            "\u001b[0;31mKeyError\u001b[0m: \"['Email', 'phone', 'Date of birth'] not found in axis\""
          ]
        }
      ]
    },
    {
      "cell_type": "code",
      "source": [],
      "metadata": {
        "id": "t-bqhoikT10s"
      },
      "execution_count": null,
      "outputs": []
    },
    {
      "cell_type": "markdown",
      "source": [
        "Create two numpy arrays x, and y each containing 100 random float values between 0 and 1. perform tasks using matplotib and numpy:\n",
        "\n",
        "(a) create a scatter plot using x and y, setting the color of the points to red and the marker style to 'o' (b) add a horizontal line at y = 0.5 using a dashed line style and label it as 'y = 0.5. (d) Label the x-axis and the x-axis ,and the y-axis as y-axis. (e) set the title of the plot as ' advanced scatter plot of random values. (f) display a legend for the scatter plot, the horizontal line, and the vertical line\n",
        "\n",
        "\n"
      ],
      "metadata": {
        "id": "6moTfETkfPX1"
      }
    },
    {
      "cell_type": "markdown",
      "source": [],
      "metadata": {
        "id": "8MysE7fMfQ4d"
      }
    },
    {
      "cell_type": "markdown",
      "source": [
        "To create two NumPy arrays x and y each containing 100 random float values between 0 and 1, and perform tasks using Matplotlib and NumPy,\n",
        "\n"
      ],
      "metadata": {
        "id": "-SK9mOh8fTRs"
      }
    },
    {
      "cell_type": "code",
      "source": [
        "import numpy as np\n",
        "import matplotlib.pyplot as plt\n",
        "\n",
        "# Create two NumPy arrays x and y with 100 random float values between 0 and 1\n",
        "x = np.random.rand(100)\n",
        "y = np.random.rand(100)\n",
        "\n",
        "# Create a scatter plot using x and y\n",
        "plt.scatter(x, y, color='red', marker='o', label='Random Points')\n",
        "\n",
        "# Add a horizontal line at y = 0.5 using a dashed line style\n",
        "plt.axhline(y=0.5, color='black', linestyle='--', label='y = 0.5')\n",
        "\n",
        "# Add a vertical line at x = 0.5 using a dashed line style\n",
        "plt.axvline(x=0.5, color='blue', linestyle='--', label='x = 0.5')\n",
        "\n",
        "# Label the x-axis and y-axis\n",
        "plt.xlabel('x-axis')\n",
        "plt.ylabel('y-axis')\n",
        "\n",
        "# Set the title of the plot\n",
        "plt.title('Advanced Scatter Plot of Random Values')\n",
        "\n",
        "# Display a legend for the scatter plot, the horizontal line, and the vertical line\n",
        "plt.legend()\n",
        "\n",
        "# Show the plot\n",
        "plt.show()"
      ],
      "metadata": {
        "colab": {
          "base_uri": "https://localhost:8080/",
          "height": 472
        },
        "id": "5k2NyfBxfYXm",
        "outputId": "1e2ba595-24ea-4b66-faf7-0c3ee2c15962"
      },
      "execution_count": 31,
      "outputs": [
        {
          "output_type": "display_data",
          "data": {
            "text/plain": [
              "<Figure size 640x480 with 1 Axes>"
            ],
            "image/png": "[encoded data removed]"
          },
          "metadata": {}
        }
      ]
    },
    {
      "cell_type": "code",
      "source": [],
      "metadata": {
        "id": "c_iV1aGifcEC"
      },
      "execution_count": null,
      "outputs": []
    },
    {
      "cell_type": "markdown",
      "source": [
        "\n",
        "\n",
        "create a time- series dataset in a pandas data frame with columns:'Data, Temp' humidity' and perform the following tasks using matplotib: (a) plot the temp and humidity on the same plot with different y-axes (left y-axis for temp and right for 'humidity' (b) label the x-axis at 'date' (c) set the title of thr plot as ' temp and humidity over time\n",
        "\n"
      ],
      "metadata": {
        "id": "Gqb7bvCmggbg"
      }
    },
    {
      "cell_type": "code",
      "source": [
        "import pandas as pd\n",
        "import numpy as np\n",
        "import matplotlib.pyplot as plt\n",
        "\n",
        "# Create a sample time-series dataset\n",
        "date_range = pd.date_range('2022-01-01', '2022-01-10')\n",
        "temp = np.random.randint(20, 30, size=len(date_range))\n",
        "humidity = np.random.randint(60, 80, size=len(date_range))\n",
        "\n",
        "df = pd.DataFrame({'Data': date_range, 'Temp': temp, 'Humidity': humidity})"
      ],
      "metadata": {
        "id": "xXrI_bgGgkdV"
      },
      "execution_count": 34,
      "outputs": []
    },
    {
      "cell_type": "markdown",
      "source": [
        "a) Plot the temp and humidity on the same plot with different y-axes\n",
        "\n",
        "We'll use the twinx function from matplotlib to create two y-axes on the same plot."
      ],
      "metadata": {
        "id": "vD4X7-UBgqEQ"
      }
    },
    {
      "cell_type": "code",
      "source": [
        "fig, ax1 = plt.subplots()\n",
        "\n",
        "color = 'tab:red'\n",
        "ax1.set_xlabel('Date')\n",
        "ax1.set_ylabel('Temp (°C)', color=color)\n",
        "ax1.plot(df['Data'], df['Temp'], color=color)\n",
        "ax1.tick_params(axis='y', labelcolor=color)\n",
        "\n",
        "ax2 = ax1.twinx()  # instantiate a second axes that shares the same x-axis\n",
        "\n",
        "color = 'tab:blue'\n",
        "ax2.set_ylabel('Humidity (%)', color=color)  # we already handled the x-label with ax1\n",
        "ax2.plot(df['Data'], df['Humidity'], color=color)\n",
        "ax2.tick_params(axis='y', labelcolor=color)\n",
        "\n",
        "fig.tight_layout()  # otherwise the right y-label is slightly clipped\n",
        "plt.title('Temp and Humidity over Time')\n",
        "plt.show()"
      ],
      "metadata": {
        "colab": {
          "base_uri": "https://localhost:8080/",
          "height": 509
        },
        "id": "iXhew7JXgrJb",
        "outputId": "5cfe7689-ef47-463a-b248-fa8455e4bd47"
      },
      "execution_count": 35,
      "outputs": [
        {
          "output_type": "display_data",
          "data": {
            "text/plain": [
              "<Figure size 640x480 with 2 Axes>"
            ],
            "image/png": "[encoded data removed]"
          },
          "metadata": {}
        }
      ]
    },
    {
      "cell_type": "markdown",
      "source": [
        "b) Label the x-axis at 'Date'\n",
        "\n",
        "We've already done this in the code above: ax1.set_xlabel('Date').\n",
        "\n",
        "(c) Set the title of the plot as 'Temp and Humidity over Time'\n",
        "\n",
        "We've also done this: plt.title('Temp and Humidity over Time')."
      ],
      "metadata": {
        "id": "SnmjC4BhgwOw"
      }
    },
    {
      "cell_type": "markdown",
      "source": [
        "c\n",
        "eate a numpy array data containing 1000 samples from a normal distribution . perform the following tasks using matplotib (a) plot a histogram of the data with 30 bins (b) overlay a line plot representing the normal distribution pribability density function(pdf) (c) label the x - axis as 'Value' and the y-axix as 'Frequency/probability'. (d) set the title of the plot os 'histogram with pdf overlay'."
      ],
      "metadata": {
        "id": "Nj-ABmc6h0Q5"
      }
    },
    {
      "cell_type": "code",
      "source": [
        "import numpy as np\n",
        "import matplotlib.pyplot as plt\n",
        "from scipy.stats import norm\n",
        "\n",
        "# Create a NumPy array with 1000 samples from a normal distribution\n",
        "data = np.random.normal(loc=0, scale=1, size=1000)"
      ],
      "metadata": {
        "id": "UmAiri1piALI"
      },
      "execution_count": 36,
      "outputs": []
    },
    {
      "cell_type": "markdown",
      "source": [
        "a) Plot a histogram of the data with 30 bins\n",
        "\n",
        "We'll use the hist function from matplotlib to create a histogram of the data."
      ],
      "metadata": {
        "id": "XgeXmE_FiFox"
      }
    },
    {
      "cell_type": "code",
      "source": [
        "plt.hist(data, bins=30, density=True, alpha=0.6, label='Histogram')"
      ],
      "metadata": {
        "colab": {
          "base_uri": "https://localhost:8080/",
          "height": 677
        },
        "id": "KanNrL2-iHqQ",
        "outputId": "c64bd637-833e-48b4-a606-018e967b1511"
      },
      "execution_count": 37,
      "outputs": [
        {
          "output_type": "execute_result",
          "data": {
            "text/plain": [
              "(array([0.00434569, 0.        , 0.00434569, 0.01303707, 0.02172844,\n",
              "        0.02607413, 0.04780257, 0.12602496, 0.09995083, 0.19555598,\n",
              "        0.22163011, 0.23901286, 0.34765507, 0.37807489, 0.36503783,\n",
              "        0.34330938, 0.38242058, 0.34765507, 0.2607413 , 0.24770424,\n",
              "        0.23466717, 0.16513616, 0.1129879 , 0.05214826, 0.02607413,\n",
              "        0.03041982, 0.02172844, 0.00869138, 0.01738275, 0.00434569]),\n",
              " array([-3.5686958 , -3.33858266, -3.10846952, -2.87835638, -2.64824324,\n",
              "        -2.4181301 , -2.18801696, -1.95790382, -1.72779068, -1.49767755,\n",
              "        -1.26756441, -1.03745127, -0.80733813, -0.57722499, -0.34711185,\n",
              "        -0.11699871,  0.11311443,  0.34322757,  0.57334071,  0.80345385,\n",
              "         1.03356699,  1.26368013,  1.49379327,  1.72390641,  1.95401955,\n",
              "         2.18413269,  2.41424583,  2.64435897,  2.87447211,  3.10458525,\n",
              "         3.33469839]),\n",
              " <BarContainer object of 30 artists>)"
            ]
          },
          "metadata": {},
          "execution_count": 37
        },
        {
          "output_type": "display_data",
          "data": {
            "text/plain": [
              "<Figure size 640x480 with 1 Axes>"
            ],
            "image/png": "[encoded data removed]"
          },
          "metadata": {}
        }
      ]
    },
    {
      "cell_type": "markdown",
      "source": [
        "(b) Overlay a line plot representing the normal distribution probability density function (PDF)\n",
        "\n",
        "We'll use the norm.pdf function from SciPy to calculate the PDF values for the normal distribution, and then plot them using the plot function from matplotlib."
      ],
      "metadata": {
        "id": "_JQNfGuKiLYJ"
      }
    },
    {
      "cell_type": "code",
      "source": [
        "x = np.linspace(data.min(), data.max(), 100)\n",
        "pdf = norm.pdf(x, loc=0, scale=1)\n",
        "plt.plot(x, pdf, 'r-', label='Normal Distribution PDF')"
      ],
      "metadata": {
        "colab": {
          "base_uri": "https://localhost:8080/",
          "height": 447
        },
        "id": "iPEq8zSmiQyR",
        "outputId": "f8a49d63-18fd-4cee-c5be-506418e9c431"
      },
      "execution_count": 38,
      "outputs": [
        {
          "output_type": "execute_result",
          "data": {
            "text/plain": [
              "[<matplotlib.lines.Line2D at 0x7cf26241b670>]"
            ]
          },
          "metadata": {},
          "execution_count": 38
        },
        {
          "output_type": "display_data",
          "data": {
            "text/plain": [
              "<Figure size 640x480 with 1 Axes>"
            ],
            "image/png": "[encoded data removed]"
          },
          "metadata": {}
        }
      ]
    },
    {
      "cell_type": "code",
      "source": [
        "(c) Label the x-axis as 'Value' and the y-axis as 'Frequency/probability'\n",
        "\n",
        "We'll use the xlabel and ylabel functions from matplotlib to set the axis labels."
      ],
      "metadata": {
        "colab": {
          "base_uri": "https://localhost:8080/",
          "height": 106
        },
        "id": "6S6TC_JciTke",
        "outputId": "26327095-4eee-4182-9505-6d2950488e37"
      },
      "execution_count": 39,
      "outputs": [
        {
          "output_type": "error",
          "ename": "SyntaxError",
          "evalue": "unterminated string literal (detected at line 3) (<ipython-input-39-3368b9228fb5>, line 3)",
          "traceback": [
            "\u001b[0;36m  File \u001b[0;32m\"<ipython-input-39-3368b9228fb5>\"\u001b[0;36m, line \u001b[0;32m3\u001b[0m\n\u001b[0;31m    We'll use the xlabel and ylabel functions from matplotlib to set the axis labels.\u001b[0m\n\u001b[0m      ^\u001b[0m\n\u001b[0;31mSyntaxError\u001b[0m\u001b[0;31m:\u001b[0m unterminated string literal (detected at line 3)\n"
          ]
        }
      ]
    },
    {
      "cell_type": "code",
      "source": [
        "plt.xlabel('Value')\n",
        "plt.ylabel('Frequency/Probability')"
      ],
      "metadata": {
        "colab": {
          "base_uri": "https://localhost:8080/",
          "height": 472
        },
        "id": "Iik9zVLziXRQ",
        "outputId": "b2212595-edca-4a17-af47-18886691bcfc"
      },
      "execution_count": 40,
      "outputs": [
        {
          "output_type": "execute_result",
          "data": {
            "text/plain": [
              "Text(0, 0.5, 'Frequency/Probability')"
            ]
          },
          "metadata": {},
          "execution_count": 40
        },
        {
          "output_type": "display_data",
          "data": {
            "text/plain": [
              "<Figure size 640x480 with 1 Axes>"
            ],
            "image/png": "[encoded data removed]"
          },
          "metadata": {}
        }
      ]
    },
    {
      "cell_type": "markdown",
      "source": [
        "d) Set the title of the plot as 'Histogram with PDF Overlay'\n",
        "\n",
        "We'll use the title function from matplotlib to set the plot title.\n",
        "\n",
        "\n"
      ],
      "metadata": {
        "id": "2UKmpoUSicom"
      }
    },
    {
      "cell_type": "code",
      "source": [
        "plt.title('Histogram with PDF Overlay')"
      ],
      "metadata": {
        "colab": {
          "base_uri": "https://localhost:8080/",
          "height": 469
        },
        "id": "_QFfBgeNilTI",
        "outputId": "e55b8ecb-a5b0-4317-c783-385d241fb2ee"
      },
      "execution_count": 41,
      "outputs": [
        {
          "output_type": "execute_result",
          "data": {
            "text/plain": [
              "Text(0.5, 1.0, 'Histogram with PDF Overlay')"
            ]
          },
          "metadata": {},
          "execution_count": 41
        },
        {
          "output_type": "display_data",
          "data": {
            "text/plain": [
              "<Figure size 640x480 with 1 Axes>"
            ],
            "image/png": "[encoded data removed]"
          },
          "metadata": {}
        }
      ]
    },
    {
      "cell_type": "code",
      "source": [
        "import numpy as np\n",
        "import matplotlib.pyplot as plt\n",
        "from scipy.stats import norm\n",
        "\n",
        "# Create a NumPy array with 1000 samples from a normal distribution\n",
        "data = np.random.normal(loc=0, scale=1, size=1000)\n",
        "\n",
        "plt.hist(data, bins=30, density=True, alpha=0.6, label='Histogram')\n",
        "\n",
        "x = np.linspace(data.min(), data.max(), 100)\n",
        "pdf = norm.pdf(x, loc=0, scale=1)\n",
        "plt.plot(x, pdf, 'r-', label='Normal Distribution PDF')\n",
        "\n",
        "plt.xlabel('Value')\n",
        "plt.ylabel('Frequency/Probability')\n",
        "plt.title('Histogram with PDF Overlay')\n",
        "plt.legend()\n",
        "plt.show()"
      ],
      "metadata": {
        "colab": {
          "base_uri": "https://localhost:8080/",
          "height": 472
        },
        "id": "UALUfSpXimWu",
        "outputId": "5fe40b0b-09d1-45e1-ffd2-a25a21a06210"
      },
      "execution_count": 42,
      "outputs": [
        {
          "output_type": "display_data",
          "data": {
            "text/plain": [
              "<Figure size 640x480 with 1 Axes>"
            ],
            "image/png": "[encoded data removed]"
          },
          "metadata": {}
        }
      ]
    },
    {
      "cell_type": "markdown",
      "source": [
        "Set the title of the 'histogram with Pdf Overlay'.\n",
        "\n"
      ],
      "metadata": {
        "id": "bifXOJ3Di7xJ"
      }
    },
    {
      "cell_type": "code",
      "source": [
        "plt.title('Histogram with PDF Overlay')"
      ],
      "metadata": {
        "colab": {
          "base_uri": "https://localhost:8080/",
          "height": 469
        },
        "id": "fKbyXyqYi9Mi",
        "outputId": "934339c5-e079-4ce3-e196-6481037e38ab"
      },
      "execution_count": 43,
      "outputs": [
        {
          "output_type": "execute_result",
          "data": {
            "text/plain": [
              "Text(0.5, 1.0, 'Histogram with PDF Overlay')"
            ]
          },
          "metadata": {},
          "execution_count": 43
        },
        {
          "output_type": "display_data",
          "data": {
            "text/plain": [
              "<Figure size 640x480 with 1 Axes>"
            ],
            "image/png": "[encoded data removed]"
          },
          "metadata": {}
        }
      ]
    },
    {
      "cell_type": "markdown",
      "source": [
        "Create a seaborn scatter plot of two random arrays, color point based on their positive relative to the origin(quadrants), add a legend, and set title as 'quadrant- wiseb scatter plot'."
      ],
      "metadata": {
        "id": "LUgo4lyajAVv"
      }
    },
    {
      "cell_type": "code",
      "source": [
        "\n",
        "import numpy as np\n",
        "import seaborn as sns\n",
        "import matplotlib.pyplot as plt\n",
        "\n",
        "# Generate two random arrays\n",
        "x = np.random.randn(100)\n",
        "y = np.random.randn(100)\n",
        "\n",
        "# Create a quadrant label for each point\n",
        "quadrant = np.where((x > 0) & (y > 0), 'Q1',\n",
        "                    np.where((x < 0) & (y > 0), 'Q2',\n",
        "                             np.where((x < 0) & (y < 0), 'Q3', 'Q4')))\n",
        "\n",
        "# Create the scatter plot\n",
        "plt.figure(figsize=(8, 8))\n",
        "sns.scatterplot(x=x, y=y, hue=quadrant, palette=['blue', 'green', 'red', 'yellow'])\n",
        "\n",
        "# Add a legend\n",
        "plt.legend(title='Quadrant', loc='upper right')\n",
        "\n",
        "# Set the title\n",
        "plt.title('Quadrant-wise Scatter Plot')\n",
        "\n",
        "# Show the plot\n",
        "plt.show()"
      ],
      "metadata": {
        "colab": {
          "base_uri": "https://localhost:8080/",
          "height": 699
        },
        "id": "DBisjk0rjnlY",
        "outputId": "e5ac5574-452c-4c39-bccd-026e004f2ffc"
      },
      "execution_count": 48,
      "outputs": [
        {
          "output_type": "display_data",
          "data": {
            "text/plain": [
              "<Figure size 800x800 with 1 Axes>"
            ],
            "image/png": "[encoded data removed]"
          },
          "metadata": {}
        }
      ]
    },
    {
      "cell_type": "markdown",
      "source": [
        "We generate two random arrays x and y using np.random.randn.\n",
        "We create a quadrant label for each point using np.where. The labels are 'Q1', 'Q2', 'Q3', and 'Q4' for points in the first, second, third, and fourth quadrants, respectively.\n",
        "We create the scatter plot using sns.scatterplot, with hue set to the quadrant label and palette set to a list of colors for each quadrant.\n",
        "We add a legend using plt.legend, with the title set to 'Quadrant' and the location set to the upper right corner.\n",
        "Finally, we set the title of the plot using plt.title and show the plot using plt.show."
      ],
      "metadata": {
        "id": "jle546d2jvrw"
      }
    },
    {
      "cell_type": "markdown",
      "source": [
        "with bokeh plot a line chart a sine wave function,a dd grid lines, label the axes, and the title as 'Sine wave function'.\n",
        "\n"
      ],
      "metadata": {
        "id": "y2AknVgjkOJS"
      }
    },
    {
      "cell_type": "markdown",
      "source": [
        "here is a Python code snippet that uses Bokeh to plot a line chart of a sine wave function, adds grid lines, labels the axes, and sets the title to 'Sine wave function':"
      ],
      "metadata": {
        "id": "c6jNQk6_kRRJ"
      }
    },
    {
      "cell_type": "code",
      "source": [
        "import numpy as np\n",
        "from bokeh.plotting import\n",
        "\n",
        "# Create a numpy array of x values from 0 to 4π\n",
        "x = np.linspace(0, 4 * np.pi, 100)\n",
        "\n",
        "# Calculate the corresponding y values using the sine function\n",
        "y = np.sin(x)\n",
        "\n",
        "# Create a new plot with a title and axis labels\n",
        "p = figure(title=\"Sine wave function\", x_axis_label='x', y_axis_label='sin(x)')\n",
        "\n",
        "# Add a line renderer with legend and line thickness\n",
        "p.line(x, y, legend_label=\"sin(x)\", line_width=2)\n",
        "\n",
        "# Add grid lines\n",
        "p.grid.grid_line_color = \"lightgray\"\n",
        "p.grid.grid_line_alpha = 0.5\n",
        "\n",
        "# Show the results\n",
        "show(p)"
      ],
      "metadata": {
        "colab": {
          "base_uri": "https://localhost:8080/",
          "height": 106
        },
        "id": "I7H7f8h6kbda",
        "outputId": "103978d0-bafa-4ea1-8f23-5ed3a65c753a"
      },
      "execution_count": 50,
      "outputs": [
        {
          "output_type": "error",
          "ename": "SyntaxError",
          "evalue": "invalid syntax (<ipython-input-50-3fb065cc79b7>, line 2)",
          "traceback": [
            "\u001b[0;36m  File \u001b[0;32m\"<ipython-input-50-3fb065cc79b7>\"\u001b[0;36m, line \u001b[0;32m2\u001b[0m\n\u001b[0;31m    from bokeh.plotting import\u001b[0m\n\u001b[0m                              ^\u001b[0m\n\u001b[0;31mSyntaxError\u001b[0m\u001b[0;31m:\u001b[0m invalid syntax\n"
          ]
        }
      ]
    },
    {
      "cell_type": "markdown",
      "source": [
        "Using Bokeh, generate a bar chart of randomly generated categorical data, color bars based in their values, add hover tooltips to display exact values, label the axes, and the title as 'Random categorical Bar chart'.\n",
        "\n",
        "\n"
      ],
      "metadata": {
        "id": "ZbmL1OnZlQ2x"
      }
    },
    {
      "cell_type": "code",
      "source": [
        "import numpy as np\n",
        "from bokeh.plotting import figure, show\n",
        "from bokeh.models import ColumnDataSource, HoverTool\n",
        "import random\n",
        "\n",
        "# Generate random categorical data\n",
        "categories = ['A', 'B', 'C', 'D', 'E']\n",
        "values = [random.randint(1, 100) for _ in range(len(categories))]\n",
        "\n",
        "# Create a ColumnDataSource\n",
        "source = ColumnDataSource(data=dict(categories=categories, values=values))\n",
        "\n",
        "# Create a new plot with a title and axis labels\n",
        "p = figure(title=\"Random categorical Bar chart\", x_axis_label='Category', y_axis_label='Value', x_range=categories)\n",
        "\n",
        "# Map colors to values\n",
        "colors = [\"#%02x%02x%02x\" % (int(value/100*255), int(value/100*255), int(value/100*255)) for value in values]\n",
        "\n",
        "# Add a bar renderer with legend and line thickness\n",
        "p.vbar(x='categories', top='values', width=0.9, color=colors, source=source)\n",
        "\n",
        "# Add hover tooltips\n",
        "hover = HoverTool(tooltips=[\n",
        "    (\"Category\", \"@categories\"),\n",
        "    (\"Value\", \"@values\"),\n",
        "])\n",
        "p.add_tools(hover)\n",
        "\n"
      ],
      "metadata": {
        "colab": {
          "base_uri": "https://localhost:8080/",
          "height": 651
        },
        "id": "g6WY5GoklR58",
        "outputId": "bf5be172-7905-478f-dc2e-fdbc319cdd1d"
      },
      "execution_count": 51,
      "outputs": [
        {
          "output_type": "error",
          "ename": "RuntimeError",
          "evalue": "\n\nExpected hatch_color, line_color and fill_color to reference fields in the supplied data source.\n\nWhen a 'source' argument is passed to a glyph method, values that are sequences\n(like lists or arrays) must come from references to data columns in the source.\n\nFor instance, as an example:\n\n    source = ColumnDataSource(data=dict(x=a_list, y=an_array))\n\n    p.circle(x='x', y='y', source=source, ...) # pass column names and a source\n\nAlternatively, *all* data sequences may be provided as literals as long as a\nsource is *not* provided:\n\n    p.circle(x=a_list, y=an_array, ...)  # pass actual sequences and no source\n\n",
          "traceback": [
            "\u001b[0;31m---------------------------------------------------------------------------\u001b[0m",
            "\u001b[0;31mRuntimeError\u001b[0m                              Traceback (most recent call last)",
            "\u001b[0;32m<ipython-input-51-89ff1bf25a78>\u001b[0m in \u001b[0;36m<cell line: 20>\u001b[0;34m()\u001b[0m\n\u001b[1;32m     18\u001b[0m \u001b[0;34m\u001b[0m\u001b[0m\n\u001b[1;32m     19\u001b[0m \u001b[0;31m# Add a bar renderer with legend and line thickness\u001b[0m\u001b[0;34m\u001b[0m\u001b[0;34m\u001b[0m\u001b[0m\n\u001b[0;32m---> 20\u001b[0;31m \u001b[0mp\u001b[0m\u001b[0;34m.\u001b[0m\u001b[0mvbar\u001b[0m\u001b[0;34m(\u001b[0m\u001b[0mx\u001b[0m\u001b[0;34m=\u001b[0m\u001b[0;34m'categories'\u001b[0m\u001b[0;34m,\u001b[0m \u001b[0mtop\u001b[0m\u001b[0;34m=\u001b[0m\u001b[0;34m'values'\u001b[0m\u001b[0;34m,\u001b[0m \u001b[0mwidth\u001b[0m\u001b[0;34m=\u001b[0m\u001b[0;36m0.9\u001b[0m\u001b[0;34m,\u001b[0m \u001b[0mcolor\u001b[0m\u001b[0;34m=\u001b[0m\u001b[0mcolors\u001b[0m\u001b[0;34m,\u001b[0m \u001b[0msource\u001b[0m\u001b[0;34m=\u001b[0m\u001b[0msource\u001b[0m\u001b[0;34m)\u001b[0m\u001b[0;34m\u001b[0m\u001b[0;34m\u001b[0m\u001b[0m\n\u001b[0m\u001b[1;32m     21\u001b[0m \u001b[0;34m\u001b[0m\u001b[0m\n\u001b[1;32m     22\u001b[0m \u001b[0;31m# Add hover tooltips\u001b[0m\u001b[0;34m\u001b[0m\u001b[0;34m\u001b[0m\u001b[0m\n",
            "\u001b[0;32m/usr/local/lib/python3.10/dist-packages/bokeh/plotting/_decorators.py\u001b[0m in \u001b[0;36mwrapped\u001b[0;34m(self, *args, **kwargs)\u001b[0m\n\u001b[1;32m     87\u001b[0m             \u001b[0;32mif\u001b[0m \u001b[0mself\u001b[0m\u001b[0;34m.\u001b[0m\u001b[0mcoordinates\u001b[0m \u001b[0;32mis\u001b[0m \u001b[0;32mnot\u001b[0m \u001b[0;32mNone\u001b[0m\u001b[0;34m:\u001b[0m\u001b[0;34m\u001b[0m\u001b[0;34m\u001b[0m\u001b[0m\n\u001b[1;32m     88\u001b[0m                 \u001b[0mkwargs\u001b[0m\u001b[0;34m.\u001b[0m\u001b[0msetdefault\u001b[0m\u001b[0;34m(\u001b[0m\u001b[0;34m\"coordinates\"\u001b[0m\u001b[0;34m,\u001b[0m \u001b[0mself\u001b[0m\u001b[0;34m.\u001b[0m\u001b[0mcoordinates\u001b[0m\u001b[0;34m)\u001b[0m\u001b[0;34m\u001b[0m\u001b[0;34m\u001b[0m\u001b[0m\n\u001b[0;32m---> 89\u001b[0;31m             \u001b[0;32mreturn\u001b[0m \u001b[0mcreate_renderer\u001b[0m\u001b[0;34m(\u001b[0m\u001b[0mglyphclass\u001b[0m\u001b[0;34m,\u001b[0m \u001b[0mself\u001b[0m\u001b[0;34m.\u001b[0m\u001b[0mplot\u001b[0m\u001b[0;34m,\u001b[0m \u001b[0;34m**\u001b[0m\u001b[0mkwargs\u001b[0m\u001b[0;34m)\u001b[0m\u001b[0;34m\u001b[0m\u001b[0;34m\u001b[0m\u001b[0m\n\u001b[0m\u001b[1;32m     90\u001b[0m \u001b[0;34m\u001b[0m\u001b[0m\n\u001b[1;32m     91\u001b[0m         \u001b[0mwrapped\u001b[0m\u001b[0;34m.\u001b[0m\u001b[0m__signature__\u001b[0m \u001b[0;34m=\u001b[0m \u001b[0mSignature\u001b[0m\u001b[0;34m(\u001b[0m\u001b[0mparameters\u001b[0m\u001b[0;34m=\u001b[0m\u001b[0msigparams\u001b[0m\u001b[0;34m)\u001b[0m\u001b[0;34m\u001b[0m\u001b[0;34m\u001b[0m\u001b[0m\n",
            "\u001b[0;32m/usr/local/lib/python3.10/dist-packages/bokeh/plotting/_renderer.py\u001b[0m in \u001b[0;36mcreate_renderer\u001b[0;34m(glyphclass, plot, **kwargs)\u001b[0m\n\u001b[1;32m     91\u001b[0m     \u001b[0mincompatible_literal_spec_values\u001b[0m \u001b[0;34m+=\u001b[0m \u001b[0m_process_sequence_literals\u001b[0m\u001b[0;34m(\u001b[0m\u001b[0mglyphclass\u001b[0m\u001b[0;34m,\u001b[0m \u001b[0mglyph_visuals\u001b[0m\u001b[0;34m,\u001b[0m \u001b[0msource\u001b[0m\u001b[0;34m,\u001b[0m \u001b[0mis_user_source\u001b[0m\u001b[0;34m)\u001b[0m\u001b[0;34m\u001b[0m\u001b[0;34m\u001b[0m\u001b[0m\n\u001b[1;32m     92\u001b[0m     \u001b[0;32mif\u001b[0m \u001b[0mincompatible_literal_spec_values\u001b[0m\u001b[0;34m:\u001b[0m\u001b[0;34m\u001b[0m\u001b[0;34m\u001b[0m\u001b[0m\n\u001b[0;32m---> 93\u001b[0;31m         \u001b[0;32mraise\u001b[0m \u001b[0mRuntimeError\u001b[0m\u001b[0;34m(\u001b[0m\u001b[0m_GLYPH_SOURCE_MSG\u001b[0m \u001b[0;34m%\u001b[0m \u001b[0mnice_join\u001b[0m\u001b[0;34m(\u001b[0m\u001b[0mincompatible_literal_spec_values\u001b[0m\u001b[0;34m,\u001b[0m \u001b[0mconjunction\u001b[0m\u001b[0;34m=\u001b[0m\u001b[0;34m\"and\"\u001b[0m\u001b[0;34m)\u001b[0m\u001b[0;34m)\u001b[0m\u001b[0;34m\u001b[0m\u001b[0;34m\u001b[0m\u001b[0m\n\u001b[0m\u001b[1;32m     94\u001b[0m \u001b[0;34m\u001b[0m\u001b[0m\n\u001b[1;32m     95\u001b[0m     \u001b[0;31m# handle the nonselection glyph, we always set one\u001b[0m\u001b[0;34m\u001b[0m\u001b[0;34m\u001b[0m\u001b[0m\n",
            "\u001b[0;31mRuntimeError\u001b[0m: \n\nExpected hatch_color, line_color and fill_color to reference fields in the supplied data source.\n\nWhen a 'source' argument is passed to a glyph method, values that are sequences\n(like lists or arrays) must come from references to data columns in the source.\n\nFor instance, as an example:\n\n    source = ColumnDataSource(data=dict(x=a_list, y=an_array))\n\n    p.circle(x='x', y='y', source=source, ...) # pass column names and a source\n\nAlternatively, *all* data sequences may be provided as literals as long as a\nsource is *not* provided:\n\n    p.circle(x=a_list, y=an_array, ...)  # pass actual sequences and no source\n\n"
          ]
        }
      ]
    },
    {
      "cell_type": "markdown",
      "source": [
        "using plotly, create a basic line plot of a randomly generated dataset, label the axes and set the title as 'simple line plot;\n",
        "\n"
      ],
      "metadata": {
        "id": "9w15h29hluA_"
      }
    },
    {
      "cell_type": "code",
      "source": [
        "import plotly.express as px\n",
        "import numpy as np\n",
        "\n",
        "# Generate random dataset\n",
        "np.random.seed(0)\n",
        "x = np.arange(10)\n",
        "y = np.random.randint(0, 100, 10)\n",
        "\n",
        "# Create a figure\n",
        "fig = px.line(x=x, y=y)\n",
        "\n",
        "# Set title and axis labels\n",
        "fig.update_layout(title='Simple Line Plot',\n",
        "                  xaxis_title='X Axis',\n",
        "                  yaxis_title='Y Axis')\n",
        "\n",
        "\n"
      ],
      "metadata": {
        "id": "z3GjBvurlwPs"
      },
      "execution_count": null,
      "outputs": []
    },
    {
      "cell_type": "markdown",
      "source": [
        "Using the plotly, create an interactive pie chart of randomly generated data, add labels and percentages, set the title as 'interactive pie chart'.\n",
        "\n"
      ],
      "metadata": {
        "id": "s1e9uaKnl4kJ"
      }
    },
    {
      "cell_type": "code",
      "source": [
        "import plotly.express as px\n",
        "import numpy as np\n",
        "\n",
        "# Generate random data\n",
        "np.random.seed(0)\n",
        "labels = ['A', 'B', 'C', 'D', 'E']\n",
        "values = np.random.randint(0, 100, 5)\n",
        "\n",
        "# Create a figure\n",
        "fig = px.pie(values=values, names=labels, title='Interactive Pie Chart')\n",
        "\n",
        "# Show the plot\n",
        "fig.show()"
      ],
      "metadata": {
        "id": "Xykb-h3AmR1L"
      },
      "execution_count": null,
      "outputs": []
    },
    {
      "cell_type": "markdown",
      "source": [
        "This code first generates random data using NumPy. It then creates a pie chart using Plotly Express, passing in the values and labels. The px.pie function automatically adds labels and percentages to the chart. Finally, the show method is used to display the interactive pie chart.\n",
        "\n",
        "By default, Plotly Express pie charts are interactive, allowing users to hover over the chart to see the exact values and percentages, and to click and drag to rotate the chart.\n",
        "\n",
        "If you want to customize the appearance of the chart, you can use the update_layout method to change the title, font sizes, colors, and more. For example:\n"
      ],
      "metadata": {
        "id": "G8n1LFmhmakM"
      }
    },
    {
      "cell_type": "code",
      "source": [
        "fig.update_layout(title='Interactive Pie Chart',\n",
        "                  font_size=16,\n",
        "                  font_family='Arial',\n",
        "                  margin=dict(l=20, r=20, t=50, b=20))"
      ],
      "metadata": {
        "colab": {
          "base_uri": "https://localhost:8080/",
          "height": 193
        },
        "id": "BiNX_ktembfS",
        "outputId": "396bdaf2-75f8-4fc5-f611-87711ddbd408"
      },
      "execution_count": 47,
      "outputs": [
        {
          "output_type": "error",
          "ename": "AttributeError",
          "evalue": "'Figure' object has no attribute 'update_layout'",
          "traceback": [
            "\u001b[0;31m---------------------------------------------------------------------------\u001b[0m",
            "\u001b[0;31mAttributeError\u001b[0m                            Traceback (most recent call last)",
            "\u001b[0;32m<ipython-input-47-02acbbad7609>\u001b[0m in \u001b[0;36m<cell line: 1>\u001b[0;34m()\u001b[0m\n\u001b[0;32m----> 1\u001b[0;31m fig.update_layout(title='Interactive Pie Chart',\n\u001b[0m\u001b[1;32m      2\u001b[0m                   \u001b[0mfont_size\u001b[0m\u001b[0;34m=\u001b[0m\u001b[0;36m16\u001b[0m\u001b[0;34m,\u001b[0m\u001b[0;34m\u001b[0m\u001b[0;34m\u001b[0m\u001b[0m\n\u001b[1;32m      3\u001b[0m                   \u001b[0mfont_family\u001b[0m\u001b[0;34m=\u001b[0m\u001b[0;34m'Arial'\u001b[0m\u001b[0;34m,\u001b[0m\u001b[0;34m\u001b[0m\u001b[0;34m\u001b[0m\u001b[0m\n\u001b[1;32m      4\u001b[0m                   margin=dict(l=20, r=20, t=50, b=20))\n",
            "\u001b[0;31mAttributeError\u001b[0m: 'Figure' object has no attribute 'update_layout'"
          ]
        }
      ]
    },
    {
      "cell_type": "code",
      "source": [],
      "metadata": {
        "id": "hV47jZ26mkfw"
      },
      "execution_count": 47,
      "outputs": []
    }
  ]
}