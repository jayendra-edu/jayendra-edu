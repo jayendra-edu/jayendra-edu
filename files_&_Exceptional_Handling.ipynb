{
  "nbformat": 4,
  "nbformat_minor": 0,
  "metadata": {
    "colab": {
      "provenance": [],
      "authorship_tag": "ABX9TyNP3z5LIWx7YRe/VhBsSiu6",
      "include_colab_link": true
    },
    "kernelspec": {
      "name": "python3",
      "display_name": "Python 3"
    },
    "language_info": {
      "name": "python"
    }
  },
  "cells": [
    {
      "cell_type": "markdown",
      "metadata": {
        "id": "view-in-github",
        "colab_type": "text"
      },
      "source": [
        "<a href=\"https://colab.research.google.com/github/jayendra-edu/jayendra-edu/blob/main/files_%26_Exceptional_Handling.ipynb\" target=\"_parent\"><img src=\"https://colab.research.google.com/assets/colab-badge.svg\" alt=\"Open In Colab\"/></a>"
      ]
    },
    {
      "cell_type": "markdown",
      "source": [
        "1.Discuss the scenarios where multithreading is preferable to multiprocessing and scenarios where multiprocessing is a better choice."
      ],
      "metadata": {
        "id": "1wB74a2BR2IQ"
      }
    },
    {
      "cell_type": "code",
      "source": [],
      "metadata": {
        "id": "Js9RzCTBR7_J"
      },
      "execution_count": null,
      "outputs": []
    },
    {
      "cell_type": "markdown",
      "source": [
        "Scenario Comparison: Multithreading vs Multiprocessing\n",
        "\n",
        "When it comes to concurrent programming, both multithreading and multiprocessing are used to achieve parallelism. However, they have different use cases and are suitable for different scenarios.\n",
        "\n",
        "Multithreading is Preferable in:\n",
        "\n",
        "I/O-bound operations: When the program spends most of its time waiting for I/O operations to complete, multithreading is a better choice. This is because threads can handle I/O operations asynchronously, improving responsiveness and throughput.\n",
        "GUI applications: In graphical user interface (GUI) applications, multithreading is often used to perform tasks in the background without blocking the main thread, ensuring a responsive user interface.\n",
        "Real-time systems: Multithreading is suitable for real-time systems where predictable and fast response times are crucial.\n",
        "Multiprocessing is a Better Choice in:\n",
        "\n",
        "CPU-bound operations: When the program is computationally intensive and requires significant CPU resources, multiprocessing is a better choice. This is because multiple processes can utilize multiple CPU cores, improving overall processing power.\n",
        "Memory-intensive applications: When the program requires a large amount of memory, multiprocessing is a better choice. This is because each process has its own memory space, reducing memory contention and improving performance.\n",
        "Long-running tasks: Multiprocessing is suitable for long-running tasks that can be divided into smaller, independent tasks, allowing for parallel execution.\n"
      ],
      "metadata": {
        "id": "XKmgDFOHR8Yp"
      }
    },
    {
      "cell_type": "markdown",
      "source": [
        "2.Describe what a process pool is and how it helps in managing multiple processes efficiently.,\n"
      ],
      "metadata": {
        "id": "kKdO9VX2SFuA"
      }
    },
    {
      "cell_type": "markdown",
      "source": [
        "A process pool is a group of worker processes that can be used to execute tasks concurrently. It's a high-level abstraction that provides an efficient way to manage multiple processes, allowing you to parallelize tasks without worrying about the underlying process management.\n",
        "\n",
        "How Process Pools Help in Managing Multiple Processes Efficiently:\n",
        "\n",
        "Task parallelism: Process pools enable task parallelism, where multiple tasks can be executed concurrently, improving overall processing power and throughput.\n",
        "Efficient resource utilization: Process pools optimize resource utilization by reusing existing processes, reducing the overhead of creating and destroying processes.\n",
        "Simplified process management: Process pools provide a high-level interface for managing processes, abstracting away the complexities of process creation, synchronization, and communication.\n",
        "Improved fault tolerance: Process pools can be designed to handle process failures, ensuring that the system remains operational even if one or more processes fail."
      ],
      "metadata": {
        "id": "L87xhM0DSMTy"
      }
    },
    {
      "cell_type": "markdown",
      "source": [
        "3.Explain what multiprocessing is and why it is used in Python programs."
      ],
      "metadata": {
        "id": "JPpxipmFSO2Y"
      }
    },
    {
      "cell_type": "markdown",
      "source": [
        "Multiprocessing is a way to achieve concurrency in Python by creating multiple processes that run in parallel. Unlike multithreading, where multiple threads share the same memory space, multiprocessing creates separate processes with their own memory spaces. This allows for true parallel execution of tasks, taking advantage of multiple CPU cores.\n",
        "\n",
        "Multiprocessing is used in Python programs to:\n",
        "\n",
        "Speed up computationally intensive tasks by distributing them across multiple processes\n",
        "Improve responsiveness by running I/O-bound tasks in separate processes\n",
        "Take advantage of multiple CPU cores to perform tasks concurrently"
      ],
      "metadata": {
        "id": "2QRsn-5fSibv"
      }
    },
    {
      "cell_type": "markdown",
      "source": [
        "4. Write a Python program using multithreading where one thread adds numbers to a list, and another thread removes numbers from the list. Implement a mechanism to avoid race conditions using threading.Lock."
      ],
      "metadata": {
        "id": "tL1mTbT4S4_P"
      }
    },
    {
      "cell_type": "code",
      "source": [
        "import threading\n",
        "import time\n",
        "import random\n",
        "\n",
        "# Shared list\n",
        "numbers = []\n",
        "\n",
        "# Lock for synchronizing access to the list\n",
        "lock = threading.Lock()\n",
        "\n",
        "def add_numbers():\n",
        "    for i in range(10):\n",
        "        with lock:\n",
        "            numbers.append(i)\n",
        "        time.sleep(random.random())\n",
        "\n",
        "def remove_numbers():\n",
        "    for i in range(10):\n",
        "        with lock:\n",
        "            if numbers:\n",
        "                numbers.pop()\n",
        "        time.sleep(random.random())\n",
        "\n",
        "# Create and start threads\n",
        "t1 = threading.Thread(target=add_numbers)\n",
        "t2 = threading.Thread(target=remove_numbers)\n",
        "t1.start()\n",
        "t2.start()\n",
        "\n",
        "# Wait for threads to finish\n",
        "t1.join()\n",
        "t2.join()\n",
        "\n",
        "print(\"Final list:\", numbers)\n"
      ],
      "metadata": {
        "colab": {
          "base_uri": "https://localhost:8080/"
        },
        "id": "fv45sY2pTULA",
        "outputId": "5ec849ec-e33a-4fb6-e5a6-2af737121fe5"
      },
      "execution_count": 1,
      "outputs": [
        {
          "output_type": "stream",
          "name": "stdout",
          "text": [
            "Final list: [4, 5]\n"
          ]
        }
      ]
    },
    {
      "cell_type": "markdown",
      "source": [
        "5. Describe the methods and tools available in Python for safely sharing data between threads and processes."
      ],
      "metadata": {
        "id": "5qfdb7JrTelJ"
      }
    },
    {
      "cell_type": "markdown",
      "source": [
        "Thread-safe data structures: Using thread-safe data structures like Queue, Lock, and Condition from the threading module.\n",
        "Immutable objects: Sharing immutable objects, which cannot be modified once created, to avoid race conditions.\n",
        "Copy-on-write: Creating a copy of shared data before modifying it, to avoid modifying the original data.\n",
        "Inter-process communication (IPC): Using IPC mechanisms like pipes, sockets, or shared memory to communicate between processes.\n",
        "Manager objects: Using Manager objects from the multiprocessing module to create shared objects that can be accessed by multiple processes."
      ],
      "metadata": {
        "id": "hDZ-afC8TjOQ"
      }
    },
    {
      "cell_type": "markdown",
      "source": [
        "6. Discuss why it’s crucial to handle exceptions in concurrent programs and the techniques available for doing so."
      ],
      "metadata": {
        "id": "z96QiyO3Tmbw"
      }
    },
    {
      "cell_type": "markdown",
      "source": [
        "Handling exceptions in concurrent programs is crucial because:\n",
        "\n",
        "Uncaught exceptions can terminate the entire program: If an exception is not caught and handled in a thread or process, it can terminate the entire program.\n",
        "Exceptions can be difficult to debug: In concurrent programs, exceptions can be difficult to debug because the error may occur in a different thread or process than the one that triggered the exception.\n",
        "Techniques for handling exceptions in concurrent programs include:\n",
        "\n",
        "Try-except blocks: Using try-except blocks to catch and handle exceptions in threads and processes.\n",
        "Error queues: Using error queues to collect and handle exceptions from multiple threads or processes.\n",
        "Global exception handlers: Implementing global exception handlers to catch and handle exceptions that are not caught by individual threads or processes."
      ],
      "metadata": {
        "id": "R4LgBK2WUaVp"
      }
    },
    {
      "cell_type": "markdown",
      "source": [
        "7. Create a program that uses a thread pool to calculate the factorial of numbers from 1 to 10 concurrently. Use concurrent.futures.ThreadPoolExecutor to manage the threads."
      ],
      "metadata": {
        "id": "0eHD7EinU0bo"
      }
    },
    {
      "cell_type": "code",
      "source": [
        "import concurrent.futures\n",
        "import math\n",
        "\n",
        "def calculate_factorial(n):\n",
        "    return math.factorial(n)\n",
        "\n",
        "def main():\n",
        "    with concurrent.futures.ThreadPoolExecutor() as executor:\n",
        "        numbers = range(1, 11)\n",
        "        results = list(executor.map(calculate_factorial, numbers))\n",
        "        for i, result in enumerate(results, start=1):\n",
        "            print(f\"Factorial of {i} is {result}\")\n",
        "\n",
        "if __name__ == \"__main__\":\n",
        "    main()"
      ],
      "metadata": {
        "colab": {
          "base_uri": "https://localhost:8080/"
        },
        "id": "L3EoOhM1Ua-P",
        "outputId": "6f5cab67-a400-4a5c-987e-3737d4279153"
      },
      "execution_count": 2,
      "outputs": [
        {
          "output_type": "stream",
          "name": "stdout",
          "text": [
            "Factorial of 1 is 1\n",
            "Factorial of 2 is 2\n",
            "Factorial of 3 is 6\n",
            "Factorial of 4 is 24\n",
            "Factorial of 5 is 120\n",
            "Factorial of 6 is 720\n",
            "Factorial of 7 is 5040\n",
            "Factorial of 8 is 40320\n",
            "Factorial of 9 is 362880\n",
            "Factorial of 10 is 3628800\n"
          ]
        }
      ]
    },
    {
      "cell_type": "markdown",
      "source": [
        "8. Create a Python program that uses multiprocessing.Pool to compute the square of numbers from 1 to 10 in parallel. Measure the time taken to perform this computation using a pool of different sizes (e.g., 2, 4, 8 processes)."
      ],
      "metadata": {
        "id": "6x24pZSfU_ng"
      }
    },
    {
      "cell_type": "code",
      "source": [
        "import multiprocessing\n",
        "import time\n",
        "\n",
        "def compute_square(n):\n",
        "    return n ** 2\n",
        "\n",
        "def main():\n",
        "    numbers = range(1, 11)\n",
        "    pool_sizes = [2, 4, 8]\n",
        "\n",
        "    for pool_size in pool_sizes:\n",
        "        start_time = time.time()\n",
        "        with multiprocessing.Pool(processes=pool_size) as pool:\n",
        "            results = pool.map(compute_square, numbers)\n",
        "        end_time = time.time()\n",
        "        print(f\"Pool size: {pool_size}, Time taken: {end_time - start_time} seconds\")\n",
        "        print(\"Results:\", results)\n",
        "        print()\n",
        "\n",
        "if __name__ == \"__main__\":\n",
        "    main()"
      ],
      "metadata": {
        "colab": {
          "base_uri": "https://localhost:8080/"
        },
        "id": "5dqg1PUEU_Va",
        "outputId": "65d0ce36-35e9-45ae-fb5c-6b30e0e31b6f"
      },
      "execution_count": 4,
      "outputs": [
        {
          "output_type": "stream",
          "name": "stdout",
          "text": [
            "Pool size: 2, Time taken: 0.021842241287231445 seconds\n",
            "Results: [1, 4, 9, 16, 25, 36, 49, 64, 81, 100]\n",
            "\n",
            "Pool size: 4, Time taken: 0.038343191146850586 seconds\n",
            "Results: [1, 4, 9, 16, 25, 36, 49, 64, 81, 100]\n",
            "\n",
            "Pool size: 8, Time taken: 0.06828546524047852 seconds\n",
            "Results: [1, 4, 9, 16, 25, 36, 49, 64, 81, 100]\n",
            "\n"
          ]
        }
      ]
    },
    {
      "cell_type": "code",
      "source": [],
      "metadata": {
        "id": "QkrWaxxeVHeg"
      },
      "execution_count": null,
      "outputs": []
    }
  ]
}