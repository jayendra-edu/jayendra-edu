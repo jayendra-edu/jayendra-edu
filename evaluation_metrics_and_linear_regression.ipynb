{
  "nbformat": 4,
  "nbformat_minor": 0,
  "metadata": {
    "colab": {
      "provenance": [],
      "authorship_tag": "ABX9TyP3S28DmcjVeZOPZ9zpxjiq",
      "include_colab_link": true
    },
    "kernelspec": {
      "name": "python3",
      "display_name": "Python 3"
    },
    "language_info": {
      "name": "python"
    }
  },
  "cells": [
    {
      "cell_type": "markdown",
      "metadata": {
        "id": "view-in-github",
        "colab_type": "text"
      },
      "source": [
        "<a href=\"https://colab.research.google.com/github/jayendra-edu/jayendra-edu/blob/main/evaluation_metrics_and_linear_regression.ipynb\" target=\"_parent\"><img src=\"https://colab.research.google.com/assets/colab-badge.svg\" alt=\"Open In Colab\"/></a>"
      ]
    },
    {
      "cell_type": "markdown",
      "source": [
        "THEORITICAL QUESTIONS"
      ],
      "metadata": {
        "id": "5Obg7XYW9M1Q"
      }
    },
    {
      "cell_type": "markdown",
      "source": [
        "1.  What does R-squared represent in a regression model*"
      ],
      "metadata": {
        "id": "Rmeh8eNbxnPC"
      }
    },
    {
      "cell_type": "markdown",
      "source": [
        "R-squared in a Regression Model\n",
        "\n",
        "Definition: R-squared, also known as the coefficient of determination, quantifies how well the independent variables explain the variability of the dependent variable in a regression model.\n",
        "\n",
        "Interpretation:\n",
        "\n",
        "R-squared values range from 0 to 1.\n",
        "A value of 0 indicates that the model does not explain any variability in the response data around its mean.\n",
        "A value of 1 indicates that the model explains all the variability in the response data around its mean.\n",
        "Usage:\n",
        "\n",
        "It is commonly used to assess the goodness-of-fit of a regression model.\n",
        "Higher R-squared values suggest a better fit of the model to the data.\n",
        "Limitations:\n",
        "\n",
        "R-squared alone does not indicate whether the regression model is appropriate or if the independent variables are significant.\n",
        "It can be artificially inflated by adding more predictors, even if they are not meaningful, which is why Adjusted R-squared is often used for a more accurate assessment.\n",
        "In summary, R-squared is a key metric in regression analysis that helps to understand the effectiveness of the model in explaining the variability of the dependent variable.\n",
        "\n",
        "\n",
        "\n",
        "\n"
      ],
      "metadata": {
        "id": "eDkBKOlfyoE7"
      }
    },
    {
      "cell_type": "markdown",
      "source": [
        "2.  What are the assumptions of linear regression ?"
      ],
      "metadata": {
        "id": "INBJ4D-7y8BJ"
      }
    },
    {
      "cell_type": "markdown",
      "source": [
        "Assumptions of Linear Regression\n",
        "\n",
        "Linearity: The relationship between the independent and dependent variables is linear.\n",
        "\n",
        "Independence: Observations are independent of each other, meaning the residuals (errors) are not correlated.\n",
        "\n",
        "Homoscedasticity: The residuals have constant variance at all levels of the independent variable(s).\n",
        "\n",
        "Normality: The residuals of the model are normally distributed, especially important for hypothesis testing.\n",
        "\n",
        "No Multicollinearity: Independent variables should not be too highly correlated with each other.\n",
        "\n",
        "These assumptions are crucial for the validity of the linear regression model and its results."
      ],
      "metadata": {
        "id": "YTn4zAusyqSx"
      }
    },
    {
      "cell_type": "markdown",
      "source": [
        "3. what is the Difference Between R-squared and Adjusted R-squared\n",
        "\n",
        "R-squared:\n",
        "\n",
        "Measures the proportion of variance in the dependent variable explained by the independent variables.\n",
        "Can only increase or stay the same when more predictors are added, regardless of their relevance.\n",
        "Adjusted R-squared:\n",
        "\n",
        "Adjusts R-squared for the number of predictors in the model.\n",
        "Can decrease if the added predictors do not improve the model significantly, providing a more accurate measure of model fit when comparing models with different numbers of predictors.\n",
        "In summary, Adjusted R-squared provides a more reliable measure of model performance, especially when multiple predictors are involved."
      ],
      "metadata": {
        "id": "9NngJtGXzEqe"
      }
    },
    {
      "cell_type": "markdown",
      "source": [
        "4.why do we use Mean Squared Error (MSE)*"
      ],
      "metadata": {
        "id": "2LFuGBIzzEr5"
      }
    },
    {
      "cell_type": "markdown",
      "source": [
        "Definition: Mean Squared Error (MSE) is a metric that measures the average of the squares of the errors, which are the differences between predicted and actual values.\n",
        "\n",
        "Reasons for Use:\n",
        "\n",
        "Sensitivity to Outliers: MSE gives higher weight to larger errors due to squaring, making it useful for identifying models that perform poorly on significant deviations.\n",
        "\n",
        "Mathematical Properties: MSE is differentiable, which makes it suitable for optimization algorithms used in training regression models, allowing for easier calculation of gradients.\n",
        "\n",
        "Interpretability: MSE provides a clear numerical value that reflects the average error magnitude, making it easier to understand model performance.\n",
        "\n",
        "Comparison: MSE is often used in conjunction with other metrics (like MAE) to provide a comprehensive evaluation of model accuracy.\n",
        "\n",
        "In summary, MSE is a widely used metric in regression analysis due to its sensitivity to errors, mathematical properties, and interpretability."
      ],
      "metadata": {
        "id": "0uozUbYEzEvr"
      }
    },
    {
      "cell_type": "markdown",
      "source": [
        "5.What does an Adjusted R-squared value of 0.85 indicate*"
      ],
      "metadata": {
        "id": "AkR42-LpzExN"
      }
    },
    {
      "cell_type": "markdown",
      "source": [
        "Adjusted R-squared Value of 0.85\n",
        "\n",
        "Interpretation:\n",
        "\n",
        "An Adjusted R-squared value of 0.85 indicates that approximately 85% of the variability in the dependent variable can be explained by the independent variables in the model, after adjusting for the number of predictors.\n",
        "Model Fit:\n",
        "\n",
        "This high value suggests a strong fit of the model to the data, meaning the independent variables are effective in explaining the variation in the dependent variable.\n",
        "Consideration of Predictors:\n",
        "\n",
        "The adjustment accounts for the number of predictors used, implying that the model is not just overfitting by adding unnecessary variables.\n",
        "In summary, an Adjusted R-squared of 0.85 reflects a robust model that explains a significant portion of the variance while considering the complexity of the model.\n",
        "\n"
      ],
      "metadata": {
        "id": "Bq1jQFQfzE1T"
      }
    },
    {
      "cell_type": "markdown",
      "source": [
        "6. How do we check for normality of residuals in linear regression*"
      ],
      "metadata": {
        "id": "ljmnqI15zE27"
      }
    },
    {
      "cell_type": "markdown",
      "source": [
        "Checking for Normality of Residuals in Linear Regression\n",
        "\n",
        "Visual Inspection:\n",
        "\n",
        "Histogram: Plot a histogram of the residuals. A bell-shaped curve indicates normality.\n",
        "Q-Q Plot (Quantile-Quantile Plot): Plot the quantiles of the residuals against the quantiles of a normal distribution. If the points fall approximately along a straight line, the residuals are normally distributed.\n",
        "Statistical Tests:\n",
        "\n",
        "Shapiro-Wilk Test: A formal statistical test that checks the null hypothesis that the data is normally distributed. A p-value greater than a chosen significance level (e.g., 0.05) suggests normality.\n",
        "Kolmogorov-Smirnov Test: Another test that compares the sample distribution of residuals to a normal distribution.\n",
        "Residuals Plot:\n",
        "\n",
        "Create a residuals vs. fitted values plot. While this primarily checks for homoscedasticity, it can also provide insights into the distribution of residuals. If the residuals are randomly scattered, it suggests that they may be normally distributed.\n",
        "In summary, normality of residuals can be assessed through visual methods (histograms and Q-Q plots) and statistical tests (Shapiro-Wilk and Kolmogorov-Smirnov)."
      ],
      "metadata": {
        "id": "5f1OKk3CzE7S"
      }
    },
    {
      "cell_type": "markdown",
      "source": [
        "7. What is multicollinearity, and how does it impact regression*"
      ],
      "metadata": {
        "id": "HU-qX8KfzE8y"
      }
    },
    {
      "cell_type": "markdown",
      "source": [
        "Multicollinearity in Regression\n",
        "\n",
        "Definition:\n",
        "\n",
        "Multicollinearity refers to a situation in regression analysis where two or more independent variables are highly correlated with each other. This means that one independent variable can be linearly predicted from the others with a substantial degree of accuracy.\n",
        "Impact on Regression:\n",
        "\n",
        "Inflated Standard Errors: Multicollinearity increases the standard errors of the coefficients, making it difficult to determine the individual effect of each predictor on the dependent variable.\n",
        "\n",
        "Unstable Coefficients: The coefficients of the correlated variables can become very sensitive to small changes in the data, leading to unreliable estimates.\n",
        "\n",
        "Reduced Interpretability: It becomes challenging to assess the importance of each predictor, as the effects of correlated variables can mask each other.\n",
        "\n",
        "Model Fit: While multicollinearity does not affect the overall fit of the model (e.g., R-squared), it complicates the interpretation of the model and can lead to misleading conclusions.\n",
        "\n",
        "Detection:\n",
        "\n",
        "Common methods to detect multicollinearity include calculating the Variance Inflation Factor (VIF) and examining correlation matrices.\n",
        "In summary, multicollinearity can significantly hinder the reliability and interpretability of regression models, making it essential to identify and address it during analysis. ⬤\n",
        "\n"
      ],
      "metadata": {
        "id": "Fk7cWGxczFAh"
      }
    },
    {
      "cell_type": "markdown",
      "source": [
        "8. What is Mean Absolute Error (MAE)*"
      ],
      "metadata": {
        "id": "yD_y3K-YzFCE"
      }
    },
    {
      "cell_type": "markdown",
      "source": [
        "Mean Absolute Error (MAE) is a measure used to evaluate the accuracy of a predictive model. It quantifies the average magnitude of the errors in a set of predictions, without considering their direction (i.e., whether the predictions are over or under the actual values).\n",
        "\n",
        "The formula for calculating MAE is:\n",
        "\n",
        "[ \\text{MAE} = \\frac{1}{n} \\sum_{i=1}^{n} |y_i - \\hat{y}_i| ]\n",
        "\n",
        "Where:\n",
        "\n",
        "( n ) is the number of observations,\n",
        "( y_i ) is the actual value,\n",
        "( \\hat{y}_i ) is the predicted value,\n",
        "( |y_i - \\hat{y}_i| ) is the absolute error for each observation.\n",
        "MAE is a useful metric because it provides a straightforward interpretation of the average error in the same units as the original data. Lower MAE values indicate better model performance, as they reflect smaller average errors in predictions."
      ],
      "metadata": {
        "id": "ldBeorggzFGS"
      }
    },
    {
      "cell_type": "markdown",
      "source": [
        "9. What are the benefits of using an ML pipeline*"
      ],
      "metadata": {
        "id": "jO_ayWYgzFH6"
      }
    },
    {
      "cell_type": "markdown",
      "source": [
        "Using a machine learning (ML) pipeline offers several benefits that enhance the efficiency, reproducibility, and effectiveness of the model development process. Here are some key advantages:\n",
        "\n",
        "Modularity: Pipelines allow you to break down the ML workflow into distinct, manageable steps (e.g., data preprocessing, feature selection, model training, and evaluation). This modularity makes it easier to understand, maintain, and modify individual components without affecting the entire process.\n",
        "\n",
        "Reproducibility: By encapsulating the entire workflow in a pipeline, you can ensure that the same steps are applied consistently every time you run the model. This is crucial for reproducibility in research and production environments.\n",
        "\n",
        "Automation: Pipelines can automate repetitive tasks, such as data cleaning, feature engineering, and model evaluation. This reduces the potential for human error and saves time, allowing data scientists to focus on more complex tasks.\n",
        "\n",
        "Scalability: Pipelines can be designed to handle large datasets and complex workflows. They can be easily scaled up or down depending on the size of the data and the computational resources available.\n",
        "\n",
        "Version Control: Pipelines can help manage different versions of data, models, and parameters. This is particularly useful in collaborative environments where multiple team members may be working on different aspects of the project.\n",
        "\n",
        "Hyperparameter Tuning: Pipelines can integrate hyperparameter tuning processes, allowing for systematic exploration of different model configurations and improving model performance.\n",
        "\n",
        "Cross-Validation: Pipelines can facilitate cross-validation by ensuring that the same preprocessing steps are applied to both training and validation datasets, preventing data leakage and providing a more accurate assessment of model performance.\n",
        "\n",
        "Integration with Deployment: A well-structured pipeline can simplify the transition from model development to deployment, making it easier to integrate the model into production systems.\n",
        "\n",
        "Monitoring and Maintenance: Pipelines can include monitoring components that track model performance over time, allowing for timely updates and maintenance as data distributions change.\n",
        "\n",
        "Collaboration: Pipelines provide a clear structure that can be easily shared among team members, promoting collaboration and knowledge sharing within data science teams.\n",
        "\n",
        "Overall, ML pipelines streamline the workflow, enhance productivity, and improve the quality of machine learning projects."
      ],
      "metadata": {
        "id": "QlLx3Yk8zFMB"
      }
    },
    {
      "cell_type": "markdown",
      "source": [
        "10. Why is RMSE considered more interpretable than MSE*\n"
      ],
      "metadata": {
        "id": "lFuxrsov2WsQ"
      }
    },
    {
      "cell_type": "markdown",
      "source": [
        "Root Mean Square Error (RMSE) is often considered more interpretable than Mean Squared Error (MSE) for several reasons:\n",
        "\n",
        "Same Units as the Original Data: RMSE is the square root of MSE, which means it is expressed in the same units as the original data. This makes it easier for stakeholders to understand the magnitude of the error in a context that is familiar to them. For example, if you are predicting house prices in dollars, RMSE will also be in dollars, making it straightforward to interpret.\n",
        "\n",
        "Direct Comparison to Actual Values: Because RMSE is in the same units as the target variable, it allows for a more intuitive understanding of how much the predictions deviate from the actual values. Stakeholders can easily grasp what an RMSE of, say, $5,000 means in the context of house prices.\n",
        "\n",
        "Sensitivity to Large Errors: RMSE gives more weight to larger errors due to the squaring of the differences before averaging. This characteristic can be more interpretable in scenarios where large errors are particularly undesirable, as it highlights the impact of outliers more clearly than MSE.\n",
        "\n",
        "Common Usage: RMSE is widely used in practice and is often reported in research papers and industry reports. Its prevalence means that many practitioners and stakeholders are familiar with its interpretation, making it easier to communicate results.\n",
        "\n",
        "Comparative Analysis: RMSE can be more useful for comparing different models or algorithms, as it provides a clear metric that reflects the average error magnitude. When comparing models, stakeholders can easily see which model has a lower RMSE and thus better performance.\n",
        "\n",
        "In contrast, MSE, while useful for certain mathematical properties (like differentiability), is less interpretable because it is in squared units. For example, if the original data is in dollars, MSE would be in square dollars, which does not have a direct, intuitive meaning. This can make it harder for non-technical stakeholders to understand the implications of the error metric.\n",
        "\n",
        "Overall, RMSE's alignment with the original data's units and its intuitive interpretation make it a preferred choice for many practitioners when evaluating model performance."
      ],
      "metadata": {
        "id": "KPbqx_7l2WxU"
      }
    },
    {
      "cell_type": "markdown",
      "source": [
        "11.What is pickling in Python, and how is it useful in ML*"
      ],
      "metadata": {
        "id": "B_HtIbIr2Wy_"
      }
    },
    {
      "cell_type": "markdown",
      "source": [
        "Pickling in Python refers to the process of serializing and deserializing Python objects. Serialization is the conversion of a Python object (such as a list, dictionary, or a machine learning model) into a byte stream, which can then be saved to a file or transmitted over a network. Deserialization is the reverse process, where the byte stream is converted back into a Python object.\n",
        "\n",
        "How Pickling Works\n",
        "In Python, the pickle module provides the functionality for pickling and unpickling objects. Here’s a basic example:"
      ],
      "metadata": {
        "id": "5NX5C68V2W2g"
      }
    },
    {
      "cell_type": "code",
      "source": [
        "import pickle\n",
        "\n",
        "# Example object (a simple dictionary)\n",
        "data = {'name': 'Alice', 'age': 30}\n",
        "\n",
        "# Pickling (serialization)\n",
        "with open('data.pkl', 'wb') as file:\n",
        "    pickle.dump(data, file)\n",
        "\n",
        "# Unpickling (deserialization)\n",
        "with open('data.pkl', 'rb') as file:\n",
        "    loaded_data = pickle.load(file)\n",
        "\n",
        "print(loaded_data)  # Output: {'name': 'Alice', 'age': 30}v"
      ],
      "metadata": {
        "colab": {
          "base_uri": "https://localhost:8080/"
        },
        "id": "2mklRKau26yl",
        "outputId": "f8ce2d5d-094f-453c-97f9-1fd7714da6d8"
      },
      "execution_count": 1,
      "outputs": [
        {
          "output_type": "stream",
          "name": "stdout",
          "text": [
            "{'name': 'Alice', 'age': 30}\n"
          ]
        }
      ]
    },
    {
      "cell_type": "markdown",
      "source": [
        "Usefulness of Pickling in Machine Learning\n",
        "Model Persistence: After training a machine learning model, you often want to save it for future use without needing to retrain it every time. Pickling allows you to save the trained model to a file, which can be loaded later for predictions or further analysis.\n",
        "\n",
        "Efficiency: Pickling is generally faster than other serialization formats (like JSON) for complex Python objects, especially when dealing with large models or datasets. This efficiency can save time in both training and deployment phases.\n",
        "\n",
        "Easy Deployment: Once a model is pickled, it can be easily shared or deployed across different environments. For instance, you can train a model on one machine, pickle it, and then load it on another machine for inference.\n",
        "\n",
        "State Preservation: Pickling preserves the state of the model, including its parameters, configuration, and any other attributes. This ensures that when you load the model, it behaves exactly as it did when it was saved.\n",
        "\n",
        "Integration with Other Systems: Pickled objects can be easily integrated into larger systems, such as web applications or data pipelines, allowing for seamless model deployment and usage.\n",
        "\n",
        "Version Control: By pickling models at different stages of development, you can maintain versions of your models, making it easier to track changes and revert to previous versions if necessary.\n",
        "\n",
        "Considerations\n",
        "While pickling is very useful, there are some considerations to keep in mind:\n",
        "\n",
        "Security: Unpickling data from untrusted sources can be a security risk, as it may execute arbitrary code. Always ensure that you trust the source of the pickled data.\n",
        "Compatibility: Pickled objects may not be compatible across different versions of Python or libraries. It’s important to maintain consistency in the environment where the model is trained and where it is deployed.\n",
        "In summary, pickling is a powerful feature in Python that is particularly useful in machine learning for saving and loading models efficiently, facilitating deployment, and preserving the state of trained models."
      ],
      "metadata": {
        "id": "-ZqH46q02W7i"
      }
    },
    {
      "cell_type": "markdown",
      "source": [
        "12.  What does a high R-squared value mean*"
      ],
      "metadata": {
        "id": "l07bdORZ2W4Q"
      }
    },
    {
      "cell_type": "markdown",
      "source": [
        "A high R-squared value, also known as the coefficient of determination, indicates that a significant proportion of the variance in the dependent variable can be explained by the independent variable(s) in a regression model. Here’s a more detailed explanation of what a high R-squared value means:\n",
        "\n",
        "Interpretation of R-squared\n",
        "Proportion of Variance Explained: R-squared values range from 0 to 1. An R-squared value of 0 means that the model explains none of the variability of the response data around its mean, while an R-squared value of 1 means that the model explains all the variability. A high R-squared value (e.g., close to 1) suggests that the model does a good job of explaining the variability in the dependent variable.\n",
        "\n",
        "Model Fit: A high R-squared value generally indicates a good fit of the model to the data. It suggests that the independent variables included in the model are effective in predicting the dependent variable.\n",
        "\n",
        "Predictive Power: In many cases, a high R-squared value implies that the model has strong predictive power, meaning it can make accurate predictions about the dependent variable based on the independent variables.\n",
        "\n",
        "Important Considerations\n",
        "While a high R-squared value can be a positive indicator, it is essential to consider the following:\n",
        "\n",
        "Not the Sole Metric: R-squared should not be the only metric used to evaluate a model's performance. It does not account for the complexity of the model, and a high R-squared can sometimes be misleading, especially in the presence of overfitting.\n",
        "\n",
        "Overfitting: A model can achieve a very high R-squared value by overfitting the training data, meaning it captures noise rather than the underlying relationship. This can lead to poor performance on unseen data.\n",
        "\n",
        "Context Matters: The interpretation of what constitutes a \"high\" R-squared value can vary by field and context. In some domains, an R-squared value of 0.7 might be considered excellent, while in others, a value of 0.9 might be expected.\n",
        "\n",
        "Linear Relationships: R-squared is most meaningful in the context of linear regression. If the relationship between the variables is not linear, a high R-squared value may not accurately reflect the model's predictive power.\n",
        "\n",
        "Adjusted R-squared: When comparing models with different numbers of predictors, it is often better to use Adjusted R-squared, which adjusts for the number of predictors in the model. This helps to prevent the misleading impression of a better fit simply due to adding more variables.\n",
        "\n",
        "Conclusion\n",
        "In summary, a high R-squared value indicates that a significant portion of the variance in the dependent variable is explained by the independent variables, suggesting a good model fit. However, it is crucial to consider it alongside other metrics and the context of the analysis to ensure a comprehensive evaluation of the model's performance."
      ],
      "metadata": {
        "id": "24pMh1LJ2W9Y"
      }
    },
    {
      "cell_type": "markdown",
      "source": [
        "13 What happens if linear regression assumptions are violated*\n"
      ],
      "metadata": {
        "id": "7FZoJAbU2XAv"
      }
    },
    {
      "cell_type": "markdown",
      "source": [
        "Linear regression relies on several key assumptions to ensure that the model produces valid and reliable results. If these assumptions are violated, it can lead to issues such as biased estimates, incorrect inferences, and poor predictive performance. Here’s a breakdown of the main assumptions of linear regression and the potential consequences of their violation:\n",
        "\n",
        "Key Assumptions of Linear Regression\n",
        "Linearity: The relationship between the independent and dependent variables is linear.\n",
        "\n",
        "Violation Consequences: If the relationship is not linear, the model may not capture the true relationship, leading to systematic errors in predictions. This can result in a poor fit and misleading conclusions.\n",
        "Independence: The residuals (errors) are independent of each other.\n",
        "\n",
        "Violation Consequences: If residuals are correlated (e.g., in time series data), it can lead to underestimated standard errors, resulting in overly optimistic confidence intervals and significance tests.\n",
        "Homoscedasticity: The residuals have constant variance across all levels of the independent variable(s).\n",
        "\n",
        "Violation Consequences: If the variance of the residuals changes (heteroscedasticity), it can lead to inefficient estimates and biased standard errors, affecting hypothesis tests and confidence intervals.\n",
        "Normality of Residuals: The residuals are normally distributed, especially important for small sample sizes.\n",
        "\n",
        "Violation Consequences: If the residuals are not normally distributed, it can affect the validity of hypothesis tests and confidence intervals, particularly in small samples. However, with large samples, the Central Limit Theorem often mitigates this issue.\n",
        "No Multicollinearity: The independent variables are not highly correlated with each other.\n",
        "\n",
        "Violation Consequences: High multicollinearity can make it difficult to determine the individual effect of each predictor on the dependent variable. It can inflate standard errors, making it harder to identify significant predictors.\n",
        "Consequences of Violating Assumptions\n",
        "Biased Coefficients: If the assumptions are violated, the estimated coefficients may be biased, leading to incorrect interpretations of the relationships between variables.\n",
        "\n",
        "Inefficient Estimates: The estimates may not be the best linear unbiased estimates (BLUE), meaning they may have larger variances than necessary, which can affect the precision of predictions.\n",
        "\n",
        "Invalid Hypothesis Tests: Violations can lead to incorrect conclusions about the significance of predictors, as standard errors may be biased, affecting p-values and confidence intervals.\n",
        "\n",
        "Poor Predictive Performance: The model may not generalize well to new data, leading to poor predictions and reduced reliability in practical applications.\n",
        "\n",
        "Addressing Violations\n",
        "If you suspect that the assumptions of linear regression have been violated, there are several strategies you can employ:\n",
        "\n",
        "Transformations: Apply transformations to the dependent or independent variables (e.g., logarithmic, square root) to address non-linearity or heteroscedasticity.\n",
        "Polynomial Regression: Use polynomial terms to capture non-linear relationships.\n",
        "Robust Regression: Consider using robust regression techniques that are less sensitive to violations of assumptions.\n",
        "Check for Autocorrelation: Use tests like the Durbin-Watson test to check for independence of residuals, especially in time series data.\n",
        "Regularization Techniques: If multicollinearity is an issue, consider using techniques like Ridge or Lasso regression that can handle correlated predictors.\n",
        "Conclusion\n",
        "In summary, violating the assumptions of linear regression can lead to biased estimates, inefficient predictions, and invalid statistical inferences. It is crucial to check these assumptions before interpreting the results of a linear regression model and to take appropriate corrective actions if violations are detected."
      ],
      "metadata": {
        "id": "BETOex5M2XCj"
      }
    },
    {
      "cell_type": "markdown",
      "source": [
        "14.  How can we address multicollinearity in regression ?"
      ],
      "metadata": {
        "id": "1rYuFw3C2XGW"
      }
    },
    {
      "cell_type": "markdown",
      "source": [
        "Multicollinearity occurs when two or more independent variables in a regression model are highly correlated, which can lead to issues such as inflated standard errors, unreliable coefficient estimates, and difficulties in determining the individual effect of each predictor. Here are several strategies to address multicollinearity in regression analysis:\n",
        "\n",
        "1. Remove Highly Correlated Predictors\n",
        "Identify Correlation: Use correlation matrices or variance inflation factor (VIF) to identify highly correlated variables.\n",
        "Eliminate Variables: Consider removing one of the correlated variables from the model. Choose the variable that is less important or less interpretable.\n",
        "2. Combine Variables\n",
        "Create Composite Variables: If two or more variables are measuring similar constructs, consider combining them into a single composite variable (e.g., by averaging or summing).\n",
        "Principal Component Analysis (PCA): Use PCA to transform correlated variables into a smaller set of uncorrelated variables (principal components) that capture most of the variance in the data.\n",
        "3. Regularization Techniques\n",
        "Ridge Regression: This technique adds a penalty equal to the square of the magnitude of coefficients to the loss function. It can help reduce the impact of multicollinearity by shrinking the coefficients of correlated predictors.\n",
        "Lasso Regression: Lasso adds a penalty equal to the absolute value of the coefficients, which can lead to some coefficients being exactly zero, effectively performing variable selection and reducing multicollinearity.\n",
        "4. Increase Sample Size\n",
        "If feasible, increasing the sample size can help mitigate the effects of multicollinearity. A larger sample may provide more information and help stabilize the estimates of the coefficients.\n",
        "5. Centering the Variables\n",
        "Mean-Centering: Subtract the mean of each predictor from the predictor values. This can help reduce multicollinearity, especially in polynomial regression models, by reducing the correlation between the polynomial terms and the original variables.\n",
        "6. Use Domain Knowledge\n",
        "Leverage domain knowledge to determine which variables are most important for the analysis. This can guide decisions on which variables to keep or remove based on their relevance to the research question.\n",
        "7. Check for Interaction Effects\n",
        "Sometimes, multicollinearity arises from including interaction terms. If interaction terms are causing multicollinearity, consider whether they are necessary for the model or if they can be simplified.\n",
        "8. Model Specification\n",
        "Re-evaluate the model specification. Ensure that the model includes only relevant predictors and that the functional form of the model is appropriate.\n",
        "9. Use Alternative Models\n",
        "If multicollinearity remains a significant issue, consider using alternative modeling techniques that are less sensitive to multicollinearity, such as decision trees or ensemble methods (e.g., random forests).\n",
        "Conclusion\n",
        "Addressing multicollinearity is crucial for obtaining reliable and interpretable results in regression analysis. By employing one or more of the strategies outlined above, you can mitigate the effects of multicollinearity and improve the robustness of your regression model. Always remember to validate the model after making adjustments to ensure that the changes have led to improved performance and interpretability."
      ],
      "metadata": {
        "id": "cFh9YvWF2XIL"
      }
    },
    {
      "cell_type": "markdown",
      "source": [
        "15. Why do we use pipelines in machine learning*"
      ],
      "metadata": {
        "id": "rqp7_-5Y2XMV"
      }
    },
    {
      "cell_type": "markdown",
      "source": [
        "Pipelines in machine learning are used for several important reasons:\n",
        "\n",
        "Streamlining Workflow: Pipelines help to organize and streamline the workflow of a machine learning project. They provide a clear structure for the sequence of data processing steps, model training, and evaluation.\n",
        "\n",
        "Reproducibility: By encapsulating the entire process from data preprocessing to model evaluation, pipelines make it easier to reproduce results. This is crucial for validating experiments and ensuring that results can be consistently replicated.\n",
        "\n",
        "Modularity: Pipelines allow for modular design, where different components (like data preprocessing, feature selection, and model training) can be easily swapped or modified without affecting the entire workflow. This modularity facilitates experimentation and optimization.\n",
        "\n",
        "Automation: Pipelines can automate repetitive tasks, such as data cleaning, feature engineering, and model tuning. This reduces the potential for human error and saves time, especially in large projects.\n",
        "\n",
        "Cross-Validation: Pipelines simplify the process of cross-validation by ensuring that all preprocessing steps are applied consistently to both training and validation datasets. This helps to prevent data leakage and ensures that the model is evaluated fairly.\n",
        "\n",
        "Scalability: Pipelines can be designed to handle large datasets and complex workflows, making it easier to scale machine learning solutions as data volume and complexity grow.\n",
        "\n",
        "Integration with Tools: Many machine learning libraries and frameworks (like Scikit-learn, TensorFlow, and PyTorch) provide built-in support for pipelines, making it easier to integrate various components and leverage existing tools.\n",
        "\n",
        "Improved Collaboration: A well-defined pipeline can serve as documentation for the machine learning process, making it easier for team members to understand and collaborate on the project.\n",
        "\n",
        "Overall, using pipelines in machine learning enhances efficiency, clarity, and effectiveness in developing and deploying models."
      ],
      "metadata": {
        "id": "aKG-OWmv2XON"
      }
    },
    {
      "cell_type": "markdown",
      "source": [
        "16. How is Adjusted R-squared calculated*"
      ],
      "metadata": {
        "id": "Ya8686oz2XSl"
      }
    },
    {
      "cell_type": "markdown",
      "source": [
        "Adjusted R-squared is a modified version of R-squared that adjusts for the number of predictors in a regression model. It provides a more accurate measure of the goodness of fit when comparing models with different numbers of predictors. The formula for calculating Adjusted R-squared is:\n",
        "\n",
        "[ \\text{Adjusted } R^2 = 1 - \\left( \\frac{(1 - R^2)(n - 1)}{n - p - 1} \\right) ]\n",
        "\n",
        "Where:\n",
        "\n",
        "( R^2 ) is the R-squared value of the model.\n",
        "( n ) is the total number of observations (data points).\n",
        "( p ) is the number of independent variables (predictors) in the model.\n",
        "Steps to Calculate Adjusted R-squared:\n",
        "Calculate R-squared: First, compute the R-squared value for your regression model. R-squared is calculated as:\n",
        "\n",
        "[ R^2 = 1 - \\frac{\\text{SS}{\\text{res}}}{\\text{SS}{\\text{tot}}} ]\n",
        "\n",
        "Where:\n",
        "\n",
        "( \\text{SS}_{\\text{res}} ) is the sum of squares of the residuals (the difference between the observed and predicted values).\n",
        "( \\text{SS}_{\\text{tot}} ) is the total sum of squares (the difference between the observed values and the mean of the observed values).\n",
        "Plug Values into the Adjusted R-squared Formula: Use the calculated ( R^2 ), the number of observations ( n ), and the number of predictors ( p ) in the Adjusted R-squared formula.\n",
        "\n",
        "Interpret the Result: Adjusted R-squared will always be less than or equal to R-squared. It can decrease if the addition of a new predictor does not improve the model sufficiently, which helps to prevent overfitting.\n",
        "\n",
        "Key Points:\n",
        "Adjusted R-squared is particularly useful when comparing models with different numbers of predictors.\n",
        "It penalizes the addition of irrelevant predictors, making it a more reliable metric for model evaluation.\n",
        "Unlike R-squared, which can only increase or stay the same when more predictors are added, Adjusted R-squared can decrease if the new predictors do not contribute to the model's explanatory power."
      ],
      "metadata": {
        "id": "LLnCFlhe2Xgx"
      }
    },
    {
      "cell_type": "markdown",
      "source": [
        "17. Why is MSE sensitive to outliers*"
      ],
      "metadata": {
        "id": "7bO2rTbM2Xv1"
      }
    },
    {
      "cell_type": "markdown",
      "source": [
        "Mean Squared Error (MSE) is sensitive to outliers due to the way it is calculated. MSE is defined as the average of the squares of the errors, which are the differences between the predicted values and the actual values. The formula for MSE is:\n",
        "\n",
        "[ \\text{MSE} = \\frac{1}{n} \\sum_{i=1}^{n} (y_i - \\hat{y}_i)^2 ]\n",
        "\n",
        "Where:\n",
        "\n",
        "( y_i ) is the actual value,\n",
        "( \\hat{y}_i ) is the predicted value,\n",
        "( n ) is the number of observations.\n",
        "Reasons for Sensitivity to Outliers:\n",
        "Squaring the Errors: The squaring of the errors means that larger errors have a disproportionately larger impact on the MSE. For example, if an error is 10, squaring it results in 100, while an error of 1 results in only 1. This means that larger errors (which are often caused by outliers) will dominate the MSE calculation.\n",
        "\n",
        "Linear Growth of Error: The relationship between the error and its contribution to MSE is quadratic. This means that as the error increases, its contribution to MSE increases exponentially. Therefore, a single outlier can significantly increase the MSE, making it a poor measure of model performance when outliers are present.\n",
        "\n",
        "Influence on Model Parameters: Outliers can also affect the parameters of the model itself (e.g., in linear regression, the slope and intercept). This can lead to a model that does not generalize well to the majority of the data, further exacerbating the impact of outliers on MSE.\n",
        "\n",
        "Implications:\n",
        "Because of its sensitivity to outliers, MSE may not be the best metric to use when the dataset contains significant outliers. In such cases, alternative metrics like Mean Absolute Error (MAE) or robust regression techniques may be more appropriate, as they are less influenced by extreme values.\n",
        "Conclusion:\n",
        "In summary, MSE's sensitivity to outliers arises from the squaring of errors, which amplifies the effect of larger deviations from the predicted values. This characteristic can lead to misleading assessments of model performance when outliers are present in the data."
      ],
      "metadata": {
        "id": "wFAm5Fyf2X6o"
      }
    },
    {
      "cell_type": "markdown",
      "source": [
        "18.  What is the role of homoscedasticity in linear regression*"
      ],
      "metadata": {
        "id": "XzBVAkdm2YDG"
      }
    },
    {
      "cell_type": "markdown",
      "source": [
        "Homoscedasticity is a key assumption in linear regression that refers to the condition where the variance of the errors (residuals) is constant across all levels of the independent variable(s). In other words, the spread or dispersion of the residuals should be roughly the same for all predicted values.\n",
        "\n",
        "Role of Homoscedasticity in Linear Regression:\n",
        "Validity of Statistical Inference: Homoscedasticity is crucial for the validity of hypothesis tests and confidence intervals in linear regression. If the residuals are not homoscedastic (i.e., they exhibit heteroscedasticity), it can lead to biased estimates of the standard errors, which in turn affects the significance tests for coefficients.\n",
        "\n",
        "Efficiency of Estimates: When the assumption of homoscedasticity holds, the ordinary least squares (OLS) estimators are the Best Linear Unbiased Estimators (BLUE). This means they have the smallest variance among all linear unbiased estimators. If homoscedasticity is violated, the OLS estimators remain unbiased, but they are no longer efficient, leading to larger standard errors.\n",
        "\n",
        "Model Fit and Interpretation: Homoscedasticity indicates that the model is appropriately capturing the relationship between the independent and dependent variables. If the residuals display a pattern (e.g., funnel shape), it suggests that the model may not be adequately specified, and there may be other variables or transformations needed.\n",
        "\n",
        "Diagnostic Checking: Assessing homoscedasticity is an important part of regression diagnostics. Common methods to check for homoscedasticity include visual inspection of residual plots, Breusch-Pagan test, and White's test. If heteroscedasticity is detected, remedial measures such as transforming the dependent variable or using weighted least squares can be employed.\n",
        "\n",
        "Conclusion\n",
        "In summary, homoscedasticity is essential for ensuring the reliability and validity of the results obtained from linear regression analysis. It affects the efficiency of the estimates and the accuracy of statistical inferences, making it a critical aspect to check when performing regression analysis."
      ],
      "metadata": {
        "id": "QDcbZQHV2YE9"
      }
    },
    {
      "cell_type": "markdown",
      "source": [
        "19. What is Root Mean Squared Error (RMSE)*"
      ],
      "metadata": {
        "id": "zVFeIu1q2YI4"
      }
    },
    {
      "cell_type": "markdown",
      "source": [
        "Root Mean Squared Error (RMSE) is a widely used metric for evaluating the accuracy of a predictive model, particularly in regression analysis. It measures the average magnitude of the errors between predicted values and actual values, providing a way to quantify how well a model performs.\n",
        "\n",
        "Definition\n",
        "The RMSE is calculated as follows:\n",
        "\n",
        "Calculate the Residuals: For each observation, compute the difference between the predicted value (( \\hat{y}_i )) and the actual value (( y_i )): [ \\text{Residual} = y_i - \\hat{y}_i ]\n",
        "\n",
        "Square the Residuals: Square each of the residuals to eliminate negative values: [ \\text{Squared Residual} = (y_i - \\hat{y}_i)^2 ]\n",
        "\n",
        "Calculate the Mean of the Squared Residuals: Compute the average of these squared residuals: [ \\text{Mean Squared Error (MSE)} = \\frac{1}{n} \\sum_{i=1}^{n} (y_i - \\hat{y}_i)^2 ] where ( n ) is the number of observations.\n",
        "\n",
        "Take the Square Root: Finally, take the square root of the mean squared error to obtain the RMSE: [ \\text{RMSE} = \\sqrt{\\text{MSE}} = \\sqrt{\\frac{1}{n} \\sum_{i=1}^{n} (y_i - \\hat{y}_i)^2} ]\n",
        "\n",
        "Interpretation\n",
        "Units: RMSE is expressed in the same units as the dependent variable, making it easier to interpret in the context of the data.\n",
        "Magnitude of Error: A lower RMSE value indicates a better fit of the model to the data, as it signifies that the predicted values are closer to the actual values. Conversely, a higher RMSE indicates larger discrepancies between predicted and actual values.\n",
        "Sensitivity to Outliers: RMSE is sensitive to outliers because it squares the residuals. This means that larger errors have a disproportionately large effect on the RMSE, which can be both an advantage and a disadvantage depending on the context.\n",
        "Use Cases\n",
        "RMSE is commonly used in various fields, including:\n",
        "\n",
        "Machine Learning: To evaluate regression models.\n",
        "Forecasting: To assess the accuracy of predictions in time series analysis.\n",
        "Model Comparison: To compare the performance of different models on the same dataset.\n",
        "In summary, RMSE is a valuable metric for assessing the performance of regression models, providing insights into the average error magnitude and helping to guide model selection and improvement.v"
      ],
      "metadata": {
        "id": "eHwD2yyh2YKv"
      }
    },
    {
      "cell_type": "markdown",
      "source": [
        "20 . Why is pickling considered risky?"
      ],
      "metadata": {
        "id": "9aI4_J2k2YO6"
      }
    },
    {
      "cell_type": "markdown",
      "source": [
        "Pickling is a process in Python used to serialize and deserialize objects, allowing you to save complex data structures (like lists, dictionaries, or custom objects) to a file and later load them back into memory. While pickling is a convenient feature, it comes with several risks and security concerns:\n",
        "\n",
        "1. Code Execution Risk\n",
        "Arbitrary Code Execution: When unpickling data, Python executes the code associated with the objects being deserialized. If the data being unpickled comes from an untrusted or malicious source, it could lead to the execution of arbitrary code, potentially compromising the system.\n",
        "Example: An attacker could craft a pickle file that, when unpickled, executes harmful commands or scripts.\n",
        "2. Data Integrity\n",
        "Corrupted Data: If a pickle file is corrupted or tampered with, unpickling it can lead to unexpected behavior or crashes. This can be particularly problematic in production environments where data integrity is crucial.\n",
        "3. Version Compatibility\n",
        "Incompatibility Issues: Pickled objects are not guaranteed to be compatible across different versions of Python or even different versions of libraries. Changes in class definitions or the underlying data structure can lead to errors when trying to unpickle data that was pickled in a different environment.\n",
        "4. Security Vulnerabilities\n",
        "Exploiting Vulnerabilities: If an application uses pickling without proper validation or sanitization of input, it can become a target for various attacks, including denial-of-service (DoS) attacks or other exploits that take advantage of the unpickling process.\n",
        "5. Limited to Python\n",
        "Language Dependency: Pickle is a Python-specific serialization format. This means that data serialized with pickle cannot be easily shared or used in other programming languages, limiting interoperability.\n",
        "Best Practices to Mitigate Risks\n",
        "To mitigate the risks associated with pickling, consider the following best practices:\n",
        "\n",
        "Avoid Unpickling Untrusted Data: Never unpickle data received from untrusted or unauthenticated sources.\n",
        "Use Safer Alternatives: Consider using safer serialization formats like JSON or XML for data interchange, especially when dealing with untrusted sources. These formats do not execute code during deserialization.\n",
        "Implement Validation: If you must use pickling, implement strict validation and sanitization of the data before unpickling.\n",
        "Use pickle with Caution: If you need to use pickle, be aware of the risks and ensure that your application is designed to handle them appropriately.\n",
        "In summary, while pickling is a powerful feature in Python, it carries significant risks, particularly related to security and data integrity. Careful consideration and best practices are essential when using this functionality."
      ],
      "metadata": {
        "id": "v4hAWG4o5uou"
      }
    },
    {
      "cell_type": "markdown",
      "source": [
        "21.   What alternatives exist to pickling for saving ML models*"
      ],
      "metadata": {
        "id": "15n52T5s2YQ4"
      }
    },
    {
      "cell_type": "markdown",
      "source": [
        "Certainly! Below is a comprehensive answer regarding alternatives to pickling for saving machine learning models, along with a code example that you can run in Google Colab without encountering errors.\n",
        "\n",
        "Alternatives to Pickling for Saving ML Models\n",
        "Joblib\n",
        "\n",
        "Description: Joblib is a library that is particularly efficient for saving and loading large numpy arrays and other objects. It is often used in the context of machine learning for saving models.\n",
        "Usage:\n",
        "\n"
      ],
      "metadata": {
        "id": "JqogWEoT2YYu"
      }
    },
    {
      "cell_type": "code",
      "source": [
        "from joblib import dump, load"
      ],
      "metadata": {
        "id": "QufE-Coe7nxt"
      },
      "execution_count": 6,
      "outputs": []
    },
    {
      "cell_type": "code",
      "source": [
        "# Import necessary libraries\n",
        "import numpy as np\n",
        "import pandas as pd\n",
        "import matplotlib.pyplot as plt\n",
        "from sklearn.model_selection import train_test_split\n",
        "from sklearn.linear_model import LinearRegression\n",
        "\n",
        "# Generate some sample data\n",
        "np.random.seed(0)  # For reproducibility\n",
        "X = 2 * np.random.rand(100, 1)  # Features\n",
        "y = 4 + 3 * X + np.random.randn(100, 1)  # Target with some noise\n",
        "\n",
        "# Create a DataFrame for better visualization\n",
        "data = pd.DataFrame(data=np.hstack((X, y)), columns=['Feature', 'Target'])\n",
        "print(data.head())\n",
        "\n",
        "# Split the data into training and testing sets\n",
        "X_train, X_test, y_train, y_test = train_test_split(X, y, test_size=0.2, random_state=42)\n",
        "\n",
        "# Create and train the linear regression model\n",
        "model = LinearRegression()\n",
        "model.fit(X_train, y_train)\n",
        "\n",
        "# Make predictions\n",
        "y_pred = model.predict(X_test)\n",
        "\n",
        "# Plot the results\n",
        "plt.scatter(X_test, y_test, color='blue', label='Actual')\n",
        "plt.scatter(X_test, y_pred, color='red', label='Predicted')\n",
        "plt.plot(X_test, y_pred, color='red', linewidth=2)\n",
        "plt.title('Linear Regression')\n",
        "plt.xlabel('Feature')\n",
        "plt.ylabel('Target')\n",
        "plt.legend()\n",
        "plt.show()\n",
        "\n",
        "# Print model coefficients\n",
        "print(f\"Intercept: {model.intercept_[0]}\")\n",
        "print(f\"Coefficient: {model.coef_[0][0]}\")\n",
        "\n"
      ],
      "metadata": {
        "colab": {
          "base_uri": "https://localhost:8080/",
          "height": 611
        },
        "id": "QmJWX_JP8U_v",
        "outputId": "1e38b336-65f5-44f6-e554-13877905611b"
      },
      "execution_count": 7,
      "outputs": [
        {
          "output_type": "stream",
          "name": "stdout",
          "text": [
            "    Feature    Target\n",
            "0  1.097627  6.127731\n",
            "1  1.430379  9.191963\n",
            "2  1.205527  8.082243\n",
            "3  1.089766  5.733055\n",
            "4  0.847310  8.030181\n"
          ]
        },
        {
          "output_type": "display_data",
          "data": {
            "text/plain": [
              "<Figure size 640x480 with 1 Axes>"
            ],
            "image/png": "[encoded data removed]"
          },
          "metadata": {}
        },
        {
          "output_type": "stream",
          "name": "stdout",
          "text": [
            "Intercept: 4.206340188711437\n",
            "Coefficient: 2.99025910100489\n"
          ]
        }
      ]
    },
    {
      "cell_type": "markdown",
      "source": [
        "22.  What is heteroscedasticity, and why is it a problem*"
      ],
      "metadata": {
        "id": "p8Lvk8kU8d45"
      }
    },
    {
      "cell_type": "markdown",
      "source": [
        "Heteroscedasticity refers to a condition in regression analysis where the variance of the errors (residuals) is not constant across all levels of the independent variable(s). In other words, the spread or dispersion of the residuals varies with the value of the independent variable(s). This is in contrast to homoscedasticity, where the residuals have constant variance.\n",
        "\n",
        "Visual Representation\n",
        "In a scatter plot of residuals versus predicted values, heteroscedasticity can often be identified by a pattern, such as a funnel shape, where the spread of the residuals increases or decreases as the predicted values change.\n",
        "\n",
        "Why is Heteroscedasticity a Problem?\n",
        "Violation of Assumptions: Many statistical methods, including ordinary least squares (OLS) regression, assume that the residuals are homoscedastic. Heteroscedasticity violates this assumption, which can lead to unreliable statistical inferences.\n",
        "\n",
        "Biased Standard Errors: When heteroscedasticity is present, the standard errors of the regression coefficients can be biased. This means that the confidence intervals and hypothesis tests (e.g., t-tests for coefficients) may not be valid, leading to incorrect conclusions about the significance of predictors.\n",
        "\n",
        "Inefficient Estimates: While OLS estimates of the coefficients remain unbiased in the presence of heteroscedasticity, they are no longer efficient. This means that the estimates do not have the minimum variance among all linear unbiased estimators, which can lead to less precise predictions.\n",
        "\n",
        "Impact on Model Fit: Heteroscedasticity can indicate that the model is not adequately capturing the relationship between the independent and dependent variables. It may suggest that there are omitted variables, incorrect functional forms, or that a transformation of the dependent variable is needed.\n",
        "\n",
        "Misleading Predictions: If a model is used for prediction without addressing heteroscedasticity, the predictions may be less reliable, especially for certain ranges of the independent variable(s) where the variance of the errors is larger.\n",
        "\n",
        "How to Detect Heteroscedasticity\n",
        "Residual Plots: Plotting the residuals against the predicted values or independent variables can help visualize heteroscedasticity.\n",
        "Statistical Tests: Tests such as the Breusch-Pagan test, White's test, or Goldfeld-Quandt test can be used to formally test for heteroscedasticity.\n",
        "How to Address Heteroscedasticity\n",
        "Transformations: Applying transformations to the dependent variable (e.g., logarithmic, square root) can sometimes stabilize the variance.\n",
        "\n",
        "Weighted Least Squares (WLS): This method gives different weights to different observations based on the variance of their errors, helping to correct for heteroscedasticity.\n",
        "\n",
        "Robust Standard Errors: Using robust standard errors can provide valid inference even in the presence of heteroscedasticity.\n",
        "\n",
        "Model Re-specification: Adding omitted variables, changing the functional form, or using different modeling techniques (e.g., generalized least squares) can help address the issue.\n",
        "\n",
        "Conclusion\n",
        "Heteroscedasticity is an important consideration in regression analysis, as it can affect the validity of statistical inferences and the efficiency of estimates. Detecting and addressing heteroscedasticity is crucial for building reliable and interpretable models."
      ],
      "metadata": {
        "id": "diaGkXL38eFN"
      }
    },
    {
      "cell_type": "markdown",
      "source": [
        "23. How does adding irrelevant predictors affect R-squared and Adjusted R-squared?"
      ],
      "metadata": {
        "id": "h9_hQBiE8eIA"
      }
    },
    {
      "cell_type": "markdown",
      "source": [
        "R-squared\n",
        "Definition: R-squared (R²) is a statistical measure that represents the proportion of the variance for the dependent variable that is explained by the independent variables in the model. It ranges from 0 to 1, where a higher value indicates a better fit of the model to the data.\n",
        "\n",
        "Effect of Adding Irrelevant Predictors:\n",
        "\n",
        "Always Increases or Stays the Same: When you add more predictors to a regression model, R-squared will either increase or remain the same. This is because R-squared is calculated based on the total sum of squares and the residual sum of squares, and adding predictors can only reduce the residual sum of squares (or leave it unchanged).\n",
        "Misleading Interpretation: As a result, R-squared can give a misleading impression of model improvement, even when the added predictors are irrelevant. A high R-squared value does not necessarily indicate a good model, especially if it is inflated by irrelevant variables.\n",
        "Adjusted R-squared\n",
        "Definition: Adjusted R-squared adjusts the R-squared value based on the number of predictors in the model. It accounts for the degrees of freedom and provides a more accurate measure of model fit when comparing models with different numbers of predictors. The formula for Adjusted R-squared is: [ \\text{Adjusted } R^2 = 1 - \\left( \\frac{(1 - R^2)(n - 1)}{n - p - 1} \\right) ] where ( n ) is the number of observations and ( p ) is the number of predictors.\n",
        "\n",
        "Effect of Adding Irrelevant Predictors:\n",
        "\n",
        "May Decrease: Adjusted R-squared can decrease when irrelevant predictors are added to the model. This is because the penalty for adding more predictors (the ( p ) term in the denominator) can outweigh the increase in R-squared from the additional predictors, especially if those predictors do not explain any additional variance in the dependent variable.\n",
        "More Reliable Metric: Because Adjusted R-squared accounts for the number of predictors, it is generally considered a more reliable metric for model comparison, particularly when evaluating models with different numbers of predictors.\n",
        "Summary\n",
        "R-squared: Always increases or remains the same when irrelevant predictors are added, which can lead to misleading conclusions about model performance.\n",
        "Adjusted R-squared: Can decrease when irrelevant predictors are added, providing a more accurate assessment of model fit and helping to prevent overfitting.\n",
        "Conclusion\n",
        "When building regression models, it is essential to consider the relevance of predictors. Relying solely on R-squared can lead to overfitting and misinterpretation of model quality, while Adjusted R-squared offers a more nuanced view that penalizes the inclusion of unnecessary variables."
      ],
      "metadata": {
        "id": "WCSH5uJH8eKY"
      }
    },
    {
      "cell_type": "markdown",
      "source": [
        "PRACTICAL QUESTIONS"
      ],
      "metadata": {
        "id": "dNHqyxES8eNb"
      }
    },
    {
      "cell_type": "markdown",
      "source": [
        "1. Write a Python script that calculates the Mean Squared Error (MSE) and Mean Absolute Error (MAE) for a\n",
        "multiple linear regression model using Seaborn's \"diamonds\" dataset."
      ],
      "metadata": {
        "id": "rWfpNjm98ePl"
      }
    },
    {
      "cell_type": "markdown",
      "source": [
        "To calculate the Mean Squared Error (MSE) and Mean Absolute Error (MAE) for a multiple linear regression model using Seaborn's \"diamonds\" dataset, you can follow these steps:\n",
        "\n",
        "Load the dataset.\n",
        "Preprocess the data (handle categorical variables, if necessary).\n",
        "Split the data into training and testing sets.\n",
        "Fit a multiple linear regression model.\n",
        "Make predictions on the test set.\n",
        "Calculate MSE and MAE.\n",
        "Here's a complete Python script that accomplishes this:"
      ],
      "metadata": {
        "id": "bS0bl9Pd8eTG"
      }
    },
    {
      "cell_type": "code",
      "source": [
        "import pandas as pd\n",
        "import numpy as np\n",
        "import seaborn as sns\n",
        "import statsmodels.api as sm\n",
        "from sklearn.model_selection import train_test_split\n",
        "from sklearn.metrics import mean_squared_error, mean_absolute_error\n",
        "\n",
        "# Load the diamonds dataset\n",
        "diamonds = sns.load_dataset('diamonds')\n",
        "\n",
        "# Display the first few rows of the dataset\n",
        "print(diamonds.head())\n",
        "\n",
        "# Preprocess the data\n",
        "# Convert categorical variables to dummy variables\n",
        "diamonds = pd.get_dummies(diamonds, drop_first=True)\n",
        "\n",
        "# Define the features (X) and the target variable (y)\n",
        "# Let's predict the price based on other features\n",
        "X = diamonds.drop('price', axis=1)\n",
        "y = diamonds['price']\n",
        "\n",
        "# Split the data into training and testing sets\n",
        "X_train, X_test, y_train, y_test = train_test_split(X, y, test_size=0.2, random_state=42)\n",
        "\n",
        "# Fit a multiple linear regression model\n",
        "X_train_sm = sm.add_constant(X_train)  # Add a constant term for the intercept\n",
        "model = sm.OLS(y_train, X_train_sm).fit()\n",
        "\n",
        "# Make predictions on the test set\n",
        "X_test_sm = sm.add_constant(X_test)  # Add a constant term for the intercept\n",
        "y_pred = model.predict(X_test_sm)\n",
        "\n",
        "# Calculate Mean Squared Error (MSE) and Mean Absolute Error (MAE)\n",
        "mse = mean_squared_error(y_test, y_pred)\n",
        "mae = mean_absolute_error(y_test, y_pred)\n",
        "\n",
        "# Print the results\n",
        "print(f'Mean Squared Error (MSE): {mse}')\n",
        "print(f'Mean Absolute Error (MAE): {mae}')"
      ],
      "metadata": {
        "colab": {
          "base_uri": "https://localhost:8080/",
          "height": 460
        },
        "id": "5INdH2qj-DQD",
        "outputId": "569bf69a-3b4c-47c6-f6ac-004ad836ceb7"
      },
      "execution_count": 8,
      "outputs": [
        {
          "output_type": "stream",
          "name": "stdout",
          "text": [
            "   carat      cut color clarity  depth  table  price     x     y     z\n",
            "0   0.23    Ideal     E     SI2   61.5   55.0    326  3.95  3.98  2.43\n",
            "1   0.21  Premium     E     SI1   59.8   61.0    326  3.89  3.84  2.31\n",
            "2   0.23     Good     E     VS1   56.9   65.0    327  4.05  4.07  2.31\n",
            "3   0.29  Premium     I     VS2   62.4   58.0    334  4.20  4.23  2.63\n",
            "4   0.31     Good     J     SI2   63.3   58.0    335  4.34  4.35  2.75\n"
          ]
        },
        {
          "output_type": "error",
          "ename": "ValueError",
          "evalue": "Pandas data cast to numpy dtype of object. Check input data with np.asarray(data).",
          "traceback": [
            "\u001b[0;31m---------------------------------------------------------------------------\u001b[0m",
            "\u001b[0;31mValueError\u001b[0m                                Traceback (most recent call last)",
            "\u001b[0;32m<ipython-input-8-a38ce12f2172>\u001b[0m in \u001b[0;36m<cell line: 28>\u001b[0;34m()\u001b[0m\n\u001b[1;32m     26\u001b[0m \u001b[0;31m# Fit a multiple linear regression model\u001b[0m\u001b[0;34m\u001b[0m\u001b[0;34m\u001b[0m\u001b[0m\n\u001b[1;32m     27\u001b[0m \u001b[0mX_train_sm\u001b[0m \u001b[0;34m=\u001b[0m \u001b[0msm\u001b[0m\u001b[0;34m.\u001b[0m\u001b[0madd_constant\u001b[0m\u001b[0;34m(\u001b[0m\u001b[0mX_train\u001b[0m\u001b[0;34m)\u001b[0m  \u001b[0;31m# Add a constant term for the intercept\u001b[0m\u001b[0;34m\u001b[0m\u001b[0;34m\u001b[0m\u001b[0m\n\u001b[0;32m---> 28\u001b[0;31m \u001b[0mmodel\u001b[0m \u001b[0;34m=\u001b[0m \u001b[0msm\u001b[0m\u001b[0;34m.\u001b[0m\u001b[0mOLS\u001b[0m\u001b[0;34m(\u001b[0m\u001b[0my_train\u001b[0m\u001b[0;34m,\u001b[0m \u001b[0mX_train_sm\u001b[0m\u001b[0;34m)\u001b[0m\u001b[0;34m.\u001b[0m\u001b[0mfit\u001b[0m\u001b[0;34m(\u001b[0m\u001b[0;34m)\u001b[0m\u001b[0;34m\u001b[0m\u001b[0;34m\u001b[0m\u001b[0m\n\u001b[0m\u001b[1;32m     29\u001b[0m \u001b[0;34m\u001b[0m\u001b[0m\n\u001b[1;32m     30\u001b[0m \u001b[0;31m# Make predictions on the test set\u001b[0m\u001b[0;34m\u001b[0m\u001b[0;34m\u001b[0m\u001b[0m\n",
            "\u001b[0;32m/usr/local/lib/python3.10/dist-packages/statsmodels/regression/linear_model.py\u001b[0m in \u001b[0;36m__init__\u001b[0;34m(self, endog, exog, missing, hasconst, **kwargs)\u001b[0m\n\u001b[1;32m    919\u001b[0m                    \"An exception will be raised in the next version.\")\n\u001b[1;32m    920\u001b[0m             \u001b[0mwarnings\u001b[0m\u001b[0;34m.\u001b[0m\u001b[0mwarn\u001b[0m\u001b[0;34m(\u001b[0m\u001b[0mmsg\u001b[0m\u001b[0;34m,\u001b[0m \u001b[0mValueWarning\u001b[0m\u001b[0;34m)\u001b[0m\u001b[0;34m\u001b[0m\u001b[0;34m\u001b[0m\u001b[0m\n\u001b[0;32m--> 921\u001b[0;31m         super().__init__(endog, exog, missing=missing,\n\u001b[0m\u001b[1;32m    922\u001b[0m                                   hasconst=hasconst, **kwargs)\n\u001b[1;32m    923\u001b[0m         \u001b[0;32mif\u001b[0m \u001b[0;34m\"weights\"\u001b[0m \u001b[0;32min\u001b[0m \u001b[0mself\u001b[0m\u001b[0;34m.\u001b[0m\u001b[0m_init_keys\u001b[0m\u001b[0;34m:\u001b[0m\u001b[0;34m\u001b[0m\u001b[0;34m\u001b[0m\u001b[0m\n",
            "\u001b[0;32m/usr/local/lib/python3.10/dist-packages/statsmodels/regression/linear_model.py\u001b[0m in \u001b[0;36m__init__\u001b[0;34m(self, endog, exog, weights, missing, hasconst, **kwargs)\u001b[0m\n\u001b[1;32m    744\u001b[0m         \u001b[0;32melse\u001b[0m\u001b[0;34m:\u001b[0m\u001b[0;34m\u001b[0m\u001b[0;34m\u001b[0m\u001b[0m\n\u001b[1;32m    745\u001b[0m             \u001b[0mweights\u001b[0m \u001b[0;34m=\u001b[0m \u001b[0mweights\u001b[0m\u001b[0;34m.\u001b[0m\u001b[0msqueeze\u001b[0m\u001b[0;34m(\u001b[0m\u001b[0;34m)\u001b[0m\u001b[0;34m\u001b[0m\u001b[0;34m\u001b[0m\u001b[0m\n\u001b[0;32m--> 746\u001b[0;31m         super().__init__(endog, exog, missing=missing,\n\u001b[0m\u001b[1;32m    747\u001b[0m                                   weights=weights, hasconst=hasconst, **kwargs)\n\u001b[1;32m    748\u001b[0m         \u001b[0mnobs\u001b[0m \u001b[0;34m=\u001b[0m \u001b[0mself\u001b[0m\u001b[0;34m.\u001b[0m\u001b[0mexog\u001b[0m\u001b[0;34m.\u001b[0m\u001b[0mshape\u001b[0m\u001b[0;34m[\u001b[0m\u001b[0;36m0\u001b[0m\u001b[0;34m]\u001b[0m\u001b[0;34m\u001b[0m\u001b[0;34m\u001b[0m\u001b[0m\n",
            "\u001b[0;32m/usr/local/lib/python3.10/dist-packages/statsmodels/regression/linear_model.py\u001b[0m in \u001b[0;36m__init__\u001b[0;34m(self, endog, exog, **kwargs)\u001b[0m\n\u001b[1;32m    198\u001b[0m     \"\"\"\n\u001b[1;32m    199\u001b[0m     \u001b[0;32mdef\u001b[0m \u001b[0m__init__\u001b[0m\u001b[0;34m(\u001b[0m\u001b[0mself\u001b[0m\u001b[0;34m,\u001b[0m \u001b[0mendog\u001b[0m\u001b[0;34m,\u001b[0m \u001b[0mexog\u001b[0m\u001b[0;34m,\u001b[0m \u001b[0;34m**\u001b[0m\u001b[0mkwargs\u001b[0m\u001b[0;34m)\u001b[0m\u001b[0;34m:\u001b[0m\u001b[0;34m\u001b[0m\u001b[0;34m\u001b[0m\u001b[0m\n\u001b[0;32m--> 200\u001b[0;31m         \u001b[0msuper\u001b[0m\u001b[0;34m(\u001b[0m\u001b[0;34m)\u001b[0m\u001b[0;34m.\u001b[0m\u001b[0m__init__\u001b[0m\u001b[0;34m(\u001b[0m\u001b[0mendog\u001b[0m\u001b[0;34m,\u001b[0m \u001b[0mexog\u001b[0m\u001b[0;34m,\u001b[0m \u001b[0;34m**\u001b[0m\u001b[0mkwargs\u001b[0m\u001b[0;34m)\u001b[0m\u001b[0;34m\u001b[0m\u001b[0;34m\u001b[0m\u001b[0m\n\u001b[0m\u001b[1;32m    201\u001b[0m         \u001b[0mself\u001b[0m\u001b[0;34m.\u001b[0m\u001b[0mpinv_wexog\u001b[0m\u001b[0;34m:\u001b[0m \u001b[0mFloat64Array\u001b[0m \u001b[0;34m|\u001b[0m \u001b[0;32mNone\u001b[0m \u001b[0;34m=\u001b[0m \u001b[0;32mNone\u001b[0m\u001b[0;34m\u001b[0m\u001b[0;34m\u001b[0m\u001b[0m\n\u001b[1;32m    202\u001b[0m         \u001b[0mself\u001b[0m\u001b[0;34m.\u001b[0m\u001b[0m_data_attr\u001b[0m\u001b[0;34m.\u001b[0m\u001b[0mextend\u001b[0m\u001b[0;34m(\u001b[0m\u001b[0;34m[\u001b[0m\u001b[0;34m'pinv_wexog'\u001b[0m\u001b[0;34m,\u001b[0m \u001b[0;34m'wendog'\u001b[0m\u001b[0;34m,\u001b[0m \u001b[0;34m'wexog'\u001b[0m\u001b[0;34m,\u001b[0m \u001b[0;34m'weights'\u001b[0m\u001b[0;34m]\u001b[0m\u001b[0;34m)\u001b[0m\u001b[0;34m\u001b[0m\u001b[0;34m\u001b[0m\u001b[0m\n",
            "\u001b[0;32m/usr/local/lib/python3.10/dist-packages/statsmodels/base/model.py\u001b[0m in \u001b[0;36m__init__\u001b[0;34m(self, endog, exog, **kwargs)\u001b[0m\n\u001b[1;32m    268\u001b[0m \u001b[0;34m\u001b[0m\u001b[0m\n\u001b[1;32m    269\u001b[0m     \u001b[0;32mdef\u001b[0m \u001b[0m__init__\u001b[0m\u001b[0;34m(\u001b[0m\u001b[0mself\u001b[0m\u001b[0;34m,\u001b[0m \u001b[0mendog\u001b[0m\u001b[0;34m,\u001b[0m \u001b[0mexog\u001b[0m\u001b[0;34m=\u001b[0m\u001b[0;32mNone\u001b[0m\u001b[0;34m,\u001b[0m \u001b[0;34m**\u001b[0m\u001b[0mkwargs\u001b[0m\u001b[0;34m)\u001b[0m\u001b[0;34m:\u001b[0m\u001b[0;34m\u001b[0m\u001b[0;34m\u001b[0m\u001b[0m\n\u001b[0;32m--> 270\u001b[0;31m         \u001b[0msuper\u001b[0m\u001b[0;34m(\u001b[0m\u001b[0;34m)\u001b[0m\u001b[0;34m.\u001b[0m\u001b[0m__init__\u001b[0m\u001b[0;34m(\u001b[0m\u001b[0mendog\u001b[0m\u001b[0;34m,\u001b[0m \u001b[0mexog\u001b[0m\u001b[0;34m,\u001b[0m \u001b[0;34m**\u001b[0m\u001b[0mkwargs\u001b[0m\u001b[0;34m)\u001b[0m\u001b[0;34m\u001b[0m\u001b[0;34m\u001b[0m\u001b[0m\n\u001b[0m\u001b[1;32m    271\u001b[0m         \u001b[0mself\u001b[0m\u001b[0;34m.\u001b[0m\u001b[0minitialize\u001b[0m\u001b[0;34m(\u001b[0m\u001b[0;34m)\u001b[0m\u001b[0;34m\u001b[0m\u001b[0;34m\u001b[0m\u001b[0m\n\u001b[1;32m    272\u001b[0m \u001b[0;34m\u001b[0m\u001b[0m\n",
            "\u001b[0;32m/usr/local/lib/python3.10/dist-packages/statsmodels/base/model.py\u001b[0m in \u001b[0;36m__init__\u001b[0;34m(self, endog, exog, **kwargs)\u001b[0m\n\u001b[1;32m     93\u001b[0m         \u001b[0mmissing\u001b[0m \u001b[0;34m=\u001b[0m \u001b[0mkwargs\u001b[0m\u001b[0;34m.\u001b[0m\u001b[0mpop\u001b[0m\u001b[0;34m(\u001b[0m\u001b[0;34m'missing'\u001b[0m\u001b[0;34m,\u001b[0m \u001b[0;34m'none'\u001b[0m\u001b[0;34m)\u001b[0m\u001b[0;34m\u001b[0m\u001b[0;34m\u001b[0m\u001b[0m\n\u001b[1;32m     94\u001b[0m         \u001b[0mhasconst\u001b[0m \u001b[0;34m=\u001b[0m \u001b[0mkwargs\u001b[0m\u001b[0;34m.\u001b[0m\u001b[0mpop\u001b[0m\u001b[0;34m(\u001b[0m\u001b[0;34m'hasconst'\u001b[0m\u001b[0;34m,\u001b[0m \u001b[0;32mNone\u001b[0m\u001b[0;34m)\u001b[0m\u001b[0;34m\u001b[0m\u001b[0;34m\u001b[0m\u001b[0m\n\u001b[0;32m---> 95\u001b[0;31m         self.data = self._handle_data(endog, exog, missing, hasconst,\n\u001b[0m\u001b[1;32m     96\u001b[0m                                       **kwargs)\n\u001b[1;32m     97\u001b[0m         \u001b[0mself\u001b[0m\u001b[0;34m.\u001b[0m\u001b[0mk_constant\u001b[0m \u001b[0;34m=\u001b[0m \u001b[0mself\u001b[0m\u001b[0;34m.\u001b[0m\u001b[0mdata\u001b[0m\u001b[0;34m.\u001b[0m\u001b[0mk_constant\u001b[0m\u001b[0;34m\u001b[0m\u001b[0;34m\u001b[0m\u001b[0m\n",
            "\u001b[0;32m/usr/local/lib/python3.10/dist-packages/statsmodels/base/model.py\u001b[0m in \u001b[0;36m_handle_data\u001b[0;34m(self, endog, exog, missing, hasconst, **kwargs)\u001b[0m\n\u001b[1;32m    133\u001b[0m \u001b[0;34m\u001b[0m\u001b[0m\n\u001b[1;32m    134\u001b[0m     \u001b[0;32mdef\u001b[0m \u001b[0m_handle_data\u001b[0m\u001b[0;34m(\u001b[0m\u001b[0mself\u001b[0m\u001b[0;34m,\u001b[0m \u001b[0mendog\u001b[0m\u001b[0;34m,\u001b[0m \u001b[0mexog\u001b[0m\u001b[0;34m,\u001b[0m \u001b[0mmissing\u001b[0m\u001b[0;34m,\u001b[0m \u001b[0mhasconst\u001b[0m\u001b[0;34m,\u001b[0m \u001b[0;34m**\u001b[0m\u001b[0mkwargs\u001b[0m\u001b[0;34m)\u001b[0m\u001b[0;34m:\u001b[0m\u001b[0;34m\u001b[0m\u001b[0;34m\u001b[0m\u001b[0m\n\u001b[0;32m--> 135\u001b[0;31m         \u001b[0mdata\u001b[0m \u001b[0;34m=\u001b[0m \u001b[0mhandle_data\u001b[0m\u001b[0;34m(\u001b[0m\u001b[0mendog\u001b[0m\u001b[0;34m,\u001b[0m \u001b[0mexog\u001b[0m\u001b[0;34m,\u001b[0m \u001b[0mmissing\u001b[0m\u001b[0;34m,\u001b[0m \u001b[0mhasconst\u001b[0m\u001b[0;34m,\u001b[0m \u001b[0;34m**\u001b[0m\u001b[0mkwargs\u001b[0m\u001b[0;34m)\u001b[0m\u001b[0;34m\u001b[0m\u001b[0;34m\u001b[0m\u001b[0m\n\u001b[0m\u001b[1;32m    136\u001b[0m         \u001b[0;31m# kwargs arrays could have changed, easier to just attach here\u001b[0m\u001b[0;34m\u001b[0m\u001b[0;34m\u001b[0m\u001b[0m\n\u001b[1;32m    137\u001b[0m         \u001b[0;32mfor\u001b[0m \u001b[0mkey\u001b[0m \u001b[0;32min\u001b[0m \u001b[0mkwargs\u001b[0m\u001b[0;34m:\u001b[0m\u001b[0;34m\u001b[0m\u001b[0;34m\u001b[0m\u001b[0m\n",
            "\u001b[0;32m/usr/local/lib/python3.10/dist-packages/statsmodels/base/data.py\u001b[0m in \u001b[0;36mhandle_data\u001b[0;34m(endog, exog, missing, hasconst, **kwargs)\u001b[0m\n\u001b[1;32m    673\u001b[0m \u001b[0;34m\u001b[0m\u001b[0m\n\u001b[1;32m    674\u001b[0m     \u001b[0mklass\u001b[0m \u001b[0;34m=\u001b[0m \u001b[0mhandle_data_class_factory\u001b[0m\u001b[0;34m(\u001b[0m\u001b[0mendog\u001b[0m\u001b[0;34m,\u001b[0m \u001b[0mexog\u001b[0m\u001b[0;34m)\u001b[0m\u001b[0;34m\u001b[0m\u001b[0;34m\u001b[0m\u001b[0m\n\u001b[0;32m--> 675\u001b[0;31m     return klass(endog, exog=exog, missing=missing, hasconst=hasconst,\n\u001b[0m\u001b[1;32m    676\u001b[0m                  **kwargs)\n",
            "\u001b[0;32m/usr/local/lib/python3.10/dist-packages/statsmodels/base/data.py\u001b[0m in \u001b[0;36m__init__\u001b[0;34m(self, endog, exog, missing, hasconst, **kwargs)\u001b[0m\n\u001b[1;32m     82\u001b[0m             \u001b[0mself\u001b[0m\u001b[0;34m.\u001b[0m\u001b[0morig_endog\u001b[0m \u001b[0;34m=\u001b[0m \u001b[0mendog\u001b[0m\u001b[0;34m\u001b[0m\u001b[0;34m\u001b[0m\u001b[0m\n\u001b[1;32m     83\u001b[0m             \u001b[0mself\u001b[0m\u001b[0;34m.\u001b[0m\u001b[0morig_exog\u001b[0m \u001b[0;34m=\u001b[0m \u001b[0mexog\u001b[0m\u001b[0;34m\u001b[0m\u001b[0;34m\u001b[0m\u001b[0m\n\u001b[0;32m---> 84\u001b[0;31m             \u001b[0mself\u001b[0m\u001b[0;34m.\u001b[0m\u001b[0mendog\u001b[0m\u001b[0;34m,\u001b[0m \u001b[0mself\u001b[0m\u001b[0;34m.\u001b[0m\u001b[0mexog\u001b[0m \u001b[0;34m=\u001b[0m \u001b[0mself\u001b[0m\u001b[0;34m.\u001b[0m\u001b[0m_convert_endog_exog\u001b[0m\u001b[0;34m(\u001b[0m\u001b[0mendog\u001b[0m\u001b[0;34m,\u001b[0m \u001b[0mexog\u001b[0m\u001b[0;34m)\u001b[0m\u001b[0;34m\u001b[0m\u001b[0;34m\u001b[0m\u001b[0m\n\u001b[0m\u001b[1;32m     85\u001b[0m \u001b[0;34m\u001b[0m\u001b[0m\n\u001b[1;32m     86\u001b[0m         \u001b[0mself\u001b[0m\u001b[0;34m.\u001b[0m\u001b[0mconst_idx\u001b[0m \u001b[0;34m=\u001b[0m \u001b[0;32mNone\u001b[0m\u001b[0;34m\u001b[0m\u001b[0;34m\u001b[0m\u001b[0m\n",
            "\u001b[0;32m/usr/local/lib/python3.10/dist-packages/statsmodels/base/data.py\u001b[0m in \u001b[0;36m_convert_endog_exog\u001b[0;34m(self, endog, exog)\u001b[0m\n\u001b[1;32m    507\u001b[0m         \u001b[0mexog\u001b[0m \u001b[0;34m=\u001b[0m \u001b[0mexog\u001b[0m \u001b[0;32mif\u001b[0m \u001b[0mexog\u001b[0m \u001b[0;32mis\u001b[0m \u001b[0;32mNone\u001b[0m \u001b[0;32melse\u001b[0m \u001b[0mnp\u001b[0m\u001b[0;34m.\u001b[0m\u001b[0masarray\u001b[0m\u001b[0;34m(\u001b[0m\u001b[0mexog\u001b[0m\u001b[0;34m)\u001b[0m\u001b[0;34m\u001b[0m\u001b[0;34m\u001b[0m\u001b[0m\n\u001b[1;32m    508\u001b[0m         \u001b[0;32mif\u001b[0m \u001b[0mendog\u001b[0m\u001b[0;34m.\u001b[0m\u001b[0mdtype\u001b[0m \u001b[0;34m==\u001b[0m \u001b[0mobject\u001b[0m \u001b[0;32mor\u001b[0m \u001b[0mexog\u001b[0m \u001b[0;32mis\u001b[0m \u001b[0;32mnot\u001b[0m \u001b[0;32mNone\u001b[0m \u001b[0;32mand\u001b[0m \u001b[0mexog\u001b[0m\u001b[0;34m.\u001b[0m\u001b[0mdtype\u001b[0m \u001b[0;34m==\u001b[0m \u001b[0mobject\u001b[0m\u001b[0;34m:\u001b[0m\u001b[0;34m\u001b[0m\u001b[0;34m\u001b[0m\u001b[0m\n\u001b[0;32m--> 509\u001b[0;31m             raise ValueError(\"Pandas data cast to numpy dtype of object. \"\n\u001b[0m\u001b[1;32m    510\u001b[0m                              \"Check input data with np.asarray(data).\")\n\u001b[1;32m    511\u001b[0m         \u001b[0;32mreturn\u001b[0m \u001b[0msuper\u001b[0m\u001b[0;34m(\u001b[0m\u001b[0;34m)\u001b[0m\u001b[0;34m.\u001b[0m\u001b[0m_convert_endog_exog\u001b[0m\u001b[0;34m(\u001b[0m\u001b[0mendog\u001b[0m\u001b[0;34m,\u001b[0m \u001b[0mexog\u001b[0m\u001b[0;34m)\u001b[0m\u001b[0;34m\u001b[0m\u001b[0;34m\u001b[0m\u001b[0m\n",
            "\u001b[0;31mValueError\u001b[0m: Pandas data cast to numpy dtype of object. Check input data with np.asarray(data)."
          ]
        }
      ]
    },
    {
      "cell_type": "markdown",
      "source": [
        "Explanation of the Code:\n",
        "Loading the Dataset: The diamonds dataset is loaded using Seaborn.\n",
        "Preprocessing: Categorical variables are converted to dummy variables using pd.get_dummies(), which allows us to use them in the regression model.\n",
        "Defining Features and Target: The features (X) are all columns except for the target variable (price).\n",
        "Splitting the Data: The dataset is split into training and testing sets using train_test_split().\n",
        "Fitting the Model: A multiple linear regression model is fitted using the statsmodels library.\n",
        "Making Predictions: Predictions are made on the test set.\n",
        "Calculating Errors: MSE and MAE are calculated using mean_squared_error() and mean_absolute_error() from sklearn.metrics.\n",
        "Output: The results are printed to the console."
      ],
      "metadata": {
        "id": "xJ-WIUHU8eVc"
      }
    },
    {
      "cell_type": "markdown",
      "source": [
        "2.  Write a Python script to calculate and print Mean Squared Error (MSE), Mean Absolute Error (MAE), and\n",
        "Root Mean Squared Error (RMSE) for a linear regression modelK"
      ],
      "metadata": {
        "id": "R1YFhL3H-R5z"
      }
    },
    {
      "cell_type": "markdown",
      "source": [
        "Certainly! Below is a Python script that calculates and prints the Mean Squared Error (MSE), Mean Absolute Error (MAE), and Root Mean Squared Error (RMSE) for a linear regression model using a synthetic dataset.\n",
        "\n",
        "Python Script to Calculate MSE, MAE, and RMSE"
      ],
      "metadata": {
        "id": "-yWs1DqO-STT"
      }
    },
    {
      "cell_type": "markdown",
      "source": [
        "3. Write a Python script to check if the assumptions of linear regression are met. Use a scatter plot to check linearity, residuals plot for homoscedasticity, and correlation matrix for multicollinearity"
      ],
      "metadata": {
        "id": "ZAYKlsUn__qL"
      }
    },
    {
      "cell_type": "markdown",
      "source": [
        "To check if the assumptions of linear regression are met, we can use various visualizations and statistical methods. Below is a Python script that performs the following checks:\n",
        "\n",
        "Linearity: A scatter plot of the independent variable(s) against the dependent variable.\n",
        "Homoscedasticity: A residuals plot to check for constant variance of residuals.\n",
        "Multicollinearity: A correlation matrix to check for high correlations between independent variables.\n",
        "Python Script"
      ],
      "metadata": {
        "id": "hLkW_5nC-SYd"
      }
    },
    {
      "cell_type": "code",
      "source": [
        "# Import necessary libraries\n",
        "import numpy as np\n",
        "import pandas as pd\n",
        "import seaborn as sns\n",
        "import matplotlib.pyplot as plt\n",
        "from sklearn.model_selection import train_test_split\n",
        "from sklearn.linear_model import LinearRegression\n",
        "from sklearn.metrics import mean_squared_error, mean_absolute_error\n",
        "\n",
        "# Generate a synthetic dataset\n",
        "np.random.seed(42)  # For reproducibility\n",
        "X = 2 * np.random.rand(100, 1)  # 100 samples, single feature\n",
        "y = 4 + 3 * X + np.random.randn(100, 1)  # Linear relation with some noise\n",
        "\n",
        "# Convert to DataFrame for better handling\n",
        "data = pd.DataFrame(np.hstack((X, y)), columns=['Feature', 'Target'])\n",
        "\n",
        "# Split the dataset into training and testing sets\n",
        "X_train, X_test, y_train, y_test = train_test_split(data[['Feature']], data['Target'], test_size=0.2, random_state=42)\n",
        "\n",
        "# Create a linear regression model\n",
        "model = LinearRegression()\n",
        "\n",
        "# Fit the model on the training data\n",
        "model.fit(X_train, y_train)\n",
        "\n",
        "# Make predictions on the test set\n",
        "y_pred = model.predict(X_test)\n",
        "\n",
        "# Calculate residuals\n",
        "residuals = y_test - y_pred\n",
        "\n",
        "# 1. Check Linearity\n",
        "plt.figure(figsize=(10, 5))\n",
        "plt.scatter(data['Feature'], data['Target'], color='blue', label='Data Points')\n",
        "plt.plot(X_test, y_pred, color='red', label='Regression Line')\n",
        "plt.title('Linearity Check')\n",
        "plt.xlabel('Feature')\n",
        "plt.ylabel('Target')\n",
        "plt.legend()\n",
        "plt.show()\n",
        "\n",
        "# 2. Check Homoscedasticity\n",
        "plt.figure(figsize=(10, 5))\n",
        "plt.scatter(y_pred, residuals, color='green')\n",
        "plt.axhline(0, color='red', linestyle='--')\n",
        "plt.title('Residuals Plot (Homoscedasticity Check)')\n",
        "plt.xlabel('Predicted Values')\n",
        "plt.ylabel('Residuals')\n",
        "plt.show()\n",
        "\n",
        "# 3. Check Multicollinearity\n",
        "# For this example, we only have one feature, but let's create a correlation matrix\n",
        "# If you have multiple features, you can use this part to check multicollinearity\n",
        "correlation_matrix = data.corr()\n",
        "plt.figure(figsize=(8, 6))\n",
        "sns.heatmap(correlation_matrix, annot=True, cmap='coolwarm', fmt='.2f')\n",
        "plt.title('Correlation')\n"
      ],
      "metadata": {
        "colab": {
          "base_uri": "https://localhost:8080/",
          "height": 1000
        },
        "id": "9Jk2GkXVAPo_",
        "outputId": "06dadb00-ad0b-40f6-d2c0-b5d6c8e4f490"
      },
      "execution_count": 10,
      "outputs": [
        {
          "output_type": "display_data",
          "data": {
            "text/plain": [
              "<Figure size 1000x500 with 1 Axes>"
            ],
            "image/png": "[encoded data removed]"
          },
          "metadata": {}
        },
        {
          "output_type": "display_data",
          "data": {
            "text/plain": [
              "<Figure size 1000x500 with 1 Axes>"
            ],
            "image/png": "[encoded data removed]"
          },
          "metadata": {}
        },
        {
          "output_type": "execute_result",
          "data": {
            "text/plain": [
              "Text(0.5, 1.0, 'Correlation')"
            ]
          },
          "metadata": {},
          "execution_count": 10
        },
        {
          "output_type": "display_data",
          "data": {
            "text/plain": [
              "<Figure size 800x600 with 2 Axes>"
            ],
            "image/png": "[encoded data removed]"
          },
          "metadata": {}
        }
      ]
    },
    {
      "cell_type": "markdown",
      "source": [
        "5.\n",
        "Implement a simple linear regression model on a dataset and print the model's coefficients, intercept,\n",
        "and R-squared score"
      ],
      "metadata": {
        "id": "49h5pgvq-Sa3"
      }
    },
    {
      "cell_type": "markdown",
      "source": [
        "Certainly! Below is a complete Python script that implements a simple linear regression model on a synthetic dataset. The script will print the model's coefficients, intercept, and R-squared score.\n",
        "\n",
        "Python Script for Simple Linear Regressionv\n",
        "\n"
      ],
      "metadata": {
        "id": "1BiAhOXR-SeQ"
      }
    },
    {
      "cell_type": "markdown",
      "source": [],
      "metadata": {
        "id": "hPZRvVG9-SkK"
      }
    },
    {
      "cell_type": "markdown",
      "source": [],
      "metadata": {
        "id": "Pybr6jDl-Smk"
      }
    },
    {
      "cell_type": "code",
      "source": [
        "# Import necessary libraries\n",
        "import numpy as np\n",
        "import pandas as pd\n",
        "from sklearn.model_selection import train_test_split\n",
        "from sklearn.linear_model import LinearRegression\n",
        "from sklearn.metrics import r2_score\n",
        "\n",
        "# Generate a synthetic dataset\n",
        "np.random.seed(42)  # For reproducibility\n",
        "X = 2 * np.random.rand(100, 1)  # 100 samples, single feature\n",
        "y = 4 + 3 * X + np.random.randn(100, 1)  # Linear relation with some noise\n",
        "\n",
        "# Convert to DataFrame for better handling\n",
        "data = pd.DataFrame(np.hstack((X, y)), columns=['Feature', 'Target'])\n",
        "\n",
        "# Separate the features and target variable\n",
        "X = data[['Feature']]\n",
        "y = data['Target']\n",
        "\n",
        "# Split the dataset into training and testing sets\n",
        "X_train, X_test, y_train, y_test = train_test_split(X, y, test_size=0.2, random_state=42)\n",
        "\n",
        "# Create a linear regression model\n",
        "model = LinearRegression()\n",
        "\n",
        "# Fit the model on the training data\n",
        "model.fit(X_train, y_train)\n",
        "\n",
        "# Make predictions on the test set\n",
        "y_pred = model.predict(X_test)\n",
        "\n",
        "# Get the model's coefficients and intercept\n",
        "coefficients = model.coef_\n",
        "intercept = model.intercept_\n",
        "\n",
        "# Calculate R-squared score\n",
        "r_squared = r2_score(y_test, y_pred)\n",
        "\n",
        "# Print the results\n",
        "print(f'Model Coefficients: {coefficients[0]:.2f}')  # Access the first element directly\n",
        "print(f'Model Intercept: {intercept[0]:.2f}')        # Access the first element directly\n",
        "print(f'R-squared Score: {r_squared:.2f}')"
      ],
      "metadata": {
        "colab": {
          "base_uri": "https://localhost:8080/",
          "height": 211
        },
        "id": "Et_RSgxaCbCU",
        "outputId": "8dcb5b71-675a-4244-f0b5-26a8c92d6c60"
      },
      "execution_count": 13,
      "outputs": [
        {
          "output_type": "stream",
          "name": "stdout",
          "text": [
            "Model Coefficients: 2.80\n"
          ]
        },
        {
          "output_type": "error",
          "ename": "IndexError",
          "evalue": "invalid index to scalar variable.",
          "traceback": [
            "\u001b[0;31m---------------------------------------------------------------------------\u001b[0m",
            "\u001b[0;31mIndexError\u001b[0m                                Traceback (most recent call last)",
            "\u001b[0;32m<ipython-input-13-0d923aabb8f7>\u001b[0m in \u001b[0;36m<cell line: 41>\u001b[0;34m()\u001b[0m\n\u001b[1;32m     39\u001b[0m \u001b[0;31m# Print the results\u001b[0m\u001b[0;34m\u001b[0m\u001b[0;34m\u001b[0m\u001b[0m\n\u001b[1;32m     40\u001b[0m \u001b[0mprint\u001b[0m\u001b[0;34m(\u001b[0m\u001b[0;34mf'Model Coefficients: {coefficients[0]:.2f}'\u001b[0m\u001b[0;34m)\u001b[0m  \u001b[0;31m# Access the first element directly\u001b[0m\u001b[0;34m\u001b[0m\u001b[0;34m\u001b[0m\u001b[0m\n\u001b[0;32m---> 41\u001b[0;31m \u001b[0mprint\u001b[0m\u001b[0;34m(\u001b[0m\u001b[0;34mf'Model Intercept: {intercept[0]:.2f}'\u001b[0m\u001b[0;34m)\u001b[0m        \u001b[0;31m# Access the first element directly\u001b[0m\u001b[0;34m\u001b[0m\u001b[0;34m\u001b[0m\u001b[0m\n\u001b[0m\u001b[1;32m     42\u001b[0m \u001b[0mprint\u001b[0m\u001b[0;34m(\u001b[0m\u001b[0;34mf'R-squared Score: {r_squared:.2f}'\u001b[0m\u001b[0;34m)\u001b[0m\u001b[0;34m\u001b[0m\u001b[0;34m\u001b[0m\u001b[0m\n",
            "\u001b[0;31mIndexError\u001b[0m: invalid index to scalar variable."
          ]
        }
      ]
    },
    {
      "cell_type": "code",
      "source": [],
      "metadata": {
        "id": "FIkS3NeLCgbR"
      },
      "execution_count": null,
      "outputs": []
    },
    {
      "cell_type": "markdown",
      "source": [
        "6.  Fit a simple linear regression model to the 'tips' dataset and print the slope and intercept of the regression\n",
        "line"
      ],
      "metadata": {
        "id": "xJYqxlKoCxlc"
      }
    },
    {
      "cell_type": "code",
      "source": [
        "pip install seaborn"
      ],
      "metadata": {
        "colab": {
          "base_uri": "https://localhost:8080/"
        },
        "id": "pZrcQxdeC3F-",
        "outputId": "6b0d648e-eba4-465d-ff02-fe954bbf2ee9"
      },
      "execution_count": 14,
      "outputs": [
        {
          "output_type": "stream",
          "name": "stdout",
          "text": [
            "Requirement already satisfied: seaborn in /usr/local/lib/python3.10/dist-packages (0.13.2)\n",
            "Requirement already satisfied: numpy!=1.24.0,>=1.20 in /usr/local/lib/python3.10/dist-packages (from seaborn) (1.26.4)\n",
            "Requirement already satisfied: pandas>=1.2 in /usr/local/lib/python3.10/dist-packages (from seaborn) (2.2.2)\n",
            "Requirement already satisfied: matplotlib!=3.6.1,>=3.4 in /usr/local/lib/python3.10/dist-packages (from seaborn) (3.8.0)\n",
            "Requirement already satisfied: contourpy>=1.0.1 in /usr/local/lib/python3.10/dist-packages (from matplotlib!=3.6.1,>=3.4->seaborn) (1.3.1)\n",
            "Requirement already satisfied: cycler>=0.10 in /usr/local/lib/python3.10/dist-packages (from matplotlib!=3.6.1,>=3.4->seaborn) (0.12.1)\n",
            "Requirement already satisfied: fonttools>=4.22.0 in /usr/local/lib/python3.10/dist-packages (from matplotlib!=3.6.1,>=3.4->seaborn) (4.55.3)\n",
            "Requirement already satisfied: kiwisolver>=1.0.1 in /usr/local/lib/python3.10/dist-packages (from matplotlib!=3.6.1,>=3.4->seaborn) (1.4.7)\n",
            "Requirement already satisfied: packaging>=20.0 in /usr/local/lib/python3.10/dist-packages (from matplotlib!=3.6.1,>=3.4->seaborn) (24.2)\n",
            "Requirement already satisfied: pillow>=6.2.0 in /usr/local/lib/python3.10/dist-packages (from matplotlib!=3.6.1,>=3.4->seaborn) (11.0.0)\n",
            "Requirement already satisfied: pyparsing>=2.3.1 in /usr/local/lib/python3.10/dist-packages (from matplotlib!=3.6.1,>=3.4->seaborn) (3.2.0)\n",
            "Requirement already satisfied: python-dateutil>=2.7 in /usr/local/lib/python3.10/dist-packages (from matplotlib!=3.6.1,>=3.4->seaborn) (2.8.2)\n",
            "Requirement already satisfied: pytz>=2020.1 in /usr/local/lib/python3.10/dist-packages (from pandas>=1.2->seaborn) (2024.2)\n",
            "Requirement already satisfied: tzdata>=2022.7 in /usr/local/lib/python3.10/dist-packages (from pandas>=1.2->seaborn) (2024.2)\n",
            "Requirement already satisfied: six>=1.5 in /usr/local/lib/python3.10/dist-packages (from python-dateutil>=2.7->matplotlib!=3.6.1,>=3.4->seaborn) (1.17.0)\n"
          ]
        }
      ]
    },
    {
      "cell_type": "markdown",
      "source": [
        "To fit a simple linear regression model to the 'tips' dataset from the Seaborn library and print the slope and intercept of the regression line, you can follow the steps below. The 'tips' dataset contains information about restaurant tips, including total bill amounts and tip amounts, which we can use to predict tips based on the total bill.\n",
        "\n",
        "Python Script\n",
        "Here's a complete script that accomplishes this:\n",
        "\n"
      ],
      "metadata": {
        "id": "itGrQbMvDAAt"
      }
    },
    {
      "cell_type": "code",
      "source": [],
      "metadata": {
        "id": "Qu6Ox4sgDKH4"
      },
      "execution_count": null,
      "outputs": []
    },
    {
      "cell_type": "code",
      "source": [
        "# Import necessary libraries\n",
        "import pandas as pd\n",
        "import seaborn as sns\n",
        "from sklearn.linear_model import LinearRegression\n",
        "import numpy as np\n",
        "\n",
        "# Load the 'tips' dataset\n",
        "tips = sns.load_dataset('tips')\n",
        "\n",
        "# Display the first few rows of the dataset\n",
        "print(tips.head())\n",
        "\n",
        "# Prepare the data\n",
        "# We will predict 'tip' based on 'total_bill'\n",
        "X = tips[['total_bill']]  # Feature\n",
        "y = tips['tip']           # Target\n",
        "\n",
        "# Create a linear regression model\n",
        "model = LinearRegression()\n",
        "\n",
        "# Fit the model on the data\n",
        "model.fit(X, y)\n",
        "\n",
        "# Get the slope (coefficient) and intercept\n",
        "slope = model.coef_[0]\n",
        "intercept = model.intercept_\n",
        "\n",
        "# Print the results\n",
        "print(f'Slope (Coefficient): {slope:.2f}')\n",
        "print(f'Intercept: {intercept:.2f}')"
      ],
      "metadata": {
        "colab": {
          "base_uri": "https://localhost:8080/"
        },
        "id": "LYPylNj_C8xS",
        "outputId": "5e02ab44-5030-48ac-c44b-f69aba7707f4"
      },
      "execution_count": 15,
      "outputs": [
        {
          "output_type": "stream",
          "name": "stdout",
          "text": [
            "   total_bill   tip     sex smoker  day    time  size\n",
            "0       16.99  1.01  Female     No  Sun  Dinner     2\n",
            "1       10.34  1.66    Male     No  Sun  Dinner     3\n",
            "2       21.01  3.50    Male     No  Sun  Dinner     3\n",
            "3       23.68  3.31    Male     No  Sun  Dinner     2\n",
            "4       24.59  3.61  Female     No  Sun  Dinner     4\n",
            "Slope (Coefficient): 0.11\n",
            "Intercept: 0.92\n"
          ]
        }
      ]
    },
    {
      "cell_type": "markdown",
      "source": [
        "7. /K Write a Python script that fits a linear regression model to a synthetic dataset with one feature. Use the\n",
        "model to predict new values and plot the data points along with the regression line ."
      ],
      "metadata": {
        "id": "6YAgGEWMDXit"
      }
    },
    {
      "cell_type": "code",
      "source": [
        "pip install matplotlib"
      ],
      "metadata": {
        "colab": {
          "base_uri": "https://localhost:8080/"
        },
        "id": "6D0V0MACDhsJ",
        "outputId": "8d9397dd-92f8-4cfb-cf5f-efd678d8a6f0"
      },
      "execution_count": 16,
      "outputs": [
        {
          "output_type": "stream",
          "name": "stdout",
          "text": [
            "Requirement already satisfied: matplotlib in /usr/local/lib/python3.10/dist-packages (3.8.0)\n",
            "Requirement already satisfied: contourpy>=1.0.1 in /usr/local/lib/python3.10/dist-packages (from matplotlib) (1.3.1)\n",
            "Requirement already satisfied: cycler>=0.10 in /usr/local/lib/python3.10/dist-packages (from matplotlib) (0.12.1)\n",
            "Requirement already satisfied: fonttools>=4.22.0 in /usr/local/lib/python3.10/dist-packages (from matplotlib) (4.55.3)\n",
            "Requirement already satisfied: kiwisolver>=1.0.1 in /usr/local/lib/python3.10/dist-packages (from matplotlib) (1.4.7)\n",
            "Requirement already satisfied: numpy<2,>=1.21 in /usr/local/lib/python3.10/dist-packages (from matplotlib) (1.26.4)\n",
            "Requirement already satisfied: packaging>=20.0 in /usr/local/lib/python3.10/dist-packages (from matplotlib) (24.2)\n",
            "Requirement already satisfied: pillow>=6.2.0 in /usr/local/lib/python3.10/dist-packages (from matplotlib) (11.0.0)\n",
            "Requirement already satisfied: pyparsing>=2.3.1 in /usr/local/lib/python3.10/dist-packages (from matplotlib) (3.2.0)\n",
            "Requirement already satisfied: python-dateutil>=2.7 in /usr/local/lib/python3.10/dist-packages (from matplotlib) (2.8.2)\n",
            "Requirement already satisfied: six>=1.5 in /usr/local/lib/python3.10/dist-packages (from python-dateutil>=2.7->matplotlib) (1.17.0)\n"
          ]
        }
      ]
    },
    {
      "cell_type": "code",
      "source": [
        "# Import necessary libraries\n",
        "import numpy as np\n",
        "import pandas as pd\n",
        "import matplotlib.pyplot as plt\n",
        "from sklearn.linear_model import LinearRegression\n",
        "\n",
        "# Generate a synthetic dataset\n",
        "np.random.seed(42)  # For reproducibility\n",
        "X = 2 * np.random.rand(100, 1)  # 100 samples, single feature\n",
        "y = 4 + 3 * X + np.random.randn(100, 1)  # Linear relation with some noise\n",
        "\n",
        "# Create a DataFrame for better handling\n",
        "data = pd.DataFrame(np.hstack((X, y)), columns=['Feature', 'Target'])\n",
        "\n",
        "# Create a linear regression model\n",
        "model = LinearRegression()\n",
        "\n",
        "# Fit the model on the data\n",
        "model.fit(data[['Feature']], data['Target'])\n",
        "\n",
        "# Make predictions\n",
        "X_new = np.array([[0], [2]])  # New values for prediction\n",
        "y_predict = model.predict(X_new)\n",
        "\n",
        "# Plot the data points\n",
        "plt.scatter(data['Feature'], data['Target'], color='blue', label='Data Points')\n",
        "\n",
        "# Plot the regression line\n",
        "plt.plot(X_new, y_predict, color='red', label='Regression Line')\n",
        "\n",
        "# Add labels and title\n",
        "plt.xlabel('Feature')\n",
        "plt.ylabel('Target')\n",
        "plt.title('Linear Regression on Synthetic Dataset')\n",
        "plt.legend()\n",
        "plt.grid()\n",
        "\n",
        "# Show the plot\n",
        "plt.show()\n",
        "\n",
        "# Print the model's coefficients and intercept\n",
        "print(f'Model Coefficient (Slope): {model.coef_[0][0]:.2f}')\n",
        "print(f'Model Intercept: {model.intercept_[0]:.2f}')"
      ],
      "metadata": {
        "colab": {
          "base_uri": "https://localhost:8080/",
          "height": 703
        },
        "id": "pKFLSkf-Dt1G",
        "outputId": "eb005874-dcb8-4210-978d-945da4bd226d"
      },
      "execution_count": 17,
      "outputs": [
        {
          "output_type": "stream",
          "name": "stderr",
          "text": [
            "/usr/local/lib/python3.10/dist-packages/sklearn/utils/validation.py:2739: UserWarning: X does not have valid feature names, but LinearRegression was fitted with feature names\n",
            "  warnings.warn(\n"
          ]
        },
        {
          "output_type": "display_data",
          "data": {
            "text/plain": [
              "<Figure size 640x480 with 1 Axes>"
            ],
            "image/png": "[encoded data removed]"
          },
          "metadata": {}
        },
        {
          "output_type": "error",
          "ename": "IndexError",
          "evalue": "invalid index to scalar variable.",
          "traceback": [
            "\u001b[0;31m---------------------------------------------------------------------------\u001b[0m",
            "\u001b[0;31mIndexError\u001b[0m                                Traceback (most recent call last)",
            "\u001b[0;32m<ipython-input-17-bf4b61b8c046>\u001b[0m in \u001b[0;36m<cell line: 42>\u001b[0;34m()\u001b[0m\n\u001b[1;32m     40\u001b[0m \u001b[0;34m\u001b[0m\u001b[0m\n\u001b[1;32m     41\u001b[0m \u001b[0;31m# Print the model's coefficients and intercept\u001b[0m\u001b[0;34m\u001b[0m\u001b[0;34m\u001b[0m\u001b[0m\n\u001b[0;32m---> 42\u001b[0;31m \u001b[0mprint\u001b[0m\u001b[0;34m(\u001b[0m\u001b[0;34mf'Model Coefficient (Slope): {model.coef_[0][0]:.2f}'\u001b[0m\u001b[0;34m)\u001b[0m\u001b[0;34m\u001b[0m\u001b[0;34m\u001b[0m\u001b[0m\n\u001b[0m\u001b[1;32m     43\u001b[0m \u001b[0mprint\u001b[0m\u001b[0;34m(\u001b[0m\u001b[0;34mf'Model Intercept: {model.intercept_[0]:.2f}'\u001b[0m\u001b[0;34m)\u001b[0m\u001b[0;34m\u001b[0m\u001b[0;34m\u001b[0m\u001b[0m\n",
            "\u001b[0;31mIndexError\u001b[0m: invalid index to scalar variable."
          ]
        }
      ]
    },
    {
      "cell_type": "markdown",
      "source": [
        "8. Write a Python script that pickles a trained linear regression model and saves it to a fileK"
      ],
      "metadata": {
        "id": "mAz9RDWrD3UO"
      }
    },
    {
      "cell_type": "markdown",
      "source": [
        "Certainly! Below is a Python script that trains a linear regression model on a synthetic dataset, pickles the trained model, and saves it to a file. This allows you to save the model for later use without needing to retrain it."
      ],
      "metadata": {
        "id": "sBjHs2_JEBva"
      }
    },
    {
      "cell_type": "code",
      "source": [
        "# Import necessary libraries\n",
        "import numpy as np\n",
        "import pandas as pd\n",
        "import pickle\n",
        "from sklearn.linear_model import LinearRegression\n",
        "from sklearn.model_selection import train_test_split\n",
        "\n",
        "# Generate a synthetic dataset\n",
        "np.random.seed(42)  # For reproducibility\n",
        "X = 2 * np.random.rand(100, 1)  # 100 samples, single feature\n",
        "y = 4 + 3 * X + np.random.randn(100, 1)  # Linear relation with some noise\n",
        "\n",
        "# Create a DataFrame for better handling\n",
        "data = pd.DataFrame(np.hstack((X, y)), columns=['Feature', 'Target'])\n",
        "\n",
        "# Separate the features and target variable\n",
        "X = data[['Feature']]\n",
        "y = data['Target']\n",
        "\n",
        "# Split the dataset into training and testing sets\n",
        "X_train, X_test, y_train, y_test = train_test_split(X, y, test_size=0.2, random_state=42)\n",
        "\n",
        "# Create a linear regression model\n",
        "model = LinearRegression()\n",
        "\n",
        "# Fit the model on the training data\n",
        "model.fit(X_train, y_train)\n",
        "\n",
        "# Save the trained model to a file using pickle\n",
        "model_filename = 'linear_regression_model.pkl'\n",
        "with open(model_filename, 'wb') as file:\n",
        "    pickle.dump(model, file)\n",
        "\n",
        "print(f'Model saved to {model_filename}')"
      ],
      "metadata": {
        "colab": {
          "base_uri": "https://localhost:8080/"
        },
        "id": "vQJBm9NrEOKY",
        "outputId": "0f4fc8df-a01e-4050-b930-4bd731430237"
      },
      "execution_count": 19,
      "outputs": [
        {
          "output_type": "stream",
          "name": "stdout",
          "text": [
            "Model saved to linear_regression_model.pkl\n"
          ]
        }
      ]
    },
    {
      "cell_type": "code",
      "source": [
        "# Load the pickled model\n",
        "with open('linear_regression_model.pkl', 'rb') as file:\n",
        "    loaded_model = pickle.load(file)\n",
        "\n",
        "# Now you can use loaded_model to make predictions"
      ],
      "metadata": {
        "id": "DRwxQ-elEUgw"
      },
      "execution_count": 20,
      "outputs": []
    },
    {
      "cell_type": "markdown",
      "source": [
        "9.  Write a Python script that fits a polynomial regression model (degree 2) to a dataset and plots the\n",
        "regression curve"
      ],
      "metadata": {
        "id": "V_l5mYmkE1AZ"
      }
    },
    {
      "cell_type": "markdown",
      "source": [
        "Certainly! Below is a Python script that fits a polynomial regression model of degree 2 (quadratic regression) to a synthetic dataset and plots the regression curve along with the data points."
      ],
      "metadata": {
        "id": "GZ85_VZaE8Hf"
      }
    },
    {
      "cell_type": "markdown",
      "source": [
        "Python Script for Polynomial Regression (Degree 2)"
      ],
      "metadata": {
        "id": "0Ok7Oc6HFCns"
      }
    },
    {
      "cell_type": "code",
      "source": [
        "pip install matplotlib\n"
      ],
      "metadata": {
        "colab": {
          "base_uri": "https://localhost:8080/"
        },
        "id": "liJLfJmeFAFi",
        "outputId": "6c25d8b5-3fb4-4474-89bb-ca2976dfdb4e"
      },
      "execution_count": 22,
      "outputs": [
        {
          "output_type": "stream",
          "name": "stdout",
          "text": [
            "Requirement already satisfied: matplotlib in /usr/local/lib/python3.10/dist-packages (3.8.0)\n",
            "Requirement already satisfied: contourpy>=1.0.1 in /usr/local/lib/python3.10/dist-packages (from matplotlib) (1.3.1)\n",
            "Requirement already satisfied: cycler>=0.10 in /usr/local/lib/python3.10/dist-packages (from matplotlib) (0.12.1)\n",
            "Requirement already satisfied: fonttools>=4.22.0 in /usr/local/lib/python3.10/dist-packages (from matplotlib) (4.55.3)\n",
            "Requirement already satisfied: kiwisolver>=1.0.1 in /usr/local/lib/python3.10/dist-packages (from matplotlib) (1.4.7)\n",
            "Requirement already satisfied: numpy<2,>=1.21 in /usr/local/lib/python3.10/dist-packages (from matplotlib) (1.26.4)\n",
            "Requirement already satisfied: packaging>=20.0 in /usr/local/lib/python3.10/dist-packages (from matplotlib) (24.2)\n",
            "Requirement already satisfied: pillow>=6.2.0 in /usr/local/lib/python3.10/dist-packages (from matplotlib) (11.0.0)\n",
            "Requirement already satisfied: pyparsing>=2.3.1 in /usr/local/lib/python3.10/dist-packages (from matplotlib) (3.2.0)\n",
            "Requirement already satisfied: python-dateutil>=2.7 in /usr/local/lib/python3.10/dist-packages (from matplotlib) (2.8.2)\n",
            "Requirement already satisfied: six>=1.5 in /usr/local/lib/python3.10/dist-packages (from python-dateutil>=2.7->matplotlib) (1.17.0)\n"
          ]
        }
      ]
    },
    {
      "cell_type": "code",
      "source": [],
      "metadata": {
        "id": "g2pj7TvmFLvM"
      },
      "execution_count": null,
      "outputs": []
    },
    {
      "cell_type": "code",
      "source": [
        "# Import necessary libraries\n",
        "import numpy as np\n",
        "import pandas as pd\n",
        "import matplotlib.pyplot as plt\n",
        "from sklearn.preprocessing import PolynomialFeatures\n",
        "from sklearn.linear_model import LinearRegression\n",
        "from sklearn.model_selection import train_test_split\n",
        "\n",
        "# Generate a synthetic dataset\n",
        "np.random.seed(42)  # For reproducibility\n",
        "X = 2 * np.random.rand(100, 1)  # 100 samples, single feature\n",
        "y = 4 + 3 * X + 2 * (X ** 2) + np.random.randn(100, 1)  # Quadratic relation with some noise\n",
        "\n",
        "# Create a DataFrame for better handling\n",
        "data = pd.DataFrame(np.hstack((X, y)), columns=['Feature', 'Target'])\n",
        "\n",
        "# Separate the features and target variable\n",
        "X = data[['Feature']]\n",
        "y = data['Target']\n",
        "\n",
        "# Split the dataset into training and testing sets\n",
        "X_train, X_test, y_train, y_test = train_test_split(X, y, test_size=0.2, random_state=42)\n",
        "\n",
        "# Create polynomial features\n",
        "poly = PolynomialFeatures(degree=2)\n",
        "X_poly = poly.fit_transform(X_train)\n",
        "\n",
        "# Create a linear regression model\n",
        "model = LinearRegression()\n",
        "\n",
        "# Fit the model on the polynomial features\n",
        "model.fit(X_poly, y_train)\n",
        "\n",
        "# Make predictions for plotting\n",
        "X_range = np.linspace(0, 2, 100).reshape(-1, 1)  # Generate values for plotting\n",
        "X_range_poly = poly.transform(X_range)  # Transform to polynomial features\n",
        "y_pred = model.predict(X_range_poly)  # Predict using the model\n",
        "\n",
        "# Plot the data points\n",
        "plt.scatter(X, y, color='blue', label='Data Points')\n",
        "\n",
        "# Plot the regression curve\n",
        "plt.plot(X_range, y_pred, color='red', label='Polynomial Regression Curve (Degree 2)')\n",
        "\n",
        "# Add labels and title\n",
        "plt.xlabel('Feature')\n",
        "plt.ylabel('Target')\n",
        "plt.title('Polynomial Regression (Degree 2)')\n",
        "plt.legend()\n",
        "plt.grid()\n",
        "\n",
        "# Show the plot\n",
        "plt.show()\n",
        "\n",
        "# Print the model's coefficients and intercept\n",
        "print(f'Model Coefficients: {model.coef_}')\n",
        "print(f'Model Intercept: {model.intercept_}')"
      ],
      "metadata": {
        "colab": {
          "base_uri": "https://localhost:8080/",
          "height": 561
        },
        "id": "hOQP0BVXFSqS",
        "outputId": "3fbdc02d-2120-405a-e907-807db8da2bc9"
      },
      "execution_count": 23,
      "outputs": [
        {
          "output_type": "stream",
          "name": "stderr",
          "text": [
            "/usr/local/lib/python3.10/dist-packages/sklearn/utils/validation.py:2739: UserWarning: X does not have valid feature names, but PolynomialFeatures was fitted with feature names\n",
            "  warnings.warn(\n"
          ]
        },
        {
          "output_type": "display_data",
          "data": {
            "text/plain": [
              "<Figure size 640x480 with 1 Axes>"
            ],
            "image/png": "[encoded data removed]"
          },
          "metadata": {}
        },
        {
          "output_type": "stream",
          "name": "stdout",
          "text": [
            "Model Coefficients: [0.         1.61783129 2.60536011]\n",
            "Model Intercept: 4.513066787886214\n"
          ]
        }
      ]
    },
    {
      "cell_type": "code",
      "source": [],
      "metadata": {
        "id": "2IgeI3_HFTna"
      },
      "execution_count": null,
      "outputs": []
    },
    {
      "cell_type": "markdown",
      "source": [
        "10 . Generate synthetic data for simple linear regression (use random values for X and y) and fit a linear\n",
        "regression model to the data. Print the model's coefficient and interceptK\n"
      ],
      "metadata": {
        "id": "BgccAY1eFdgI"
      }
    },
    {
      "cell_type": "markdown",
      "source": [
        "Certainly! Below is a Python script that generates synthetic data for simple linear regression using random values for (X) and (y). The script then fits a linear regression model to the data and prints the model's coefficient and intercept."
      ],
      "metadata": {
        "id": "Bbss8xxiFxRj"
      }
    },
    {
      "cell_type": "code",
      "source": [
        "pip install matplotlib"
      ],
      "metadata": {
        "colab": {
          "base_uri": "https://localhost:8080/"
        },
        "id": "qaPlmTQCG6-L",
        "outputId": "289c5755-9d8e-4dc6-e8e3-0750628f6888"
      },
      "execution_count": 28,
      "outputs": [
        {
          "output_type": "stream",
          "name": "stdout",
          "text": [
            "Requirement already satisfied: matplotlib in /usr/local/lib/python3.10/dist-packages (3.8.0)\n",
            "Requirement already satisfied: contourpy>=1.0.1 in /usr/local/lib/python3.10/dist-packages (from matplotlib) (1.3.1)\n",
            "Requirement already satisfied: cycler>=0.10 in /usr/local/lib/python3.10/dist-packages (from matplotlib) (0.12.1)\n",
            "Requirement already satisfied: fonttools>=4.22.0 in /usr/local/lib/python3.10/dist-packages (from matplotlib) (4.55.3)\n",
            "Requirement already satisfied: kiwisolver>=1.0.1 in /usr/local/lib/python3.10/dist-packages (from matplotlib) (1.4.7)\n",
            "Requirement already satisfied: numpy<2,>=1.21 in /usr/local/lib/python3.10/dist-packages (from matplotlib) (1.26.4)\n",
            "Requirement already satisfied: packaging>=20.0 in /usr/local/lib/python3.10/dist-packages (from matplotlib) (24.2)\n",
            "Requirement already satisfied: pillow>=6.2.0 in /usr/local/lib/python3.10/dist-packages (from matplotlib) (11.0.0)\n",
            "Requirement already satisfied: pyparsing>=2.3.1 in /usr/local/lib/python3.10/dist-packages (from matplotlib) (3.2.0)\n",
            "Requirement already satisfied: python-dateutil>=2.7 in /usr/local/lib/python3.10/dist-packages (from matplotlib) (2.8.2)\n",
            "Requirement already satisfied: six>=1.5 in /usr/local/lib/python3.10/dist-packages (from python-dateutil>=2.7->matplotlib) (1.17.0)\n"
          ]
        }
      ]
    },
    {
      "cell_type": "markdown",
      "source": [
        "Python Script for Simple Linear Regression with Synthetic Data"
      ],
      "metadata": {
        "id": "YeZbizISF3I-"
      }
    },
    {
      "cell_type": "code",
      "source": [
        "# Import necessary libraries\n",
        "import numpy as np\n",
        "import pandas as pd\n",
        "from sklearn.linear_model import LinearRegression\n",
        "from sklearn.model_selection import train_test_split\n",
        "\n",
        "# Generate synthetic data\n",
        "np.random.seed(42)  # For reproducibility\n",
        "X = np.random.rand(100, 1) * 10  # 100 random values for X between 0 and 10\n",
        "y = 2.5 * X + np.random.randn(100, 1) * 2  # Linear relation with some noise\n",
        "\n",
        "# Create a DataFrame for better handling\n",
        "data = pd.DataFrame(np.hstack((X, y)), columns=['Feature', 'Target'])\n",
        "\n",
        "# Separate the features and target variable\n",
        "X = data[['Feature']]\n",
        "y = data['Target']\n",
        "\n",
        "# Split the dataset into training and testing sets\n",
        "X_train, X_test, y_train, y_test = train_test_split(X, y, test_size=0.2, random_state=42)\n",
        "\n",
        "# Create a linear regression model\n",
        "model = LinearRegression()\n",
        "\n",
        "# Fit the model on the training data\n",
        "model.fit(X_train, y_train)\n",
        "\n",
        "# Get the model's coefficient and intercept\n",
        "coefficient = model.coef_[0]\n",
        "intercept = model.intercept_[0]\n",
        "\n",
        "# Print the results\n",
        "print(f'Model Coefficient (Slope): {coefficient:.2f}')\n",
        "print(f'Model Intercept: {intercept:.2f}')"
      ],
      "metadata": {
        "colab": {
          "base_uri": "https://localhost:8080/",
          "height": 211
        },
        "id": "JgXQw-txFx7-",
        "outputId": "f42fb5fc-4ca4-4aa9-a62c-79c908ee15fd"
      },
      "execution_count": 29,
      "outputs": [
        {
          "output_type": "error",
          "ename": "IndexError",
          "evalue": "invalid index to scalar variable.",
          "traceback": [
            "\u001b[0;31m---------------------------------------------------------------------------\u001b[0m",
            "\u001b[0;31mIndexError\u001b[0m                                Traceback (most recent call last)",
            "\u001b[0;32m<ipython-input-29-fc2b1fbd70c9>\u001b[0m in \u001b[0;36m<cell line: 30>\u001b[0;34m()\u001b[0m\n\u001b[1;32m     28\u001b[0m \u001b[0;31m# Get the model's coefficient and intercept\u001b[0m\u001b[0;34m\u001b[0m\u001b[0;34m\u001b[0m\u001b[0m\n\u001b[1;32m     29\u001b[0m \u001b[0mcoefficient\u001b[0m \u001b[0;34m=\u001b[0m \u001b[0mmodel\u001b[0m\u001b[0;34m.\u001b[0m\u001b[0mcoef_\u001b[0m\u001b[0;34m[\u001b[0m\u001b[0;36m0\u001b[0m\u001b[0;34m]\u001b[0m\u001b[0;34m\u001b[0m\u001b[0;34m\u001b[0m\u001b[0m\n\u001b[0;32m---> 30\u001b[0;31m \u001b[0mintercept\u001b[0m \u001b[0;34m=\u001b[0m \u001b[0mmodel\u001b[0m\u001b[0;34m.\u001b[0m\u001b[0mintercept_\u001b[0m\u001b[0;34m[\u001b[0m\u001b[0;36m0\u001b[0m\u001b[0;34m]\u001b[0m\u001b[0;34m\u001b[0m\u001b[0;34m\u001b[0m\u001b[0m\n\u001b[0m\u001b[1;32m     31\u001b[0m \u001b[0;34m\u001b[0m\u001b[0m\n\u001b[1;32m     32\u001b[0m \u001b[0;31m# Print the results\u001b[0m\u001b[0;34m\u001b[0m\u001b[0;34m\u001b[0m\u001b[0m\n",
            "\u001b[0;31mIndexError\u001b[0m: invalid index to scalar variable."
          ]
        }
      ]
    },
    {
      "cell_type": "markdown",
      "source": [
        "11.  Write a Python script that fits a polynomial regression model (degree 3) to a synthetic non-linear dataset\n",
        "and plots the curvB"
      ],
      "metadata": {
        "id": "8-ZQIkv1Gqd-"
      }
    },
    {
      "cell_type": "markdown",
      "source": [
        "Certainly! Below is a Python script that fits a polynomial regression model of degree 3 to a synthetic non-linear dataset and plots the curve."
      ],
      "metadata": {
        "id": "pH9JYERRGwML"
      }
    },
    {
      "cell_type": "code",
      "source": [
        "pip install matplotlib\n"
      ],
      "metadata": {
        "colab": {
          "base_uri": "https://localhost:8080/"
        },
        "id": "KH26aLchGwnc",
        "outputId": "349d4975-0b8f-424a-9363-04f021ce4202"
      },
      "execution_count": 30,
      "outputs": [
        {
          "output_type": "stream",
          "name": "stdout",
          "text": [
            "Requirement already satisfied: matplotlib in /usr/local/lib/python3.10/dist-packages (3.8.0)\n",
            "Requirement already satisfied: contourpy>=1.0.1 in /usr/local/lib/python3.10/dist-packages (from matplotlib) (1.3.1)\n",
            "Requirement already satisfied: cycler>=0.10 in /usr/local/lib/python3.10/dist-packages (from matplotlib) (0.12.1)\n",
            "Requirement already satisfied: fonttools>=4.22.0 in /usr/local/lib/python3.10/dist-packages (from matplotlib) (4.55.3)\n",
            "Requirement already satisfied: kiwisolver>=1.0.1 in /usr/local/lib/python3.10/dist-packages (from matplotlib) (1.4.7)\n",
            "Requirement already satisfied: numpy<2,>=1.21 in /usr/local/lib/python3.10/dist-packages (from matplotlib) (1.26.4)\n",
            "Requirement already satisfied: packaging>=20.0 in /usr/local/lib/python3.10/dist-packages (from matplotlib) (24.2)\n",
            "Requirement already satisfied: pillow>=6.2.0 in /usr/local/lib/python3.10/dist-packages (from matplotlib) (11.0.0)\n",
            "Requirement already satisfied: pyparsing>=2.3.1 in /usr/local/lib/python3.10/dist-packages (from matplotlib) (3.2.0)\n",
            "Requirement already satisfied: python-dateutil>=2.7 in /usr/local/lib/python3.10/dist-packages (from matplotlib) (2.8.2)\n",
            "Requirement already satisfied: six>=1.5 in /usr/local/lib/python3.10/dist-packages (from python-dateutil>=2.7->matplotlib) (1.17.0)\n"
          ]
        }
      ]
    },
    {
      "cell_type": "markdown",
      "source": [
        "Python Script for Polynomial Regression (Degree 3)"
      ],
      "metadata": {
        "id": "p29znn9tHGR1"
      }
    },
    {
      "cell_type": "code",
      "source": [
        "# Import necessary libraries\n",
        "import numpy as np\n",
        "import pandas as pd\n",
        "import matplotlib.pyplot as plt\n",
        "from sklearn.preprocessing import PolynomialFeatures\n",
        "from sklearn.linear_model import LinearRegression\n",
        "from sklearn.model_selection import train_test_split\n",
        "\n",
        "# Generate a synthetic non-linear dataset\n",
        "np.random.seed(42)  # For reproducibility\n",
        "X = np.random.rand(100, 1) * 10  # 100 random values for X between 0 and 10\n",
        "y = 2.5 * X**3 + 1.5 * X**2 - 3 * X + np.random.randn(100, 1) * 2  # Non-linear relation with some noise\n",
        "\n",
        "# Create a DataFrame for better handling\n",
        "data = pd.DataFrame(np.hstack((X, y)), columns=['Feature', 'Target'])\n",
        "\n",
        "# Separate the features and target variable\n",
        "X = data[['Feature']]\n",
        "y = data['Target']\n",
        "\n",
        "# Split the dataset into training and testing sets\n",
        "X_train, X_test, y_train, y_test = train_test_split(X, y, test_size=0.2, random_state=42)\n",
        "\n",
        "# Create polynomial features\n",
        "poly = PolynomialFeatures(degree=3)\n",
        "X_poly = poly.fit_transform(X_train)\n",
        "\n",
        "# Create a linear regression model\n",
        "model = LinearRegression()\n",
        "\n",
        "# Fit the model on the polynomial features\n",
        "model.fit(X_poly, y_train)\n",
        "\n",
        "# Make predictions for plotting\n",
        "X_range = np.linspace(0, 10, 100).reshape(-1, 1)  # Generate values for plotting\n",
        "X_range_poly = poly.transform(X_range)  # Transform to polynomial features\n",
        "y_pred = model.predict(X_range_poly)  # Predict using the model\n",
        "\n",
        "# Plot the data points\n",
        "plt.scatter(X, y, color='blue', label='Data Points')\n",
        "\n",
        "# Plot the regression curve\n",
        "plt.plot(X_range, y_pred, color='red', label='Polynomial Regression Curve (Degree 3)')\n",
        "\n",
        "# Add labels and title\n",
        "plt.xlabel('Feature')\n",
        "plt.ylabel('Target')\n",
        "plt.title('Polynomial Regression (Degree 3)')\n",
        "plt.legend()\n",
        "plt.grid()\n",
        "\n",
        "# Show the plot\n",
        "plt.show()\n",
        "\n",
        "# Print the model's coefficients and intercept\n",
        "print(f'Model Coefficients: {model.coef_}')\n",
        "print(f'Model Intercept: {model.intercept_}')"
      ],
      "metadata": {
        "colab": {
          "base_uri": "https://localhost:8080/",
          "height": 561
        },
        "id": "mW5ZNWE8HG7w",
        "outputId": "44f31365-4397-4254-947c-6df9bc726542"
      },
      "execution_count": 31,
      "outputs": [
        {
          "output_type": "stream",
          "name": "stderr",
          "text": [
            "/usr/local/lib/python3.10/dist-packages/sklearn/utils/validation.py:2739: UserWarning: X does not have valid feature names, but PolynomialFeatures was fitted with feature names\n",
            "  warnings.warn(\n"
          ]
        },
        {
          "output_type": "display_data",
          "data": {
            "text/plain": [
              "<Figure size 640x480 with 1 Axes>"
            ],
            "image/png": "[encoded data removed]"
          },
          "metadata": {}
        },
        {
          "output_type": "stream",
          "name": "stdout",
          "text": [
            "Model Coefficients: [ 0.         -4.08628758  1.6824134   2.49105852]\n",
            "Model Intercept: 1.4630194347196266\n"
          ]
        }
      ]
    },
    {
      "cell_type": "markdown",
      "source": [
        "12. Write a Python script that fits a simple linear regression model with two features and prints the model's\n",
        "coefficients, intercept, and R-squared scoreK"
      ],
      "metadata": {
        "id": "017MiXKZHWXr"
      }
    },
    {
      "cell_type": "markdown",
      "source": [
        "Certainly! Below is a Python script that generates a synthetic dataset with two features, fits a simple linear regression model to the data, and prints the model's coefficients, intercept, and R-squared score."
      ],
      "metadata": {
        "id": "lQdWHz6fHj62"
      }
    },
    {
      "cell_type": "markdown",
      "source": [
        "Python Script for Simple Linear Regression with Two Features"
      ],
      "metadata": {
        "id": "BBK-_mdbHvJt"
      }
    },
    {
      "cell_type": "code",
      "source": [
        "# Import necessary libraries\n",
        "import numpy as np\n",
        "import pandas as pd\n",
        "from sklearn.model_selection import train_test_split\n",
        "from sklearn.linear_model import LinearRegression\n",
        "from sklearn.metrics import r2_score\n",
        "\n",
        "# Generate synthetic data\n",
        "np.random.seed(42)  # For reproducibility\n",
        "X1 = np.random.rand(100, 1) * 10  # Feature 1: 100 random values between 0 and 10\n",
        "X2 = np.random.rand(100, 1) * 5   # Feature 2: 100 random values between 0 and 5\n",
        "y = 3 * X1 + 2 * X2 + np.random.randn(100, 1) * 2  # Linear relation with some noise\n",
        "\n",
        "# Create a DataFrame for better handling\n",
        "data = pd.DataFrame(np.hstack((X1, X2, y)), columns=['Feature1', 'Feature2', 'Target'])\n",
        "\n",
        "# Separate the features and target variable\n",
        "X = data[['Feature1', 'Feature2']]\n",
        "y = data['Target']\n",
        "\n",
        "# Split the dataset into training and testing sets\n",
        "X_train, X_test, y_train, y_test = train_test_split(X, y, test_size=0.2, random_state=42)\n",
        "\n",
        "# Create a linear regression model\n",
        "model = LinearRegression()\n",
        "\n",
        "# Fit the model on the training data\n",
        "model.fit(X_train, y_train)\n",
        "\n",
        "# Make predictions on the test set\n",
        "y_pred = model.predict(X_test)\n",
        "\n",
        "# Get the model's coefficients and intercept\n",
        "coefficients = model.coef_\n",
        "intercept = model.intercept_\n",
        "\n",
        "# Calculate R-squared score\n",
        "r_squared = r2_score(y_test, y_pred)\n",
        "\n",
        "# Print the results\n",
        "print(f'Model Coefficients: {coefficients}')\n",
        "print(f'Model Intercept: {intercept:.2f}')\n",
        "print(f'R-squared Score: {r_squared:.2f}')"
      ],
      "metadata": {
        "colab": {
          "base_uri": "https://localhost:8080/"
        },
        "id": "qXcSyUTOHwIC",
        "outputId": "f2119d49-617d-4aee-e51f-64eb4a80910b"
      },
      "execution_count": 32,
      "outputs": [
        {
          "output_type": "stream",
          "name": "stdout",
          "text": [
            "Model Coefficients: [2.95000442 2.3148695 ]\n",
            "Model Intercept: -0.41\n",
            "R-squared Score: 0.97\n"
          ]
        }
      ]
    },
    {
      "cell_type": "code",
      "source": [],
      "metadata": {
        "id": "LqxfQ5RlHz2t"
      },
      "execution_count": null,
      "outputs": []
    },
    {
      "cell_type": "markdown",
      "source": [
        "13.  Write a Python script that generates a synthetic dataset, fits a linear regression model, and calculates the\n",
        "Mean Squared Error (MSE), Mean Absolute Error (MAE), and Root Mean Squared Error (RMSE)K"
      ],
      "metadata": {
        "id": "dY9QOeIwH63k"
      }
    },
    {
      "cell_type": "markdown",
      "source": [
        "Python Script for Linear Regression with Error Metrics\n",
        "python\n",
        "\n"
      ],
      "metadata": {
        "id": "PuaQbTXCJPQE"
      }
    },
    {
      "cell_type": "code",
      "source": [
        "# Import necessary libraries\n",
        "import numpy as np\n",
        "import pandas as pd\n",
        "from sklearn.model_selection import train_test_split\n",
        "from sklearn.linear_model import LinearRegression\n",
        "from sklearn.metrics import mean_squared_error, mean_absolute_error\n",
        "\n",
        "# Generate a synthetic dataset\n",
        "np.random.seed(42)  # For reproducibility\n",
        "X = 2 * np.random.rand(100, 1)  # 100 samples, single feature\n",
        "y = 4 + 3 * X + np.random.randn(100, 1)  # Linear relation with some noise\n",
        "\n",
        "# Create a DataFrame for better handling\n",
        "data = pd.DataFrame(np.hstack((X, y)), columns=['Feature', 'Target'])\n",
        "\n",
        "# Separate the features and target variable\n",
        "X = data[['Feature']]\n",
        "y = data['Target']\n",
        "\n",
        "# Split the dataset into training and testing sets\n",
        "X_train, X_test, y_train, y_test = train_test_split(X, y, test_size=0.2, random_state=42)\n",
        "\n",
        "# Create a linear regression model\n",
        "model = LinearRegression()\n",
        "\n",
        "# Fit the model on the training data\n",
        "model.fit(X_train, y_train)\n",
        "\n",
        "# Make predictions on the test set\n",
        "y_pred = model.predict(X_test)\n",
        "\n",
        "# Calculate Mean Squared Error (MSE)\n",
        "mse = mean_squared_error(y_test, y_pred)\n",
        "\n",
        "# Calculate Mean Absolute Error (MAE)\n",
        "mae = mean_absolute_error(y_test, y_pred)\n",
        "\n",
        "# Calculate Root Mean Squared Error (RMSE)\n",
        "rmse = np.sqrt(mse)\n",
        "\n",
        "# Print the results\n",
        "print(f'Mean Squared Error (MSE): {mse:.2f}')\n",
        "print(f'Mean Absolute Error (MAE): {mae:.2f}')\n",
        "print(f'Root Mean Squared Error (RMSE): {rmse:.2f}')"
      ],
      "metadata": {
        "colab": {
          "base_uri": "https://localhost:8080/"
        },
        "id": "OWZET4h9JQWE",
        "outputId": "94cee949-669e-45fd-d326-f6c1ab0fc15b"
      },
      "execution_count": 33,
      "outputs": [
        {
          "output_type": "stream",
          "name": "stdout",
          "text": [
            "Mean Squared Error (MSE): 0.65\n",
            "Mean Absolute Error (MAE): 0.59\n",
            "Root Mean Squared Error (RMSE): 0.81\n"
          ]
        }
      ]
    },
    {
      "cell_type": "code",
      "source": [],
      "metadata": {
        "id": "ODdSPPEBJU2H"
      },
      "execution_count": null,
      "outputs": []
    },
    {
      "cell_type": "markdown",
      "source": [
        "14.  Write a Python script that uses the Variance Inflation Factor (VIF) to check for multicollinearity in a\n",
        "dataset with multiple features"
      ],
      "metadata": {
        "id": "7KROQwUOJZjO"
      }
    },
    {
      "cell_type": "markdown",
      "source": [
        "Certainly! The Variance Inflation Factor (VIF) is a measure used to detect multicollinearity in regression analysis. A high VIF indicates that a feature is highly correlated with other features, which can affect the stability and interpretability of the regression coefficients.\n",
        "\n",
        "Below is a Python script that demonstrates how to calculate the VIF for a dataset with multiple features. For this example, we'll generate a synthetic dataset with multiple features.\n",
        "\n",
        "Python Script to Check for Multicollinearity Using VIF"
      ],
      "metadata": {
        "id": "Bj6cl6SdJmVj"
      }
    },
    {
      "cell_type": "code",
      "source": [
        "pip install statsmodels"
      ],
      "metadata": {
        "colab": {
          "base_uri": "https://localhost:8080/"
        },
        "id": "h8CVaHm5Jvke",
        "outputId": "5ec01f2a-2910-4307-a25c-ea592be55161"
      },
      "execution_count": 34,
      "outputs": [
        {
          "output_type": "stream",
          "name": "stdout",
          "text": [
            "Requirement already satisfied: statsmodels in /usr/local/lib/python3.10/dist-packages (0.14.4)\n",
            "Requirement already satisfied: numpy<3,>=1.22.3 in /usr/local/lib/python3.10/dist-packages (from statsmodels) (1.26.4)\n",
            "Requirement already satisfied: scipy!=1.9.2,>=1.8 in /usr/local/lib/python3.10/dist-packages (from statsmodels) (1.13.1)\n",
            "Requirement already satisfied: pandas!=2.1.0,>=1.4 in /usr/local/lib/python3.10/dist-packages (from statsmodels) (2.2.2)\n",
            "Requirement already satisfied: patsy>=0.5.6 in /usr/local/lib/python3.10/dist-packages (from statsmodels) (1.0.1)\n",
            "Requirement already satisfied: packaging>=21.3 in /usr/local/lib/python3.10/dist-packages (from statsmodels) (24.2)\n",
            "Requirement already satisfied: python-dateutil>=2.8.2 in /usr/local/lib/python3.10/dist-packages (from pandas!=2.1.0,>=1.4->statsmodels) (2.8.2)\n",
            "Requirement already satisfied: pytz>=2020.1 in /usr/local/lib/python3.10/dist-packages (from pandas!=2.1.0,>=1.4->statsmodels) (2024.2)\n",
            "Requirement already satisfied: tzdata>=2022.7 in /usr/local/lib/python3.10/dist-packages (from pandas!=2.1.0,>=1.4->statsmodels) (2024.2)\n",
            "Requirement already satisfied: six>=1.5 in /usr/local/lib/python3.10/dist-packages (from python-dateutil>=2.8.2->pandas!=2.1.0,>=1.4->statsmodels) (1.17.0)\n"
          ]
        }
      ]
    },
    {
      "cell_type": "code",
      "source": [],
      "metadata": {
        "id": "xOcovgYxJyiZ"
      },
      "execution_count": null,
      "outputs": []
    },
    {
      "cell_type": "code",
      "source": [
        "# Import necessary libraries\n",
        "import numpy as np\n",
        "import pandas as pd\n",
        "from statsmodels.stats.outliers_influence import variance_inflation_factor\n",
        "\n",
        "# Generate a synthetic dataset\n",
        "np.random.seed(42)  # For reproducibility\n",
        "X1 = np.random.rand(100)  # Feature 1\n",
        "X2 = 2 * X1 + np.random.rand(100) * 0.1  # Feature 2 (highly correlated with Feature 1)\n",
        "X3 = np.random.rand(100)  # Feature 3 (not correlated)\n",
        "X4 = 3 * X1 + np.random.rand(100) * 0.1  # Feature 4 (highly correlated with Feature 1)\n",
        "\n",
        "# Create a DataFrame\n",
        "data = pd.DataFrame({\n",
        "    'Feature1': X1,\n",
        "    'Feature2': X2,\n",
        "    'Feature3': X3,\n",
        "    'Feature4': X4\n",
        "})\n",
        "\n",
        "# Function to calculate VIF\n",
        "def calculate_vif(dataframe):\n",
        "    vif_data = pd.DataFrame()\n",
        "    vif_data[\"Feature\"] = dataframe.columns\n",
        "    vif_data[\"VIF\"] = [variance_inflation_factor(dataframe.values, i) for i in range(dataframe.shape[1])]\n",
        "    return vif_data\n",
        "\n",
        "# Calculate VIF for the dataset\n",
        "vif_result = calculate_vif(data)\n",
        "\n",
        "# Print the VIF results\n",
        "print(vif_result)"
      ],
      "metadata": {
        "colab": {
          "base_uri": "https://localhost:8080/"
        },
        "id": "KYXgCL8aJ3d7",
        "outputId": "7342e297-2bb1-4072-ce59-be2153caed63"
      },
      "execution_count": 35,
      "outputs": [
        {
          "output_type": "stream",
          "name": "stdout",
          "text": [
            "    Feature          VIF\n",
            "0  Feature1  2118.931526\n",
            "1  Feature2  1179.747949\n",
            "2  Feature3     2.715976\n",
            "3  Feature4  2303.707205\n"
          ]
        }
      ]
    },
    {
      "cell_type": "code",
      "source": [],
      "metadata": {
        "id": "-wbzxN30J4Gc"
      },
      "execution_count": null,
      "outputs": []
    },
    {
      "cell_type": "markdown",
      "source": [
        "17. Write a Python script that generates synthetic data for a polynomial relationship (degree 4), fits a\n",
        "polynomial regression model, and plots the regression curve"
      ],
      "metadata": {
        "id": "jyElF3YgJ5m9"
      }
    },
    {
      "cell_type": "markdown",
      "source": [
        "Python Script for Polynomial Regression (Degree 4)\n"
      ],
      "metadata": {
        "id": "NjSig2N_KJr_"
      }
    },
    {
      "cell_type": "code",
      "source": [
        "# Import necessary libraries\n",
        "import numpy as np\n",
        "import pandas as pd\n",
        "import matplotlib.pyplot as plt\n",
        "from sklearn.preprocessing import PolynomialFeatures\n",
        "from sklearn.linear_model import LinearRegression\n",
        "from sklearn.model_selection import train_test_split\n",
        "\n",
        "# Generate synthetic data for a polynomial relationship (degree 4)\n",
        "np.random.seed(42)  # For reproducibility\n",
        "X = np.random.rand(100, 1) * 10  # 100 random values for X between 0 and 10\n",
        "y = 0.1 * X**4 - 0.5 * X**3 + 2 * X**2 + np.random.randn(100, 1) * 5  # Polynomial relation with noise\n",
        "\n",
        "# Create a DataFrame for better handling\n",
        "data = pd.DataFrame(np.hstack((X, y)), columns=['Feature', 'Target'])\n",
        "\n",
        "# Separate the features and target variable\n",
        "X = data[['Feature']]\n",
        "y = data['Target']\n",
        "\n",
        "# Split the dataset into training and testing sets\n",
        "X_train, X_test, y_train, y_test = train_test_split(X, y, test_size=0.2, random_state=42)\n",
        "\n",
        "# Create polynomial features\n",
        "poly = PolynomialFeatures(degree=4)\n",
        "X_poly = poly.fit_transform(X_train)\n",
        "\n",
        "# Create a linear regression model\n",
        "model = LinearRegression()\n",
        "\n",
        "# Fit the model on the polynomial features\n",
        "model.fit(X_poly, y_train)\n",
        "\n",
        "# Make predictions for plotting\n",
        "X_range = np.linspace(0, 10, 100).reshape(-1, 1)  # Generate values for plotting\n",
        "X_range_poly = poly.transform(X_range)  # Transform to polynomial features\n",
        "y_pred = model.predict(X_range_poly)  # Predict using the model\n",
        "\n",
        "# Plot the data points\n",
        "plt.scatter(X, y, color='blue', label='Data Points')\n",
        "\n",
        "# Plot the regression curve\n",
        "plt.plot(X_range, y_pred, color='red', label='Polynomial Regression Curve (Degree 4)')\n",
        "\n",
        "# Add labels and title\n",
        "plt.xlabel('Feature')\n",
        "plt.ylabel('Target')\n",
        "plt.title('Polynomial Regression (Degree 4)')\n",
        "plt.legend()\n",
        "plt.grid()\n",
        "\n",
        "# Show the plot\n",
        "plt.show()\n",
        "\n",
        "# Print the model's coefficients and intercept\n",
        "print(f'Model Coefficients: {model.coef_}')\n",
        "print(f'Model Intercept: {model.intercept_}')"
      ],
      "metadata": {
        "colab": {
          "base_uri": "https://localhost:8080/",
          "height": 561
        },
        "id": "AsKddGcTKLza",
        "outputId": "ce0e37f5-7457-408a-b8dc-6dd800b11771"
      },
      "execution_count": 37,
      "outputs": [
        {
          "output_type": "stream",
          "name": "stderr",
          "text": [
            "/usr/local/lib/python3.10/dist-packages/sklearn/utils/validation.py:2739: UserWarning: X does not have valid feature names, but PolynomialFeatures was fitted with feature names\n",
            "  warnings.warn(\n"
          ]
        },
        {
          "output_type": "display_data",
          "data": {
            "text/plain": [
              "<Figure size 640x480 with 1 Axes>"
            ],
            "image/png": "[encoded data removed]"
          },
          "metadata": {}
        },
        {
          "output_type": "stream",
          "name": "stdout",
          "text": [
            "Model Coefficients: [ 0.          1.59231516  0.49312127 -0.21376599  0.08446502]\n",
            "Model Intercept: 1.4781801518879973\n"
          ]
        }
      ]
    },
    {
      "cell_type": "markdown",
      "source": [
        "16. Write a Python script that creates a machine learning pipeline with data standardization and a multiple\n",
        "linear regression model, and prints the R-squared score"
      ],
      "metadata": {
        "id": "7YSfE1LsKdOy"
      }
    },
    {
      "cell_type": "markdown",
      "source": [
        "Python Script for Machine Learning Pipeline with Standardization and Multiple Linear Regression\n"
      ],
      "metadata": {
        "id": "rWhmM97OKw-J"
      }
    },
    {
      "cell_type": "code",
      "source": [
        "# Import necessary libraries\n",
        "import numpy as np\n",
        "import pandas as pd\n",
        "from sklearn.model_selection import train_test_split\n",
        "from sklearn.linear_model import LinearRegression\n",
        "from sklearn.preprocessing import StandardScaler\n",
        "from sklearn.pipeline import Pipeline\n",
        "from sklearn.metrics import r2_score\n",
        "\n",
        "# Generate synthetic data\n",
        "np.random.seed(42)  # For reproducibility\n",
        "X1 = np.random.rand(100, 1) * 10  # Feature 1: 100 random values between 0 and 10\n",
        "X2 = np.random.rand(100, 1) * 5   # Feature 2: 100 random values between 0 and 5\n",
        "y = 3 * X1 + 2 * X2 + np.random.randn(100, 1) * 2  # Linear relation with some noise\n",
        "\n",
        "# Create a DataFrame for better handling\n",
        "data = pd.DataFrame(np.hstack((X1, X2, y)), columns=['Feature1', 'Feature2', 'Target'])\n",
        "\n",
        "# Separate the features and target variable\n",
        "X = data[['Feature1', 'Feature2']]\n",
        "y = data['Target']\n",
        "\n",
        "# Split the dataset into training and testing sets\n",
        "X_train, X_test, y_train, y_test = train_test_split(X, y, test_size=0.2, random_state=42)\n",
        "\n",
        "# Create a machine learning pipeline\n",
        "pipeline = Pipeline(steps=[\n",
        "    ('scaler', StandardScaler()),  # Step 1: Standardize features\n",
        "    ('regressor', LinearRegression())  # Step 2: Fit Multiple Linear Regression model\n",
        "])\n",
        "\n",
        "# Fit the pipeline on the training data\n",
        "pipeline.fit(X_train, y_train)\n",
        "\n",
        "# Make predictions on the test set\n",
        "y_pred = pipeline.predict(X_test)\n",
        "\n",
        "# Calculate R-squared score\n",
        "r_squared = r2_score(y_test, y_pred)\n",
        "\n",
        "# Print the R-squared score\n",
        "print(f'R-squared Score: {r_squared:.2f}')"
      ],
      "metadata": {
        "colab": {
          "base_uri": "https://localhost:8080/"
        },
        "id": "k_1Q7YbJK1vK",
        "outputId": "4cde1297-af23-400b-f785-9622dda76ee9"
      },
      "execution_count": 38,
      "outputs": [
        {
          "output_type": "stream",
          "name": "stdout",
          "text": [
            "R-squared Score: 0.97\n"
          ]
        }
      ]
    },
    {
      "cell_type": "markdown",
      "source": [
        "17.  Write a Python script that performs polynomial regression (degree 3) on a synthetic dataset and plots the\n",
        "regression curveK\n"
      ],
      "metadata": {
        "id": "LePEmz_BLO4O"
      }
    },
    {
      "cell_type": "markdown",
      "source": [
        "Python Script for Polynomial Regression (Degree 3)\n"
      ],
      "metadata": {
        "id": "CikLsvCTLbEn"
      }
    },
    {
      "cell_type": "code",
      "source": [
        "\n",
        "pip install matplotlib"
      ],
      "metadata": {
        "colab": {
          "base_uri": "https://localhost:8080/"
        },
        "id": "T3Hdz0WCLhVI",
        "outputId": "8eafe408-a55d-441e-9398-4f3990788a4c"
      },
      "execution_count": 39,
      "outputs": [
        {
          "output_type": "stream",
          "name": "stdout",
          "text": [
            "Requirement already satisfied: matplotlib in /usr/local/lib/python3.10/dist-packages (3.8.0)\n",
            "Requirement already satisfied: contourpy>=1.0.1 in /usr/local/lib/python3.10/dist-packages (from matplotlib) (1.3.1)\n",
            "Requirement already satisfied: cycler>=0.10 in /usr/local/lib/python3.10/dist-packages (from matplotlib) (0.12.1)\n",
            "Requirement already satisfied: fonttools>=4.22.0 in /usr/local/lib/python3.10/dist-packages (from matplotlib) (4.55.3)\n",
            "Requirement already satisfied: kiwisolver>=1.0.1 in /usr/local/lib/python3.10/dist-packages (from matplotlib) (1.4.7)\n",
            "Requirement already satisfied: numpy<2,>=1.21 in /usr/local/lib/python3.10/dist-packages (from matplotlib) (1.26.4)\n",
            "Requirement already satisfied: packaging>=20.0 in /usr/local/lib/python3.10/dist-packages (from matplotlib) (24.2)\n",
            "Requirement already satisfied: pillow>=6.2.0 in /usr/local/lib/python3.10/dist-packages (from matplotlib) (11.0.0)\n",
            "Requirement already satisfied: pyparsing>=2.3.1 in /usr/local/lib/python3.10/dist-packages (from matplotlib) (3.2.0)\n",
            "Requirement already satisfied: python-dateutil>=2.7 in /usr/local/lib/python3.10/dist-packages (from matplotlib) (2.8.2)\n",
            "Requirement already satisfied: six>=1.5 in /usr/local/lib/python3.10/dist-packages (from python-dateutil>=2.7->matplotlib) (1.17.0)\n"
          ]
        }
      ]
    },
    {
      "cell_type": "code",
      "source": [
        "# Import necessary libraries\n",
        "import numpy as np\n",
        "import pandas as pd\n",
        "import matplotlib.pyplot as plt\n",
        "from sklearn.preprocessing import PolynomialFeatures\n",
        "from sklearn.linear_model import LinearRegression\n",
        "from sklearn.model_selection import train_test_split\n",
        "\n",
        "# Generate synthetic data for a polynomial relationship (degree 3)\n",
        "np.random.seed(42)  # For reproducibility\n",
        "X = np.random.rand(100, 1) * 10  # 100 random values for X between 0 and 10\n",
        "y = 0.1 * X**3 - 0.5 * X**2 + 2 * X + np.random.randn(100, 1) * 5  # Polynomial relation with noise\n",
        "\n",
        "# Create a DataFrame for better handling\n",
        "data = pd.DataFrame(np.hstack((X, y)), columns=['Feature', 'Target'])\n",
        "\n",
        "# Separate the features and target variable\n",
        "X = data[['Feature']]\n",
        "y = data['Target']\n",
        "\n",
        "# Split the dataset into training and testing sets\n",
        "X_train, X_test, y_train, y_test = train_test_split(X, y, test_size=0.2, random_state=42)\n",
        "\n",
        "# Create polynomial features\n",
        "poly = PolynomialFeatures(degree=3)\n",
        "X_poly = poly.fit_transform(X_train)\n",
        "\n",
        "# Create a linear regression model\n",
        "model = LinearRegression()\n",
        "\n",
        "# Fit the model on the polynomial features\n",
        "model.fit(X_poly, y_train)\n",
        "\n",
        "# Make predictions for plotting\n",
        "X_range = np.linspace(0, 10, 100).reshape(-1, 1)  # Generate values for plotting\n",
        "X_range_poly = poly.transform(X_range)  # Transform to polynomial features\n",
        "y_pred = model.predict(X_range_poly)  # Predict using the model\n",
        "\n",
        "# Plot the data points\n",
        "plt.scatter(X, y, color='blue', label='Data Points')\n",
        "\n",
        "# Plot the regression curve\n",
        "plt.plot(X_range, y_pred, color='red', label='Polynomial Regression Curve (Degree 3)')\n",
        "\n",
        "# Add labels and title\n",
        "plt.xlabel('Feature')\n",
        "plt.ylabel('Target')\n",
        "plt.title('Polynomial Regression (Degree 3)')\n",
        "plt.legend()\n",
        "plt.grid()\n",
        "\n",
        "# Show the plot\n",
        "plt.show()\n",
        "\n",
        "# Print the model's coefficients and intercept\n",
        "print(f'Model Coefficients: {model.coef_}')\n",
        "print(f'Model Intercept: {model.intercept_}')"
      ],
      "metadata": {
        "colab": {
          "base_uri": "https://localhost:8080/",
          "height": 561
        },
        "id": "m1GNp6LjLoNj",
        "outputId": "d33c22b2-f7d7-4a32-a905-f8b3312f6395"
      },
      "execution_count": 40,
      "outputs": [
        {
          "output_type": "stream",
          "name": "stderr",
          "text": [
            "/usr/local/lib/python3.10/dist-packages/sklearn/utils/validation.py:2739: UserWarning: X does not have valid feature names, but PolynomialFeatures was fitted with feature names\n",
            "  warnings.warn(\n"
          ]
        },
        {
          "output_type": "display_data",
          "data": {
            "text/plain": [
              "<Figure size 640x480 with 1 Axes>"
            ],
            "image/png": "[encoded data removed]"
          },
          "metadata": {}
        },
        {
          "output_type": "stream",
          "name": "stdout",
          "text": [
            "Model Coefficients: [ 0.         -0.71571894 -0.04396649  0.07764631]\n",
            "Model Intercept: 3.657548586798752\n"
          ]
        }
      ]
    },
    {
      "cell_type": "markdown",
      "source": [
        "18. Write a Python script that performs multiple linear regression on a synthetic dataset with 5 features. Print\n",
        "the R-squared score and model coefficientsK"
      ],
      "metadata": {
        "id": "3Kmb_lU-L1Tf"
      }
    },
    {
      "cell_type": "markdown",
      "source": [
        "Python Script for Multiple Linear Regression"
      ],
      "metadata": {
        "id": "9DUE2cfZL81j"
      }
    },
    {
      "cell_type": "code",
      "source": [
        "# Import necessary libraries\n",
        "import numpy as np\n",
        "import pandas as pd\n",
        "from sklearn.model_selection import train_test_split\n",
        "from sklearn.linear_model import LinearRegression\n",
        "from sklearn.metrics import r2_score\n",
        "\n",
        "# Generate synthetic data\n",
        "np.random.seed(42)  # For reproducibility\n",
        "X = np.random.rand(100, 5) * 10  # 100 samples, 5 features (random values between 0 and 10)\n",
        "y = 3 * X[:, 0] + 2 * X[:, 1] - 1 * X[:, 2] + 4 * X[:, 3] + 0.5 * X[:, 4] + np.random.randn(100) * 2  # Linear relation with noise\n",
        "\n",
        "# Create a DataFrame for better handling\n",
        "data = pd.DataFrame(X, columns=[f'Feature{i+1}' for i in range(X.shape[1])])\n",
        "data['Target'] = y\n",
        "\n",
        "# Separate the features and target variable\n",
        "X = data.drop('Target', axis=1)\n",
        "y = data['Target']\n",
        "\n",
        "# Split the dataset into training and testing sets\n",
        "X_train, X_test, y_train, y_test = train_test_split(X, y, test_size=0.2, random_state=42)\n",
        "\n",
        "# Create a linear regression model\n",
        "model = LinearRegression()\n",
        "\n",
        "# Fit the model on the training data\n",
        "model.fit(X_train, y_train)\n",
        "\n",
        "# Make predictions on the test set\n",
        "y_pred = model.predict(X_test)\n",
        "\n",
        "# Calculate R-squared score\n",
        "r_squared = r2_score(y_test, y_pred)\n",
        "\n",
        "# Print the R-squared score and model coefficients\n",
        "print(f'R-squared Score: {r_squared:.2f}')\n",
        "print('Model Coefficients:')\n",
        "for feature, coef in zip(X.columns, model.coef_):\n",
        "    print(f'{feature}: {coef:.2f}')\n",
        "print(f'Intercept: {model.intercept_:.2f}')"
      ],
      "metadata": {
        "colab": {
          "base_uri": "https://localhost:8080/"
        },
        "id": "dgUERyaZL9TP",
        "outputId": "4f304e70-3e47-4507-d183-dd396238688b"
      },
      "execution_count": 41,
      "outputs": [
        {
          "output_type": "stream",
          "name": "stdout",
          "text": [
            "R-squared Score: 0.98\n",
            "Model Coefficients:\n",
            "Feature1: 2.93\n",
            "Feature2: 1.95\n",
            "Feature3: -0.87\n",
            "Feature4: 4.03\n",
            "Feature5: 0.41\n",
            "Intercept: 0.29\n"
          ]
        }
      ]
    },
    {
      "cell_type": "code",
      "source": [],
      "metadata": {
        "id": "KNJQ0YZsMAsj"
      },
      "execution_count": null,
      "outputs": []
    },
    {
      "cell_type": "markdown",
      "source": [
        "19.  Write a Python script that generates synthetic data for linear regression, fits a model, and visualizes the\n",
        "data points along with the regression line."
      ],
      "metadata": {
        "id": "AiemD5Z5MMO6"
      }
    },
    {
      "cell_type": "markdown",
      "source": [
        "Python Script for Linear Regression Visualization"
      ],
      "metadata": {
        "id": "w651eMENMP0b"
      }
    },
    {
      "cell_type": "code",
      "source": [
        "pip install matplotlib"
      ],
      "metadata": {
        "colab": {
          "base_uri": "https://localhost:8080/"
        },
        "id": "evzDmTEcMS2u",
        "outputId": "969727d9-c472-4108-f273-c1d066fec3f0"
      },
      "execution_count": 42,
      "outputs": [
        {
          "output_type": "stream",
          "name": "stdout",
          "text": [
            "Requirement already satisfied: matplotlib in /usr/local/lib/python3.10/dist-packages (3.8.0)\n",
            "Requirement already satisfied: contourpy>=1.0.1 in /usr/local/lib/python3.10/dist-packages (from matplotlib) (1.3.1)\n",
            "Requirement already satisfied: cycler>=0.10 in /usr/local/lib/python3.10/dist-packages (from matplotlib) (0.12.1)\n",
            "Requirement already satisfied: fonttools>=4.22.0 in /usr/local/lib/python3.10/dist-packages (from matplotlib) (4.55.3)\n",
            "Requirement already satisfied: kiwisolver>=1.0.1 in /usr/local/lib/python3.10/dist-packages (from matplotlib) (1.4.7)\n",
            "Requirement already satisfied: numpy<2,>=1.21 in /usr/local/lib/python3.10/dist-packages (from matplotlib) (1.26.4)\n",
            "Requirement already satisfied: packaging>=20.0 in /usr/local/lib/python3.10/dist-packages (from matplotlib) (24.2)\n",
            "Requirement already satisfied: pillow>=6.2.0 in /usr/local/lib/python3.10/dist-packages (from matplotlib) (11.0.0)\n",
            "Requirement already satisfied: pyparsing>=2.3.1 in /usr/local/lib/python3.10/dist-packages (from matplotlib) (3.2.0)\n",
            "Requirement already satisfied: python-dateutil>=2.7 in /usr/local/lib/python3.10/dist-packages (from matplotlib) (2.8.2)\n",
            "Requirement already satisfied: six>=1.5 in /usr/local/lib/python3.10/dist-packages (from python-dateutil>=2.7->matplotlib) (1.17.0)\n"
          ]
        }
      ]
    },
    {
      "cell_type": "code",
      "source": [
        "# Import necessary libraries\n",
        "import numpy as np\n",
        "import pandas as pd\n",
        "import matplotlib.pyplot as plt\n",
        "from sklearn.linear_model import LinearRegression\n",
        "\n",
        "# Generate synthetic data\n",
        "np.random.seed(42)  # For reproducibility\n",
        "X = 2 * np.random.rand(100, 1)  # 100 random values for X between 0 and 2\n",
        "y = 4 + 3 * X + np.random.randn(100, 1)  # Linear relation with some noise\n",
        "\n",
        "# Create a DataFrame for better handling\n",
        "data = pd.DataFrame(np.hstack((X, y)), columns=['Feature', 'Target'])\n",
        "\n",
        "# Separate the features and target variable\n",
        "X = data[['Feature']]\n",
        "y = data['Target']\n",
        "\n",
        "# Create a linear regression model\n",
        "model = LinearRegression()\n",
        "\n",
        "# Fit the model on the data\n",
        "model.fit(X, y)\n",
        "\n",
        "# Make predictions for the regression line\n",
        "X_range = np.linspace(0, 2, 100).reshape(-1, 1)  # Generate values for plotting\n",
        "y_pred = model.predict(X_range)  # Predict using the model\n",
        "\n",
        "# Plot the data points\n",
        "plt.scatter(X, y, color='blue', label='Data Points')\n",
        "\n",
        "# Plot the regression line\n",
        "plt.plot(X_range, y_pred, color='red', label='Regression Line')\n",
        "\n",
        "# Add labels and title\n",
        "plt.xlabel('Feature')\n",
        "plt.ylabel('Target')\n",
        "plt.title('Linear Regression Visualization')\n",
        "plt.legend()\n",
        "plt.grid()\n",
        "\n",
        "# Show the plot\n",
        "plt.show()\n",
        "\n",
        "# Print the model's coefficients and intercept\n",
        "print(f'Model Coefficient (Slope): {model.coef_[0][0]:.2f}')\n",
        "print(f'Model Intercept: {model.intercept_[0]:.2f}')"
      ],
      "metadata": {
        "colab": {
          "base_uri": "https://localhost:8080/",
          "height": 703
        },
        "id": "gegFzIzAMZPW",
        "outputId": "3362aaaa-fbad-4f79-93a0-4a341340512e"
      },
      "execution_count": 44,
      "outputs": [
        {
          "output_type": "stream",
          "name": "stderr",
          "text": [
            "/usr/local/lib/python3.10/dist-packages/sklearn/utils/validation.py:2739: UserWarning: X does not have valid feature names, but LinearRegression was fitted with feature names\n",
            "  warnings.warn(\n"
          ]
        },
        {
          "output_type": "display_data",
          "data": {
            "text/plain": [
              "<Figure size 640x480 with 1 Axes>"
            ],
            "image/png": "[encoded data removed]"
          },
          "metadata": {}
        },
        {
          "output_type": "error",
          "ename": "IndexError",
          "evalue": "invalid index to scalar variable.",
          "traceback": [
            "\u001b[0;31m---------------------------------------------------------------------------\u001b[0m",
            "\u001b[0;31mIndexError\u001b[0m                                Traceback (most recent call last)",
            "\u001b[0;32m<ipython-input-44-e1e363743cf2>\u001b[0m in \u001b[0;36m<cell line: 46>\u001b[0;34m()\u001b[0m\n\u001b[1;32m     44\u001b[0m \u001b[0;34m\u001b[0m\u001b[0m\n\u001b[1;32m     45\u001b[0m \u001b[0;31m# Print the model's coefficients and intercept\u001b[0m\u001b[0;34m\u001b[0m\u001b[0;34m\u001b[0m\u001b[0m\n\u001b[0;32m---> 46\u001b[0;31m \u001b[0mprint\u001b[0m\u001b[0;34m(\u001b[0m\u001b[0;34mf'Model Coefficient (Slope): {model.coef_[0][0]:.2f}'\u001b[0m\u001b[0;34m)\u001b[0m\u001b[0;34m\u001b[0m\u001b[0;34m\u001b[0m\u001b[0m\n\u001b[0m\u001b[1;32m     47\u001b[0m \u001b[0mprint\u001b[0m\u001b[0;34m(\u001b[0m\u001b[0;34mf'Model Intercept: {model.intercept_[0]:.2f}'\u001b[0m\u001b[0;34m)\u001b[0m\u001b[0;34m\u001b[0m\u001b[0;34m\u001b[0m\u001b[0m\n",
            "\u001b[0;31mIndexError\u001b[0m: invalid index to scalar variable."
          ]
        }
      ]
    },
    {
      "cell_type": "markdown",
      "source": [
        "20.  Create a synthetic dataset with 3 features and perform multiple linear regression. Print the model's Rsquared score and coefficients6"
      ],
      "metadata": {
        "id": "0S5UEhIjMjjr"
      }
    },
    {
      "cell_type": "markdown",
      "source": [
        "Python Script for Multiple Linear Regression with 3 Features"
      ],
      "metadata": {
        "id": "o7_61PHoMoVW"
      }
    },
    {
      "cell_type": "code",
      "source": [
        "pip install matplotlib"
      ],
      "metadata": {
        "colab": {
          "base_uri": "https://localhost:8080/"
        },
        "id": "BpCZfe2DMyxB",
        "outputId": "7faf6c89-1301-4b03-f929-f4995ae30c1f"
      },
      "execution_count": 46,
      "outputs": [
        {
          "output_type": "stream",
          "name": "stdout",
          "text": [
            "Requirement already satisfied: matplotlib in /usr/local/lib/python3.10/dist-packages (3.8.0)\n",
            "Requirement already satisfied: contourpy>=1.0.1 in /usr/local/lib/python3.10/dist-packages (from matplotlib) (1.3.1)\n",
            "Requirement already satisfied: cycler>=0.10 in /usr/local/lib/python3.10/dist-packages (from matplotlib) (0.12.1)\n",
            "Requirement already satisfied: fonttools>=4.22.0 in /usr/local/lib/python3.10/dist-packages (from matplotlib) (4.55.3)\n",
            "Requirement already satisfied: kiwisolver>=1.0.1 in /usr/local/lib/python3.10/dist-packages (from matplotlib) (1.4.7)\n",
            "Requirement already satisfied: numpy<2,>=1.21 in /usr/local/lib/python3.10/dist-packages (from matplotlib) (1.26.4)\n",
            "Requirement already satisfied: packaging>=20.0 in /usr/local/lib/python3.10/dist-packages (from matplotlib) (24.2)\n",
            "Requirement already satisfied: pillow>=6.2.0 in /usr/local/lib/python3.10/dist-packages (from matplotlib) (11.0.0)\n",
            "Requirement already satisfied: pyparsing>=2.3.1 in /usr/local/lib/python3.10/dist-packages (from matplotlib) (3.2.0)\n",
            "Requirement already satisfied: python-dateutil>=2.7 in /usr/local/lib/python3.10/dist-packages (from matplotlib) (2.8.2)\n",
            "Requirement already satisfied: six>=1.5 in /usr/local/lib/python3.10/dist-packages (from python-dateutil>=2.7->matplotlib) (1.17.0)\n"
          ]
        }
      ]
    },
    {
      "cell_type": "code",
      "source": [
        "# Import necessary libraries\n",
        "import numpy as np\n",
        "import pandas as pd\n",
        "from sklearn.model_selection import train_test_split\n",
        "from sklearn.linear_model import LinearRegression\n",
        "from sklearn.metrics import r2_score\n",
        "\n",
        "# Generate synthetic data\n",
        "np.random.seed(42)  # For reproducibility\n",
        "X1 = np.random.rand(100, 1) * 10  # Feature 1: 100 random values between 0 and 10\n",
        "X2 = np.random.rand(100, 1) * 5   # Feature 2: 100 random values between 0 and 5\n",
        "X3 = np.random.rand(100, 1) * 20  # Feature 3: 100 random values between 0 and 20\n",
        "y = 2 * X1 + 3 * X2 - 1 * X3 + np.random.randn(100, 1) * 2  # Linear relation with noise\n",
        "\n",
        "# Create a DataFrame for better handling\n",
        "data = pd.DataFrame(np.hstack((X1, X2, X3, y)), columns=['Feature1', 'Feature2', 'Feature3', 'Target'])\n",
        "\n",
        "# Separate the features and target variable\n",
        "X = data[['Feature1', 'Feature2', 'Feature3']]\n",
        "y = data['Target']\n",
        "\n",
        "# Split the dataset into training and testing sets\n",
        "X_train, X_test, y_train, y_test = train_test_split(X, y, test_size=0.2, random_state=42)\n",
        "\n",
        "# Create a linear regression model\n",
        "model = LinearRegression()\n",
        "\n",
        "# Fit the model on the training data\n",
        "model.fit(X_train, y_train)\n",
        "\n",
        "# Make predictions on the test set\n",
        "y_pred = model.predict(X_test)\n",
        "\n",
        "# Calculate R-squared score\n",
        "r_squared = r2_score(y_test, y_pred)\n",
        "\n",
        "# Print the R-squared score and model coefficients\n",
        "print(f'R-squared Score: {r_squared:.2f}')\n",
        "print('Model Coefficients:')\n",
        "for feature, coef in zip(X.columns, model.coef_):\n",
        "    print(f'{feature}: {coef:.2f}')\n",
        "print(f'Intercept: {model.intercept_[0]:.2f}')"
      ],
      "metadata": {
        "colab": {
          "base_uri": "https://localhost:8080/",
          "height": 263
        },
        "id": "vRhI3T4iMm2O",
        "outputId": "b0596b12-f140-4b1e-9938-e7560b0b7acd"
      },
      "execution_count": 47,
      "outputs": [
        {
          "output_type": "stream",
          "name": "stdout",
          "text": [
            "R-squared Score: 0.86\n",
            "Model Coefficients:\n",
            "Feature1: 2.13\n",
            "Feature2: 3.17\n",
            "Feature3: -0.96\n"
          ]
        },
        {
          "output_type": "error",
          "ename": "IndexError",
          "evalue": "invalid index to scalar variable.",
          "traceback": [
            "\u001b[0;31m---------------------------------------------------------------------------\u001b[0m",
            "\u001b[0;31mIndexError\u001b[0m                                Traceback (most recent call last)",
            "\u001b[0;32m<ipython-input-47-7d28e169f993>\u001b[0m in \u001b[0;36m<cell line: 42>\u001b[0;34m()\u001b[0m\n\u001b[1;32m     40\u001b[0m \u001b[0;32mfor\u001b[0m \u001b[0mfeature\u001b[0m\u001b[0;34m,\u001b[0m \u001b[0mcoef\u001b[0m \u001b[0;32min\u001b[0m \u001b[0mzip\u001b[0m\u001b[0;34m(\u001b[0m\u001b[0mX\u001b[0m\u001b[0;34m.\u001b[0m\u001b[0mcolumns\u001b[0m\u001b[0;34m,\u001b[0m \u001b[0mmodel\u001b[0m\u001b[0;34m.\u001b[0m\u001b[0mcoef_\u001b[0m\u001b[0;34m)\u001b[0m\u001b[0;34m:\u001b[0m\u001b[0;34m\u001b[0m\u001b[0;34m\u001b[0m\u001b[0m\n\u001b[1;32m     41\u001b[0m     \u001b[0mprint\u001b[0m\u001b[0;34m(\u001b[0m\u001b[0;34mf'{feature}: {coef:.2f}'\u001b[0m\u001b[0;34m)\u001b[0m\u001b[0;34m\u001b[0m\u001b[0;34m\u001b[0m\u001b[0m\n\u001b[0;32m---> 42\u001b[0;31m \u001b[0mprint\u001b[0m\u001b[0;34m(\u001b[0m\u001b[0;34mf'Intercept: {model.intercept_[0]:.2f}'\u001b[0m\u001b[0;34m)\u001b[0m\u001b[0;34m\u001b[0m\u001b[0;34m\u001b[0m\u001b[0m\n\u001b[0m",
            "\u001b[0;31mIndexError\u001b[0m: invalid index to scalar variable."
          ]
        }
      ]
    },
    {
      "cell_type": "code",
      "source": [],
      "metadata": {
        "id": "KMFzAR8xMtfP"
      },
      "execution_count": null,
      "outputs": []
    },
    {
      "cell_type": "markdown",
      "source": [
        "21 Write a Python script to pickle a trained linear regression model, save it to a file, and load it back for\n",
        "prediction"
      ],
      "metadata": {
        "id": "dkjy-z1JNJPB"
      }
    },
    {
      "cell_type": "markdown",
      "source": [
        "Python Script for Pickling a Linear Regression Model\n",
        "python\n"
      ],
      "metadata": {
        "id": "VeLdTBLdNSu6"
      }
    },
    {
      "cell_type": "code",
      "source": [
        "# Import necessary libraries\n",
        "import numpy as np\n",
        "import pandas as pd\n",
        "import pickle\n",
        "from sklearn.model_selection import train_test_split\n",
        "from sklearn.linear_model import LinearRegression\n",
        "\n",
        "# Generate synthetic data\n",
        "np.random.seed(42)  # For reproducibility\n",
        "X1 = np.random.rand(100, 1) * 10  # Feature 1: 100 random values between 0 and 10\n",
        "X2 = np.random.rand(100, 1) * 5   # Feature 2: 100 random values between 0 and 5\n",
        "y = 2 * X1 + 3 * X2 + np.random.randn(100, 1) * 2  # Linear relation with noise\n",
        "\n",
        "# Create a DataFrame for better handling\n",
        "data = pd.DataFrame(np.hstack((X1, X2, y)), columns=['Feature1', 'Feature2', 'Target'])\n",
        "\n",
        "# Separate the features and target variable\n",
        "X = data[['Feature1', 'Feature2']]\n",
        "y = data['Target']\n",
        "\n",
        "# Split the dataset into training and testing sets\n",
        "X_train, X_test, y_train, y_test = train_test_split(X, y, test_size=0.2, random_state=42)\n",
        "\n",
        "# Create a linear regression model\n",
        "model = LinearRegression()\n",
        "\n",
        "# Fit the model on the training data\n",
        "model.fit(X_train, y_train)\n",
        "\n",
        "# Save the trained model to a file using pickle\n",
        "model_filename = 'linear_regression_model.pkl'\n",
        "with open(model_filename, 'wb') as file:\n",
        "    pickle.dump(model, file)\n",
        "\n",
        "print(f'Model saved to {model_filename}')\n",
        "\n",
        "# Load the model back from the file\n",
        "with open(model_filename, 'rb') as file:\n",
        "    loaded_model = pickle.load(file)\n",
        "\n",
        "# Make predictions using the loaded model\n",
        "y_pred = loaded_model.predict(X_test)\n",
        "\n",
        "# Print predictions\n",
        "print('Predictions from the loaded model:')\n",
        "print(y_pred)"
      ],
      "metadata": {
        "colab": {
          "base_uri": "https://localhost:8080/"
        },
        "id": "hQaHYaw8NPen",
        "outputId": "5d5023cb-90e5-4406-e1f1-4a7a7b772747"
      },
      "execution_count": 48,
      "outputs": [
        {
          "output_type": "stream",
          "name": "stdout",
          "text": [
            "Model saved to linear_regression_model.pkl\n",
            "Predictions from the loaded model:\n",
            "[15.36723292 25.14804796 25.87550927 13.11710587  9.35378138 24.27616197\n",
            " 10.55404862 22.07002212  4.79035479  7.41098208 22.80304491 18.35198144\n",
            " 19.24206853 23.68557603  3.46172568 17.67120747 26.07816297  7.44027497\n",
            " 31.22831519  6.59303495]\n"
          ]
        }
      ]
    },
    {
      "cell_type": "code",
      "source": [],
      "metadata": {
        "id": "RhX_VbqtNa2H"
      },
      "execution_count": null,
      "outputs": []
    },
    {
      "cell_type": "markdown",
      "source": [
        "22. Write a Python script to perform linear regression with categorical features using one-hot encoding. Use\n",
        "the Seaborn 'tips' dataset6"
      ],
      "metadata": {
        "id": "afAb26ntNea7"
      }
    },
    {
      "cell_type": "markdown",
      "source": [
        "Python Script for Linear Regression with Categorical Features"
      ],
      "metadata": {
        "id": "nMtoHQ-rNu7T"
      }
    },
    {
      "cell_type": "code",
      "source": [
        "pip install seaborn"
      ],
      "metadata": {
        "colab": {
          "base_uri": "https://localhost:8080/"
        },
        "id": "iC4MhV8ANgJQ",
        "outputId": "7bb1512b-94c2-4910-e39e-4708483402fa"
      },
      "execution_count": 49,
      "outputs": [
        {
          "output_type": "stream",
          "name": "stdout",
          "text": [
            "Requirement already satisfied: seaborn in /usr/local/lib/python3.10/dist-packages (0.13.2)\n",
            "Requirement already satisfied: numpy!=1.24.0,>=1.20 in /usr/local/lib/python3.10/dist-packages (from seaborn) (1.26.4)\n",
            "Requirement already satisfied: pandas>=1.2 in /usr/local/lib/python3.10/dist-packages (from seaborn) (2.2.2)\n",
            "Requirement already satisfied: matplotlib!=3.6.1,>=3.4 in /usr/local/lib/python3.10/dist-packages (from seaborn) (3.8.0)\n",
            "Requirement already satisfied: contourpy>=1.0.1 in /usr/local/lib/python3.10/dist-packages (from matplotlib!=3.6.1,>=3.4->seaborn) (1.3.1)\n",
            "Requirement already satisfied: cycler>=0.10 in /usr/local/lib/python3.10/dist-packages (from matplotlib!=3.6.1,>=3.4->seaborn) (0.12.1)\n",
            "Requirement already satisfied: fonttools>=4.22.0 in /usr/local/lib/python3.10/dist-packages (from matplotlib!=3.6.1,>=3.4->seaborn) (4.55.3)\n",
            "Requirement already satisfied: kiwisolver>=1.0.1 in /usr/local/lib/python3.10/dist-packages (from matplotlib!=3.6.1,>=3.4->seaborn) (1.4.7)\n",
            "Requirement already satisfied: packaging>=20.0 in /usr/local/lib/python3.10/dist-packages (from matplotlib!=3.6.1,>=3.4->seaborn) (24.2)\n",
            "Requirement already satisfied: pillow>=6.2.0 in /usr/local/lib/python3.10/dist-packages (from matplotlib!=3.6.1,>=3.4->seaborn) (11.0.0)\n",
            "Requirement already satisfied: pyparsing>=2.3.1 in /usr/local/lib/python3.10/dist-packages (from matplotlib!=3.6.1,>=3.4->seaborn) (3.2.0)\n",
            "Requirement already satisfied: python-dateutil>=2.7 in /usr/local/lib/python3.10/dist-packages (from matplotlib!=3.6.1,>=3.4->seaborn) (2.8.2)\n",
            "Requirement already satisfied: pytz>=2020.1 in /usr/local/lib/python3.10/dist-packages (from pandas>=1.2->seaborn) (2024.2)\n",
            "Requirement already satisfied: tzdata>=2022.7 in /usr/local/lib/python3.10/dist-packages (from pandas>=1.2->seaborn) (2024.2)\n",
            "Requirement already satisfied: six>=1.5 in /usr/local/lib/python3.10/dist-packages (from python-dateutil>=2.7->matplotlib!=3.6.1,>=3.4->seaborn) (1.17.0)\n"
          ]
        }
      ]
    },
    {
      "cell_type": "markdown",
      "source": [],
      "metadata": {
        "id": "CXhg8K-5NvEP"
      }
    },
    {
      "cell_type": "code",
      "source": [
        "# Import necessary libraries\n",
        "import pandas as pd\n",
        "import seaborn as sns\n",
        "from sklearn.model_selection import train_test_split\n",
        "from sklearn.linear_model import LinearRegression\n",
        "from sklearn.metrics import r2_score\n",
        "\n",
        "# Load the tips dataset from Seaborn\n",
        "tips = sns.load_dataset('tips')\n",
        "\n",
        "# Display the first few rows of the dataset\n",
        "print(\"First few rows of the dataset:\")\n",
        "print(tips.head())\n",
        "\n",
        "# One-hot encode the categorical features\n",
        "tips_encoded = pd.get_dummies(tips, columns=['sex', 'smoker', 'day', 'time'], drop_first=True)\n",
        "\n",
        "# Separate the features and target variable\n",
        "X = tips_encoded.drop('total_bill', axis=1)  # Features\n",
        "y = tips_encoded['total_bill']  # Target variable\n",
        "\n",
        "# Split the dataset into training and testing sets\n",
        "X_train, X_test, y_train, y_test = train_test_split(X, y, test_size=0.2, random_state=42)\n",
        "\n",
        "# Create a linear regression model\n",
        "model = LinearRegression()\n",
        "\n",
        "# Fit the model on the training data\n",
        "model.fit(X_train, y_train)\n",
        "\n",
        "# Make predictions on the test set\n",
        "y_pred = model.predict(X_test)\n",
        "\n",
        "# Calculate R-squared score\n",
        "r_squared = r2_score(y_test, y_pred)\n",
        "\n",
        "# Print the R-squared score and model coefficients\n",
        "print(f'\\nR-squared Score: {r_squared:.2f}')\n",
        "print('Model Coefficients:')\n",
        "for feature, coef in zip(X.columns, model.coef_):\n",
        "    print(f'{feature}: {coef:.2f}')\n",
        "print(f'Intercept: {model.intercept_:.2f}')"
      ],
      "metadata": {
        "colab": {
          "base_uri": "https://localhost:8080/"
        },
        "id": "brvxIt38OBu3",
        "outputId": "d6bf3439-4973-4642-9882-5741f51614fe"
      },
      "execution_count": 50,
      "outputs": [
        {
          "output_type": "stream",
          "name": "stdout",
          "text": [
            "First few rows of the dataset:\n",
            "   total_bill   tip     sex smoker  day    time  size\n",
            "0       16.99  1.01  Female     No  Sun  Dinner     2\n",
            "1       10.34  1.66    Male     No  Sun  Dinner     3\n",
            "2       21.01  3.50    Male     No  Sun  Dinner     3\n",
            "3       23.68  3.31    Male     No  Sun  Dinner     2\n",
            "4       24.59  3.61  Female     No  Sun  Dinner     4\n",
            "\n",
            "R-squared Score: 0.62\n",
            "Model Coefficients:\n",
            "tip: 2.92\n",
            "size: 3.13\n",
            "sex_Female: -0.89\n",
            "smoker_No: -2.77\n",
            "day_Fri: -3.19\n",
            "day_Sat: -3.00\n",
            "day_Sun: -4.01\n",
            "time_Dinner: 5.21\n",
            "Intercept: 3.99\n"
          ]
        }
      ]
    },
    {
      "cell_type": "markdown",
      "source": [
        "23 . Compare Ridge Regression with Linear Regression on a synthetic dataset and print the coefficients and Rsquared score"
      ],
      "metadata": {
        "id": "57KCeUVWOFYo"
      }
    },
    {
      "cell_type": "code",
      "source": [
        "pip install scikit-learn"
      ],
      "metadata": {
        "colab": {
          "base_uri": "https://localhost:8080/"
        },
        "id": "eP1az9rxOLXe",
        "outputId": "3660b5fa-6071-405b-9494-448c8435142a"
      },
      "execution_count": 51,
      "outputs": [
        {
          "output_type": "stream",
          "name": "stdout",
          "text": [
            "Requirement already satisfied: scikit-learn in /usr/local/lib/python3.10/dist-packages (1.6.0)\n",
            "Requirement already satisfied: numpy>=1.19.5 in /usr/local/lib/python3.10/dist-packages (from scikit-learn) (1.26.4)\n",
            "Requirement already satisfied: scipy>=1.6.0 in /usr/local/lib/python3.10/dist-packages (from scikit-learn) (1.13.1)\n",
            "Requirement already satisfied: joblib>=1.2.0 in /usr/local/lib/python3.10/dist-packages (from scikit-learn) (1.4.2)\n",
            "Requirement already satisfied: threadpoolctl>=3.1.0 in /usr/local/lib/python3.10/dist-packages (from scikit-learn) (3.5.0)\n"
          ]
        }
      ]
    },
    {
      "cell_type": "code",
      "source": [],
      "metadata": {
        "id": "rrYhvHCJOTJY"
      },
      "execution_count": null,
      "outputs": []
    },
    {
      "cell_type": "code",
      "source": [
        "# Import necessary libraries\n",
        "import numpy as np\n",
        "import pandas as pd\n",
        "import matplotlib.pyplot as plt\n",
        "from sklearn.datasets import make_regression\n",
        "from sklearn.model_selection import train_test_split\n",
        "from sklearn.linear_model import LinearRegression, Ridge\n",
        "from sklearn.metrics import r2_score\n",
        "\n",
        "# Generate a synthetic dataset\n",
        "X, y, coef = make_regression(n_samples=100, n_features=10, noise=0.1, coef=True, random_state=42)\n",
        "\n",
        "# Split the dataset into training and testing sets\n",
        "X_train, X_test, y_train, y_test = train_test_split(X, y, test_size=0.2, random_state=42)\n",
        "\n",
        "# Fit Linear Regression model\n",
        "lin_reg = LinearRegression()\n",
        "lin_reg.fit(X_train, y_train)\n",
        "\n",
        "# Make predictions with Linear Regression\n",
        "y_pred_lin = lin_reg.predict(X_test)\n",
        "\n",
        "# Calculate R-squared score for Linear Regression\n",
        "r2_lin = r2_score(y_test, y_pred_lin)\n",
        "\n",
        "# Fit Ridge Regression model\n",
        "ridge_reg = Ridge(alpha=1.0)  # You can adjust the alpha value for regularization strength\n",
        "ridge_reg.fit(X_train, y_train)\n",
        "\n",
        "# Make predictions with Ridge Regression\n",
        "y_pred_ridge = ridge_reg.predict(X_test)\n",
        "\n",
        "# Calculate R-squared score for Ridge Regression\n",
        "r2_ridge = r2_score(y_test, y_pred_ridge)\n",
        "\n",
        "# Print coefficients and R-squared scores\n",
        "print(\"Linear Regression Coefficients:\")\n",
        "print(lin_reg.coef_)\n",
        "print(f'Linear Regression R-squared Score: {r2_lin:.2f}\\n')\n",
        "\n",
        "print(\"Ridge Regression Coefficients:\")\n",
        "print(ridge_reg.coef_)\n",
        "print(f'Ridge Regression R-squared Score: {r2_ridge:.2f}')"
      ],
      "metadata": {
        "colab": {
          "base_uri": "https://localhost:8080/"
        },
        "id": "vFs1M45ROYS5",
        "outputId": "89ccda54-744f-4428-dff6-f12d8509052b"
      },
      "execution_count": 52,
      "outputs": [
        {
          "output_type": "stream",
          "name": "stdout",
          "text": [
            "Linear Regression Coefficients:\n",
            "[16.7712358  54.13782324  5.18097686 63.64362199 93.61309994 70.63686589\n",
            " 87.0713662  10.43882574  3.15690876 70.90887261]\n",
            "Linear Regression R-squared Score: 1.00\n",
            "\n",
            "Ridge Regression Coefficients:\n",
            "[16.95562623 53.26139273  5.14229184 62.71297072 92.14122801 69.72025958\n",
            " 86.01729963  9.90576126  3.25096976 69.63820737]\n",
            "Ridge Regression R-squared Score: 1.00\n"
          ]
        }
      ]
    },
    {
      "cell_type": "markdown",
      "source": [
        "24. Write a Python script that uses cross-validation to evaluate a Linear Regression model on a synthetic\n",
        "dataset6"
      ],
      "metadata": {
        "id": "0EWS5_M9Ofk7"
      }
    },
    {
      "cell_type": "markdown",
      "source": [
        "Python Script for Cross-Validation of Linear Regression"
      ],
      "metadata": {
        "id": "aR5UpFKAOiIx"
      }
    },
    {
      "cell_type": "code",
      "source": [
        "pip install scikit-learn"
      ],
      "metadata": {
        "colab": {
          "base_uri": "https://localhost:8080/"
        },
        "id": "1icIvijDOZNT",
        "outputId": "564aef30-2259-4fa5-b6a1-290db3973508"
      },
      "execution_count": 53,
      "outputs": [
        {
          "output_type": "stream",
          "name": "stdout",
          "text": [
            "Requirement already satisfied: scikit-learn in /usr/local/lib/python3.10/dist-packages (1.6.0)\n",
            "Requirement already satisfied: numpy>=1.19.5 in /usr/local/lib/python3.10/dist-packages (from scikit-learn) (1.26.4)\n",
            "Requirement already satisfied: scipy>=1.6.0 in /usr/local/lib/python3.10/dist-packages (from scikit-learn) (1.13.1)\n",
            "Requirement already satisfied: joblib>=1.2.0 in /usr/local/lib/python3.10/dist-packages (from scikit-learn) (1.4.2)\n",
            "Requirement already satisfied: threadpoolctl>=3.1.0 in /usr/local/lib/python3.10/dist-packages (from scikit-learn) (3.5.0)\n"
          ]
        }
      ]
    },
    {
      "cell_type": "code",
      "source": [
        "# Import necessary libraries\n",
        "import numpy as np\n",
        "import pandas as pd\n",
        "from sklearn.datasets import make_regression\n",
        "from sklearn.model_selection import cross_val_score\n",
        "from sklearn.linear_model import LinearRegression\n",
        "\n",
        "# Generate a synthetic dataset\n",
        "X, y, coef = make_regression(n_samples=100, n_features=5, noise=0.1, coef=True, random_state=42)\n",
        "\n",
        "# Create a DataFrame for better handling (optional)\n",
        "data = pd.DataFrame(X, columns=[f'Feature{i+1}' for i in range(X.shape[1])])\n",
        "data['Target'] = y\n",
        "\n",
        "# Create a Linear Regression model\n",
        "model = LinearRegression()\n",
        "\n",
        "# Perform cross-validation\n",
        "cv_scores = cross_val_score(model, X, y, cv=5, scoring='r2')  # 5-fold cross-validation\n",
        "\n",
        "# Print the cross-validated R-squared scores\n",
        "print(\"Cross-Validated R-squared Scores:\")\n",
        "print(cv_scores)\n",
        "print(f'Mean R-squared Score: {np.mean(cv_scores):.2f}')"
      ],
      "metadata": {
        "colab": {
          "base_uri": "https://localhost:8080/"
        },
        "id": "hWUthdb-Ovfn",
        "outputId": "e4c8ede7-b1a9-41f7-d4da-1e5831e991bd"
      },
      "execution_count": 54,
      "outputs": [
        {
          "output_type": "stream",
          "name": "stdout",
          "text": [
            "Cross-Validated R-squared Scores:\n",
            "[0.99999931 0.99999901 0.99999977 0.99999917 0.99999934]\n",
            "Mean R-squared Score: 1.00\n"
          ]
        }
      ]
    },
    {
      "cell_type": "markdown",
      "source": [
        "25. Write a Python script that compares polynomial regression models of different degrees and prints the Rsquared score for each6"
      ],
      "metadata": {
        "id": "CHoD3vD3O4kp"
      }
    },
    {
      "cell_type": "markdown",
      "source": [
        "Python Script to Compare Polynomial Regression Models of Different Degrees\n",
        "python"
      ],
      "metadata": {
        "id": "xAzbjzHgO76G"
      }
    },
    {
      "cell_type": "code",
      "source": [
        "pip install matplotlib"
      ],
      "metadata": {
        "colab": {
          "base_uri": "https://localhost:8080/"
        },
        "id": "MtwQjmzaPCR9",
        "outputId": "329c7c08-2e08-4387-e3f6-e903b09346ac"
      },
      "execution_count": 55,
      "outputs": [
        {
          "output_type": "stream",
          "name": "stdout",
          "text": [
            "Requirement already satisfied: matplotlib in /usr/local/lib/python3.10/dist-packages (3.8.0)\n",
            "Requirement already satisfied: contourpy>=1.0.1 in /usr/local/lib/python3.10/dist-packages (from matplotlib) (1.3.1)\n",
            "Requirement already satisfied: cycler>=0.10 in /usr/local/lib/python3.10/dist-packages (from matplotlib) (0.12.1)\n",
            "Requirement already satisfied: fonttools>=4.22.0 in /usr/local/lib/python3.10/dist-packages (from matplotlib) (4.55.3)\n",
            "Requirement already satisfied: kiwisolver>=1.0.1 in /usr/local/lib/python3.10/dist-packages (from matplotlib) (1.4.7)\n",
            "Requirement already satisfied: numpy<2,>=1.21 in /usr/local/lib/python3.10/dist-packages (from matplotlib) (1.26.4)\n",
            "Requirement already satisfied: packaging>=20.0 in /usr/local/lib/python3.10/dist-packages (from matplotlib) (24.2)\n",
            "Requirement already satisfied: pillow>=6.2.0 in /usr/local/lib/python3.10/dist-packages (from matplotlib) (11.0.0)\n",
            "Requirement already satisfied: pyparsing>=2.3.1 in /usr/local/lib/python3.10/dist-packages (from matplotlib) (3.2.0)\n",
            "Requirement already satisfied: python-dateutil>=2.7 in /usr/local/lib/python3.10/dist-packages (from matplotlib) (2.8.2)\n",
            "Requirement already satisfied: six>=1.5 in /usr/local/lib/python3.10/dist-packages (from python-dateutil>=2.7->matplotlib) (1.17.0)\n"
          ]
        }
      ]
    },
    {
      "cell_type": "code",
      "source": [
        "# Import necessary libraries\n",
        "import numpy as np\n",
        "import pandas as pd\n",
        "import matplotlib.pyplot as plt\n",
        "from sklearn.preprocessing import PolynomialFeatures\n",
        "from sklearn.linear_model import LinearRegression\n",
        "from sklearn.model_selection import train_test_split\n",
        "from sklearn.metrics import r2_score\n",
        "\n",
        "# Generate synthetic data for a polynomial relationship\n",
        "np.random.seed(42)  # For reproducibility\n",
        "X = np.random.rand(100, 1) * 10  # 100 random values for X between 0 and 10\n",
        "y = 0.1 * X**3 - 0.5 * X**2 + 2 * X + np.random.randn(100, 1) * 5  # Polynomial relation with noise\n",
        "\n",
        "# Split the dataset into training and testing sets\n",
        "X_train, X_test, y_train, y_test = train_test_split(X, y, test_size=0.2, random_state=42)\n",
        "\n",
        "# List of polynomial degrees to evaluate\n",
        "degrees = [1, 2, 3, 4, 5]\n",
        "\n",
        "# Store R-squared scores for each degree\n",
        "r_squared_scores = {}\n",
        "\n",
        "# Fit polynomial regression models of different degrees\n",
        "for degree in degrees:\n",
        "    # Create polynomial features\n",
        "    poly = PolynomialFeatures(degree=degree)\n",
        "    X_poly_train = poly.fit_transform(X_train)\n",
        "    X_poly_test = poly.transform(X_test)\n",
        "\n",
        "    # Create and fit the model\n",
        "    model = LinearRegression()\n",
        "    model.fit(X_poly_train, y_train)\n",
        "\n",
        "    # Make predictions\n",
        "    y_pred = model.predict(X_poly_test)\n",
        "\n",
        "    # Calculate R-squared score\n",
        "    r_squared = r2_score(y_test, y_pred)\n",
        "    r_squared_scores[degree] = r_squared\n",
        "\n",
        "    print(f'Degree {degree} Polynomial Regression R-squared Score: {r_squared:.2f}')\n",
        "\n",
        "# Optional: Plotting the results for visualization\n",
        "plt.figure(figsize=(10, 6))\n",
        "plt.scatter(X, y, color='blue', label='Data Points', alpha=0.5)\n",
        "\n",
        "# Plot polynomial regression curves for each degree\n",
        "X_range = np.linspace(0, 10, 100).reshape(-1, 1)\n",
        "for degree in degrees:\n",
        "    poly = PolynomialFeatures(degree=degree)\n",
        "    X_poly_range = poly.fit_transform(X_range)\n",
        "    y_poly_pred = model.predict(X_poly_range)\n",
        "    plt.plot(X_range, y_poly_pred, label=f'Degree {degree}')\n",
        "\n",
        "plt.xlabel('Feature')\n",
        "plt.ylabel('Target')\n",
        "plt.title('Polynomial Regression Models of Different Degrees')\n",
        "plt.legend()\n",
        "plt.grid()\n",
        "plt.show()"
      ],
      "metadata": {
        "colab": {
          "base_uri": "https://localhost:8080/",
          "height": 948
        },
        "id": "cBMu55tNPEhY",
        "outputId": "2c5018d4-d841-4ea3-87e8-9ac896082e19"
      },
      "execution_count": 56,
      "outputs": [
        {
          "output_type": "stream",
          "name": "stdout",
          "text": [
            "Degree 1 Polynomial Regression R-squared Score: 0.80\n",
            "Degree 2 Polynomial Regression R-squared Score: 0.94\n",
            "Degree 3 Polynomial Regression R-squared Score: 0.95\n",
            "Degree 4 Polynomial Regression R-squared Score: 0.95\n",
            "Degree 5 Polynomial Regression R-squared Score: 0.95\n"
          ]
        },
        {
          "output_type": "error",
          "ename": "ValueError",
          "evalue": "X has 2 features, but LinearRegression is expecting 6 features as input.",
          "traceback": [
            "\u001b[0;31m---------------------------------------------------------------------------\u001b[0m",
            "\u001b[0;31mValueError\u001b[0m                                Traceback (most recent call last)",
            "\u001b[0;32m<ipython-input-56-4d4294b24a69>\u001b[0m in \u001b[0;36m<cell line: 50>\u001b[0;34m()\u001b[0m\n\u001b[1;32m     51\u001b[0m     \u001b[0mpoly\u001b[0m \u001b[0;34m=\u001b[0m \u001b[0mPolynomialFeatures\u001b[0m\u001b[0;34m(\u001b[0m\u001b[0mdegree\u001b[0m\u001b[0;34m=\u001b[0m\u001b[0mdegree\u001b[0m\u001b[0;34m)\u001b[0m\u001b[0;34m\u001b[0m\u001b[0;34m\u001b[0m\u001b[0m\n\u001b[1;32m     52\u001b[0m     \u001b[0mX_poly_range\u001b[0m \u001b[0;34m=\u001b[0m \u001b[0mpoly\u001b[0m\u001b[0;34m.\u001b[0m\u001b[0mfit_transform\u001b[0m\u001b[0;34m(\u001b[0m\u001b[0mX_range\u001b[0m\u001b[0;34m)\u001b[0m\u001b[0;34m\u001b[0m\u001b[0;34m\u001b[0m\u001b[0m\n\u001b[0;32m---> 53\u001b[0;31m     \u001b[0my_poly_pred\u001b[0m \u001b[0;34m=\u001b[0m \u001b[0mmodel\u001b[0m\u001b[0;34m.\u001b[0m\u001b[0mpredict\u001b[0m\u001b[0;34m(\u001b[0m\u001b[0mX_poly_range\u001b[0m\u001b[0;34m)\u001b[0m\u001b[0;34m\u001b[0m\u001b[0;34m\u001b[0m\u001b[0m\n\u001b[0m\u001b[1;32m     54\u001b[0m     \u001b[0mplt\u001b[0m\u001b[0;34m.\u001b[0m\u001b[0mplot\u001b[0m\u001b[0;34m(\u001b[0m\u001b[0mX_range\u001b[0m\u001b[0;34m,\u001b[0m \u001b[0my_poly_pred\u001b[0m\u001b[0;34m,\u001b[0m \u001b[0mlabel\u001b[0m\u001b[0;34m=\u001b[0m\u001b[0;34mf'Degree {degree}'\u001b[0m\u001b[0;34m)\u001b[0m\u001b[0;34m\u001b[0m\u001b[0;34m\u001b[0m\u001b[0m\n\u001b[1;32m     55\u001b[0m \u001b[0;34m\u001b[0m\u001b[0m\n",
            "\u001b[0;32m/usr/local/lib/python3.10/dist-packages/sklearn/linear_model/_base.py\u001b[0m in \u001b[0;36mpredict\u001b[0;34m(self, X)\u001b[0m\n\u001b[1;32m    295\u001b[0m             \u001b[0mReturns\u001b[0m \u001b[0mpredicted\u001b[0m \u001b[0mvalues\u001b[0m\u001b[0;34m.\u001b[0m\u001b[0;34m\u001b[0m\u001b[0;34m\u001b[0m\u001b[0m\n\u001b[1;32m    296\u001b[0m         \"\"\"\n\u001b[0;32m--> 297\u001b[0;31m         \u001b[0;32mreturn\u001b[0m \u001b[0mself\u001b[0m\u001b[0;34m.\u001b[0m\u001b[0m_decision_function\u001b[0m\u001b[0;34m(\u001b[0m\u001b[0mX\u001b[0m\u001b[0;34m)\u001b[0m\u001b[0;34m\u001b[0m\u001b[0;34m\u001b[0m\u001b[0m\n\u001b[0m\u001b[1;32m    298\u001b[0m \u001b[0;34m\u001b[0m\u001b[0m\n\u001b[1;32m    299\u001b[0m     \u001b[0;32mdef\u001b[0m \u001b[0m_set_intercept\u001b[0m\u001b[0;34m(\u001b[0m\u001b[0mself\u001b[0m\u001b[0;34m,\u001b[0m \u001b[0mX_offset\u001b[0m\u001b[0;34m,\u001b[0m \u001b[0my_offset\u001b[0m\u001b[0;34m,\u001b[0m \u001b[0mX_scale\u001b[0m\u001b[0;34m)\u001b[0m\u001b[0;34m:\u001b[0m\u001b[0;34m\u001b[0m\u001b[0;34m\u001b[0m\u001b[0m\n",
            "\u001b[0;32m/usr/local/lib/python3.10/dist-packages/sklearn/linear_model/_base.py\u001b[0m in \u001b[0;36m_decision_function\u001b[0;34m(self, X)\u001b[0m\n\u001b[1;32m    274\u001b[0m         \u001b[0mcheck_is_fitted\u001b[0m\u001b[0;34m(\u001b[0m\u001b[0mself\u001b[0m\u001b[0;34m)\u001b[0m\u001b[0;34m\u001b[0m\u001b[0;34m\u001b[0m\u001b[0m\n\u001b[1;32m    275\u001b[0m \u001b[0;34m\u001b[0m\u001b[0m\n\u001b[0;32m--> 276\u001b[0;31m         \u001b[0mX\u001b[0m \u001b[0;34m=\u001b[0m \u001b[0mvalidate_data\u001b[0m\u001b[0;34m(\u001b[0m\u001b[0mself\u001b[0m\u001b[0;34m,\u001b[0m \u001b[0mX\u001b[0m\u001b[0;34m,\u001b[0m \u001b[0maccept_sparse\u001b[0m\u001b[0;34m=\u001b[0m\u001b[0;34m[\u001b[0m\u001b[0;34m\"csr\"\u001b[0m\u001b[0;34m,\u001b[0m \u001b[0;34m\"csc\"\u001b[0m\u001b[0;34m,\u001b[0m \u001b[0;34m\"coo\"\u001b[0m\u001b[0;34m]\u001b[0m\u001b[0;34m,\u001b[0m \u001b[0mreset\u001b[0m\u001b[0;34m=\u001b[0m\u001b[0;32mFalse\u001b[0m\u001b[0;34m)\u001b[0m\u001b[0;34m\u001b[0m\u001b[0;34m\u001b[0m\u001b[0m\n\u001b[0m\u001b[1;32m    277\u001b[0m         \u001b[0mcoef_\u001b[0m \u001b[0;34m=\u001b[0m \u001b[0mself\u001b[0m\u001b[0;34m.\u001b[0m\u001b[0mcoef_\u001b[0m\u001b[0;34m\u001b[0m\u001b[0;34m\u001b[0m\u001b[0m\n\u001b[1;32m    278\u001b[0m         \u001b[0;32mif\u001b[0m \u001b[0mcoef_\u001b[0m\u001b[0;34m.\u001b[0m\u001b[0mndim\u001b[0m \u001b[0;34m==\u001b[0m \u001b[0;36m1\u001b[0m\u001b[0;34m:\u001b[0m\u001b[0;34m\u001b[0m\u001b[0;34m\u001b[0m\u001b[0m\n",
            "\u001b[0;32m/usr/local/lib/python3.10/dist-packages/sklearn/utils/validation.py\u001b[0m in \u001b[0;36mvalidate_data\u001b[0;34m(_estimator, X, y, reset, validate_separately, skip_check_array, **check_params)\u001b[0m\n\u001b[1;32m   2963\u001b[0m \u001b[0;34m\u001b[0m\u001b[0m\n\u001b[1;32m   2964\u001b[0m     \u001b[0;32mif\u001b[0m \u001b[0;32mnot\u001b[0m \u001b[0mno_val_X\u001b[0m \u001b[0;32mand\u001b[0m \u001b[0mcheck_params\u001b[0m\u001b[0;34m.\u001b[0m\u001b[0mget\u001b[0m\u001b[0;34m(\u001b[0m\u001b[0;34m\"ensure_2d\"\u001b[0m\u001b[0;34m,\u001b[0m \u001b[0;32mTrue\u001b[0m\u001b[0;34m)\u001b[0m\u001b[0;34m:\u001b[0m\u001b[0;34m\u001b[0m\u001b[0;34m\u001b[0m\u001b[0m\n\u001b[0;32m-> 2965\u001b[0;31m         \u001b[0m_check_n_features\u001b[0m\u001b[0;34m(\u001b[0m\u001b[0m_estimator\u001b[0m\u001b[0;34m,\u001b[0m \u001b[0mX\u001b[0m\u001b[0;34m,\u001b[0m \u001b[0mreset\u001b[0m\u001b[0;34m=\u001b[0m\u001b[0mreset\u001b[0m\u001b[0;34m)\u001b[0m\u001b[0;34m\u001b[0m\u001b[0;34m\u001b[0m\u001b[0m\n\u001b[0m\u001b[1;32m   2966\u001b[0m \u001b[0;34m\u001b[0m\u001b[0m\n\u001b[1;32m   2967\u001b[0m     \u001b[0;32mreturn\u001b[0m \u001b[0mout\u001b[0m\u001b[0;34m\u001b[0m\u001b[0;34m\u001b[0m\u001b[0m\n",
            "\u001b[0;32m/usr/local/lib/python3.10/dist-packages/sklearn/utils/validation.py\u001b[0m in \u001b[0;36m_check_n_features\u001b[0;34m(estimator, X, reset)\u001b[0m\n\u001b[1;32m   2827\u001b[0m \u001b[0;34m\u001b[0m\u001b[0m\n\u001b[1;32m   2828\u001b[0m     \u001b[0;32mif\u001b[0m \u001b[0mn_features\u001b[0m \u001b[0;34m!=\u001b[0m \u001b[0mestimator\u001b[0m\u001b[0;34m.\u001b[0m\u001b[0mn_features_in_\u001b[0m\u001b[0;34m:\u001b[0m\u001b[0;34m\u001b[0m\u001b[0;34m\u001b[0m\u001b[0m\n\u001b[0;32m-> 2829\u001b[0;31m         raise ValueError(\n\u001b[0m\u001b[1;32m   2830\u001b[0m             \u001b[0;34mf\"X has {n_features} features, but {estimator.__class__.__name__} \"\u001b[0m\u001b[0;34m\u001b[0m\u001b[0;34m\u001b[0m\u001b[0m\n\u001b[1;32m   2831\u001b[0m             \u001b[0;34mf\"is expecting {estimator.n_features_in_} features as input.\"\u001b[0m\u001b[0;34m\u001b[0m\u001b[0;34m\u001b[0m\u001b[0m\n",
            "\u001b[0;31mValueError\u001b[0m: X has 2 features, but LinearRegression is expecting 6 features as input."
          ]
        },
        {
          "output_type": "display_data",
          "data": {
            "text/plain": [
              "<Figure size 1000x600 with 1 Axes>"
            ],
            "image/png": "[encoded data removed]"
          },
          "metadata": {}
        }
      ]
    },
    {
      "cell_type": "markdown",
      "source": [
        "26.  Write a Python script that adds interaction terms to a linear regression model and prints the coefficients"
      ],
      "metadata": {
        "id": "GV0IVZjePQvy"
      }
    },
    {
      "cell_type": "markdown",
      "source": [
        "Python Script to Add Interaction Terms to a Linear Regression Model\n"
      ],
      "metadata": {
        "id": "9HIb6mBzPYFW"
      }
    },
    {
      "cell_type": "code",
      "source": [
        "pip install scikit-learn\n"
      ],
      "metadata": {
        "colab": {
          "base_uri": "https://localhost:8080/"
        },
        "id": "Jq55Hcd9PcA3",
        "outputId": "e334f16a-567d-4f6e-d452-0def4be02b69"
      },
      "execution_count": 57,
      "outputs": [
        {
          "output_type": "stream",
          "name": "stdout",
          "text": [
            "Requirement already satisfied: scikit-learn in /usr/local/lib/python3.10/dist-packages (1.6.0)\n",
            "Requirement already satisfied: numpy>=1.19.5 in /usr/local/lib/python3.10/dist-packages (from scikit-learn) (1.26.4)\n",
            "Requirement already satisfied: scipy>=1.6.0 in /usr/local/lib/python3.10/dist-packages (from scikit-learn) (1.13.1)\n",
            "Requirement already satisfied: joblib>=1.2.0 in /usr/local/lib/python3.10/dist-packages (from scikit-learn) (1.4.2)\n",
            "Requirement already satisfied: threadpoolctl>=3.1.0 in /usr/local/lib/python3.10/dist-packages (from scikit-learn) (3.5.0)\n"
          ]
        }
      ]
    },
    {
      "cell_type": "code",
      "source": [],
      "metadata": {
        "id": "-Y3cTLRMPfdl"
      },
      "execution_count": null,
      "outputs": []
    },
    {
      "cell_type": "code",
      "source": [
        "# Import necessary libraries\n",
        "import numpy as np\n",
        "import pandas as pd\n",
        "from sklearn.model_selection import train_test_split\n",
        "from sklearn.linear_model import LinearRegression\n",
        "from sklearn.preprocessing import PolynomialFeatures\n",
        "\n",
        "# Generate synthetic data\n",
        "np.random.seed(42)  # For reproducibility\n",
        "X1 = np.random.rand(100, 1) * 10  # Feature 1: 100 random values between 0 and 10\n",
        "X2 = np.random.rand(100, 1) * 5   # Feature 2: 100 random values between 0 and 5\n",
        "y = 3 * X1 + 2 * X2 + 1.5 * X1 * X2 + np.random.randn(100, 1) * 2  # Linear relation with interaction term and noise\n",
        "\n",
        "# Create a DataFrame for better handling\n",
        "data = pd.DataFrame(np.hstack((X1, X2, y)), columns=['Feature1', 'Feature2', 'Target'])\n",
        "\n",
        "# Separate the features and target variable\n",
        "X = data[['Feature1', 'Feature2']]\n",
        "y = data['Target']\n",
        "\n",
        "# Add interaction terms\n",
        "poly = PolynomialFeatures(degree=2, interaction_only=True, include_bias=False)\n",
        "X_interaction = poly.fit_transform(X)\n",
        "\n",
        "# Split the dataset into training and testing sets\n",
        "X_train, X_test, y_train, y_test = train_test_split(X_interaction, y, test_size=0.2, random_state=42)\n",
        "\n",
        "# Create a linear regression model\n",
        "model = LinearRegression()\n",
        "\n",
        "# Fit the model on the training data\n",
        "model.fit(X_train, y_train)\n",
        "\n",
        "# Print the coefficients\n",
        "print(\"Model Coefficients:\")\n",
        "for feature, coef in zip(poly.get_feature_names_out(input_features=['Feature1', 'Feature2']), model.coef_):\n",
        "    print(f'{feature}: {coef:.2f}')\n",
        "print(f'Intercept: {model.intercept_[0]:.2f}')"
      ],
      "metadata": {
        "colab": {
          "base_uri": "https://localhost:8080/",
          "height": 245
        },
        "id": "XVHleQT_Ph_M",
        "outputId": "4f2ffa1a-c6f8-4e37-941e-ff3b30b4b68b"
      },
      "execution_count": 58,
      "outputs": [
        {
          "output_type": "stream",
          "name": "stdout",
          "text": [
            "Model Coefficients:\n",
            "Feature1: 2.91\n",
            "Feature2: 2.24\n",
            "Feature1 Feature2: 1.52\n"
          ]
        },
        {
          "output_type": "error",
          "ename": "IndexError",
          "evalue": "invalid index to scalar variable.",
          "traceback": [
            "\u001b[0;31m---------------------------------------------------------------------------\u001b[0m",
            "\u001b[0;31mIndexError\u001b[0m                                Traceback (most recent call last)",
            "\u001b[0;32m<ipython-input-58-1ab22677ec52>\u001b[0m in \u001b[0;36m<cell line: 38>\u001b[0;34m()\u001b[0m\n\u001b[1;32m     36\u001b[0m \u001b[0;32mfor\u001b[0m \u001b[0mfeature\u001b[0m\u001b[0;34m,\u001b[0m \u001b[0mcoef\u001b[0m \u001b[0;32min\u001b[0m \u001b[0mzip\u001b[0m\u001b[0;34m(\u001b[0m\u001b[0mpoly\u001b[0m\u001b[0;34m.\u001b[0m\u001b[0mget_feature_names_out\u001b[0m\u001b[0;34m(\u001b[0m\u001b[0minput_features\u001b[0m\u001b[0;34m=\u001b[0m\u001b[0;34m[\u001b[0m\u001b[0;34m'Feature1'\u001b[0m\u001b[0;34m,\u001b[0m \u001b[0;34m'Feature2'\u001b[0m\u001b[0;34m]\u001b[0m\u001b[0;34m)\u001b[0m\u001b[0;34m,\u001b[0m \u001b[0mmodel\u001b[0m\u001b[0;34m.\u001b[0m\u001b[0mcoef_\u001b[0m\u001b[0;34m)\u001b[0m\u001b[0;34m:\u001b[0m\u001b[0;34m\u001b[0m\u001b[0;34m\u001b[0m\u001b[0m\n\u001b[1;32m     37\u001b[0m     \u001b[0mprint\u001b[0m\u001b[0;34m(\u001b[0m\u001b[0;34mf'{feature}: {coef:.2f}'\u001b[0m\u001b[0;34m)\u001b[0m\u001b[0;34m\u001b[0m\u001b[0;34m\u001b[0m\u001b[0m\n\u001b[0;32m---> 38\u001b[0;31m \u001b[0mprint\u001b[0m\u001b[0;34m(\u001b[0m\u001b[0;34mf'Intercept: {model.intercept_[0]:.2f}'\u001b[0m\u001b[0;34m)\u001b[0m\u001b[0;34m\u001b[0m\u001b[0;34m\u001b[0m\u001b[0m\n\u001b[0m",
            "\u001b[0;31mIndexError\u001b[0m: invalid index to scalar variable."
          ]
        }
      ]
    },
    {
      "cell_type": "code",
      "source": [],
      "metadata": {
        "id": "la8cn-eKPifR"
      },
      "execution_count": null,
      "outputs": []
    }
  ]
}