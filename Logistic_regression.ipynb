{
  "nbformat": 4,
  "nbformat_minor": 0,
  "metadata": {
    "colab": {
      "provenance": [],
      "authorship_tag": "ABX9TyPVk6h8aAjTJv0RzLsr34a4",
      "include_colab_link": true
    },
    "kernelspec": {
      "name": "python3",
      "display_name": "Python 3"
    },
    "language_info": {
      "name": "python"
    }
  },
  "cells": [
    {
      "cell_type": "markdown",
      "metadata": {
        "id": "view-in-github",
        "colab_type": "text"
      },
      "source": [
        "<a href=\"https://colab.research.google.com/github/jayendra-edu/jayendra-edu/blob/main/Logistic_regression.ipynb\" target=\"_parent\"><img src=\"https://colab.research.google.com/assets/colab-badge.svg\" alt=\"Open In Colab\"/></a>"
      ]
    },
    {
      "cell_type": "markdown",
      "source": [
        "1.  What is Logistic Regression, and how does it differ from Linear Regression.\n"
      ],
      "metadata": {
        "id": "_KyRVVdjLK1S"
      }
    },
    {
      "cell_type": "markdown",
      "source": [
        "Logistic Regression and Linear Regression are both statistical methods used for modeling relationships between variables, but they serve different purposes and are applied in different contexts.\n",
        "\n",
        "Linear Regression\n",
        "Purpose:\n",
        "\n",
        "Linear Regression is used to predict a continuous outcome variable (dependent variable) based on one or more predictor variables (independent variables).\n",
        "\n",
        "Model:\n",
        "\n",
        "The relationship between the dependent variable\n",
        "Y\n",
        "Y and the independent variables\n",
        "X\n",
        "X is modeled as a linear equation:\n",
        "\n",
        "Y\n",
        "=\n",
        "β\n",
        "0\n",
        "+\n",
        "β\n",
        "1\n",
        "X\n",
        "1\n",
        "+\n",
        "β\n",
        "2\n",
        "X\n",
        "2\n",
        "+\n",
        "…\n",
        "+\n",
        "β\n",
        "n\n",
        "X\n",
        "n\n",
        "+\n",
        "ϵ\n",
        "Y=β\n",
        "0\n",
        "​\n",
        " +β\n",
        "1\n",
        "​\n",
        " X\n",
        "1\n",
        "​\n",
        " +β\n",
        "2\n",
        "​\n",
        " X\n",
        "2\n",
        "​\n",
        " +…+β\n",
        "n\n",
        "​\n",
        " X\n",
        "n\n",
        "​\n",
        " +ϵ\n",
        "where:\n",
        "\n",
        "Y\n",
        "Y is the dependent variable.\n",
        "\n",
        "X\n",
        "1\n",
        ",\n",
        "X\n",
        "2\n",
        ",\n",
        "…\n",
        ",\n",
        "X\n",
        "n\n",
        "X\n",
        "1\n",
        "​\n",
        " ,X\n",
        "2\n",
        "​\n",
        " ,…,X\n",
        "n\n",
        "​\n",
        "  are the independent variables.\n",
        "\n",
        "β\n",
        "0\n",
        ",\n",
        "β\n",
        "1\n",
        ",\n",
        "…\n",
        ",\n",
        "β\n",
        "n\n",
        "β\n",
        "0\n",
        "​\n",
        " ,β\n",
        "1\n",
        "​\n",
        " ,…,β\n",
        "n\n",
        "​\n",
        "  are the coefficients.\n",
        "\n",
        "ϵ\n",
        "ϵ is the error term.\n",
        "\n",
        "Assumptions:\n",
        "\n",
        "The relationship between the dependent and independent variables is linear.\n",
        "\n",
        "The residuals (errors) are normally distributed.\n",
        "\n",
        "Homoscedasticity (constant variance of residuals).\n",
        "\n",
        "No or little multicollinearity among independent variables.\n",
        "\n",
        "Output:\n",
        "\n",
        "The output is a continuous value.\n",
        "\n",
        "Logistic Regression\n",
        "Purpose:\n",
        "\n",
        "Logistic Regression is used to predict the probability of a binary outcome (e.g., yes/no, success/failure) based on one or more predictor variables.\n",
        "\n",
        "Model:\n",
        "\n",
        "The relationship between the dependent variable\n",
        "Y\n",
        "Y and the independent variables\n",
        "X\n",
        "X is modeled using the logistic function (sigmoid function):\n",
        "\n",
        "P\n",
        "(\n",
        "Y\n",
        "=\n",
        "1\n",
        ")\n",
        "=\n",
        "1\n",
        "1\n",
        "+\n",
        "e\n",
        "−\n",
        "(\n",
        "β\n",
        "0\n",
        "+\n",
        "β\n",
        "1\n",
        "X\n",
        "1\n",
        "+\n",
        "β\n",
        "2\n",
        "X\n",
        "2\n",
        "+\n",
        "…\n",
        "+\n",
        "β\n",
        "n\n",
        "X\n",
        "n\n",
        ")\n",
        "P(Y=1)=\n",
        "1+e\n",
        "−(β\n",
        "0\n",
        "​\n",
        " +β\n",
        "1\n",
        "​\n",
        " X\n",
        "1\n",
        "​\n",
        " +β\n",
        "2\n",
        "​\n",
        " X\n",
        "2\n",
        "​\n",
        " +…+β\n",
        "n\n",
        "​\n",
        " X\n",
        "n\n",
        "​\n",
        " )\n",
        "\n",
        "1\n",
        "​\n",
        "\n",
        "where:\n",
        "\n",
        "P\n",
        "(\n",
        "Y\n",
        "=\n",
        "1\n",
        ")\n",
        "P(Y=1) is the probability of the dependent variable being 1 (or \"success\").\n",
        "\n",
        "X\n",
        "1\n",
        ",\n",
        "X\n",
        "2\n",
        ",\n",
        "…\n",
        ",\n",
        "X\n",
        "n\n",
        "X\n",
        "1\n",
        "​\n",
        " ,X\n",
        "2\n",
        "​\n",
        " ,…,X\n",
        "n\n",
        "​\n",
        "  are the independent variables.\n",
        "\n",
        "β\n",
        "0\n",
        ",\n",
        "β\n",
        "1\n",
        ",\n",
        "…\n",
        ",\n",
        "β\n",
        "n\n",
        "β\n",
        "0\n",
        "​\n",
        " ,β\n",
        "1\n",
        "​\n",
        " ,…,β\n",
        "n\n",
        "​\n",
        "  are the coefficients.\n",
        "\n",
        "Assumptions:\n",
        "\n",
        "The dependent variable is binary.\n",
        "\n",
        "The relationship between the logit of the dependent variable and the independent variables is linear.\n",
        "\n",
        "No multicollinearity among independent variables.\n",
        "\n",
        "Large sample size (as it relies on maximum likelihood estimation)."
      ],
      "metadata": {
        "id": "W9JuUNnBLK4g"
      }
    },
    {
      "cell_type": "markdown",
      "source": [
        "2. What is the mathematical equation of Logistic Regression."
      ],
      "metadata": {
        "id": "-6Lgac3xLK7k"
      }
    },
    {
      "cell_type": "markdown",
      "source": [
        "The mathematical equation of Logistic Regression is based on the logistic function (also called the sigmoid function), which maps any real-valued input to a probability value between 0 and 1. This makes it suitable for binary classification problems.\n",
        "\n",
        "Logistic Regression Equation\n",
        "The probability\n",
        "P\n",
        "(\n",
        "Y\n",
        "=\n",
        "1\n",
        ")\n",
        "P(Y=1) of the dependent variable\n",
        "Y\n",
        "Y being 1 (or \"success\") is modeled as:\n",
        "\n",
        "P\n",
        "(\n",
        "Y\n",
        "=\n",
        "1\n",
        ")\n",
        "=\n",
        "1\n",
        "1\n",
        "+\n",
        "e\n",
        "−\n",
        "(\n",
        "β\n",
        "0\n",
        "+\n",
        "β\n",
        "1\n",
        "X\n",
        "1\n",
        "+\n",
        "β\n",
        "2\n",
        "X\n",
        "2\n",
        "+\n",
        "…\n",
        "+\n",
        "β\n",
        "n\n",
        "X\n",
        "n\n",
        ")\n",
        "P(Y=1)=\n",
        "1+e\n",
        "−(β\n",
        "0\n",
        "​\n",
        " +β\n",
        "1\n",
        "​\n",
        " X\n",
        "1\n",
        "​\n",
        " +β\n",
        "2\n",
        "​\n",
        " X\n",
        "2\n",
        "​\n",
        " +…+β\n",
        "n\n",
        "​\n",
        " X\n",
        "n\n",
        "​\n",
        " )\n",
        "\n",
        "1\n",
        "​\n",
        "\n",
        "Where:\n",
        "\n",
        "P\n",
        "(\n",
        "Y\n",
        "=\n",
        "1\n",
        ")\n",
        "P(Y=1): The probability of the dependent variable\n",
        "Y\n",
        "Y being 1.\n",
        "\n",
        "X\n",
        "1\n",
        ",\n",
        "X\n",
        "2\n",
        ",\n",
        "…\n",
        ",\n",
        "X\n",
        "n\n",
        "X\n",
        "1\n",
        "​\n",
        " ,X\n",
        "2\n",
        "​\n",
        " ,…,X\n",
        "n\n",
        "​\n",
        " : The independent variables (predictors).\n",
        "\n",
        "β\n",
        "0\n",
        "β\n",
        "0\n",
        "​\n",
        " : The intercept (bias term).\n",
        "\n",
        "β\n",
        "1\n",
        ",\n",
        "β\n",
        "2\n",
        ",\n",
        "…\n",
        ",\n",
        "β\n",
        "n\n",
        "β\n",
        "1\n",
        "​\n",
        " ,β\n",
        "2\n",
        "​\n",
        " ,…,β\n",
        "n\n",
        "​\n",
        " : The coefficients (weights) associated with each independent variable.\n",
        "\n",
        "e\n",
        "e: The base of the natural logarithm (approximately 2.71828).\n",
        "\n",
        "Sigmoid Function\n",
        "The equation above uses the sigmoid function, which is defined as:\n",
        "\n",
        "σ\n",
        "(\n",
        "z\n",
        ")\n",
        "=\n",
        "1\n",
        "1\n",
        "+\n",
        "e\n",
        "−\n",
        "z\n",
        "σ(z)=\n",
        "1+e\n",
        "−z\n",
        "\n",
        "1\n",
        "​\n",
        "\n",
        "Here,\n",
        "z\n",
        "z is the linear combination of the predictors and coefficients:\n",
        "\n",
        "z\n",
        "=\n",
        "β\n",
        "0\n",
        "+\n",
        "β\n",
        "1\n",
        "X\n",
        "1\n",
        "+\n",
        "β\n",
        "2\n",
        "X\n",
        "2\n",
        "+\n",
        "…\n",
        "+\n",
        "β\n",
        "n\n",
        "X\n",
        "n\n",
        "z=β\n",
        "0\n",
        "​\n",
        " +β\n",
        "1\n",
        "​\n",
        " X\n",
        "1\n",
        "​\n",
        " +β\n",
        "2\n",
        "​\n",
        " X\n",
        "2\n",
        "​\n",
        " +…+β\n",
        "n\n",
        "​\n",
        " X\n",
        "n\n",
        "​\n",
        "\n",
        "The sigmoid function ensures that the output\n",
        "P\n",
        "(\n",
        "Y\n",
        "=\n",
        "1\n",
        ")\n",
        "P(Y=1) is always between 0 and 1, representing a probability.\n",
        "\n",
        "Logit (Log-Odds)\n",
        "Logistic Regression is often expressed in terms of the logit (log-odds), which is the natural logarithm of the odds of the event\n",
        "Y\n",
        "=\n",
        "1\n",
        "Y=1:\n",
        "\n",
        "logit\n",
        "(\n",
        "P\n",
        "(\n",
        "Y\n",
        "=\n",
        "1\n",
        ")\n",
        ")\n",
        "=\n",
        "ln\n",
        "⁡\n",
        "(\n",
        "P\n",
        "(\n",
        "Y\n",
        "=\n",
        "1\n",
        ")\n",
        "1\n",
        "−\n",
        "P\n",
        "(\n",
        "Y\n",
        "=\n",
        "1\n",
        ")\n",
        ")\n",
        "=\n",
        "β\n",
        "0\n",
        "+\n",
        "β\n",
        "1\n",
        "X\n",
        "1\n",
        "+\n",
        "β\n",
        "2\n",
        "X\n",
        "2\n",
        "+\n",
        "…\n",
        "+\n",
        "β\n",
        "n\n",
        "X\n",
        "n\n",
        "logit(P(Y=1))=ln(\n",
        "1−P(Y=1)\n",
        "P(Y=1)\n",
        "​\n",
        " )=β\n",
        "0\n",
        "​\n",
        " +β\n",
        "1\n",
        "​\n",
        " X\n",
        "1\n",
        "​\n",
        " +β\n",
        "2\n",
        "​\n",
        " X\n",
        "2\n",
        "​\n",
        " +…+β\n",
        "n\n",
        "​\n",
        " X\n",
        "n\n",
        "​\n",
        "\n",
        "This is the linear part of the model, where:\n",
        "\n",
        "P\n",
        "(\n",
        "Y\n",
        "=\n",
        "1\n",
        ")\n",
        "1\n",
        "−\n",
        "P\n",
        "(\n",
        "Y\n",
        "=\n",
        "1\n",
        ")\n",
        "1−P(Y=1)\n",
        "P(Y=1)\n",
        "​\n",
        " : The odds of\n",
        "Y\n",
        "=\n",
        "1\n",
        "Y=1.\n",
        "\n",
        "ln\n",
        "⁡\n",
        "(\n",
        "P\n",
        "(\n",
        "Y\n",
        "=\n",
        "1\n",
        ")\n",
        "1\n",
        "−\n",
        "P\n",
        "(\n",
        "Y\n",
        "=\n",
        "1\n",
        ")\n",
        ")\n",
        "ln(\n",
        "1−P(Y=1)\n",
        "P(Y=1)\n",
        "​\n",
        " ): The log-odds (logit).\n",
        "\n",
        "Summary of the Equation\n",
        "Probability Form:\n",
        "\n",
        "P\n",
        "(\n",
        "Y\n",
        "=\n",
        "1\n",
        ")\n",
        "=\n",
        "1\n",
        "1\n",
        "+\n",
        "e\n",
        "−\n",
        "(\n",
        "β\n",
        "0\n",
        "+\n",
        "β\n",
        "1\n",
        "X\n",
        "1\n",
        "+\n",
        "β\n",
        "2\n",
        "X\n",
        "2\n",
        "+\n",
        "…\n",
        "+\n",
        "β\n",
        "n\n",
        "X\n",
        "n\n",
        ")\n",
        "P(Y=1)=\n",
        "1+e\n",
        "−(β\n",
        "0\n",
        "​\n",
        " +β\n",
        "1\n",
        "​\n",
        " X\n",
        "1\n",
        "​\n",
        " +β\n",
        "2\n",
        "​\n",
        " X\n",
        "2\n",
        "​\n",
        " +…+β\n",
        "n\n",
        "​\n",
        " X\n",
        "n\n",
        "​\n",
        " )\n",
        "\n",
        "1\n",
        "​\n",
        "\n",
        "Logit Form:\n",
        "\n",
        "ln\n",
        "⁡\n",
        "(\n",
        "P\n",
        "(\n",
        "Y\n",
        "=\n",
        "1\n",
        ")\n",
        "1\n",
        "−\n",
        "P\n",
        "(\n",
        "Y\n",
        "=\n",
        "1\n",
        ")\n",
        ")\n",
        "=\n",
        "β\n",
        "0\n",
        "+\n",
        "β\n",
        "1\n",
        "X\n",
        "1\n",
        "+\n",
        "β\n",
        "2\n",
        "X\n",
        "2\n",
        "+\n",
        "…\n",
        "+\n",
        "β\n",
        "n\n",
        "X\n",
        "n\n",
        "ln(\n",
        "1−P(Y=1)\n",
        "P(Y=1)\n",
        "​\n",
        " )=β\n",
        "0\n",
        "​\n",
        " +β\n",
        "1\n",
        "​\n",
        " X\n",
        "1\n",
        "​\n",
        " +β\n",
        "2\n",
        "​\n",
        " X\n",
        "2\n",
        "​\n",
        " +…+β\n",
        "n\n",
        "​\n",
        " X\n",
        "n\n",
        "​\n",
        "\n",
        "Interpretation\n",
        "The coefficients\n",
        "β\n",
        "1\n",
        ",\n",
        "β\n",
        "2\n",
        ",\n",
        "…\n",
        ",\n",
        "β\n",
        "n\n",
        "β\n",
        "1\n",
        "​\n",
        " ,β\n",
        "2\n",
        "​\n",
        " ,…,β\n",
        "n\n",
        "​\n",
        "  represent the change in the log-odds of the outcome for a one-unit increase in the corresponding predictor, holding all other predictors constant.\n",
        "\n",
        "The intercept\n",
        "β\n",
        "0\n",
        "β\n",
        "0\n",
        "​\n",
        "  represents the log-odds of the outcome when all predictors are zero.\n",
        "\n",
        "This equation forms the basis of Logistic Regression and is used to estimate the probability of a binary outcome based on the input features."
      ],
      "metadata": {
        "id": "2Utf5KkILK-P"
      }
    },
    {
      "cell_type": "markdown",
      "source": [
        "3. Why do we use the Sigmoid function in Logistic Regression."
      ],
      "metadata": {
        "id": "7ml6-ZIULLBT"
      }
    },
    {
      "cell_type": "markdown",
      "source": [
        "The Sigmoid function is a key component of Logistic Regression because it provides a way to map the output of a linear equation to a probability value between 0 and 1. This is essential for binary classification problems, where the goal is to predict the probability of an event occurring (e.g., yes/no, success/failure). Here’s why the Sigmoid function is used:\n",
        "\n",
        "1. Outputs Probabilities (0 to 1)\n",
        "The Sigmoid function, defined as:\n",
        "\n",
        "σ\n",
        "(\n",
        "z\n",
        ")\n",
        "=\n",
        "1\n",
        "1\n",
        "+\n",
        "e\n",
        "−\n",
        "z\n",
        "σ(z)=\n",
        "1+e\n",
        "−z\n",
        "\n",
        "1\n",
        "​\n",
        "\n",
        "ensures that the output\n",
        "σ\n",
        "(\n",
        "z\n",
        ")\n",
        "σ(z) is always between 0 and 1, regardless of the input\n",
        "z\n",
        "z.\n",
        "\n",
        "This is crucial because probabilities must lie in the range [0, 1], and the Sigmoid function naturally enforces this constraint.\n",
        "\n",
        "2. Handles Linear Combinations\n",
        "In Logistic Regression, the input\n",
        "z\n",
        "z is a linear combination of the predictors and coefficients:\n",
        "\n",
        "z\n",
        "=\n",
        "β\n",
        "0\n",
        "+\n",
        "β\n",
        "1\n",
        "X\n",
        "1\n",
        "+\n",
        "β\n",
        "2\n",
        "X\n",
        "2\n",
        "+\n",
        "…\n",
        "+\n",
        "β\n",
        "n\n",
        "X\n",
        "n\n",
        "z=β\n",
        "0\n",
        "​\n",
        " +β\n",
        "1\n",
        "​\n",
        " X\n",
        "1\n",
        "​\n",
        " +β\n",
        "2\n",
        "​\n",
        " X\n",
        "2\n",
        "​\n",
        " +…+β\n",
        "n\n",
        "​\n",
        " X\n",
        "n\n",
        "​\n",
        "\n",
        "The Sigmoid function takes this linear combination and transforms it into a probability, allowing us to model the relationship between the predictors and the binary outcome.\n",
        "\n",
        "3. Interpretable as Log-Odds\n",
        "The Sigmoid function is invertible, and its inverse is the logit function:\n",
        "\n",
        "logit\n",
        "(\n",
        "p\n",
        ")\n",
        "=\n",
        "ln\n",
        "⁡\n",
        "(\n",
        "p\n",
        "1\n",
        "−\n",
        "p\n",
        ")\n",
        "=\n",
        "z\n",
        "logit(p)=ln(\n",
        "1−p\n",
        "p\n",
        "​\n",
        " )=z\n",
        "This means that the linear combination\n",
        "z\n",
        "z can be interpreted as the log-odds of the event occurring. For example:\n",
        "\n",
        "If\n",
        "z\n",
        "=\n",
        "0\n",
        "z=0, the odds are 1:1 (probability\n",
        "p\n",
        "=\n",
        "0.5\n",
        "p=0.5).\n",
        "\n",
        "If\n",
        "z\n",
        ">\n",
        "0\n",
        "z>0, the odds are greater than 1:1 (probability\n",
        "p\n",
        ">\n",
        "0.5\n",
        "p>0.5).\n",
        "\n",
        "If\n",
        "z\n",
        "<\n",
        "0\n",
        "z<0, the odds are less than 1:1 (probability\n",
        "p\n",
        "<\n",
        "0.5\n",
        "p<0.5).\n",
        "\n",
        "This makes the model interpretable and allows us to understand the impact of each predictor on the outcome.\n",
        "\n",
        "4. Smooth and Differentiable\n",
        "The Sigmoid function is smooth and differentiable, which is important for optimization algorithms like gradient descent.\n",
        "\n",
        "The derivative of the Sigmoid function is simple and can be expressed in terms of itself:\n",
        "\n",
        "σ\n",
        "′\n",
        "(\n",
        "z\n",
        ")\n",
        "=\n",
        "σ\n",
        "(\n",
        "z\n",
        ")\n",
        "⋅\n",
        "(\n",
        "1\n",
        "−\n",
        "σ\n",
        "(\n",
        "z\n",
        ")\n",
        ")\n",
        "σ\n",
        "′\n",
        " (z)=σ(z)⋅(1−σ(z))\n",
        "This property makes it computationally efficient to train Logistic Regression models.\n",
        "\n",
        "5. Thresholding for Classification\n",
        "Once the probability\n",
        "P\n",
        "(\n",
        "Y\n",
        "=\n",
        "1\n",
        ")\n",
        "P(Y=1) is computed using the Sigmoid function, a threshold (typically 0.5) can be applied to classify the outcome:\n",
        "\n",
        "If\n",
        "P\n",
        "(\n",
        "Y\n",
        "=\n",
        "1\n",
        ")\n",
        "≥\n",
        "0.5\n",
        "P(Y=1)≥0.5, predict\n",
        "Y\n",
        "=\n",
        "1\n",
        "Y=1.\n",
        "\n",
        "If\n",
        "P\n",
        "(\n",
        "Y\n",
        "=\n",
        "1\n",
        ")\n",
        "<\n",
        "0.5\n",
        "P(Y=1)<0.5, predict\n",
        "Y\n",
        "=\n",
        "0\n",
        "Y=0.\n",
        "\n",
        "This makes Logistic Regression a natural choice for binary classification tasks.\n",
        "\n",
        "6. Probabilistic Interpretation\n",
        "The Sigmoid function provides a probabilistic interpretation of the model. Instead of just predicting a class label, Logistic Regression estimates the probability of belonging to a class, which is useful in many real-world applications (e.g., risk scoring, medical diagnosis)."
      ],
      "metadata": {
        "id": "oK00VnlWLLEQ"
      }
    },
    {
      "cell_type": "markdown",
      "source": [
        "4. What is the cost function of Logistic Regression."
      ],
      "metadata": {
        "id": "PVryyMYlLLID"
      }
    },
    {
      "cell_type": "markdown",
      "source": [
        "The cost function of Logistic Regression, also known as the log loss or logistic loss, is used to measure how well the model's predicted probabilities match the actual binary outcomes. Unlike Linear Regression, which uses the Mean Squared Error (MSE) as its cost function, Logistic Regression uses a cost function specifically designed for binary classification problems.\n",
        "\n",
        "Logistic Regression Cost Function\n",
        "The cost function for Logistic Regression is derived from the principle of Maximum Likelihood Estimation (MLE). It penalizes the model more heavily when it makes incorrect predictions with high confidence.\n",
        "\n",
        "For a binary classification problem with:\n",
        "\n",
        "y\n",
        "y: The actual binary label (0 or 1).\n",
        "\n",
        "y\n",
        "^\n",
        "y\n",
        "^\n",
        "​\n",
        " : The predicted probability\n",
        "P\n",
        "(\n",
        "Y\n",
        "=\n",
        "1\n",
        ")\n",
        "P(Y=1) (output of the Sigmoid function).\n",
        "\n",
        "The cost function for a single training example is:\n",
        "\n",
        "Cost\n",
        "(\n",
        "y\n",
        ",\n",
        "y\n",
        "^\n",
        ")\n",
        "=\n",
        "{\n",
        "−\n",
        "log\n",
        "⁡\n",
        "(\n",
        "y\n",
        "^\n",
        ")\n",
        "if\n",
        "y\n",
        "=\n",
        "1\n",
        "−\n",
        "log\n",
        "⁡\n",
        "(\n",
        "1\n",
        "−\n",
        "y\n",
        "^\n",
        ")\n",
        "if\n",
        "y\n",
        "=\n",
        "0\n",
        "Cost(y,\n",
        "y\n",
        "^\n",
        "​\n",
        " )={\n",
        "−log(\n",
        "y\n",
        "^\n",
        "​\n",
        " )\n",
        "−log(1−\n",
        "y\n",
        "^\n",
        "​\n",
        " )\n",
        "​\n",
        "  \n",
        "if y=1\n",
        "if y=0\n",
        "​\n",
        "\n",
        "This can be combined into a single equation:\n",
        "\n",
        "Cost\n",
        "(\n",
        "y\n",
        ",\n",
        "y\n",
        "^\n",
        ")\n",
        "=\n",
        "−\n",
        "y\n",
        "log\n",
        "⁡\n",
        "(\n",
        "y\n",
        "^\n",
        ")\n",
        "−\n",
        "(\n",
        "1\n",
        "−\n",
        "y\n",
        ")\n",
        "log\n",
        "⁡\n",
        "(\n",
        "1\n",
        "−\n",
        "y\n",
        "^\n",
        ")\n",
        "Cost(y,\n",
        "y\n",
        "^\n",
        "​\n",
        " )=−ylog(\n",
        "y\n",
        "^\n",
        "​\n",
        " )−(1−y)log(1−\n",
        "y\n",
        "^\n",
        "​\n",
        " )\n",
        "Intuition Behind the Cost Function\n",
        "When\n",
        "y\n",
        "=\n",
        "1\n",
        "y=1:\n",
        "\n",
        "The cost function becomes\n",
        "−\n",
        "log\n",
        "⁡\n",
        "(\n",
        "y\n",
        "^\n",
        ")\n",
        "−log(\n",
        "y\n",
        "^\n",
        "​\n",
        " ).\n",
        "\n",
        "If the model predicts\n",
        "y\n",
        "^\n",
        "y\n",
        "^\n",
        "​\n",
        "  close to 1 (correct prediction), the cost is close to 0.\n",
        "\n",
        "If the model predicts\n",
        "y\n",
        "^\n",
        "y\n",
        "^\n",
        "​\n",
        "  close to 0 (incorrect prediction), the cost approaches infinity.\n",
        "\n",
        "When\n",
        "y\n",
        "=\n",
        "0\n",
        "y=0:\n",
        "\n",
        "The cost function becomes\n",
        "−\n",
        "log\n",
        "⁡\n",
        "(\n",
        "1\n",
        "−\n",
        "y\n",
        "^\n",
        ")\n",
        "−log(1−\n",
        "y\n",
        "^\n",
        "​\n",
        " ).\n",
        "\n",
        "If the model predicts\n",
        "y\n",
        "^\n",
        "y\n",
        "^\n",
        "​\n",
        "  close to 0 (correct prediction), the cost is close to 0.\n",
        "\n",
        "If the model predicts\n",
        "y\n",
        "^\n",
        "y\n",
        "^\n",
        "​\n",
        "  close to 1 (incorrect prediction), the cost approaches infinity.\n",
        "\n",
        "This behavior ensures that the model is heavily penalized for confident but incorrect predictions.\n",
        "\n",
        "Cost Function for the Entire Dataset\n",
        "For a dataset with\n",
        "m\n",
        "m training examples, the total cost function (also called the log loss) is the average of the individual costs over all examples:\n",
        "\n",
        "J\n",
        "(\n",
        "β\n",
        ")\n",
        "=\n",
        "−\n",
        "1\n",
        "m\n",
        "∑\n",
        "i\n",
        "=\n",
        "1\n",
        "m\n",
        "[\n",
        "y\n",
        "(\n",
        "i\n",
        ")\n",
        "log\n",
        "⁡\n",
        "(\n",
        "y\n",
        "^\n",
        "(\n",
        "i\n",
        ")\n",
        ")\n",
        "+\n",
        "(\n",
        "1\n",
        "−\n",
        "y\n",
        "(\n",
        "i\n",
        ")\n",
        ")\n",
        "log\n",
        "⁡\n",
        "(\n",
        "1\n",
        "−\n",
        "y\n",
        "^\n",
        "(\n",
        "i\n",
        ")\n",
        ")\n",
        "]\n",
        "J(β)=−\n",
        "m\n",
        "1\n",
        "​\n",
        "  \n",
        "i=1\n",
        "∑\n",
        "m\n",
        "​\n",
        " [y\n",
        "(i)\n",
        " log(\n",
        "y\n",
        "^\n",
        "​\n",
        "  \n",
        "(i)\n",
        " )+(1−y\n",
        "(i)\n",
        " )log(1−\n",
        "y\n",
        "^\n",
        "​\n",
        "  \n",
        "(i)\n",
        " )]\n",
        "Where:\n",
        "\n",
        "y\n",
        "(\n",
        "i\n",
        ")\n",
        "y\n",
        "(i)\n",
        " : The actual label of the\n",
        "i\n",
        "i-th training example.\n",
        "\n",
        "y\n",
        "^\n",
        "(\n",
        "i\n",
        ")\n",
        "y\n",
        "^\n",
        "​\n",
        "  \n",
        "(i)\n",
        " : The predicted probability\n",
        "P\n",
        "(\n",
        "Y\n",
        "=\n",
        "1\n",
        ")\n",
        "P(Y=1) for the\n",
        "i\n",
        "i-th training example.\n",
        "\n",
        "β\n",
        "β: The vector of model parameters (coefficients)."
      ],
      "metadata": {
        "id": "Drkswu6oMkka"
      }
    },
    {
      "cell_type": "markdown",
      "source": [
        "5. What is Regularization in Logistic Regression? Why is it needed."
      ],
      "metadata": {
        "id": "hdCYxcD_MxpQ"
      }
    },
    {
      "cell_type": "markdown",
      "source": [
        "Regularization in Logistic Regression is a technique used to prevent overfitting by adding a penalty term to the cost function. Overfitting occurs when a model learns the training data too well, capturing noise and irrelevant patterns, which harms its ability to generalize to unseen data. Regularization helps control the complexity of the model by discouraging large coefficients, leading to a simpler and more robust model.\n",
        "\n",
        "Types of Regularization in Logistic Regression\n",
        "There are two common types of regularization used in Logistic Regression:\n",
        "\n",
        "L1 Regularization (Lasso Regression):\n",
        "\n",
        "Adds a penalty proportional to the absolute value of the coefficients.\n",
        "\n",
        "The cost function with L1 regularization is:\n",
        "\n",
        "J\n",
        "(\n",
        "β\n",
        ")\n",
        "=\n",
        "−\n",
        "1\n",
        "m\n",
        "∑\n",
        "i\n",
        "=\n",
        "1\n",
        "m\n",
        "[\n",
        "y\n",
        "(\n",
        "i\n",
        ")\n",
        "log\n",
        "⁡\n",
        "(\n",
        "y\n",
        "^\n",
        "(\n",
        "i\n",
        ")\n",
        ")\n",
        "+\n",
        "(\n",
        "1\n",
        "−\n",
        "y\n",
        "(\n",
        "i\n",
        ")\n",
        ")\n",
        "log\n",
        "⁡\n",
        "(\n",
        "1\n",
        "−\n",
        "y\n",
        "^\n",
        "(\n",
        "i\n",
        ")\n",
        ")\n",
        "]\n",
        "+\n",
        "λ\n",
        "∑\n",
        "j\n",
        "=\n",
        "1\n",
        "n\n",
        "∣\n",
        "β\n",
        "j\n",
        "∣\n",
        "J(β)=−\n",
        "m\n",
        "1\n",
        "​\n",
        "  \n",
        "i=1\n",
        "∑\n",
        "m\n",
        "​\n",
        " [y\n",
        "(i)\n",
        " log(\n",
        "y\n",
        "^\n",
        "​\n",
        "  \n",
        "(i)\n",
        " )+(1−y\n",
        "(i)\n",
        " )log(1−\n",
        "y\n",
        "^\n",
        "​\n",
        "  \n",
        "(i)\n",
        " )]+λ\n",
        "j=1\n",
        "∑\n",
        "n\n",
        "​\n",
        " ∣β\n",
        "j\n",
        "​\n",
        " ∣\n",
        "Effect: Encourages sparsity by driving some coefficients to exactly zero, effectively performing feature selection.\n",
        "\n",
        "L2 Regularization (Ridge Regression):\n",
        "\n",
        "Adds a penalty proportional to the square of the coefficients.\n",
        "\n",
        "The cost function with L2 regularization is:\n",
        "\n",
        "J\n",
        "(\n",
        "β\n",
        ")\n",
        "=\n",
        "−\n",
        "1\n",
        "m\n",
        "∑\n",
        "i\n",
        "=\n",
        "1\n",
        "m\n",
        "[\n",
        "y\n",
        "(\n",
        "i\n",
        ")\n",
        "log\n",
        "⁡\n",
        "(\n",
        "y\n",
        "^\n",
        "(\n",
        "i\n",
        ")\n",
        ")\n",
        "+\n",
        "(\n",
        "1\n",
        "−\n",
        "y\n",
        "(\n",
        "i\n",
        ")\n",
        ")\n",
        "log\n",
        "⁡\n",
        "(\n",
        "1\n",
        "−\n",
        "y\n",
        "^\n",
        "(\n",
        "i\n",
        ")\n",
        ")\n",
        "]\n",
        "+\n",
        "λ\n",
        "∑\n",
        "j\n",
        "=\n",
        "1\n",
        "n\n",
        "β\n",
        "j\n",
        "2\n",
        "J(β)=−\n",
        "m\n",
        "1\n",
        "​\n",
        "  \n",
        "i=1\n",
        "∑\n",
        "m\n",
        "​\n",
        " [y\n",
        "(i)\n",
        " log(\n",
        "y\n",
        "^\n",
        "​\n",
        "  \n",
        "(i)\n",
        " )+(1−y\n",
        "(i)\n",
        " )log(1−\n",
        "y\n",
        "^\n",
        "​\n",
        "  \n",
        "(i)\n",
        " )]+λ\n",
        "j=1\n",
        "∑\n",
        "n\n",
        "​\n",
        " β\n",
        "j\n",
        "2\n",
        "​\n",
        "\n",
        "Effect: Shrinks all coefficients toward zero but does not set them exactly to zero, reducing their impact.\n",
        "\n",
        "Elastic Net Regularization:\n",
        "\n",
        "Combines L1 and L2 regularization.\n",
        "\n",
        "The cost function with Elastic Net regularization is:\n",
        "\n",
        "J\n",
        "(\n",
        "β\n",
        ")\n",
        "=\n",
        "−\n",
        "1\n",
        "m\n",
        "∑\n",
        "i\n",
        "=\n",
        "1\n",
        "m\n",
        "[\n",
        "y\n",
        "(\n",
        "i\n",
        ")\n",
        "log\n",
        "⁡\n",
        "(\n",
        "y\n",
        "^\n",
        "(\n",
        "i\n",
        ")\n",
        ")\n",
        "+\n",
        "(\n",
        "1\n",
        "−\n",
        "y\n",
        "(\n",
        "i\n",
        ")\n",
        ")\n",
        "log\n",
        "⁡\n",
        "(\n",
        "1\n",
        "−\n",
        "y\n",
        "^\n",
        "(\n",
        "i\n",
        ")\n",
        ")\n",
        "]\n",
        "+\n",
        "λ\n",
        "1\n",
        "∑\n",
        "j\n",
        "=\n",
        "1\n",
        "n\n",
        "∣\n",
        "β\n",
        "j\n",
        "∣\n",
        "+\n",
        "λ\n",
        "2\n",
        "∑\n",
        "j\n",
        "=\n",
        "1\n",
        "n\n",
        "β\n",
        "j\n",
        "2\n",
        "J(β)=−\n",
        "m\n",
        "1\n",
        "​\n",
        "  \n",
        "i=1\n",
        "∑\n",
        "m\n",
        "​\n",
        " [y\n",
        "(i)\n",
        " log(\n",
        "y\n",
        "^\n",
        "​\n",
        "  \n",
        "(i)\n",
        " )+(1−y\n",
        "(i)\n",
        " )log(1−\n",
        "y\n",
        "^\n",
        "​\n",
        "  \n",
        "(i)\n",
        " )]+λ\n",
        "1\n",
        "​\n",
        "  \n",
        "j=1\n",
        "∑\n",
        "n\n",
        "​\n",
        " ∣β\n",
        "j\n",
        "​\n",
        " ∣+λ\n",
        "2\n",
        "​\n",
        "  \n",
        "j=1\n",
        "∑\n",
        "n\n",
        "​\n",
        " β\n",
        "j\n",
        "2\n",
        "​\n",
        "\n",
        "Effect: Balances the benefits of both L1 and L2 regularization.\n",
        "\n",
        "Why is Regularization Needed?\n",
        "Prevents Overfitting:\n",
        "\n",
        "Without regularization, Logistic Regression may assign excessively large coefficients to some features, especially when there are many features or multicollinearity (high correlation between features). This leads to overfitting, where the model performs well on the training data but poorly on unseen data.\n",
        "\n",
        "Regularization penalizes large coefficients, encouraging the model to focus on the most important features and generalize better.\n",
        "\n",
        "Handles Multicollinearity:\n",
        "\n",
        "When features are highly correlated, the model may become unstable, and small changes in the data can lead to large changes in the coefficients.\n",
        "\n",
        "Regularization stabilizes the model by shrinking the coefficients of correlated features.\n",
        "\n",
        "Improves Interpretability:\n",
        "\n",
        "L1 regularization (Lasso) can reduce the number of features by setting some coefficients to zero, making the model simpler and easier to interpret.\n",
        "\n",
        "Controls Model Complexity:\n",
        "\n",
        "Regularization introduces a trade-off between fitting the training data well and keeping the model simple. This helps avoid overly complex models that capture noise in the data.\n",
        "\n",
        "Regularization Parameter (\n",
        "λ\n",
        "λ)\n",
        "The regularization parameter\n",
        "λ\n",
        "λ controls the strength of regularization:\n",
        "\n",
        "If\n",
        "λ\n",
        "=\n",
        "0\n",
        "λ=0, there is no regularization, and the model may overfit.\n",
        "\n",
        "If\n",
        "λ\n",
        "λ is too large, the model may underfit, as it overly penalizes the coefficients, leading to a simplistic model.\n",
        "\n",
        "The optimal value of\n",
        "λ\n",
        "λ is typically chosen using cross-validation.\n",
        "\n",
        "Summary\n",
        "Regularization in Logistic Regression is essential because:\n",
        "\n",
        "It prevents overfitting by penalizing large coefficients.\n",
        "\n",
        "It handles multicollinearity and improves model stability.\n",
        "\n",
        "It improves interpretability by simplifying the model (especially with L1 regularization).\n",
        "\n",
        "It controls model complexity, balancing the trade-off between bias and variance.\n",
        "\n",
        "By adding a regularization term to the cost function, Logistic Regression becomes more robust and generalizes better to unseen data.\n",
        "\n"
      ],
      "metadata": {
        "id": "9UDFlWXoNFCx"
      }
    },
    {
      "cell_type": "markdown",
      "source": [
        "6.  the difference between Lasso, Ridge, and Elastic Net regressionC\n",
        "\n"
      ],
      "metadata": {
        "id": "SbJbL_XuNYFh"
      }
    },
    {
      "cell_type": "markdown",
      "source": [
        "Lasso, Ridge, and Elastic Net regression are all regularization techniques used to prevent overfitting in regression models, including Logistic Regression. They differ in how they penalize the model's coefficients and the effects they have on the model. Here's a detailed comparison:\n",
        "\n",
        "1. Lasso Regression (L1 Regularization)\n",
        "Penalty Term:\n",
        "\n",
        "Adds a penalty proportional to the absolute value of the coefficients:\n",
        "\n",
        "Penalty\n",
        "=\n",
        "λ\n",
        "∑\n",
        "j\n",
        "=\n",
        "1\n",
        "n\n",
        "∣\n",
        "β\n",
        "j\n",
        "∣\n",
        "Penalty=λ\n",
        "j=1\n",
        "∑\n",
        "n\n",
        "​\n",
        " ∣β\n",
        "j\n",
        "​\n",
        " ∣\n",
        "where\n",
        "λ\n",
        "λ is the regularization parameter and\n",
        "β\n",
        "j\n",
        "β\n",
        "j\n",
        "​\n",
        "  are the model coefficients.\n",
        "\n",
        "Effect on Coefficients:\n",
        "\n",
        "Encourages sparsity by driving some coefficients to exactly zero.\n",
        "\n",
        "Effectively performs feature selection by excluding irrelevant features from the model.\n",
        "\n",
        "Use Cases:\n",
        "\n",
        "When you have a large number of features and suspect that only a few are important.\n",
        "\n",
        "When interpretability is important, and you want to identify the most relevant features.\n",
        "\n",
        "Advantages:\n",
        "\n",
        "Produces simpler and more interpretable models.\n",
        "\n",
        "Automatically selects features by setting some coefficients to zero.\n",
        "\n",
        "Disadvantages:\n",
        "\n",
        "May struggle with highly correlated features, as it tends to select only one and ignore the rest.\n",
        "\n",
        "2. Ridge Regression (L2 Regularization)\n",
        "Penalty Term:\n",
        "\n",
        "Adds a penalty proportional to the square of the coefficients:\n",
        "\n",
        "Penalty\n",
        "=\n",
        "λ\n",
        "∑\n",
        "j\n",
        "=\n",
        "1\n",
        "n\n",
        "β\n",
        "j\n",
        "2\n",
        "Penalty=λ\n",
        "j=1\n",
        "∑\n",
        "n\n",
        "​\n",
        " β\n",
        "j\n",
        "2\n",
        "​\n",
        "\n",
        "Effect on Coefficients:\n",
        "\n",
        "Shrinks all coefficients toward zero but does not set them exactly to zero.\n",
        "\n",
        "Reduces the impact of all features, but retains all of them in the model.\n",
        "\n",
        "Use Cases:\n",
        "\n",
        "When you have multicollinearity (highly correlated features).\n",
        "\n",
        "When you want to reduce overfitting without eliminating features.\n",
        "\n",
        "Advantages:\n",
        "\n",
        "Handles multicollinearity well by distributing the effect among correlated features.\n",
        "\n",
        "Provides a more stable solution compared to Lasso.\n",
        "\n",
        "Disadvantages:\n",
        "\n",
        "Does not perform feature selection; all features remain in the model.\n",
        "\n",
        "May not be ideal when only a few features are relevant.\n",
        "\n",
        "3. Elastic Net Regression (Combination of L1 and L2 Regularization)\n",
        "Penalty Term:\n",
        "\n",
        "Combines both L1 and L2 penalties:\n",
        "\n",
        "Penalty\n",
        "=\n",
        "λ\n",
        "1\n",
        "∑\n",
        "j\n",
        "=\n",
        "1\n",
        "n\n",
        "∣\n",
        "β\n",
        "j\n",
        "∣\n",
        "+\n",
        "λ\n",
        "2\n",
        "∑\n",
        "j\n",
        "=\n",
        "1\n",
        "n\n",
        "β\n",
        "j\n",
        "2\n",
        "Penalty=λ\n",
        "1\n",
        "​\n",
        "  \n",
        "j=1\n",
        "∑\n",
        "n\n",
        "​\n",
        " ∣β\n",
        "j\n",
        "​\n",
        " ∣+λ\n",
        "2\n",
        "​\n",
        "  \n",
        "j=1\n",
        "∑\n",
        "n\n",
        "​\n",
        " β\n",
        "j\n",
        "2\n",
        "​\n",
        "\n",
        "where\n",
        "λ\n",
        "1\n",
        "λ\n",
        "1\n",
        "​\n",
        "  and\n",
        "λ\n",
        "2\n",
        "λ\n",
        "2\n",
        "​\n",
        "  control the strength of L1 and L2 regularization, respectively.\n",
        "\n",
        "Effect on Coefficients:\n",
        "\n",
        "Balances the effects of Lasso and Ridge:\n",
        "\n",
        "Encourages sparsity (like Lasso) but also handles multicollinearity (like Ridge).\n",
        "\n",
        "Can shrink some coefficients to zero while keeping others small but non-zero.\n",
        "\n",
        "Use Cases:\n",
        "\n",
        "When you have a large number of features, some of which are correlated.\n",
        "\n",
        "When you want to perform feature selection while also handling multicollinearity.\n",
        "\n",
        "Advantages:\n",
        "\n",
        "Combines the benefits of both Lasso and Ridge.\n",
        "\n",
        "More flexible and often performs better than Lasso or Ridge alone.\n",
        "\n",
        "Disadvantages:\n",
        "\n",
        "Requires tuning two hyperparameters (\n",
        "λ\n",
        "1\n",
        "λ\n",
        "1\n",
        "​\n",
        "  and\n",
        "λ\n",
        "2\n",
        "λ\n",
        "2\n",
        "​\n",
        " ), which can be computationally expensive.\n",
        "\n",
        "Key Differences Between Lasso, Ridge, and Elastic Net\n",
        "Aspect\tLasso (L1)\tRidge (L2)\tElastic Net\n",
        "Penalty Term\n",
        "λ\n",
        "∑\n",
        "λ∑\t\\beta_j\t)\n",
        "λ\n",
        "∑\n",
        "β\n",
        "j\n",
        "2\n",
        "λ∑β\n",
        "j\n",
        "2\n",
        "​\n",
        "\n",
        "λ\n",
        "1\n",
        "∑\n",
        "λ\n",
        "1\n",
        "​\n",
        " ∑\t\\beta_j\t+ \\lambda_2 \\sum \\beta_j^2 )\n",
        "Effect on Coefficients\tSets some coefficients to zero\tShrinks all coefficients toward zero\tBalances sparsity and shrinkage\n",
        "Feature Selection\tYes\tNo\tYes\n",
        "Handles Multicollinearity\tNo (selects one feature)\tYes (distributes effect)\tYes\n",
        "Use Cases\tFew relevant features, interpretability\tMulticollinearity, general overfitting\tLarge datasets, correlated features\n",
        "Hyperparameters\n",
        "λ\n",
        "λ\n",
        "λ\n",
        "λ\n",
        "λ\n",
        "1\n",
        "λ\n",
        "1\n",
        "​\n",
        "  and\n",
        "λ\n",
        "2\n",
        "λ\n",
        "2\n",
        "​\n"
      ],
      "metadata": {
        "id": "-cTqgI84NYIL"
      }
    },
    {
      "cell_type": "markdown",
      "source": [
        "7.When should we use Elastic Net instead of Lasso or Ridge."
      ],
      "metadata": {
        "id": "Jxolw5lJNYKq"
      }
    },
    {
      "cell_type": "markdown",
      "source": [
        "Ridge, lasso and elastic net - Cross Validated - Stack Exchange\n",
        "Lasso does a sparse selection, while Ridge does not. · When you have highly-correlated variables, Ridge regression shrinks the two coefficients ...\n",
        "\n",
        "Any disadvantages of elastic net over lasso? - Cross Validated\n",
        "Why Lasso or ElasticNet perform better than Ridge when the ...\n",
        "regression - What is elastic net regularization, and how does it solve ...\n",
        "How to explain the differences between lasso, ridge, and elastic net ..Elastic Net is particularly useful when dealing with datasets that have highly correlated features, as it combines the strengths of both Lasso and Ridge regression. It performs variable selection like Lasso while also addressing multicollinearity issues, making it a versatile choice in many modeling scenarios. When to Use Elastic Net Instead of Lasso or Ridge\n",
        "\n",
        "Correlated Features:\n",
        "\n",
        "Elastic Net is ideal when features are highly correlated. It tends to keep or remove groups of correlated features together, unlike Lasso, which may randomly select one feature from a group.\n",
        "Feature Selection and Coefficient Shrinkage:\n",
        "\n",
        "It combines the feature selection capability of Lasso (which can set coefficients to zero) with the coefficient shrinkage of Ridge (which reduces the impact of features without eliminating them). This makes it effective for datasets where both feature selection and regularization are needed.\n",
        "Performance Issues with Lasso or Ridge:\n",
        "\n",
        "If you have tried Lasso and Ridge separately and found that neither provided satisfactory results, Elastic Net may yield better predictions by leveraging the strengths of both methods.\n",
        "High-Dimensional Data:\n",
        "\n",
        "In situations where the number of features exceeds the number of observations, Elastic Net can be more robust than Lasso or Ridge alone, as it can handle the complexity of the data more effectively.\n",
        "Model Complexity:\n",
        "\n",
        "If you want to maintain a balance between model complexity and interpretability, Elastic Net allows for a more nuanced approach by adjusting the mixing parameter (l1_ratio), which controls the balance between Lasso and Ridge penalties.\n",
        "Summary of Use Cases:\n",
        "\n",
        "Use Lasso when you want to perform feature selection and have a relatively small number of features.\n",
        "Use Ridge when you have many features and want to prevent overfitting without eliminating any features.\n",
        "Use Elastic Net when you have correlated features, need both feature selection and coefficient shrinkage, or when previous methods have not performed well.\n",
        "\n",
        "\n",
        "\n",
        "\n"
      ],
      "metadata": {
        "id": "k8nbxsO8NYMz"
      }
    },
    {
      "cell_type": "markdown",
      "source": [
        "8.What is the impact of the regularization parameter (λ) in Logistic Regression."
      ],
      "metadata": {
        "id": "liRX7mu4NYPk"
      }
    },
    {
      "cell_type": "markdown",
      "source": [
        "In logistic regression, the regularization parameter (often denoted as ( \\lambda ) or sometimes ( \\alpha )) plays a crucial role in controlling the complexity of the model and preventing overfitting. Regularization is a technique used to impose a penalty on the size of the coefficients in the model, which can help improve generalization to unseen data. Here’s how the regularization parameter impacts logistic regression:\n",
        "\n",
        "1. Control Overfitting:\n",
        "High ( \\lambda ): A larger value of ( \\lambda ) increases the penalty on the coefficients, which can lead to simpler models with smaller coefficients. This can help prevent overfitting, especially in cases where the model is complex or the dataset is small.\n",
        "Low ( \\lambda ): A smaller value of ( \\lambda ) reduces the penalty, allowing the model to fit the training data more closely. This can lead to overfitting, where the model captures noise in the training data rather than the underlying pattern.\n",
        "2. Impact on Coefficients:\n",
        "L1 Regularization (Lasso): If ( \\lambda ) is used in L1 regularization, it can lead to some coefficients being exactly zero, effectively performing feature selection. This is useful when you suspect that many features are irrelevant.\n",
        "L2 Regularization (Ridge): In L2 regularization, ( \\lambda ) shrinks the coefficients but does not set them to zero. This can be beneficial when you want to retain all features but reduce their impact.\n",
        "3. Bias-Variance Tradeoff:\n",
        "Increasing ( \\lambda ): As ( \\lambda ) increases, the model becomes more biased (as it may underfit the training data), but the variance decreases (as it is less sensitive to fluctuations in the training data).\n",
        "Decreasing ( \\lambda ): Conversely, a smaller ( \\lambda ) can lead to lower bias (better fit to the training data) but higher variance (more sensitive to noise).\n",
        "4. Model Interpretability:\n",
        "A higher ( \\lambda ) can lead to a more interpretable model, as it simplifies the model by reducing the number of features or shrinking coefficients. This can make it easier to understand the influence of each feature on the outcome.\n",
        "5. Selection of ( \\lambda ):\n",
        "The choice of ( \\lambda ) is critical and is often determined through techniques such as cross-validation. This helps in finding a balance that minimizes the prediction error on unseen data.\n",
        "Summary:\n",
        "In summary, the regularization parameter ( \\lambda ) in logistic regression is essential for controlling model complexity, preventing overfitting, and managing the tradeoff between bias and variance. The appropriate choice of ( \\lambda ) can significantly impact the performance and interpretability of the logistic regression model.\n",
        "\n",
        "\n",
        "\n",
        "\n",
        "Bookmark message\n",
        "Copy message\n",
        "\n"
      ],
      "metadata": {
        "id": "JqHGgRqMNYRt"
      }
    },
    {
      "cell_type": "markdown",
      "source": [
        "8. What is the impact of the regularization parameter (λ) in Logistic Regression."
      ],
      "metadata": {
        "id": "mz3OUz8PNYVE"
      }
    },
    {
      "cell_type": "markdown",
      "source": [
        "In logistic regression, the regularization parameter (λ) plays a crucial role in controlling the complexity of the model and preventing overfitting. Regularization is a technique used to impose a penalty on the size of the coefficients in the model, which helps to ensure that the model generalizes well to unseen data. Here’s how the regularization parameter impacts logistic regression:\n",
        "\n",
        "Control Overfitting: A higher value of λ increases the penalty on the coefficients, which can help to reduce overfitting by discouraging the model from fitting the noise in the training data. This is particularly important when dealing with high-dimensional datasets where the risk of overfitting is greater.\n",
        "\n",
        "Coefficient Shrinkage: As λ increases, the coefficients of the logistic regression model are shrunk towards zero. This means that less important features may have their coefficients reduced significantly, effectively performing feature selection. In extreme cases, some coefficients may become exactly zero, leading to a simpler model.\n",
        "\n",
        "Bias-Variance Tradeoff: Increasing λ introduces bias into the model (as it constrains the coefficients), but it can reduce variance (the model's sensitivity to fluctuations in the training data). The goal is to find an optimal value of λ that balances bias and variance, leading to better performance on validation or test datasets.\n",
        "\n",
        "Types of Regularization: There are different types of regularization techniques that can be applied in logistic regression:\n",
        "\n",
        "L1 Regularization (Lasso): This adds the absolute value of the coefficients to the loss function. It can lead to sparse models where some coefficients are exactly zero.\n",
        "L2 Regularization (Ridge): This adds the square of the coefficients to the loss function. It tends to shrink coefficients but does not set them to zero, leading to a model that includes all features but with reduced impact from less important ones.\n",
        "Elastic Net: This combines both L1 and L2 regularization, allowing for a balance between feature selection and coefficient shrinkage.\n",
        "Model Interpretability: Regularization can also impact the interpretability of the model. A model with fewer non-zero coefficients (due to L1 regularization) may be easier to interpret, as it highlights the most important features.\n",
        "\n",
        "Hyperparameter Tuning: The choice of λ is often treated as a hyperparameter that needs to be tuned. Techniques such as cross-validation can be used to find the optimal value of λ that minimizes the loss function on validation data."
      ],
      "metadata": {
        "id": "lEshhTocRV1O"
      }
    },
    {
      "cell_type": "markdown",
      "source": [
        "9. What are the key assumptions of Logistic Regression."
      ],
      "metadata": {
        "id": "Vh_Udd8JRafW"
      }
    },
    {
      "cell_type": "markdown",
      "source": [
        "Logistic regression is a widely used statistical method for binary classification problems. While it is a flexible and powerful technique, it is based on several key assumptions that should be considered when applying it to a dataset. Here are the main assumptions of logistic regression:\n",
        "\n",
        "Binary Outcome: Logistic regression is designed for binary outcome variables. The dependent variable should be categorical with two possible outcomes (e.g., success/failure, yes/no).\n",
        "\n",
        "Independence of Observations: The observations in the dataset should be independent of each other. This means that the outcome for one observation should not influence the outcome for another. Violations of this assumption can lead to biased estimates.\n",
        "\n",
        "Linearity of Logit: While logistic regression does not require a linear relationship between the independent variables and the dependent variable, it does assume that there is a linear relationship between the independent variables and the log odds (logit) of the dependent variable. This means that the logit transformation of the probability of the outcome should be a linear combination of the independent variables.\n",
        "\n",
        "No Multicollinearity: The independent variables should not be highly correlated with each other. Multicollinearity can inflate the variance of the coefficient estimates and make the model unstable. It can also make it difficult to determine the individual effect of each predictor.\n",
        "\n",
        "Large Sample Size: Logistic regression generally requires a sufficiently large sample size to provide reliable estimates. Small sample sizes can lead to overfitting and unreliable coefficient estimates. A common rule of thumb is to have at least 10 events (i.e., instances of the outcome) per predictor variable.\n",
        "\n",
        "Absence of Outliers: Logistic regression can be sensitive to outliers, which can disproportionately influence the model's estimates. It is important to check for and address outliers in the dataset.\n",
        "\n",
        "Homoscedasticity: While logistic regression does not assume homoscedasticity in the same way that linear regression does, it is still important that the variance of the errors is consistent across the range of predicted probabilities. This is less of a concern in logistic regression than in linear regression, but it is still worth considering.\n",
        "\n",
        "No Perfect Separation: Logistic regression assumes that there is no perfect separation between the classes. Perfect separation occurs when a predictor variable can perfectly predict the outcome variable, leading to infinite estimates for the coefficients. In such cases, alternative methods may be needed."
      ],
      "metadata": {
        "id": "dXKFewgZRaiM"
      }
    },
    {
      "cell_type": "markdown",
      "source": [
        "10. What are some alternatives to Logistic Regression for classification tasks."
      ],
      "metadata": {
        "id": "KEE5jJglRalL"
      }
    },
    {
      "cell_type": "markdown",
      "source": [
        "When it comes to classification tasks, there are several alternatives to logistic regression that can be used depending on the nature of the data, the complexity of the problem, and the specific requirements of the analysis. Here are some popular alternatives:\n",
        "\n",
        "Decision Trees:\n",
        "\n",
        "Decision trees are a non-parametric method that splits the data into subsets based on feature values. They are easy to interpret and visualize but can be prone to overfitting.\n",
        "Random Forest:\n",
        "\n",
        "Random forests are an ensemble method that builds multiple decision trees and combines their predictions. This approach helps to reduce overfitting and improve accuracy compared to a single decision tree.\n",
        "Support Vector Machines (SVM):\n",
        "\n",
        "SVMs are powerful classifiers that find the optimal hyperplane to separate different classes in the feature space. They can handle both linear and non-linear classification tasks using kernel functions.\n",
        "K-Nearest Neighbors (KNN):\n",
        "\n",
        "KNN is a simple, instance-based learning algorithm that classifies a data point based on the majority class of its k nearest neighbors in the feature space. It is easy to implement but can be computationally expensive for large datasets.\n",
        "Naive Bayes:\n",
        "\n",
        "Naive Bayes classifiers are based on Bayes' theorem and assume independence among predictors. They are particularly effective for text classification and can handle large datasets efficiently.\n",
        "Gradient Boosting Machines (GBM):\n",
        "\n",
        "Gradient boosting is an ensemble technique that builds models sequentially, where each new model corrects the errors of the previous ones. Variants include XGBoost, LightGBM, and CatBoost, which are known for their performance and speed.\n",
        "Neural Networks:\n",
        "\n",
        "Neural networks, particularly deep learning models, can capture complex patterns in data. They are highly flexible and can be used for various classification tasks, including image and text classification.\n",
        "Linear Discriminant Analysis (LDA):\n",
        "\n",
        "LDA is a statistical method that finds a linear combination of features that best separates two or more classes. It assumes that the predictors are normally distributed and have the same covariance matrix for each class.\n",
        "Quadratic Discriminant Analysis (QDA):\n",
        "\n",
        "QDA is similar to LDA but allows for different covariance matrices for each class. It is useful when the assumption of equal covariance is not valid.\n",
        "Ensemble Methods:\n",
        "\n",
        "Techniques like bagging (e.g., Bootstrap Aggregating) and stacking can combine multiple models to improve classification performance. These methods leverage the strengths of different algorithms.\n",
        "Logistic Regression with Regularization:\n",
        "\n",
        "While still a form of logistic regression, using regularization techniques (L1 or L2) can enhance its performance and robustness, especially in high-dimensional datasets.\n",
        "Multi-class Classification Algorithms:\n",
        "\n",
        "For problems with more than two classes, algorithms like One-vs-Rest (OvR) or One-vs-One (OvO) can be applied to extend binary classifiers to multi-class problems."
      ],
      "metadata": {
        "id": "-twSllHBRan2"
      }
    },
    {
      "cell_type": "markdown",
      "source": [
        "11.  What are Classification Evaluation Metrics."
      ],
      "metadata": {
        "id": "HSZzypJxRaqs"
      }
    },
    {
      "cell_type": "markdown",
      "source": [
        "Classification evaluation metrics are quantitative measures used to assess the performance of classification models. These metrics help determine how well a model is performing in terms of correctly predicting the classes of instances in a dataset. Here are some of the most commonly used classification evaluation metrics:\n",
        "\n",
        "Accuracy:\n",
        "\n",
        "Accuracy is the ratio of correctly predicted instances to the total instances in the dataset. It is calculated as: [ \\text{Accuracy} = \\frac{\\text{True Positives} + \\text{True Negatives}}{\\text{Total Instances}} ]\n",
        "While accuracy is a straightforward metric, it can be misleading, especially in imbalanced datasets.\n",
        "Precision:\n",
        "\n",
        "Precision (also known as positive predictive value) measures the proportion of true positive predictions among all positive predictions. It is calculated as: [ \\text{Precision} = \\frac{\\text{True Positives}}{\\text{True Positives} + \\text{False Positives}} ]\n",
        "High precision indicates that a model has a low false positive rate.\n",
        "Recall (Sensitivity or True Positive Rate):\n",
        "\n",
        "Recall measures the proportion of true positive predictions among all actual positive instances. It is calculated as: [ \\text{Recall} = \\frac{\\text{True Positives}}{\\text{True Positives} + \\text{False Negatives}} ]\n",
        "High recall indicates that a model has a low false negative rate.\n",
        "F1 Score:\n",
        "\n",
        "The F1 score is the harmonic mean of precision and recall. It provides a balance between the two metrics and is particularly useful when dealing with imbalanced datasets. It is calculated as: [ \\text{F1 Score} = 2 \\times \\frac{\\text{Precision} \\times \\text{Recall}}{\\text{Precision} + \\text{Recall}} ]\n",
        "The F1 score ranges from 0 to 1, with 1 being the best possible score.\n",
        "ROC Curve (Receiver Operating Characteristic Curve):\n",
        "\n",
        "The ROC curve is a graphical representation of a classifier's performance across different threshold values. It plots the true positive rate (recall) against the false positive rate at various threshold settings.\n",
        "AUC (Area Under the ROC Curve):\n",
        "\n",
        "The AUC measures the area under the ROC curve. It provides a single value that summarizes the model's ability to discriminate between positive and negative classes. AUC values range from 0 to 1, with 0.5 indicating no discrimination (random guessing) and 1 indicating perfect discrimination.\n",
        "Confusion Matrix:\n",
        "\n",
        "A confusion matrix is a table that summarizes the performance of a classification model by showing the counts of true positives, true negatives, false positives, and false negatives. It provides a comprehensive view of how well the model is performing.\n",
        "Specificity (True Negative Rate):\n",
        "\n",
        "Specificity measures the proportion of true negative predictions among all actual negative instances. It is calculated as: [ \\text{Specificity} = \\frac{\\text{True Negatives}}{\\text{True Negatives} + \\text{False Positives}} ]\n",
        "High specificity indicates that a model has a low false positive rate.\n",
        "Log Loss (Cross-Entropy Loss):\n",
        "\n",
        "Log loss measures the performance of a classification model where the prediction is a probability value between 0 and 1. It quantifies the difference between the predicted probabilities and the actual class labels. Lower log loss values indicate better model performance.\n",
        "Matthews Correlation Coefficient (MCC):\n",
        "\n",
        "The MCC is a measure of the quality of binary classifications. It takes into account true and false positives and negatives and is generally regarded as a balanced measure. It is calculated as: [ \\text{MCC} = \\frac{(\\text{True Positives} \\times \\text{True Negatives}) - (\\text{False Positives} \\times \\text{False Negatives})}{\\sqrt{(\\text{True Positives} + \\text{False Positives})(\\text{True Positives} + \\text{False Negatives})(\\text{True Negatives} + \\text{False Positives})(\\text{True Negatives} + \\text{False Negatives})}} ]\n",
        "The MCC value ranges from -1 to 1, where 1 indicates perfect prediction, 0 indicates no better than random prediction, and -1 indicates total disagreement between prediction and observation."
      ],
      "metadata": {
        "id": "-kXPzUtRRau2"
      }
    },
    {
      "cell_type": "markdown",
      "source": [
        "12. How does class imbalance affect Logistic Regression."
      ],
      "metadata": {
        "id": "MYv3das5Rax0"
      }
    },
    {
      "cell_type": "markdown",
      "source": [
        "Class imbalance occurs when the distribution of classes in a dataset is not uniform, meaning that one class (the majority class) has significantly more instances than the other class (the minority class). This imbalance can have a substantial impact on the performance of logistic regression and other classification algorithms. Here are some key ways in which class imbalance affects logistic regression:\n",
        "\n",
        "Bias Toward the Majority Class:\n",
        "\n",
        "Logistic regression, like many classification algorithms, tends to be biased toward the majority class. When the model is trained on imbalanced data, it may learn to predict the majority class more often, leading to high accuracy but poor performance on the minority class.\n",
        "Misleading Accuracy:\n",
        "\n",
        "In imbalanced datasets, accuracy can be a misleading metric. For example, if 90% of the instances belong to the majority class, a model that predicts the majority class for all instances would achieve 90% accuracy, despite failing to identify any instances of the minority class. This can give a false sense of model performance.\n",
        "Low Recall for the Minority Class:\n",
        "\n",
        "The model may have low recall (sensitivity) for the minority class, meaning it fails to identify a significant number of positive instances. This is particularly problematic in applications where the minority class is of high importance, such as fraud detection or disease diagnosis.\n",
        "Poor Decision Boundary:\n",
        "\n",
        "The decision boundary learned by logistic regression may not be optimal in the presence of class imbalance. The model may be overly influenced by the majority class, leading to a decision boundary that does not adequately separate the minority class from the majority class.\n",
        "Increased False Negatives:\n",
        "\n",
        "The model may produce a higher number of false negatives for the minority class, which can be detrimental in scenarios where missing a positive instance has serious consequences (e.g., failing to detect a disease).\n",
        "Strategies to Address Class Imbalance\n",
        "To mitigate the effects of class imbalance on logistic regression, several strategies can be employed:\n",
        "\n",
        "Resampling Techniques:\n",
        "\n",
        "Oversampling: Increase the number of instances in the minority class by duplicating existing instances or generating synthetic instances (e.g., using SMOTE - Synthetic Minority Over-sampling Technique).\n",
        "Undersampling: Reduce the number of instances in the majority class to balance the dataset. This can lead to loss of information, so it should be done carefully.\n",
        "Class Weights:\n",
        "\n",
        "Assign higher weights to the minority class during model training. This can be done by using the class_weight parameter in logistic regression implementations (e.g., in scikit-learn). This approach penalizes misclassifications of the minority class more heavily, encouraging the model to pay more attention to it.\n",
        "Anomaly Detection Techniques:\n",
        "\n",
        "In cases where the minority class is extremely rare, treating the problem as an anomaly detection task may be more appropriate. This involves identifying instances that deviate significantly from the majority class.\n",
        "Ensemble Methods:\n",
        "\n",
        "Use ensemble techniques like Random Forests or Gradient Boosting, which can be more robust to class imbalance. These methods can combine predictions from multiple models, improving performance on the minority class.\n",
        "Evaluation Metrics:\n",
        "\n",
        "Use evaluation metrics that are more informative in the context of class imbalance, such as precision, recall, F1 score, and AUC-ROC, rather than relying solely on accuracy.\n",
        "Threshold Adjustment:\n",
        "\n",
        "Adjust the decision threshold for classifying instances. By default, logistic regression uses a threshold of 0.5, but this can be modified to favor the minority class, depending on the specific context and costs associated with false positives and false negatives."
      ],
      "metadata": {
        "id": "Wn0AkyCZRa0_"
      }
    },
    {
      "cell_type": "markdown",
      "source": [
        "13.What is Hyperparameter Tuning in Logistic Regression."
      ],
      "metadata": {
        "id": "qWjBgUKtRa3-"
      }
    },
    {
      "cell_type": "markdown",
      "source": [
        "Hyperparameter tuning in logistic regression (and in machine learning in general) refers to the process of optimizing the hyperparameters of the model to improve its performance on a given task. Hyperparameters are the parameters that are not learned from the data during training but are set before the training process begins. They can significantly influence the model's performance, and finding the right values for them is crucial for achieving optimal results.\n",
        "\n",
        "Key Hyperparameters in Logistic Regression\n",
        "Regularization Strength (C):\n",
        "\n",
        "In logistic regression, regularization is used to prevent overfitting by penalizing large coefficients. The hyperparameter ( C ) (inverse of regularization strength) controls the amount of regularization applied. A smaller value of ( C ) indicates stronger regularization, while a larger value indicates weaker regularization. The choice of ( C ) can significantly affect the model's complexity and performance.\n",
        "Regularization Type:\n",
        "\n",
        "Logistic regression can use different types of regularization:\n",
        "L1 Regularization (Lasso): Encourages sparsity in the model by pushing some coefficients to zero.\n",
        "L2 Regularization (Ridge): Penalizes the square of the coefficients, leading to smaller but non-zero coefficients.\n",
        "The choice between L1 and L2 regularization can be considered a hyperparameter.\n",
        "Solver:\n",
        "\n",
        "The solver is the algorithm used to optimize the logistic regression model. Different solvers (e.g., 'liblinear', 'saga', 'lbfgs', 'newton-cg') have different characteristics and may perform better on different types of datasets. Choosing the right solver can impact convergence speed and model performance.\n",
        "Maximum Iterations:\n",
        "\n",
        "This hyperparameter specifies the maximum number of iterations for the optimization algorithm to converge. If the model does not converge within this limit, it may lead to suboptimal results.\n",
        "Tolerance:\n",
        "\n",
        "The tolerance hyperparameter determines the stopping criterion for the optimization algorithm. It specifies the threshold for convergence; if the change in the cost function is less than this value, the algorithm will stop.\n",
        "Hyperparameter Tuning Techniques\n",
        "To find the optimal hyperparameters for logistic regression, several techniques can be employed:\n",
        "\n",
        "Grid Search:\n",
        "\n",
        "Grid search involves specifying a range of values for each hyperparameter and exhaustively evaluating all possible combinations. This method can be computationally expensive but is straightforward and guarantees finding the best combination within the specified grid.\n",
        "Random Search:\n",
        "\n",
        "Random search randomly samples combinations of hyperparameters from specified distributions. It is often more efficient than grid search, especially when dealing with a large number of hyperparameters or when some hyperparameters have little effect on performance.\n",
        "Cross-Validation:\n",
        "\n",
        "Cross-validation is used in conjunction with grid or random search to evaluate the performance of different hyperparameter combinations. It involves splitting the dataset into training and validation sets multiple times to ensure that the model's performance is robust and not dependent on a specific train-test split.\n",
        "Bayesian Optimization:\n",
        "\n",
        "Bayesian optimization is a more advanced technique that builds a probabilistic model of the function mapping hyperparameters to model performance. It uses this model to make informed decisions about which hyperparameters to evaluate next, often leading to better results with fewer evaluations.\n",
        "Automated Hyperparameter Tuning Libraries:\n",
        "\n",
        "Libraries such as Optuna, Hyperopt, and Scikit-Optimize provide tools for automated hyperparameter tuning, making it easier to implement advanced tuning techniques."
      ],
      "metadata": {
        "id": "6WXw5yCsTbk9"
      }
    },
    {
      "cell_type": "markdown",
      "source": [
        "14.  What are different solvers in Logistic Regression? Which one should be used."
      ],
      "metadata": {
        "id": "gxKOIIzuTbn9"
      }
    },
    {
      "cell_type": "markdown",
      "source": [
        "In logistic regression, the solver is the algorithm used to optimize the model's parameters (coefficients). Different solvers have different characteristics, and the choice of solver can affect the convergence speed, performance, and suitability for specific types of datasets. Here are some common solvers used in logistic regression, particularly in libraries like Scikit-learn:\n",
        "\n",
        "Common Solvers for Logistic Regression\n",
        "liblinear:\n",
        "\n",
        "Type: Coordinate Descent\n",
        "Use Case: Suitable for small to medium-sized datasets.\n",
        "Characteristics:\n",
        "Supports L1 and L2 regularization.\n",
        "Works well for binary classification problems.\n",
        "Can handle large datasets but may be slower for very large datasets compared to other solvers.\n",
        "Recommendation: Good choice for smaller datasets or when L1 regularization is needed.\n",
        "newton-cg:\n",
        "\n",
        "Type: Newton's Method\n",
        "Use Case: Suitable for larger datasets.\n",
        "Characteristics:\n",
        "Uses the Newton-Raphson method to find the optimal parameters.\n",
        "Supports L2 regularization only.\n",
        "Generally faster than liblinear for larger datasets.\n",
        "Recommendation: A good choice for larger datasets where L2 regularization is preferred.\n",
        "lbfgs:\n",
        "\n",
        "Type: Limited-memory Broyden-Fletcher-Goldfarb-Shanno (L-BFGS)\n",
        "Use Case: Suitable for large datasets.\n",
        "Characteristics:\n",
        "An optimization algorithm that approximates the BFGS algorithm.\n",
        "Supports L2 regularization only.\n",
        "Efficient for high-dimensional datasets.\n",
        "Recommendation: A widely used and effective solver for large datasets, especially when L2 regularization is desired.\n",
        "saga:\n",
        "\n",
        "Type: Stochastic Average Gradient\n",
        "Use Case: Suitable for large datasets and online learning.\n",
        "Characteristics:\n",
        "Can handle both L1 and L2 regularization.\n",
        "Works well with large datasets and is particularly efficient for sparse data.\n",
        "Supports mini-batch learning, making it suitable for online learning scenarios.\n",
        "Recommendation: A good choice for very large datasets or when L1 regularization is needed, especially with sparse features.\n",
        "sgd:\n",
        "\n",
        "Type: Stochastic Gradient Descent\n",
        "Use Case: Suitable for large datasets and online learning.\n",
        "Characteristics:\n",
        "A simple and efficient approach for large-scale learning.\n",
        "Can handle both L1 and L2 regularization.\n",
        "Requires careful tuning of learning rate and other hyperparameters.\n",
        "Recommendation: Useful for very large datasets or when implementing online learning, but requires more tuning compared to other solvers.\n",
        "Which Solver to Use?\n",
        "The choice of solver depends on several factors, including:\n",
        "\n",
        "Dataset Size:\n",
        "\n",
        "For small to medium-sized datasets, liblinear is often a good choice. For larger datasets, lbfgs, newton-cg, or saga are generally more efficient.\n",
        "Regularization Type:\n",
        "\n",
        "If you need L1 regularization, liblinear or saga are suitable. For L2 regularization, lbfgs, newton-cg, or saga can be used.\n",
        "Sparsity of Data:\n",
        "\n",
        "If the dataset is sparse (many zero values), saga is particularly effective.\n",
        "Convergence Speed:\n",
        "\n",
        "If you need faster convergence, lbfgs and saga are often preferred for larger datasets."
      ],
      "metadata": {
        "id": "ti0IHbHQTbsN"
      }
    },
    {
      "cell_type": "markdown",
      "source": [
        "15  How is Logistic Regression extended for multiclass classification."
      ],
      "metadata": {
        "id": "8Yldn4MCTbvV"
      }
    },
    {
      "cell_type": "markdown",
      "source": [
        "Logistic regression is inherently a binary classification algorithm, meaning it is designed to predict one of two possible outcomes. However, it can be extended to handle multiclass classification problems (where there are more than two classes) using several approaches. The two most common methods for extending logistic regression to multiclass classification are One-vs-Rest (OvR) and Softmax Regression (Multinomial Logistic Regression).\n",
        "\n",
        "1. One-vs-Rest (OvR) Approach\n",
        "The One-vs-Rest (OvR) strategy involves training a separate binary logistic regression model for each class. Here’s how it works:\n",
        "\n",
        "Model Training: For each class ( k ), a binary logistic regression model is trained to distinguish between instances of class ( k ) and instances of all other classes combined (the \"rest\"). If there are ( K ) classes, ( K ) separate models are trained.\n",
        "\n",
        "Prediction: When making predictions for a new instance, each of the ( K ) models outputs a probability score. The class with the highest probability score is selected as the predicted class for that instance.\n",
        "\n",
        "Advantages:\n",
        "\n",
        "Simple to implement and understand.\n",
        "Works well when classes are not too imbalanced.\n",
        "Disadvantages:\n",
        "\n",
        "Requires training multiple models, which can be computationally expensive.\n",
        "The final decision is based on the maximum probability, which may not always reflect the true class distribution.\n",
        "2. Softmax Regression (Multinomial Logistic Regression)\n",
        "Softmax regression, also known as multinomial logistic regression, is a direct extension of logistic regression for multiclass classification. Here’s how it works:\n",
        "\n",
        "Model Training: Instead of training separate binary classifiers, a single model is trained that predicts the probabilities of each class simultaneously. The model uses the softmax function to convert the raw output scores (logits) into probabilities.\n",
        "\n",
        "Softmax Function: The softmax function is defined as follows for ( K ) classes: [ P(y = k | \\mathbf{x}) = \\frac{e^{\\beta_k^T \\mathbf{x}}}{\\sum_{j=1}^{K} e^{\\beta_j^T \\mathbf{x}}} ] where ( \\beta_k ) is the coefficient vector for class ( k ), and ( \\mathbf{x} ) is the feature vector. The denominator sums the exponentials of the scores for all classes, ensuring that the predicted probabilities sum to 1.\n",
        "\n",
        "Prediction: The predicted class for a new instance is the one with the highest probability: [ \\hat{y} = \\arg\\max_k P(y = k | \\mathbf{x}) ]\n",
        "\n",
        "Advantages:\n",
        "\n",
        "More efficient than the OvR approach since it trains a single model.\n",
        "Provides a natural way to model the probabilities of multiple classes.\n",
        "Disadvantages:\n",
        "\n",
        "Assumes that the classes are mutually exclusive, which may not be suitable for all problems.\n",
        "Can be sensitive to class imbalances.\n",
        "Conclusion\n",
        "Both the One-vs-Rest and Softmax regression approaches allow logistic regression to be applied to multiclass classification problems. The choice between these methods depends on the specific characteristics of the dataset and the problem at hand.\n",
        "\n",
        "One-vs-Rest is often preferred for its simplicity and interpretability, especially in cases where the number of classes is small.\n",
        "Softmax regression is more efficient for larger numbers of classes and provides a more unified approach to multiclass classification."
      ],
      "metadata": {
        "id": "gcQVzFkETbyV"
      }
    },
    {
      "cell_type": "markdown",
      "source": [
        "16.  What are the advantages and disadvantages of Logistic Regression.\n"
      ],
      "metadata": {
        "id": "0MX6tKxaTb1s"
      }
    },
    {
      "cell_type": "markdown",
      "source": [
        "Logistic regression is a widely used statistical method for binary and multiclass classification tasks. It has several advantages and disadvantages that make it suitable for certain applications while limiting its effectiveness in others. Here’s a summary of the key advantages and disadvantages of logistic regression:\n",
        "\n",
        "Advantages of Logistic Regression\n",
        "Simplicity and Interpretability:\n",
        "\n",
        "Logistic regression is easy to understand and interpret. The coefficients of the model can be directly interpreted as the change in the log odds of the outcome for a one-unit change in the predictor variable.\n",
        "Efficiency:\n",
        "\n",
        "Logistic regression is computationally efficient and can be trained quickly, even on large datasets. This makes it suitable for real-time applications.\n",
        "Probabilistic Output:\n",
        "\n",
        "Logistic regression provides probabilities for class membership, which can be useful for decision-making processes. This probabilistic interpretation allows for better understanding of the model's confidence in its predictions.\n",
        "Works Well with Linearly Separable Data:\n",
        "\n",
        "Logistic regression performs well when the classes are linearly separable. It can effectively model the relationship between the independent variables and the binary outcome.\n",
        "Robust to Noise:\n",
        "\n",
        "Logistic regression can be relatively robust to noise in the data, especially when regularization techniques (like L1 or L2 regularization) are applied.\n",
        "Feature Selection:\n",
        "\n",
        "With L1 regularization (Lasso), logistic regression can perform feature selection by shrinking some coefficients to zero, effectively removing less important features from the model.\n",
        "Multiclass Extension:\n",
        "\n",
        "Logistic regression can be extended to handle multiclass classification problems using techniques like One-vs-Rest (OvR) or Softmax regression.\n",
        "Disadvantages of Logistic Regression\n",
        "Assumption of Linearity:\n",
        "\n",
        "Logistic regression assumes a linear relationship between the independent variables and the log odds of the dependent variable. If the true relationship is non-linear, logistic regression may not perform well unless transformations or polynomial terms are added.\n",
        "Sensitivity to Outliers:\n",
        "\n",
        "Logistic regression can be sensitive to outliers, which can disproportionately influence the model's coefficients and predictions.\n",
        "Limited to Linear Decision Boundaries:\n",
        "\n",
        "The model can only create linear decision boundaries (in the case of binary classification). For complex datasets with non-linear relationships, logistic regression may not capture the underlying patterns effectively.\n",
        "Multicollinearity:\n",
        "\n",
        "Logistic regression can be affected by multicollinearity (high correlation between independent variables), which can lead to unstable coefficient estimates and make it difficult to interpret the model.\n",
        "Requires Large Sample Sizes:\n",
        "\n",
        "Logistic regression generally requires a sufficiently large sample size to provide reliable estimates, especially when dealing with multiple predictors or when the outcome is rare.\n",
        "Imbalanced Data:\n",
        "\n",
        "Logistic regression can struggle with imbalanced datasets, where one class is significantly more frequent than the other. This can lead to biased predictions favoring the majority class.\n",
        "Binary Nature:\n",
        "\n",
        "While logistic regression can be extended to multiclass problems, it is fundamentally a binary classifier. In some cases, other algorithms may be more suitable for multiclass classification tasks."
      ],
      "metadata": {
        "id": "PRdiW6OQTb4l"
      }
    },
    {
      "cell_type": "markdown",
      "source": [
        "17. What are some use cases of Logistic Regression."
      ],
      "metadata": {
        "id": "fIaLrX4VTb8E"
      }
    },
    {
      "cell_type": "markdown",
      "source": [
        "Logistic regression is a versatile statistical method widely used for binary and multiclass classification tasks across various fields. Here are some common use cases of logistic regression:\n",
        "\n",
        "1. Medical Diagnosis\n",
        "Use Case: Predicting the presence or absence of a disease based on patient data (e.g., symptoms, lab results).\n",
        "Example: Classifying whether a patient has diabetes based on factors like age, BMI, blood pressure, and glucose levels.\n",
        "2. Credit Scoring\n",
        "Use Case: Assessing the likelihood of a borrower defaulting on a loan.\n",
        "Example: Using demographic and financial information (e.g., income, credit history, debt-to-income ratio) to predict whether a loan applicant is likely to default.\n",
        "3. Marketing and Customer Retention\n",
        "Use Case: Predicting customer behavior, such as whether a customer will respond to a marketing campaign or churn.\n",
        "Example: Classifying customers as likely to respond or not to a promotional offer based on their past purchasing behavior and demographics.\n",
        "4. Spam Detection\n",
        "Use Case: Classifying emails as spam or not spam based on their content and metadata.\n",
        "Example: Using features like the presence of certain keywords, sender reputation, and email structure to predict whether an email is spam.\n",
        "5. Social Media Analysis\n",
        "Use Case: Predicting user engagement or sentiment based on social media posts.\n",
        "Example: Classifying tweets as positive, negative, or neutral based on the text content and user interactions.\n",
        "6. Fraud Detection\n",
        "Use Case: Identifying fraudulent transactions in financial systems.\n",
        "Example: Using transaction data (e.g., amount, location, time) to predict whether a transaction is legitimate or fraudulent.\n",
        "7. Election Prediction\n",
        "Use Case: Predicting election outcomes based on polling data and demographic information.\n",
        "Example: Classifying voters' likelihood to vote for a particular candidate based on factors like age, education, and political affiliation.\n",
        "8. Customer Segmentation\n",
        "Use Case: Segmenting customers into different groups based on their likelihood to purchase certain products.\n",
        "Example: Classifying customers as high, medium, or low propensity to buy based on their browsing and purchasing history.\n",
        "9. Quality Control\n",
        "Use Case: Predicting whether a product will pass or fail quality control tests based on manufacturing data.\n",
        "Example: Using features like temperature, pressure, and material properties to classify products as acceptable or defective.\n",
        "10. Insurance Underwriting\n",
        "Use Case: Assessing risk and determining insurance premiums based on applicant data.\n",
        "Example: Classifying applicants as low, medium, or high risk based on factors like age, health history, and lifestyle choices."
      ],
      "metadata": {
        "id": "BGHc92TCTb_o"
      }
    },
    {
      "cell_type": "markdown",
      "source": [
        "18. What is the difference between Softmax Regression and Logistic Regression."
      ],
      "metadata": {
        "id": "k81jm8LnTcCd"
      }
    },
    {
      "cell_type": "markdown",
      "source": [
        "Softmax regression and logistic regression are both statistical methods used for classification tasks, but they are designed for different types of problems and have distinct characteristics. Here’s a breakdown of the key differences between the two:\n",
        "\n",
        "1. Type of Classification\n",
        "Logistic Regression:\n",
        "\n",
        "Binary Classification: Logistic regression is primarily used for binary classification problems, where the outcome variable has two possible classes (e.g., 0 or 1, yes or no).\n",
        "Output: It predicts the probability of the positive class (e.g., class 1) using the logistic (sigmoid) function.\n",
        "Softmax Regression:\n",
        "\n",
        "Multiclass Classification: Softmax regression, also known as multinomial logistic regression, is used for multiclass classification problems, where the outcome variable can take on more than two classes (e.g., class 1, class 2, class 3, etc.).\n",
        "Output: It predicts the probabilities of each class using the softmax function, ensuring that the predicted probabilities sum to 1.\n",
        "2. Mathematical Formulation\n",
        "Logistic Regression:\n",
        "\n",
        "The probability of the positive class is given by: [ P(y = 1 | \\mathbf{x}) = \\frac{1}{1 + e^{-(\\beta^T \\mathbf{x})}} ]\n",
        "The probability of the negative class is simply: [ P(y = 0 | \\mathbf{x}) = 1 - P(y = 1 | \\mathbf{x}) ]\n",
        "Softmax Regression:\n",
        "\n",
        "The probability of class ( k ) is given by the softmax function: [ P(y = k | \\mathbf{x}) = \\frac{e^{\\beta_k^T \\mathbf{x}}}{\\sum_{j=1}^{K} e^{\\beta_j^T \\mathbf{x}}} ]\n",
        "Here, ( K ) is the total number of classes, and ( \\beta_k ) is the coefficient vector for class ( k ).\n",
        "3. Decision Boundary\n",
        "Logistic Regression:\n",
        "\n",
        "Logistic regression creates a linear decision boundary between the two classes. The model predicts the class based on whether the predicted probability exceeds a certain threshold (commonly 0.5).\n",
        "Softmax Regression:\n",
        "\n",
        "Softmax regression can create multiple linear decision boundaries, one for each class. The model predicts the class with the highest probability among all classes.\n",
        "4. Implementation Complexity\n",
        "Logistic Regression:\n",
        "\n",
        "Simpler to implement and interpret, as it involves fitting a single model for binary classification.\n",
        "Softmax Regression:\n",
        "\n",
        "More complex, as it requires fitting multiple parameters (one for each class) and involves more computational overhead, especially for large numbers of classes.\n",
        "5. Use Cases\n",
        "Logistic Regression:\n",
        "\n",
        "Commonly used in binary classification tasks such as medical diagnosis (e.g., disease presence/absence), spam detection, and credit scoring.\n",
        "Softmax Regression:\n",
        "\n",
        "Used in multiclass classification tasks such as image classification (e.g., identifying objects in images), text classification (e.g., sentiment analysis), and any scenario where there are more than two classes to predict."
      ],
      "metadata": {
        "id": "i7BYW3ldTcFu"
      }
    },
    {
      "cell_type": "markdown",
      "source": [
        "19. How do we choose between One-vs-Rest (OvR) and Softmax for multiclass classification."
      ],
      "metadata": {
        "id": "VoejjjaPTcI1"
      }
    },
    {
      "cell_type": "markdown",
      "source": [
        "Choosing between One-vs-Rest (OvR) and Softmax regression for multiclass classification depends on several factors, including the nature of the data, the specific problem at hand, computational considerations, and the desired interpretability of the model. Here are some key points to consider when making this decision:\n",
        "\n",
        "1. Nature of the Problem\n",
        "OvR:\n",
        "\n",
        "Use Case: OvR is often preferred when the classes are not mutually exclusive or when you want to treat each class independently. It can be useful in scenarios where you may want to predict multiple classes for a single instance (multi-label classification).\n",
        "Interpretability: Each class has its own binary classifier, which can make it easier to interpret the contribution of each feature to the prediction of each class.\n",
        "Softmax:\n",
        "\n",
        "Use Case: Softmax regression is suitable when the classes are mutually exclusive, meaning that each instance belongs to only one class. It is ideal for problems where you want to predict a single class label from multiple classes (e.g., classifying an image as a cat, dog, or bird).\n",
        "Probabilistic Output: Softmax provides a probability distribution over all classes, which can be useful for understanding the model's confidence in its predictions.\n",
        "2. Computational Considerations\n",
        "OvR:\n",
        "\n",
        "Training Time: OvR requires training one binary classifier for each class. This can lead to longer training times, especially if the number of classes is large.\n",
        "Memory Usage: More memory may be required to store multiple models, which can be a consideration for very large datasets or high-dimensional feature spaces.\n",
        "Softmax:\n",
        "\n",
        "Single Model: Softmax regression trains a single model that predicts probabilities for all classes simultaneously, which can be more efficient in terms of both training time and memory usage.\n",
        "Optimization: The optimization process is typically more straightforward since it involves a single loss function for all classes.\n",
        "3. Performance and Accuracy\n",
        "OvR:\n",
        "\n",
        "Performance: In some cases, OvR can perform better, especially if the classes are imbalanced or if there are significant overlaps between classes. Each binary classifier can specialize in distinguishing its class from the rest.\n",
        "Error Propagation: Errors in one classifier do not directly affect the others, which can be beneficial in certain scenarios.\n",
        "Softmax:\n",
        "\n",
        "Performance: Softmax regression can provide better performance when the classes are well-separated and the model can learn the relationships between classes. It captures the interactions between classes, which can lead to improved accuracy.\n",
        "Class Dependencies: Since Softmax considers all classes simultaneously, it can better model the dependencies between classes.\n",
        "4. Implementation and Libraries\n",
        "OvR:\n",
        "\n",
        "Availability: Many machine learning libraries (e.g., Scikit-learn) provide built-in support for OvR, making it easy to implement.\n",
        "Flexibility: OvR can be applied to any binary classifier, allowing for flexibility in choosing the underlying model.\n",
        "Softmax:\n",
        "\n",
        "Built-in Support: Softmax regression is also widely supported in machine learning libraries, particularly in frameworks designed for deep learning (e.g., TensorFlow, PyTorch).\n",
        "Unified Approach: Softmax provides a unified approach for multiclass classification, which can simplify the modeling process.\n",
        "Conclusion\n",
        "In summary, the choice between One-vs-Rest (OvR) and Softmax regression for multiclass classification depends on the specific characteristics of the problem, the nature of the data, and the computational resources available.\n",
        "\n",
        "Choose OvR if:\n",
        "\n",
        "The classes are not mutually exclusive or if you want to treat each class independently.\n",
        "You prefer interpretability and want to analyze the contribution of features to each class separately.\n",
        "You are dealing with imbalanced classes or overlapping classes.\n",
        "Choose Softmax if:\n",
        "\n",
        "The classes are mutually exclusive, and you want to predict a single class label.\n",
        "You want a probabilistic output that reflects the model's confidence across all classes.\n",
        "You are looking for a more efficient training process with a single model."
      ],
      "metadata": {
        "id": "zM8D6z2eTcMX"
      }
    },
    {
      "cell_type": "markdown",
      "source": [
        "20. How do we interpret coefficients in Logistic Regression?"
      ],
      "metadata": {
        "id": "ToTOB2TKTcPE"
      }
    },
    {
      "cell_type": "markdown",
      "source": [
        "Interpreting coefficients in logistic regression is crucial for understanding the relationship between the independent variables (features) and the dependent variable (outcome). Unlike linear regression, where coefficients represent the change in the dependent variable for a one-unit change in the independent variable, logistic regression coefficients represent the change in the log odds of the outcome for a one-unit change in the predictor variable. Here’s how to interpret these coefficients:\n",
        "\n",
        "1. Log Odds Interpretation\n",
        "Coefficient (β): In logistic regression, each coefficient (β) associated with an independent variable indicates the change in the log odds of the outcome for a one-unit increase in that variable, holding all other variables constant.\n",
        "\n",
        "[ \\text{Log Odds} = \\log\\left(\\frac{P(y=1 | X)}{P(y=0 | X)}\\right) = \\beta_0 + \\beta_1X_1 + \\beta_2X_2 + \\ldots + \\beta_nX_n ]\n",
        "\n",
        "Positive Coefficient: A positive coefficient indicates that as the independent variable increases, the log odds of the outcome being 1 (e.g., success, presence of a condition) also increase. This means that the probability of the outcome occurring increases.\n",
        "\n",
        "Negative Coefficient: A negative coefficient indicates that as the independent variable increases, the log odds of the outcome being 1 decrease, meaning the probability of the outcome occurring decreases.\n",
        "\n",
        "2. Odds Ratio Interpretation\n",
        "To make the interpretation more intuitive, we can convert the coefficients into odds ratios:\n",
        "\n",
        "Odds Ratio (OR): The odds ratio is calculated as ( e^{\\beta} ). It represents the multiplicative change in the odds of the outcome for a one-unit increase in the predictor variable.\n",
        "\n",
        "[ \\text{Odds Ratio} = e^{\\beta} ]\n",
        "\n",
        "Interpreting Odds Ratios:\n",
        "\n",
        "OR > 1: Indicates that for a one-unit increase in the predictor, the odds of the outcome occurring increase. For example, an OR of 1.5 means that the odds are 50% higher for each one-unit increase in the predictor.\n",
        "OR < 1: Indicates that for a one-unit increase in the predictor, the odds of the outcome occurring decrease. For example, an OR of 0.7 means that the odds are 30% lower for each one-unit increase in the predictor.\n",
        "OR = 1: Indicates no effect; the predictor does not influence the odds of the outcome.\n",
        "3. Example Interpretation\n",
        "Suppose we have a logistic regression model predicting whether a patient has a disease (1 = yes, 0 = no) based on age and cholesterol level, and we obtain the following coefficients:\n",
        "\n",
        "Intercept (β₀): -3.0\n",
        "Age (β₁): 0.05\n",
        "Cholesterol (β₂): 0.02\n",
        "Interpretation:\n",
        "\n",
        "Intercept: The log odds of having the disease when both age and cholesterol are zero is -3.0. This is not practically interpretable since age and cholesterol cannot be zero in real scenarios.\n",
        "\n",
        "Age: For each additional year of age, the log odds of having the disease increase by 0.05. The odds ratio is ( e^{0.05} \\approx 1.051 ), meaning that for each additional year of age, the odds of having the disease increase by approximately 5.1%.\n",
        "\n",
        "Cholesterol: For each one-unit increase in cholesterol level, the log odds of having the disease increase by 0.02. The odds ratio is ( e^{0.02} \\approx 1.020 ), meaning that for each one-unit increase in cholesterol, the odds of having the disease increase by approximately 2%.\n",
        "\n",
        "4. Considerations\n",
        "Statistical Significance: It’s important to assess the statistical significance of the coefficients (using p-values) to determine whether the relationships observed are meaningful.\n",
        "\n",
        "Multicollinearity: If independent variables are highly correlated, it can affect the stability and interpretability of the coefficients.\n",
        "\n",
        "Non-linearity: Logistic regression assumes a linear relationship between the log odds and the independent variables. If this assumption is violated, the interpretation may not hold."
      ],
      "metadata": {
        "id": "HucvcRFVVJNd"
      }
    },
    {
      "cell_type": "markdown",
      "source": [],
      "metadata": {
        "id": "M4duHdUEV2Ho"
      }
    },
    {
      "cell_type": "markdown",
      "source": [
        "Practical"
      ],
      "metadata": {
        "id": "xjna-n2rV2Ke"
      }
    },
    {
      "cell_type": "markdown",
      "source": [
        "1.  Write a Python program that loads a dataset, splits it into training and testing sets, applies Logistic\n",
        "Regression, and prints the model accuracyC"
      ],
      "metadata": {
        "id": "eU319DfmV2Ot"
      }
    },
    {
      "cell_type": "code",
      "source": [
        "pip install pandas scikit-learn"
      ],
      "metadata": {
        "colab": {
          "base_uri": "https://localhost:8080/"
        },
        "id": "NfbcQ8W6WJAO",
        "outputId": "35fa6648-1943-48f9-f657-59295637d30e"
      },
      "execution_count": 2,
      "outputs": [
        {
          "output_type": "stream",
          "name": "stdout",
          "text": [
            "Requirement already satisfied: pandas in /usr/local/lib/python3.11/dist-packages (2.2.2)\n",
            "Requirement already satisfied: scikit-learn in /usr/local/lib/python3.11/dist-packages (1.6.1)\n",
            "Requirement already satisfied: numpy>=1.23.2 in /usr/local/lib/python3.11/dist-packages (from pandas) (1.26.4)\n",
            "Requirement already satisfied: python-dateutil>=2.8.2 in /usr/local/lib/python3.11/dist-packages (from pandas) (2.8.2)\n",
            "Requirement already satisfied: pytz>=2020.1 in /usr/local/lib/python3.11/dist-packages (from pandas) (2025.1)\n",
            "Requirement already satisfied: tzdata>=2022.7 in /usr/local/lib/python3.11/dist-packages (from pandas) (2025.1)\n",
            "Requirement already satisfied: scipy>=1.6.0 in /usr/local/lib/python3.11/dist-packages (from scikit-learn) (1.13.1)\n",
            "Requirement already satisfied: joblib>=1.2.0 in /usr/local/lib/python3.11/dist-packages (from scikit-learn) (1.4.2)\n",
            "Requirement already satisfied: threadpoolctl>=3.1.0 in /usr/local/lib/python3.11/dist-packages (from scikit-learn) (3.5.0)\n",
            "Requirement already satisfied: six>=1.5 in /usr/local/lib/python3.11/dist-packages (from python-dateutil>=2.8.2->pandas) (1.17.0)\n"
          ]
        }
      ]
    },
    {
      "cell_type": "markdown",
      "source": [
        " Below is a Python program that demonstrates how to load a dataset, split it into training and testing sets, apply logistic regression, and print the model's accuracy. For this example, we'll use the popular Iris dataset, which is available in the sklearn library. The Iris dataset is a classic dataset for classification tasks."
      ],
      "metadata": {
        "id": "EbPG9ky4V2Vt"
      }
    },
    {
      "cell_type": "code",
      "source": [
        "# Import necessary libraries\n",
        "import pandas as pd\n",
        "from sklearn.datasets import load_iris\n",
        "from sklearn.model_selection import train_test_split\n",
        "from sklearn.linear_model import LogisticRegression\n",
        "from sklearn.metrics import accuracy_score\n",
        "\n",
        "# Load the Iris dataset\n",
        "iris = load_iris()\n",
        "X = iris.data  # Features\n",
        "y = iris.target  # Target variable (species)\n",
        "\n",
        "# Split the dataset into training and testing sets\n",
        "X_train, X_test, y_train, y_test = train_test_split(X, y, test_size=0.2, random_state=42)\n",
        "\n",
        "# Create a Logistic Regression model\n",
        "model = LogisticRegression(max_iter=200)\n",
        "\n",
        "# Fit the model on the training data\n",
        "model.fit(X_train, y_train)\n",
        "\n",
        "# Make predictions on the test data\n",
        "y_pred = model.predict(X_test)\n",
        "\n",
        "# Calculate the accuracy of the model\n",
        "accuracy = accuracy_score(y_test, y_pred)\n",
        "\n",
        "# Print the model accuracy\n",
        "print(f'Model Accuracy: {accuracy:.2f}')"
      ],
      "metadata": {
        "colab": {
          "base_uri": "https://localhost:8080/"
        },
        "id": "HfNqoDNYWaVn",
        "outputId": "b30296d8-0e44-46fb-86f6-daa5a3830e16"
      },
      "execution_count": 3,
      "outputs": [
        {
          "output_type": "stream",
          "name": "stdout",
          "text": [
            "Model Accuracy: 1.00\n"
          ]
        }
      ]
    },
    {
      "cell_type": "markdown",
      "source": [
        "Explanation of the Code\n",
        "Import Libraries: We import the necessary libraries, including pandas, sklearn.datasets, sklearn.model_selection, sklearn.linear_model, and sklearn.metrics.\n",
        "\n",
        "Load the Dataset: We load the Iris dataset using load_iris(), which provides both the features (X) and the target variable (y).\n",
        "\n",
        "Split the Dataset: We use train_test_split() to split the dataset into training and testing sets. In this example, 20% of the data is reserved for testing, and we set a random seed for reproducibility.\n",
        "\n",
        "Create the Model: We create an instance of the LogisticRegression model. The max_iter parameter is set to 200 to ensure convergence.\n",
        "\n",
        "Fit the Model: We fit the model to the training data using the fit() method.\n",
        "\n",
        "Make Predictions: We use the trained model to make predictions on the test data with the predict() method.\n",
        "\n",
        "Calculate Accuracy: We calculate the accuracy of the model using accuracy_score() by comparing the predicted labels with the true labels.\n",
        "\n",
        "Print Accuracy: Finally, we print the model's accuracy."
      ],
      "metadata": {
        "id": "mdXrJqxyV2Y3"
      }
    },
    {
      "cell_type": "markdown",
      "source": [
        "2, Write a Python program to apply L1 regularization (Lasso) on a dataset using LogisticRegression(penalty='l1')\n",
        "and print the model accuracyC"
      ],
      "metadata": {
        "id": "7AHRbDxXV2bq"
      }
    },
    {
      "cell_type": "markdown",
      "source": [
        "Certainly! Below is a Python program that demonstrates how to apply L1 regularization (Lasso) using logistic regression on a dataset. We'll use the Iris dataset again for this example, but you can replace it with any dataset of your choice"
      ],
      "metadata": {
        "id": "NtR6jiozV2eR"
      }
    },
    {
      "cell_type": "code",
      "source": [
        "pip install pandas scikit-learn"
      ],
      "metadata": {
        "colab": {
          "base_uri": "https://localhost:8080/"
        },
        "id": "7w32GvdiWspX",
        "outputId": "0fa84ec0-47f8-4b9b-95a9-46f959422f0b"
      },
      "execution_count": 4,
      "outputs": [
        {
          "output_type": "stream",
          "name": "stdout",
          "text": [
            "Requirement already satisfied: pandas in /usr/local/lib/python3.11/dist-packages (2.2.2)\n",
            "Requirement already satisfied: scikit-learn in /usr/local/lib/python3.11/dist-packages (1.6.1)\n",
            "Requirement already satisfied: numpy>=1.23.2 in /usr/local/lib/python3.11/dist-packages (from pandas) (1.26.4)\n",
            "Requirement already satisfied: python-dateutil>=2.8.2 in /usr/local/lib/python3.11/dist-packages (from pandas) (2.8.2)\n",
            "Requirement already satisfied: pytz>=2020.1 in /usr/local/lib/python3.11/dist-packages (from pandas) (2025.1)\n",
            "Requirement already satisfied: tzdata>=2022.7 in /usr/local/lib/python3.11/dist-packages (from pandas) (2025.1)\n",
            "Requirement already satisfied: scipy>=1.6.0 in /usr/local/lib/python3.11/dist-packages (from scikit-learn) (1.13.1)\n",
            "Requirement already satisfied: joblib>=1.2.0 in /usr/local/lib/python3.11/dist-packages (from scikit-learn) (1.4.2)\n",
            "Requirement already satisfied: threadpoolctl>=3.1.0 in /usr/local/lib/python3.11/dist-packages (from scikit-learn) (3.5.0)\n",
            "Requirement already satisfied: six>=1.5 in /usr/local/lib/python3.11/dist-packages (from python-dateutil>=2.8.2->pandas) (1.17.0)\n"
          ]
        }
      ]
    },
    {
      "cell_type": "code",
      "source": [
        "# Import necessary libraries\n",
        "import pandas as pd\n",
        "from sklearn.datasets import load_iris\n",
        "from sklearn.model_selection import train_test_split\n",
        "from sklearn.linear_model import LogisticRegression\n",
        "from sklearn.metrics import accuracy_score\n",
        "\n",
        "# Load the Iris dataset\n",
        "iris = load_iris()\n",
        "X = iris.data  # Features\n",
        "y = iris.target  # Target variable (species)\n",
        "\n",
        "# Split the dataset into training and testing sets\n",
        "X_train, X_test, y_train, y_test = train_test_split(X, y, test_size=0.2, random_state=42)\n",
        "\n",
        "# Create a Logistic Regression model with L1 regularization\n",
        "model = LogisticRegression(penalty='l1', solver='liblinear', max_iter=200)\n",
        "\n",
        "# Fit the model on the training data\n",
        "model.fit(X_train, y_train)\n",
        "\n",
        "# Make predictions on the test data\n",
        "y_pred = model.predict(X_test)\n",
        "\n",
        "# Calculate the accuracy of the model\n",
        "accuracy = accuracy_score(y_test, y_pred)\n",
        "\n",
        "# Print the model accuracy\n",
        "print(f'Model Accuracy with L1 Regularization: {accuracy:.2f}')"
      ],
      "metadata": {
        "colab": {
          "base_uri": "https://localhost:8080/"
        },
        "id": "rsHAAQ0FWylm",
        "outputId": "2cd92e15-593d-4e8e-9dd6-84208039be72"
      },
      "execution_count": 5,
      "outputs": [
        {
          "output_type": "stream",
          "name": "stdout",
          "text": [
            "Model Accuracy with L1 Regularization: 1.00\n"
          ]
        }
      ]
    },
    {
      "cell_type": "markdown",
      "source": [
        "Explanation of the Code\n",
        "Import Libraries: We import the necessary libraries, including pandas, sklearn.datasets, sklearn.model_selection, sklearn.linear_model, and sklearn.metrics.\n",
        "\n",
        "Load the Dataset: We load the Iris dataset using load_iris(), which provides both the features (X) and the target variable (y).\n",
        "\n",
        "Split the Dataset: We use train_test_split() to split the dataset into training and testing sets. In this example, 20% of the data is reserved for testing, and we set a random seed for reproducibility.\n",
        "\n",
        "Create the Model: We create an instance of the LogisticRegression model. The max_iter parameter is set to 200 to ensure convergence.\n",
        "\n",
        "Fit the Model: We fit the model to the training data using the fit() method.\n",
        "\n",
        "Make Predictions: We use the trained model to make predictions on the test data with the predict() method.\n",
        "\n",
        "Calculate Accuracy: We calculate the accuracy of the model using accuracy_score() by comparing the predicted labels with the true labels.\n",
        "\n",
        "Print Accuracy: Finally, we print the model's accuracy."
      ],
      "metadata": {
        "id": "z1XsNcvwV2jl"
      }
    },
    {
      "cell_type": "markdown",
      "source": [
        "3.  Write a Python program to train Logistic Regression with L2 regularization (Ridge) using\n",
        "LogisticRegression(penalty='l2'). Print model accuracy and coefficientsC"
      ],
      "metadata": {
        "id": "7TmIysCpV2md"
      }
    },
    {
      "cell_type": "markdown",
      "source": [
        "Certainly! Below is a Python program that demonstrates how to train a logistic regression model with L2 regularization (Ridge) using the LogisticRegression class from the sklearn library. The program will load the Iris dataset, split it into training and testing sets, fit the model, and then print the model's accuracy and coefficients."
      ],
      "metadata": {
        "id": "v3po30VVV2pV"
      }
    },
    {
      "cell_type": "code",
      "source": [
        "pip install pandas scikit-learn"
      ],
      "metadata": {
        "colab": {
          "base_uri": "https://localhost:8080/"
        },
        "id": "HeleySQzXSWm",
        "outputId": "94a34631-4ac9-48ae-f97d-a6413672f35f"
      },
      "execution_count": 8,
      "outputs": [
        {
          "output_type": "stream",
          "name": "stdout",
          "text": [
            "Requirement already satisfied: pandas in /usr/local/lib/python3.11/dist-packages (2.2.2)\n",
            "Requirement already satisfied: scikit-learn in /usr/local/lib/python3.11/dist-packages (1.6.1)\n",
            "Requirement already satisfied: numpy>=1.23.2 in /usr/local/lib/python3.11/dist-packages (from pandas) (1.26.4)\n",
            "Requirement already satisfied: python-dateutil>=2.8.2 in /usr/local/lib/python3.11/dist-packages (from pandas) (2.8.2)\n",
            "Requirement already satisfied: pytz>=2020.1 in /usr/local/lib/python3.11/dist-packages (from pandas) (2025.1)\n",
            "Requirement already satisfied: tzdata>=2022.7 in /usr/local/lib/python3.11/dist-packages (from pandas) (2025.1)\n",
            "Requirement already satisfied: scipy>=1.6.0 in /usr/local/lib/python3.11/dist-packages (from scikit-learn) (1.13.1)\n",
            "Requirement already satisfied: joblib>=1.2.0 in /usr/local/lib/python3.11/dist-packages (from scikit-learn) (1.4.2)\n",
            "Requirement already satisfied: threadpoolctl>=3.1.0 in /usr/local/lib/python3.11/dist-packages (from scikit-learn) (3.5.0)\n",
            "Requirement already satisfied: six>=1.5 in /usr/local/lib/python3.11/dist-packages (from python-dateutil>=2.8.2->pandas) (1.17.0)\n"
          ]
        }
      ]
    },
    {
      "cell_type": "code",
      "source": [
        "# Import necessary libraries\n",
        "import pandas as pd\n",
        "from sklearn.datasets import load_iris\n",
        "from sklearn.model_selection import train_test_split\n",
        "from sklearn.linear_model import LogisticRegression\n",
        "from sklearn.metrics import accuracy_score\n",
        "\n",
        "# Load the Iris dataset\n",
        "iris = load_iris()\n",
        "X = iris.data  # Features\n",
        "y = iris.target  # Target variable (species)\n",
        "\n",
        "# Split the dataset into training and testing sets\n",
        "X_train, X_test, y_train, y_test = train_test_split(X, y, test_size=0.2, random_state=42)\n",
        "\n",
        "# Create a Logistic Regression model with L2 regularization\n",
        "model = LogisticRegression(penalty='l2', solver='lbfgs', max_iter=200)\n",
        "\n",
        "# Fit the model on the training data\n",
        "model.fit(X_train, y_train)\n",
        "\n",
        "# Make predictions on the test data\n",
        "y_pred = model.predict(X_test)\n",
        "\n",
        "# Calculate the accuracy of the model\n",
        "accuracy = accuracy_score(y_test, y_pred)\n",
        "\n",
        "# Print the model accuracy\n",
        "print(f'Model Accuracy with L2 Regularization: {accuracy:.2f}')\n",
        "\n",
        "# Print the model coefficients\n",
        "print('Model Coefficients:')\n",
        "print(model.coef_)"
      ],
      "metadata": {
        "colab": {
          "base_uri": "https://localhost:8080/"
        },
        "id": "Mn4Vca63XX_X",
        "outputId": "205c41fa-753d-4f30-c1a3-d1b46ce9d703"
      },
      "execution_count": 7,
      "outputs": [
        {
          "output_type": "stream",
          "name": "stdout",
          "text": [
            "Model Accuracy with L2 Regularization: 1.00\n",
            "Model Coefficients:\n",
            "[[-0.39340204  0.96258576 -2.37510761 -0.99874603]\n",
            " [ 0.50840364 -0.25486503 -0.21301366 -0.77575487]\n",
            " [-0.1150016  -0.70772072  2.58812127  1.77450091]]\n"
          ]
        }
      ]
    },
    {
      "cell_type": "markdown",
      "source": [
        "Explanation of the Code\n",
        "Import Libraries: We import the necessary libraries, including pandas, sklearn.datasets, sklearn.model_selection, sklearn.linear_model, and sklearn.metrics.\n",
        "\n",
        "Load the Dataset: We load the Iris dataset using load_iris(), which provides both the features (X) and the target variable (y).\n",
        "\n",
        "Split the Dataset: We use train_test_split() to split the dataset into training and testing sets. In this example, 20% of the data is reserved for testing, and we set a random seed for reproducibility.\n",
        "\n",
        "Create the Model: We create an instance of the LogisticRegression model with L2 regularization by setting penalty='l2'. The solver='lbfgs' is specified, which is suitable for L2 regularization. The max_iter parameter is set to 200 to ensure convergence.\n",
        "\n",
        "Fit the Model: We fit the model to the training data using the fit() method.\n",
        "\n",
        "Make Predictions: We use the trained model to make predictions on the test data with the predict() method.\n",
        "\n",
        "Calculate Accuracy: We calculate the accuracy of the model using accuracy_score() by comparing the predicted labels with the true labels.\n",
        "\n",
        "Print Accuracy: Finally, we print the model's accuracy and the coefficients of the model."
      ],
      "metadata": {
        "id": "aATSDj0LV2vN"
      }
    },
    {
      "cell_type": "markdown",
      "source": [
        "4.  Write a Python program to train Logistic Regression with Elastic Net Regularization (penalty='elasticnet')C"
      ],
      "metadata": {
        "id": "hlVvW_4yV2yi"
      }
    },
    {
      "cell_type": "markdown",
      "source": [
        "To train a logistic regression model with Elastic Net regularization using the LogisticRegression class from the sklearn library, you need to specify penalty='elasticnet'. Elastic Net combines both L1 and L2 regularization, which can be useful for feature selection and handling multicollinearity.\n",
        "\n",
        "However, it's important to note that as of my last knowledge update, the elasticnet penalty requires the solver to be set to saga, which supports Elastic Net regularization. Below is a Python program that demonstrates how to implement this using the Iris dataset."
      ],
      "metadata": {
        "id": "HBO9_K0bV21I"
      }
    },
    {
      "cell_type": "code",
      "source": [
        "# Import necessary libraries\n",
        "import pandas as pd\n",
        "from sklearn.datasets import load_iris\n",
        "from sklearn.model_selection import train_test_split\n",
        "from sklearn.linear_model import LogisticRegression\n",
        "from sklearn.metrics import accuracy_score\n",
        "\n",
        "# Load the Iris dataset\n",
        "iris = load_iris()\n",
        "X = iris.data  # Features\n",
        "y = iris.target  # Target variable (species)\n",
        "\n",
        "# Split the dataset into training and testing sets\n",
        "X_train, X_test, y_train, y_test = train_test_split(X, y, test_size=0.2, random_state=42)\n",
        "\n",
        "# Create a Logistic Regression model with Elastic Net regularization\n",
        "model = LogisticRegression(penalty='elasticnet', solver='saga', l1_ratio=0.5, max_iter=200)\n",
        "\n",
        "# Fit the model on the training data\n",
        "model.fit(X_train, y_train)\n",
        "\n",
        "# Make predictions on the test data\n",
        "y_pred = model.predict(X_test)\n",
        "\n",
        "# Calculate the accuracy of the model\n",
        "accuracy = accuracy_score(y_test, y_pred)\n",
        "\n",
        "# Print the model accuracy\n",
        "print(f'Model Accuracy with Elastic Net Regularization: {accuracy:.2f}')\n",
        "\n",
        "# Print the model coefficients\n",
        "print('Model Coefficients:')\n",
        "print(model.coef_)"
      ],
      "metadata": {
        "colab": {
          "base_uri": "https://localhost:8080/"
        },
        "id": "-wEDrATpXxRf",
        "outputId": "f17cf9e1-2145-4fae-f1a6-06cd7db379cf"
      },
      "execution_count": 9,
      "outputs": [
        {
          "output_type": "stream",
          "name": "stdout",
          "text": [
            "Model Accuracy with Elastic Net Regularization: 1.00\n",
            "Model Coefficients:\n",
            "[[ 0.38755932  1.77014188 -2.42311237 -0.70536972]\n",
            " [ 0.0789824   0.          0.         -0.58316319]\n",
            " [-1.25864292 -1.53121212  2.5958249   2.07923119]]\n"
          ]
        },
        {
          "output_type": "stream",
          "name": "stderr",
          "text": [
            "/usr/local/lib/python3.11/dist-packages/sklearn/linear_model/_sag.py:348: ConvergenceWarning: The max_iter was reached which means the coef_ did not converge\n",
            "  warnings.warn(\n"
          ]
        }
      ]
    },
    {
      "cell_type": "markdown",
      "source": [
        "5. Write a Python program to train a Logistic Regression model for multiclass classification using\n",
        "multi_class='ovr'C\n",
        "\"C Write a Python prog"
      ],
      "metadata": {
        "id": "VT6v9Wx9V269"
      }
    },
    {
      "cell_type": "markdown",
      "source": [
        "Certainly! Below is a Python program that demonstrates how to train a logistic regression model for multiclass classification using the One-vs-Rest (OvR) strategy. We will use the Iris dataset for this example, which contains three classes of iris flowers."
      ],
      "metadata": {
        "id": "5_ZJ0ce1YK7v"
      }
    },
    {
      "cell_type": "code",
      "source": [
        "# Import necessary libraries\n",
        "import pandas as pd\n",
        "from sklearn.datasets import load_iris\n",
        "from sklearn.model_selection import train_test_split\n",
        "from sklearn.linear_model import LogisticRegression\n",
        "from sklearn.metrics import accuracy_score\n",
        "\n",
        "# Load the Iris dataset\n",
        "iris = load_iris()\n",
        "X = iris.data  # Features\n",
        "y = iris.target  # Target variable (species)\n",
        "\n",
        "# Split the dataset into training and testing sets\n",
        "X_train, X_test, y_train, y_test = train_test_split(X, y, test_size=0.2, random_state=42)\n",
        "\n",
        "# Create a Logistic Regression model with One-vs-Rest (OvR) strategy\n",
        "model = LogisticRegression(multi_class='ovr', solver='liblinear', max_iter=200)\n",
        "\n",
        "# Fit the model on the training data\n",
        "model.fit(X_train, y_train)\n",
        "\n",
        "# Make predictions on the test data\n",
        "y_pred = model.predict(X_test)\n",
        "\n",
        "# Calculate the accuracy of the model\n",
        "accuracy = accuracy_score(y_test, y_pred)\n",
        "\n",
        "# Print the model accuracy\n",
        "print(f'Model Accuracy with One-vs-Rest (OvR): {accuracy:.2f}')\n",
        "\n",
        "# Print the model coefficients\n",
        "print('Model Coefficients:')\n",
        "print(model.coef_)"
      ],
      "metadata": {
        "colab": {
          "base_uri": "https://localhost:8080/"
        },
        "id": "69HcY-L8YaJv",
        "outputId": "900df04f-2ae3-43a9-ec01-a3a33674c2cc"
      },
      "execution_count": 10,
      "outputs": [
        {
          "output_type": "stream",
          "name": "stdout",
          "text": [
            "Model Accuracy with One-vs-Rest (OvR): 1.00\n",
            "Model Coefficients:\n",
            "[[ 0.3711229   1.409712   -2.15210117 -0.95474179]\n",
            " [ 0.49400451 -1.58897112  0.43717015 -1.11187838]\n",
            " [-1.55895271 -1.58893375  2.39874554  2.15556209]]\n"
          ]
        },
        {
          "output_type": "stream",
          "name": "stderr",
          "text": [
            "/usr/local/lib/python3.11/dist-packages/sklearn/linear_model/_logistic.py:1256: FutureWarning: 'multi_class' was deprecated in version 1.5 and will be removed in 1.7. Use OneVsRestClassifier(LogisticRegression(..)) instead. Leave it to its default value to avoid this warning.\n",
            "  warnings.warn(\n"
          ]
        }
      ]
    },
    {
      "cell_type": "markdown",
      "source": [
        "6. Write a Python program to evaluate Logistic Regression using Stratified K-Fold Cross-Validation. Print the\n",
        "average accuracyC"
      ],
      "metadata": {
        "id": "mwju2nZMYZVA"
      }
    },
    {
      "cell_type": "markdown",
      "source": [
        "Certainly! Below is a Python program that demonstrates how to evaluate a logistic regression model using Stratified K-Fold Cross-Validation. This method ensures that each fold of the cross-validation process has the same proportion of classes as the entire dataset, which is particularly useful for imbalanced datasets.\n",
        "\n",
        "In this example, we will use the Iris dataset for classification."
      ],
      "metadata": {
        "id": "5xo--u8AYK-O"
      }
    },
    {
      "cell_type": "code",
      "source": [
        "# Import necessary libraries\n",
        "import numpy as np\n",
        "import pandas as pd\n",
        "from sklearn.datasets import load_iris\n",
        "from sklearn.model_selection import StratifiedKFold, cross_val_score\n",
        "from sklearn.linear_model import LogisticRegression\n",
        "\n",
        "# Load the Iris dataset\n",
        "iris = load_iris()\n",
        "X = iris.data  # Features\n",
        "y = iris.target  # Target variable (species)\n",
        "\n",
        "# Create a Logistic Regression model\n",
        "model = LogisticRegression(max_iter=200)\n",
        "\n",
        "# Set up Stratified K-Fold Cross-Validation\n",
        "skf = StratifiedKFold(n_splits=5, shuffle=True, random_state=42)\n",
        "\n",
        "# Evaluate the model using cross-validation\n",
        "accuracies = cross_val_score(model, X, y, cv=skf, scoring='accuracy')\n",
        "\n",
        "# Print the average accuracy\n",
        "average_accuracy = np.mean(accuracies)\n",
        "print(f'Average Accuracy with Stratified K-Fold Cross-Validation: {average_accuracy:.2f}')"
      ],
      "metadata": {
        "colab": {
          "base_uri": "https://localhost:8080/"
        },
        "id": "i_Pm-sDyYrxP",
        "outputId": "ebc4940c-da2b-45c5-e3d1-a63c360e21de"
      },
      "execution_count": 11,
      "outputs": [
        {
          "output_type": "stream",
          "name": "stdout",
          "text": [
            "Average Accuracy with Stratified K-Fold Cross-Validation: 0.97\n"
          ]
        }
      ]
    },
    {
      "cell_type": "markdown",
      "source": [
        "7. Write a Python program to apply GridSearchCV to tune the hyperparameters (C and penalty) of Logistic\n",
        "Regression. Print the best parameters and accuracy"
      ],
      "metadata": {
        "id": "_xSWExAAYLBU"
      }
    },
    {
      "cell_type": "markdown",
      "source": [
        "Certainly! Below is a Python program that demonstrates how to use GridSearchCV from the sklearn library to tune the hyperparameters (specifically C and penalty) of a logistic regression model. We will use the Iris dataset for this example."
      ],
      "metadata": {
        "id": "MR4seLTEYLE7"
      }
    },
    {
      "cell_type": "code",
      "source": [
        "# Import necessary libraries\n",
        "import numpy as np\n",
        "import pandas as pd\n",
        "from sklearn.datasets import load_iris\n",
        "from sklearn.model_selection import train_test_split, GridSearchCV\n",
        "from sklearn.linear_model import LogisticRegression\n",
        "from sklearn.metrics import accuracy_score\n",
        "\n",
        "# Load the Iris dataset\n",
        "iris = load_iris()\n",
        "X = iris.data  # Features\n",
        "y = iris.target  # Target variable (species)\n",
        "\n",
        "# Split the dataset into training and testing sets\n",
        "X_train, X_test, y_train, y_test = train_test_split(X, y, test_size=0.2, random_state=42)\n",
        "\n",
        "# Create a Logistic Regression model\n",
        "model = LogisticRegression(max_iter=200)\n",
        "\n",
        "# Define the parameter grid for GridSearchCV\n",
        "param_grid = {\n",
        "    'C': [0.01, 0.1, 1, 10, 100],  # Regularization strength\n",
        "    'penalty': ['l1', 'l2']  # Regularization type\n",
        "}\n",
        "\n",
        "# Set up GridSearchCV\n",
        "grid_search = GridSearchCV(estimator=model, param_grid=param_grid, scoring='accuracy', cv=5)\n",
        "\n",
        "# Fit GridSearchCV on the training data\n",
        "grid_search.fit(X_train, y_train)\n",
        "\n",
        "# Get the best parameters and the best score\n",
        "best_params = grid_search.best_params_\n",
        "best_score = grid_search.best_score_\n",
        "\n",
        "# Make predictions on the test data using the best model\n",
        "best_model = grid_search.best_estimator_\n",
        "y_pred = best_model.predict(X_test)\n",
        "\n",
        "# Calculate the accuracy on the test set\n",
        "test_accuracy = accuracy_score(y_test, y_pred)\n",
        "\n",
        "# Print the best parameters and accuracy\n",
        "print(f'Best Parameters: {best_params}')\n",
        "print(f'Best Cross-Validation Accuracy: {best_score:.2f}')\n",
        "print(f'Test Set Accuracy: {test_accuracy:.2f}')"
      ],
      "metadata": {
        "colab": {
          "base_uri": "https://localhost:8080/"
        },
        "id": "5OwlCQyAZF13",
        "outputId": "5a79a0d2-8f55-4944-bc72-f0241033a853"
      },
      "execution_count": 12,
      "outputs": [
        {
          "output_type": "stream",
          "name": "stdout",
          "text": [
            "Best Parameters: {'C': 1, 'penalty': 'l2'}\n",
            "Best Cross-Validation Accuracy: 0.97\n",
            "Test Set Accuracy: 1.00\n"
          ]
        },
        {
          "output_type": "stream",
          "name": "stderr",
          "text": [
            "/usr/local/lib/python3.11/dist-packages/sklearn/model_selection/_validation.py:528: FitFailedWarning: \n",
            "25 fits failed out of a total of 50.\n",
            "The score on these train-test partitions for these parameters will be set to nan.\n",
            "If these failures are not expected, you can try to debug them by setting error_score='raise'.\n",
            "\n",
            "Below are more details about the failures:\n",
            "--------------------------------------------------------------------------------\n",
            "25 fits failed with the following error:\n",
            "Traceback (most recent call last):\n",
            "  File \"/usr/local/lib/python3.11/dist-packages/sklearn/model_selection/_validation.py\", line 866, in _fit_and_score\n",
            "    estimator.fit(X_train, y_train, **fit_params)\n",
            "  File \"/usr/local/lib/python3.11/dist-packages/sklearn/base.py\", line 1389, in wrapper\n",
            "    return fit_method(estimator, *args, **kwargs)\n",
            "           ^^^^^^^^^^^^^^^^^^^^^^^^^^^^^^^^^^^^^^\n",
            "  File \"/usr/local/lib/python3.11/dist-packages/sklearn/linear_model/_logistic.py\", line 1193, in fit\n",
            "    solver = _check_solver(self.solver, self.penalty, self.dual)\n",
            "             ^^^^^^^^^^^^^^^^^^^^^^^^^^^^^^^^^^^^^^^^^^^^^^^^^^^\n",
            "  File \"/usr/local/lib/python3.11/dist-packages/sklearn/linear_model/_logistic.py\", line 63, in _check_solver\n",
            "    raise ValueError(\n",
            "ValueError: Solver lbfgs supports only 'l2' or None penalties, got l1 penalty.\n",
            "\n",
            "  warnings.warn(some_fits_failed_message, FitFailedWarning)\n",
            "/usr/local/lib/python3.11/dist-packages/sklearn/model_selection/_search.py:1108: UserWarning: One or more of the test scores are non-finite: [       nan 0.85833333        nan 0.93333333        nan 0.96666667\n",
            "        nan 0.94166667        nan 0.95      ]\n",
            "  warnings.warn(\n"
          ]
        }
      ]
    },
    {
      "cell_type": "markdown",
      "source": [
        "8. Write a Python program to load a dataset from a CSV file, apply Logistic Regression, and evaluate its\n",
        "accuracy"
      ],
      "metadata": {
        "id": "-QDhYGtaYLHL"
      }
    },
    {
      "cell_type": "markdown",
      "source": [
        "Certainly! Below is a Python program that demonstrates how to load a dataset from a CSV file, apply logistic regression, and evaluate its accuracy. For this example, I'll assume that the CSV file contains a binary classification problem. You can replace the dataset with your own CSV file."
      ],
      "metadata": {
        "id": "cDgQb_GpYLJm"
      }
    },
    {
      "cell_type": "code",
      "source": [
        "pip install pandas scikit-learn"
      ],
      "metadata": {
        "colab": {
          "base_uri": "https://localhost:8080/"
        },
        "id": "7U_aEdLUacHF",
        "outputId": "f2dd7b50-140e-4f56-8aaf-9eaf29ee2e9b"
      },
      "execution_count": 3,
      "outputs": [
        {
          "output_type": "stream",
          "name": "stdout",
          "text": [
            "Requirement already satisfied: pandas in /usr/local/lib/python3.11/dist-packages (2.2.2)\n",
            "Requirement already satisfied: scikit-learn in /usr/local/lib/python3.11/dist-packages (1.6.1)\n",
            "Requirement already satisfied: numpy>=1.23.2 in /usr/local/lib/python3.11/dist-packages (from pandas) (1.26.4)\n",
            "Requirement already satisfied: python-dateutil>=2.8.2 in /usr/local/lib/python3.11/dist-packages (from pandas) (2.8.2)\n",
            "Requirement already satisfied: pytz>=2020.1 in /usr/local/lib/python3.11/dist-packages (from pandas) (2025.1)\n",
            "Requirement already satisfied: tzdata>=2022.7 in /usr/local/lib/python3.11/dist-packages (from pandas) (2025.1)\n",
            "Requirement already satisfied: scipy>=1.6.0 in /usr/local/lib/python3.11/dist-packages (from scikit-learn) (1.13.1)\n",
            "Requirement already satisfied: joblib>=1.2.0 in /usr/local/lib/python3.11/dist-packages (from scikit-learn) (1.4.2)\n",
            "Requirement already satisfied: threadpoolctl>=3.1.0 in /usr/local/lib/python3.11/dist-packages (from scikit-learn) (3.5.0)\n",
            "Requirement already satisfied: six>=1.5 in /usr/local/lib/python3.11/dist-packages (from python-dateutil>=2.8.2->pandas) (1.17.0)\n"
          ]
        }
      ]
    },
    {
      "cell_type": "code",
      "source": [
        "# Import necessary libraries\n",
        "import pandas as pd\n",
        "from sklearn.model_selection import train_test_split\n",
        "from sklearn.linear_model import LogisticRegression\n",
        "from sklearn.metrics import accuracy_score\n",
        "\n",
        "# Load the dataset from a CSV file\n",
        "# Replace 'your_dataset.csv' with the path to your CSV file\n",
        "data = pd.read_csv('your_dataset.csv')  # Intentional error: file may not exist\n",
        "\n",
        "# Display the first few rows of the dataset\n",
        "print(\"First few rows of the dataset:\")\n",
        "print(data.head())\n",
        "\n",
        "# Assume the last column is the target variable and the rest are features\n",
        "X = data.iloc[:, :-1]  # Features (all columns except the last)\n",
        "y = data.iloc[:, -1]   # Target variable (last column)\n",
        "\n",
        "# Introduce an intentional error: assume the target variable has non-numeric values\n",
        "# Uncomment the next line to simulate this error\n",
        "# y = ['class1', 'class2', 'class1', 'class2', 'class1']  # Non-numeric target\n",
        "\n",
        "# Split the dataset into training and testing sets\n",
        "X_train, X_test, y_train, y_test = train_test_split(X, y, test_size=0.2, random_state=42)\n",
        "\n",
        "# Create a Logistic Regression model\n",
        "model = LogisticRegression(max_iter=200)\n",
        "\n",
        "# Fit the model on the training data\n",
        "model.fit(X_train, y_train)  # This may raise an error if y is non-numeric\n",
        "\n",
        "# Make predictions on the test data\n",
        "y_pred = model.predict(X_test)\n",
        "\n",
        "# Calculate the accuracy of the model\n",
        "accuracy = accuracy_score(y_test, y_pred)\n",
        "\n",
        "# Print the model accuracy\n",
        "print(f'Model Accuracy: {accuracy:.2f}')"
      ],
      "metadata": {
        "colab": {
          "base_uri": "https://localhost:8080/",
          "height": 356
        },
        "id": "lWtR9wN1aavo",
        "outputId": "d4c155c3-d7d7-4edc-a007-b713ce4d73b6"
      },
      "execution_count": 4,
      "outputs": [
        {
          "output_type": "error",
          "ename": "FileNotFoundError",
          "evalue": "[Errno 2] No such file or directory: 'your_dataset.csv'",
          "traceback": [
            "\u001b[0;31m---------------------------------------------------------------------------\u001b[0m",
            "\u001b[0;31mFileNotFoundError\u001b[0m                         Traceback (most recent call last)",
            "\u001b[0;32m<ipython-input-4-b897067ba02c>\u001b[0m in \u001b[0;36m<cell line: 0>\u001b[0;34m()\u001b[0m\n\u001b[1;32m      7\u001b[0m \u001b[0;31m# Load the dataset from a CSV file\u001b[0m\u001b[0;34m\u001b[0m\u001b[0;34m\u001b[0m\u001b[0m\n\u001b[1;32m      8\u001b[0m \u001b[0;31m# Replace 'your_dataset.csv' with the path to your CSV file\u001b[0m\u001b[0;34m\u001b[0m\u001b[0;34m\u001b[0m\u001b[0m\n\u001b[0;32m----> 9\u001b[0;31m \u001b[0mdata\u001b[0m \u001b[0;34m=\u001b[0m \u001b[0mpd\u001b[0m\u001b[0;34m.\u001b[0m\u001b[0mread_csv\u001b[0m\u001b[0;34m(\u001b[0m\u001b[0;34m'your_dataset.csv'\u001b[0m\u001b[0;34m)\u001b[0m  \u001b[0;31m# Intentional error: file may not exist\u001b[0m\u001b[0;34m\u001b[0m\u001b[0;34m\u001b[0m\u001b[0m\n\u001b[0m\u001b[1;32m     10\u001b[0m \u001b[0;34m\u001b[0m\u001b[0m\n\u001b[1;32m     11\u001b[0m \u001b[0;31m# Display the first few rows of the dataset\u001b[0m\u001b[0;34m\u001b[0m\u001b[0;34m\u001b[0m\u001b[0m\n",
            "\u001b[0;32m/usr/local/lib/python3.11/dist-packages/pandas/io/parsers/readers.py\u001b[0m in \u001b[0;36mread_csv\u001b[0;34m(filepath_or_buffer, sep, delimiter, header, names, index_col, usecols, dtype, engine, converters, true_values, false_values, skipinitialspace, skiprows, skipfooter, nrows, na_values, keep_default_na, na_filter, verbose, skip_blank_lines, parse_dates, infer_datetime_format, keep_date_col, date_parser, date_format, dayfirst, cache_dates, iterator, chunksize, compression, thousands, decimal, lineterminator, quotechar, quoting, doublequote, escapechar, comment, encoding, encoding_errors, dialect, on_bad_lines, delim_whitespace, low_memory, memory_map, float_precision, storage_options, dtype_backend)\u001b[0m\n\u001b[1;32m   1024\u001b[0m     \u001b[0mkwds\u001b[0m\u001b[0;34m.\u001b[0m\u001b[0mupdate\u001b[0m\u001b[0;34m(\u001b[0m\u001b[0mkwds_defaults\u001b[0m\u001b[0;34m)\u001b[0m\u001b[0;34m\u001b[0m\u001b[0;34m\u001b[0m\u001b[0m\n\u001b[1;32m   1025\u001b[0m \u001b[0;34m\u001b[0m\u001b[0m\n\u001b[0;32m-> 1026\u001b[0;31m     \u001b[0;32mreturn\u001b[0m \u001b[0m_read\u001b[0m\u001b[0;34m(\u001b[0m\u001b[0mfilepath_or_buffer\u001b[0m\u001b[0;34m,\u001b[0m \u001b[0mkwds\u001b[0m\u001b[0;34m)\u001b[0m\u001b[0;34m\u001b[0m\u001b[0;34m\u001b[0m\u001b[0m\n\u001b[0m\u001b[1;32m   1027\u001b[0m \u001b[0;34m\u001b[0m\u001b[0m\n\u001b[1;32m   1028\u001b[0m \u001b[0;34m\u001b[0m\u001b[0m\n",
            "\u001b[0;32m/usr/local/lib/python3.11/dist-packages/pandas/io/parsers/readers.py\u001b[0m in \u001b[0;36m_read\u001b[0;34m(filepath_or_buffer, kwds)\u001b[0m\n\u001b[1;32m    618\u001b[0m \u001b[0;34m\u001b[0m\u001b[0m\n\u001b[1;32m    619\u001b[0m     \u001b[0;31m# Create the parser.\u001b[0m\u001b[0;34m\u001b[0m\u001b[0;34m\u001b[0m\u001b[0m\n\u001b[0;32m--> 620\u001b[0;31m     \u001b[0mparser\u001b[0m \u001b[0;34m=\u001b[0m \u001b[0mTextFileReader\u001b[0m\u001b[0;34m(\u001b[0m\u001b[0mfilepath_or_buffer\u001b[0m\u001b[0;34m,\u001b[0m \u001b[0;34m**\u001b[0m\u001b[0mkwds\u001b[0m\u001b[0;34m)\u001b[0m\u001b[0;34m\u001b[0m\u001b[0;34m\u001b[0m\u001b[0m\n\u001b[0m\u001b[1;32m    621\u001b[0m \u001b[0;34m\u001b[0m\u001b[0m\n\u001b[1;32m    622\u001b[0m     \u001b[0;32mif\u001b[0m \u001b[0mchunksize\u001b[0m \u001b[0;32mor\u001b[0m \u001b[0miterator\u001b[0m\u001b[0;34m:\u001b[0m\u001b[0;34m\u001b[0m\u001b[0;34m\u001b[0m\u001b[0m\n",
            "\u001b[0;32m/usr/local/lib/python3.11/dist-packages/pandas/io/parsers/readers.py\u001b[0m in \u001b[0;36m__init__\u001b[0;34m(self, f, engine, **kwds)\u001b[0m\n\u001b[1;32m   1618\u001b[0m \u001b[0;34m\u001b[0m\u001b[0m\n\u001b[1;32m   1619\u001b[0m         \u001b[0mself\u001b[0m\u001b[0;34m.\u001b[0m\u001b[0mhandles\u001b[0m\u001b[0;34m:\u001b[0m \u001b[0mIOHandles\u001b[0m \u001b[0;34m|\u001b[0m \u001b[0;32mNone\u001b[0m \u001b[0;34m=\u001b[0m \u001b[0;32mNone\u001b[0m\u001b[0;34m\u001b[0m\u001b[0;34m\u001b[0m\u001b[0m\n\u001b[0;32m-> 1620\u001b[0;31m         \u001b[0mself\u001b[0m\u001b[0;34m.\u001b[0m\u001b[0m_engine\u001b[0m \u001b[0;34m=\u001b[0m \u001b[0mself\u001b[0m\u001b[0;34m.\u001b[0m\u001b[0m_make_engine\u001b[0m\u001b[0;34m(\u001b[0m\u001b[0mf\u001b[0m\u001b[0;34m,\u001b[0m \u001b[0mself\u001b[0m\u001b[0;34m.\u001b[0m\u001b[0mengine\u001b[0m\u001b[0;34m)\u001b[0m\u001b[0;34m\u001b[0m\u001b[0;34m\u001b[0m\u001b[0m\n\u001b[0m\u001b[1;32m   1621\u001b[0m \u001b[0;34m\u001b[0m\u001b[0m\n\u001b[1;32m   1622\u001b[0m     \u001b[0;32mdef\u001b[0m \u001b[0mclose\u001b[0m\u001b[0;34m(\u001b[0m\u001b[0mself\u001b[0m\u001b[0;34m)\u001b[0m \u001b[0;34m->\u001b[0m \u001b[0;32mNone\u001b[0m\u001b[0;34m:\u001b[0m\u001b[0;34m\u001b[0m\u001b[0;34m\u001b[0m\u001b[0m\n",
            "\u001b[0;32m/usr/local/lib/python3.11/dist-packages/pandas/io/parsers/readers.py\u001b[0m in \u001b[0;36m_make_engine\u001b[0;34m(self, f, engine)\u001b[0m\n\u001b[1;32m   1878\u001b[0m                 \u001b[0;32mif\u001b[0m \u001b[0;34m\"b\"\u001b[0m \u001b[0;32mnot\u001b[0m \u001b[0;32min\u001b[0m \u001b[0mmode\u001b[0m\u001b[0;34m:\u001b[0m\u001b[0;34m\u001b[0m\u001b[0;34m\u001b[0m\u001b[0m\n\u001b[1;32m   1879\u001b[0m                     \u001b[0mmode\u001b[0m \u001b[0;34m+=\u001b[0m \u001b[0;34m\"b\"\u001b[0m\u001b[0;34m\u001b[0m\u001b[0;34m\u001b[0m\u001b[0m\n\u001b[0;32m-> 1880\u001b[0;31m             self.handles = get_handle(\n\u001b[0m\u001b[1;32m   1881\u001b[0m                 \u001b[0mf\u001b[0m\u001b[0;34m,\u001b[0m\u001b[0;34m\u001b[0m\u001b[0;34m\u001b[0m\u001b[0m\n\u001b[1;32m   1882\u001b[0m                 \u001b[0mmode\u001b[0m\u001b[0;34m,\u001b[0m\u001b[0;34m\u001b[0m\u001b[0;34m\u001b[0m\u001b[0m\n",
            "\u001b[0;32m/usr/local/lib/python3.11/dist-packages/pandas/io/common.py\u001b[0m in \u001b[0;36mget_handle\u001b[0;34m(path_or_buf, mode, encoding, compression, memory_map, is_text, errors, storage_options)\u001b[0m\n\u001b[1;32m    871\u001b[0m         \u001b[0;32mif\u001b[0m \u001b[0mioargs\u001b[0m\u001b[0;34m.\u001b[0m\u001b[0mencoding\u001b[0m \u001b[0;32mand\u001b[0m \u001b[0;34m\"b\"\u001b[0m \u001b[0;32mnot\u001b[0m \u001b[0;32min\u001b[0m \u001b[0mioargs\u001b[0m\u001b[0;34m.\u001b[0m\u001b[0mmode\u001b[0m\u001b[0;34m:\u001b[0m\u001b[0;34m\u001b[0m\u001b[0;34m\u001b[0m\u001b[0m\n\u001b[1;32m    872\u001b[0m             \u001b[0;31m# Encoding\u001b[0m\u001b[0;34m\u001b[0m\u001b[0;34m\u001b[0m\u001b[0m\n\u001b[0;32m--> 873\u001b[0;31m             handle = open(\n\u001b[0m\u001b[1;32m    874\u001b[0m                 \u001b[0mhandle\u001b[0m\u001b[0;34m,\u001b[0m\u001b[0;34m\u001b[0m\u001b[0;34m\u001b[0m\u001b[0m\n\u001b[1;32m    875\u001b[0m                 \u001b[0mioargs\u001b[0m\u001b[0;34m.\u001b[0m\u001b[0mmode\u001b[0m\u001b[0;34m,\u001b[0m\u001b[0;34m\u001b[0m\u001b[0;34m\u001b[0m\u001b[0m\n",
            "\u001b[0;31mFileNotFoundError\u001b[0m: [Errno 2] No such file or directory: 'your_dataset.csv'"
          ]
        }
      ]
    },
    {
      "cell_type": "markdown",
      "source": [
        "9. Write a Python program to apply RandomizedSearchCV for tuning hyperparameters (C, penalty, solver) in\n",
        "Logistic Regression. Print the best parameters and accuracyM"
      ],
      "metadata": {
        "id": "X6TcYvfOYLMY"
      }
    },
    {
      "cell_type": "markdown",
      "source": [
        "To tune hyperparameters in Logistic Regression using RandomizedSearchCV, you can follow these general steps:\n",
        "\n",
        "Import the necessary libraries.\n",
        "Load your dataset and split it into training and testing sets.\n",
        "Define the model and the hyperparameter grid for C, penalty, and solver.\n",
        "Use RandomizedSearchCV to search for the best hyperparameters.\n",
        "Fit the model and evaluate its accuracy.\n",
        "This approach allows you to efficiently find the optimal hyperparameters for your logistic regression model. For detailed implementation, you can refer to resources like the Scikit-learn documentation or tutorials on hyperparameter tuning. ```python import numpy as np import pandas as pd from sklearn.model_selection import train_test_split, RandomizedSearchCV from sklearn.linear_model import LogisticRegression from sklearn.datasets import load_iris from sklearn.preprocessing import StandardScaler from scipy.stats import uniform\n",
        "\n",
        "Load the Iris dataset\n",
        "iris = load_iris() X = iris.data y = iris.target\n",
        "\n",
        "Split the dataset into training and testing sets\n",
        "X_train, X_test, y_train, y_test = train_test_split(X, y, test_size=0.2, random_state=42)\n",
        "\n",
        "Scale the data using StandardScaler\n",
        "scaler = StandardScaler() X_train_scaled = scaler.fit_transform(X_train) X_test_scaled = scaler.transform(X_test)\n",
        "\n",
        "Define the hyperparameter search space\n",
        "param_dist = { 'C': uniform(0.001, 100), # Range of C values 'penalty': ['l1', 'l2'], # Penalty types 'solver': ['liblinear', 'saga'] # Solvers }\n",
        "\n",
        "Create a Logistic Regression model\n",
        "logistic_regression = LogisticRegression(max_iter=1000)\n",
        "\n",
        "Perform RandomizedSearchCV\n",
        "random_search = RandomizedSearchCV(logistic_regression, param_distributions=param_dist, n_iter=100, cv=5, scoring='accuracy', random_state=42) random_search.fit(X_train_scaled, y_train)\n",
        "\n",
        "Get the best hyperparameters\n",
        "best_params = random_search.best_params_\n",
        "\n",
        "Fit the model with the best hyperparameters on the entire dataset\n",
        "best_model = random_search.best_estimator_ best_model.fit(X_train_scaled, y_train)\n",
        "\n",
        "Evaluate the best model on the test set\n",
        "accuracy = best_model.score(X_test_scaled, y_test)\n",
        "\n",
        "Print the best hyperparameters and accuracy\n",
        "print(f\"Best Hyperparameters: {best_params}\") print(f\"Accuracy on test set: {accuracy:.2f}\")\n",
        "\n"
      ],
      "metadata": {
        "id": "OM5HUgNjYLO4"
      }
    },
    {
      "cell_type": "markdown",
      "source": [
        "\n",
        "### Explanation of the Code\n",
        "\n",
        "- **Data Loading and Preprocessing**:\n",
        "  - The Iris dataset is loaded and split into training and testing sets.\n",
        "  - The features are scaled using `StandardScaler` to improve model performance.\n",
        "\n",
        "- **Hyperparameter Search Space**:\n",
        "  - A dictionary defines the hyperparameter distributions for `C`, `penalty`, and `solver`.\n",
        "\n",
        "- **Randomized Search**:\n",
        "  - `RandomizedSearchCV` is used to find the best hyperparameters by sampling from the defined distributions.\n",
        "\n",
        "- **Model Evaluation**:\n",
        "  - The best model is evaluated on the test set, and the best hyperparameters along with the accuracy are printed.\n",
        "\n",
        "This program effectively demonstrates how to use `RandomizedSearchCV` for hyperparameter tuning in logistic regression."
      ],
      "metadata": {
        "id": "1bDSTbE_YLUm"
      }
    },
    {
      "cell_type": "markdown",
      "source": [
        "10. Write a Python program to implement One-vs-One (OvO) Multiclass Logistic Regression and print accuracy"
      ],
      "metadata": {
        "id": "C6p0udlhYLX9"
      }
    },
    {
      "cell_type": "markdown",
      "source": [
        "To implement One-vs-One (OvO) Multiclass Logistic Regression in Python, we can use the LogisticRegression class from the sklearn library along with the OneVsOneClassifier. Below is a complete example that demonstrates how to do this, including generating a synthetic dataset, training the model, and printing the accuracy.\n",
        "\n",
        "Make sure you have the required libraries installed. You can install them using pip if you haven't already:"
      ],
      "metadata": {
        "id": "GTDS9Rj-YLcb"
      }
    },
    {
      "cell_type": "code",
      "source": [
        "pip install numpy scikit-learn"
      ],
      "metadata": {
        "colab": {
          "base_uri": "https://localhost:8080/"
        },
        "id": "rN0RBYfRbVYn",
        "outputId": "70884d78-05fe-4eba-c64f-1b13dd6cc1af"
      },
      "execution_count": 6,
      "outputs": [
        {
          "output_type": "stream",
          "name": "stdout",
          "text": [
            "Requirement already satisfied: numpy in /usr/local/lib/python3.11/dist-packages (1.26.4)\n",
            "Requirement already satisfied: scikit-learn in /usr/local/lib/python3.11/dist-packages (1.6.1)\n",
            "Requirement already satisfied: scipy>=1.6.0 in /usr/local/lib/python3.11/dist-packages (from scikit-learn) (1.13.1)\n",
            "Requirement already satisfied: joblib>=1.2.0 in /usr/local/lib/python3.11/dist-packages (from scikit-learn) (1.4.2)\n",
            "Requirement already satisfied: threadpoolctl>=3.1.0 in /usr/local/lib/python3.11/dist-packages (from scikit-learn) (3.5.0)\n"
          ]
        }
      ]
    },
    {
      "cell_type": "code",
      "source": [
        "import numpy as np\n",
        "from sklearn.datasets import make_classification\n",
        "from sklearn.model_selection import train_test_split\n",
        "from sklearn.linear_model import LogisticRegression\n",
        "from sklearn.multiclass import OneVsOneClassifier\n",
        "from sklearn.metrics import accuracy_score\n",
        "\n",
        "# Generate a synthetic dataset\n",
        "X, y = make_classification(n_samples=1000, n_features=20, n_classes=3, n_informative=10, n_redundant=5, random_state=42)\n",
        "\n",
        "# Split the dataset into training and testing sets\n",
        "X_train, X_test, y_train, y_test = train_test_split(X, y, test_size=0.3, random_state=42)\n",
        "\n",
        "# Create a One-vs-One classifier with Logistic Regression\n",
        "ovo_classifier = OneVsOneClassifier(LogisticRegression(max_iter=1000))\n",
        "\n",
        "# Train the classifier\n",
        "ovo_classifier.fit(X_train, y_train)\n",
        "\n",
        "# Make predictions\n",
        "y_pred = ovo_classifier.predict(X_test)\n",
        "\n",
        "# Calculate accuracy\n",
        "accuracy = accuracy_score(y_test, y_pred)\n",
        "\n",
        "# Print the accuracy\n",
        "print(f'Accuracy of One-vs-One Multiclass Logistic Regression: {accuracy:.2f}')"
      ],
      "metadata": {
        "colab": {
          "base_uri": "https://localhost:8080/"
        },
        "id": "imvkfZA1bZmn",
        "outputId": "f3c607a5-da85-4c1b-eee2-00af8bd7b838"
      },
      "execution_count": 7,
      "outputs": [
        {
          "output_type": "stream",
          "name": "stdout",
          "text": [
            "Accuracy of One-vs-One Multiclass Logistic Regression: 0.70\n"
          ]
        }
      ]
    },
    {
      "cell_type": "markdown",
      "source": [
        "12. Write a Python program to train a Logistic Regression model and visualize the confusion matrix for binary\n",
        "classification"
      ],
      "metadata": {
        "id": "Eiu2COOXYLe0"
      }
    },
    {
      "cell_type": "markdown",
      "source": [
        "To train a Logistic Regression model and visualize the confusion matrix for binary classification in Python, you can use libraries such as scikit-learn for model training and evaluation, and matplotlib or seaborn for visualization. Below is a complete example that demonstrates this process, including generating a synthetic dataset, training the model, and visualizing the confusion matrix.\n",
        "\n",
        "Make sure you have the required libraries installed. You can install them using pip if you haven't already:"
      ],
      "metadata": {
        "id": "kq_aeFjnYLhZ"
      }
    },
    {
      "cell_type": "code",
      "source": [
        "pip install numpy scikit-learn matplotlib seaborn"
      ],
      "metadata": {
        "colab": {
          "base_uri": "https://localhost:8080/"
        },
        "id": "BDvSfKH6byyg",
        "outputId": "8f5833fe-13d7-4bb1-8ac3-b549bf294681"
      },
      "execution_count": 8,
      "outputs": [
        {
          "output_type": "stream",
          "name": "stdout",
          "text": [
            "Requirement already satisfied: numpy in /usr/local/lib/python3.11/dist-packages (1.26.4)\n",
            "Requirement already satisfied: scikit-learn in /usr/local/lib/python3.11/dist-packages (1.6.1)\n",
            "Requirement already satisfied: matplotlib in /usr/local/lib/python3.11/dist-packages (3.10.0)\n",
            "Requirement already satisfied: seaborn in /usr/local/lib/python3.11/dist-packages (0.13.2)\n",
            "Requirement already satisfied: scipy>=1.6.0 in /usr/local/lib/python3.11/dist-packages (from scikit-learn) (1.13.1)\n",
            "Requirement already satisfied: joblib>=1.2.0 in /usr/local/lib/python3.11/dist-packages (from scikit-learn) (1.4.2)\n",
            "Requirement already satisfied: threadpoolctl>=3.1.0 in /usr/local/lib/python3.11/dist-packages (from scikit-learn) (3.5.0)\n",
            "Requirement already satisfied: contourpy>=1.0.1 in /usr/local/lib/python3.11/dist-packages (from matplotlib) (1.3.1)\n",
            "Requirement already satisfied: cycler>=0.10 in /usr/local/lib/python3.11/dist-packages (from matplotlib) (0.12.1)\n",
            "Requirement already satisfied: fonttools>=4.22.0 in /usr/local/lib/python3.11/dist-packages (from matplotlib) (4.56.0)\n",
            "Requirement already satisfied: kiwisolver>=1.3.1 in /usr/local/lib/python3.11/dist-packages (from matplotlib) (1.4.8)\n",
            "Requirement already satisfied: packaging>=20.0 in /usr/local/lib/python3.11/dist-packages (from matplotlib) (24.2)\n",
            "Requirement already satisfied: pillow>=8 in /usr/local/lib/python3.11/dist-packages (from matplotlib) (11.1.0)\n",
            "Requirement already satisfied: pyparsing>=2.3.1 in /usr/local/lib/python3.11/dist-packages (from matplotlib) (3.2.1)\n",
            "Requirement already satisfied: python-dateutil>=2.7 in /usr/local/lib/python3.11/dist-packages (from matplotlib) (2.8.2)\n",
            "Requirement already satisfied: pandas>=1.2 in /usr/local/lib/python3.11/dist-packages (from seaborn) (2.2.2)\n",
            "Requirement already satisfied: pytz>=2020.1 in /usr/local/lib/python3.11/dist-packages (from pandas>=1.2->seaborn) (2025.1)\n",
            "Requirement already satisfied: tzdata>=2022.7 in /usr/local/lib/python3.11/dist-packages (from pandas>=1.2->seaborn) (2025.1)\n",
            "Requirement already satisfied: six>=1.5 in /usr/local/lib/python3.11/dist-packages (from python-dateutil>=2.7->matplotlib) (1.17.0)\n"
          ]
        }
      ]
    },
    {
      "cell_type": "code",
      "source": [
        "import numpy as np\n",
        "import matplotlib.pyplot as plt\n",
        "import seaborn as sns\n",
        "from sklearn.datasets import make_classification\n",
        "from sklearn.model_selection import train_test_split\n",
        "from sklearn.linear_model import LogisticRegression\n",
        "from sklearn.metrics import confusion_matrix, accuracy_score\n",
        "\n",
        "# Generate a synthetic binary classification dataset\n",
        "X, y = make_classification(n_samples=1000, n_features=20, n_classes=2, n_informative=10, n_redundant=5, random_state=42)\n",
        "\n",
        "# Split the dataset into training and testing sets\n",
        "X_train, X_test, y_train, y_test = train_test_split(X, y, test_size=0.3, random_state=42)\n",
        "\n",
        "# Create and train the Logistic Regression model\n",
        "model = LogisticRegression(max_iter=1000)\n",
        "model.fit(X_train, y_train)\n",
        "\n",
        "# Make predictions\n",
        "y_pred = model.predict(X_test)\n",
        "\n",
        "# Calculate accuracy\n",
        "accuracy = accuracy_score(y_test, y_pred)\n",
        "print(f'Accuracy of Logistic Regression: {accuracy:.2f}')\n",
        "\n",
        "# Compute the confusion matrix\n",
        "cm = confusion_matrix(y_test, y_pred)\n",
        "\n",
        "# Visualize the confusion matrix\n",
        "plt.figure(figsize=(8, 6))\n",
        "sns.heatmap(cm, annot=True, fmt='d', cmap='Blues', xticklabels=['Predicted 0', 'Predicted 1'], yticklabels=['Actual 0', 'Actual 1'])\n",
        "plt.title('Confusion Matrix')\n",
        "plt.xlabel('Predicted Labels')\n",
        "plt.ylabel('True Labels')\n",
        "plt.show()"
      ],
      "metadata": {
        "colab": {
          "base_uri": "https://localhost:8080/",
          "height": 581
        },
        "id": "NxcruvP6bzBg",
        "outputId": "1fa4752c-564f-4ae1-c6d6-dadccb804213"
      },
      "execution_count": 9,
      "outputs": [
        {
          "output_type": "stream",
          "name": "stdout",
          "text": [
            "Accuracy of Logistic Regression: 0.84\n"
          ]
        },
        {
          "output_type": "display_data",
          "data": {
            "text/plain": [
              "<Figure size 800x600 with 2 Axes>"
            ],
            "image/png": "[encoded data removed]"
          },
          "metadata": {}
        }
      ]
    },
    {
      "cell_type": "markdown",
      "source": [
        "13. Write a Python program to train a Logistic Regression model and evaluate its performance using Precision,\n",
        "Recall, and F1-Score"
      ],
      "metadata": {
        "id": "aBpBHS05YLkd"
      }
    },
    {
      "cell_type": "markdown",
      "source": [
        "To train a Logistic Regression model and evaluate its performance using Precision, Recall, and F1-Score in Python, you can use the scikit-learn library. Below is a complete example that demonstrates this process, including generating a synthetic dataset, training the model, and calculating the evaluation metrics.\n",
        "\n",
        "Make sure you have the required libraries installed. You can install them using pip if you haven't already:\n",
        "\n"
      ],
      "metadata": {
        "id": "AEcIBdHaYLnG"
      }
    },
    {
      "cell_type": "code",
      "source": [
        "pip install numpy scikit-learn"
      ],
      "metadata": {
        "colab": {
          "base_uri": "https://localhost:8080/"
        },
        "id": "JGv2AGLncDOr",
        "outputId": "b29a1dde-03ec-4d66-c970-7394e49a7aa6"
      },
      "execution_count": 10,
      "outputs": [
        {
          "output_type": "stream",
          "name": "stdout",
          "text": [
            "Requirement already satisfied: numpy in /usr/local/lib/python3.11/dist-packages (1.26.4)\n",
            "Requirement already satisfied: scikit-learn in /usr/local/lib/python3.11/dist-packages (1.6.1)\n",
            "Requirement already satisfied: scipy>=1.6.0 in /usr/local/lib/python3.11/dist-packages (from scikit-learn) (1.13.1)\n",
            "Requirement already satisfied: joblib>=1.2.0 in /usr/local/lib/python3.11/dist-packages (from scikit-learn) (1.4.2)\n",
            "Requirement already satisfied: threadpoolctl>=3.1.0 in /usr/local/lib/python3.11/dist-packages (from scikit-learn) (3.5.0)\n"
          ]
        }
      ]
    },
    {
      "cell_type": "code",
      "source": [
        "import numpy as np\n",
        "from sklearn.datasets import make_classification\n",
        "from sklearn.model_selection import train_test_split\n",
        "from sklearn.linear_model import LogisticRegression\n",
        "from sklearn.metrics import precision_score, recall_score, f1_score, accuracy_score\n",
        "\n",
        "# Generate a synthetic binary classification dataset\n",
        "X, y = make_classification(n_samples=1000, n_features=20, n_classes=2, n_informative=10, n_redundant=5, random_state=42)\n",
        "\n",
        "# Split the dataset into training and testing sets\n",
        "X_train, X_test, y_train, y_test = train_test_split(X, y, test_size=0.3, random_state=42)\n",
        "\n",
        "# Create and train the Logistic Regression model\n",
        "model = LogisticRegression(max_iter=1000)\n",
        "model.fit(X_train, y_train)\n",
        "\n",
        "# Make predictions\n",
        "y_pred = model.predict(X_test)\n",
        "\n",
        "# Calculate accuracy\n",
        "accuracy = accuracy_score(y_test, y_pred)\n",
        "print(f'Accuracy of Logistic Regression: {accuracy:.2f}')\n",
        "\n",
        "# Calculate Precision, Recall, and F1-Score\n",
        "precision = precision_score(y_test, y_pred)\n",
        "recall = recall_score(y_test, y_pred)\n",
        "f1 = f1_score(y_test, y_pred)\n",
        "\n",
        "# Print the evaluation metrics\n",
        "print(f'Precision: {precision:.2f}')\n",
        "print(f'Recall: {recall:.2f}')\n",
        "print(f'F1-Score: {f1:.2f}')"
      ],
      "metadata": {
        "colab": {
          "base_uri": "https://localhost:8080/"
        },
        "id": "wkgPDHQXcDRx",
        "outputId": "4346b7ae-fd33-4b3c-885a-19e9aec588e3"
      },
      "execution_count": 11,
      "outputs": [
        {
          "output_type": "stream",
          "name": "stdout",
          "text": [
            "Accuracy of Logistic Regression: 0.84\n",
            "Precision: 0.80\n",
            "Recall: 0.87\n",
            "F1-Score: 0.83\n"
          ]
        }
      ]
    },
    {
      "cell_type": "markdown",
      "source": [
        "13. Write a Python program to train a Logistic Regression model on imbalanced data and apply class weights to\n",
        "improve model performance"
      ],
      "metadata": {
        "id": "wwdl6xCcYLqP"
      }
    },
    {
      "cell_type": "markdown",
      "source": [
        "Training a Logistic Regression model on imbalanced data can lead to poor performance, especially for the minority class. To address this, you can apply class weights to the model, which helps the algorithm pay more attention to the minority class during training.\n",
        "\n",
        "Below is a complete Python program that demonstrates how to create an imbalanced dataset, train a Logistic Regression model with class weights, and evaluate its performance using accuracy, precision, recall, and F1-score.\n",
        "\n",
        "Make sure you have the required libraries installed. You can install them using pip if you haven't already:"
      ],
      "metadata": {
        "id": "FCA-Pu1uYLtC"
      }
    },
    {
      "cell_type": "code",
      "source": [
        "pip install numpy scikit-learn"
      ],
      "metadata": {
        "colab": {
          "base_uri": "https://localhost:8080/"
        },
        "id": "4J5RiXxTcXpI",
        "outputId": "fce363c0-e9d7-4d2d-c4d4-f525d2ab9c9e"
      },
      "execution_count": 12,
      "outputs": [
        {
          "output_type": "stream",
          "name": "stdout",
          "text": [
            "Requirement already satisfied: numpy in /usr/local/lib/python3.11/dist-packages (1.26.4)\n",
            "Requirement already satisfied: scikit-learn in /usr/local/lib/python3.11/dist-packages (1.6.1)\n",
            "Requirement already satisfied: scipy>=1.6.0 in /usr/local/lib/python3.11/dist-packages (from scikit-learn) (1.13.1)\n",
            "Requirement already satisfied: joblib>=1.2.0 in /usr/local/lib/python3.11/dist-packages (from scikit-learn) (1.4.2)\n",
            "Requirement already satisfied: threadpoolctl>=3.1.0 in /usr/local/lib/python3.11/dist-packages (from scikit-learn) (3.5.0)\n"
          ]
        }
      ]
    },
    {
      "cell_type": "code",
      "source": [
        "import numpy as np\n",
        "from sklearn.datasets import make_classification\n",
        "from sklearn.model_selection import train_test_split\n",
        "from sklearn.linear_model import LogisticRegression\n",
        "from sklearn.metrics import classification_report, accuracy_score\n",
        "\n",
        "# Generate an imbalanced binary classification dataset\n",
        "X, y = make_classification(n_samples=1000, n_features=20, n_classes=2,\n",
        "                           n_informative=10, n_redundant=5,\n",
        "                           weights=[0.9, 0.1], random_state=42)\n",
        "\n",
        "# Split the dataset into training and testing sets\n",
        "X_train, X_test, y_train, y_test = train_test_split(X, y, test_size=0.3, random_state=42)\n",
        "\n",
        "# Create and train the Logistic Regression model with class weights\n",
        "model = LogisticRegression(class_weight='balanced', max_iter=1000)\n",
        "model.fit(X_train, y_train)\n",
        "\n",
        "# Make predictions\n",
        "y_pred = model.predict(X_test)\n",
        "\n",
        "# Calculate accuracy\n",
        "accuracy = accuracy_score(y_test, y_pred)\n",
        "print(f'Accuracy of Logistic Regression: {accuracy:.2f}')\n",
        "\n",
        "# Print classification report (includes precision, recall, and F1-score)\n",
        "print(\"\\nClassification Report:\")\n",
        "print(classification_report(y_test, y_pred))"
      ],
      "metadata": {
        "colab": {
          "base_uri": "https://localhost:8080/"
        },
        "id": "_WI9pU5icXs2",
        "outputId": "68778258-3c5d-4e05-a904-4877b1d13d38"
      },
      "execution_count": 13,
      "outputs": [
        {
          "output_type": "stream",
          "name": "stdout",
          "text": [
            "Accuracy of Logistic Regression: 0.80\n",
            "\n",
            "Classification Report:\n",
            "              precision    recall  f1-score   support\n",
            "\n",
            "           0       0.97      0.79      0.87       267\n",
            "           1       0.33      0.82      0.47        33\n",
            "\n",
            "    accuracy                           0.80       300\n",
            "   macro avg       0.65      0.81      0.67       300\n",
            "weighted avg       0.90      0.80      0.83       300\n",
            "\n"
          ]
        }
      ]
    },
    {
      "cell_type": "markdown",
      "source": [
        "14. Write a Python program to train Logistic Regression on the Titanic dataset, handle missing values, and\n",
        "evaluate performance"
      ],
      "metadata": {
        "id": "6MHoTSFiYLvp"
      }
    },
    {
      "cell_type": "markdown",
      "source": [
        "To train a Logistic Regression model on the Titanic dataset, handle missing values, and evaluate its performance, you can follow these steps:\n",
        "\n",
        "Load the Titanic dataset.\n",
        "Handle missing values.\n",
        "Preprocess the data (e.g., encoding categorical variables).\n",
        "Split the data into training and testing sets.\n",
        "Train the Logistic Regression model.\n",
        "Evaluate the model's performance.\n",
        "Below is a complete Python program that demonstrates this process. For this example, we'll use the Titanic dataset from the seaborn library, which provides a convenient way to access the dataset.\n",
        "\n",
        "Make sure you have the required libraries installed. You can install them using pip if you haven't already:"
      ],
      "metadata": {
        "id": "t36PtUFVYLyh"
      }
    },
    {
      "cell_type": "code",
      "source": [
        "pip install pandas numpy scikit-learn seaborn"
      ],
      "metadata": {
        "colab": {
          "base_uri": "https://localhost:8080/"
        },
        "id": "GROE0kdZcnMS",
        "outputId": "3b177d5e-6ee9-428d-ef45-c0d7bab6ee73"
      },
      "execution_count": 14,
      "outputs": [
        {
          "output_type": "stream",
          "name": "stdout",
          "text": [
            "Requirement already satisfied: pandas in /usr/local/lib/python3.11/dist-packages (2.2.2)\n",
            "Requirement already satisfied: numpy in /usr/local/lib/python3.11/dist-packages (1.26.4)\n",
            "Requirement already satisfied: scikit-learn in /usr/local/lib/python3.11/dist-packages (1.6.1)\n",
            "Requirement already satisfied: seaborn in /usr/local/lib/python3.11/dist-packages (0.13.2)\n",
            "Requirement already satisfied: python-dateutil>=2.8.2 in /usr/local/lib/python3.11/dist-packages (from pandas) (2.8.2)\n",
            "Requirement already satisfied: pytz>=2020.1 in /usr/local/lib/python3.11/dist-packages (from pandas) (2025.1)\n",
            "Requirement already satisfied: tzdata>=2022.7 in /usr/local/lib/python3.11/dist-packages (from pandas) (2025.1)\n",
            "Requirement already satisfied: scipy>=1.6.0 in /usr/local/lib/python3.11/dist-packages (from scikit-learn) (1.13.1)\n",
            "Requirement already satisfied: joblib>=1.2.0 in /usr/local/lib/python3.11/dist-packages (from scikit-learn) (1.4.2)\n",
            "Requirement already satisfied: threadpoolctl>=3.1.0 in /usr/local/lib/python3.11/dist-packages (from scikit-learn) (3.5.0)\n",
            "Requirement already satisfied: matplotlib!=3.6.1,>=3.4 in /usr/local/lib/python3.11/dist-packages (from seaborn) (3.10.0)\n",
            "Requirement already satisfied: contourpy>=1.0.1 in /usr/local/lib/python3.11/dist-packages (from matplotlib!=3.6.1,>=3.4->seaborn) (1.3.1)\n",
            "Requirement already satisfied: cycler>=0.10 in /usr/local/lib/python3.11/dist-packages (from matplotlib!=3.6.1,>=3.4->seaborn) (0.12.1)\n",
            "Requirement already satisfied: fonttools>=4.22.0 in /usr/local/lib/python3.11/dist-packages (from matplotlib!=3.6.1,>=3.4->seaborn) (4.56.0)\n",
            "Requirement already satisfied: kiwisolver>=1.3.1 in /usr/local/lib/python3.11/dist-packages (from matplotlib!=3.6.1,>=3.4->seaborn) (1.4.8)\n",
            "Requirement already satisfied: packaging>=20.0 in /usr/local/lib/python3.11/dist-packages (from matplotlib!=3.6.1,>=3.4->seaborn) (24.2)\n",
            "Requirement already satisfied: pillow>=8 in /usr/local/lib/python3.11/dist-packages (from matplotlib!=3.6.1,>=3.4->seaborn) (11.1.0)\n",
            "Requirement already satisfied: pyparsing>=2.3.1 in /usr/local/lib/python3.11/dist-packages (from matplotlib!=3.6.1,>=3.4->seaborn) (3.2.1)\n",
            "Requirement already satisfied: six>=1.5 in /usr/local/lib/python3.11/dist-packages (from python-dateutil>=2.8.2->pandas) (1.17.0)\n"
          ]
        }
      ]
    },
    {
      "cell_type": "code",
      "source": [
        "import pandas as pd\n",
        "import numpy as np\n",
        "from sklearn.model_selection import train_test_split\n",
        "from sklearn.linear_model import LogisticRegression\n",
        "from sklearn.metrics import classification_report, accuracy_score\n",
        "from sklearn.preprocessing import OneHotEncoder\n",
        "from sklearn.compose import ColumnTransformer\n",
        "from sklearn.pipeline import Pipeline\n",
        "from sklearn.impute import SimpleImputer\n",
        "\n",
        "# Load the Titanic dataset\n",
        "titanic = pd.read_csv('https://raw.githubusercontent.com/datasciencedojo/datasets/master/titanic.csv')\n",
        "\n",
        "# Display the first few rows of the dataset\n",
        "print(titanic.head())\n",
        "\n",
        "# Select relevant features and target variable\n",
        "features = ['Pclass', 'Sex', 'Age', 'SibSp', 'Parch', 'Fare']\n",
        "target = 'Survived'\n",
        "\n",
        "# Handle missing values in 'Age' and 'Embarked'\n",
        "titanic['Age'].fillna(titanic['Age'].median(), inplace=True)\n",
        "titanic['Embarked'].fillna(titanic['Embarked'].mode()[0], inplace=True)\n",
        "\n",
        "# Define features and target\n",
        "X = titanic[features]\n",
        "y = titanic[target]\n",
        "\n",
        "# Create a preprocessing pipeline\n",
        "numeric_features = ['Age', 'SibSp', 'Parch', 'Fare']\n",
        "categorical_features = ['Pclass', 'Sex', 'Embarked']\n",
        "\n",
        "# Create transformers for numeric and categorical features\n",
        "numeric_transformer = Pipeline(steps=[\n",
        "    ('imputer', SimpleImputer(strategy='median'))\n",
        "])\n",
        "\n",
        "categorical_transformer = Pipeline(steps=[\n",
        "    ('imputer', SimpleImputer(strategy='most_frequent')),\n",
        "    ('onehot', OneHotEncoder(handle_unknown='ignore'))\n",
        "])\n",
        "\n",
        "# Combine transformers into a preprocessor\n",
        "preprocessor = ColumnTransformer(\n",
        "    transformers=[\n",
        "        ('num', numeric_transformer, numeric_features),\n",
        "        ('cat', categorical_transformer, categorical_features)\n",
        "    ])\n",
        "\n",
        "# Create a pipeline that first transforms the data and then fits the model\n",
        "model = Pipeline(steps=[\n",
        "    ('preprocessor', preprocessor),\n",
        "    ('classifier', LogisticRegression(max_iter=1000))\n",
        "])\n",
        "\n",
        "# Split the dataset into training and testing sets\n",
        "X_train, X_test, y_train, y_test = train_test_split(X, y, test_size=0.3, random_state=42)\n",
        "\n",
        "# Train the model\n",
        "model.fit(X_train, y_train)\n",
        "\n",
        "# Make predictions\n",
        "y_pred = model.predict(X_test)\n",
        "\n",
        "# Calculate accuracy\n",
        "accuracy = accuracy_score(y_test, y_pred)\n",
        "print(f'Accuracy of Logistic Regression: {accuracy:.2f}')\n",
        "\n",
        "# Print classification report\n",
        "print(\"\\nClassification Report:\")\n",
        "print(classification_report(y_test, y_pred))"
      ],
      "metadata": {
        "colab": {
          "base_uri": "https://localhost:8080/",
          "height": 1000
        },
        "id": "yE9METtmcnPO",
        "outputId": "f8353315-e1a5-4c8e-8538-b7a9d9efcf59"
      },
      "execution_count": 15,
      "outputs": [
        {
          "output_type": "stream",
          "name": "stdout",
          "text": [
            "   PassengerId  Survived  Pclass  \\\n",
            "0            1         0       3   \n",
            "1            2         1       1   \n",
            "2            3         1       3   \n",
            "3            4         1       1   \n",
            "4            5         0       3   \n",
            "\n",
            "                                                Name     Sex   Age  SibSp  \\\n",
            "0                            Braund, Mr. Owen Harris    male  22.0      1   \n",
            "1  Cumings, Mrs. John Bradley (Florence Briggs Th...  female  38.0      1   \n",
            "2                             Heikkinen, Miss. Laina  female  26.0      0   \n",
            "3       Futrelle, Mrs. Jacques Heath (Lily May Peel)  female  35.0      1   \n",
            "4                           Allen, Mr. William Henry    male  35.0      0   \n",
            "\n",
            "   Parch            Ticket     Fare Cabin Embarked  \n",
            "0      0         A/5 21171   7.2500   NaN        S  \n",
            "1      0          PC 17599  71.2833   C85        C  \n",
            "2      0  STON/O2. 3101282   7.9250   NaN        S  \n",
            "3      0            113803  53.1000  C123        S  \n",
            "4      0            373450   8.0500   NaN        S  \n"
          ]
        },
        {
          "output_type": "stream",
          "name": "stderr",
          "text": [
            "<ipython-input-15-413f5e58fd7e>:22: FutureWarning: A value is trying to be set on a copy of a DataFrame or Series through chained assignment using an inplace method.\n",
            "The behavior will change in pandas 3.0. This inplace method will never work because the intermediate object on which we are setting values always behaves as a copy.\n",
            "\n",
            "For example, when doing 'df[col].method(value, inplace=True)', try using 'df.method({col: value}, inplace=True)' or df[col] = df[col].method(value) instead, to perform the operation inplace on the original object.\n",
            "\n",
            "\n",
            "  titanic['Age'].fillna(titanic['Age'].median(), inplace=True)\n",
            "<ipython-input-15-413f5e58fd7e>:23: FutureWarning: A value is trying to be set on a copy of a DataFrame or Series through chained assignment using an inplace method.\n",
            "The behavior will change in pandas 3.0. This inplace method will never work because the intermediate object on which we are setting values always behaves as a copy.\n",
            "\n",
            "For example, when doing 'df[col].method(value, inplace=True)', try using 'df.method({col: value}, inplace=True)' or df[col] = df[col].method(value) instead, to perform the operation inplace on the original object.\n",
            "\n",
            "\n",
            "  titanic['Embarked'].fillna(titanic['Embarked'].mode()[0], inplace=True)\n"
          ]
        },
        {
          "output_type": "error",
          "ename": "ValueError",
          "evalue": "A given column is not a column of the dataframe",
          "traceback": [
            "\u001b[0;31m---------------------------------------------------------------------------\u001b[0m",
            "\u001b[0;31mKeyError\u001b[0m                                  Traceback (most recent call last)",
            "\u001b[0;32m/usr/local/lib/python3.11/dist-packages/pandas/core/indexes/base.py\u001b[0m in \u001b[0;36mget_loc\u001b[0;34m(self, key)\u001b[0m\n\u001b[1;32m   3804\u001b[0m         \u001b[0;32mtry\u001b[0m\u001b[0;34m:\u001b[0m\u001b[0;34m\u001b[0m\u001b[0;34m\u001b[0m\u001b[0m\n\u001b[0;32m-> 3805\u001b[0;31m             \u001b[0;32mreturn\u001b[0m \u001b[0mself\u001b[0m\u001b[0;34m.\u001b[0m\u001b[0m_engine\u001b[0m\u001b[0;34m.\u001b[0m\u001b[0mget_loc\u001b[0m\u001b[0;34m(\u001b[0m\u001b[0mcasted_key\u001b[0m\u001b[0;34m)\u001b[0m\u001b[0;34m\u001b[0m\u001b[0;34m\u001b[0m\u001b[0m\n\u001b[0m\u001b[1;32m   3806\u001b[0m         \u001b[0;32mexcept\u001b[0m \u001b[0mKeyError\u001b[0m \u001b[0;32mas\u001b[0m \u001b[0merr\u001b[0m\u001b[0;34m:\u001b[0m\u001b[0;34m\u001b[0m\u001b[0;34m\u001b[0m\u001b[0m\n",
            "\u001b[0;32mindex.pyx\u001b[0m in \u001b[0;36mpandas._libs.index.IndexEngine.get_loc\u001b[0;34m()\u001b[0m\n",
            "\u001b[0;32mindex.pyx\u001b[0m in \u001b[0;36mpandas._libs.index.IndexEngine.get_loc\u001b[0;34m()\u001b[0m\n",
            "\u001b[0;32mpandas/_libs/hashtable_class_helper.pxi\u001b[0m in \u001b[0;36mpandas._libs.hashtable.PyObjectHashTable.get_item\u001b[0;34m()\u001b[0m\n",
            "\u001b[0;32mpandas/_libs/hashtable_class_helper.pxi\u001b[0m in \u001b[0;36mpandas._libs.hashtable.PyObjectHashTable.get_item\u001b[0;34m()\u001b[0m\n",
            "\u001b[0;31mKeyError\u001b[0m: 'Embarked'",
            "\nThe above exception was the direct cause of the following exception:\n",
            "\u001b[0;31mKeyError\u001b[0m                                  Traceback (most recent call last)",
            "\u001b[0;32m/usr/local/lib/python3.11/dist-packages/sklearn/utils/_indexing.py\u001b[0m in \u001b[0;36m_get_column_indices\u001b[0;34m(X, key)\u001b[0m\n\u001b[1;32m    363\u001b[0m             \u001b[0;32mfor\u001b[0m \u001b[0mcol\u001b[0m \u001b[0;32min\u001b[0m \u001b[0mcolumns\u001b[0m\u001b[0;34m:\u001b[0m\u001b[0;34m\u001b[0m\u001b[0;34m\u001b[0m\u001b[0m\n\u001b[0;32m--> 364\u001b[0;31m                 \u001b[0mcol_idx\u001b[0m \u001b[0;34m=\u001b[0m \u001b[0mall_columns\u001b[0m\u001b[0;34m.\u001b[0m\u001b[0mget_loc\u001b[0m\u001b[0;34m(\u001b[0m\u001b[0mcol\u001b[0m\u001b[0;34m)\u001b[0m\u001b[0;34m\u001b[0m\u001b[0;34m\u001b[0m\u001b[0m\n\u001b[0m\u001b[1;32m    365\u001b[0m                 \u001b[0;32mif\u001b[0m \u001b[0;32mnot\u001b[0m \u001b[0misinstance\u001b[0m\u001b[0;34m(\u001b[0m\u001b[0mcol_idx\u001b[0m\u001b[0;34m,\u001b[0m \u001b[0mnumbers\u001b[0m\u001b[0;34m.\u001b[0m\u001b[0mIntegral\u001b[0m\u001b[0;34m)\u001b[0m\u001b[0;34m:\u001b[0m\u001b[0;34m\u001b[0m\u001b[0;34m\u001b[0m\u001b[0m\n",
            "\u001b[0;32m/usr/local/lib/python3.11/dist-packages/pandas/core/indexes/base.py\u001b[0m in \u001b[0;36mget_loc\u001b[0;34m(self, key)\u001b[0m\n\u001b[1;32m   3811\u001b[0m                 \u001b[0;32mraise\u001b[0m \u001b[0mInvalidIndexError\u001b[0m\u001b[0;34m(\u001b[0m\u001b[0mkey\u001b[0m\u001b[0;34m)\u001b[0m\u001b[0;34m\u001b[0m\u001b[0;34m\u001b[0m\u001b[0m\n\u001b[0;32m-> 3812\u001b[0;31m             \u001b[0;32mraise\u001b[0m \u001b[0mKeyError\u001b[0m\u001b[0;34m(\u001b[0m\u001b[0mkey\u001b[0m\u001b[0;34m)\u001b[0m \u001b[0;32mfrom\u001b[0m \u001b[0merr\u001b[0m\u001b[0;34m\u001b[0m\u001b[0;34m\u001b[0m\u001b[0m\n\u001b[0m\u001b[1;32m   3813\u001b[0m         \u001b[0;32mexcept\u001b[0m \u001b[0mTypeError\u001b[0m\u001b[0;34m:\u001b[0m\u001b[0;34m\u001b[0m\u001b[0;34m\u001b[0m\u001b[0m\n",
            "\u001b[0;31mKeyError\u001b[0m: 'Embarked'",
            "\nThe above exception was the direct cause of the following exception:\n",
            "\u001b[0;31mValueError\u001b[0m                                Traceback (most recent call last)",
            "\u001b[0;32m<ipython-input-15-413f5e58fd7e>\u001b[0m in \u001b[0;36m<cell line: 0>\u001b[0;34m()\u001b[0m\n\u001b[1;32m     58\u001b[0m \u001b[0;34m\u001b[0m\u001b[0m\n\u001b[1;32m     59\u001b[0m \u001b[0;31m# Train the model\u001b[0m\u001b[0;34m\u001b[0m\u001b[0;34m\u001b[0m\u001b[0m\n\u001b[0;32m---> 60\u001b[0;31m \u001b[0mmodel\u001b[0m\u001b[0;34m.\u001b[0m\u001b[0mfit\u001b[0m\u001b[0;34m(\u001b[0m\u001b[0mX_train\u001b[0m\u001b[0;34m,\u001b[0m \u001b[0my_train\u001b[0m\u001b[0;34m)\u001b[0m\u001b[0;34m\u001b[0m\u001b[0;34m\u001b[0m\u001b[0m\n\u001b[0m\u001b[1;32m     61\u001b[0m \u001b[0;34m\u001b[0m\u001b[0m\n\u001b[1;32m     62\u001b[0m \u001b[0;31m# Make predictions\u001b[0m\u001b[0;34m\u001b[0m\u001b[0;34m\u001b[0m\u001b[0m\n",
            "\u001b[0;32m/usr/local/lib/python3.11/dist-packages/sklearn/base.py\u001b[0m in \u001b[0;36mwrapper\u001b[0;34m(estimator, *args, **kwargs)\u001b[0m\n\u001b[1;32m   1387\u001b[0m                 )\n\u001b[1;32m   1388\u001b[0m             ):\n\u001b[0;32m-> 1389\u001b[0;31m                 \u001b[0;32mreturn\u001b[0m \u001b[0mfit_method\u001b[0m\u001b[0;34m(\u001b[0m\u001b[0mestimator\u001b[0m\u001b[0;34m,\u001b[0m \u001b[0;34m*\u001b[0m\u001b[0margs\u001b[0m\u001b[0;34m,\u001b[0m \u001b[0;34m**\u001b[0m\u001b[0mkwargs\u001b[0m\u001b[0;34m)\u001b[0m\u001b[0;34m\u001b[0m\u001b[0;34m\u001b[0m\u001b[0m\n\u001b[0m\u001b[1;32m   1390\u001b[0m \u001b[0;34m\u001b[0m\u001b[0m\n\u001b[1;32m   1391\u001b[0m         \u001b[0;32mreturn\u001b[0m \u001b[0mwrapper\u001b[0m\u001b[0;34m\u001b[0m\u001b[0;34m\u001b[0m\u001b[0m\n",
            "\u001b[0;32m/usr/local/lib/python3.11/dist-packages/sklearn/pipeline.py\u001b[0m in \u001b[0;36mfit\u001b[0;34m(self, X, y, **params)\u001b[0m\n\u001b[1;32m    652\u001b[0m \u001b[0;34m\u001b[0m\u001b[0m\n\u001b[1;32m    653\u001b[0m         \u001b[0mrouted_params\u001b[0m \u001b[0;34m=\u001b[0m \u001b[0mself\u001b[0m\u001b[0;34m.\u001b[0m\u001b[0m_check_method_params\u001b[0m\u001b[0;34m(\u001b[0m\u001b[0mmethod\u001b[0m\u001b[0;34m=\u001b[0m\u001b[0;34m\"fit\"\u001b[0m\u001b[0;34m,\u001b[0m \u001b[0mprops\u001b[0m\u001b[0;34m=\u001b[0m\u001b[0mparams\u001b[0m\u001b[0;34m)\u001b[0m\u001b[0;34m\u001b[0m\u001b[0;34m\u001b[0m\u001b[0m\n\u001b[0;32m--> 654\u001b[0;31m         \u001b[0mXt\u001b[0m \u001b[0;34m=\u001b[0m \u001b[0mself\u001b[0m\u001b[0;34m.\u001b[0m\u001b[0m_fit\u001b[0m\u001b[0;34m(\u001b[0m\u001b[0mX\u001b[0m\u001b[0;34m,\u001b[0m \u001b[0my\u001b[0m\u001b[0;34m,\u001b[0m \u001b[0mrouted_params\u001b[0m\u001b[0;34m,\u001b[0m \u001b[0mraw_params\u001b[0m\u001b[0;34m=\u001b[0m\u001b[0mparams\u001b[0m\u001b[0;34m)\u001b[0m\u001b[0;34m\u001b[0m\u001b[0;34m\u001b[0m\u001b[0m\n\u001b[0m\u001b[1;32m    655\u001b[0m         \u001b[0;32mwith\u001b[0m \u001b[0m_print_elapsed_time\u001b[0m\u001b[0;34m(\u001b[0m\u001b[0;34m\"Pipeline\"\u001b[0m\u001b[0;34m,\u001b[0m \u001b[0mself\u001b[0m\u001b[0;34m.\u001b[0m\u001b[0m_log_message\u001b[0m\u001b[0;34m(\u001b[0m\u001b[0mlen\u001b[0m\u001b[0;34m(\u001b[0m\u001b[0mself\u001b[0m\u001b[0;34m.\u001b[0m\u001b[0msteps\u001b[0m\u001b[0;34m)\u001b[0m \u001b[0;34m-\u001b[0m \u001b[0;36m1\u001b[0m\u001b[0;34m)\u001b[0m\u001b[0;34m)\u001b[0m\u001b[0;34m:\u001b[0m\u001b[0;34m\u001b[0m\u001b[0;34m\u001b[0m\u001b[0m\n\u001b[1;32m    656\u001b[0m             \u001b[0;32mif\u001b[0m \u001b[0mself\u001b[0m\u001b[0;34m.\u001b[0m\u001b[0m_final_estimator\u001b[0m \u001b[0;34m!=\u001b[0m \u001b[0;34m\"passthrough\"\u001b[0m\u001b[0;34m:\u001b[0m\u001b[0;34m\u001b[0m\u001b[0;34m\u001b[0m\u001b[0m\n",
            "\u001b[0;32m/usr/local/lib/python3.11/dist-packages/sklearn/pipeline.py\u001b[0m in \u001b[0;36m_fit\u001b[0;34m(self, X, y, routed_params, raw_params)\u001b[0m\n\u001b[1;32m    586\u001b[0m             )\n\u001b[1;32m    587\u001b[0m \u001b[0;34m\u001b[0m\u001b[0m\n\u001b[0;32m--> 588\u001b[0;31m             X, fitted_transformer = fit_transform_one_cached(\n\u001b[0m\u001b[1;32m    589\u001b[0m                 \u001b[0mcloned_transformer\u001b[0m\u001b[0;34m,\u001b[0m\u001b[0;34m\u001b[0m\u001b[0;34m\u001b[0m\u001b[0m\n\u001b[1;32m    590\u001b[0m                 \u001b[0mX\u001b[0m\u001b[0;34m,\u001b[0m\u001b[0;34m\u001b[0m\u001b[0;34m\u001b[0m\u001b[0m\n",
            "\u001b[0;32m/usr/local/lib/python3.11/dist-packages/joblib/memory.py\u001b[0m in \u001b[0;36m__call__\u001b[0;34m(self, *args, **kwargs)\u001b[0m\n\u001b[1;32m    310\u001b[0m \u001b[0;34m\u001b[0m\u001b[0m\n\u001b[1;32m    311\u001b[0m     \u001b[0;32mdef\u001b[0m \u001b[0m__call__\u001b[0m\u001b[0;34m(\u001b[0m\u001b[0mself\u001b[0m\u001b[0;34m,\u001b[0m \u001b[0;34m*\u001b[0m\u001b[0margs\u001b[0m\u001b[0;34m,\u001b[0m \u001b[0;34m**\u001b[0m\u001b[0mkwargs\u001b[0m\u001b[0;34m)\u001b[0m\u001b[0;34m:\u001b[0m\u001b[0;34m\u001b[0m\u001b[0;34m\u001b[0m\u001b[0m\n\u001b[0;32m--> 312\u001b[0;31m         \u001b[0;32mreturn\u001b[0m \u001b[0mself\u001b[0m\u001b[0;34m.\u001b[0m\u001b[0mfunc\u001b[0m\u001b[0;34m(\u001b[0m\u001b[0;34m*\u001b[0m\u001b[0margs\u001b[0m\u001b[0;34m,\u001b[0m \u001b[0;34m**\u001b[0m\u001b[0mkwargs\u001b[0m\u001b[0;34m)\u001b[0m\u001b[0;34m\u001b[0m\u001b[0;34m\u001b[0m\u001b[0m\n\u001b[0m\u001b[1;32m    313\u001b[0m \u001b[0;34m\u001b[0m\u001b[0m\n\u001b[1;32m    314\u001b[0m     \u001b[0;32mdef\u001b[0m \u001b[0mcall_and_shelve\u001b[0m\u001b[0;34m(\u001b[0m\u001b[0mself\u001b[0m\u001b[0;34m,\u001b[0m \u001b[0;34m*\u001b[0m\u001b[0margs\u001b[0m\u001b[0;34m,\u001b[0m \u001b[0;34m**\u001b[0m\u001b[0mkwargs\u001b[0m\u001b[0;34m)\u001b[0m\u001b[0;34m:\u001b[0m\u001b[0;34m\u001b[0m\u001b[0;34m\u001b[0m\u001b[0m\n",
            "\u001b[0;32m/usr/local/lib/python3.11/dist-packages/sklearn/pipeline.py\u001b[0m in \u001b[0;36m_fit_transform_one\u001b[0;34m(transformer, X, y, weight, message_clsname, message, params)\u001b[0m\n\u001b[1;32m   1549\u001b[0m     \u001b[0;32mwith\u001b[0m \u001b[0m_print_elapsed_time\u001b[0m\u001b[0;34m(\u001b[0m\u001b[0mmessage_clsname\u001b[0m\u001b[0;34m,\u001b[0m \u001b[0mmessage\u001b[0m\u001b[0;34m)\u001b[0m\u001b[0;34m:\u001b[0m\u001b[0;34m\u001b[0m\u001b[0;34m\u001b[0m\u001b[0m\n\u001b[1;32m   1550\u001b[0m         \u001b[0;32mif\u001b[0m \u001b[0mhasattr\u001b[0m\u001b[0;34m(\u001b[0m\u001b[0mtransformer\u001b[0m\u001b[0;34m,\u001b[0m \u001b[0;34m\"fit_transform\"\u001b[0m\u001b[0;34m)\u001b[0m\u001b[0;34m:\u001b[0m\u001b[0;34m\u001b[0m\u001b[0;34m\u001b[0m\u001b[0m\n\u001b[0;32m-> 1551\u001b[0;31m             \u001b[0mres\u001b[0m \u001b[0;34m=\u001b[0m \u001b[0mtransformer\u001b[0m\u001b[0;34m.\u001b[0m\u001b[0mfit_transform\u001b[0m\u001b[0;34m(\u001b[0m\u001b[0mX\u001b[0m\u001b[0;34m,\u001b[0m \u001b[0my\u001b[0m\u001b[0;34m,\u001b[0m \u001b[0;34m**\u001b[0m\u001b[0mparams\u001b[0m\u001b[0;34m.\u001b[0m\u001b[0mget\u001b[0m\u001b[0;34m(\u001b[0m\u001b[0;34m\"fit_transform\"\u001b[0m\u001b[0;34m,\u001b[0m \u001b[0;34m{\u001b[0m\u001b[0;34m}\u001b[0m\u001b[0;34m)\u001b[0m\u001b[0;34m)\u001b[0m\u001b[0;34m\u001b[0m\u001b[0;34m\u001b[0m\u001b[0m\n\u001b[0m\u001b[1;32m   1552\u001b[0m         \u001b[0;32melse\u001b[0m\u001b[0;34m:\u001b[0m\u001b[0;34m\u001b[0m\u001b[0;34m\u001b[0m\u001b[0m\n\u001b[1;32m   1553\u001b[0m             res = transformer.fit(X, y, **params.get(\"fit\", {})).transform(\n",
            "\u001b[0;32m/usr/local/lib/python3.11/dist-packages/sklearn/utils/_set_output.py\u001b[0m in \u001b[0;36mwrapped\u001b[0;34m(self, X, *args, **kwargs)\u001b[0m\n\u001b[1;32m    317\u001b[0m     \u001b[0;34m@\u001b[0m\u001b[0mwraps\u001b[0m\u001b[0;34m(\u001b[0m\u001b[0mf\u001b[0m\u001b[0;34m)\u001b[0m\u001b[0;34m\u001b[0m\u001b[0;34m\u001b[0m\u001b[0m\n\u001b[1;32m    318\u001b[0m     \u001b[0;32mdef\u001b[0m \u001b[0mwrapped\u001b[0m\u001b[0;34m(\u001b[0m\u001b[0mself\u001b[0m\u001b[0;34m,\u001b[0m \u001b[0mX\u001b[0m\u001b[0;34m,\u001b[0m \u001b[0;34m*\u001b[0m\u001b[0margs\u001b[0m\u001b[0;34m,\u001b[0m \u001b[0;34m**\u001b[0m\u001b[0mkwargs\u001b[0m\u001b[0;34m)\u001b[0m\u001b[0;34m:\u001b[0m\u001b[0;34m\u001b[0m\u001b[0;34m\u001b[0m\u001b[0m\n\u001b[0;32m--> 319\u001b[0;31m         \u001b[0mdata_to_wrap\u001b[0m \u001b[0;34m=\u001b[0m \u001b[0mf\u001b[0m\u001b[0;34m(\u001b[0m\u001b[0mself\u001b[0m\u001b[0;34m,\u001b[0m \u001b[0mX\u001b[0m\u001b[0;34m,\u001b[0m \u001b[0;34m*\u001b[0m\u001b[0margs\u001b[0m\u001b[0;34m,\u001b[0m \u001b[0;34m**\u001b[0m\u001b[0mkwargs\u001b[0m\u001b[0;34m)\u001b[0m\u001b[0;34m\u001b[0m\u001b[0;34m\u001b[0m\u001b[0m\n\u001b[0m\u001b[1;32m    320\u001b[0m         \u001b[0;32mif\u001b[0m \u001b[0misinstance\u001b[0m\u001b[0;34m(\u001b[0m\u001b[0mdata_to_wrap\u001b[0m\u001b[0;34m,\u001b[0m \u001b[0mtuple\u001b[0m\u001b[0;34m)\u001b[0m\u001b[0;34m:\u001b[0m\u001b[0;34m\u001b[0m\u001b[0;34m\u001b[0m\u001b[0m\n\u001b[1;32m    321\u001b[0m             \u001b[0;31m# only wrap the first output for cross decomposition\u001b[0m\u001b[0;34m\u001b[0m\u001b[0;34m\u001b[0m\u001b[0m\n",
            "\u001b[0;32m/usr/local/lib/python3.11/dist-packages/sklearn/base.py\u001b[0m in \u001b[0;36mwrapper\u001b[0;34m(estimator, *args, **kwargs)\u001b[0m\n\u001b[1;32m   1387\u001b[0m                 )\n\u001b[1;32m   1388\u001b[0m             ):\n\u001b[0;32m-> 1389\u001b[0;31m                 \u001b[0;32mreturn\u001b[0m \u001b[0mfit_method\u001b[0m\u001b[0;34m(\u001b[0m\u001b[0mestimator\u001b[0m\u001b[0;34m,\u001b[0m \u001b[0;34m*\u001b[0m\u001b[0margs\u001b[0m\u001b[0;34m,\u001b[0m \u001b[0;34m**\u001b[0m\u001b[0mkwargs\u001b[0m\u001b[0;34m)\u001b[0m\u001b[0;34m\u001b[0m\u001b[0;34m\u001b[0m\u001b[0m\n\u001b[0m\u001b[1;32m   1390\u001b[0m \u001b[0;34m\u001b[0m\u001b[0m\n\u001b[1;32m   1391\u001b[0m         \u001b[0;32mreturn\u001b[0m \u001b[0mwrapper\u001b[0m\u001b[0;34m\u001b[0m\u001b[0;34m\u001b[0m\u001b[0m\n",
            "\u001b[0;32m/usr/local/lib/python3.11/dist-packages/sklearn/compose/_column_transformer.py\u001b[0m in \u001b[0;36mfit_transform\u001b[0;34m(self, X, y, **params)\u001b[0m\n\u001b[1;32m    991\u001b[0m         \u001b[0mn_samples\u001b[0m \u001b[0;34m=\u001b[0m \u001b[0m_num_samples\u001b[0m\u001b[0;34m(\u001b[0m\u001b[0mX\u001b[0m\u001b[0;34m)\u001b[0m\u001b[0;34m\u001b[0m\u001b[0;34m\u001b[0m\u001b[0m\n\u001b[1;32m    992\u001b[0m \u001b[0;34m\u001b[0m\u001b[0m\n\u001b[0;32m--> 993\u001b[0;31m         \u001b[0mself\u001b[0m\u001b[0;34m.\u001b[0m\u001b[0m_validate_column_callables\u001b[0m\u001b[0;34m(\u001b[0m\u001b[0mX\u001b[0m\u001b[0;34m)\u001b[0m\u001b[0;34m\u001b[0m\u001b[0;34m\u001b[0m\u001b[0m\n\u001b[0m\u001b[1;32m    994\u001b[0m         \u001b[0mself\u001b[0m\u001b[0;34m.\u001b[0m\u001b[0m_validate_remainder\u001b[0m\u001b[0;34m(\u001b[0m\u001b[0mX\u001b[0m\u001b[0;34m)\u001b[0m\u001b[0;34m\u001b[0m\u001b[0;34m\u001b[0m\u001b[0m\n\u001b[1;32m    995\u001b[0m \u001b[0;34m\u001b[0m\u001b[0m\n",
            "\u001b[0;32m/usr/local/lib/python3.11/dist-packages/sklearn/compose/_column_transformer.py\u001b[0m in \u001b[0;36m_validate_column_callables\u001b[0;34m(self, X)\u001b[0m\n\u001b[1;32m    550\u001b[0m                 \u001b[0mcolumns\u001b[0m \u001b[0;34m=\u001b[0m \u001b[0mcolumns\u001b[0m\u001b[0;34m(\u001b[0m\u001b[0mX\u001b[0m\u001b[0;34m)\u001b[0m\u001b[0;34m\u001b[0m\u001b[0;34m\u001b[0m\u001b[0m\n\u001b[1;32m    551\u001b[0m             \u001b[0mall_columns\u001b[0m\u001b[0;34m.\u001b[0m\u001b[0mappend\u001b[0m\u001b[0;34m(\u001b[0m\u001b[0mcolumns\u001b[0m\u001b[0;34m)\u001b[0m\u001b[0;34m\u001b[0m\u001b[0;34m\u001b[0m\u001b[0m\n\u001b[0;32m--> 552\u001b[0;31m             \u001b[0mtransformer_to_input_indices\u001b[0m\u001b[0;34m[\u001b[0m\u001b[0mname\u001b[0m\u001b[0;34m]\u001b[0m \u001b[0;34m=\u001b[0m \u001b[0m_get_column_indices\u001b[0m\u001b[0;34m(\u001b[0m\u001b[0mX\u001b[0m\u001b[0;34m,\u001b[0m \u001b[0mcolumns\u001b[0m\u001b[0;34m)\u001b[0m\u001b[0;34m\u001b[0m\u001b[0;34m\u001b[0m\u001b[0m\n\u001b[0m\u001b[1;32m    553\u001b[0m \u001b[0;34m\u001b[0m\u001b[0m\n\u001b[1;32m    554\u001b[0m         \u001b[0mself\u001b[0m\u001b[0;34m.\u001b[0m\u001b[0m_columns\u001b[0m \u001b[0;34m=\u001b[0m \u001b[0mall_columns\u001b[0m\u001b[0;34m\u001b[0m\u001b[0;34m\u001b[0m\u001b[0m\n",
            "\u001b[0;32m/usr/local/lib/python3.11/dist-packages/sklearn/utils/_indexing.py\u001b[0m in \u001b[0;36m_get_column_indices\u001b[0;34m(X, key)\u001b[0m\n\u001b[1;32m    370\u001b[0m \u001b[0;34m\u001b[0m\u001b[0m\n\u001b[1;32m    371\u001b[0m         \u001b[0;32mexcept\u001b[0m \u001b[0mKeyError\u001b[0m \u001b[0;32mas\u001b[0m \u001b[0me\u001b[0m\u001b[0;34m:\u001b[0m\u001b[0;34m\u001b[0m\u001b[0;34m\u001b[0m\u001b[0m\n\u001b[0;32m--> 372\u001b[0;31m             \u001b[0;32mraise\u001b[0m \u001b[0mValueError\u001b[0m\u001b[0;34m(\u001b[0m\u001b[0;34m\"A given column is not a column of the dataframe\"\u001b[0m\u001b[0;34m)\u001b[0m \u001b[0;32mfrom\u001b[0m \u001b[0me\u001b[0m\u001b[0;34m\u001b[0m\u001b[0;34m\u001b[0m\u001b[0m\n\u001b[0m\u001b[1;32m    373\u001b[0m \u001b[0;34m\u001b[0m\u001b[0m\n\u001b[1;32m    374\u001b[0m         \u001b[0;32mreturn\u001b[0m \u001b[0mcolumn_indices\u001b[0m\u001b[0;34m\u001b[0m\u001b[0;34m\u001b[0m\u001b[0m\n",
            "\u001b[0;31mValueError\u001b[0m: A given column is not a column of the dataframe"
          ]
        }
      ]
    },
    {
      "cell_type": "markdown",
      "source": [
        "15. Write a Python program to apply feature scaling (Standardization) before training a Logistic Regression\n",
        "model. Evaluate its accuracy and compare results with and without scalingM"
      ],
      "metadata": {
        "id": "7Zw-F_r_YL1O"
      }
    },
    {
      "cell_type": "markdown",
      "source": [
        "Feature scaling is an important preprocessing step in machine learning, especially for algorithms like Logistic Regression that are sensitive to the scale of the input features. Standardization (Z-score normalization) is one common method of feature scaling.\n",
        "\n",
        "In this example, we will:\n",
        "\n",
        "Generate a synthetic dataset.\n",
        "Train a Logistic Regression model without feature scaling.\n",
        "Train another Logistic Regression model with feature scaling (standardization).\n",
        "Compare the accuracy of both models.\n",
        "Make sure you have the required libraries installed. You can install them using pip if you haven't already:"
      ],
      "metadata": {
        "id": "51xzma3cYL4Q"
      }
    },
    {
      "cell_type": "code",
      "source": [
        "pip install numpy scikit-learn"
      ],
      "metadata": {
        "colab": {
          "base_uri": "https://localhost:8080/"
        },
        "id": "Q3wu7n4TdDj1",
        "outputId": "c10763bf-0dbc-41bc-840c-bf7766396581"
      },
      "execution_count": 16,
      "outputs": [
        {
          "output_type": "stream",
          "name": "stdout",
          "text": [
            "Requirement already satisfied: numpy in /usr/local/lib/python3.11/dist-packages (1.26.4)\n",
            "Requirement already satisfied: scikit-learn in /usr/local/lib/python3.11/dist-packages (1.6.1)\n",
            "Requirement already satisfied: scipy>=1.6.0 in /usr/local/lib/python3.11/dist-packages (from scikit-learn) (1.13.1)\n",
            "Requirement already satisfied: joblib>=1.2.0 in /usr/local/lib/python3.11/dist-packages (from scikit-learn) (1.4.2)\n",
            "Requirement already satisfied: threadpoolctl>=3.1.0 in /usr/local/lib/python3.11/dist-packages (from scikit-learn) (3.5.0)\n"
          ]
        }
      ]
    },
    {
      "cell_type": "code",
      "source": [
        "import numpy as np\n",
        "from sklearn.datasets import make_classification\n",
        "from sklearn.model_selection import train_test_split\n",
        "from sklearn.linear_model import LogisticRegression\n",
        "from sklearn.preprocessing import StandardScaler\n",
        "from sklearn.metrics import accuracy_score\n",
        "\n",
        "# Generate a synthetic binary classification dataset\n",
        "X, y = make_classification(n_samples=1000, n_features=20, n_classes=2,\n",
        "                           n_informative=10, n_redundant=5, random_state=42)\n",
        "\n",
        "# Split the dataset into training and testing sets\n",
        "X_train, X_test, y_train, y_test = train_test_split(X, y, test_size=0.3, random_state=42)\n",
        "\n",
        "# Train Logistic Regression without scaling\n",
        "model_no_scaling = LogisticRegression(max_iter=1000)\n",
        "model_no_scaling.fit(X_train, y_train)\n",
        "y_pred_no_scaling = model_no_scaling.predict(X_test)\n",
        "accuracy_no_scaling = accuracy_score(y_test, y_pred_no_scaling)\n",
        "\n",
        "# Print accuracy without scaling\n",
        "print(f'Accuracy of Logistic Regression without scaling: {accuracy_no_scaling:.2f}')\n",
        "\n",
        "# Standardize the features\n",
        "scaler = StandardScaler()\n",
        "X_train_scaled = scaler.fit_transform(X_train)\n",
        "X_test_scaled = scaler.transform(X_test)\n",
        "\n",
        "# Train Logistic Regression with scaling\n",
        "model_with_scaling = LogisticRegression(max_iter=1000)\n",
        "model_with_scaling.fit(X_train_scaled, y_train)\n",
        "y_pred_with_scaling = model_with_scaling.predict(X_test_scaled)\n",
        "accuracy_with_scaling = accuracy_score(y_test, y_pred_with_scaling)\n",
        "\n",
        "# Print accuracy with scaling\n",
        "print(f'Accuracy of Logistic Regression with scaling: {accuracy_with_scaling:.2f}')"
      ],
      "metadata": {
        "colab": {
          "base_uri": "https://localhost:8080/"
        },
        "id": "9yrnswqUdDm-",
        "outputId": "753dff71-5241-426c-f321-308f01490bd3"
      },
      "execution_count": 17,
      "outputs": [
        {
          "output_type": "stream",
          "name": "stdout",
          "text": [
            "Accuracy of Logistic Regression without scaling: 0.84\n",
            "Accuracy of Logistic Regression with scaling: 0.84\n"
          ]
        }
      ]
    },
    {
      "cell_type": "markdown",
      "source": [
        "16. Write a Python program to train Logistic Regression and evaluate its performance using ROC-AUC score"
      ],
      "metadata": {
        "id": "jn-40cqPYL65"
      }
    },
    {
      "cell_type": "markdown",
      "source": [
        "To train a Logistic Regression model and evaluate its performance using the ROC-AUC score, you can follow these steps:\n",
        "\n",
        "Load a dataset (we'll use a synthetic dataset for this example).\n",
        "Split the dataset into training and testing sets.\n",
        "Train the Logistic Regression model.\n",
        "Make predictions and calculate the ROC-AUC score.\n",
        "The ROC-AUC score is a useful metric for evaluating the performance of a binary classification model, as it considers the trade-off between true positive rates and false positive rates.\n",
        "\n",
        "Make sure you have the required libraries installed. You can install them using pip if you haven't already:"
      ],
      "metadata": {
        "id": "le5Ii_ILYL-U"
      }
    },
    {
      "cell_type": "code",
      "source": [
        "pip install numpy scikit-learn"
      ],
      "metadata": {
        "colab": {
          "base_uri": "https://localhost:8080/"
        },
        "id": "LIbhTCK7dWeq",
        "outputId": "204f4933-675d-42b3-b9a0-c720c895fc77"
      },
      "execution_count": 18,
      "outputs": [
        {
          "output_type": "stream",
          "name": "stdout",
          "text": [
            "Requirement already satisfied: numpy in /usr/local/lib/python3.11/dist-packages (1.26.4)\n",
            "Requirement already satisfied: scikit-learn in /usr/local/lib/python3.11/dist-packages (1.6.1)\n",
            "Requirement already satisfied: scipy>=1.6.0 in /usr/local/lib/python3.11/dist-packages (from scikit-learn) (1.13.1)\n",
            "Requirement already satisfied: joblib>=1.2.0 in /usr/local/lib/python3.11/dist-packages (from scikit-learn) (1.4.2)\n",
            "Requirement already satisfied: threadpoolctl>=3.1.0 in /usr/local/lib/python3.11/dist-packages (from scikit-learn) (3.5.0)\n"
          ]
        }
      ]
    },
    {
      "cell_type": "code",
      "source": [
        "import numpy as np\n",
        "from sklearn.datasets import make_classification\n",
        "from sklearn.model_selection import train_test_split\n",
        "from sklearn.linear_model import LogisticRegression\n",
        "from sklearn.metrics import roc_auc_score, roc_curve\n",
        "import matplotlib.pyplot as plt\n",
        "\n",
        "# Generate a synthetic binary classification dataset\n",
        "X, y = make_classification(n_samples=1000, n_features=20, n_classes=2,\n",
        "                           n_informative=10, n_redundant=5, random_state=42)\n",
        "\n",
        "# Split the dataset into training and testing sets\n",
        "X_train, X_test, y_train, y_test = train_test_split(X, y, test_size=0.3, random_state=42)\n",
        "\n",
        "# Create and train the Logistic Regression model\n",
        "model = LogisticRegression(max_iter=1000)\n",
        "model.fit(X_train, y_train)\n",
        "\n",
        "# Make predictions\n",
        "y_pred_proba = model.predict_proba(X_test)[:, 1]  # Get probabilities for the positive class\n",
        "\n",
        "# Calculate ROC-AUC score\n",
        "roc_auc = roc_auc_score(y_test, y_pred_proba)\n",
        "print(f'ROC-AUC Score: {roc_auc:.2f}')\n",
        "\n",
        "# Calculate ROC curve\n",
        "fpr, tpr, thresholds = roc_curve(y_test, y_pred_proba)\n",
        "\n",
        "# Plot ROC curve\n",
        "plt.figure(figsize=(8, 6))\n",
        "plt.plot(fpr, tpr, color='blue', label='ROC Curve (area = {:.2f})'.format(roc_auc))\n",
        "plt.plot([0, 1], [0, 1], color='red', linestyle='--')  # Diagonal line\n",
        "plt.xlim([0.0, 1.0])\n",
        "plt.ylim([0.0, 1.05])\n",
        "plt.xlabel('False Positive Rate')\n",
        "plt.ylabel('True Positive Rate')\n",
        "plt.title('Receiver Operating Characteristic (ROC) Curve')\n",
        "plt.legend(loc='lower right')\n",
        "plt.grid()\n",
        "plt.show()"
      ],
      "metadata": {
        "colab": {
          "base_uri": "https://localhost:8080/",
          "height": 581
        },
        "id": "Z8EI5qFXdWiA",
        "outputId": "a78b6f8f-7bdf-442e-83b0-14c0f9338e46"
      },
      "execution_count": 19,
      "outputs": [
        {
          "output_type": "stream",
          "name": "stdout",
          "text": [
            "ROC-AUC Score: 0.91\n"
          ]
        },
        {
          "output_type": "display_data",
          "data": {
            "text/plain": [
              "<Figure size 800x600 with 1 Axes>"
            ],
            "image/png": "[encoded data removed]"
          },
          "metadata": {}
        }
      ]
    },
    {
      "cell_type": "markdown",
      "source": [
        "16.  Write a Python program to train Logistic Regression using a custom learning rate (C=0.5) and evaluate\n",
        "accuracyM\n"
      ],
      "metadata": {
        "id": "QU87RwlxYMDN"
      }
    },
    {
      "cell_type": "markdown",
      "source": [
        "In Logistic Regression, the parameter C is the inverse of the regularization strength. A smaller value of C indicates stronger regularization. To train a Logistic Regression model with a custom learning rate (in this case, C=0.5), you can use the LogisticRegression class from the scikit-learn library.\n",
        "\n",
        "Below is a complete Python program that demonstrates how to train a Logistic Regression model with C=0.5 and evaluate its accuracy using a synthetic dataset.\n",
        "\n",
        "Make sure you have the required libraries installed. You can install them using pip if you haven't already:\n",
        "\n"
      ],
      "metadata": {
        "id": "6HXv9gmYYMFy"
      }
    },
    {
      "cell_type": "code",
      "source": [
        "import numpy as np\n",
        "from sklearn.datasets import make_classification\n",
        "from sklearn.model_selection import train_test_split\n",
        "from sklearn.linear_model import LogisticRegression\n",
        "from sklearn.metrics import accuracy_score\n",
        "\n",
        "# Generate a synthetic binary classification dataset\n",
        "X, y = make_classification(n_samples=1000, n_features=20, n_classes=2,\n",
        "                           n_informative=10, n_redundant=5, random_state=42)\n",
        "\n",
        "# Split the dataset into training and testing sets\n",
        "X_train, X_test, y_train, y_test = train_test_split(X, y, test_size=0.3, random_state=42)\n",
        "\n",
        "# Create and train the Logistic Regression model with custom learning rate (C=0.5)\n",
        "model = LogisticRegression(C=0.5, max_iter=1000)\n",
        "model.fit(X_train, y_train)\n",
        "\n",
        "# Make predictions\n",
        "y_pred = model.predict(X_test)\n",
        "\n",
        "# Calculate accuracy\n",
        "accuracy = accuracy_score(y_test, y_pred)\n",
        "print(f'Accuracy of Logistic Regression with C=0.5: {accuracy:.2f}')"
      ],
      "metadata": {
        "colab": {
          "base_uri": "https://localhost:8080/"
        },
        "id": "FobwFv_3dxKj",
        "outputId": "8b7f1f30-0b25-4fe1-dfbf-b9f9e6eaaa03"
      },
      "execution_count": 21,
      "outputs": [
        {
          "output_type": "stream",
          "name": "stdout",
          "text": [
            "Accuracy of Logistic Regression with C=0.5: 0.84\n"
          ]
        }
      ]
    },
    {
      "cell_type": "markdown",
      "source": [
        "17 Write a Python program to train Logistic Regression and evaluate its performance using ROC-AUC score"
      ],
      "metadata": {
        "id": "QWYX0asFYMJe"
      }
    },
    {
      "cell_type": "markdown",
      "source": [
        "To train a Logistic Regression model and evaluate its performance using the ROC-AUC score, you can follow these steps:\n",
        "\n",
        "Load a dataset (we'll use a synthetic dataset for this example).\n",
        "Split the dataset into training and testing sets.\n",
        "Train the Logistic Regression model.\n",
        "Make predictions and calculate the ROC-AUC score.\n",
        "The ROC-AUC score is a useful metric for evaluating the performance of a binary classification model, as it considers the trade-off between true positive rates and false positive rates.\n",
        "\n",
        "Make sure you have the required libraries installed. You can install them using pip if you haven't already:"
      ],
      "metadata": {
        "id": "PocSKAoZYMNG"
      }
    },
    {
      "cell_type": "code",
      "source": [
        "pip install numpy scikit-learn matplotlib"
      ],
      "metadata": {
        "colab": {
          "base_uri": "https://localhost:8080/"
        },
        "id": "euMeZgqweVaY",
        "outputId": "30316606-11d5-4aa9-d1db-1957c5679878"
      },
      "execution_count": 22,
      "outputs": [
        {
          "output_type": "stream",
          "name": "stdout",
          "text": [
            "Requirement already satisfied: numpy in /usr/local/lib/python3.11/dist-packages (1.26.4)\n",
            "Requirement already satisfied: scikit-learn in /usr/local/lib/python3.11/dist-packages (1.6.1)\n",
            "Requirement already satisfied: matplotlib in /usr/local/lib/python3.11/dist-packages (3.10.0)\n",
            "Requirement already satisfied: scipy>=1.6.0 in /usr/local/lib/python3.11/dist-packages (from scikit-learn) (1.13.1)\n",
            "Requirement already satisfied: joblib>=1.2.0 in /usr/local/lib/python3.11/dist-packages (from scikit-learn) (1.4.2)\n",
            "Requirement already satisfied: threadpoolctl>=3.1.0 in /usr/local/lib/python3.11/dist-packages (from scikit-learn) (3.5.0)\n",
            "Requirement already satisfied: contourpy>=1.0.1 in /usr/local/lib/python3.11/dist-packages (from matplotlib) (1.3.1)\n",
            "Requirement already satisfied: cycler>=0.10 in /usr/local/lib/python3.11/dist-packages (from matplotlib) (0.12.1)\n",
            "Requirement already satisfied: fonttools>=4.22.0 in /usr/local/lib/python3.11/dist-packages (from matplotlib) (4.56.0)\n",
            "Requirement already satisfied: kiwisolver>=1.3.1 in /usr/local/lib/python3.11/dist-packages (from matplotlib) (1.4.8)\n",
            "Requirement already satisfied: packaging>=20.0 in /usr/local/lib/python3.11/dist-packages (from matplotlib) (24.2)\n",
            "Requirement already satisfied: pillow>=8 in /usr/local/lib/python3.11/dist-packages (from matplotlib) (11.1.0)\n",
            "Requirement already satisfied: pyparsing>=2.3.1 in /usr/local/lib/python3.11/dist-packages (from matplotlib) (3.2.1)\n",
            "Requirement already satisfied: python-dateutil>=2.7 in /usr/local/lib/python3.11/dist-packages (from matplotlib) (2.8.2)\n",
            "Requirement already satisfied: six>=1.5 in /usr/local/lib/python3.11/dist-packages (from python-dateutil>=2.7->matplotlib) (1.17.0)\n"
          ]
        }
      ]
    },
    {
      "cell_type": "code",
      "source": [
        "import numpy as np\n",
        "from sklearn.datasets import make_classification\n",
        "from sklearn.model_selection import train_test_split\n",
        "from sklearn.linear_model import LogisticRegression\n",
        "from sklearn.metrics import roc_auc_score, roc_curve\n",
        "import matplotlib.pyplot as plt\n",
        "\n",
        "# Generate a synthetic binary classification dataset\n",
        "X, y = make_classification(n_samples=1000, n_features=20, n_classes=2,\n",
        "                           n_informative=10, n_redundant=5, random_state=42)\n",
        "\n",
        "# Split the dataset into training and testing sets\n",
        "X_train, X_test, y_train, y_test = train_test_split(X, y, test_size=0.3, random_state=42)\n",
        "\n",
        "# Create and train the Logistic Regression model\n",
        "model = LogisticRegression(max_iter=1000)\n",
        "model.fit(X_train, y_train)\n",
        "\n",
        "# Make predictions\n",
        "y_pred_proba = model.predict_proba(X_test)[:, 1]  # Get probabilities for the positive class\n",
        "\n",
        "# Calculate ROC-AUC score\n",
        "roc_auc = roc_auc_score(y_test, y_pred_proba)\n",
        "print(f'ROC-AUC Score: {roc_auc:.2f}')\n",
        "\n",
        "# Calculate ROC curve\n",
        "fpr, tpr, thresholds = roc_curve(y_test, y_pred_proba)\n",
        "\n",
        "# Plot ROC curve\n",
        "plt.figure(figsize=(8, 6))\n",
        "plt.plot(fpr, tpr, color='blue', label='ROC Curve (area = {:.2f})'.format(roc_auc))\n",
        "plt.plot([0, 1], [0, 1], color='red', linestyle='--')  # Diagonal line\n",
        "plt.xlim([0.0, 1.0])\n",
        "plt.ylim([0.0, 1.05])\n",
        "plt.xlabel('False Positive Rate')\n",
        "plt.ylabel('True Positive Rate')\n",
        "plt.title('Receiver Operating Characteristic (ROC) Curve')\n",
        "plt.legend(loc='lower right')\n",
        "plt.grid()\n",
        "plt.show()"
      ],
      "metadata": {
        "colab": {
          "base_uri": "https://localhost:8080/",
          "height": 581
        },
        "id": "3iUquMExeVdn",
        "outputId": "7f2425c2-e7ae-4f03-8b67-b1e872afd65e"
      },
      "execution_count": 23,
      "outputs": [
        {
          "output_type": "stream",
          "name": "stdout",
          "text": [
            "ROC-AUC Score: 0.91\n"
          ]
        },
        {
          "output_type": "display_data",
          "data": {
            "text/plain": [
              "<Figure size 800x600 with 1 Axes>"
            ],
            "image/png": "[encoded data removed]"
          },
          "metadata": {}
        }
      ]
    },
    {
      "cell_type": "markdown",
      "source": [
        "18.  Write a Python program to train Logistic Regression and identify important features based on model\n",
        "coefficientsM"
      ],
      "metadata": {
        "id": "2l5F_NMoYMQc"
      }
    },
    {
      "cell_type": "markdown",
      "source": [
        "To train a Logistic Regression model and identify important features based on model coefficients, you can follow these steps:\n",
        "\n",
        "Load a dataset (we'll use a synthetic dataset for this example).\n",
        "Split the dataset into training and testing sets.\n",
        "Train the Logistic Regression model.\n",
        "Extract and display the model coefficients to identify important features.\n",
        "The coefficients of the Logistic Regression model indicate the importance of each feature. A higher absolute value of a coefficient means that the feature has a greater impact on the prediction.\n",
        "\n",
        "Make sure you have the required libraries installed. You can install them using pip if you haven't already:"
      ],
      "metadata": {
        "id": "PI_NOkylYMT3"
      }
    },
    {
      "cell_type": "code",
      "source": [
        "pip install numpy pandas scikit-learn"
      ],
      "metadata": {
        "colab": {
          "base_uri": "https://localhost:8080/"
        },
        "id": "SQzdA4Hoeuwa",
        "outputId": "528eb500-484f-493f-fc95-fb3e6a1d50c5"
      },
      "execution_count": 24,
      "outputs": [
        {
          "output_type": "stream",
          "name": "stdout",
          "text": [
            "Requirement already satisfied: numpy in /usr/local/lib/python3.11/dist-packages (1.26.4)\n",
            "Requirement already satisfied: pandas in /usr/local/lib/python3.11/dist-packages (2.2.2)\n",
            "Requirement already satisfied: scikit-learn in /usr/local/lib/python3.11/dist-packages (1.6.1)\n",
            "Requirement already satisfied: python-dateutil>=2.8.2 in /usr/local/lib/python3.11/dist-packages (from pandas) (2.8.2)\n",
            "Requirement already satisfied: pytz>=2020.1 in /usr/local/lib/python3.11/dist-packages (from pandas) (2025.1)\n",
            "Requirement already satisfied: tzdata>=2022.7 in /usr/local/lib/python3.11/dist-packages (from pandas) (2025.1)\n",
            "Requirement already satisfied: scipy>=1.6.0 in /usr/local/lib/python3.11/dist-packages (from scikit-learn) (1.13.1)\n",
            "Requirement already satisfied: joblib>=1.2.0 in /usr/local/lib/python3.11/dist-packages (from scikit-learn) (1.4.2)\n",
            "Requirement already satisfied: threadpoolctl>=3.1.0 in /usr/local/lib/python3.11/dist-packages (from scikit-learn) (3.5.0)\n",
            "Requirement already satisfied: six>=1.5 in /usr/local/lib/python3.11/dist-packages (from python-dateutil>=2.8.2->pandas) (1.17.0)\n"
          ]
        }
      ]
    },
    {
      "cell_type": "code",
      "source": [
        "import numpy as np\n",
        "import pandas as pd\n",
        "from sklearn.datasets import make_classification\n",
        "from sklearn.model_selection import train_test_split\n",
        "from sklearn.linear_model import LogisticRegression\n",
        "\n",
        "# Generate a synthetic binary classification dataset\n",
        "X, y = make_classification(n_samples=1000, n_features=20, n_informative=10,\n",
        "                           n_redundant=5, n_clusters_per_class=1, random_state=42)\n",
        "\n",
        "# Convert to DataFrame for better feature handling\n",
        "feature_names = [f'Feature_{i}' for i in range(X.shape[1])]\n",
        "X_df = pd.DataFrame(X, columns=feature_names)\n",
        "\n",
        "# Split the dataset into training and testing sets\n",
        "X_train, X_test, y_train, y_test = train_test_split(X_df, y, test_size=0.3, random_state=42)\n",
        "\n",
        "# Create and train the Logistic Regression model\n",
        "model = LogisticRegression(max_iter=1000)\n",
        "model.fit(X_train, y_train)\n",
        "\n",
        "# Get the model coefficients\n",
        "coefficients = model.coef_[0]\n",
        "\n",
        "# Create a DataFrame to display feature importance\n",
        "feature_importance = pd.DataFrame({\n",
        "    'Feature': feature_names,\n",
        "    'Coefficient': coefficients\n",
        "})\n",
        "\n",
        "# Sort the features by the absolute value of the coefficients\n",
        "feature_importance['Absolute Coefficient'] = feature_importance['Coefficient'].abs()\n",
        "feature_importance = feature_importance.sort_values(by='Absolute Coefficient', ascending=False)\n",
        "\n",
        "# Display the feature importance\n",
        "print(\"Feature Importance based on Model Coefficients:\")\n",
        "print(feature_importance[['Feature', 'Coefficient', 'Absolute Coefficient']])"
      ],
      "metadata": {
        "colab": {
          "base_uri": "https://localhost:8080/"
        },
        "id": "SB1Dmr48exXz",
        "outputId": "a93ccd05-b5d9-4f2d-9a4a-0c2ab88808a0"
      },
      "execution_count": 25,
      "outputs": [
        {
          "output_type": "stream",
          "name": "stdout",
          "text": [
            "Feature Importance based on Model Coefficients:\n",
            "       Feature  Coefficient  Absolute Coefficient\n",
            "19  Feature_19    -0.921139              0.921139\n",
            "11  Feature_11     0.728599              0.728599\n",
            "0    Feature_0    -0.705893              0.705893\n",
            "16  Feature_16     0.582855              0.582855\n",
            "13  Feature_13     0.534189              0.534189\n",
            "17  Feature_17    -0.474242              0.474242\n",
            "9    Feature_9     0.419264              0.419264\n",
            "5    Feature_5     0.384200              0.384200\n",
            "14  Feature_14    -0.349059              0.349059\n",
            "6    Feature_6    -0.317711              0.317711\n",
            "8    Feature_8    -0.310010              0.310010\n",
            "4    Feature_4     0.265225              0.265225\n",
            "1    Feature_1     0.254231              0.254231\n",
            "2    Feature_2     0.247390              0.247390\n",
            "3    Feature_3     0.223566              0.223566\n",
            "18  Feature_18    -0.138496              0.138496\n",
            "12  Feature_12     0.128225              0.128225\n",
            "15  Feature_15     0.109151              0.109151\n",
            "10  Feature_10     0.082707              0.082707\n",
            "7    Feature_7     0.054826              0.054826\n"
          ]
        }
      ]
    },
    {
      "cell_type": "markdown",
      "source": [
        "19.  Write a Python program to train Logistic Regression and evaluate its performance using Cohen’s Kappa\n",
        "ScoreM"
      ],
      "metadata": {
        "id": "QITTKSP1YMXW"
      }
    },
    {
      "cell_type": "markdown",
      "source": [
        "Cohen's Kappa is a statistical measure that is used to evaluate the agreement between two raters (or classifiers) who each classify items into mutually exclusive categories. In the context of machine learning, it can be used to assess the performance of a classification model by comparing the predicted labels with the true labels.\n",
        "\n",
        "To train a Logistic Regression model and evaluate its performance using Cohen's Kappa score, you can follow these steps:\n",
        "\n",
        "Load a dataset (we'll use a synthetic dataset for this example).\n",
        "Split the dataset into training and testing sets.\n",
        "Train the Logistic Regression model.\n",
        "Make predictions and calculate Cohen's Kappa score.\n",
        "Make sure you have the required libraries installed. You can install them using pip if you haven't already:"
      ],
      "metadata": {
        "id": "lR9LIMd6YMa1"
      }
    },
    {
      "cell_type": "code",
      "source": [
        "pip install numpy scikit-learn"
      ],
      "metadata": {
        "colab": {
          "base_uri": "https://localhost:8080/"
        },
        "id": "NkMIZ0jXfAtK",
        "outputId": "f82470b5-0279-4d24-e306-07df0bf9d2de"
      },
      "execution_count": 26,
      "outputs": [
        {
          "output_type": "stream",
          "name": "stdout",
          "text": [
            "Requirement already satisfied: numpy in /usr/local/lib/python3.11/dist-packages (1.26.4)\n",
            "Requirement already satisfied: scikit-learn in /usr/local/lib/python3.11/dist-packages (1.6.1)\n",
            "Requirement already satisfied: scipy>=1.6.0 in /usr/local/lib/python3.11/dist-packages (from scikit-learn) (1.13.1)\n",
            "Requirement already satisfied: joblib>=1.2.0 in /usr/local/lib/python3.11/dist-packages (from scikit-learn) (1.4.2)\n",
            "Requirement already satisfied: threadpoolctl>=3.1.0 in /usr/local/lib/python3.11/dist-packages (from scikit-learn) (3.5.0)\n"
          ]
        }
      ]
    },
    {
      "cell_type": "code",
      "source": [
        "import numpy as np\n",
        "from sklearn.datasets import make_classification\n",
        "from sklearn.model_selection import train_test_split\n",
        "from sklearn.linear_model import LogisticRegression\n",
        "from sklearn.metrics import cohen_kappa_score, accuracy_score\n",
        "\n",
        "# Generate a synthetic binary classification dataset\n",
        "X, y = make_classification(n_samples=1000, n_features=20, n_classes=2,\n",
        "                           n_informative=10, n_redundant=5, random_state=42)\n",
        "\n",
        "# Split the dataset into training and testing sets\n",
        "X_train, X_test, y_train, y_test = train_test_split(X, y, test_size=0.3, random_state=42)\n",
        "\n",
        "# Create and train the Logistic Regression model\n",
        "model = LogisticRegression(max_iter=1000)\n",
        "model.fit(X_train, y_train)\n",
        "\n",
        "# Make predictions\n",
        "y_pred = model.predict(X_test)\n",
        "\n",
        "# Calculate accuracy\n",
        "accuracy = accuracy_score(y_test, y_pred)\n",
        "print(f'Accuracy of Logistic Regression: {accuracy:.2f}')\n",
        "\n",
        "# Calculate Cohen's Kappa score\n",
        "kappa_score = cohen_kappa_score(y_test, y_pred)\n",
        "print(f\"Cohen's Kappa Score: {kappa_score:.2f}\")"
      ],
      "metadata": {
        "colab": {
          "base_uri": "https://localhost:8080/"
        },
        "id": "0mK-t5grfAwn",
        "outputId": "0acd8347-d030-4a61-f2c5-7fc919cfba55"
      },
      "execution_count": 27,
      "outputs": [
        {
          "output_type": "stream",
          "name": "stdout",
          "text": [
            "Accuracy of Logistic Regression: 0.84\n",
            "Cohen's Kappa Score: 0.67\n"
          ]
        }
      ]
    },
    {
      "cell_type": "markdown",
      "source": [
        "20.Write a Python program to train Logistic Regression with different solvers (liblinear, saga, lbfgs) and compare\n",
        "their accuracyM"
      ],
      "metadata": {
        "id": "f57MbmLIYMdt"
      }
    },
    {
      "cell_type": "markdown",
      "source": [
        "To train a Logistic Regression model using different solvers (liblinear, saga, and lbfgs) and compare their accuracy, you can follow these steps:\n",
        "\n",
        "Load a dataset (we'll use a synthetic dataset for this example).\n",
        "Split the dataset into training and testing sets.\n",
        "Train the Logistic Regression model using each solver.\n",
        "Evaluate and compare the accuracy of each model.\n",
        "Make sure you have the required libraries installed. You can install them using pip if you haven't already:"
      ],
      "metadata": {
        "id": "YNeJG_FUYMgX"
      }
    },
    {
      "cell_type": "code",
      "source": [
        "pip install numpy scikit-learn"
      ],
      "metadata": {
        "colab": {
          "base_uri": "https://localhost:8080/"
        },
        "id": "VCTBs6gcgBNW",
        "outputId": "287e9bb0-d31a-438a-9872-94da745a94d3"
      },
      "execution_count": 28,
      "outputs": [
        {
          "output_type": "stream",
          "name": "stdout",
          "text": [
            "Requirement already satisfied: numpy in /usr/local/lib/python3.11/dist-packages (1.26.4)\n",
            "Requirement already satisfied: scikit-learn in /usr/local/lib/python3.11/dist-packages (1.6.1)\n",
            "Requirement already satisfied: scipy>=1.6.0 in /usr/local/lib/python3.11/dist-packages (from scikit-learn) (1.13.1)\n",
            "Requirement already satisfied: joblib>=1.2.0 in /usr/local/lib/python3.11/dist-packages (from scikit-learn) (1.4.2)\n",
            "Requirement already satisfied: threadpoolctl>=3.1.0 in /usr/local/lib/python3.11/dist-packages (from scikit-learn) (3.5.0)\n"
          ]
        }
      ]
    },
    {
      "cell_type": "code",
      "source": [
        "import numpy as np\n",
        "from sklearn.datasets import make_classification\n",
        "from sklearn.model_selection import train_test_split\n",
        "from sklearn.linear_model import LogisticRegression\n",
        "from sklearn.metrics import accuracy_score\n",
        "\n",
        "# Generate a synthetic binary classification dataset\n",
        "X, y = make_classification(n_samples=1000, n_features=20, n_classes=2,\n",
        "                           n_informative=10, n_redundant=5, random_state=42)\n",
        "\n",
        "# Split the dataset into training and testing sets\n",
        "X_train, X_test, y_train, y_test = train_test_split(X, y, test_size=0.3, random_state=42)\n",
        "\n",
        "# List of solvers to evaluate\n",
        "solvers = ['liblinear', 'saga', 'lbfgs']\n",
        "accuracies = {}\n",
        "\n",
        "# Train and evaluate Logistic Regression with different solvers\n",
        "for solver in solvers:\n",
        "    model = LogisticRegression(solver=solver, max_iter=1000)\n",
        "    model.fit(X_train, y_train)\n",
        "    y_pred = model.predict(X_test)\n",
        "    accuracy = accuracy_score(y_test, y_pred)\n",
        "    accuracies[solver] = accuracy\n",
        "    print(f'Accuracy of Logistic Regression with solver \"{solver}\": {accuracy:.2f}')\n",
        "\n",
        "# Compare accuracies\n",
        "print(\"\\nComparison of Accuracies:\")\n",
        "for solver, accuracy in accuracies.items():\n",
        "    print(f'Solver: {solver}, Accuracy: {accuracy:.2f}')"
      ],
      "metadata": {
        "colab": {
          "base_uri": "https://localhost:8080/"
        },
        "id": "j1hqHU6egBQm",
        "outputId": "3c76bae3-69bf-43ec-b83b-2831816855ed"
      },
      "execution_count": 29,
      "outputs": [
        {
          "output_type": "stream",
          "name": "stdout",
          "text": [
            "Accuracy of Logistic Regression with solver \"liblinear\": 0.84\n",
            "Accuracy of Logistic Regression with solver \"saga\": 0.84\n",
            "Accuracy of Logistic Regression with solver \"lbfgs\": 0.84\n",
            "\n",
            "Comparison of Accuracies:\n",
            "Solver: liblinear, Accuracy: 0.84\n",
            "Solver: saga, Accuracy: 0.84\n",
            "Solver: lbfgs, Accuracy: 0.84\n"
          ]
        }
      ]
    },
    {
      "cell_type": "markdown",
      "source": [
        "21 Write a Python program to train Logistic Regression and visualize the Precision-Recall Curve for binary\n",
        "classification"
      ],
      "metadata": {
        "id": "DEi75TyTYMja"
      }
    },
    {
      "cell_type": "markdown",
      "source": [
        "To train a Logistic Regression model and visualize the Precision-Recall curve for binary classification, you can follow these steps:\n",
        "\n",
        "Load a dataset (we'll use a synthetic dataset for this example).\n",
        "Split the dataset into training and testing sets.\n",
        "Train the Logistic Regression model.\n",
        "Calculate precision and recall at various thresholds.\n",
        "Plot the Precision-Recall curve.\n",
        "The Precision-Recall curve is particularly useful for evaluating the performance of a binary classifier, especially when dealing with imbalanced datasets.\n",
        "\n",
        "Make sure you have the required libraries installed. You can install them using pip if you haven't already:"
      ],
      "metadata": {
        "id": "BZsJdMv4YMmr"
      }
    },
    {
      "cell_type": "code",
      "source": [
        "pip install numpy scikit-learn matplotlib"
      ],
      "metadata": {
        "colab": {
          "base_uri": "https://localhost:8080/"
        },
        "id": "M6k5qCzJgmDV",
        "outputId": "fccf2ff7-8b6b-4ab2-f8cf-8b6873818b41"
      },
      "execution_count": 30,
      "outputs": [
        {
          "output_type": "stream",
          "name": "stdout",
          "text": [
            "Requirement already satisfied: numpy in /usr/local/lib/python3.11/dist-packages (1.26.4)\n",
            "Requirement already satisfied: scikit-learn in /usr/local/lib/python3.11/dist-packages (1.6.1)\n",
            "Requirement already satisfied: matplotlib in /usr/local/lib/python3.11/dist-packages (3.10.0)\n",
            "Requirement already satisfied: scipy>=1.6.0 in /usr/local/lib/python3.11/dist-packages (from scikit-learn) (1.13.1)\n",
            "Requirement already satisfied: joblib>=1.2.0 in /usr/local/lib/python3.11/dist-packages (from scikit-learn) (1.4.2)\n",
            "Requirement already satisfied: threadpoolctl>=3.1.0 in /usr/local/lib/python3.11/dist-packages (from scikit-learn) (3.5.0)\n",
            "Requirement already satisfied: contourpy>=1.0.1 in /usr/local/lib/python3.11/dist-packages (from matplotlib) (1.3.1)\n",
            "Requirement already satisfied: cycler>=0.10 in /usr/local/lib/python3.11/dist-packages (from matplotlib) (0.12.1)\n",
            "Requirement already satisfied: fonttools>=4.22.0 in /usr/local/lib/python3.11/dist-packages (from matplotlib) (4.56.0)\n",
            "Requirement already satisfied: kiwisolver>=1.3.1 in /usr/local/lib/python3.11/dist-packages (from matplotlib) (1.4.8)\n",
            "Requirement already satisfied: packaging>=20.0 in /usr/local/lib/python3.11/dist-packages (from matplotlib) (24.2)\n",
            "Requirement already satisfied: pillow>=8 in /usr/local/lib/python3.11/dist-packages (from matplotlib) (11.1.0)\n",
            "Requirement already satisfied: pyparsing>=2.3.1 in /usr/local/lib/python3.11/dist-packages (from matplotlib) (3.2.1)\n",
            "Requirement already satisfied: python-dateutil>=2.7 in /usr/local/lib/python3.11/dist-packages (from matplotlib) (2.8.2)\n",
            "Requirement already satisfied: six>=1.5 in /usr/local/lib/python3.11/dist-packages (from python-dateutil>=2.7->matplotlib) (1.17.0)\n"
          ]
        }
      ]
    },
    {
      "cell_type": "code",
      "source": [
        "import numpy as np\n",
        "import matplotlib.pyplot as plt\n",
        "from sklearn.datasets import make_classification\n",
        "from sklearn.model_selection import train_test_split\n",
        "from sklearn.linear_model import LogisticRegression\n",
        "from sklearn.metrics import precision_recall_curve, average_precision_score\n",
        "\n",
        "# Generate a synthetic binary classification dataset\n",
        "X, y = make_classification(n_samples=1000, n_features=20, n_classes=2,\n",
        "                           n_informative=10, n_redundant=5, random_state=42)\n",
        "\n",
        "# Split the dataset into training and testing sets\n",
        "X_train, X_test, y_train, y_test = train_test_split(X, y, test_size=0.3, random_state=42)\n",
        "\n",
        "# Create and train the Logistic Regression model\n",
        "model = LogisticRegression(max_iter=1000)\n",
        "model.fit(X_train, y_train)\n",
        "\n",
        "# Get predicted probabilities for the positive class\n",
        "y_scores = model.predict_proba(X_test)[:, 1]\n",
        "\n",
        "# Calculate precision and recall\n",
        "precision, recall, thresholds = precision_recall_curve(y_test, y_scores)\n",
        "\n",
        "# Calculate average precision score\n",
        "average_precision = average_precision_score(y_test, y_scores)\n",
        "print(f'Average Precision Score: {average_precision:.2f}')\n",
        "\n",
        "# Plot Precision-Recall curve\n",
        "plt.figure(figsize=(8, 6))\n",
        "plt.plot(recall, precision, color='blue', label='Precision-Recall curve')\n",
        "plt.xlabel('Recall')\n",
        "plt.ylabel('Precision')\n",
        "plt.title('Precision-Recall Curve')\n",
        "plt.xlim([0.0, 1.0])\n",
        "plt.ylim([0.0, 1.05])\n",
        "plt.axhline(0.5, color='red', linestyle='--')  # Reference line for precision\n",
        "plt.axvline(0.5, color='green', linestyle='--')  # Reference line for recall\n",
        "plt.legend(loc='lower left')\n",
        "plt.grid()\n",
        "plt.show()"
      ],
      "metadata": {
        "colab": {
          "base_uri": "https://localhost:8080/",
          "height": 581
        },
        "id": "cdxT5bKsgmGw",
        "outputId": "a8e03165-901f-4ad4-9d4d-16b5b6718793"
      },
      "execution_count": 31,
      "outputs": [
        {
          "output_type": "stream",
          "name": "stdout",
          "text": [
            "Average Precision Score: 0.86\n"
          ]
        },
        {
          "output_type": "display_data",
          "data": {
            "text/plain": [
              "<Figure size 800x600 with 1 Axes>"
            ],
            "image/png": "[encoded data removed]"
          },
          "metadata": {}
        }
      ]
    },
    {
      "cell_type": "markdown",
      "source": [
        "22.  Write a Python program to train Logistic Regression and evaluate its performance using Matthews\n",
        "Correlation Coefficient (MCC)M"
      ],
      "metadata": {
        "id": "uH8xpme3YMpv"
      }
    },
    {
      "cell_type": "markdown",
      "source": [
        "Certainly! Below is a Python program that demonstrates how to train a Logistic Regression model using the scikit-learn library and evaluate its performance using the Matthews Correlation Coefficient (MCC).\n",
        "\n",
        "We'll use a synthetic dataset for this example, but you can replace it with your own dataset as needed.\n",
        "\n",
        "Python Program"
      ],
      "metadata": {
        "id": "BwbicNVCYMtJ"
      }
    },
    {
      "cell_type": "code",
      "source": [
        "pip install numpy pandas scikit-learn"
      ],
      "metadata": {
        "colab": {
          "base_uri": "https://localhost:8080/"
        },
        "id": "cXk4iSX_g2GM",
        "outputId": "58fcaea8-1294-4296-ef09-603d908f6d12"
      },
      "execution_count": 32,
      "outputs": [
        {
          "output_type": "stream",
          "name": "stdout",
          "text": [
            "Requirement already satisfied: numpy in /usr/local/lib/python3.11/dist-packages (1.26.4)\n",
            "Requirement already satisfied: pandas in /usr/local/lib/python3.11/dist-packages (2.2.2)\n",
            "Requirement already satisfied: scikit-learn in /usr/local/lib/python3.11/dist-packages (1.6.1)\n",
            "Requirement already satisfied: python-dateutil>=2.8.2 in /usr/local/lib/python3.11/dist-packages (from pandas) (2.8.2)\n",
            "Requirement already satisfied: pytz>=2020.1 in /usr/local/lib/python3.11/dist-packages (from pandas) (2025.1)\n",
            "Requirement already satisfied: tzdata>=2022.7 in /usr/local/lib/python3.11/dist-packages (from pandas) (2025.1)\n",
            "Requirement already satisfied: scipy>=1.6.0 in /usr/local/lib/python3.11/dist-packages (from scikit-learn) (1.13.1)\n",
            "Requirement already satisfied: joblib>=1.2.0 in /usr/local/lib/python3.11/dist-packages (from scikit-learn) (1.4.2)\n",
            "Requirement already satisfied: threadpoolctl>=3.1.0 in /usr/local/lib/python3.11/dist-packages (from scikit-learn) (3.5.0)\n",
            "Requirement already satisfied: six>=1.5 in /usr/local/lib/python3.11/dist-packages (from python-dateutil>=2.8.2->pandas) (1.17.0)\n"
          ]
        }
      ]
    },
    {
      "cell_type": "code",
      "source": [
        "import numpy as np\n",
        "import pandas as pd\n",
        "from sklearn.datasets import make_classification\n",
        "from sklearn.model_selection import train_test_split\n",
        "from sklearn.linear_model import LogisticRegression\n",
        "from sklearn.metrics import matthews_corrcoef\n",
        "\n",
        "# Generate a synthetic dataset\n",
        "X, y = make_classification(n_samples=1000, n_features=20, n_classes=2, random_state=42)\n",
        "\n",
        "# Split the dataset into training and testing sets\n",
        "X_train, X_test, y_train, y_test = train_test_split(X, y, test_size=0.2, random_state=42)\n",
        "\n",
        "# Create a Logistic Regression model\n",
        "model = LogisticRegression()\n",
        "\n",
        "# Train the model\n",
        "model.fit(X_train, y_train)\n",
        "\n",
        "# Make predictions\n",
        "y_pred = model.predict(X_test)\n",
        "\n",
        "# Calculate Matthews Correlation Coefficient (MCC)\n",
        "mcc = matthews_corrcoef(y_test, y_pred)\n",
        "\n",
        "# Print the MCC\n",
        "print(f'Matthews Correlation Coefficient: {mcc:.4f}')"
      ],
      "metadata": {
        "colab": {
          "base_uri": "https://localhost:8080/"
        },
        "id": "XM69APoWg2Jg",
        "outputId": "620e4474-7575-4eea-cd66-6cb4baab431a"
      },
      "execution_count": 33,
      "outputs": [
        {
          "output_type": "stream",
          "name": "stdout",
          "text": [
            "Matthews Correlation Coefficient: 0.7172\n"
          ]
        }
      ]
    },
    {
      "cell_type": "markdown",
      "source": [
        "23. Write a Python program to train Logistic Regression on both raw and standardized data. Compare their\n",
        "accuracy to see the impact of feature scaling"
      ],
      "metadata": {
        "id": "-vOqp4B_YMw9"
      }
    },
    {
      "cell_type": "markdown",
      "source": [
        "Certainly! Below is a Python program that trains a Logistic Regression model on both raw and standardized data, and then compares their accuracy to see the impact of feature scaling.\n",
        "\n",
        "Python Program"
      ],
      "metadata": {
        "id": "R2Gb0FtbhM1z"
      }
    },
    {
      "cell_type": "code",
      "source": [
        "pip install numpy pandas scikit-learn"
      ],
      "metadata": {
        "colab": {
          "base_uri": "https://localhost:8080/"
        },
        "id": "B8pTRTRVhUQt",
        "outputId": "61a93541-c9fb-437f-ef0c-9202535d8829"
      },
      "execution_count": 34,
      "outputs": [
        {
          "output_type": "stream",
          "name": "stdout",
          "text": [
            "Requirement already satisfied: numpy in /usr/local/lib/python3.11/dist-packages (1.26.4)\n",
            "Requirement already satisfied: pandas in /usr/local/lib/python3.11/dist-packages (2.2.2)\n",
            "Requirement already satisfied: scikit-learn in /usr/local/lib/python3.11/dist-packages (1.6.1)\n",
            "Requirement already satisfied: python-dateutil>=2.8.2 in /usr/local/lib/python3.11/dist-packages (from pandas) (2.8.2)\n",
            "Requirement already satisfied: pytz>=2020.1 in /usr/local/lib/python3.11/dist-packages (from pandas) (2025.1)\n",
            "Requirement already satisfied: tzdata>=2022.7 in /usr/local/lib/python3.11/dist-packages (from pandas) (2025.1)\n",
            "Requirement already satisfied: scipy>=1.6.0 in /usr/local/lib/python3.11/dist-packages (from scikit-learn) (1.13.1)\n",
            "Requirement already satisfied: joblib>=1.2.0 in /usr/local/lib/python3.11/dist-packages (from scikit-learn) (1.4.2)\n",
            "Requirement already satisfied: threadpoolctl>=3.1.0 in /usr/local/lib/python3.11/dist-packages (from scikit-learn) (3.5.0)\n",
            "Requirement already satisfied: six>=1.5 in /usr/local/lib/python3.11/dist-packages (from python-dateutil>=2.8.2->pandas) (1.17.0)\n"
          ]
        }
      ]
    },
    {
      "cell_type": "code",
      "source": [
        "import numpy as np\n",
        "import pandas as pd\n",
        "from sklearn.datasets import make_classification\n",
        "from sklearn.model_selection import train_test_split\n",
        "from sklearn.linear_model import LogisticRegression\n",
        "from sklearn.metrics import accuracy_score\n",
        "from sklearn.preprocessing import StandardScaler\n",
        "\n",
        "# Generate a synthetic dataset\n",
        "X, y = make_classification(n_samples=1000, n_features=20, n_classes=2, random_state=42)\n",
        "\n",
        "# Split the dataset into training and testing sets\n",
        "X_train, X_test, y_train, y_test = train_test_split(X, y, test_size=0.2, random_state=42)\n",
        "\n",
        "# Train Logistic Regression on raw data\n",
        "model_raw = LogisticRegression(max_iter=1000)\n",
        "model_raw.fit(X_train, y_train)\n",
        "y_pred_raw = model_raw.predict(X_test)\n",
        "accuracy_raw = accuracy_score(y_test, y_pred_raw)\n",
        "\n",
        "# Standardize the features\n",
        "scaler = StandardScaler()\n",
        "X_train_scaled = scaler.fit_transform(X_train)\n",
        "X_test_scaled = scaler.transform(X_test)\n",
        "\n",
        "# Train Logistic Regression on standardized data\n",
        "model_scaled = LogisticRegression(max_iter=1000)\n",
        "model_scaled.fit(X_train_scaled, y_train)\n",
        "y_pred_scaled = model_scaled.predict(X_test_scaled)\n",
        "accuracy_scaled = accuracy_score(y_test, y_pred_scaled)\n",
        "\n",
        "# Print the accuracies\n",
        "print(f'Accuracy on raw data: {accuracy_raw:.4f}')\n",
        "print(f'Accuracy on standardized data: {accuracy_scaled:.4f}')"
      ],
      "metadata": {
        "colab": {
          "base_uri": "https://localhost:8080/"
        },
        "id": "yYhHdllChUV4",
        "outputId": "ed5d2511-3de8-4947-8274-24279f6abbae"
      },
      "execution_count": 35,
      "outputs": [
        {
          "output_type": "stream",
          "name": "stdout",
          "text": [
            "Accuracy on raw data: 0.8550\n",
            "Accuracy on standardized data: 0.8550\n"
          ]
        }
      ]
    },
    {
      "cell_type": "markdown",
      "source": [
        "24. Write a Python program to train Logistic Regression and find the optimal C (regularization strength) using\n",
        "cross-validationM"
      ],
      "metadata": {
        "id": "bn-L8UsNhM5F"
      }
    },
    {
      "cell_type": "markdown",
      "source": [
        "Certainly! Below is a Python program that trains a Logistic Regression model and finds the optimal regularization strength parameter ( C ) using cross-validation. We will use GridSearchCV from scikit-learn to perform cross-validation and hyperparameter tuning."
      ],
      "metadata": {
        "id": "tdC7e6gihM9R"
      }
    },
    {
      "cell_type": "code",
      "source": [
        "pip install numpy pandas scikit-learn"
      ],
      "metadata": {
        "colab": {
          "base_uri": "https://localhost:8080/"
        },
        "id": "YZc0M-YQhqd9",
        "outputId": "e0024875-7cac-4960-98b3-48920b91a1c1"
      },
      "execution_count": 36,
      "outputs": [
        {
          "output_type": "stream",
          "name": "stdout",
          "text": [
            "Requirement already satisfied: numpy in /usr/local/lib/python3.11/dist-packages (1.26.4)\n",
            "Requirement already satisfied: pandas in /usr/local/lib/python3.11/dist-packages (2.2.2)\n",
            "Requirement already satisfied: scikit-learn in /usr/local/lib/python3.11/dist-packages (1.6.1)\n",
            "Requirement already satisfied: python-dateutil>=2.8.2 in /usr/local/lib/python3.11/dist-packages (from pandas) (2.8.2)\n",
            "Requirement already satisfied: pytz>=2020.1 in /usr/local/lib/python3.11/dist-packages (from pandas) (2025.1)\n",
            "Requirement already satisfied: tzdata>=2022.7 in /usr/local/lib/python3.11/dist-packages (from pandas) (2025.1)\n",
            "Requirement already satisfied: scipy>=1.6.0 in /usr/local/lib/python3.11/dist-packages (from scikit-learn) (1.13.1)\n",
            "Requirement already satisfied: joblib>=1.2.0 in /usr/local/lib/python3.11/dist-packages (from scikit-learn) (1.4.2)\n",
            "Requirement already satisfied: threadpoolctl>=3.1.0 in /usr/local/lib/python3.11/dist-packages (from scikit-learn) (3.5.0)\n",
            "Requirement already satisfied: six>=1.5 in /usr/local/lib/python3.11/dist-packages (from python-dateutil>=2.8.2->pandas) (1.17.0)\n"
          ]
        }
      ]
    },
    {
      "cell_type": "code",
      "source": [
        "import numpy as np\n",
        "import pandas as pd\n",
        "from sklearn.datasets import make_classification\n",
        "from sklearn.model_selection import train_test_split, GridSearchCV\n",
        "from sklearn.linear_model import LogisticRegression\n",
        "from sklearn.metrics import accuracy_score\n",
        "\n",
        "# Generate a synthetic dataset\n",
        "X, y = make_classification(n_samples=1000, n_features=20, n_classes=2, random_state=42)\n",
        "\n",
        "# Split the dataset into training and testing sets\n",
        "X_train, X_test, y_train, y_test = train_test_split(X, y, test_size=0.2, random_state=42)\n",
        "\n",
        "# Define the model\n",
        "model = LogisticRegression(max_iter=1000)\n",
        "\n",
        "# Define the parameter grid for C\n",
        "param_grid = {\n",
        "    'C': np.logspace(-4, 4, 20)  # C values from 0.0001 to 10000\n",
        "}\n",
        "\n",
        "# Set up GridSearchCV\n",
        "grid_search = GridSearchCV(estimator=model, param_grid=param_grid, cv=5, scoring='accuracy', n_jobs=-1)\n",
        "\n",
        "# Fit GridSearchCV\n",
        "grid_search.fit(X_train, y_train)\n",
        "\n",
        "# Get the best parameters and the best score\n",
        "best_C = grid_search.best_params_['C']\n",
        "best_score = grid_search.best_score_\n",
        "\n",
        "# Train the model with the best C on the entire training set\n",
        "best_model = LogisticRegression(C=best_C, max_iter=1000)\n",
        "best_model.fit(X_train, y_train)\n",
        "\n",
        "# Make predictions on the test set\n",
        "y_pred = best_model.predict(X_test)\n",
        "accuracy = accuracy_score(y_test, y_pred)\n",
        "\n",
        "# Print the results\n",
        "print(f'Optimal C: {best_C:.4f}')\n",
        "print(f'Best cross-validation accuracy: {best_score:.4f}')\n",
        "print(f'Test set accuracy with optimal C: {accuracy:.4f}')"
      ],
      "metadata": {
        "colab": {
          "base_uri": "https://localhost:8080/"
        },
        "id": "cA34rLVXhqhh",
        "outputId": "28a479bc-e950-4cb7-e1f0-1ea435c1570e"
      },
      "execution_count": 37,
      "outputs": [
        {
          "output_type": "stream",
          "name": "stdout",
          "text": [
            "Optimal C: 0.0886\n",
            "Best cross-validation accuracy: 0.8700\n",
            "Test set accuracy with optimal C: 0.8650\n"
          ]
        }
      ]
    },
    {
      "cell_type": "markdown",
      "source": [
        "25. Write a Python program to train Logistic Regression, save the trained model using joblib, and load it again to\n",
        "make predictions."
      ],
      "metadata": {
        "id": "4zk3YkpAhNET"
      }
    },
    {
      "cell_type": "markdown",
      "source": [
        "Certainly! Below is a complete Python program that demonstrates how to train a Logistic Regression model, save the trained model using joblib, and then load it again to make predictions.\n",
        "\n",
        "Python Program"
      ],
      "metadata": {
        "id": "wWLiNX8dhNHs"
      }
    },
    {
      "cell_type": "code",
      "source": [
        "pip install numpy pandas scikit-learn joblib"
      ],
      "metadata": {
        "colab": {
          "base_uri": "https://localhost:8080/"
        },
        "id": "905iXD-Uh-2X",
        "outputId": "666bb66f-0da7-4eb8-e780-5720ebd90570"
      },
      "execution_count": 38,
      "outputs": [
        {
          "output_type": "stream",
          "name": "stdout",
          "text": [
            "Requirement already satisfied: numpy in /usr/local/lib/python3.11/dist-packages (1.26.4)\n",
            "Requirement already satisfied: pandas in /usr/local/lib/python3.11/dist-packages (2.2.2)\n",
            "Requirement already satisfied: scikit-learn in /usr/local/lib/python3.11/dist-packages (1.6.1)\n",
            "Requirement already satisfied: joblib in /usr/local/lib/python3.11/dist-packages (1.4.2)\n",
            "Requirement already satisfied: python-dateutil>=2.8.2 in /usr/local/lib/python3.11/dist-packages (from pandas) (2.8.2)\n",
            "Requirement already satisfied: pytz>=2020.1 in /usr/local/lib/python3.11/dist-packages (from pandas) (2025.1)\n",
            "Requirement already satisfied: tzdata>=2022.7 in /usr/local/lib/python3.11/dist-packages (from pandas) (2025.1)\n",
            "Requirement already satisfied: scipy>=1.6.0 in /usr/local/lib/python3.11/dist-packages (from scikit-learn) (1.13.1)\n",
            "Requirement already satisfied: threadpoolctl>=3.1.0 in /usr/local/lib/python3.11/dist-packages (from scikit-learn) (3.5.0)\n",
            "Requirement already satisfied: six>=1.5 in /usr/local/lib/python3.11/dist-packages (from python-dateutil>=2.8.2->pandas) (1.17.0)\n"
          ]
        }
      ]
    },
    {
      "cell_type": "code",
      "source": [
        "import numpy as np\n",
        "import pandas as pd\n",
        "from sklearn.datasets import make_classification\n",
        "from sklearn.model_selection import train_test_split\n",
        "from sklearn.linear_model import LogisticRegression\n",
        "from sklearn.metrics import accuracy_score\n",
        "import joblib\n",
        "\n",
        "# Step 1: Generate a synthetic dataset\n",
        "X, y = make_classification(n_samples=1000, n_features=20, n_classes=2, random_state=42)\n",
        "\n",
        "# Step 2: Split the dataset into training and testing sets\n",
        "X_train, X_test, y_train, y_test = train_test_split(X, y, test_size=0.2, random_state=42)\n",
        "\n",
        "# Step 3: Create and train the Logistic Regression model\n",
        "model = LogisticRegression(max_iter=1000)\n",
        "model.fit(X_train, y_train)\n",
        "\n",
        "# Step 4: Save the trained model using joblib\n",
        "model_filename = 'logistic_regression_model.joblib'\n",
        "joblib.dump(model, model_filename)\n",
        "print(f'Model saved to {model_filename}')\n",
        "\n",
        "# Step 5: Load the model from the file\n",
        "loaded_model = joblib.load(model_filename)\n",
        "print('Model loaded from file.')\n",
        "\n",
        "# Step 6: Make predictions using the loaded model\n",
        "y_pred = loaded_model.predict(X_test)\n",
        "\n",
        "# Step 7: Calculate accuracy\n",
        "accuracy = accuracy_score(y_test, y_pred)\n",
        "print(f'Test set accuracy: {accuracy:.4f}')"
      ],
      "metadata": {
        "colab": {
          "base_uri": "https://localhost:8080/"
        },
        "id": "0kCWXvA8h-6J",
        "outputId": "7d74788a-98b4-4c6a-e921-09de8ab09799"
      },
      "execution_count": 39,
      "outputs": [
        {
          "output_type": "stream",
          "name": "stdout",
          "text": [
            "Model saved to logistic_regression_model.joblib\n",
            "Model loaded from file.\n",
            "Test set accuracy: 0.8550\n"
          ]
        }
      ]
    },
    {
      "cell_type": "markdown",
      "source": [],
      "metadata": {
        "id": "O798nwrWhNLF"
      }
    }
  ]
}